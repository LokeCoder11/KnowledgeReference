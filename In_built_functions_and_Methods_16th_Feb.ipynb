{
  "nbformat": 4,
  "nbformat_minor": 0,
  "metadata": {
    "colab": {
      "provenance": [],
      "include_colab_link": true
    },
    "kernelspec": {
      "name": "python3",
      "display_name": "Python 3"
    },
    "language_info": {
      "name": "python"
    }
  },
  "cells": [
    {
      "cell_type": "markdown",
      "metadata": {
        "id": "view-in-github",
        "colab_type": "text"
      },
      "source": [
        "<a href=\"https://colab.research.google.com/github/LokeCoder11/KnowledgeReference/blob/main/In_built_functions_and_Methods_16th_Feb.ipynb\" target=\"_parent\"><img src=\"https://colab.research.google.com/assets/colab-badge.svg\" alt=\"Open In Colab\"/></a>"
      ]
    },
    {
      "cell_type": "markdown",
      "source": [
        "### Operators Revision"
      ],
      "metadata": {
        "id": "CW6eDLpiojWv"
      }
    },
    {
      "cell_type": "code",
      "source": [
        "# Operators in Data types (Revision)\n",
        "x = 4\n",
        "x /= 2 # /= : Assignment Operator\n",
        "print(x) # Output: 2.0, In case of division output in float"
      ],
      "metadata": {
        "colab": {
          "base_uri": "https://localhost:8080/"
        },
        "id": "ZnWG78jpYjI-",
        "outputId": "515ca364-89a0-4856-fd8f-07b09ea47897"
      },
      "execution_count": null,
      "outputs": [
        {
          "output_type": "stream",
          "name": "stdout",
          "text": [
            "2.0\n"
          ]
        }
      ]
    },
    {
      "cell_type": "code",
      "source": [
        "ex = { 2 : [4,5], 3 : ['a','b'] }\n",
        "print(ex[2] + ex[3])"
      ],
      "metadata": {
        "colab": {
          "base_uri": "https://localhost:8080/"
        },
        "id": "wvlli0ADZCrd",
        "outputId": "42b7e360-0997-4fb5-80ff-7383fd4ea9e3"
      },
      "execution_count": null,
      "outputs": [
        {
          "output_type": "stream",
          "name": "stdout",
          "text": [
            "[4, 5, 'a', 'b']\n"
          ]
        }
      ]
    },
    {
      "cell_type": "code",
      "source": [
        "[4 , 5 ] + [ 'a','b']"
      ],
      "metadata": {
        "colab": {
          "base_uri": "https://localhost:8080/"
        },
        "id": "vEligBBqZUZy",
        "outputId": "dac694fd-d348-425d-fa5c-abc3804c0b70"
      },
      "execution_count": null,
      "outputs": [
        {
          "output_type": "execute_result",
          "data": {
            "text/plain": [
              "[4, 5, 'a', 'b']"
            ]
          },
          "metadata": {},
          "execution_count": 82
        }
      ]
    },
    {
      "cell_type": "code",
      "source": [
        "ex1 = {1:2, 3:4}\n",
        "ex2 = {4:5, 6:7}\n",
        "ex1 + ex2 # + : can't be applied on dictionary"
      ],
      "metadata": {
        "colab": {
          "base_uri": "https://localhost:8080/",
          "height": 176
        },
        "id": "Jtnr8PfyZwOA",
        "outputId": "9bc39173-117a-4190-9aef-4e7f200fc663"
      },
      "execution_count": null,
      "outputs": [
        {
          "output_type": "error",
          "ename": "TypeError",
          "evalue": "unsupported operand type(s) for +: 'dict' and 'dict'",
          "traceback": [
            "\u001b[0;31m---------------------------------------------------------------------------\u001b[0m",
            "\u001b[0;31mTypeError\u001b[0m                                 Traceback (most recent call last)",
            "\u001b[0;32m<ipython-input-83-7d8d6a0faa81>\u001b[0m in \u001b[0;36m<cell line: 3>\u001b[0;34m()\u001b[0m\n\u001b[1;32m      1\u001b[0m \u001b[0mex1\u001b[0m \u001b[0;34m=\u001b[0m \u001b[0;34m{\u001b[0m\u001b[0;36m1\u001b[0m\u001b[0;34m:\u001b[0m\u001b[0;36m2\u001b[0m\u001b[0;34m,\u001b[0m \u001b[0;36m3\u001b[0m\u001b[0;34m:\u001b[0m\u001b[0;36m4\u001b[0m\u001b[0;34m}\u001b[0m\u001b[0;34m\u001b[0m\u001b[0;34m\u001b[0m\u001b[0m\n\u001b[1;32m      2\u001b[0m \u001b[0mex2\u001b[0m \u001b[0;34m=\u001b[0m \u001b[0;34m{\u001b[0m\u001b[0;36m4\u001b[0m\u001b[0;34m:\u001b[0m\u001b[0;36m5\u001b[0m\u001b[0;34m,\u001b[0m \u001b[0;36m6\u001b[0m\u001b[0;34m:\u001b[0m\u001b[0;36m7\u001b[0m\u001b[0;34m}\u001b[0m\u001b[0;34m\u001b[0m\u001b[0;34m\u001b[0m\u001b[0m\n\u001b[0;32m----> 3\u001b[0;31m \u001b[0mex1\u001b[0m \u001b[0;34m+\u001b[0m \u001b[0mex2\u001b[0m\u001b[0;34m\u001b[0m\u001b[0;34m\u001b[0m\u001b[0m\n\u001b[0m",
            "\u001b[0;31mTypeError\u001b[0m: unsupported operand type(s) for +: 'dict' and 'dict'"
          ]
        }
      ]
    },
    {
      "cell_type": "code",
      "source": [
        "ex1[3]"
      ],
      "metadata": {
        "colab": {
          "base_uri": "https://localhost:8080/"
        },
        "id": "OhpjwLIVakVZ",
        "outputId": "5c3d87c2-f369-4334-fb4c-d4790adaa91e"
      },
      "execution_count": null,
      "outputs": [
        {
          "output_type": "execute_result",
          "data": {
            "text/plain": [
              "4"
            ]
          },
          "metadata": {},
          "execution_count": 86
        }
      ]
    },
    {
      "cell_type": "code",
      "source": [
        "ex1[3] + ex2[6] # Output :11"
      ],
      "metadata": {
        "colab": {
          "base_uri": "https://localhost:8080/"
        },
        "id": "2MUqXfe-Z6TC",
        "outputId": "18543423-b6c6-4df0-cad0-429ae2fb2de1"
      },
      "execution_count": null,
      "outputs": [
        {
          "output_type": "execute_result",
          "data": {
            "text/plain": [
              "11"
            ]
          },
          "metadata": {},
          "execution_count": 85
        }
      ]
    },
    {
      "cell_type": "code",
      "source": [
        "x = 12\n",
        "y = 10\n",
        "z = 0\n",
        "\n",
        "(x < y) and (x != z) or not(x > z )"
      ],
      "metadata": {
        "colab": {
          "base_uri": "https://localhost:8080/"
        },
        "id": "rTRl3_ANauSo",
        "outputId": "1fb1c2b1-e3fc-4047-8bc2-a82bee93af42"
      },
      "execution_count": null,
      "outputs": [
        {
          "output_type": "execute_result",
          "data": {
            "text/plain": [
              "False"
            ]
          },
          "metadata": {},
          "execution_count": 87
        }
      ]
    },
    {
      "cell_type": "code",
      "source": [
        "ex1 = {1:2, 3:'hello'}\n",
        "ex2 = {4:5, 6:'world'}\n",
        "\n",
        "ex1[3] + ex2[6] # Concatenation is done by Python."
      ],
      "metadata": {
        "colab": {
          "base_uri": "https://localhost:8080/",
          "height": 35
        },
        "id": "A58MFxZEb1gK",
        "outputId": "5090cab9-3924-42f4-cf97-63d04bf6958a"
      },
      "execution_count": null,
      "outputs": [
        {
          "output_type": "execute_result",
          "data": {
            "text/plain": [
              "'helloworld'"
            ],
            "application/vnd.google.colaboratory.intrinsic+json": {
              "type": "string"
            }
          },
          "metadata": {},
          "execution_count": 88
        }
      ]
    },
    {
      "cell_type": "code",
      "source": [
        "# help(object)"
      ],
      "metadata": {
        "id": "_4X4FqmHfRXv"
      },
      "execution_count": null,
      "outputs": []
    },
    {
      "cell_type": "code",
      "source": [
        "# help(str)"
      ],
      "metadata": {
        "id": "ocYX4f05fmZ0"
      },
      "execution_count": null,
      "outputs": []
    },
    {
      "cell_type": "code",
      "execution_count": null,
      "metadata": {
        "id": "v_nm_H33Hx6F"
      },
      "outputs": [],
      "source": [
        "\n"
      ]
    },
    {
      "cell_type": "markdown",
      "source": [
        "## Fundamental Operations on different data types.\n",
        "\n",
        "### CRUDD\n",
        "\n",
        "### C : Create\n",
        "### R : Read\n",
        "### U : Update\n",
        "### D : Delete\n",
        "### D : Derivatives\n"
      ],
      "metadata": {
        "id": "CEhYXKjAoouA"
      }
    },
    {
      "cell_type": "markdown",
      "source": [
        "### Create : Create different types of data"
      ],
      "metadata": {
        "id": "-kqwzVAhQD4H"
      }
    },
    {
      "cell_type": "code",
      "source": [
        "# int, float, boolean\n",
        "\n",
        "x = int()\n",
        "y = float()\n",
        "z = bool()\n",
        "\n",
        "print(x)\n",
        "print(y)\n",
        "print(z)"
      ],
      "metadata": {
        "colab": {
          "base_uri": "https://localhost:8080/"
        },
        "id": "ZB-6g8-DOvRx",
        "outputId": "99375ac7-e6cd-438d-da0c-275518bdc53b"
      },
      "execution_count": null,
      "outputs": [
        {
          "output_type": "stream",
          "name": "stdout",
          "text": [
            "0\n",
            "0.0\n",
            "False\n"
          ]
        }
      ]
    },
    {
      "cell_type": "code",
      "source": [
        "x = 0\n",
        "y = 0.0\n",
        "z = False\n",
        "# Method is popular"
      ],
      "metadata": {
        "id": "EhV3l0cQje4r"
      },
      "execution_count": null,
      "outputs": []
    },
    {
      "cell_type": "code",
      "source": [
        "# x = set()\n",
        "# print(x)"
      ],
      "metadata": {
        "colab": {
          "base_uri": "https://localhost:8080/"
        },
        "id": "wlJX7hpXjVRD",
        "outputId": "ba053c8d-88eb-4aff-d267-8893580a886b"
      },
      "execution_count": null,
      "outputs": [
        {
          "output_type": "stream",
          "name": "stdout",
          "text": [
            "set()\n"
          ]
        }
      ]
    },
    {
      "cell_type": "markdown",
      "source": [
        "#### Typecasting"
      ],
      "metadata": {
        "id": "WMwFHu2Pp6T8"
      }
    },
    {
      "cell_type": "code",
      "source": [
        "ex = '1'\n",
        "type(ex)"
      ],
      "metadata": {
        "colab": {
          "base_uri": "https://localhost:8080/"
        },
        "id": "GY8iHTlGkdOA",
        "outputId": "798470fe-912c-4ff9-dbaf-3e3b97f23ad9"
      },
      "execution_count": null,
      "outputs": [
        {
          "output_type": "execute_result",
          "data": {
            "text/plain": [
              "str"
            ]
          },
          "metadata": {},
          "execution_count": 4
        }
      ]
    },
    {
      "cell_type": "code",
      "source": [
        "int(ex)"
      ],
      "metadata": {
        "colab": {
          "base_uri": "https://localhost:8080/"
        },
        "id": "SOBmBOFdkmds",
        "outputId": "25f85e55-b3e4-438c-b444-fa38f8e91a69"
      },
      "execution_count": null,
      "outputs": [
        {
          "output_type": "execute_result",
          "data": {
            "text/plain": [
              "1"
            ]
          },
          "metadata": {},
          "execution_count": 5
        }
      ]
    },
    {
      "cell_type": "code",
      "source": [
        "input('enter the age:')"
      ],
      "metadata": {
        "colab": {
          "base_uri": "https://localhost:8080/",
          "height": 53
        },
        "id": "P2OK4esolW3z",
        "outputId": "77a8fa27-4195-4022-f4c8-c2aac6d51142"
      },
      "execution_count": null,
      "outputs": [
        {
          "name": "stdout",
          "output_type": "stream",
          "text": [
            "enter the age:30\n"
          ]
        },
        {
          "output_type": "execute_result",
          "data": {
            "text/plain": [
              "'30'"
            ],
            "application/vnd.google.colaboratory.intrinsic+json": {
              "type": "string"
            }
          },
          "metadata": {},
          "execution_count": 11
        }
      ]
    },
    {
      "cell_type": "code",
      "source": [
        "x = int()\n",
        "print(type(x))"
      ],
      "metadata": {
        "colab": {
          "base_uri": "https://localhost:8080/"
        },
        "id": "kr3lM2qNliCX",
        "outputId": "ef7e3c7c-d2f6-44b8-b545-957d8e420a8e"
      },
      "execution_count": null,
      "outputs": [
        {
          "output_type": "stream",
          "name": "stdout",
          "text": [
            "<class 'int'>\n"
          ]
        }
      ]
    },
    {
      "cell_type": "code",
      "source": [],
      "metadata": {
        "id": "qYSJ0x2ol6wX"
      },
      "execution_count": null,
      "outputs": []
    },
    {
      "cell_type": "code",
      "source": [
        "type(x)"
      ],
      "metadata": {
        "colab": {
          "base_uri": "https://localhost:8080/"
        },
        "id": "mI0NwGc-luk-",
        "outputId": "05f31e92-bd1c-4209-ee47-8dc91fae4e49"
      },
      "execution_count": null,
      "outputs": [
        {
          "output_type": "execute_result",
          "data": {
            "text/plain": [
              "int"
            ]
          },
          "metadata": {},
          "execution_count": 18
        }
      ]
    },
    {
      "cell_type": "code",
      "source": [
        "x = 'a'\n",
        "type(x)"
      ],
      "metadata": {
        "colab": {
          "base_uri": "https://localhost:8080/"
        },
        "id": "o2L9bGkblpNv",
        "outputId": "05ba58c0-9883-4bf4-caab-9b7934487199"
      },
      "execution_count": null,
      "outputs": [
        {
          "output_type": "execute_result",
          "data": {
            "text/plain": [
              "str"
            ]
          },
          "metadata": {},
          "execution_count": 15
        }
      ]
    },
    {
      "cell_type": "code",
      "source": [
        "x = input('enter the age:') # Function : What's input is given is by default stored as string\n",
        "print(type(x))\n",
        "# x + 1\n"
      ],
      "metadata": {
        "colab": {
          "base_uri": "https://localhost:8080/"
        },
        "id": "iarUudHykxHt",
        "outputId": "3489bc6b-957d-43dd-e765-848f5943d55c"
      },
      "execution_count": null,
      "outputs": [
        {
          "output_type": "stream",
          "name": "stdout",
          "text": [
            "enter the age:30\n",
            "<class 'str'>\n"
          ]
        }
      ]
    },
    {
      "cell_type": "code",
      "source": [
        "# # String to Integer\n",
        "string_num = \"123\"\n",
        "int_num = int(string_num)\n",
        "print(int_num) # Output: 123\n",
        "type(int_num)\n",
        "# Note if any character is present like '123a' --> Then conversion will throw an error.\n",
        "# string_num = 'abc'\n",
        "# int(string_num)\n",
        "\n",
        "# # Float to Integer\n",
        "float_num = 45.67\n",
        "int_num = int(float_num)\n",
        "print(int_num)  # Output: 45 # Here it is not rounding off, directly taking number before the decimal.\n",
        "\n",
        "# # Boolean to Integer\n",
        "bool_value = False\n",
        "int_bool = int(bool_value)\n",
        "print(int_bool)  # Output: True : 1, False: 0"
      ],
      "metadata": {
        "id": "Gz6PT2VNPqN8",
        "colab": {
          "base_uri": "https://localhost:8080/"
        },
        "outputId": "c8436169-3d5d-4f05-e7e9-04ae56ee3ae4"
      },
      "execution_count": null,
      "outputs": [
        {
          "output_type": "stream",
          "name": "stdout",
          "text": [
            "123\n",
            "45\n",
            "0\n"
          ]
        }
      ]
    },
    {
      "cell_type": "code",
      "source": [
        "#\n",
        "string_num = \"123.45\"\n",
        "# How many characters are there? --> 6 characters\n"
      ],
      "metadata": {
        "id": "fr-Py612nEcQ"
      },
      "execution_count": null,
      "outputs": []
    },
    {
      "cell_type": "code",
      "source": [
        "# String to Float\n",
        "string_num = \"123.45\"\n",
        "float_num = float(string_num)\n",
        "print(float_num)  # Output: 123.45\n",
        "type(float_num)\n",
        "\n",
        "# # Integer to Float\n",
        "\n",
        "int_num = 123\n",
        "float_num = float(int_num)\n",
        "print(float_num)  # Output: 123.0\n",
        "\n",
        "# # Boolean to Float\n",
        "\n",
        "bool_value = True\n",
        "float_bool = float(bool_value)\n",
        "print(float_bool)  # Output: 1.0"
      ],
      "metadata": {
        "id": "U2ExtOEwP--1",
        "colab": {
          "base_uri": "https://localhost:8080/"
        },
        "outputId": "55a0081b-4593-42b0-84ba-d7b8e17c8d32"
      },
      "execution_count": null,
      "outputs": [
        {
          "output_type": "stream",
          "name": "stdout",
          "text": [
            "123.45\n",
            "123.0\n",
            "1.0\n"
          ]
        }
      ]
    },
    {
      "cell_type": "code",
      "source": [
        "# ex = '123.45'\n",
        "# ex_float = float(ex)\n",
        "# print(ex_float)\n",
        "# int(ex_float)"
      ],
      "metadata": {
        "id": "FhcMjMcEpipY"
      },
      "execution_count": null,
      "outputs": []
    },
    {
      "cell_type": "code",
      "source": [
        "\n",
        "# Integer to Boolean\n",
        "int_num = 0\n",
        "bool_num = bool(int_num)\n",
        "print(bool_num)  # Output: False\n",
        "\n",
        "# Float to Boolean\n",
        "float_num = 0.0\n",
        "bool_float = bool(float_num)\n",
        "print(bool_float)  # Output: False\n",
        "\n",
        "# String to Boolean\n",
        "str_value = \"True\"\n",
        "bool_str = bool(str_value)\n",
        "print(bool_str)  # Output: True\n",
        "\n",
        "# Any number > 0 : True\n",
        "int_num = 3\n",
        "bool_num = bool(int_num)\n",
        "print(bool_num)  # Output: True\n",
        "\n",
        "# Any number < 0 : True\n",
        "int_num = -3\n",
        "bool_num = bool(int_num)\n",
        "print(bool_num)  # Output: True"
      ],
      "metadata": {
        "id": "0K_FFTDlP_hL",
        "colab": {
          "base_uri": "https://localhost:8080/"
        },
        "outputId": "faeaf53a-3c4b-426b-8e2c-390a0073c6f8"
      },
      "execution_count": null,
      "outputs": [
        {
          "output_type": "stream",
          "name": "stdout",
          "text": [
            "False\n",
            "False\n",
            "True\n",
            "True\n",
            "True\n"
          ]
        }
      ]
    },
    {
      "cell_type": "code",
      "source": [
        "# String with zero elements\n",
        "ex = ''\n",
        "ex = str() # Str function can be used to create empty string\n",
        "len(ex)"
      ],
      "metadata": {
        "id": "PoDzi11iMJGZ",
        "colab": {
          "base_uri": "https://localhost:8080/"
        },
        "outputId": "bf5edaa1-d533-4460-ef11-086405751aec"
      },
      "execution_count": null,
      "outputs": [
        {
          "output_type": "execute_result",
          "data": {
            "text/plain": [
              "0"
            ]
          },
          "metadata": {},
          "execution_count": 31
        }
      ]
    },
    {
      "cell_type": "code",
      "source": [
        "ex = 'hello'\n",
        "type(ex)"
      ],
      "metadata": {
        "colab": {
          "base_uri": "https://localhost:8080/"
        },
        "id": "rjgIa4l1r0I7",
        "outputId": "ee83877a-6772-47a5-e217-c361b7e5d3d1"
      },
      "execution_count": null,
      "outputs": [
        {
          "output_type": "execute_result",
          "data": {
            "text/plain": [
              "str"
            ]
          },
          "metadata": {},
          "execution_count": 32
        }
      ]
    },
    {
      "cell_type": "code",
      "source": [
        "# create string from other data types : Typecasting\n",
        "\n",
        "# Integer to String\n",
        "int_num = 456\n",
        "str_num = str(int_num)\n",
        "print(str_num)  # Output: \"456\"\n",
        "\n",
        "# Float to String\n",
        "float_num = 78.90\n",
        "str_float = str(float_num)\n",
        "print(str_float)  # Output: \"78.9\"\n",
        "\n",
        "# Boolean to String\n",
        "bool_value = False\n",
        "str_bool = str(bool_value)\n",
        "print(str_bool)  # Output: \"False\"\n",
        "\n",
        "# list to String\n",
        "list_value = [1,2,3,4]\n",
        "str_list = str(list_value)\n",
        "print(str_list)  # Output: \"[1,2,3,4]\"\n",
        "\n",
        "# Same applied on tuple ,set, dictionary : For you to explore\n"
      ],
      "metadata": {
        "id": "6sOefqq3Nu1o"
      },
      "execution_count": null,
      "outputs": []
    },
    {
      "cell_type": "code",
      "source": [
        "# ex = input('Enter the list:')\n",
        "# print(type(ex))\n",
        "# ex\n"
      ],
      "metadata": {
        "colab": {
          "base_uri": "https://localhost:8080/",
          "height": 70
        },
        "id": "1W5G2FKzsbKj",
        "outputId": "954a44af-8d81-4dc2-b57f-2f051882f9fc"
      },
      "execution_count": null,
      "outputs": [
        {
          "output_type": "stream",
          "name": "stdout",
          "text": [
            "Enter the list:[1,2,3]\n",
            "<class 'str'>\n"
          ]
        },
        {
          "output_type": "execute_result",
          "data": {
            "text/plain": [
              "'[1,2,3]'"
            ],
            "application/vnd.google.colaboratory.intrinsic+json": {
              "type": "string"
            }
          },
          "metadata": {},
          "execution_count": 40
        }
      ]
    },
    {
      "cell_type": "code",
      "source": [
        "ex = \"[1,2,3,4]\"\n",
        "ex[0]"
      ],
      "metadata": {
        "colab": {
          "base_uri": "https://localhost:8080/",
          "height": 35
        },
        "id": "WXnRQoDXsOPO",
        "outputId": "504618b7-c76c-4117-f9d3-7ae4341ced75"
      },
      "execution_count": null,
      "outputs": [
        {
          "output_type": "execute_result",
          "data": {
            "text/plain": [
              "'['"
            ],
            "application/vnd.google.colaboratory.intrinsic+json": {
              "type": "string"
            }
          },
          "metadata": {},
          "execution_count": 38
        }
      ]
    },
    {
      "cell_type": "code",
      "source": [
        "ex[1]"
      ],
      "metadata": {
        "colab": {
          "base_uri": "https://localhost:8080/",
          "height": 35
        },
        "id": "EfMBiGYtsWJN",
        "outputId": "3e365660-bf01-4a0f-f6a4-cc9d995b03cb"
      },
      "execution_count": null,
      "outputs": [
        {
          "output_type": "execute_result",
          "data": {
            "text/plain": [
              "'1'"
            ],
            "application/vnd.google.colaboratory.intrinsic+json": {
              "type": "string"
            }
          },
          "metadata": {},
          "execution_count": 34
        }
      ]
    },
    {
      "cell_type": "code",
      "source": [
        "ex[2]"
      ],
      "metadata": {
        "colab": {
          "base_uri": "https://localhost:8080/",
          "height": 35
        },
        "id": "XNaJuZBJsXYY",
        "outputId": "ff165832-d4f9-4bb4-ccb7-9ccdd8e84f66"
      },
      "execution_count": null,
      "outputs": [
        {
          "output_type": "execute_result",
          "data": {
            "text/plain": [
              "','"
            ],
            "application/vnd.google.colaboratory.intrinsic+json": {
              "type": "string"
            }
          },
          "metadata": {},
          "execution_count": 35
        }
      ]
    },
    {
      "cell_type": "code",
      "source": [
        "# List & tuple with zero elements\n",
        "ex = []\n",
        "ex = list() # list()  can be used to create empty list\n",
        "ex = ()\n",
        "ex = tuple() # tuple()  can be used to create empty tuple"
      ],
      "metadata": {
        "id": "MNN_P0sROXor"
      },
      "execution_count": null,
      "outputs": []
    },
    {
      "cell_type": "code",
      "source": [
        "# List & tuple with multiple elements\n",
        "ex = [1,2,3,4] # List\n",
        "\n",
        "ex = (3,4,5,6) # Tuple\n"
      ],
      "metadata": {
        "id": "G6_XpwDiveZQ"
      },
      "execution_count": null,
      "outputs": []
    },
    {
      "cell_type": "code",
      "source": [
        "# String to List\n",
        "\n",
        "string_word = \"Python\"\n",
        "list_word = list(string_word)\n",
        "print(list_word)  # Output: ['P', 'y', 't', 'h', 'o', 'n']\n",
        "\n",
        "string_word = \"Data Science\"\n",
        "list_word = list(string_word)\n",
        "print(list_word)  # Output: ['D', 'a', 't', 'a', ' ', 'S', 'c', 'i', 'e', 'n', 'c', 'e']\n",
        "\n",
        "# # Tuple to List\n",
        "tuple_numbers = (1, 2, 3)\n",
        "list_numbers = list(tuple_numbers)\n",
        "print(list_numbers)  # Output: [1, 2, 3]\n",
        "\n",
        "# # List to Tuple\n",
        "list_colors = ['Red', 'Green', 'Blue']\n",
        "tuple_colors = tuple(list_colors)\n",
        "print(tuple_colors)  # Output: ('Red', 'Green', 'Blue')\n",
        "\n",
        "# # set to list or tuple\n",
        "set_colors = {'Red', 'Green', 'Blue'}\n",
        "list_colors = list(set_colors)\n",
        "print(list_colors) # ['Red', 'Green', 'Blue']\n",
        "tuple_colors = tuple(set_colors)\n",
        "print(tuple_colors) # ('Red', 'Green', 'Blue')\n",
        "\n",
        "# # Dictionary\n",
        "dict_colors = {'a': 1, 'b' : 2, 'c': 3}\n",
        "list_colors = list(dict_colors) # keys by default\n",
        "print(list_colors)\n",
        "tuple_colors = tuple(dict_colors) # keys by default\n",
        "print(tuple_colors)\n"
      ],
      "metadata": {
        "colab": {
          "base_uri": "https://localhost:8080/"
        },
        "id": "-uRDM9Z_QPNX",
        "outputId": "0ca8a7b8-d01c-4fe3-aed4-c7dd4668552b"
      },
      "execution_count": null,
      "outputs": [
        {
          "output_type": "stream",
          "name": "stdout",
          "text": [
            "['P', 'y', 't', 'h', 'o', 'n']\n",
            "['D', 'a', 't', 'a', ' ', 'S', 'c', 'i', 'e', 'n', 'c', 'e']\n",
            "[1, 2, 3]\n",
            "('Red', 'Green', 'Blue')\n",
            "['Red', 'Green', 'Blue']\n",
            "('Red', 'Green', 'Blue')\n",
            "['a', 'b', 'c']\n",
            "('a', 'b', 'c')\n"
          ]
        }
      ]
    },
    {
      "cell_type": "code",
      "source": [
        "# set and dictionary with zero elements\n",
        "ex = set() # set() function can be used to create empty set\n",
        "ex = {} # Dictionary\n",
        "print(type(ex))\n",
        "ex = dict() # dict() function can be used to create empty dict\n",
        "print(type(ex))\n",
        "len(ex)"
      ],
      "metadata": {
        "colab": {
          "base_uri": "https://localhost:8080/"
        },
        "id": "kKMuVjiNQs8p",
        "outputId": "3b8ec48b-fd4c-4864-d447-a9cd61a20d9c"
      },
      "execution_count": null,
      "outputs": [
        {
          "output_type": "stream",
          "name": "stdout",
          "text": [
            "<class 'dict'>\n",
            "<class 'dict'>\n"
          ]
        },
        {
          "output_type": "execute_result",
          "data": {
            "text/plain": [
              "0"
            ]
          },
          "metadata": {},
          "execution_count": 48
        }
      ]
    },
    {
      "cell_type": "code",
      "source": [
        "# List to Set\n",
        "list_numbers = [1, 2, 2, 3, 4, 4, 5]\n",
        "set_numbers = set(list_numbers)\n",
        "print(set_numbers)  # Output: {1, 2, 3, 4, 5} # keeping only unique values.\n",
        "\n",
        "# Experiment with tuple\n",
        "tuple_numbers = (1,'a','a',2,3,'True')\n",
        "set_numbers = set(tuple_numbers)\n",
        "print(set_numbers) # Output : {1, 2, 3, 'a'}\n",
        "\n",
        "# String to Set\n",
        "string_characters = \"abracadabra\"\n",
        "set_characters = set(string_characters)\n",
        "print(set_characters)  # Output: {'a', 'r', 'b', 'c', 'd'}\n",
        "\n",
        "# String to Set : Example - 2\n",
        "string = 'AlmaBetter'\n",
        "set_data_string = set(string) # {'A', 'B', 'a', 'e', 'l', 'm', 'r', 't'} # Duplicate values are not accepted.\n",
        "\n",
        "# # Dictionary to set\n",
        "# # Experiment with Dictionary\n",
        "ex = {1:2, 3:4, 5:6}\n",
        "print(set(ex)) # By default keys are taken"
      ],
      "metadata": {
        "colab": {
          "base_uri": "https://localhost:8080/"
        },
        "id": "6oXTMtCoRj22",
        "outputId": "a91f378f-afd5-4a29-d1df-2cf88691a4f5"
      },
      "execution_count": null,
      "outputs": [
        {
          "output_type": "stream",
          "name": "stdout",
          "text": [
            "{1, 2, 3, 4, 5}\n",
            "{1, 2, 3, 'True', 'a'}\n",
            "{'r', 'd', 'b', 'c', 'a'}\n",
            "{1, 3, 5}\n"
          ]
        }
      ]
    },
    {
      "cell_type": "code",
      "source": [
        "# When to use print and when not to use?\n",
        "\n",
        "x = 5\n",
        "print(x)\n",
        "y = 6.4\n",
        "print(y)\n",
        "z = 5\n",
        "print(z)\n",
        "e = 9\n",
        "print(e)\n",
        "# Always use print"
      ],
      "metadata": {
        "colab": {
          "base_uri": "https://localhost:8080/"
        },
        "id": "k-N9qaXG02ha",
        "outputId": "e1b9b06d-45af-49d2-f868-48b4622ab4b0"
      },
      "execution_count": null,
      "outputs": [
        {
          "output_type": "stream",
          "name": "stdout",
          "text": [
            "5\n",
            "6.4\n",
            "5\n",
            "9\n"
          ]
        }
      ]
    },
    {
      "cell_type": "code",
      "source": [
        "# Experiment with tuple\n",
        "tuple_numbers = (1 , 'a','a', 2 , 3 , 'True')\n",
        "set_numbers = set(tuple_numbers)\n",
        "print(set_numbers)"
      ],
      "metadata": {
        "colab": {
          "base_uri": "https://localhost:8080/"
        },
        "id": "hDGbobuzzJbh",
        "outputId": "9deb3837-6c46-4035-a9ca-57be77f6a789"
      },
      "execution_count": null,
      "outputs": [
        {
          "output_type": "stream",
          "name": "stdout",
          "text": [
            "{1, 2, 3, 'True', 'a'}\n"
          ]
        }
      ]
    },
    {
      "cell_type": "code",
      "source": [],
      "metadata": {
        "id": "3dVfzmwSz3QU"
      },
      "execution_count": null,
      "outputs": []
    },
    {
      "cell_type": "code",
      "source": [
        "bool('True')"
      ],
      "metadata": {
        "colab": {
          "base_uri": "https://localhost:8080/"
        },
        "id": "zb_gP6UTz0qs",
        "outputId": "546e73e5-61ce-43e5-f28e-b04b378b7795"
      },
      "execution_count": null,
      "outputs": [
        {
          "output_type": "execute_result",
          "data": {
            "text/plain": [
              "True"
            ]
          },
          "metadata": {},
          "execution_count": 54
        }
      ]
    },
    {
      "cell_type": "code",
      "source": [
        "tuple_numbers = (1 , 'a','a', 2 , 3 , bool('True'))\n",
        "set_numbers = set(tuple_numbers)\n",
        "print(set_numbers)"
      ],
      "metadata": {
        "colab": {
          "base_uri": "https://localhost:8080/"
        },
        "id": "nS-LmHUdz4I0",
        "outputId": "1929e17c-0bf7-4514-9efd-8a87d7194c88"
      },
      "execution_count": null,
      "outputs": [
        {
          "output_type": "stream",
          "name": "stdout",
          "text": [
            "{1, 2, 3, 'a'}\n"
          ]
        }
      ]
    },
    {
      "cell_type": "code",
      "source": [
        "tuple_numbers = (1 , 'a','a', 2 , 3 , True)\n",
        "set_numbers = set(tuple_numbers)\n",
        "print(set_numbers)"
      ],
      "metadata": {
        "colab": {
          "base_uri": "https://localhost:8080/"
        },
        "id": "3npvgd75zheD",
        "outputId": "f9b84ebd-2b07-49c6-d4ed-7026a8e4bb38"
      },
      "execution_count": null,
      "outputs": [
        {
          "output_type": "stream",
          "name": "stdout",
          "text": [
            "{1, 2, 3, 'a'}\n"
          ]
        }
      ]
    },
    {
      "cell_type": "code",
      "source": [
        "# [1,2,3,4] -->values, Dict {key and value } pair"
      ],
      "metadata": {
        "id": "tdgWevnxzo-y"
      },
      "execution_count": null,
      "outputs": []
    },
    {
      "cell_type": "code",
      "source": [
        "# dict([1,2,4]) # Confusion is what should be used for keys vs values?"
      ],
      "metadata": {
        "id": "Omwovy3h1-k3"
      },
      "execution_count": null,
      "outputs": []
    },
    {
      "cell_type": "code",
      "source": [
        "# List of Tuples to Dictionary # keys and value\n",
        "list_items = [('a', 1), ('b', 2), ('c', 3)]\n",
        "my_dict = dict(list_items)\n",
        "print(my_dict)  # Output: {'a': 1, 'b': 2, 'c': 3}"
      ],
      "metadata": {
        "id": "1eEtJos0RxxL",
        "colab": {
          "base_uri": "https://localhost:8080/"
        },
        "outputId": "bc791927-c5c6-410c-a83e-bc9a5e22bb0c"
      },
      "execution_count": null,
      "outputs": [
        {
          "output_type": "stream",
          "name": "stdout",
          "text": [
            "{'a': 1, 'b': 2, 'c': 3}\n"
          ]
        }
      ]
    },
    {
      "cell_type": "code",
      "source": [
        "# List of Lists (each containing key-value pairs) to Dictionary\n",
        "list_of_lists = [['a', 1], ['b', 2], ['c', 3]]\n",
        "my_dict = dict(list_of_lists)\n",
        "print(my_dict)  # Output: {'a': 1, 'b': 2, 'c': 3}"
      ],
      "metadata": {
        "id": "pK7HAvG8SBhN",
        "colab": {
          "base_uri": "https://localhost:8080/"
        },
        "outputId": "f4216155-043b-43ec-d7d8-42e2e1618acc"
      },
      "execution_count": null,
      "outputs": [
        {
          "output_type": "stream",
          "name": "stdout",
          "text": [
            "{'a': 1, 'b': 2, 'c': 3}\n"
          ]
        }
      ]
    },
    {
      "cell_type": "code",
      "source": [
        "# Dictionary Keys to List\n",
        "my_dict = {'a': 1, 'b': 2, 'c': 3}\n",
        "list_keys = list(my_dict.keys())\n",
        "print(list_keys)  # Output: ['a', 'b', 'c']\n",
        "# Same can be applied on tuple and set\n",
        "tuple_keys = tuple(my_dict.keys())\n",
        "print(tuple_keys)\n",
        "# Experiment it with set!!\n"
      ],
      "metadata": {
        "id": "WL2LqzW_SElU",
        "colab": {
          "base_uri": "https://localhost:8080/"
        },
        "outputId": "994523e2-9b04-449c-d89e-7ae94604cf04"
      },
      "execution_count": null,
      "outputs": [
        {
          "output_type": "stream",
          "name": "stdout",
          "text": [
            "['a', 'b', 'c']\n",
            "('a', 'b', 'c')\n"
          ]
        }
      ]
    },
    {
      "cell_type": "code",
      "source": [
        "# Dictionary Values to List\n",
        "my_dict = {'a': 1, 'b': 2, 'c': 3}\n",
        "list_values = list(my_dict.values())\n",
        "print(list_values)  # Output: [1, 2, 3]\n",
        "# Same can be applied on tuple and set"
      ],
      "metadata": {
        "id": "Xm70QcM_SFKS",
        "colab": {
          "base_uri": "https://localhost:8080/"
        },
        "outputId": "e34fab00-b2f6-4b2d-a488-03e4c7450ea5"
      },
      "execution_count": null,
      "outputs": [
        {
          "output_type": "stream",
          "name": "stdout",
          "text": [
            "[1, 2, 3]\n"
          ]
        }
      ]
    },
    {
      "cell_type": "code",
      "source": [
        "### Taking input from user to create data"
      ],
      "metadata": {
        "id": "LvfmMqsjS59b"
      },
      "execution_count": null,
      "outputs": []
    },
    {
      "cell_type": "code",
      "source": [
        "#input() : Function"
      ],
      "metadata": {
        "id": "Xm3wKCIeS56m"
      },
      "execution_count": null,
      "outputs": []
    },
    {
      "cell_type": "code",
      "source": [
        "ex = input('Enter the data:') # By default data is created as string\n",
        "print(type(ex))"
      ],
      "metadata": {
        "id": "LeAXlGgXTCZV",
        "colab": {
          "base_uri": "https://localhost:8080/"
        },
        "outputId": "ce7bb0e0-36b4-468a-b5da-3968539a4d95"
      },
      "execution_count": null,
      "outputs": [
        {
          "output_type": "stream",
          "name": "stdout",
          "text": [
            "Enter the data:[1,2,3]\n",
            "<class 'str'>\n"
          ]
        }
      ]
    },
    {
      "cell_type": "code",
      "source": [
        "# ex = int(input('Enter the age:'))\n",
        "# type(ex)"
      ],
      "metadata": {
        "colab": {
          "base_uri": "https://localhost:8080/"
        },
        "id": "HY3VndBT3soD",
        "outputId": "1a63fffe-5803-4798-d78a-7d545b2a70ee"
      },
      "execution_count": null,
      "outputs": [
        {
          "name": "stdout",
          "output_type": "stream",
          "text": [
            "Enter the age:30\n"
          ]
        },
        {
          "output_type": "execute_result",
          "data": {
            "text/plain": [
              "int"
            ]
          },
          "metadata": {},
          "execution_count": 76
        }
      ]
    },
    {
      "cell_type": "code",
      "source": [],
      "metadata": {
        "id": "x2yIt-9e332z"
      },
      "execution_count": null,
      "outputs": []
    },
    {
      "cell_type": "code",
      "source": [
        "# Create data for other data types, typecast it using\n",
        "\n",
        "# eval() --> function - # Master typecaster : From string to any other data type.\n",
        "\n",
        "ex = eval(input('Enter the data:'))#  data is typecasted from string to other data types:\n",
        "\n",
        "print(type(ex))\n",
        "\n",
        "print(ex)\n",
        "\n",
        "# Caution : don't use eval if you are expecting to create data as string\n",
        "# Only use eval when you are expecting data other than string.\n"
      ],
      "metadata": {
        "id": "M9dNm1ptTLOa",
        "colab": {
          "base_uri": "https://localhost:8080/"
        },
        "outputId": "a2de93ab-9c17-4785-cd35-0bf01e74d863"
      },
      "execution_count": null,
      "outputs": [
        {
          "output_type": "stream",
          "name": "stdout",
          "text": [
            "Enter the data:{1:2,3:4}\n",
            "<class 'dict'>\n",
            "{1: 2, 3: 4}\n"
          ]
        }
      ]
    },
    {
      "cell_type": "code",
      "source": [
        "# Create numeric data using range() --> Function : For loop\n",
        "# range()\tReturns a sequence of numbers, starting from 0 and increments by 1 (by default)\t\tlist(range(1,6,1)) —> [1,2,3,4,5]\n",
        "print(list(range(1,6,2))) # —> [1,3,5]\n",
        "\n",
        "print(list(range(2,8,3))) # —> [2,5,8]\n",
        "print(list(range(10,0,-2))) #—> [10,8,6,4,2]\n",
        "# Follows same concept of I,j,k in slicing\n"
      ],
      "metadata": {
        "colab": {
          "base_uri": "https://localhost:8080/"
        },
        "id": "x1DCoBa_TnZy",
        "outputId": "18905c12-68ef-4db3-8d66-7f48a56d0e2e"
      },
      "execution_count": null,
      "outputs": [
        {
          "output_type": "stream",
          "name": "stdout",
          "text": [
            "[1, 3, 5]\n",
            "[2, 5]\n",
            "[10, 8, 6, 4, 2]\n"
          ]
        }
      ]
    },
    {
      "cell_type": "code",
      "source": [
        "# [1,2,3,4,5,6,7,8,9,10]\n",
        "# Create a list with 1 to 100 in a sequence\n",
        "list(range(1, 11))"
      ],
      "metadata": {
        "colab": {
          "base_uri": "https://localhost:8080/"
        },
        "id": "ihrwiaAa5M7P",
        "outputId": "d8c4cabf-cee9-45cf-8b9c-9e8bc0c582fb"
      },
      "execution_count": null,
      "outputs": [
        {
          "output_type": "execute_result",
          "data": {
            "text/plain": [
              "[1, 2, 3, 4, 5, 6, 7, 8, 9, 10]"
            ]
          },
          "metadata": {},
          "execution_count": 87
        }
      ]
    },
    {
      "cell_type": "code",
      "source": [
        "list(range(1, 11 , 2))"
      ],
      "metadata": {
        "colab": {
          "base_uri": "https://localhost:8080/"
        },
        "id": "myeAONMj50RK",
        "outputId": "79e0a6e5-2cb9-4473-ff3e-7b24a3373bef"
      },
      "execution_count": null,
      "outputs": [
        {
          "output_type": "execute_result",
          "data": {
            "text/plain": [
              "[1, 3, 5, 7, 9]"
            ]
          },
          "metadata": {},
          "execution_count": 88
        }
      ]
    },
    {
      "cell_type": "code",
      "source": [
        "# Create a list with even numbers from 2 to 1000\n",
        "#[2,4,6,8,10.....1000]\n",
        "# list(range(2,1001,2))"
      ],
      "metadata": {
        "id": "zNmV-gyf54Nh"
      },
      "execution_count": null,
      "outputs": []
    },
    {
      "cell_type": "code",
      "source": [
        "# Create a list from 1 to 10\n",
        "list(range(1,11,1))"
      ],
      "metadata": {
        "colab": {
          "base_uri": "https://localhost:8080/"
        },
        "id": "gL271CNC6xN8",
        "outputId": "d4a28cd7-73df-4033-d7a3-e1ffb3404a9a"
      },
      "execution_count": null,
      "outputs": [
        {
          "output_type": "execute_result",
          "data": {
            "text/plain": [
              "[1, 2, 3, 4, 5, 6, 7, 8, 9, 10]"
            ]
          },
          "metadata": {},
          "execution_count": 92
        }
      ]
    },
    {
      "cell_type": "code",
      "source": [
        "# Create a list from [1,3,5,7,9]\n",
        "list(range(1,10,2))"
      ],
      "metadata": {
        "colab": {
          "base_uri": "https://localhost:8080/"
        },
        "id": "NoUWKc4a68PK",
        "outputId": "0778c694-4029-4933-dbf7-9b27fc188795"
      },
      "execution_count": null,
      "outputs": [
        {
          "output_type": "execute_result",
          "data": {
            "text/plain": [
              "[1, 3, 5, 7, 9]"
            ]
          },
          "metadata": {},
          "execution_count": 93
        }
      ]
    },
    {
      "cell_type": "code",
      "source": [
        "# Create a list with odd numbers from 1 to 1000\n",
        "#\n",
        "# list(range(1, 1000 ,2)) #range(starting point, end point, step size)# range(i,j,k)"
      ],
      "metadata": {
        "id": "0skaMAkD6SJK"
      },
      "execution_count": null,
      "outputs": []
    },
    {
      "cell_type": "code",
      "source": [
        "# Reverse data : Create a list of number from 10 to 1\n",
        "list(range(10,0,-1)) # i = starting point, j = end point -1, k is negative"
      ],
      "metadata": {
        "colab": {
          "base_uri": "https://localhost:8080/"
        },
        "id": "dd7mALFo7H01",
        "outputId": "74e8717b-ea16-414e-a433-1c51f380dc2b"
      },
      "execution_count": null,
      "outputs": [
        {
          "output_type": "execute_result",
          "data": {
            "text/plain": [
              "[10, 9, 8, 7, 6, 5, 4, 3, 2, 1]"
            ]
          },
          "metadata": {},
          "execution_count": 96
        }
      ]
    },
    {
      "cell_type": "code",
      "source": [
        "list(range(4 , -5 , -1))"
      ],
      "metadata": {
        "colab": {
          "base_uri": "https://localhost:8080/"
        },
        "id": "mTZ1KLqs7ahM",
        "outputId": "872766f7-d903-41f9-c5d3-b439128eeed6"
      },
      "execution_count": null,
      "outputs": [
        {
          "output_type": "execute_result",
          "data": {
            "text/plain": [
              "[4, 3, 2, 1, 0, -1, -2, -3, -4]"
            ]
          },
          "metadata": {},
          "execution_count": 98
        }
      ]
    },
    {
      "cell_type": "code",
      "source": [
        "# [4,  2,  0,  -2,  -4] : Create this data\n",
        "list(range(4 , -5 , -2))\n"
      ],
      "metadata": {
        "colab": {
          "base_uri": "https://localhost:8080/"
        },
        "id": "qugscYPU7wnx",
        "outputId": "c1a10db1-d7ed-449a-9328-12ffaf404519"
      },
      "execution_count": null,
      "outputs": [
        {
          "output_type": "execute_result",
          "data": {
            "text/plain": [
              "[4, 2, 0, -2, -4]"
            ]
          },
          "metadata": {},
          "execution_count": 99
        }
      ]
    },
    {
      "cell_type": "code",
      "source": [
        "# Zip() --> Mostly used with for loop : Function\n",
        "# Zips to two and more data index wise to create a combined data\n",
        "\n",
        "x = [1,2,3,4]\n",
        "y = ['a','b','c','d']\n",
        "z = [10,20,30]\n",
        "list(zip(x,y,z))\n"
      ],
      "metadata": {
        "colab": {
          "base_uri": "https://localhost:8080/"
        },
        "id": "PrGTbjH2TnW6",
        "outputId": "732817d8-47c7-4918-99b1-9d960c5015f3"
      },
      "execution_count": null,
      "outputs": [
        {
          "output_type": "execute_result",
          "data": {
            "text/plain": [
              "[(1, 'a', 10), (2, 'b', 20), (3, 'c', 30)]"
            ]
          },
          "metadata": {},
          "execution_count": 18
        }
      ]
    },
    {
      "cell_type": "code",
      "source": [
        "price = [500, 200, 300, 400]\n",
        "discount = [.1, .2, .05, .4]\n",
        "\n",
        "# Create a data with price and dicount combined as tuple\n",
        "list(zip(price, discount))"
      ],
      "metadata": {
        "colab": {
          "base_uri": "https://localhost:8080/"
        },
        "id": "hPNvvX9Q8nh0",
        "outputId": "104d24c6-5e92-464c-f192-2ab59d75dd2c"
      },
      "execution_count": null,
      "outputs": [
        {
          "output_type": "execute_result",
          "data": {
            "text/plain": [
              "[(500, 0.1), (200, 0.2), (300, 0.05), (400, 0.4)]"
            ]
          },
          "metadata": {},
          "execution_count": 104
        }
      ]
    },
    {
      "cell_type": "code",
      "source": [
        "ex = list(zip(price, discount))\n",
        "print(ex)"
      ],
      "metadata": {
        "colab": {
          "base_uri": "https://localhost:8080/"
        },
        "id": "IP4AxOyQ9pSC",
        "outputId": "acee87f3-523a-4159-b2ad-6897c56ed55c"
      },
      "execution_count": null,
      "outputs": [
        {
          "output_type": "stream",
          "name": "stdout",
          "text": [
            "[(500, 0.1), (200, 0.2), (300, 0.05), (400, 0.4)]\n"
          ]
        }
      ]
    },
    {
      "cell_type": "code",
      "source": [
        "dict(ex)"
      ],
      "metadata": {
        "colab": {
          "base_uri": "https://localhost:8080/"
        },
        "id": "JlvKEt7e9s9O",
        "outputId": "0ea2b989-d662-4346-df4c-12feff0e783e"
      },
      "execution_count": null,
      "outputs": [
        {
          "output_type": "execute_result",
          "data": {
            "text/plain": [
              "{500: 0.1, 200: 0.2, 300: 0.05, 400: 0.4}"
            ]
          },
          "metadata": {},
          "execution_count": 107
        }
      ]
    },
    {
      "cell_type": "code",
      "source": [
        "price = [500, 200, 300, 400]\n",
        "discount = [.1, .2, .05, .4]\n",
        "tax = [.18,.20,.1,.001]\n",
        "# Create a data with price and dicount combined as tuple\n",
        "list(zip(price, discount,tax ))"
      ],
      "metadata": {
        "colab": {
          "base_uri": "https://localhost:8080/"
        },
        "id": "m1pEVF6e9KPt",
        "outputId": "4d8ff41a-9370-4e27-a472-98dbde92891b"
      },
      "execution_count": null,
      "outputs": [
        {
          "output_type": "execute_result",
          "data": {
            "text/plain": [
              "[(500, 0.1, 0.18), (200, 0.2, 0.2), (300, 0.05, 0.1), (400, 0.4, 0.001)]"
            ]
          },
          "metadata": {},
          "execution_count": 102
        }
      ]
    },
    {
      "cell_type": "code",
      "source": [
        "price = [500, 200, 300, 400]\n",
        "discount = [.1, .2, .05, .4]\n",
        "tax = [.18 , .20]\n",
        "list(zip(price, discount,tax ))"
      ],
      "metadata": {
        "colab": {
          "base_uri": "https://localhost:8080/"
        },
        "id": "xOb9hPWe9Wz_",
        "outputId": "0c3777d2-497a-4420-8973-3e62e8cd10a3"
      },
      "execution_count": null,
      "outputs": [
        {
          "output_type": "execute_result",
          "data": {
            "text/plain": [
              "[(500, 0.1, 0.18), (200, 0.2, 0.2)]"
            ]
          },
          "metadata": {},
          "execution_count": 103
        }
      ]
    },
    {
      "cell_type": "code",
      "source": [
        "price = [500, 200, 300, 400]\n",
        "discount = [.1]\n",
        "tax = [.18 , .20]\n",
        "list(zip(price, discount,tax ))\n",
        "# Zip is joining the data index wise."
      ],
      "metadata": {
        "colab": {
          "base_uri": "https://localhost:8080/"
        },
        "id": "v1AWYTij-KM1",
        "outputId": "f48e54e4-7add-45c0-f679-b7f47ddaf3e4"
      },
      "execution_count": null,
      "outputs": [
        {
          "output_type": "execute_result",
          "data": {
            "text/plain": [
              "[(500, 0.1, 0.18)]"
            ]
          },
          "metadata": {},
          "execution_count": 108
        }
      ]
    },
    {
      "cell_type": "code",
      "source": [
        "# Create a data which has index and value as tuples.\n",
        "# enumerate()  -->  Mostly used with for loop # In built function\n",
        "\n",
        "y = ['a','b','c','d']\n",
        "list(enumerate(y))\n",
        "\n",
        "string = 'hello world'\n",
        "list(enumerate(string))"
      ],
      "metadata": {
        "colab": {
          "base_uri": "https://localhost:8080/"
        },
        "id": "BRfrl-xLTnUG",
        "outputId": "d1cabb08-c7c0-4272-9139-552a90434505"
      },
      "execution_count": null,
      "outputs": [
        {
          "output_type": "execute_result",
          "data": {
            "text/plain": [
              "[(0, 'h'),\n",
              " (1, 'e'),\n",
              " (2, 'l'),\n",
              " (3, 'l'),\n",
              " (4, 'o'),\n",
              " (5, ' '),\n",
              " (6, 'w'),\n",
              " (7, 'o'),\n",
              " (8, 'r'),\n",
              " (9, 'l'),\n",
              " (10, 'd')]"
            ]
          },
          "metadata": {},
          "execution_count": 109
        }
      ]
    },
    {
      "cell_type": "markdown",
      "source": [
        "### Read : functions and methods help  reading different types."
      ],
      "metadata": {
        "id": "0rjP2SPRSO_d"
      }
    },
    {
      "cell_type": "code",
      "source": [
        "# print()\t: function prints the specified message to the screen or other standard output device.\tCompatible with all data types.\tprint(”Hello World”) —> “Hello World”\n",
        "print([1,2,4,5]) #—> [1,2,4,5]\n",
        "\n"
      ],
      "metadata": {
        "id": "NCUGapbrSbM2"
      },
      "execution_count": null,
      "outputs": []
    },
    {
      "cell_type": "code",
      "source": [
        "# To include variable in the print use f string\n",
        "x = 'hello world'\n",
        "y = 'Python'\n",
        "print(f\"I want to print {x} while learning {y}\") #\n"
      ],
      "metadata": {
        "colab": {
          "base_uri": "https://localhost:8080/"
        },
        "id": "CLUVbc8DSlSz",
        "outputId": "4e16b20d-a01a-43f1-c18b-4abbbc2501c5"
      },
      "execution_count": null,
      "outputs": [
        {
          "output_type": "stream",
          "name": "stdout",
          "text": [
            "I want to print hello world while learning Python\n"
          ]
        }
      ]
    },
    {
      "cell_type": "code",
      "source": [
        "x = 'hello world'\n",
        "y = 'Python'\n",
        "print(\"I want to print\",x, \"while learning\", y) #\n"
      ],
      "metadata": {
        "colab": {
          "base_uri": "https://localhost:8080/"
        },
        "id": "k1U1AzqcSnqp",
        "outputId": "eb4a9b99-7c07-4812-f70d-80cc1f3eb8f0"
      },
      "execution_count": null,
      "outputs": [
        {
          "output_type": "stream",
          "name": "stdout",
          "text": [
            "I want to print hello world while learning Python\n"
          ]
        }
      ]
    },
    {
      "cell_type": "code",
      "source": [
        "# use print() : function to check ro display data stored in the variable\n",
        "ex = [2,3,4,5] # change values here to check the output\n",
        "print(ex)"
      ],
      "metadata": {
        "colab": {
          "base_uri": "https://localhost:8080/"
        },
        "id": "tJR8JYPmWs4i",
        "outputId": "44ff8510-187d-4288-da7f-ac7315a92287"
      },
      "execution_count": null,
      "outputs": [
        {
          "output_type": "stream",
          "name": "stdout",
          "text": [
            "[2, 3, 4, 5]\n"
          ]
        }
      ]
    },
    {
      "cell_type": "code",
      "source": [
        "# type() : function is used to check the data type.\n",
        "ex = [2,3,4,5] # change values here to check the output\n",
        "type(ex)"
      ],
      "metadata": {
        "colab": {
          "base_uri": "https://localhost:8080/"
        },
        "id": "60JSYsMfWz24",
        "outputId": "3e1f1701-1ec0-425f-857d-132b18e879d2"
      },
      "execution_count": null,
      "outputs": [
        {
          "output_type": "execute_result",
          "data": {
            "text/plain": [
              "list"
            ]
          },
          "metadata": {},
          "execution_count": 27
        }
      ]
    },
    {
      "cell_type": "code",
      "source": [
        "# dir()\n",
        "# Returns a list of the specified object's properties and methods\n",
        "dir() # —> Prints all the objects"
      ],
      "metadata": {
        "id": "RhLb8JOvS0aJ"
      },
      "execution_count": null,
      "outputs": []
    },
    {
      "cell_type": "code",
      "source": [],
      "metadata": {
        "id": "D6GiAmB5Wzet"
      },
      "execution_count": null,
      "outputs": []
    },
    {
      "cell_type": "code",
      "source": [
        "# Read the index of element\n",
        "# index()\tSearches the string for a specified value and returns the position of where it was found.\tString, List, Tuple\tex = ‘Hello World’\n",
        "\n"
      ],
      "metadata": {
        "id": "ZMnwoCYwVOnj"
      },
      "execution_count": null,
      "outputs": []
    },
    {
      "cell_type": "code",
      "source": [
        "# Index in String\n",
        "ex = 'hello world'\n",
        "ex.index('o') # —> 4  ; returns index of the first occurrence\n"
      ],
      "metadata": {
        "colab": {
          "base_uri": "https://localhost:8080/"
        },
        "id": "Z7K4crpZVaQz",
        "outputId": "08c57696-d33e-43c3-a9ad-4dee7b53ff04"
      },
      "execution_count": null,
      "outputs": [
        {
          "output_type": "execute_result",
          "data": {
            "text/plain": [
              "4"
            ]
          },
          "metadata": {},
          "execution_count": 21
        }
      ]
    },
    {
      "cell_type": "code",
      "source": [
        "# Index in List\n",
        "ex = [2,3,3,3,2,4,5,6,5]\n",
        "ex.index(3) # —> 1  ; returns index of the first occurrence\n"
      ],
      "metadata": {
        "colab": {
          "base_uri": "https://localhost:8080/"
        },
        "id": "DsCYwhlpVedA",
        "outputId": "d2b77b46-faed-498b-a9b8-84b9403680d6"
      },
      "execution_count": null,
      "outputs": [
        {
          "output_type": "execute_result",
          "data": {
            "text/plain": [
              "1"
            ]
          },
          "metadata": {},
          "execution_count": 22
        }
      ]
    },
    {
      "cell_type": "code",
      "source": [
        "# Index in tuple\n",
        "ex = (2,3,3,3,2,4,5,6,5)\n",
        "ex.index(3) # —> 1  ; returns index of the first occurrence\n"
      ],
      "metadata": {
        "colab": {
          "base_uri": "https://localhost:8080/"
        },
        "id": "BEj21bCWVm0U",
        "outputId": "6f0d07d1-29df-4f18-ed0e-5140f31d0134"
      },
      "execution_count": null,
      "outputs": [
        {
          "output_type": "execute_result",
          "data": {
            "text/plain": [
              "1"
            ]
          },
          "metadata": {},
          "execution_count": 23
        }
      ]
    },
    {
      "cell_type": "code",
      "source": [
        "# Not applicable on set and dictionary as these two are unordered"
      ],
      "metadata": {
        "id": "PGtUI1u8Vqef"
      },
      "execution_count": null,
      "outputs": []
    },
    {
      "cell_type": "code",
      "source": [
        "# Reading data in : Dictionary: keys and values\n",
        "ex = {1:2, 3:4}\n",
        "print(ex.keys())\n",
        "print(ex.values())"
      ],
      "metadata": {
        "colab": {
          "base_uri": "https://localhost:8080/"
        },
        "id": "Y_8eAlayWFDH",
        "outputId": "0e77a0da-2029-41b1-d62f-f285ed9be967"
      },
      "execution_count": null,
      "outputs": [
        {
          "output_type": "stream",
          "name": "stdout",
          "text": [
            "dict_keys([1, 3])\n",
            "dict_values([2, 4])\n"
          ]
        }
      ]
    },
    {
      "cell_type": "code",
      "source": [
        "# Reading both keys and values together : useful with for loop.\n",
        "# using .items()\n",
        "ex = {1:2, 3:4}\n",
        "ex.items()"
      ],
      "metadata": {
        "colab": {
          "base_uri": "https://localhost:8080/"
        },
        "id": "TN3UGbpbWSby",
        "outputId": "6b6bb3a6-bb07-4c89-e3f9-171232c0de22"
      },
      "execution_count": null,
      "outputs": [
        {
          "output_type": "execute_result",
          "data": {
            "text/plain": [
              "dict_items([(1, 2), (3, 4)])"
            ]
          },
          "metadata": {},
          "execution_count": 28
        }
      ]
    },
    {
      "cell_type": "code",
      "source": [
        "# Indexing and slicing is also a part of reading data."
      ],
      "metadata": {
        "id": "YDZG-6g1Zake"
      },
      "execution_count": null,
      "outputs": []
    },
    {
      "cell_type": "markdown",
      "source": [
        "### Update : Updates the original data"
      ],
      "metadata": {
        "id": "TSPhKSBBY1zl"
      }
    },
    {
      "cell_type": "markdown",
      "source": [
        "#### List"
      ],
      "metadata": {
        "id": "YCqpINdqaZpb"
      }
    },
    {
      "cell_type": "code",
      "source": [
        "# Change the data in list\n",
        "ex = [2,3,4,5]\n",
        "ex[0] ='a'\n",
        "print(ex)\n",
        "ex[2:4] = [10,20]\n",
        "print(ex)"
      ],
      "metadata": {
        "colab": {
          "base_uri": "https://localhost:8080/"
        },
        "id": "mQiNUmOdbAeE",
        "outputId": "12ca45c3-2bd9-4664-d89c-44f5eb8bf945"
      },
      "execution_count": null,
      "outputs": [
        {
          "output_type": "stream",
          "name": "stdout",
          "text": [
            "['a', 3, 4, 5]\n",
            "['a', 3, 10, 20]\n"
          ]
        }
      ]
    },
    {
      "cell_type": "code",
      "source": [
        "#  Using operator to add data in the original list\n",
        "ex = [2,3,4,5]\n",
        "new_data = [6]\n",
        "ex + new_data # Display the data, can be stored in new variable, not changing the original variable"
      ],
      "metadata": {
        "colab": {
          "base_uri": "https://localhost:8080/"
        },
        "id": "f0eloGenX6AR",
        "outputId": "8aa24fa5-64ba-445c-d7f8-b14af35e6332"
      },
      "execution_count": null,
      "outputs": [
        {
          "output_type": "execute_result",
          "data": {
            "text/plain": [
              "[2, 3, 4, 5, 6]"
            ]
          },
          "metadata": {},
          "execution_count": 31
        }
      ]
    },
    {
      "cell_type": "code",
      "source": [
        "# append()\tAdds an element at the end of the list\tList\tex = [1,2,3,3,5]\n",
        "ex.append(6) # —> [2, 3, 4, 5, 6]\n",
        "print(ex)\n"
      ],
      "metadata": {
        "colab": {
          "base_uri": "https://localhost:8080/"
        },
        "id": "6w8pJZqAZxES",
        "outputId": "2560606d-5932-48fb-c9a1-5a2f47d7710f"
      },
      "execution_count": null,
      "outputs": [
        {
          "output_type": "stream",
          "name": "stdout",
          "text": [
            "[2, 3, 4, 5, 6]\n"
          ]
        }
      ]
    },
    {
      "cell_type": "code",
      "source": [
        "# extend()\tAdd the elements of a list (or any iterable) to the end of the current list\tList\tex = [1,2,3,3,5]\n",
        "ex.extend([6,7]) # —> [1,2,3,3,5,6,7]"
      ],
      "metadata": {
        "id": "0ciYeVygaXCP"
      },
      "execution_count": null,
      "outputs": []
    },
    {
      "cell_type": "code",
      "source": [
        "# insert()\tAdds an element at the specified position\tinsert(position, element)\tex = [1,2,3,3,5]\n",
        "\n",
        "ex.insert(0,6) # —> [6,1,2,3,3,5]"
      ],
      "metadata": {
        "id": "dZxuJxVbacnB"
      },
      "execution_count": null,
      "outputs": []
    },
    {
      "cell_type": "markdown",
      "source": [
        "#### Dictionary"
      ],
      "metadata": {
        "id": "W8GX4ylMazGG"
      }
    },
    {
      "cell_type": "code",
      "source": [
        "# Add one key, value pair\n",
        "ex = {1:2, 3:4}\n",
        "ex[5] = 7\n",
        "print(ex)"
      ],
      "metadata": {
        "colab": {
          "base_uri": "https://localhost:8080/"
        },
        "id": "Sr7Ge-zAa29_",
        "outputId": "4b1940dd-9f17-4250-c924-bcfaead84094"
      },
      "execution_count": null,
      "outputs": [
        {
          "output_type": "stream",
          "name": "stdout",
          "text": [
            "{1: 2, 3: 4, 5: 7}\n"
          ]
        }
      ]
    },
    {
      "cell_type": "code",
      "source": [
        "# Update the exisiting data\n",
        "ex = {1:2, 3:4}\n",
        "ex[3] = 7\n",
        "print(ex)"
      ],
      "metadata": {
        "colab": {
          "base_uri": "https://localhost:8080/"
        },
        "id": "mh2jWgo9b873",
        "outputId": "38e2633b-8cb8-4421-d248-fd1f34482abf"
      },
      "execution_count": null,
      "outputs": [
        {
          "output_type": "stream",
          "name": "stdout",
          "text": [
            "{1: 2, 3: 7}\n"
          ]
        }
      ]
    },
    {
      "cell_type": "code",
      "source": [
        "# update()\tUpdates the dictionary with the specified key-value pairs\tdictionary\tex = {'a' :1 , 'b':2}\n",
        "ex.update({'c':2}) #—> {'a': 1, 'b': 2, 'c': 2}"
      ],
      "metadata": {
        "id": "2T4-V33OasSZ"
      },
      "execution_count": null,
      "outputs": []
    },
    {
      "cell_type": "markdown",
      "source": [
        "#### set"
      ],
      "metadata": {
        "id": "kFoHyw0DbSFJ"
      }
    },
    {
      "cell_type": "code",
      "source": [
        "# Add one element to the set\n",
        "# .add() --> method\n",
        "ex = {'a','b'}\n",
        "ex.add('c') # —> {'c', 'b', 'a'}\n",
        "print(ex)"
      ],
      "metadata": {
        "colab": {
          "base_uri": "https://localhost:8080/"
        },
        "id": "SCPafYK1bbft",
        "outputId": "8dc491e4-9c4a-4eac-8ae9-3caff43b0130"
      },
      "execution_count": null,
      "outputs": [
        {
          "output_type": "stream",
          "name": "stdout",
          "text": [
            "{'a', 'b', 'c'}\n"
          ]
        }
      ]
    },
    {
      "cell_type": "code",
      "source": [
        "# update()\tUpdate the set with multiple data\n",
        "\n",
        "ex.update(['c','d']) # —> {'c', 'b', 'a', 'd'}"
      ],
      "metadata": {
        "id": "aJ9xQPIgbiA9"
      },
      "execution_count": null,
      "outputs": []
    },
    {
      "cell_type": "code",
      "source": [
        "# In case of set data can't be replaced , it has to be removed then add new. # method discussed in delete section."
      ],
      "metadata": {
        "id": "TEy7xIHjbrxK"
      },
      "execution_count": null,
      "outputs": []
    },
    {
      "cell_type": "markdown",
      "source": [
        "#### string: Original data is not changed rather update data is displayed (String is immutable)"
      ],
      "metadata": {
        "id": "Yc5s5jzKcaH0"
      }
    },
    {
      "cell_type": "code",
      "source": [
        "ex = 'hello'\n",
        "ex2 = 'world'\n",
        "ex + ' '+ ex2"
      ],
      "metadata": {
        "colab": {
          "base_uri": "https://localhost:8080/",
          "height": 35
        },
        "id": "EEV2yKj1ctbx",
        "outputId": "eb19609f-42b7-4abe-95f2-cd815f94f186"
      },
      "execution_count": null,
      "outputs": [
        {
          "output_type": "execute_result",
          "data": {
            "text/plain": [
              "'hello world'"
            ],
            "application/vnd.google.colaboratory.intrinsic+json": {
              "type": "string"
            }
          },
          "metadata": {},
          "execution_count": 43
        }
      ]
    },
    {
      "cell_type": "code",
      "source": [
        "# replace()\tReturns a string where a specified value is replaced with a specified value.\tString\tex = 'Hello world'\n",
        "ex.replace('world', 'World') # —> ‘'Hello World'’\n"
      ],
      "metadata": {
        "colab": {
          "base_uri": "https://localhost:8080/",
          "height": 35
        },
        "id": "V1TskUPCcZbk",
        "outputId": "4599cce8-1c60-4780-b81c-5c76d75ddb03"
      },
      "execution_count": null,
      "outputs": [
        {
          "output_type": "execute_result",
          "data": {
            "text/plain": [
              "'hello'"
            ],
            "application/vnd.google.colaboratory.intrinsic+json": {
              "type": "string"
            }
          },
          "metadata": {},
          "execution_count": 44
        }
      ]
    },
    {
      "cell_type": "code",
      "source": [
        "# lower()\tConverts a string into lowercase\tString\tex = 'Hello world'\n",
        "ex.lower() # —> 'hello world'\n"
      ],
      "metadata": {
        "colab": {
          "base_uri": "https://localhost:8080/",
          "height": 35
        },
        "id": "l4t4S41gc3qc",
        "outputId": "e7a3f00c-e716-4dad-f9cf-b080a012cde7"
      },
      "execution_count": null,
      "outputs": [
        {
          "output_type": "execute_result",
          "data": {
            "text/plain": [
              "'hello'"
            ],
            "application/vnd.google.colaboratory.intrinsic+json": {
              "type": "string"
            }
          },
          "metadata": {},
          "execution_count": 45
        }
      ]
    },
    {
      "cell_type": "code",
      "source": [
        "# upper()\tConverts a string into upper case.\tString\tex = 'Hello world'\n",
        "ex.upper() #—> ‘'HELLO WORLD'’\n"
      ],
      "metadata": {
        "colab": {
          "base_uri": "https://localhost:8080/",
          "height": 35
        },
        "id": "Cq6KWFbAc42O",
        "outputId": "ba04e889-3415-4ed7-e06d-2ed4e4187641"
      },
      "execution_count": null,
      "outputs": [
        {
          "output_type": "execute_result",
          "data": {
            "text/plain": [
              "'HELLO'"
            ],
            "application/vnd.google.colaboratory.intrinsic+json": {
              "type": "string"
            }
          },
          "metadata": {},
          "execution_count": 46
        }
      ]
    },
    {
      "cell_type": "code",
      "source": [
        "# title()\tConverts the first character of each word to upper case.\tString\tex = ‘hello world’\n",
        "ex.title() # —> ‘Hello World’\n"
      ],
      "metadata": {
        "colab": {
          "base_uri": "https://localhost:8080/",
          "height": 35
        },
        "id": "CINKVtgBc7Ld",
        "outputId": "3df6e5f6-db23-44ba-b878-3bfa0abddb77"
      },
      "execution_count": null,
      "outputs": [
        {
          "output_type": "execute_result",
          "data": {
            "text/plain": [
              "'Hello'"
            ],
            "application/vnd.google.colaboratory.intrinsic+json": {
              "type": "string"
            }
          },
          "metadata": {},
          "execution_count": 47
        }
      ]
    },
    {
      "cell_type": "code",
      "source": [
        "# strip()\tReturns a trimmed version of the string.\tString\n",
        "ex = '   hello world  '\n",
        "ex.strip() #—> ‘hello world’"
      ],
      "metadata": {
        "colab": {
          "base_uri": "https://localhost:8080/",
          "height": 35
        },
        "id": "k704M1M0c8Ip",
        "outputId": "8a10d22f-d398-48b8-88ef-a50a735b0691"
      },
      "execution_count": null,
      "outputs": [
        {
          "output_type": "execute_result",
          "data": {
            "text/plain": [
              "'hello world'"
            ],
            "application/vnd.google.colaboratory.intrinsic+json": {
              "type": "string"
            }
          },
          "metadata": {},
          "execution_count": 49
        }
      ]
    },
    {
      "cell_type": "code",
      "source": [
        "# split()\tSplits the string at the specified separator and returns a list.\tString\n",
        "ex = 'Hello world'\n",
        "ex.split(' ') #—> [’Hello’, ‘world’]\n"
      ],
      "metadata": {
        "colab": {
          "base_uri": "https://localhost:8080/"
        },
        "id": "iDJY0WoxdT0z",
        "outputId": "06018e42-bf34-4ddb-e2a7-45f7e8a011ef"
      },
      "execution_count": null,
      "outputs": [
        {
          "output_type": "execute_result",
          "data": {
            "text/plain": [
              "['Hello', 'world']"
            ]
          },
          "metadata": {},
          "execution_count": 50
        }
      ]
    },
    {
      "cell_type": "code",
      "source": [
        "# join()\tMethod takes all items in an iterable and joins them into one string.\tString\n",
        "ex = ['h' , 'e' , 'l' , 'l' , 'o']\n",
        "\"-\".join(ex) #—> h-e-l-l-o"
      ],
      "metadata": {
        "colab": {
          "base_uri": "https://localhost:8080/",
          "height": 35
        },
        "id": "8qDNaFuidUuX",
        "outputId": "e04305c1-e183-41f5-bf39-6d873cddbaea"
      },
      "execution_count": null,
      "outputs": [
        {
          "output_type": "execute_result",
          "data": {
            "text/plain": [
              "'h-e-l-l-o'"
            ],
            "application/vnd.google.colaboratory.intrinsic+json": {
              "type": "string"
            }
          },
          "metadata": {},
          "execution_count": 51
        }
      ]
    },
    {
      "cell_type": "markdown",
      "source": [
        "### Delete : delete the original data"
      ],
      "metadata": {
        "id": "Bi-FlAT6cTrm"
      }
    },
    {
      "cell_type": "markdown",
      "source": [
        "#### List"
      ],
      "metadata": {
        "id": "pNQh_tPHdzZo"
      }
    },
    {
      "cell_type": "code",
      "source": [
        "# pop()\tRemoves the element at the specified position (.pop(position) )\tList, dictionary, set\n",
        "ex = [1,2,3,3,5]\n",
        "ex.pop() #—> [1,2,3,3]\n",
        "ex.pop(0) #—> [2,3,3,5]\n"
      ],
      "metadata": {
        "colab": {
          "base_uri": "https://localhost:8080/"
        },
        "id": "5nElwoIqcVeA",
        "outputId": "fb6f5dee-2b49-493e-8ba2-d835f2c257c8"
      },
      "execution_count": null,
      "outputs": [
        {
          "output_type": "execute_result",
          "data": {
            "text/plain": [
              "1"
            ]
          },
          "metadata": {},
          "execution_count": 53
        }
      ]
    },
    {
      "cell_type": "code",
      "source": [
        "# remove()\tRemoves the first item with the specified value\tList, set\n",
        "ex = [1,2,3,3,5]\n",
        "ex.remove(1) #—> [2,3,3,5]\n",
        "ex.remove(3) #—> [1,2,3,5]\n"
      ],
      "metadata": {
        "id": "N6nYauyRfAjJ"
      },
      "execution_count": null,
      "outputs": []
    },
    {
      "cell_type": "code",
      "source": [
        "# clear()\tRemoves all the elements from the list\tList, Dictionary, Set\n",
        "ex = [2,6,3,5]\n",
        "ex.clear()\n",
        "print(ex)\n"
      ],
      "metadata": {
        "colab": {
          "base_uri": "https://localhost:8080/"
        },
        "id": "xOs-DMVcfCM2",
        "outputId": "cc10f20e-8a5a-483b-a877-c1f4f3891b41"
      },
      "execution_count": null,
      "outputs": [
        {
          "output_type": "stream",
          "name": "stdout",
          "text": [
            "[]\n"
          ]
        }
      ]
    },
    {
      "cell_type": "code",
      "source": [
        "# copy()\tReturns a copy of the list\tList, Dictionary, Set\n",
        "ex = [2,6,3,5]\n",
        "ex1 = ex.copy() # { Shallow copy vs Deep Copy}"
      ],
      "metadata": {
        "id": "q0jyvcFpfDSq"
      },
      "execution_count": null,
      "outputs": []
    },
    {
      "cell_type": "markdown",
      "source": [
        "#### Dictionary"
      ],
      "metadata": {
        "id": "ZUX_x_Sld_3l"
      }
    },
    {
      "cell_type": "code",
      "source": [
        "# pop()\tRemoves the element with the specified key\tList, dictionary, set\n",
        "ex = {'a' :1 , 'b':2}\n",
        "ex.pop('b') #—> {'a': 1}\n"
      ],
      "metadata": {
        "colab": {
          "base_uri": "https://localhost:8080/"
        },
        "id": "k9AP-hdCeA_K",
        "outputId": "be0d4eb0-722f-4b81-e69a-a57c821328f7"
      },
      "execution_count": null,
      "outputs": [
        {
          "output_type": "execute_result",
          "data": {
            "text/plain": [
              "2"
            ]
          },
          "metadata": {},
          "execution_count": 57
        }
      ]
    },
    {
      "cell_type": "code",
      "source": [
        "# clear()\tRemoves all the elements from the dictionary\tList, Dictionary, Set\n",
        "ex = {'a' :1 , 'b':2}\n",
        "ex.clear()\n",
        "print(ex)#  —> {}\n"
      ],
      "metadata": {
        "colab": {
          "base_uri": "https://localhost:8080/"
        },
        "id": "GrcXLI1Gfb56",
        "outputId": "b6bd4fe1-c524-46b7-d525-d7f93df0eca4"
      },
      "execution_count": null,
      "outputs": [
        {
          "output_type": "stream",
          "name": "stdout",
          "text": [
            "{}\n"
          ]
        }
      ]
    },
    {
      "cell_type": "code",
      "source": [
        "# copy()\tReturns a copy of the dictionary\t List, Dictionary, Set\n",
        "ex = {'a' :1 , 'b':2}\n",
        "ex2 = ex.copy()\n",
        "print(ex2) #—>"
      ],
      "metadata": {
        "colab": {
          "base_uri": "https://localhost:8080/"
        },
        "id": "2q3XhgyNfdim",
        "outputId": "3903c10d-3180-4e94-f010-5c191b96bb85"
      },
      "execution_count": null,
      "outputs": [
        {
          "output_type": "stream",
          "name": "stdout",
          "text": [
            "{'a': 1, 'b': 2}\n"
          ]
        }
      ]
    },
    {
      "cell_type": "markdown",
      "source": [
        "#### Set"
      ],
      "metadata": {
        "id": "LAO9f-3AeDQv"
      }
    },
    {
      "cell_type": "code",
      "source": [
        "# remove()\tRemoves the specified element\tList, set\n",
        "ex1 = {'a','b','c'}\n",
        "ex1.remove('a') #—> {’b’, ‘c’}\n"
      ],
      "metadata": {
        "id": "KQaWxMbxeEJC"
      },
      "execution_count": null,
      "outputs": []
    },
    {
      "cell_type": "code",
      "source": [
        "# clear()\tReturns a copy of the set\t List, Dictionary, Set\n",
        "ex1 = {'a','b','c'}\n",
        "ex2 = ex1.clear()\n"
      ],
      "metadata": {
        "id": "toqEnJiifthh"
      },
      "execution_count": null,
      "outputs": []
    },
    {
      "cell_type": "code",
      "source": [
        "# copy()\tReturns a copy of the set\t List, Dictionary, Set\n",
        "ex1 = {'a','b','c'}\n",
        "ex2 = ex1.copy()\n"
      ],
      "metadata": {
        "id": "Wy1z3JJYft3X"
      },
      "execution_count": null,
      "outputs": []
    },
    {
      "cell_type": "markdown",
      "source": [
        "### Derivatives : Derives the output data based on the requirements."
      ],
      "metadata": {
        "id": "ftfbHbi9eVtd"
      }
    },
    {
      "cell_type": "markdown",
      "source": [
        "#### General Purpose Functions"
      ],
      "metadata": {
        "id": "4goNFOX4gGXo"
      }
    },
    {
      "cell_type": "code",
      "source": [
        "# len() : Checks the total number of elements in the data type\n"
      ],
      "metadata": {
        "id": "ZPRtUWWceWxQ"
      },
      "execution_count": null,
      "outputs": []
    },
    {
      "cell_type": "code",
      "source": [
        "# Count() : Checks the count of individual elements  in the data type\n"
      ],
      "metadata": {
        "id": "-YJUVfiBgRbO"
      },
      "execution_count": null,
      "outputs": []
    },
    {
      "cell_type": "code",
      "source": [
        "# sum() : Sum of numeric elements\n"
      ],
      "metadata": {
        "id": "RN5s5laHgajC"
      },
      "execution_count": null,
      "outputs": []
    },
    {
      "cell_type": "code",
      "source": [
        "# max() : Max of numeric elements\n"
      ],
      "metadata": {
        "id": "wQauYa4Lggd9"
      },
      "execution_count": null,
      "outputs": []
    },
    {
      "cell_type": "code",
      "source": [
        "# min() : Min of numeric elements\n"
      ],
      "metadata": {
        "id": "qkN7nANngjqp"
      },
      "execution_count": null,
      "outputs": []
    },
    {
      "cell_type": "code",
      "source": [
        "# round() : Rounds the decimals\n"
      ],
      "metadata": {
        "id": "l-WGES9EgoBB"
      },
      "execution_count": null,
      "outputs": []
    },
    {
      "cell_type": "code",
      "source": [
        "# abs() : Returns the absolute value of numbers\n"
      ],
      "metadata": {
        "id": "cAYDF5Zug7xf"
      },
      "execution_count": null,
      "outputs": []
    },
    {
      "cell_type": "code",
      "source": [
        "# sorted() : Function\n",
        "ex = {2,3,4}\n"
      ],
      "metadata": {
        "id": "bdPK3JLViRmj"
      },
      "execution_count": null,
      "outputs": []
    },
    {
      "cell_type": "code",
      "source": [
        "# .sort() : Method specific to list\n"
      ],
      "metadata": {
        "id": "_kT1l415iWJd"
      },
      "execution_count": null,
      "outputs": []
    },
    {
      "cell_type": "code",
      "source": [
        "# bin()\tReturns the binary version of a number\n",
        "bin(17) #—> ‘0b10001’"
      ],
      "metadata": {
        "colab": {
          "base_uri": "https://localhost:8080/",
          "height": 35
        },
        "id": "ihLV9gGvhJ4u",
        "outputId": "de67cb74-6212-4d34-c7b1-0d39338f0fe5"
      },
      "execution_count": null,
      "outputs": [
        {
          "output_type": "execute_result",
          "data": {
            "text/plain": [
              "'0b10001'"
            ],
            "application/vnd.google.colaboratory.intrinsic+json": {
              "type": "string"
            }
          },
          "metadata": {},
          "execution_count": 63
        }
      ]
    },
    {
      "cell_type": "code",
      "source": [
        "#hex() Returns the binary version of a number\n",
        "hex(17)"
      ],
      "metadata": {
        "colab": {
          "base_uri": "https://localhost:8080/",
          "height": 35
        },
        "id": "Mm0ivWEPhM9V",
        "outputId": "5163c891-c481-4ff9-da67-1f03c9bd2034"
      },
      "execution_count": null,
      "outputs": [
        {
          "output_type": "execute_result",
          "data": {
            "text/plain": [
              "'0x11'"
            ],
            "application/vnd.google.colaboratory.intrinsic+json": {
              "type": "string"
            }
          },
          "metadata": {},
          "execution_count": 61
        }
      ]
    },
    {
      "cell_type": "code",
      "source": [
        "# oct()\n",
        "oct(17)"
      ],
      "metadata": {
        "colab": {
          "base_uri": "https://localhost:8080/",
          "height": 35
        },
        "id": "RMStHFmrhQsr",
        "outputId": "a1ed1f7b-d640-4da8-da80-4bc98213897f"
      },
      "execution_count": null,
      "outputs": [
        {
          "output_type": "execute_result",
          "data": {
            "text/plain": [
              "'0o21'"
            ],
            "application/vnd.google.colaboratory.intrinsic+json": {
              "type": "string"
            }
          },
          "metadata": {},
          "execution_count": 62
        }
      ]
    },
    {
      "cell_type": "code",
      "source": [
        "# bin to decimal\n",
        "int('10001', 2) # ,2 indicates binary"
      ],
      "metadata": {
        "colab": {
          "base_uri": "https://localhost:8080/"
        },
        "id": "yhUQzRPdhYaK",
        "outputId": "0d2f16ef-9f15-4538-f6bb-ba4895511f13"
      },
      "execution_count": null,
      "outputs": [
        {
          "output_type": "execute_result",
          "data": {
            "text/plain": [
              "17"
            ]
          },
          "metadata": {},
          "execution_count": 64
        }
      ]
    },
    {
      "cell_type": "code",
      "source": [
        "# hex to decimal\n",
        "int('11',16)"
      ],
      "metadata": {
        "colab": {
          "base_uri": "https://localhost:8080/"
        },
        "id": "rlSJWUs4he6D",
        "outputId": "9f26af81-6882-492d-b629-16c0e2b76935"
      },
      "execution_count": null,
      "outputs": [
        {
          "output_type": "execute_result",
          "data": {
            "text/plain": [
              "17"
            ]
          },
          "metadata": {},
          "execution_count": 68
        }
      ]
    },
    {
      "cell_type": "code",
      "source": [
        "# oct to decimal\n",
        "int('21',8)"
      ],
      "metadata": {
        "colab": {
          "base_uri": "https://localhost:8080/"
        },
        "id": "CRzxAV7Vhwvc",
        "outputId": "ecbff0b8-65f5-431f-e9e9-832b361599f2"
      },
      "execution_count": null,
      "outputs": [
        {
          "output_type": "execute_result",
          "data": {
            "text/plain": [
              "17"
            ]
          },
          "metadata": {},
          "execution_count": 67
        }
      ]
    },
    {
      "cell_type": "code",
      "source": [
        "# ord()\tConvert an integer representing the Unicode of the specified character\n",
        "ord('a') # —> 97 : Unicode of the character\n"
      ],
      "metadata": {
        "colab": {
          "base_uri": "https://localhost:8080/"
        },
        "id": "vpKjLBDIhIm_",
        "outputId": "93c30a53-3e39-4c30-b53d-6cbfb7eefe30"
      },
      "execution_count": null,
      "outputs": [
        {
          "output_type": "execute_result",
          "data": {
            "text/plain": [
              "97"
            ]
          },
          "metadata": {},
          "execution_count": 70
        }
      ]
    },
    {
      "cell_type": "code",
      "source": [
        "# chr()\tReturns a character from the specified Unicode code.\n",
        "chr(97) #—> ‘a’\n"
      ],
      "metadata": {
        "colab": {
          "base_uri": "https://localhost:8080/",
          "height": 35
        },
        "id": "0goZQynphAhn",
        "outputId": "6fea60aa-b422-4885-867d-4af1fa7e7fb3"
      },
      "execution_count": null,
      "outputs": [
        {
          "output_type": "execute_result",
          "data": {
            "text/plain": [
              "'a'"
            ],
            "application/vnd.google.colaboratory.intrinsic+json": {
              "type": "string"
            }
          },
          "metadata": {},
          "execution_count": 71
        }
      ]
    },
    {
      "cell_type": "markdown",
      "source": [
        "#### Specific to string"
      ],
      "metadata": {
        "id": "AzbvdO69iI62"
      }
    },
    {
      "cell_type": "code",
      "source": [
        "# lower()\tConverts a string into lowercase\tString\n",
        "ex = 'Hello world'\n",
        "ex.lower() #—> ‘'hello world'’\n"
      ],
      "metadata": {
        "id": "f7Ld1eu4h7_H"
      },
      "execution_count": null,
      "outputs": []
    },
    {
      "cell_type": "code",
      "source": [
        "# upper()\tConverts a string into upper case.\tString\n",
        "ex = 'Hello world'\n",
        "ex.upper() #—> ‘'HELLO WORLD'’\n"
      ],
      "metadata": {
        "id": "XUZwIp0Yi5gK"
      },
      "execution_count": null,
      "outputs": []
    },
    {
      "cell_type": "code",
      "source": [
        "# title()\tConverts the first character of each word to upper case.\tString\n",
        "ex = 'hello world'\n",
        "ex.title() #—> ‘Hello World’\n"
      ],
      "metadata": {
        "id": "owvJsTqSi7eQ"
      },
      "execution_count": null,
      "outputs": []
    },
    {
      "cell_type": "code",
      "source": [
        "# strip()\tReturns a trimmed version of the string.\tString\n",
        "ex = '   hello world  '\n",
        "ex.strip() #—> ‘hello world’\n"
      ],
      "metadata": {
        "id": "bY7UKV32i9g_"
      },
      "execution_count": null,
      "outputs": []
    },
    {
      "cell_type": "code",
      "source": [
        "# split()\tSplits the string at the specified separator and returns a list.\tString\n",
        "ex = 'Hello world'\n",
        "ex.split(' ') #—> [’Hello’, ‘world’]\n"
      ],
      "metadata": {
        "id": "GTa8X0dVi-tA"
      },
      "execution_count": null,
      "outputs": []
    },
    {
      "cell_type": "code",
      "source": [
        "# join()\tmethod takes all items in an iterable and joins them into one string.\tString\n",
        "ex = ['h' , 'e' , 'l' , 'l' , 'o']\n",
        "\"-\".join(ex) #—> h-e-l-l-o"
      ],
      "metadata": {
        "colab": {
          "base_uri": "https://localhost:8080/",
          "height": 35
        },
        "id": "9_U85dX_i_al",
        "outputId": "26dce2c3-e45f-44c9-e681-f4b6e895a65b"
      },
      "execution_count": null,
      "outputs": [
        {
          "output_type": "execute_result",
          "data": {
            "text/plain": [
              "'h-e-l-l-o'"
            ],
            "application/vnd.google.colaboratory.intrinsic+json": {
              "type": "string"
            }
          },
          "metadata": {},
          "execution_count": 74
        }
      ]
    },
    {
      "cell_type": "markdown",
      "source": [
        "#### specific to Set"
      ],
      "metadata": {
        "id": "TfXK7cdXiLf9"
      }
    },
    {
      "cell_type": "code",
      "source": [
        "# union()\tReturn a set containing the union of sets\tset\n",
        "ex1 = {'a','b','c'}\n",
        "ex2 = {'c','d','e'}\n",
        "ex1.union(ex2) #—> {'a', 'b', 'c', 'd', 'e'}\n",
        "\n",
        "# Union Operator :  |\n",
        "ex1 | ex2"
      ],
      "metadata": {
        "colab": {
          "base_uri": "https://localhost:8080/"
        },
        "id": "tsB-FTzLiM4T",
        "outputId": "6334d1be-0d09-417f-bad7-a73992b35f4f"
      },
      "execution_count": null,
      "outputs": [
        {
          "output_type": "execute_result",
          "data": {
            "text/plain": [
              "{'a', 'b', 'c', 'd', 'e'}"
            ]
          },
          "metadata": {},
          "execution_count": 75
        }
      ]
    },
    {
      "cell_type": "code",
      "source": [
        "# intersection()\tReturns a set that is the intersection of two or more sets\tset\n",
        "ex1 = {'a','b','c'}\n",
        "ex2 = {'c','d','e'}\n",
        "ex1.intersection(ex2) #—> {'c'}\n",
        "# Intersection Operator :  &\n",
        "ex1 & ex2"
      ],
      "metadata": {
        "colab": {
          "base_uri": "https://localhost:8080/"
        },
        "id": "XA0nu7FjjT2p",
        "outputId": "1ea3e5bf-cac4-43fa-cbd2-52fddb144c4a"
      },
      "execution_count": null,
      "outputs": [
        {
          "output_type": "execute_result",
          "data": {
            "text/plain": [
              "{'c'}"
            ]
          },
          "metadata": {},
          "execution_count": 76
        }
      ]
    },
    {
      "cell_type": "code",
      "source": [
        "# difference()\tReturns a set containing the difference between two or more sets\tset\n",
        "ex1 = {'a','b','c'}\n",
        "ex2 = {'c','d','e'}\n",
        "ex1.difference(ex2) #—> {’a’, ’b’}\n",
        "# Intersection Operator :  -\n",
        "ex1 - ex2"
      ],
      "metadata": {
        "colab": {
          "base_uri": "https://localhost:8080/"
        },
        "id": "5-wETwdnjUf0",
        "outputId": "f4d74c16-3925-4719-c493-c34400e490bf"
      },
      "execution_count": null,
      "outputs": [
        {
          "output_type": "execute_result",
          "data": {
            "text/plain": [
              "{'a', 'b'}"
            ]
          },
          "metadata": {},
          "execution_count": 77
        }
      ]
    },
    {
      "cell_type": "code",
      "source": [
        "# symmetric_difference()\tReturns a set with the symmetric differences of two sets\tset\n",
        "ex1 = {'a','b','c'}\n",
        "ex2 = {'c','d','e'}\n",
        "ex1.symmetric_difference(ex2) #—> {’a’, ’b’, ’d’, ‘e’}"
      ],
      "metadata": {
        "colab": {
          "base_uri": "https://localhost:8080/"
        },
        "id": "RU6MYcX9jV0t",
        "outputId": "12512bba-a208-4afd-f77a-77a1f270df70"
      },
      "execution_count": null,
      "outputs": [
        {
          "output_type": "execute_result",
          "data": {
            "text/plain": [
              "{'a', 'b', 'd', 'e'}"
            ]
          },
          "metadata": {},
          "execution_count": 78
        }
      ]
    },
    {
      "cell_type": "code",
      "source": [],
      "metadata": {
        "id": "RZUnmxpPjpcx"
      },
      "execution_count": null,
      "outputs": []
    },
    {
      "cell_type": "markdown",
      "source": [
        "### List of function and methods (Quick Revision) : https://almabetter.notion.site/almabetter/Python-In-built-Functions-Methods-888c7749543c48bdb0ef2258782705cf"
      ],
      "metadata": {
        "id": "dD4nJYPjXUY3"
      }
    }
  ]
}