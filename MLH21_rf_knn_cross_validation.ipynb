{
  "nbformat": 4,
  "nbformat_minor": 0,
  "metadata": {
    "colab": {
      "provenance": [],
      "mount_file_id": "11AKv8N-lUN-LrOsOShyDzPj8ONt4lu7C",
      "authorship_tag": "ABX9TyP01LiTX043VZs0EFBpRz6d",
      "include_colab_link": true
    },
    "kernelspec": {
      "name": "python3",
      "display_name": "Python 3"
    },
    "language_info": {
      "name": "python"
    }
  },
  "cells": [
    {
      "cell_type": "markdown",
      "metadata": {
        "id": "view-in-github",
        "colab_type": "text"
      },
      "source": [
        "<a href=\"https://colab.research.google.com/github/LokeCoder11/KnowledgeReference/blob/main/MLH21_rf_knn_cross_validation.ipynb\" target=\"_parent\"><img src=\"https://colab.research.google.com/assets/colab-badge.svg\" alt=\"Open In Colab\"/></a>"
      ]
    },
    {
      "cell_type": "markdown",
      "source": [
        "You're given a dataset, 'customer_churn_dataset.csv', containing information on call duration, monthly charges, account length, and customer churn status. Using this dataset. Apply RF classifier and KNN classifier to predict customer churn and evaluate its performance using cross-validation."
      ],
      "metadata": {
        "id": "VmX_VL_9-OBT"
      }
    },
    {
      "cell_type": "code",
      "execution_count": null,
      "metadata": {
        "id": "HJtzUe2G8mdK"
      },
      "outputs": [],
      "source": []
    },
    {
      "cell_type": "code",
      "execution_count": 3,
      "metadata": {
        "id": "Pu_-Xqo_0i1N",
        "colab": {
          "base_uri": "https://localhost:8080/"
        },
        "outputId": "b26a6200-ae4b-48a9-c701-51d398361174"
      },
      "outputs": [
        {
          "output_type": "stream",
          "name": "stdout",
          "text": [
            "Cross-Validation Scores of knn: [-0.32816575 -0.24775914 -0.15193664 -0.07720329 -0.15255115  0.02352867\n",
            " -0.08397277 -0.01681957 -0.14556417 -0.01471561]\n",
            "Average Score of knn: -0.11951594228696458\n",
            "Cross-Validation Scores of rf: [0.83895131 0.84644195 0.84644195 0.86516854 0.82397004 0.84644195\n",
            " 0.84962406 0.87218045 0.82706767 0.86842105]\n",
            "Average Score of rf: 0.8484708963419786\n"
          ]
        }
      ],
      "source": [
        "from sklearn.neighbors import KNeighborsRegressor\n",
        "from sklearn.model_selection import cross_val_score\n",
        "import pandas as pd\n",
        "from sklearn.ensemble import RandomForestClassifier\n",
        "from sklearn.model_selection import train_test_split\n",
        "from sklearn.metrics import mean_squared_error, mean_absolute_error\n",
        "\n",
        "# Load the dataset into a pandas DataFrame\n",
        "data = pd.read_csv('/content/drive/MyDrive/Colab Notebooks/customer_churn_dataset.csv')\n",
        "\n",
        "# Separate the features (call duration, monthly charges, customer tenure) and the target variable (churn)\n",
        "X = data[['Total day minutes', 'Total day charge', 'Account length']]\n",
        "y = data['Churn']\n",
        "\n",
        "\n",
        "# Initialize an KNN classifier\n",
        "model_knn = KNeighborsRegressor(n_neighbors=3)\n",
        "\n",
        "# Perform 10-fold cross-validation\n",
        "scores = cross_val_score(model_knn, X, y, cv=10)\n",
        "\n",
        "# Print the cross-validation scores\n",
        "print(\"Cross-Validation Scores of knn:\", scores)\n",
        "print(\"Average Score of knn:\", scores.mean())\n",
        "\n",
        "\n",
        "# Initialize a RF classifier\n",
        "model1 = RandomForestClassifier()\n",
        "\n",
        "# Perform 10-fold cross-validation\n",
        "scores1 = cross_val_score(model1, X, y, cv=10)\n",
        "\n",
        "# Print the cross-validation scores\n",
        "print(\"Cross-Validation Scores of rf:\", scores1)\n",
        "print(\"Average Score of rf:\", scores1.mean())"
      ]
    }
  ]
}