{
  "cells": [
    {
      "cell_type": "markdown",
      "metadata": {
        "id": "view-in-github",
        "colab_type": "text"
      },
      "source": [
        "<a href=\"https://colab.research.google.com/github/LokeCoder11/KnowledgeReference/blob/main/Wk7OOPS_Concept%26ErrorHandling19th_Mar.ipynb\" target=\"_parent\"><img src=\"https://colab.research.google.com/assets/colab-badge.svg\" alt=\"Open In Colab\"/></a>"
      ]
    },
    {
      "cell_type": "markdown",
      "metadata": {
        "id": "lc9CLEYIFezr"
      },
      "source": [
        "# CUSTOM FUNCTION - for reusing FUNCTION -\n",
        "# The data passed to a custom function when it is called are called __. = ARGUMENTS\n",
        "* created with 'def'\n",
        "*  In Python, it is possible to define one function inside another function. These are known as nested functions. The inner function can only be called from within the outer function.\n",
        "* Custom functions in Python can be defined in one Python file and called from other Python files as long as they are in the same directory or accessible through the Python path.\n",
        "\n",
        "\n",
        "```\n",
        "def show(par, *arg, **kwarg):\n",
        "    \"\"\"Combination of different types of parameters\"\"\"\n",
        "    print(par,arg,kwarg)\n",
        "You can call the above function like this show(1,2,34,5,a='x',b='y',c='z') that print 1 (2,34,5) {‘a’:’x’,’b’:’y’,’c’:’z’} but if you try to call above function like this: show(par=1,2,34,5,a=’x’,b=’y’,c=’z’) that gives you exception. To resolve this you should declare function like this:\n",
        "\n",
        "Example-11:\n",
        "\n",
        "def f(*arg,par, **kwarg):\n",
        "    \"\"\"Perfect way of passing mixed arguments\"\"\"\n",
        "     print(arg, par, kwarg)\n",
        "```\n",
        "\n"
      ]
    },
    {
      "cell_type": "code",
      "execution_count": null,
      "metadata": {
        "id": "McJuiAgfFeRB"
      },
      "outputs": [],
      "source": [
        "def function_name(PARAMETERS :\"PARAMETER HINTS SHIFT+TAB\" = \"Default Parameter Value\"):\n",
        "  \"\"\"\n",
        "  Docstring\n",
        "\n",
        "  \"\"\"\n",
        "\n",
        "    # FUNCTION CODE goes here\n",
        "  return output_value\n",
        "\n",
        "#Parameters: These are the input values that the function will take.\n",
        "      # They are optional, and you can have as many or as few as you need.\n",
        "\n",
        "#Parameter Hints : Pressing \"Shift+Tab\" while calling a function\n",
        "      # will display the parameter hints that were initially defined.\n",
        "\n",
        "# Function code : any valid Python code.\n",
        "\n",
        "# Return: This keyword indicates the value that the function will return.\n",
        "      # This is also optional, and you can have 'multiple return' statements\n",
        "      # in a function.\n",
        "\n"
      ]
    },
    {
      "cell_type": "markdown",
      "metadata": {
        "id": "aySzznvPoBtT"
      },
      "source": [
        "\n",
        "\n",
        "```\n",
        "In a job interview, Mihir was asked to find count of all contiguous substrings starting and ending with same character, for a given string S. After an interview, he wrote the recursive python program to check the answer.\n",
        "\n",
        "So, let's practice the same, and write a recursive python function.\n",
        "\n",
        "Example 1:\n",
        "Input:\n",
        "abcab\n",
        "\n",
        "Output:\n",
        "7\n",
        "\n",
        "Explanation:\n",
        "There are 15 substrings of \"abcab\" a, ab, abc, abca, abcab, b, bc, bca bcab, c, ca, cab, a, ab, b\n",
        "\n",
        "Out of the above substrings, there are 7 substrings : a, abca, b, bcab, c, a and b.\n",
        "\n",
        "Example 2:\n",
        "Input:\n",
        "aba\n",
        "\n",
        "Output:\n",
        "4\n",
        "\n",
        "Explanation:\n",
        "The substrings are a, b, a and aba\n",
        "```\n",
        "\n"
      ]
    },
    {
      "cell_type": "code",
      "execution_count": null,
      "metadata": {
        "colab": {
          "base_uri": "https://localhost:8080/"
        },
        "id": "pWfhLI0ouaAJ",
        "outputId": "77536176-4720-4a94-b0e8-284cf492e518"
      },
      "outputs": [
        {
          "name": "stdout",
          "output_type": "stream",
          "text": [
            "125\n"
          ]
        }
      ],
      "source": [
        "# nested def\n",
        "\n",
        "def cube(x):\n",
        "    return x * x * x\n",
        "\n",
        "def add_and_cube(a, b):\n",
        "    c = a + b\n",
        "    return cube(c)\n",
        "\n",
        "print(add_and_cube(2, 3))"
      ]
    },
    {
      "cell_type": "code",
      "execution_count": null,
      "metadata": {
        "colab": {
          "base_uri": "https://localhost:8080/"
        },
        "id": "ZdRZJnKylou2",
        "outputId": "10bcd49d-0d5c-4b51-c12f-24ac134b5922"
      },
      "outputs": [
        {
          "name": "stdout",
          "output_type": "stream",
          "text": [
            "4\n"
          ]
        }
      ],
      "source": [
        "def count_substrings(s):\n",
        "  \"\"\"\n",
        "  This function counts the number of contiguous substrings starting and ending with the same character in a string.\n",
        "\n",
        "  Args:\n",
        "      s: The input string.\n",
        "\n",
        "  Returns:\n",
        "      The number of contiguous substrings.\n",
        "  \"\"\"\n",
        "  if len(s) <= 1:\n",
        "    return 1  # Base case: single character or empty string\n",
        "\n",
        "  count = 0\n",
        "  for i in range(len(s)):\n",
        "    # Check if the first and last characters are the same\n",
        "    if s[i] == s[0]:\n",
        "      # Recursively call the function for the substring starting from the next character\n",
        "      count += count_substrings(s[i+1:])\n",
        "\n",
        "  # Add 1 to count the current character itself (if it's unique)\n",
        "  return count + 1\n",
        "\n",
        "# Example usage\n",
        "s = \"aba\"\n",
        "result = count_substrings(s)\n",
        "print(result)  # Output: 7\n"
      ]
    },
    {
      "cell_type": "markdown",
      "metadata": {
        "id": "B7AVgZK_oOHD"
      },
      "source": [
        "Write a Python function to find the Max of three numbers.\n",
        "\n",
        "Example 1:\n",
        "Input:\n",
        "-10 -20 -30\n",
        "\n",
        "Output:\n",
        "-10"
      ]
    },
    {
      "cell_type": "code",
      "execution_count": null,
      "metadata": {
        "colab": {
          "base_uri": "https://localhost:8080/"
        },
        "id": "lc6ZvkfzoP5Q",
        "outputId": "3232f0b6-ee8c-4d6b-cba7-7b5efccbc781"
      },
      "outputs": [
        {
          "name": "stdout",
          "output_type": "stream",
          "text": [
            "-10\n"
          ]
        }
      ],
      "source": [
        "#Using the built-in max function This is the most concise and efficient approach:\n",
        "def find_max(num1, num2, num3):\n",
        "  \"\"\"\n",
        "  This function finds the maximum of three numbers using the built-in max function.\n",
        "\n",
        "  Args:\n",
        "      num1: The first number.\n",
        "      num2: The second number.\n",
        "      num3: The third number.\n",
        "\n",
        "  Returns:\n",
        "      The maximum of the three numbers.\n",
        "  \"\"\"\n",
        "\n",
        "  return max(num1, num2, num3)\n",
        "\n",
        "# Example usage\n",
        "a = -10\n",
        "b = -20\n",
        "c = -30\n",
        "maximum = find_max(a, b, c)\n",
        "print(maximum)  # Output: -10"
      ]
    },
    {
      "cell_type": "code",
      "execution_count": null,
      "metadata": {
        "colab": {
          "base_uri": "https://localhost:8080/"
        },
        "id": "2gH2ccYBqtov",
        "outputId": "c066d9f3-882b-4b9f-f8d1-8d9ffe3901d2"
      },
      "outputs": [
        {
          "name": "stdout",
          "output_type": "stream",
          "text": [
            "-10\n"
          ]
        }
      ],
      "source": [
        "def find_max(num1, num2, num3):\n",
        "  \"\"\"\n",
        "  This function finds the maximum of three numbers using conditional statements.\n",
        "\n",
        "  Args:\n",
        "      num1: The first number.\n",
        "      num2: The second number.\n",
        "      num3: The third number.\n",
        "\n",
        "  Returns:\n",
        "      The maximum of the three numbers.\n",
        "  \"\"\"\n",
        "\n",
        "  # Compare the numbers and return the largest one\n",
        "  if num1 >= num2 and num1 >= num3:\n",
        "    return num1\n",
        "  elif num2 >= num1 and num2 >= num3:\n",
        "    return num2\n",
        "  else:\n",
        "    return num3\n",
        "\n",
        "\n",
        "# Example usage\n",
        "a = -10\n",
        "b = -20\n",
        "c = -30\n",
        "maximum = find_max(a, b, c)\n",
        "print(maximum)  # Output: -10"
      ]
    },
    {
      "cell_type": "markdown",
      "metadata": {
        "id": "YDlqYlOSq5Gd"
      },
      "source": [
        "Write a Python program to find the string consisting of all the words whose lengths are prime numbers.\n",
        "\n",
        "Example 1:\n",
        "Input:\n",
        "The quick brown fox jumps over the lazy dog.\n",
        "\n",
        "Output:\n",
        "The quick brown fox jumps the"
      ]
    },
    {
      "cell_type": "code",
      "execution_count": null,
      "metadata": {
        "colab": {
          "base_uri": "https://localhost:8080/"
        },
        "id": "xCNI2BQ9q7PD",
        "outputId": "3090d0f3-2271-4b9c-f6f3-140f436ae75b"
      },
      "outputs": [
        {
          "name": "stdout",
          "output_type": "stream",
          "text": [
            "The quick brown fox jumps the\n"
          ]
        }
      ],
      "source": [
        "def is_prime(num):\n",
        "  \"\"\"\n",
        "  This function checks if a number is prime.\n",
        "\n",
        "  Args:\n",
        "      num: The number to check.\n",
        "\n",
        "  Returns:\n",
        "      True if the number is prime, False otherwise.\n",
        "  \"\"\"\n",
        "  if num <= 1:\n",
        "    return False\n",
        "  for i in range(2, int(num**0.5) + 1):\n",
        "    if num % i == 0:\n",
        "      return False\n",
        "  return True\n",
        "\n",
        "def find_prime_words(sentence):\n",
        "  \"\"\"\n",
        "  This function finds the string consisting of words with prime length from a sentence.\n",
        "\n",
        "  Args:\n",
        "      sentence: The input sentence.\n",
        "\n",
        "  Returns:\n",
        "      The string containing words with prime length.\n",
        "  \"\"\"\n",
        "  prime_words = \"\"\n",
        "  for word in sentence.split():\n",
        "    if is_prime(len(word)):\n",
        "      prime_words += word + \" \"\n",
        "  return prime_words.strip()\n",
        "\n",
        "# Example usage\n",
        "sentence = \"The quick brown fox jumps over the lazy dog.\"\n",
        "prime_word_string = find_prime_words(sentence)\n",
        "print(prime_word_string)  # Output: The quick brown fox jumps the\n"
      ]
    },
    {
      "cell_type": "code",
      "execution_count": null,
      "metadata": {
        "colab": {
          "base_uri": "https://localhost:8080/"
        },
        "id": "c8JK8rv3Jrm_",
        "outputId": "212c15e8-3c53-4d00-acf2-648ba4a5eaf2"
      },
      "outputs": [
        {
          "name": "stdout",
          "output_type": "stream",
          "text": [
            "1330\n"
          ]
        }
      ],
      "source": [
        "def calculate_sales(monday_sales=0, tuesday_sales=0, wednesday_sales=0, thursday_sales=0, friday_sales=0, saturday_sales=0, sunday_sales=0):\n",
        "    \"\"\"\n",
        "    Calculates the total sales for a given week by adding up the\n",
        "    sales for each day of the week.\n",
        "\n",
        "    Args:\n",
        "        monday_sales (float): Sales figure for Monday.\n",
        "        tuesday_sales (float): Sales figure for Tuesday.\n",
        "        wednesday_sales (float): Sales figure for Wednesday.\n",
        "        thursday_sales (float): Sales figure for Thursday.\n",
        "        friday_sales (float): Sales figure for Friday.\n",
        "        saturday_sales (float): Sales figure for Saturday.\n",
        "        sunday_sales (float): Sales figure for Sunday.\n",
        "\n",
        "    Returns:\n",
        "        float: The total sales for the week.\n",
        "    \"\"\"\n",
        "    # Sum up the sales figures for each day of the week\n",
        "    total_sales = monday_sales + tuesday_sales + wednesday_sales + thursday_sales + friday_sales + saturday_sales + sunday_sales\n",
        "\n",
        "    # Return the total sales\n",
        "    return total_sales\n",
        "\n",
        "# USE CASE\n",
        "\n",
        "total_sales1 = calculate_sales(monday_sales = 100, tuesday_sales = 200, wednesday_sales=150, thursday_sales=300, friday_sales=250, saturday_sales=180, sunday_sales=150)\n",
        "print(total_sales1)\n"
      ]
    },
    {
      "cell_type": "code",
      "execution_count": null,
      "metadata": {
        "colab": {
          "base_uri": "https://localhost:8080/"
        },
        "id": "hdbmOqpVMyVJ",
        "outputId": "85254254-4a42-4905-b4ca-712a41c9a019"
      },
      "outputs": [
        {
          "name": "stdout",
          "output_type": "stream",
          "text": [
            "7\n",
            "12\n"
          ]
        }
      ],
      "source": [
        "dict1 = {'a':1, 'b':2, 'c':3, 'b':7, 'c':9}\n",
        "#define how each iteration stored in dict, 0 defines start value, '+1' defines value for each orrurance\n",
        "letter_count1 = dict1.get('b',0) # get = gets 'last' value of the 'key'\n",
        "letter_count2 = dict1.get('b',0)+5 # 0 is default empty value & +5 defines value to\n",
        "# latest occurance of character but if counted in loop 'each occurance' gets that '+5' value extra\n",
        "print(letter_count1)\n",
        "print(letter_count2)"
      ]
    },
    {
      "cell_type": "code",
      "execution_count": null,
      "metadata": {
        "colab": {
          "base_uri": "https://localhost:8080/"
        },
        "id": "XjoRx9ENLNAs",
        "outputId": "f960a342-9274-49be-882a-ec2765612821"
      },
      "outputs": [
        {
          "name": "stdout",
          "output_type": "stream",
          "text": [
            "{'a': 2, 'n': 3, 'y': 3, 'b': 1, 'c': 1}\n"
          ]
        }
      ],
      "source": [
        "# Write a program which would\n",
        "# calculate the count of each\n",
        "# unique characters in a words and returns an appropriate\n",
        "# dictionary. Use a custom function to achieve this.\n",
        "def count_letters(word):\n",
        "\n",
        "    letter_count = {} #initialize empty dict\n",
        "    for letter in word:\n",
        "        if letter.isalpha():\n",
        "            letter = letter.lower()\n",
        "            #define how each iteration stored in dict, 0 defines start value, '+1' defines value for each orrurance\n",
        "            letter_count[letter] = letter_count.get(letter, 0) +1\n",
        "\n",
        "    return letter_count\n",
        "\n",
        "# Try out here\n",
        "word = \"Any Bny Cany\"\n",
        "result = count_letters(word)\n",
        "print(result)"
      ]
    },
    {
      "cell_type": "code",
      "execution_count": null,
      "metadata": {
        "colab": {
          "base_uri": "https://localhost:8080/"
        },
        "id": "TmuI29e-cXbj",
        "outputId": "4f3ffea5-1ff6-4d0f-a085-7b386f8a4f18"
      },
      "outputs": [
        {
          "name": "stdout",
          "output_type": "stream",
          "text": [
            "Global variable value:  15\n",
            "Local variable value:  20\n"
          ]
        }
      ],
      "source": [
        "\n",
        "global_var = 10                      # Defining a global variable\n",
        "\n",
        "def modify_global_var():\n",
        "    \"\"\"\n",
        "    Modifies the global variable by adding 5 to its current value.\n",
        "    \"\"\"\n",
        "    # Accessing the global variable\n",
        "    global global_var\n",
        "\n",
        "\n",
        "    global_var += 5                 # Modifying the global variable\n",
        "\n",
        "def use_local_var():\n",
        "    \"\"\"\n",
        "    Prints the value of a local variable.\n",
        "    \"\"\"\n",
        "\n",
        "    local_var = 20                  # Defining a local variable\n",
        "\n",
        "    # Printing the value of the local variable\n",
        "    print(\"Local variable value: \", local_var)\n",
        "\n",
        "# Calling the functions\n",
        "\n",
        "# Modifying the global variable using the modify_global_var function\n",
        "modify_global_var()\n",
        "\n",
        "# Printing the new value of the global variable\n",
        "print(\"Global variable value: \", global_var)\n",
        "\n",
        "# Using the use_local_var function to print the value of a local variable\n",
        "use_local_var()\n"
      ]
    },
    {
      "cell_type": "code",
      "execution_count": null,
      "metadata": {
        "colab": {
          "base_uri": "https://localhost:8080/"
        },
        "id": "-MK2qGrQdE6e",
        "outputId": "ca7c981b-1e17-4593-afa4-0d033b3be796"
      },
      "outputs": [
        {
          "name": "stdout",
          "output_type": "stream",
          "text": [
            "!dlroW ,olleH\n"
          ]
        }
      ],
      "source": [
        "# Write a function which takes a string arguments and returns the reversed string to the user.\n",
        "\n",
        "# my_string = \"Hello, world!\"\n",
        "\n",
        "def reverse_string(string_input):\n",
        "\n",
        "    reversed_string = string_input[-1::-1]\n",
        "    return reversed_string\n",
        "\n",
        "# Try out here\n",
        "input_string = \"Hello, World!\"\n",
        "reversed_string1 = reverse_string(input_string)\n",
        "print(reversed_string1)"
      ]
    },
    {
      "cell_type": "code",
      "execution_count": null,
      "metadata": {
        "colab": {
          "base_uri": "https://localhost:8080/"
        },
        "id": "cta-akqydw68",
        "outputId": "a939c6db-83a6-4098-ec57-45846ac7712a"
      },
      "outputs": [
        {
          "name": "stdout",
          "output_type": "stream",
          "text": [
            "12.56\n"
          ]
        }
      ],
      "source": [
        "def calculate_area(radius):\n",
        "   return 3.14 * radius ** 2\n",
        "\n",
        "x = calculate_area(2)\n",
        "print(x)"
      ]
    },
    {
      "cell_type": "code",
      "execution_count": null,
      "metadata": {
        "colab": {
          "base_uri": "https://localhost:8080/"
        },
        "id": "3afnDTlXek8H",
        "outputId": "4c19691e-4e36-41b1-b008-ea94a074a13c"
      },
      "outputs": [
        {
          "name": "stdout",
          "output_type": "stream",
          "text": [
            "10\n"
          ]
        }
      ],
      "source": [
        "def calculate_perimeter(length, width):\n",
        "   return 2 * (length + width)\n",
        "x = calculate_perimeter(3,2)\n",
        "print(x)"
      ]
    },
    {
      "cell_type": "code",
      "execution_count": null,
      "metadata": {
        "colab": {
          "base_uri": "https://localhost:8080/"
        },
        "id": "jONKytvQfSrw",
        "outputId": "6e441c94-f28e-4a9a-f217-dac2782bcccf"
      },
      "outputs": [
        {
          "name": "stdout",
          "output_type": "stream",
          "text": [
            "6\n"
          ]
        }
      ],
      "source": [
        "def calculate_area(length, width):\n",
        "   return length * width\n",
        "x = calculate_area(3,2)\n",
        "print(x)"
      ]
    },
    {
      "cell_type": "code",
      "execution_count": null,
      "metadata": {
        "colab": {
          "base_uri": "https://localhost:8080/"
        },
        "id": "M5bdzK4eezXG",
        "outputId": "e7eb8fc4-6b0c-422a-e5a2-929a8bf7cc0c"
      },
      "outputs": [
        {
          "name": "stdout",
          "output_type": "stream",
          "text": [
            "Hello, Lok! How are you?\n",
            "None\n"
          ]
        }
      ],
      "source": [
        "def greet(name):\n",
        "   print(\"Hello, \" + name + \"! How are you?\") # bracket after print, no bracket after return\n",
        "   # def works with print instead of return (if string output)\n",
        "x = greet(\"Lok\")\n",
        "print(x)"
      ]
    },
    {
      "cell_type": "code",
      "execution_count": null,
      "metadata": {
        "colab": {
          "base_uri": "https://localhost:8080/"
        },
        "id": "GWhKRmo_fgLa",
        "outputId": "57478b33-01ee-4618-a6a4-7b7b8257c83a"
      },
      "outputs": [
        {
          "name": "stdout",
          "output_type": "stream",
          "text": [
            "Hello, Lok! You are 8 years old.\n",
            "Hello, Hrid! You are 10 years old.\n"
          ]
        }
      ],
      "source": [
        "def greet2(name,age):\n",
        "  return \"Hello, \" + name + \"! You are \" + age + \" years old.\"\n",
        "x = greet2 (\"Lok\", \"8\") #number inputed as string since output string takes string input\n",
        "# when concatenating the strings to create the greeting message, the \"age\" parameter is\n",
        "# used without converting it to a string. To fix the error, the \"age\" parameter\n",
        "# should be converted to a string using str(age) before concatenation.\n",
        "y = greet2 (\"Hrid\", str(10))\n",
        "\n",
        "print(x)\n",
        "print(y)"
      ]
    },
    {
      "cell_type": "code",
      "execution_count": null,
      "metadata": {
        "colab": {
          "base_uri": "https://localhost:8080/"
        },
        "id": "BxJtYXjHNSRu",
        "outputId": "6c1f5f82-ac28-4291-fc11-85ae613a75fc"
      },
      "outputs": [
        {
          "name": "stdout",
          "output_type": "stream",
          "text": [
            "5\n"
          ]
        }
      ],
      "source": [
        "  # Try out here\n",
        "\n",
        "\n",
        "def grading_system(stud_ans, ans_key):\n",
        "\n",
        "  grad = 0\n",
        "\n",
        "  for i, j in zip(stud_ans, ans_key):\n",
        "    if i == j:\n",
        "      grad += 1\n",
        "    else:\n",
        "      grad += 0\n",
        "\n",
        "  return grad\n",
        "\n",
        "\n",
        "\n",
        "# Here are the student's answers\n",
        "student_answers = [\"A\", \"C\", \"A\", \"D\", \"E\", \"F\", \"G\"]\n",
        "# Here is the answer key\n",
        "answer_key = [\"A\", \"B\", \"C\", \"D\", \"E\", \"F\", \"G\"]\n",
        "\n",
        "x = grading_system(student_answers, answer_key)\n",
        "print(x)\n",
        "\n"
      ]
    },
    {
      "cell_type": "markdown",
      "metadata": {
        "id": "d2_4Xun7allS"
      },
      "source": [
        "2. **Write a function that takes a list of integers as input and returns the sum of the squares of the even numbers in the list.**"
      ]
    },
    {
      "cell_type": "code",
      "execution_count": null,
      "metadata": {
        "colab": {
          "base_uri": "https://localhost:8080/"
        },
        "id": "tJpYHihm3yDC",
        "outputId": "244d2714-3c8a-4085-92c0-f43f1c4cb798"
      },
      "outputs": [
        {
          "name": "stdout",
          "output_type": "stream",
          "text": [
            "220\n"
          ]
        }
      ],
      "source": [
        "def sum_of_even_no_sq(list1):\n",
        "  total1 = 0\n",
        "\n",
        "  for i in list1:\n",
        "    if i  % 2 == 0:\n",
        "      total1 = total1 + (i ** 2)\n",
        "  return total1\n",
        "\n",
        "list2 = [1, 2, 3, 4, 5, 6, 7, 8, 9, 10]\n",
        "\n",
        "print(sum_of_even_no_sq(list2))"
      ]
    },
    {
      "cell_type": "markdown",
      "metadata": {
        "id": "VrK-FEkAbeAz"
      },
      "source": [
        "3. **Write a function that takes a string as input and returns a new string with all vowels removed.**"
      ]
    },
    {
      "cell_type": "code",
      "execution_count": null,
      "metadata": {
        "colab": {
          "base_uri": "https://localhost:8080/"
        },
        "id": "hfok4ITG56PE",
        "outputId": "f5c61cb5-400b-422c-db6b-46a094b26aed"
      },
      "outputs": [
        {
          "name": "stdout",
          "output_type": "stream",
          "text": [
            "Hll, Wrld!\n"
          ]
        }
      ],
      "source": [
        "def removed_vowel_string(string1):\n",
        "  new_string1 = ''\n",
        "  for i in string1:\n",
        "    if i not in 'aeiouAEIOU':\n",
        "      new_string1 = new_string1 + i\n",
        "  return new_string1\n",
        "\n",
        "string2 = \"Hello, World!\"\n",
        "print(removed_vowel_string(string2))\n"
      ]
    },
    {
      "cell_type": "markdown",
      "metadata": {
        "id": "JSsuJSPZb3qI"
      },
      "source": [
        "4. **Write a function that takes a list of strings as input and returns a new list with all strings in uppercase.**"
      ]
    },
    {
      "cell_type": "code",
      "execution_count": null,
      "metadata": {
        "colab": {
          "base_uri": "https://localhost:8080/"
        },
        "id": "scOogeyD8_6E",
        "outputId": "25ceaac9-5f15-449f-928c-e6d1ccbabe71"
      },
      "outputs": [
        {
          "name": "stdout",
          "output_type": "stream",
          "text": [
            "['APPLE', 'BANANA', 'CHERRY', 'DATE']\n"
          ]
        }
      ],
      "source": [
        "def change_upper_in_list(list3):\n",
        "\n",
        "  list4 = []\n",
        "\n",
        "  for i in list3:\n",
        "    list4.append(i.upper())\n",
        "  return list4\n",
        "\n",
        "list5 = [\"apple\", \"banana\", \"cherry\", \"date\"]\n",
        "print(change_upper_in_list(list5))\n"
      ]
    },
    {
      "cell_type": "markdown",
      "metadata": {
        "id": "ndYA3rZVcGmk"
      },
      "source": [
        "5. **Write a function that takes a dictionary as input and returns a new dictionary with the same keys but with all values squared.**"
      ]
    },
    {
      "cell_type": "code",
      "execution_count": null,
      "metadata": {
        "colab": {
          "base_uri": "https://localhost:8080/"
        },
        "id": "Rs94gwK6G9XE",
        "outputId": "4cd97592-fe91-4df3-d654-3e4ad5685d8e"
      },
      "outputs": [
        {
          "name": "stdout",
          "output_type": "stream",
          "text": [
            "{'a': 4, 'b': 9, 'c': 16}\n"
          ]
        }
      ],
      "source": [
        "def dict_value_sq(dict1):\n",
        "  new_dict2 = {}\n",
        "\n",
        "  for i,j in dict1.items():\n",
        "    new_dict2[i] = j ** 2\n",
        "  return new_dict2\n",
        "\n",
        "dict3 = {'a' : 2, 'b' : 3, 'c' : 4}\n",
        "\n",
        "print(dict_value_sq(dict3))\n"
      ]
    },
    {
      "cell_type": "code",
      "execution_count": null,
      "metadata": {
        "colab": {
          "base_uri": "https://localhost:8080/"
        },
        "id": "lAgBVJaQdHp9",
        "outputId": "b43166cb-0e3e-403c-955e-e068949c7750"
      },
      "outputs": [
        {
          "name": "stdout",
          "output_type": "stream",
          "text": [
            "!dlroW ,olleH\n"
          ]
        }
      ],
      "source": [
        "def reverse_string(string):\n",
        "    \"\"\"\n",
        "    Return a reversed version of the input string.\n",
        "    \"\"\"\n",
        "    reversed_string = \"\"\n",
        "    for i in range(len(string)-1, -1, -1):  # Loop over the string in reverse order\n",
        "        reversed_string += string[i]  # Add each character to the reversed string\n",
        "    return reversed_string\n",
        "\n",
        "\n",
        "my_string = \"Hello, World!\"\n",
        "reversed_string = reverse_string(my_string)\n",
        "print(reversed_string)"
      ]
    },
    {
      "cell_type": "markdown",
      "metadata": {
        "id": "0veM7xUwkknl"
      },
      "source": [
        "# 'default parameters' - 'after non-default parameters'\n",
        "* Python assigns values to parameters based on their position in the argument list."
      ]
    },
    {
      "cell_type": "code",
      "execution_count": null,
      "metadata": {
        "colab": {
          "base_uri": "https://localhost:8080/",
          "height": 106
        },
        "id": "XtV3DxVckB4w",
        "outputId": "7846a3a6-5ef2-4be4-c0f2-05425cb92bf2"
      },
      "outputs": [
        {
          "ename": "SyntaxError",
          "evalue": "non-default argument follows default argument (<ipython-input-38-dd56f865b7ac>, line 2)",
          "output_type": "error",
          "traceback": [
            "\u001b[0;36m  File \u001b[0;32m\"<ipython-input-38-dd56f865b7ac>\"\u001b[0;36m, line \u001b[0;32m2\u001b[0m\n\u001b[0;31m    def my_function(y=10, x):\u001b[0m\n\u001b[0m                          ^\u001b[0m\n\u001b[0;31mSyntaxError\u001b[0m\u001b[0;31m:\u001b[0m non-default argument follows default argument\n"
          ]
        }
      ],
      "source": [
        "# This is not allowed, since non-default parameter follows default parameter\n",
        "def my_function(y=10, x):\n",
        "  return x+y\n",
        "    # do something with x and y\n",
        "\n",
        "my_function(12)"
      ]
    },
    {
      "cell_type": "code",
      "execution_count": null,
      "metadata": {
        "colab": {
          "base_uri": "https://localhost:8080/"
        },
        "id": "zBhC4_20lIbN",
        "outputId": "44634cb8-aa4e-47f7-842c-32388552e02f"
      },
      "outputs": [
        {
          "data": {
            "text/plain": [
              "30"
            ]
          },
          "execution_count": 37,
          "metadata": {},
          "output_type": "execute_result"
        }
      ],
      "source": [
        "# This is not allowed, since non-default parameter follows default parameter\n",
        "def my_function(x, y=10):\n",
        "  return x+y\n",
        "    # do something with x and y\n",
        "\n",
        "my_function(20)"
      ]
    },
    {
      "cell_type": "code",
      "execution_count": null,
      "metadata": {
        "colab": {
          "base_uri": "https://localhost:8080/",
          "height": 35
        },
        "id": "4tQkpyw1lhG2",
        "outputId": "ec45287f-d666-4ac1-f93e-0eddfdd8466c"
      },
      "outputs": [
        {
          "data": {
            "application/vnd.google.colaboratory.intrinsic+json": {
              "type": "string"
            },
            "text/plain": [
              "'You burned 200 calories during the running workout.'"
            ]
          },
          "execution_count": 39,
          "metadata": {},
          "output_type": "execute_result"
        }
      ],
      "source": [
        "# function to calculate calories burned. Users input workout duration and activity type\n",
        "#  function that uses a while loop to calculate calories burned.\n",
        "# Running- Burns 10 calories per minute Swimming- Burns 8 calories per minute Cycling- Burn 6 calories per minute\n",
        "def calculate_calories_burned(duration_mins, activity):\n",
        "\n",
        "    calories_burned = 0\n",
        "    while duration_mins > 0:\n",
        "        if activity.lower() == \"running\":\n",
        "            calories_burned += 10\n",
        "        elif activity.lower() == \"swimming\":\n",
        "            calories_burned += 8\n",
        "        elif activity.lower() == \"cycling\":\n",
        "            calories_burned += 6\n",
        "        duration_mins -= 1\n",
        "\n",
        "    return f\"You burned {calories_burned} calories during the {activity} workout.\"\n",
        "\n",
        "# Test the function\n",
        "calculate_calories_burned(duration_mins=20, activity=\"running\")"
      ]
    },
    {
      "cell_type": "code",
      "execution_count": null,
      "metadata": {
        "colab": {
          "base_uri": "https://localhost:8080/"
        },
        "id": "-kVkrS2DzQOw",
        "outputId": "d4f895e4-a0d8-48b4-d0e6-b8fa8953fb78"
      },
      "outputs": [
        {
          "name": "stdout",
          "output_type": "stream",
          "text": [
            "{'Lord of the Rings': 5, 'Game of Thrones': 8, 'The Hunger Games': 2, 'To Kill a Mockingbird': 6}\n"
          ]
        }
      ],
      "source": [
        "# PROBLEM WITH DICTIONARY\n",
        "\n",
        "def calculate_books_to_order(books):\n",
        "    books_to_order = {}\n",
        "    for title, stock in books.items():\n",
        "        if stock < 10:\n",
        "            books_to_order[title] = 10 - stock\n",
        "    return books_to_order\n",
        "\n",
        "# Input - list of books and their current stock\n",
        "books = {\n",
        "    \"Harry Potter\": 10,\n",
        "    \"Lord of the Rings\": 5,\n",
        "    \"Game of Thrones\": 2,\n",
        "    \"The Hunger Games\": 8,\n",
        "    \"To Kill a Mockingbird\": 4\n",
        "}\n",
        "\n",
        "# Calculate quantity of books to order\n",
        "books_to_order = calculate_books_to_order(books)\n",
        "\n",
        "# Output - dictionary of title and number of books to order\n",
        "print(books_to_order)"
      ]
    },
    {
      "cell_type": "markdown",
      "metadata": {
        "id": "A8uXqlXGcIyH"
      },
      "source": [
        "##**Recursion 🔃🔃🔃**"
      ]
    },
    {
      "cell_type": "markdown",
      "metadata": {
        "id": "kZh3TVMBdJU6"
      },
      "source": [
        "* Recursion - solve problems that can be broken down into smaller, similar problems.\n",
        "\n",
        "* In a recursive function, the function is called with a parameter that is gradually reduced or changed until it reaches a\n",
        "\n",
        "* 🧱 base case that can be directly solved. The base case is the simplest possible case that the function can solve without calling itself.\n",
        "\n",
        "* solve problems like searching through a list, or finding the factorial of a number 🧮.\n",
        "\n",
        "\n"
      ]
    },
    {
      "cell_type": "markdown",
      "metadata": {
        "id": "vejZn4mte5Oy"
      },
      "source": [
        "Here's an example:"
      ]
    },
    {
      "cell_type": "code",
      "execution_count": null,
      "metadata": {
        "colab": {
          "base_uri": "https://localhost:8080/"
        },
        "id": "15Etd8lqe4RI",
        "outputId": "70f17f1f-dd6c-4adc-991c-dde0e1b24f24"
      },
      "outputs": [
        {
          "name": "stdout",
          "output_type": "stream",
          "text": [
            "24\n",
            "120\n"
          ]
        }
      ],
      "source": [
        "def factorial(n=0):\n",
        "    \"\"\"\n",
        "    Calculates the factorial of a non-negative integer.\n",
        "\n",
        "    Args:\n",
        "        n (int): A non-negative integer to calculate the factorial of.\n",
        "\n",
        "    Returns:\n",
        "        int: The factorial of the input integer.\n",
        "    \"\"\"\n",
        "    # Base case: if n is 0, the factorial is 1\n",
        "    if n == 0:\n",
        "        return 1\n",
        "    # Recursive case: multiply n by the factorial of n-1\n",
        "    else:\n",
        "        return n * factorial(n-1)\n",
        "\n",
        "x = factorial(4)\n",
        "print(x)\n",
        "\n",
        "print(factorial(5)) #directly print function"
      ]
    },
    {
      "cell_type": "markdown",
      "metadata": {
        "id": "bcokLYdzfB1h"
      },
      "source": [
        "if we call factorial(4), it will first return 4 * factorial(3), which will in turn return 4 * 3 * factorial(2), and so on, until it reaches factorial(0) which will return 1. Then the previous function calls will be resolved as shown below:\n",
        "\n",
        "\n",
        "factorial(4) = 4 * factorial(3) = 4 * 3 * factorial(2) = 4 * 3 * 2 * factorial(1) = 4 * 3 * 2 * 1 * factorial(0) = 4 * 3 * 2 * 1 * 1 = 24\n"
      ]
    },
    {
      "cell_type": "markdown",
      "metadata": {
        "id": "dtLFWLi33pXw"
      },
      "source": [
        "# OOPS : Object Oriented Programming - powerful tool for building complex applications - from web development to data analysis and scientific computing.software applications, games, or large-scale systems, embracing OOP in Python is the gateway to taking your programming skills to extraordinary heights.  Advantage:\n",
        "\n",
        "* Think of objects as real-world entities that have attributes and behaviors. For example, a car is an object that has attributes like make, model, and color, and behaviors like accelerating, braking, and turning.\n",
        "*  consider a class called Car. This class can have attributes like make, model, and color, and methods like accelerate(), brake(), and turn(). When we create an object of this class, say a Toyota Camry, we can set its attributes to make='Toyota', model='Camry', and color='Red'. We can then call its methods, such as accelerate() to make it go faster, or brake() to slow it down.\n",
        "\n",
        "**The main concept of OOPs is to bind the data and the functions that work on that together as a single unit.**\n",
        "\n",
        "1.   code reuse - easier to understand. power of 'inheritance' to create\n",
        "* class hierarchies and\n",
        "* foster code reuse\n",
        "* scale easily\n",
        "2.   Maintain easily with modularity & abstraction - organize your code into logical units, making it easier to read, write, and maintain.\n",
        "3.   encapsulation - security\n",
        "4.   Mirror Reality - mirror real-world entities in your code, unlocking unparalleled flexibility and readability.\n",
        "5. polymorphism to design, to create:\n",
        "* 'flexible' and\n",
        "* 'adaptable' programs.\n",
        "5. Focus: Custom Functions, Advanced Looping Concepts, OOPs, and Exception Handling\n",
        "6. Pre-requisites: Python Control Flow\n",
        "\n",
        "\n",
        "# Class : class is a blueprint for creating objects, which are instances of the class. To define a class using the 'class' keyword, and\n",
        "```\n",
        "create 1. 'objects' from that class using the 'constructor method :\n",
        "__init__()\n",
        "You can also define 2. 'methods' and 3.'attributes' within the class.\n",
        "```\n",
        "# Objects : objects, are 'instances' of the 'class'.\n",
        "Each object has its own set of :\n",
        "1.   Attributes\n",
        "2.   Methods that define its behavior\n",
        "\n",
        "# 1. Attributes : Attributes are variables that hold data\n",
        "# 2. Methods : Methods are functions that perform operations on the Attribute's Data.\n",
        "# variables : 2 types: 1. Class, 2. Instance\n",
        "\n",
        "# Constructors and self\n",
        "# Encapsulation\n",
        "# Inheritance : super().__init__()\n",
        "# Polymorphism\n",
        "# Data Abstraction"
      ]
    },
    {
      "cell_type": "markdown",
      "metadata": {
        "id": "YUOdUtsb_vqt"
      },
      "source": [
        "![oopoo.jpg](data:image/jpeg;base64,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)"
      ]
    },
    {
      "cell_type": "code",
      "execution_count": null,
      "metadata": {
        "id": "v9ElmkmP07be"
      },
      "outputs": [],
      "source": [
        "# OOPS : Object Oriented Programming\n",
        "# Class : class is a blueprint for creating objects, which are instances of the class.\n",
        "# Objects : objects, are instances of the class. Each object has its own set of :\n",
        "           # 1. attributes and 2. methods that define its behavior.\n",
        "# Attributes : Attributes are variables that hold data\n",
        "# Methods : Methods are functions that perform operations on the Attribute's Data.\n",
        "# variables : 2 types: 1. Class, 2. Instance\n",
        "# Constructors and self\n",
        "\n",
        "# Encapsulation\n",
        "# Inheritance : super().__init__()\n",
        "# Polymorphism\n",
        "# Data Abstraction\n",
        "\n",
        "\n",
        "\n",
        "\n"
      ]
    },
    {
      "cell_type": "code",
      "execution_count": null,
      "metadata": {
        "id": "MXKuJ0UehsAS"
      },
      "outputs": [],
      "source": [
        "# Real world Use case of Class : Categorizing the functions to manage it effectively.\n",
        "# 1000s Function: Categorise it : using class\n",
        "# 10 function for getting the data from database : Class\n",
        "# 10-15 functions for cleaning data : Class\n",
        "# 10-15 functions for charts and visualisation : Class\n",
        "\n",
        "\n"
      ]
    },
    {
      "cell_type": "code",
      "execution_count": null,
      "metadata": {
        "id": "_M5AuRvdMMh-"
      },
      "outputs": [],
      "source": [
        "# *def* to *define function* : def is a keyword\n",
        "# *class* to *define the class* : *class* is a *keyword*\n"
      ]
    },
    {
      "cell_type": "markdown",
      "metadata": {
        "id": "J-fU7leZ041Q"
      },
      "source": [
        "# 1.CLASS(COMMON NOUN)\n",
        "* class is a blueprint for creating objects. It defines a set of attributes and methods that objects of that class will have. A class can be thought of as a template or a blueprint, and an object can be thought of as an instance of that class.\n",
        "\n",
        "* **To** define a class in Python, we use the class keyword followed by the name of the class."
      ]
    },
    {
      "cell_type": "markdown",
      "metadata": {
        "id": "hTpnY0KGs3Lo"
      },
      "source": [
        "# 2.OBJECTS(PROPER NOUN)"
      ]
    },
    {
      "cell_type": "markdown",
      "metadata": {
        "id": "rFm8kXVRs3OU"
      },
      "source": [
        "An object is an instance of a class. We create objects by calling the class as if it were a function, passing in any necessary arguments. Here's an example:\n",
        "```\n",
        "person = Person()\n",
        "```\n",
        "In this example, we've created an object of the Person class called person. This object doesn't have any attributes or methods yet because we haven't defined them in the class.\n",
        "\n",
        "---"
      ]
    },
    {
      "cell_type": "markdown",
      "metadata": {
        "id": "1eMcei90s3Qq"
      },
      "source": [
        "# 3.**ATTRIBUTES**(ADJECTIVE) - like Attribute of person - Name & Age"
      ]
    },
    {
      "cell_type": "markdown",
      "metadata": {
        "id": "j2Yav632s3Sw"
      },
      "source": [
        "* Attributes are variables that hold information about an object. In Python, attributes are defined inside the class definition.\n",
        "\n",
        "* We've also defined a constructor method called __ init__() that takes two arguments, name and age. Inside the constructor,\n",
        "\n",
        "* we use the self = 'shelf' ( to keep things) keyword to lable shelf and refer to the object being created and set 'shelf lable' - 1. name and 2. age attributes to the corresponding arguments.\n",
        "\n",
        "* We can now create an object of the Person class and set its attributes:\n",
        "\n",
        "Here's an example:\n",
        "```\n",
        "class Person:\n",
        "    def __init__(self, name, age):\n",
        "        self.name = name\n",
        "        self.age = age\n",
        "```        \n"
      ]
    },
    {
      "cell_type": "code",
      "execution_count": null,
      "metadata": {
        "colab": {
          "base_uri": "https://localhost:8080/"
        },
        "id": "zBaNQEEuLd8c",
        "outputId": "789904ea-2356-4562-d404-54ca37c95257"
      },
      "outputs": [
        {
          "name": "stdout",
          "output_type": "stream",
          "text": [
            "John\n",
            "30\n"
          ]
        }
      ],
      "source": [
        "class Person:\n",
        "    def __init__(self, name, age):\n",
        "        self.name = name\n",
        "        self.age = age\n",
        "\n",
        "person = Person(\"John\", 30)\n",
        "print(person.name) # We can access these attributes using ' dot notation ' (object.attribute).\n",
        "print(person.age) # We can access these attributes using dot notation (object.attribute)."
      ]
    },
    {
      "cell_type": "markdown",
      "metadata": {
        "id": "aq1Tf9pwNp85"
      },
      "source": [
        "# 4.METHODS(VERB)\n",
        "\n",
        "* used to perform operations on the attributes of the object or to return information about the object.\n",
        "*  method in Python is a function defined within a class, and it can access and operate on the attributes specific to that class.\n",
        "* Methods need to be called on instances of a class, not directly on the class itself. They operate on the data associated with the particular instance.\n",
        "* Methods use the self keyword to access and modify attributes of the class. self refers to the instance of the class on which the method is called.\n",
        "* Methods can have parameters just like regular functions, allowing them to accept input data for processing within the class.\n",
        "* The init method is a special method known as the constructor. It is automatically called when a new instance of the class is created, allowing you to set up the initial state of the object.\n",
        "* Python provides a built-in classmethod decorator to define class methods that operate on the class itself, rather than on instances. Class methods receive the class as their first argument (conventionally named cls) instead of self.\n"
      ]
    },
    {
      "cell_type": "code",
      "execution_count": null,
      "metadata": {
        "colab": {
          "base_uri": "https://localhost:8080/"
        },
        "id": "Kzl7ZPJk1UvQ",
        "outputId": "f8bcfbdd-e6bf-498e-c719-63a67960ac98"
      },
      "outputs": [
        {
          "name": "stdout",
          "output_type": "stream",
          "text": [
            "Hello, my name is John\n"
          ]
        }
      ],
      "source": [
        "class Person:\n",
        "    def __init__(self, name, age):\n",
        "        self.name = name\n",
        "        self.age = age\n",
        "\n",
        "    def greet(self):\n",
        "        print(\"Hello, my name is\", self.name)\n",
        "# method called greet(). The method takes no arguments and prints a greeting\n",
        "# message that includes the object's name attribute.\n",
        "# We can now call the greet() method on an object of the Person class:\n",
        "\n",
        "person = Person(\"John\", 30)\n",
        "person.greet()"
      ]
    },
    {
      "cell_type": "code",
      "execution_count": null,
      "metadata": {
        "id": "1vlDRAjmA4DN"
      },
      "outputs": [],
      "source": [
        "class Car:\n",
        "    def __init__(self, make, model, year):\n",
        "        self.make = make\n",
        "        self.model = model\n",
        "        self.year = year\n",
        "        self.is_engine_on = False\n",
        "\n",
        "    def start_engine(self):\n",
        "        self.is_engine_on = True\n",
        "\n",
        "    def stop_engine(self):\n",
        "        self.is_engine_on = False\n",
        "\n",
        "    def display_info(self):\n",
        "        print(f\"Make: {self.make}\")\n",
        "        print(f\"Model: {self.model}\")\n",
        "        print(f\"Year: {self.year}\")\n",
        "        print(f\"Engine Status: {'On' if self.is_engine_on else 'Off'}\")\n",
        "\n",
        "# Creating objects (instances) of the Car class\n",
        "car1 = Car(\"Toyota\", \"Corolla\", 2022)\n",
        "car2 = Car(\"Honda\", \"Civic\", 2023)\n",
        "\n",
        "# Example of using attributes and methods\n",
        "car1.start_engine()\n",
        "car1.display_info()\n",
        "car2.display_info()\n"
      ]
    },
    {
      "cell_type": "markdown",
      "metadata": {
        "id": "dXeRVjNU-H8_"
      },
      "source": [
        "**Question 1:**\n",
        "In the given Python code, what does the class Car represent?\n",
        "* 1: The class Car represents a blueprint or template for creating car objects. It defines the common properties (attributes) and behaviors (methods) that all car objects will have.\n",
        "\n",
        "**Question 2:**\n",
        "What are the attributes defined in the Car class?\n",
        "* 2: The attributes defined in the Car class are make, model, year, and is_engine_on.\n",
        "\n",
        "**Question 3:**\n",
        "What is the purpose of the __init__ method in the Car class?\n",
        "* init = constructor method is a special method.\n",
        "* It is automatically CREATED when a new instance of the Car class is created.\n",
        "* It initializes the attributes of the object with the provided values.\n",
        "\n",
        "**Question 4:**\n",
        "What does the method start_engine do?\n",
        "* 4: The method start_engine sets the attribute is_engine_on to True, indicating that the car's engine is turned on.\n",
        "\n",
        "**Question 5:**\n",
        "How can we create multiple instances (objects) of the Car class with different make, model, and year?\n",
        "* We can create multiple instances of the Car class by calling the class and passing different values for the make, model, and year attributes. For example, car1 = Car(\"Toyota\", \"Corolla\", 2022) and car2 = Car(\"Honda\", \"Civic\", 2023) create two instances of the Car class with different attributes.\n",
        "\n",
        "\n",
        "**Question 6:**\n",
        "What is the significance of the self keyword used in the methods of the Car class?\n",
        "* The self keyword refers to the instance of the class itself. It allows the\n",
        "* methods of the class to access and modify the attributes specific to that instance.\n",
        "* When calling a method of a class, Python automatically\n",
        "* passes the instance as the\n",
        "* first argument (self), allowing the method to work with the object's data.\n",
        "\n"
      ]
    },
    {
      "cell_type": "code",
      "execution_count": null,
      "metadata": {
        "id": "7J1-DV-Z1-Zg"
      },
      "outputs": [],
      "source": [
        "# CALCULATOR CLASS\n",
        "\n",
        "class Calculator:\n",
        "    # Define the constructor method to initialize the class and set the initial result to 0\n",
        "    def __init__(self):\n",
        "        self.result = 0\n",
        "\n",
        "    # Define a method to add num1 to num2 and store the result\n",
        "    def add(self, num1, num2):\n",
        "        self.result = num1 + num2\n",
        "        return self.result\n",
        "\n",
        "    # Define a method to subtract num2 from num1 and store the result\n",
        "    def subtract(self, num1, num2):\n",
        "        self.result = num1 - num2\n",
        "        return self.result\n",
        "\n",
        "    # Define a method to multiply num1 by num2 and store the result\n",
        "    def multiply(self, num1, num2):\n",
        "        self.result = num1 * num2\n",
        "        return self.result\n",
        "\n",
        "    # Define a method to divide num1 by num2 and store the result. Raise a ValueError if dividing by 0.\n",
        "    def divide(self, num1, num2):\n",
        "        if num2 == 0:\n",
        "            raise ValueError(\"Cannot divide by zero.\")\n",
        "        self.result = num1 / num2\n",
        "        return self.result\n",
        "\n",
        "    # Define a method to clear the result back to 0\n",
        "    def clear(self):\n",
        "        self.result = 0\n",
        "        return self.result"
      ]
    },
    {
      "cell_type": "code",
      "execution_count": null,
      "metadata": {
        "colab": {
          "base_uri": "https://localhost:8080/"
        },
        "id": "StDI17KMEPwL",
        "outputId": "56970b83-3cbf-4d6e-f6f1-25ce4545ea97"
      },
      "outputs": [
        {
          "name": "stdout",
          "output_type": "stream",
          "text": [
            "Addition-  48\n",
            "subtraction-  36\n",
            "division-  7.0\n",
            "mulitplication-  252\n"
          ]
        }
      ],
      "source": [
        "#USE CALCULATOR CLASS JUST CREATED\n",
        "\n",
        "calc=Calculator() # ASSIGNING SHORT ABBRIVIATION TO METHOD\n",
        "#calling add method\n",
        "addition=calc.add(42,6)\n",
        "\n",
        "#calling subtract method\n",
        "subtraction=calc.subtract(42,6)\n",
        "\n",
        "#calling divide method\n",
        "division=calc.divide(42,6)\n",
        "\n",
        "#calling multiply method\n",
        "mulitplication=calc.multiply(42,6)\n",
        "\n",
        "print(\"Addition- \",addition)\n",
        "print(\"subtraction- \",subtraction)\n",
        "print(\"division- \",division)\n",
        "print(\"mulitplication- \",mulitplication)"
      ]
    },
    {
      "cell_type": "code",
      "execution_count": null,
      "metadata": {
        "colab": {
          "base_uri": "https://localhost:8080/"
        },
        "id": "Uv80LS-zKmli",
        "outputId": "0102f002-a324-4f27-808c-77df73bab70d"
      },
      "outputs": [
        {
          "name": "stdout",
          "output_type": "stream",
          "text": [
            "Your pet is not feeling well.\n",
            "Name: Fluffy\n",
            "Age: 2\n",
            "Energy Level: 45\n"
          ]
        }
      ],
      "source": [
        "# VIRTUAL PET\n",
        "class Pet:\n",
        "    # Define the constructor method to initialize the class with name, age and health_level\n",
        "    def __init__(self, name, age, energy_level):\n",
        "        self.name = name\n",
        "        self.age = age\n",
        "        self.energy_level = energy_level\n",
        "\n",
        "    # Define a method to increase health level when feeding the pet\n",
        "    def feed(self):\n",
        "        self.energy_level += 10\n",
        "\n",
        "    # Define a method to decrease health level when playing with the pet\n",
        "    def play(self):\n",
        "        self.energy_level -= 5\n",
        "\n",
        "    # Define a method to check the health of the pet and print a message based on its health level\n",
        "    def check_health(self):\n",
        "        if self.energy_level < 50:\n",
        "            print(\"Your pet is not feeling well.\")\n",
        "        else:\n",
        "            print(\"Your pet is healthy.\")\n",
        "\n",
        "\n",
        "# Creating Object of Pet Class\n",
        "my_pet = Pet(\"Fluffy\", 2, 50)\n",
        "\n",
        "# Feeding Pet\n",
        "my_pet.feed()\n",
        "\n",
        "# Playing with Pet\n",
        "my_pet.play()\n",
        "\n",
        "my_pet.play()\n",
        "\n",
        "my_pet.play()\n",
        "\n",
        "# Checking Pet Health\n",
        "my_pet.check_health()\n",
        "\n",
        "# Printing Pet Info\n",
        "print(\"Name:\", my_pet.name)\n",
        "print(\"Age:\", my_pet.age)\n",
        "print(\"Energy Level:\", my_pet.energy_level)"
      ]
    },
    {
      "cell_type": "markdown",
      "metadata": {
        "id": "PHP2pjxqIDAd"
      },
      "source": [
        "# OOPS practical example for explaination"
      ]
    },
    {
      "cell_type": "code",
      "execution_count": null,
      "metadata": {
        "colab": {
          "base_uri": "https://localhost:8080/"
        },
        "id": "FckPRPRc_Z9A",
        "outputId": "2fc33152-a93a-43cd-cccb-75d6836cd7d7"
      },
      "outputs": [
        {
          "name": "stdout",
          "output_type": "stream",
          "text": [
            "<class '__main__.house'>\n"
          ]
        },
        {
          "data": {
            "text/plain": [
              "__main__.house"
            ]
          },
          "execution_count": 14,
          "metadata": {},
          "output_type": "execute_result"
        }
      ],
      "source": [
        "# 1st Step CLASS - Create Class : Blueprint to create the object\n",
        "\n",
        "class house:\n",
        "   pass\n",
        "# pass : Written it as a placeholder, dont; throw error right now, later code will be added\n",
        "# trying to create a blueprint which will help me build houses.\n",
        "\n",
        "print(house)\n",
        "house"
      ]
    },
    {
      "cell_type": "code",
      "execution_count": null,
      "metadata": {
        "colab": {
          "base_uri": "https://localhost:8080/"
        },
        "id": "3EvnOF9MM3M7",
        "outputId": "50f8cfc7-0c0f-46d6-bc11-d15a3eeec511"
      },
      "outputs": [
        {
          "name": "stdout",
          "output_type": "stream",
          "text": [
            "<function abc at 0x7e364dea04c0>\n"
          ]
        }
      ],
      "source": [
        " def abc():\n",
        "   pass # is a placeholder address created without completely defining function to use it.\n",
        "\n",
        "print(abc)"
      ]
    },
    {
      "cell_type": "code",
      "execution_count": null,
      "metadata": {
        "id": "o_I91IZs_emb"
      },
      "outputs": [],
      "source": [
        "# 2nd Step VARIABLES - within class:\n",
        "# Object = Noun is the 1st thing created within class hence called Object Oriented Prog.\n",
        "# Objects are *Entities* created using class\n",
        "\n",
        "# house1 and house2 are the object created using the blueprint / class house.\n"
      ]
    },
    {
      "cell_type": "code",
      "execution_count": null,
      "metadata": {
        "id": "vkZIwrAB_e-a"
      },
      "outputs": [],
      "source": [
        "# 3rd Step METHODS - Create class variables ie. 'characteristics variable' inside class : characteristics based on which objects will differ\n",
        "\n",
        "# 2 Types:\n",
        "# 1. Class variable\n",
        "# 2. Instance Variable\n",
        "\n",
        "class house: #  ' : ' = defining any feature/characteristics variable of class after :\n",
        "  house_design = 'modern' # Class Variable ie. 'Characteristics Variables' : Constant across all objects\n",
        "\n"
      ]
    },
    {
      "cell_type": "code",
      "execution_count": null,
      "metadata": {
        "id": "fdBhOmLCOab4"
      },
      "outputs": [],
      "source": [
        "# 4TH Step - CREATE  OBJECTS. reassign new house() characteristics to previously created objects.\n",
        "\n",
        "house1 = house() # house1 : Object\n",
        "house2 = house() # house 2 : Object\n"
      ]
    },
    {
      "cell_type": "code",
      "execution_count": null,
      "metadata": {
        "colab": {
          "base_uri": "https://localhost:8080/",
          "height": 36
        },
        "id": "dieNTOKOOo6K",
        "outputId": "920ffaf2-98fe-4b7e-8046-e14f65c13f2c"
      },
      "outputs": [
        {
          "data": {
            "application/vnd.google.colaboratory.intrinsic+json": {
              "type": "string"
            },
            "text/plain": [
              "'modern'"
            ]
          },
          "execution_count": 10,
          "metadata": {},
          "output_type": "execute_result"
        }
      ],
      "source": [
        "house1.house_design"
      ]
    },
    {
      "cell_type": "code",
      "execution_count": null,
      "metadata": {
        "id": "BzBhb4PJlnaX"
      },
      "outputs": [],
      "source": [
        "# TO access the value of variable in the object\n",
        "# Sytax :\n",
        "# object_name.variable_name\n"
      ]
    },
    {
      "cell_type": "code",
      "execution_count": null,
      "metadata": {
        "id": "bTkLbzYzPEj_"
      },
      "outputs": [],
      "source": [
        "# All customers in class 'online bankaccount' will have same bank and IFSC\n",
        "\n",
        "class bankaccount:\n",
        "  bank_name = 'SBI' #class variable\n",
        "  IFSC_code = 'SBIN00000' #class variable\n"
      ]
    },
    {
      "cell_type": "code",
      "execution_count": null,
      "metadata": {
        "id": "ivSUjcgxPLVh"
      },
      "outputs": [],
      "source": [
        "# created 2 customers - p1 & p2 OPENS SAVING ACCOUNT :\n",
        "\n",
        "p1 = bankaccount()\n",
        "p2 = bankaccount()"
      ]
    },
    {
      "cell_type": "code",
      "execution_count": null,
      "metadata": {
        "colab": {
          "base_uri": "https://localhost:8080/",
          "height": 36
        },
        "id": "aAHKucWtPO4W",
        "outputId": "3abf46c2-0479-4b1a-b9d9-c80fe01635ac"
      },
      "outputs": [
        {
          "output_type": "execute_result",
          "data": {
            "text/plain": [
              "'SBI'"
            ],
            "application/vnd.google.colaboratory.intrinsic+json": {
              "type": "string"
            }
          },
          "metadata": {},
          "execution_count": 29
        }
      ],
      "source": [
        "p1.bank_name # class variable # to access the variable\n",
        "               #small brackets are not required, brackets are required for methods/function"
      ]
    },
    {
      "cell_type": "code",
      "execution_count": null,
      "metadata": {
        "colab": {
          "base_uri": "https://localhost:8080/",
          "height": 36
        },
        "id": "c_tFXxhuPSMU",
        "outputId": "c929a63f-1a72-489a-c269-34e6a44c6c5b"
      },
      "outputs": [
        {
          "output_type": "execute_result",
          "data": {
            "text/plain": [
              "'SBI'"
            ],
            "application/vnd.google.colaboratory.intrinsic+json": {
              "type": "string"
            }
          },
          "metadata": {},
          "execution_count": 30
        }
      ],
      "source": [
        "p2.bank_name # Class variable"
      ]
    },
    {
      "cell_type": "code",
      "execution_count": null,
      "metadata": {
        "id": "PDkzVRI3l5HJ"
      },
      "outputs": [],
      "source": [
        "# # 4th Step - Create  Instance variable - changes from class object to object\n",
        "# CLASS == FAMILY &\n",
        "# SELF/SHELF == JOINT FAMILY ACCOUNT\n",
        "class bankaccount:\n",
        "  # A.  DEFINE CLASS VARIABLE = FIXED\n",
        "  bank_name = 'SBI' # Class Variables\n",
        "  IFSC_code = 'SBIN0000' # Class Variables\n",
        "\n",
        "  # B. DEFINE INSTANCE VARIABLE = CHANGES WITH DIFF OBJECT\n",
        "  # __init__ == METHOD USED FOR CONSTRUCTING / CREATING OBJECT --> Constructor method : This method helps you\n",
        "  # to initialise the object or create the object\n",
        "  # analogy : it works similar to getting input in functions : Output\n",
        "  def __init__(self, aadhar_card, city): #def 'in it'=='in shelf' keep variables to make each obj unique\n",
        "    self.aadhar_card = aadhar_card #inside each shelf/self of variable == Keep Variable of same name\n",
        "    self.city = city # Instance Variable created\n",
        "\n",
        "    # self == STORAGE SHELF - parameter, argument, variable : which\n",
        "    # stores DIFFERENT variables IN SHELF/SELF made for that variable.\n",
        "    # mehtods inside the class to be utlised accross all methods\n",
        "    # in the SHELF OF 'self.aadhar_card' STORE 'ALL THE aadhar_card VALUES'\n",
        "\n",
        "    #SELF has to be added as 1st PARATMETER  WHILE CREATING ANY METHOD INSIDE A CLASS.\n",
        "  def display_info(self): # NEW method CREATED using elements kept in shelf/self\n",
        "    print(f'The client has adhar number {self.aadhar_card} and stays in {self.city}')\n"
      ]
    },
    {
      "cell_type": "code",
      "execution_count": null,
      "metadata": {
        "id": "2yI_kSPGPtIz"
      },
      "outputs": [],
      "source": [
        "# C. DEFINE DIFFERENT UNIQUE OBJECTS - WITH Instance variable AND ALL INSTANCE VARABLE'S VALUES\n",
        "#  class will refer 'ALL' elements kept init to create the object\n",
        "#  DEFINED EARLIER IN CLASS\n",
        "#  MUST BE ADDED TO COMPLETE THE PROCESS OF CREATING OBJECT OTHERWISE GET ERROR\n",
        "# DEFINE OBJ - with CLASS NAME'S REFERENCE 1ST BEFORE ( TO ASSIGN VALUE TO DIFF CLASS VARIABLES)\n",
        "p1 = bankaccount(aadhar_card = '23131313', city = 'blr') # Instance variable value defined directly by calling object, without calling class: Changes Instance to Instance for different objects\n",
        "p2= bankaccount(aadhar_card = '546546565', city = 'mum') # Instance variable value defined directly without calling class"
      ]
    },
    {
      "cell_type": "code",
      "execution_count": null,
      "metadata": {
        "colab": {
          "base_uri": "https://localhost:8080/"
        },
        "id": "rRUd9bAcrun-",
        "outputId": "9b8dea64-369b-465e-da0e-c4887b705c05"
      },
      "outputs": [
        {
          "output_type": "stream",
          "name": "stdout",
          "text": [
            "The client has adhar number 23131313 and stays in blr\n"
          ]
        }
      ],
      "source": [
        "# 5TH STEP FINALLY RECALL OBJECT.METHOD\n",
        "\n",
        "\n",
        "p1.display_info() # Recall created method (must be created inside class to recall)"
      ]
    },
    {
      "cell_type": "code",
      "execution_count": null,
      "metadata": {
        "colab": {
          "base_uri": "https://localhost:8080/",
          "height": 36
        },
        "id": "oOGEPhZ7QFx7",
        "outputId": "c29fc678-ff13-48a3-df2e-ca0afeb61309"
      },
      "outputs": [
        {
          "output_type": "execute_result",
          "data": {
            "text/plain": [
              "'SBI'"
            ],
            "application/vnd.google.colaboratory.intrinsic+json": {
              "type": "string"
            }
          },
          "metadata": {},
          "execution_count": 34
        }
      ],
      "source": [
        "p1.bank_name # Object's Class Variable recalled"
      ]
    },
    {
      "cell_type": "code",
      "execution_count": null,
      "metadata": {
        "colab": {
          "base_uri": "https://localhost:8080/",
          "height": 36
        },
        "id": "pvxqv838QJRD",
        "outputId": "73d8ae45-77f1-42e4-c078-90a82e58868c"
      },
      "outputs": [
        {
          "output_type": "execute_result",
          "data": {
            "text/plain": [
              "'SBI'"
            ],
            "application/vnd.google.colaboratory.intrinsic+json": {
              "type": "string"
            }
          },
          "metadata": {},
          "execution_count": 35
        }
      ],
      "source": [
        "p2.bank_name # # Object's Class Variable recalled"
      ]
    },
    {
      "cell_type": "code",
      "execution_count": null,
      "metadata": {
        "colab": {
          "base_uri": "https://localhost:8080/",
          "height": 36
        },
        "id": "mvkA6sU0QL87",
        "outputId": "b94f64e4-7b73-4800-b12f-ed42d950b815"
      },
      "outputs": [
        {
          "output_type": "execute_result",
          "data": {
            "text/plain": [
              "'23131313'"
            ],
            "application/vnd.google.colaboratory.intrinsic+json": {
              "type": "string"
            }
          },
          "metadata": {},
          "execution_count": 36
        }
      ],
      "source": [
        "p1.aadhar_card # Instance variable : Changes Instance to Instance for different objects"
      ]
    },
    {
      "cell_type": "code",
      "execution_count": null,
      "metadata": {
        "colab": {
          "base_uri": "https://localhost:8080/",
          "height": 36
        },
        "id": "-F5wGJ3cQN9D",
        "outputId": "f4b3e40d-6632-465d-ac5c-8e3dafbcefd6"
      },
      "outputs": [
        {
          "output_type": "execute_result",
          "data": {
            "text/plain": [
              "'546546565'"
            ],
            "application/vnd.google.colaboratory.intrinsic+json": {
              "type": "string"
            }
          },
          "metadata": {},
          "execution_count": 37
        }
      ],
      "source": [
        "p2.aadhar_card # Instance variable : Specific to objects"
      ]
    },
    {
      "cell_type": "code",
      "execution_count": null,
      "metadata": {
        "colab": {
          "base_uri": "https://localhost:8080/"
        },
        "id": "WurecxcAvrta",
        "outputId": "95bec9d8-d1f0-44e0-f000-f097c7c1d92e"
      },
      "outputs": [
        {
          "output_type": "stream",
          "name": "stdout",
          "text": [
            "12.56\n",
            "31.400000000000002\n"
          ]
        }
      ],
      "source": [
        "\n",
        "class circle:\n",
        "  #pi = 3.14\n",
        "\n",
        "  def __init__ ( self, r, pi = 3.14) :\n",
        "    self.r = r\n",
        "    self.pi = pi\n",
        "\n",
        "  def area(self):\n",
        "    return  self.pi * self.r**2\n",
        "\n",
        "  def perimeter(self):\n",
        "    return 2* self.pi * self.r\n",
        "\n",
        "circle1 = circle(r = 2)\n",
        "circle2 = circle(r = 5)\n",
        "\n",
        "print(circle1.area())  # without () method will point to add but not able to display output\n",
        "print(circle2.perimeter())\n"
      ]
    },
    {
      "cell_type": "code",
      "execution_count": null,
      "metadata": {
        "colab": {
          "base_uri": "https://localhost:8080/"
        },
        "id": "vHo1mwC0-DiU",
        "outputId": "93fc41da-92f3-4c81-f149-e4c594856921"
      },
      "outputs": [
        {
          "name": "stdout",
          "output_type": "stream",
          "text": [
            "16\n"
          ]
        }
      ],
      "source": [
        "class rectangle:\n",
        "  def __init__ (self,length,bredth):\n",
        "    self.length = length\n",
        "    self.bredth = bredth\n",
        "\n",
        "  def area(self):\n",
        "    return 2 * (self.length + self.bredth)\n",
        "\n",
        "\n",
        "  rectangle1 = rectangle(length=3, bredth=5) # DEFINE UNIQUE OBJ - with CLASS NAME'S REFERENCE\n",
        "                                              #RECALL OBJECT.METHOD\n",
        "\n",
        "  print(rectangle1.area())\n"
      ]
    },
    {
      "cell_type": "code",
      "execution_count": null,
      "metadata": {
        "id": "VGRWWiJaQV0K"
      },
      "outputs": [],
      "source": [
        "class house:\n",
        "  house_design = 'Urban' # Class variable : constant accross all objects\n",
        "  def __init__(self, no_rooms, pool_size):\n",
        "    self.no_rooms = no_rooms # Instance variable\n",
        "    self.pool_size = pool_size # Instance variable\n"
      ]
    },
    {
      "cell_type": "code",
      "execution_count": null,
      "metadata": {
        "id": "s5-eqzucQoSd"
      },
      "outputs": [],
      "source": [
        "h1 = house(no_rooms = 2, pool_size = 500)\n",
        "h2 = house(no_rooms = 4 , pool_size = 200)"
      ]
    },
    {
      "cell_type": "code",
      "execution_count": null,
      "metadata": {
        "colab": {
          "base_uri": "https://localhost:8080/",
          "height": 35
        },
        "id": "lu1iLqiaQ2lR",
        "outputId": "50a01da5-cde5-4db5-d83d-f751d888f770"
      },
      "outputs": [
        {
          "data": {
            "application/vnd.google.colaboratory.intrinsic+json": {
              "type": "string"
            },
            "text/plain": [
              "'Urban'"
            ]
          },
          "execution_count": 27,
          "metadata": {},
          "output_type": "execute_result"
        }
      ],
      "source": [
        "h1.house_design # class variable"
      ]
    },
    {
      "cell_type": "code",
      "execution_count": null,
      "metadata": {
        "colab": {
          "base_uri": "https://localhost:8080/",
          "height": 35
        },
        "id": "OQI7umvbRFp1",
        "outputId": "e7d0c2c8-280e-4575-c017-f8d9992590ea"
      },
      "outputs": [
        {
          "data": {
            "application/vnd.google.colaboratory.intrinsic+json": {
              "type": "string"
            },
            "text/plain": [
              "'Urban'"
            ]
          },
          "execution_count": 28,
          "metadata": {},
          "output_type": "execute_result"
        }
      ],
      "source": [
        "h2.house_design # class variable"
      ]
    },
    {
      "cell_type": "code",
      "execution_count": null,
      "metadata": {
        "colab": {
          "base_uri": "https://localhost:8080/"
        },
        "id": "14F5wxFaRO7W",
        "outputId": "92c286bb-8f9d-46c3-e2b1-621b41d40ce9"
      },
      "outputs": [
        {
          "data": {
            "text/plain": [
              "2"
            ]
          },
          "execution_count": 29,
          "metadata": {},
          "output_type": "execute_result"
        }
      ],
      "source": [
        "h1.no_rooms # Instance variable"
      ]
    },
    {
      "cell_type": "code",
      "execution_count": null,
      "metadata": {
        "colab": {
          "base_uri": "https://localhost:8080/"
        },
        "id": "LG_pYfhKRV32",
        "outputId": "7bb98a27-5dcb-4386-ae70-6a4b0387b491"
      },
      "outputs": [
        {
          "data": {
            "text/plain": [
              "4"
            ]
          },
          "execution_count": 30,
          "metadata": {},
          "output_type": "execute_result"
        }
      ],
      "source": [
        "h2.no_rooms  # Instance variable"
      ]
    },
    {
      "cell_type": "code",
      "execution_count": null,
      "metadata": {
        "id": "XN9sF6fgnirs"
      },
      "outputs": [],
      "source": [
        "# Macbook\n",
        "class macbook:\n",
        "  company_name = 'Apple'\n",
        "  def __init__(self,ram, storage):\n",
        "    self.ram = ram\n",
        "    self.storage = storage"
      ]
    },
    {
      "cell_type": "code",
      "execution_count": null,
      "metadata": {
        "id": "Z5_0f-YvRt8u"
      },
      "outputs": [],
      "source": [
        "mac1 = macbook(ram = '6GB',storage = '256GB') # ram , storage : instance variable\n",
        "mac2  = macbook(ram = '8GB',storage = '1024GB')"
      ]
    },
    {
      "cell_type": "code",
      "execution_count": null,
      "metadata": {
        "id": "siSu6rhFSElq"
      },
      "outputs": [],
      "source": [
        "# Multiple objects can be created using class's VARIABLE INSTANCES\n"
      ]
    },
    {
      "cell_type": "code",
      "execution_count": null,
      "metadata": {
        "id": "NLWXxCSeol7V"
      },
      "outputs": [],
      "source": [
        "# mac1, mac2 Objects which I have created using the blueprint/class macbook"
      ]
    },
    {
      "cell_type": "code",
      "execution_count": null,
      "metadata": {
        "id": "Bqo1kJKSoLe4"
      },
      "outputs": [],
      "source": [
        "# Variable : Characteristics which define the object\n",
        "# Class Variable : Variable which doesn't change across objects\n",
        "# Instance Variable : Variable which changes across objects\n"
      ]
    },
    {
      "cell_type": "code",
      "execution_count": null,
      "metadata": {
        "id": "lCH5fFgs_gKt"
      },
      "outputs": [],
      "source": [
        "# Constructors and self\n",
        "# __init__ and self\n",
        "\n",
        "class macbook: # Class\n",
        "  company_name = 'Apple' # Class Variable\n",
        "  def __init__(self,ram,screen_size,harddisk):\n",
        "    self.ram = ram # Instance Variable\n",
        "    self.screen_size = screen_size # Instance Variable\n",
        "    self.harddisk = harddisk # Instance Variable\n",
        "\n",
        "# __init__ : Constructor method : This method helps you to initialise the object or create the object\n",
        "# analogy : it works similar to getting input in functions : Output"
      ]
    },
    {
      "cell_type": "code",
      "execution_count": null,
      "metadata": {
        "id": "wmIjl-G9Ts55"
      },
      "outputs": [],
      "source": [
        "# self : parameter, argument, variable : which stores all variables &\n",
        "# mehtods inside the class to be utlised accross all methods\n"
      ]
    },
    {
      "cell_type": "code",
      "execution_count": null,
      "metadata": {
        "id": "irHmsIO9TNw6"
      },
      "outputs": [],
      "source": [
        "def function_name(a,b,c):\n",
        "  pass"
      ]
    },
    {
      "cell_type": "code",
      "execution_count": null,
      "metadata": {
        "id": "TUeciBt1pqur"
      },
      "outputs": [],
      "source": [
        "mac1  = macbook(ram = '16GB', screen_size = '24cm',harddisk= '512GB')\n",
        "# mac1 : object\n",
        "# ram : instance variable\n",
        "# company_name : Class Variable"
      ]
    },
    {
      "cell_type": "code",
      "execution_count": null,
      "metadata": {
        "id": "tOfc1p8Xbf_Y"
      },
      "outputs": [],
      "source": [
        "# Class --> variable --> Methods :: Objects & utlise functions to do the task\n",
        "# Class : Blueprint/ machine : Object\n",
        "# Variable : Inputs which define the characteristic of your object\n",
        "# Method : Gears or machinary parts to manipulate the object\n"
      ]
    },
    {
      "cell_type": "code",
      "execution_count": null,
      "metadata": {
        "id": "_fbuGjw7UI4y"
      },
      "outputs": [],
      "source": [
        "class macbook: # Class\n",
        "  company_name = 'Apple' # Class Variable\n",
        "  def __init__(self,ram,screen_size,harddisk):\n",
        "    self.ram = ram # Instance Variable\n",
        "    self.screen_size = screen_size # Instance Variable\n",
        "    self.harddisk = harddisk # Instance Variable\n",
        "\n",
        "  def display_info(self): # method\n",
        "    print(f'The macbook has the ram of {self.ram} GB, Screen size as {self.screen_size}, harddisk as {self.harddisk}')\n"
      ]
    },
    {
      "cell_type": "code",
      "execution_count": null,
      "metadata": {
        "id": "KIhMgNS9UtOg"
      },
      "outputs": [],
      "source": [
        "m1 = macbook(ram = 6, screen_size = 8,harddisk = 256)\n",
        "# macbook class will refer init to create the object"
      ]
    },
    {
      "cell_type": "code",
      "execution_count": null,
      "metadata": {
        "colab": {
          "base_uri": "https://localhost:8080/",
          "height": 36
        },
        "id": "davolbHSVMnU",
        "outputId": "afafafc7-704d-4fc9-c057-e2454bb91f5c"
      },
      "outputs": [
        {
          "output_type": "execute_result",
          "data": {
            "text/plain": [
              "'Apple'"
            ],
            "application/vnd.google.colaboratory.intrinsic+json": {
              "type": "string"
            }
          },
          "metadata": {},
          "execution_count": 49
        }
      ],
      "source": [
        "m1.company_name"
      ]
    },
    {
      "cell_type": "code",
      "execution_count": null,
      "metadata": {
        "colab": {
          "base_uri": "https://localhost:8080/"
        },
        "id": "c1q_CCrDVQN0",
        "outputId": "2402aaa7-7b20-46a2-f00e-dcfc6b8096da"
      },
      "outputs": [
        {
          "output_type": "stream",
          "name": "stdout",
          "text": [
            "The macbook has the ram of 6 GB, Screen size as 8, harddisk as 256\n"
          ]
        }
      ],
      "source": [
        "m1.display_info() # method"
      ]
    },
    {
      "cell_type": "code",
      "execution_count": null,
      "metadata": {
        "id": "0bw_sTAfWK7i"
      },
      "outputs": [],
      "source": [
        "m2 = macbook(ram = 8, screen_size = 15,harddisk = 1024) # macbook class will refer init to create the object"
      ]
    },
    {
      "cell_type": "code",
      "execution_count": null,
      "metadata": {
        "colab": {
          "base_uri": "https://localhost:8080/"
        },
        "id": "uralNUhwWPEq",
        "outputId": "29fa0ea0-e708-49ab-f30b-b7ef98364188"
      },
      "outputs": [
        {
          "name": "stdout",
          "output_type": "stream",
          "text": [
            "The macbook has the ram of 8 GB, Screen size as 15, harddisk as 1024\n"
          ]
        }
      ],
      "source": [
        "m2.display_info()"
      ]
    },
    {
      "cell_type": "code",
      "execution_count": null,
      "metadata": {
        "id": "sYY0byrVUU0S"
      },
      "outputs": [],
      "source": [
        "# self =\n",
        "# 1. must be defined as the first parameter for all *methods*,\n",
        "# 2. it defines the object as created from variable instance\n",
        "# 3. Stores every object's instance details separately in its own\n",
        "# self account/shelf to keep things, which can be recalled from that self's address\n",
        "# 4. To Recall - a. Instance Variable and b. Methods we later use self.\n"
      ]
    },
    {
      "cell_type": "code",
      "execution_count": null,
      "metadata": {
        "id": "COD7xBH9uG-V"
      },
      "outputs": [],
      "source": [
        "# Practice : Create a class as circle and methods as area and perimeter\n",
        "# area = pi* r**2\n",
        "# Perimeter = 2* pi * r\n",
        "# pi = 3.14\n",
        "# radius is instance variable\n",
        "# __init__ (double underscore as prefix and suffix)\n",
        "\n",
        "class circle:\n",
        "  def __init__(self,radius,pi = 3.14): # default value to pi\n",
        "    self.radius = radius\n",
        "    self.pi = pi\n",
        "\n",
        "  def area(self): # Self as the first argument\n",
        "    return self.pi * self.radius**2\n",
        "\n",
        "  def perimeter(self): # Self as the first argument\n",
        "    return 2* self.pi * self.radius\n",
        "\n",
        "\n",
        "# no class variable\n",
        "# radius & pi as your instance variable\n",
        "# pi has default value assigned\n"
      ]
    },
    {
      "cell_type": "code",
      "execution_count": null,
      "metadata": {
        "id": "NOjrOoFiX-iM"
      },
      "outputs": [],
      "source": [
        "c1 = circle(radius = 3) # Creating an object c1"
      ]
    },
    {
      "cell_type": "code",
      "execution_count": null,
      "metadata": {
        "colab": {
          "base_uri": "https://localhost:8080/"
        },
        "id": "YauRbXqeaOmn",
        "outputId": "389e27c7-a320-4ba6-fdc9-6b61dad5000b"
      },
      "outputs": [
        {
          "data": {
            "text/plain": [
              "28.26"
            ]
          },
          "execution_count": 4,
          "metadata": {},
          "output_type": "execute_result"
        }
      ],
      "source": [
        "c1.area()"
      ]
    },
    {
      "cell_type": "code",
      "execution_count": null,
      "metadata": {
        "colab": {
          "base_uri": "https://localhost:8080/"
        },
        "id": "DlyrXdrtawLy",
        "outputId": "8dda3cf7-ad2e-4925-83e9-323605d09876"
      },
      "outputs": [
        {
          "name": "stdout",
          "output_type": "stream",
          "text": [
            "Area of circle : 78.5\n",
            "Perimeter of circle : 31.400000000000002\n"
          ]
        }
      ],
      "source": [
        "c3 = circle(5)  # can also write like this\n",
        "print('Area of circle :', c3.area()) # area is method\n",
        "print('Perimeter of circle :', c3.perimeter()) # Perimeter of the"
      ]
    },
    {
      "cell_type": "code",
      "execution_count": null,
      "metadata": {
        "id": "D6Y9ETmHfgba"
      },
      "outputs": [],
      "source": [
        "# I could have created method without creating 'class'\n",
        "\n",
        "def area_circle():\n",
        "  pass\n",
        "\n",
        "def perimeter_circle():\n",
        "  pass\n",
        "\n",
        "def Area_rectangle():\n",
        "  pass\n",
        "\n",
        "def perimeter_rectangle():\n",
        "  pass\n",
        "\n",
        "\n",
        "# but 1st creating class and 2ndly method is a more organized structure\n"
      ]
    },
    {
      "cell_type": "code",
      "execution_count": null,
      "metadata": {
        "colab": {
          "base_uri": "https://localhost:8080/"
        },
        "id": "rUBsqJECaQmd",
        "outputId": "d7454332-c9ae-4ae3-f76a-cd456efd4f65"
      },
      "outputs": [
        {
          "data": {
            "text/plain": [
              "18.84"
            ]
          },
          "execution_count": 50,
          "metadata": {},
          "output_type": "execute_result"
        }
      ],
      "source": [
        "c1.perimeter()"
      ]
    },
    {
      "cell_type": "code",
      "execution_count": null,
      "metadata": {
        "id": "hQc52p8FaT7f"
      },
      "outputs": [],
      "source": [
        "c2 = circle(radius = 10)"
      ]
    },
    {
      "cell_type": "code",
      "execution_count": null,
      "metadata": {
        "colab": {
          "base_uri": "https://localhost:8080/"
        },
        "id": "3uOeqvjHaXRB",
        "outputId": "de0b6619-b65d-4138-d747-501e0f6a5405"
      },
      "outputs": [
        {
          "data": {
            "text/plain": [
              "314.0"
            ]
          },
          "execution_count": 52,
          "metadata": {},
          "output_type": "execute_result"
        }
      ],
      "source": [
        "c2.area()"
      ]
    },
    {
      "cell_type": "code",
      "execution_count": null,
      "metadata": {
        "colab": {
          "base_uri": "https://localhost:8080/"
        },
        "id": "7AWMrAslaYtA",
        "outputId": "a6283516-7e26-4211-aed8-92408dbe0fc4"
      },
      "outputs": [
        {
          "data": {
            "text/plain": [
              "62.800000000000004"
            ]
          },
          "execution_count": 53,
          "metadata": {},
          "output_type": "execute_result"
        }
      ],
      "source": [
        "c2.perimeter()"
      ]
    },
    {
      "cell_type": "code",
      "execution_count": null,
      "metadata": {
        "id": "fVa1ABxxabqA"
      },
      "outputs": [],
      "source": [
        "# Is c1 still active? : Yes\n",
        "# Class multiple instances can be managed"
      ]
    },
    {
      "cell_type": "code",
      "execution_count": null,
      "metadata": {
        "id": "AiB4mezNbJzX"
      },
      "outputs": [],
      "source": [
        "# import helps you use external libraries.pandas, numpy,\n",
        "# import pandas as pd\n"
      ]
    },
    {
      "cell_type": "code",
      "execution_count": null,
      "metadata": {
        "id": "Yx7-Yp5zvMVS"
      },
      "outputs": [],
      "source": [
        "# Practice :\n",
        "# Rectangle : Class\n",
        "# Input : length , breadth __init__\n",
        "# methods: Area, Perimeter and diagonal\n",
        "# Area :  l*b\n",
        "# perimeter : 2 (l+b)\n",
        "# diagonal : (l**2 + b**2) ** (0.5)\n",
        "# __init__ (double underscore as prefix and suffix)\n",
        "\n",
        "# Class variable : not required\n",
        "class Rectangle:\n",
        "  def __init__(self,l,b):\n",
        "    self.length = l\n",
        "    self.breadth = b\n",
        "\n",
        "  def area(self):\n",
        "    \"\"\"\n",
        "    Output: Area of the rectangle\n",
        "\n",
        "    \"\"\"\n",
        "    output = round(self.length * self.breadth)\n",
        "    return output\n",
        "\n",
        "  def perimeter(self):\n",
        "    return  round(2* (self.length + self.breadth))\n",
        "\n",
        "  def diagonal(self):\n",
        "    return round((self.length **2 + self.breadth **2) ** (0.5))\n"
      ]
    },
    {
      "cell_type": "code",
      "execution_count": null,
      "metadata": {
        "colab": {
          "base_uri": "https://localhost:8080/"
        },
        "id": "ejRlNcgFXr7l",
        "outputId": "dfee8939-788e-456e-f8d3-81218107e054"
      },
      "outputs": [
        {
          "data": {
            "text/plain": [
              "16"
            ]
          },
          "execution_count": 65,
          "metadata": {},
          "output_type": "execute_result"
        }
      ],
      "source": [
        "r1 = Rectangle(l = 5, b = 3)\n",
        "r1.perimeter()"
      ]
    },
    {
      "cell_type": "code",
      "execution_count": null,
      "metadata": {
        "colab": {
          "base_uri": "https://localhost:8080/"
        },
        "id": "1MUahakvew0S",
        "outputId": "f4309776-45d8-4d07-c3c2-1d59365a2e50"
      },
      "outputs": [
        {
          "data": {
            "text/plain": [
              "15"
            ]
          },
          "execution_count": 66,
          "metadata": {},
          "output_type": "execute_result"
        }
      ],
      "source": [
        "r1.area() # no bracket: it will just show the info: to access the output of method put ()"
      ]
    },
    {
      "cell_type": "code",
      "execution_count": null,
      "metadata": {
        "colab": {
          "base_uri": "https://localhost:8080/",
          "height": 104
        },
        "id": "usRGF1oJfL7-",
        "outputId": "22ab0859-f32b-4e18-a7b5-520e9bbb0550"
      },
      "outputs": [
        {
          "data": {
            "text/html": [
              "<div style=\"max-width:800px; border: 1px solid var(--colab-border-color);\"><style>\n",
              "      pre.function-repr-contents {\n",
              "        overflow-x: auto;\n",
              "        padding: 8px 12px;\n",
              "        max-height: 500px;\n",
              "      }\n",
              "\n",
              "      pre.function-repr-contents.function-repr-contents-collapsed {\n",
              "        cursor: pointer;\n",
              "        max-height: 100px;\n",
              "      }\n",
              "    </style>\n",
              "    <pre style=\"white-space: initial; background:\n",
              "         var(--colab-secondary-surface-color); padding: 8px 12px;\n",
              "         border-bottom: 1px solid var(--colab-border-color);\"><b>Rectangle.area</b><br/>def area()</pre><pre class=\"function-repr-contents function-repr-contents-collapsed\" style=\"\"><a class=\"filepath\" style=\"display:none\" href=\"#\">/content/&lt;ipython-input-64-a01d38eaff11&gt;</a>Output: Area of the rectangle</pre></div>"
            ],
            "text/plain": [
              "<bound method Rectangle.area of <__main__.Rectangle object at 0x7d374ef0e7d0>>"
            ]
          },
          "execution_count": 67,
          "metadata": {},
          "output_type": "execute_result"
        }
      ],
      "source": [
        "# r1.area"
      ]
    },
    {
      "cell_type": "markdown",
      "metadata": {
        "id": "TzNioXyAseja"
      },
      "source": [
        "# ATM FUNCTIONING WITH OOPS"
      ]
    },
    {
      "cell_type": "code",
      "execution_count": null,
      "metadata": {
        "id": "HwcbDG_ql4ux"
      },
      "outputs": [],
      "source": [
        "# self is default and first parameter for all the methods"
      ]
    },
    {
      "cell_type": "code",
      "execution_count": null,
      "metadata": {
        "id": "wXQbrKGeKeX1"
      },
      "outputs": [],
      "source": [
        "# Problem - create ACCOUNT Methods : Balance_enquiry, withdraw, deposit\n",
        "\n",
        "# 1st entire 'ACCOUNT' CLASS'S BLUEPRINT (WHICH INCLUDING 3 METHODS'S FUNCTIONING)\n",
        "# LATER CREATE DIFF PERSON'S ACCOUNT AND KEEP THEIR BALANCE AND UPDATED BALANCE separately\n",
        "\n",
        "\n",
        "\n",
        "class account:\n",
        "  def __init__(self,balance):\n",
        "    self.balance = balance\n",
        "\n",
        "  def balance_enquiry(self):\n",
        "    print('The current balance is INR',self.balance)\n",
        "\n",
        "\n",
        "  def deposit(self,d_amount): # d_amount is specific to this method\n",
        "    self.balance = self.balance + d_amount # Notice here i haven't self.d_amount\n",
        "    print('The new balance is INR',self.balance)\n",
        "\n",
        "# ABOVE EXAMPLE - SELF = SHARED ACCOUNT, SO USED BY ALL METHODS TO\n",
        "# RECALL ANY VARIABLE KEPT IN SELF/SHELF\n",
        "# BUT INSIDE METHOD WE CAN RECALL ANY VARIABLE 'ONLY INSIDE THAT METHOD'\n",
        "# LIKE d_amount WE DON'T REQUIRE TO WRITE SELF. IN THE BEGINNING AS\n",
        "# LIKE LOCAL VARIABLE\n",
        "\n",
        "# SO IF VARIABLE NEEDED IN ANOTHER METHOD THEN STORE IN 'SELF' OTHERWISE\n",
        "# U CAN DIRECTLY USE VARIABLE WITHOUT CREATING SELF to keep variable for later outside use:\n",
        "#  self.d_a = d_amount\n",
        "\n",
        "# CREATE CONDITINS INSIDE FUNCTIONS :.\n",
        "\n",
        "  def withdraw(self,w_amount):\n",
        "    if self.balance < w_amount:\n",
        "      print('Insufficient Balance')\n",
        "    else:\n",
        "      self.balance = self.balance - w_amount\n",
        "      print('The new balance is INR',self.balance)"
      ]
    },
    {
      "cell_type": "code",
      "execution_count": null,
      "metadata": {
        "id": "WK6m8j0Gnmw8"
      },
      "outputs": [],
      "source": [
        "almabetter = account(balance = 1000)"
      ]
    },
    {
      "cell_type": "code",
      "execution_count": null,
      "metadata": {
        "id": "csigj-9-oGWY"
      },
      "outputs": [],
      "source": [
        "# only self : no parameter is required\n",
        "# Self , parameter: then parameter has to be given as an input"
      ]
    },
    {
      "cell_type": "code",
      "execution_count": null,
      "metadata": {
        "colab": {
          "base_uri": "https://localhost:8080/"
        },
        "id": "WvVjWv0Bnxmt",
        "outputId": "903055b7-087a-4854-8a37-7fa43e8b8c72"
      },
      "outputs": [
        {
          "name": "stdout",
          "output_type": "stream",
          "text": [
            "The current balance is INR 1000\n"
          ]
        }
      ],
      "source": [
        "almabetter.balance_enquiry()"
      ]
    },
    {
      "cell_type": "code",
      "execution_count": null,
      "metadata": {
        "colab": {
          "base_uri": "https://localhost:8080/"
        },
        "id": "f4xCJLu5n3lg",
        "outputId": "3dc13d1e-0cf6-48a8-e9e2-9be72c56fac1"
      },
      "outputs": [
        {
          "name": "stdout",
          "output_type": "stream",
          "text": [
            "The new balance is INR 1500\n"
          ]
        }
      ],
      "source": [
        "almabetter.deposit(d_amount = 500)"
      ]
    },
    {
      "cell_type": "code",
      "execution_count": null,
      "metadata": {
        "colab": {
          "base_uri": "https://localhost:8080/"
        },
        "id": "KMA0iXjNoTXQ",
        "outputId": "a3441d8e-30a8-42aa-9ef8-813685f0d943"
      },
      "outputs": [
        {
          "name": "stdout",
          "output_type": "stream",
          "text": [
            "The current balance is INR 1500\n"
          ]
        }
      ],
      "source": [
        "almabetter.balance_enquiry()"
      ]
    },
    {
      "cell_type": "code",
      "execution_count": null,
      "metadata": {
        "colab": {
          "base_uri": "https://localhost:8080/"
        },
        "id": "SbFtKyFtoaBj",
        "outputId": "e9f5b804-a658-4cf8-e80e-e78b11f2a85c"
      },
      "outputs": [
        {
          "name": "stdout",
          "output_type": "stream",
          "text": [
            "Insufficient Balance\n"
          ]
        }
      ],
      "source": [
        "almabetter.withdraw(w_amount = 2000)"
      ]
    },
    {
      "cell_type": "code",
      "execution_count": null,
      "metadata": {
        "colab": {
          "base_uri": "https://localhost:8080/"
        },
        "id": "YgpYNy_sod5_",
        "outputId": "1def2f5e-d9af-4174-8fd3-c71394c9b22f"
      },
      "outputs": [
        {
          "name": "stdout",
          "output_type": "stream",
          "text": [
            "The new balance is INR 500\n"
          ]
        }
      ],
      "source": [
        "almabetter.withdraw(w_amount = 1000)"
      ]
    },
    {
      "cell_type": "code",
      "execution_count": null,
      "metadata": {
        "colab": {
          "base_uri": "https://localhost:8080/"
        },
        "id": "HUimAXe7ofsk",
        "outputId": "bad94fd9-6f1a-487a-c62a-23ec2659c245"
      },
      "outputs": [
        {
          "name": "stdout",
          "output_type": "stream",
          "text": [
            "The current balance is INR 500\n"
          ]
        }
      ],
      "source": [
        "almabetter.balance_enquiry()"
      ]
    },
    {
      "cell_type": "code",
      "execution_count": null,
      "metadata": {
        "id": "TT5GYf39osgY"
      },
      "outputs": [],
      "source": [
        "alok = account(balance = 100)"
      ]
    },
    {
      "cell_type": "code",
      "execution_count": null,
      "metadata": {
        "colab": {
          "base_uri": "https://localhost:8080/"
        },
        "id": "3s9BEUj3oybk",
        "outputId": "7f2b4096-e397-43c7-f5a4-f00500344acd"
      },
      "outputs": [
        {
          "name": "stdout",
          "output_type": "stream",
          "text": [
            "The current balance is INR 100\n"
          ]
        }
      ],
      "source": [
        "alok.balance_enquiry()"
      ]
    },
    {
      "cell_type": "code",
      "execution_count": null,
      "metadata": {
        "colab": {
          "base_uri": "https://localhost:8080/"
        },
        "id": "_q3Ul7_Ho0wv",
        "outputId": "1c643a8b-b0fb-4f77-e435-5d28387342eb"
      },
      "outputs": [
        {
          "name": "stdout",
          "output_type": "stream",
          "text": [
            "The current balance is INR 500\n"
          ]
        }
      ],
      "source": [
        "almabetter.balance_enquiry()"
      ]
    },
    {
      "cell_type": "code",
      "execution_count": null,
      "metadata": {
        "id": "2DRbeADrpisE"
      },
      "outputs": [],
      "source": [
        "# TO ENCAPSULATE AND MAKE 'BALANCE VARIABLE' INACCEABLE FOR DIRECT CHANGING LIKE:\n",
        "# almabetter.balance = 1000000 --> to barge into the balance variable and\n",
        "# withdraw extra money.\n",
        "# we add __ 'double underscore' before any variable.\n",
        "\n",
        "class account:\n",
        "  def __init__(self,balance): #NOT __ FOR VARIABLE NAME TO BE ADDED.\n",
        "    self.__balance = __balance # ENCAPSULATED BALANCE -> __BALANCE\n",
        "\n",
        "  def balance_enquiry(self):\n",
        "    print('The current balance is INR',self.__balance)\n",
        "\n",
        "\n",
        "  def deposit(self,d_amount): # d_amount is specific to this method\n",
        "    self.__balance = self.__balance + d_amount # Notice here i haven't self.d_amount\n",
        "    print('The new balance is INR',self.__balance)\n",
        "\n",
        "\n",
        "  def withdraw(self,w_amount):\n",
        "    if self.__balance < w_amount:\n",
        "      print('Insufficient Balance')\n",
        "    else:\n",
        "      self.__balance = self.__balance - w_amount\n",
        "      print('The new balance is INR',self.__balance)"
      ]
    },
    {
      "cell_type": "code",
      "execution_count": null,
      "metadata": {
        "id": "6M3_IKm_pipN"
      },
      "outputs": [],
      "source": [
        "john = account(balance = 1000)"
      ]
    },
    {
      "cell_type": "code",
      "execution_count": null,
      "metadata": {
        "colab": {
          "base_uri": "https://localhost:8080/"
        },
        "id": "NHWNhzYrp-aT",
        "outputId": "b7dd3c8e-1abb-4d86-e3bf-309daab17ccf"
      },
      "outputs": [
        {
          "data": {
            "text/plain": [
              "1000"
            ]
          },
          "execution_count": 81,
          "metadata": {},
          "output_type": "execute_result"
        }
      ],
      "source": [
        "john.balance"
      ]
    },
    {
      "cell_type": "code",
      "execution_count": null,
      "metadata": {
        "id": "bA5qLh6ZqCTy"
      },
      "outputs": [],
      "source": [
        "john.balance = 100000 # He accessed this variable : changed the value of it."
      ]
    },
    {
      "cell_type": "code",
      "execution_count": null,
      "metadata": {
        "colab": {
          "base_uri": "https://localhost:8080/"
        },
        "id": "n53SCzCwqHfj",
        "outputId": "0ab4cc0a-06d4-44ae-be68-df262ea41a33"
      },
      "outputs": [
        {
          "name": "stdout",
          "output_type": "stream",
          "text": [
            "The current balance is INR 100000\n"
          ]
        }
      ],
      "source": [
        "john.balance_enquiry()"
      ]
    },
    {
      "cell_type": "code",
      "execution_count": null,
      "metadata": {
        "id": "Ar2obH2OqVPO"
      },
      "outputs": [],
      "source": []
    },
    {
      "cell_type": "code",
      "execution_count": null,
      "metadata": {
        "id": "XolII9ZGKY7J"
      },
      "outputs": [],
      "source": [
        "# Characteristics of class\n",
        "# Encaptulation : CAN BE USED IN CLASS BUT NOT METHOD & IS\n",
        "# WAY TO Secure your variable TO NOT access it directly.\n",
        "\n",
        "# inside Method - local variable destroyed once you run again but\n",
        "# inside class - object & instance variable kept inside .self not destroyed.\n",
        "\n",
        "\n",
        "# putting __ (double underscore ): secures the variable\n",
        "class account:\n",
        "  def __init__(self,balance):\n",
        "    self.__balance = balance\n",
        "\n",
        "#SINCE ENCAPSULATED VALIABLE CAN'T BE ACCESSED DIRECTLY HENCE NEED 2 METHOD:\n",
        "# 1. GETTER METHOD - TO GET/RECALL VALUE OF ENCAPSULATED VARIABLE\n",
        "  def balance_enquiry(self):\n",
        "    print('The current balance is INR',self.__balance)\n",
        "\n",
        "# 2. SETTER METHOD - TO SET OR CHANGE, VALUE OF ENCAPSULATED VARIABLE\n",
        "  def deposit(self,d_amount): # d_amount is specific to this method\n",
        "    self.__balance = self.__balance + d_amount # Notice here i haven't self.d_amount\n",
        "    print('The new balance is INR',self.__balance)\n",
        "\n",
        "\n",
        "  def withdraw(self,w_amount):\n",
        "    if self.__balance < w_amount:\n",
        "      print('Insufficient Balance')\n",
        "    else:\n",
        "      self.__balance = self.__balance - w_amount\n",
        "      print('The new balance is INR',self.__balance)\n"
      ]
    },
    {
      "cell_type": "code",
      "execution_count": null,
      "metadata": {
        "id": "hoWcXjQuKrsK"
      },
      "outputs": [],
      "source": [
        "john = account(balance = 1000) # KYC"
      ]
    },
    {
      "cell_type": "code",
      "execution_count": null,
      "metadata": {
        "colab": {
          "base_uri": "https://localhost:8080/"
        },
        "id": "e_Uf8t8_K44L",
        "outputId": "b69f2bfc-5068-4f6a-ba70-b5797302b3ac"
      },
      "outputs": [
        {
          "name": "stdout",
          "output_type": "stream",
          "text": [
            "The current balance is INR 1000\n"
          ]
        }
      ],
      "source": [
        "john.balance_enquiry()"
      ]
    },
    {
      "cell_type": "code",
      "execution_count": null,
      "metadata": {
        "colab": {
          "base_uri": "https://localhost:8080/",
          "height": 146
        },
        "id": "1h0rTTRkKydx",
        "outputId": "0e66119b-010a-4f75-fdf4-3c09aab4a3c7"
      },
      "outputs": [
        {
          "ename": "AttributeError",
          "evalue": "'account' object has no attribute '__balance'",
          "output_type": "error",
          "traceback": [
            "\u001b[0;31m---------------------------------------------------------------------------\u001b[0m",
            "\u001b[0;31mAttributeError\u001b[0m                            Traceback (most recent call last)",
            "\u001b[0;32m<ipython-input-12-963cd90a7104>\u001b[0m in \u001b[0;36m<cell line: 1>\u001b[0;34m()\u001b[0m\n\u001b[0;32m----> 1\u001b[0;31m \u001b[0mjohn\u001b[0m\u001b[0;34m.\u001b[0m\u001b[0m__balance\u001b[0m\u001b[0;34m\u001b[0m\u001b[0;34m\u001b[0m\u001b[0m\n\u001b[0m",
            "\u001b[0;31mAttributeError\u001b[0m: 'account' object has no attribute '__balance'"
          ]
        }
      ],
      "source": [
        "john.__balance #CAN'T A. ACCESS & B. CHANGE VALUE INSIDE ENCAPSULATED VARIABLE"
      ]
    },
    {
      "cell_type": "code",
      "execution_count": null,
      "metadata": {
        "id": "MjMonr7QK12K"
      },
      "outputs": [],
      "source": [
        "john.__balance = 10000000  #EVEN IF WANT TO ACCESS AND CHANGE VALUE OF ENCAPSULATED VARIABLE\n",
        "# Class : create a different instance dummy variable"
      ]
    },
    {
      "cell_type": "code",
      "execution_count": null,
      "metadata": {
        "colab": {
          "base_uri": "https://localhost:8080/"
        },
        "id": "AXZ5F6eLr1GQ",
        "outputId": "820c0369-4cef-401e-e316-81ff45a5d0b5"
      },
      "outputs": [
        {
          "data": {
            "text/plain": [
              "10000000"
            ]
          },
          "execution_count": 15,
          "metadata": {},
          "output_type": "execute_result"
        }
      ],
      "source": [
        "john.__balance # dummy variable created by class: not being utlised by methods inside it."
      ]
    },
    {
      "cell_type": "code",
      "execution_count": null,
      "metadata": {
        "colab": {
          "base_uri": "https://localhost:8080/"
        },
        "id": "x_rXulSYLCXg",
        "outputId": "957827bb-ae78-4203-95bd-f0e8ce32940a"
      },
      "outputs": [
        {
          "name": "stdout",
          "output_type": "stream",
          "text": [
            "The current balance is INR 1000\n"
          ]
        }
      ],
      "source": [
        "john.balance_enquiry()  #CURRENT BALANCE IS STILL OLD BALANCE"
      ]
    },
    {
      "cell_type": "code",
      "execution_count": null,
      "metadata": {
        "id": "_00lDQkuLNIB"
      },
      "outputs": [],
      "source": [
        "# In Some application : there are few variables which are sensitive, and need protection to get updated directly.\n",
        "# Protect : by putting __ (double underscore) as prefix"
      ]
    },
    {
      "cell_type": "code",
      "execution_count": null,
      "metadata": {
        "id": "J-BMQstoLks5"
      },
      "outputs": [],
      "source": [
        "# Function : local variables which will get destroyed, you can;t access it once it has run.\n",
        "# Class : Instance creation, Encaptulation is required to protect some variables."
      ]
    },
    {
      "cell_type": "code",
      "execution_count": null,
      "metadata": {
        "id": "EqfwMNIXLUaJ"
      },
      "outputs": [],
      "source": [
        "# Encryption :"
      ]
    },
    {
      "cell_type": "code",
      "execution_count": null,
      "metadata": {
        "id": "nyxbrGKgAMBv"
      },
      "outputs": [],
      "source": [
        "# Encapsulation : Makes the variable secret by putting double underscore before the variable, can;t be changed or accessed directly\n",
        "\n",
        "class account:\n",
        "  def __init__(self,balance = 0): # Default value for balance\n",
        "    self.__balance = balance # 2 underscores\n",
        "\n",
        "  def display_balance(self): # getter method\n",
        "    print(f'The current balance is {self.__balance}')\n",
        "\n",
        "\n",
        "  def withdraw(self,w_amount): # w_amount : private data for this method\n",
        "    if w_amount > self.__balance:\n",
        "      print('Insufficient Balance')\n",
        "    else:\n",
        "      self.__balance = self.__balance - w_amount\n",
        "      print(f'New balance is {self.__balance}')\n",
        "\n",
        "\n",
        "  def deposit(self,d_amount): # d_amount : private data for this method\n",
        "    self.__balance = self.__balance + d_amount\n",
        "    print(f'New balance is {self.__balance}')\n",
        "\n",
        "\n"
      ]
    },
    {
      "cell_type": "code",
      "execution_count": null,
      "metadata": {
        "id": "H7mPJF9WMD9q"
      },
      "outputs": [],
      "source": [
        "almabetter = account(balance = 1000)"
      ]
    },
    {
      "cell_type": "code",
      "execution_count": null,
      "metadata": {
        "colab": {
          "base_uri": "https://localhost:8080/",
          "height": 141
        },
        "id": "T8Bb5uplMHQE",
        "outputId": "e6a59ca7-4fee-4c71-ae62-233f5ff2943b"
      },
      "outputs": [
        {
          "ename": "AttributeError",
          "evalue": "'account' object has no attribute '__balance'",
          "output_type": "error",
          "traceback": [
            "\u001b[0;31m---------------------------------------------------------------------------\u001b[0m",
            "\u001b[0;31mAttributeError\u001b[0m                            Traceback (most recent call last)",
            "\u001b[0;32m<ipython-input-14-95f64ec5ee48>\u001b[0m in \u001b[0;36m<cell line: 1>\u001b[0;34m()\u001b[0m\n\u001b[0;32m----> 1\u001b[0;31m \u001b[0malmabetter\u001b[0m\u001b[0;34m.\u001b[0m\u001b[0m__balance\u001b[0m\u001b[0;34m\u001b[0m\u001b[0;34m\u001b[0m\u001b[0m\n\u001b[0m",
            "\u001b[0;31mAttributeError\u001b[0m: 'account' object has no attribute '__balance'"
          ]
        }
      ],
      "source": [
        "almabetter.__balance"
      ]
    },
    {
      "cell_type": "code",
      "execution_count": null,
      "metadata": {
        "colab": {
          "base_uri": "https://localhost:8080/"
        },
        "id": "fOu34mVbMLvl",
        "outputId": "8d631534-ded7-4412-af42-19d1a8106e25"
      },
      "outputs": [
        {
          "name": "stdout",
          "output_type": "stream",
          "text": [
            "The current balance is 1000\n"
          ]
        }
      ],
      "source": [
        "almabetter.display_balance()"
      ]
    },
    {
      "cell_type": "code",
      "execution_count": null,
      "metadata": {
        "id": "0hkflNIAMP47"
      },
      "outputs": [],
      "source": [
        "almabetter.__balance = 10000"
      ]
    },
    {
      "cell_type": "code",
      "execution_count": null,
      "metadata": {
        "colab": {
          "base_uri": "https://localhost:8080/"
        },
        "id": "TkZlyfeOMSME",
        "outputId": "f5315965-7f4b-41b7-8caf-3dd23edb633e"
      },
      "outputs": [
        {
          "name": "stdout",
          "output_type": "stream",
          "text": [
            "The current balance is 1000\n"
          ]
        }
      ],
      "source": [
        "almabetter.display_balance()"
      ]
    },
    {
      "cell_type": "code",
      "execution_count": null,
      "metadata": {
        "colab": {
          "base_uri": "https://localhost:8080/"
        },
        "id": "wDBB7QQ5MdNF",
        "outputId": "157a0c43-2185-4596-94be-a2b7f60402e6"
      },
      "outputs": [
        {
          "name": "stdout",
          "output_type": "stream",
          "text": [
            "New balance is 2500\n"
          ]
        }
      ],
      "source": [
        "almabetter.deposit(1500)"
      ]
    },
    {
      "cell_type": "code",
      "execution_count": null,
      "metadata": {
        "colab": {
          "base_uri": "https://localhost:8080/"
        },
        "id": "fQWSCLWHMgnY",
        "outputId": "26e431d9-6dfc-4c51-ad2a-4ff23c64f954"
      },
      "outputs": [
        {
          "data": {
            "text/plain": [
              "10000"
            ]
          },
          "execution_count": 19,
          "metadata": {},
          "output_type": "execute_result"
        }
      ],
      "source": [
        "almabetter.__balance # dummy variable created by python ;\n",
        "#which actually doesn;t the change the value present in the class/ object"
      ]
    },
    {
      "cell_type": "code",
      "execution_count": null,
      "metadata": {
        "id": "SWNBPdb1M5KR"
      },
      "outputs": [],
      "source": [
        "# getter : display_balance and setter : deposit encaptualted variable method"
      ]
    },
    {
      "cell_type": "code",
      "execution_count": null,
      "metadata": {
        "id": "Euqx4QiyM5Hb"
      },
      "outputs": [],
      "source": [
        "# getter method : Displays the value of encaptulated variable\n",
        "# setter method : Changes the value of encaptulated variable\n",
        "# Encaptulated variable can't be changed directly.\n"
      ]
    },
    {
      "cell_type": "code",
      "execution_count": null,
      "metadata": {
        "id": "50qowXuNt-gV"
      },
      "outputs": [],
      "source": [
        "class circle:\n",
        "  def __init__(self,radius):\n",
        "    self.__radius = radius\n",
        "\n",
        "  def display_radius(self): # getter method\n",
        "    print('Radius',self.__radius)\n",
        "\n",
        "  def update_radius(self, new_radius): # setter method\n",
        "    self.__radius = new_radius\n",
        "    print('New Radius', self.__radius)\n"
      ]
    },
    {
      "cell_type": "code",
      "execution_count": null,
      "metadata": {
        "id": "hNvTDxr_t-dd"
      },
      "outputs": [],
      "source": [
        "c1 = circle(radius = 5)"
      ]
    },
    {
      "cell_type": "code",
      "execution_count": null,
      "metadata": {
        "colab": {
          "base_uri": "https://localhost:8080/",
          "height": 141
        },
        "id": "sEKmG_sit-am",
        "outputId": "8f214fe9-de28-4bcd-e237-ed8f65e8d1d0"
      },
      "outputs": [
        {
          "ename": "AttributeError",
          "evalue": "'circle' object has no attribute '__radius'",
          "output_type": "error",
          "traceback": [
            "\u001b[0;31m---------------------------------------------------------------------------\u001b[0m",
            "\u001b[0;31mAttributeError\u001b[0m                            Traceback (most recent call last)",
            "\u001b[0;32m<ipython-input-98-3b251a7786dd>\u001b[0m in \u001b[0;36m<cell line: 1>\u001b[0;34m()\u001b[0m\n\u001b[0;32m----> 1\u001b[0;31m \u001b[0mc1\u001b[0m\u001b[0;34m.\u001b[0m\u001b[0m__radius\u001b[0m\u001b[0;34m\u001b[0m\u001b[0;34m\u001b[0m\u001b[0m\n\u001b[0m",
            "\u001b[0;31mAttributeError\u001b[0m: 'circle' object has no attribute '__radius'"
          ]
        }
      ],
      "source": [
        "c1.__radius"
      ]
    },
    {
      "cell_type": "code",
      "execution_count": null,
      "metadata": {
        "colab": {
          "base_uri": "https://localhost:8080/"
        },
        "id": "mOlQITumuhEC",
        "outputId": "02735ffe-0efa-40b1-bcb1-2cef497d8518"
      },
      "outputs": [
        {
          "name": "stdout",
          "output_type": "stream",
          "text": [
            "Radius 5\n"
          ]
        }
      ],
      "source": [
        "# getter method to see the value of radius\n",
        "c1.display_radius()"
      ]
    },
    {
      "cell_type": "code",
      "execution_count": null,
      "metadata": {
        "colab": {
          "base_uri": "https://localhost:8080/"
        },
        "id": "fu4CatWNumNd",
        "outputId": "902dccc1-2fd7-4010-c303-322ce9f21cf6"
      },
      "outputs": [
        {
          "name": "stdout",
          "output_type": "stream",
          "text": [
            "New Radius 10\n"
          ]
        }
      ],
      "source": [
        "c1.update_radius(new_radius = 10)"
      ]
    },
    {
      "cell_type": "code",
      "execution_count": null,
      "metadata": {
        "colab": {
          "base_uri": "https://localhost:8080/"
        },
        "id": "w5gCJeUdupwi",
        "outputId": "1d85ee3b-fbab-47cb-912a-af76c6144f45"
      },
      "outputs": [
        {
          "name": "stdout",
          "output_type": "stream",
          "text": [
            "Radius 10\n"
          ]
        }
      ],
      "source": [
        "c1.display_radius()"
      ]
    },
    {
      "cell_type": "markdown",
      "metadata": {
        "id": "qSSermIztck4"
      },
      "source": [
        "# POLYMORPHYSM - Something which takes many forms"
      ]
    },
    {
      "cell_type": "code",
      "execution_count": null,
      "metadata": {
        "id": "-FEX-nqwrRkv"
      },
      "outputs": [],
      "source": [
        "# Polymorphism :\n",
        "# 1. Child and parent class can have method will same name.\n",
        "# 2. Objects created by Child class will access the method of child class if names are clashing with parent class.\n"
      ]
    },
    {
      "cell_type": "code",
      "execution_count": null,
      "metadata": {
        "id": "Dd6xJ8VUAL8A",
        "colab": {
          "base_uri": "https://localhost:8080/"
        },
        "outputId": "98af2ea7-0a23-4493-c1b7-6ce3c8971958"
      },
      "outputs": [
        {
          "output_type": "stream",
          "name": "stdout",
          "text": [
            "Animal Sound\n",
            "Woof! I am Labrador\n",
            "Meow! I have Long fur\n"
          ]
        }
      ],
      "source": [
        "# Polymorphism\n",
        "\n",
        "class Animal: # Parent class\n",
        "  def __init__(self, name):\n",
        "    self.name = name\n",
        "\n",
        "  def speak(self):\n",
        "    print(\"Animal Sound\")\n",
        "\n",
        "class Dog(Animal): # Dog : Child Class (with) super().__init__() (to define) Animal : parent Class\n",
        "  def __init__(self, name, breed): # it's the best practice to include all variables of parent class\n",
        "    super().__init__(name) # Shortcut : which defines access parent init for the self argument\n",
        "    self.breed = breed #  Specfic to Dog Class : Child Class\n",
        "\n",
        "  def speak(self):\n",
        "    print(\"Woof! I am\", self.breed)\n",
        "\n",
        "class Cat(Animal):  #   Child Class\n",
        "  def __init__(self, name, fur):\n",
        "    super().__init__(name)\n",
        "    self.fur = fur\n",
        "\n",
        "  def speak(self):\n",
        "    print(\"Meow! I have\", self.fur, \"fur\")\n",
        "\n",
        "# Create objects\n",
        "my_animal = Animal(\"Animal\")\n",
        "my_dog = Dog(\"Buddy\", \"Labrador\")\n",
        "my_cat = Cat(\"Whiskers\", \"Long\")\n",
        "\n",
        "# Call speak method on each object\n",
        "my_animal.speak()  # Output: Animal Sound\n",
        "my_dog.speak()  # Output: Woof! I am Labrador\n",
        "my_cat.speak()  # Output: Meow! I have Long fur\n"
      ]
    },
    {
      "cell_type": "code",
      "source": [
        "# Shape Calculator 📐\n",
        "class Shape:\n",
        "    # Define abstract methods to calculate area and perimeter. Will be implemented by child classes.\n",
        "    def area(self):\n",
        "        pass\n",
        "\n",
        "    def perimeter(self):\n",
        "        pass\n",
        "\n",
        "\n",
        "class Square(Shape):\n",
        "    # Define the constructor method to initialize the class with the length of the side\n",
        "    def __init__(self, side):\n",
        "        self.side = side\n",
        "\n",
        "    # Override the area method to calculate the area of the square\n",
        "    def area(self):\n",
        "        return self.side ** 2\n",
        "\n",
        "\n",
        "class Rectangle(Shape):\n",
        "    # Define the constructor method to initialize the class with the width and height\n",
        "    def __init__(self, width, height):\n",
        "        self.width = width\n",
        "        self.height = height\n",
        "\n",
        "    # Override the area method to calculate the area of the rectangle\n",
        "    def area(self):\n",
        "        return self.width * self.height\n",
        "\n",
        "\n",
        "class Circle(Shape):\n",
        "    # Define the constructor method to initialize the class with the radius\n",
        "    def __init__(self, radius):\n",
        "        self.radius = radius\n",
        "\n",
        "    # Override the area method to calculate the area of the circle\n",
        "    def area(self):\n",
        "        return 3.14 * self.radius ** 2\n",
        "\n",
        "\n",
        "\n",
        "# Creating Objects of Shape Classes\n",
        "square = Square(5)\n",
        "rectangle = Rectangle(3, 4)\n",
        "circle = Circle(2)\n",
        "\n",
        "# Calculating Area and Perimeter of Shapes\n",
        "print(\"Area of Square:\", square.area())\n",
        "\n",
        "print(\"Area of Rectangle:\", rectangle.area())\n",
        "\n",
        "print(\"Area of Circle:\", circle.area())\n"
      ],
      "metadata": {
        "colab": {
          "base_uri": "https://localhost:8080/"
        },
        "id": "IqmfbLNUmBqZ",
        "outputId": "a75d8074-62f6-42f0-8a56-5259de69e401"
      },
      "execution_count": null,
      "outputs": [
        {
          "output_type": "stream",
          "name": "stdout",
          "text": [
            "Area of Square: 25\n",
            "Area of Rectangle: 12\n",
            "Area of Circle: 12.56\n"
          ]
        }
      ]
    },
    {
      "cell_type": "code",
      "source": [
        "# Bank Account Management System 💻🏦\n",
        "\n",
        "# Define a BankAccount class\n",
        "class BankAccount:\n",
        "    bank_name = 'SBI' # Class Variables A.  DEFINE CLASS VARIABLE = FIXED\n",
        "    IFSC_code = 'SBIN0000' # Class Variables\n",
        "\n",
        "    # Constructor to initialize account details\n",
        "    def __init__(self, name, account_number, balance):\n",
        "        self.name = name\n",
        "        self.account_number = account_number\n",
        "        self.balance = balance\n",
        "\n",
        "    # Method to deposit funds into the account\n",
        "    def deposit(self, amount):\n",
        "        self.balance += amount\n",
        "        print(\"Deposit successful. Your new balance is:\", self.balance)\n",
        "\n",
        "    # Method to withdraw funds from the account\n",
        "    def withdraw(self, amount):\n",
        "        if amount <= self.balance:\n",
        "            self.balance -= amount\n",
        "            print(\"Withdrawal successful. Your new balance is:\", self.balance)\n",
        "        else:\n",
        "            print(\"Insufficient balance. Your current balance is:\", self.balance)\n",
        "\n",
        "    # Method to view account details\n",
        "    def account_details(self):\n",
        "        print(\"Name:\", self.name)\n",
        "        print(\"Account Number:\", self.account_number)\n",
        "        print(\"Balance:\", self.balance)\n",
        "\n",
        "\n",
        "\n",
        "# Test Case\n",
        "\n",
        "# Create a new bank account\n",
        "account1 = BankAccount(\"John Doe\", \"1234567890\", 1000)\n",
        "\n",
        "# Test deposit method\n",
        "account1.deposit(500)\n",
        "\n",
        "# Test withdraw method\n",
        "account1.withdraw(2000)\n",
        "\n",
        "# Test account details method\n",
        "account1.account_details()\n",
        "\n",
        "account1.bank_name #for recalling constant fixed class variable don't add ( )"
      ],
      "metadata": {
        "colab": {
          "base_uri": "https://localhost:8080/",
          "height": 126
        },
        "id": "QxdkJf4Omf2v",
        "outputId": "f9d1f19e-be85-41c0-bff8-5f2cdad78a35"
      },
      "execution_count": null,
      "outputs": [
        {
          "output_type": "stream",
          "name": "stdout",
          "text": [
            "Deposit successful. Your new balance is: 1500\n",
            "Insufficient balance. Your current balance is: 1500\n",
            "Name: John Doe\n",
            "Account Number: 1234567890\n",
            "Balance: 1500\n"
          ]
        },
        {
          "output_type": "execute_result",
          "data": {
            "text/plain": [
              "'SBI'"
            ],
            "application/vnd.google.colaboratory.intrinsic+json": {
              "type": "string"
            }
          },
          "metadata": {},
          "execution_count": 59
        }
      ]
    },
    {
      "cell_type": "markdown",
      "metadata": {
        "id": "LzbTlrwVs7Zy"
      },
      "source": [
        "# INHERITANCE\n",
        "* Inheritance allows a new class to be based on an existing class.\n",
        "* absorbing the properties and behaviors of an existing class,\n",
        "* while also allowing for the new class to add or modify its own unique properties and behaviors."
      ]
    },
    {
      "cell_type": "markdown",
      "source": [
        "# Single Inheritance seen LATER v/s Multiple Inheritance C = A + B"
      ],
      "metadata": {
        "id": "pea8yWcqE4UH"
      }
    },
    {
      "cell_type": "code",
      "source": [
        "# MULTIPLE INHERITANCE\n",
        "class A:\n",
        "    def display1(self):\n",
        "      print('This is class A')\n",
        "class B:\n",
        "    def display2(self):\n",
        "      print('This is class B')\n",
        "class C(A, B):\n",
        "    def display3(self):\n",
        "      print('This is class C')\n",
        "\n",
        "obj = C()\n",
        "obj.display1()\n",
        "obj.display2()\n",
        "obj.display3()"
      ],
      "metadata": {
        "colab": {
          "base_uri": "https://localhost:8080/"
        },
        "id": "C0knlNChEuyM",
        "outputId": "07e6aaee-db6a-4584-eaa1-89dfb82a087e"
      },
      "execution_count": null,
      "outputs": [
        {
          "output_type": "stream",
          "name": "stdout",
          "text": [
            "This is class A\n",
            "This is class B\n",
            "This is class C\n"
          ]
        }
      ]
    },
    {
      "cell_type": "code",
      "source": [
        "#  Hierarchical Inheritance\n",
        "class A:\n",
        "    def display1(self):\n",
        "      print('This is class A')\n",
        "\n",
        "class B(A):\n",
        "    def display2(self):\n",
        "      print('This is class B')\n",
        "class C(A):\n",
        "    def display3(self):\n",
        "      print('This is class C')\n",
        "class D(A):\n",
        "    def display4(self):\n",
        "      print('This is class D')\n",
        "\n",
        "obj1 = B()\n",
        "obj2 = C()\n",
        "obj3 = D()\n",
        "obj1.display1()\n",
        "obj1.display2()\n",
        "obj2.display1()\n",
        "obj2.display3()\n",
        "obj3.display1()\n",
        "obj3.display4()\n"
      ],
      "metadata": {
        "colab": {
          "base_uri": "https://localhost:8080/"
        },
        "id": "U4f6z-_OHC8m",
        "outputId": "558cc7bc-1a82-4047-924f-21243208a13b"
      },
      "execution_count": null,
      "outputs": [
        {
          "output_type": "stream",
          "name": "stdout",
          "text": [
            "This is class A\n",
            "This is class B\n",
            "This is class A\n",
            "This is class C\n",
            "This is class A\n",
            "This is class D\n"
          ]
        }
      ]
    },
    {
      "cell_type": "code",
      "source": [
        "class Vehicle:\n",
        "    def __init__(self, make, model, year):\n",
        "        self.make = make\n",
        "        self.model = model\n",
        "        self.year = year\n",
        "\n",
        "    def start_engine(self):\n",
        "        print(\"Starting engine...\")\n",
        "\n",
        "#then define a subclass called Car that inherits from the Vehicle class and adds its own unique properties and methods.\n",
        "\n",
        "class Car(Vehicle):\n",
        "    def __init__(self, make, model, year, num_doors):\n",
        "        super().__init__(make, model, year)\n",
        "        self.num_doors = num_doors\n",
        "\n",
        "    def drive(self):\n",
        "        print(\"Driving the car...\")\n",
        "\n",
        "# Car class inherits from the Vehicle class using the super() function.\n",
        "# This means that the Car class will have access to all the properties and methods of the Vehicle class.\n",
        "# The init() method of the Car class overrides the init() method of the Vehicle class\n",
        "# to include an additional parameter for the number of doors.\n",
        "# The drive() method is unique to the Car class and is not present in the Vehicle class.\n",
        "\n",
        "vehicle = Vehicle(\"Toyota\", \"Corolla\", 2022)\n",
        "car = Car(\"Tesla\", \"Model S\", 2021, 4)\n",
        "\n",
        "vehicle.start_engine()  # prints \"Starting engine...\"\n",
        "car.start_engine()      # prints \"Starting engine...\"\n",
        "\n",
        "# vehicle.drive()       # This will produce an error, as the drive() method is not defined for the Vehicle class\n",
        "car.drive()\n",
        "\n",
        "\n",
        "\n",
        "\n"
      ],
      "metadata": {
        "colab": {
          "base_uri": "https://localhost:8080/"
        },
        "id": "kaaYCTiZt0jk",
        "outputId": "b4b94ecb-7d7a-4701-e387-eee37521575f"
      },
      "execution_count": null,
      "outputs": [
        {
          "output_type": "stream",
          "name": "stdout",
          "text": [
            "Starting engine...\n",
            "Starting engine...\n",
            "Driving the car...\n"
          ]
        }
      ]
    },
    {
      "cell_type": "code",
      "execution_count": null,
      "metadata": {
        "id": "HY1G8ikJAL-3"
      },
      "outputs": [],
      "source": [
        "# Inheritance : super().__init__()\n",
        "\n",
        "class Animal: # Parent class\n",
        "  def __init__(self,species,legs):\n",
        "    self.species = species\n",
        "    self.legs = legs\n",
        "\n",
        "  def walk(self):\n",
        "    print('Animal will walk on four legs')\n",
        "\n",
        "  def sleep(self):\n",
        "    print('Animal will sleep eyes closed')\n",
        "\n",
        "  def display_species(self):\n",
        "    print(f'The species is {self.species}')\n",
        "\n",
        "\n",
        "class Dog(Animal): # Dog : Child Class : Animal : parent Class\n",
        "  def __init__(self,breed,species,legs): # it's the best practice to include all variables of parent class\n",
        "    self.breed = breed #  Specfic to Dog Class : Child Class\n",
        "    self.species = species # Specfic to Animal Class : Parent Class\n",
        "    self.legs = legs # Specfic to Animal Class : Parent Class\n",
        "\n",
        "  def eat(self):\n",
        "    print('Dogs are omnivorous')\n",
        "\n",
        "\n",
        "class Human(Animal):# Human : Child Class : Animal : Parent Class\n",
        "  def __init__(self,race,species,legs):\n",
        "    self.race = race # Specific to Human class : Child Class\n",
        "    self.species = species # Specfic to Animal Class : Parent Class\n",
        "    self.legs = legs # Specfic to Animal Class : Parent Class\n",
        "\n",
        "  def eat(self):\n",
        "    print('Humans are omnivorous')\n",
        "\n",
        "\n",
        "\n"
      ]
    },
    {
      "cell_type": "code",
      "execution_count": null,
      "metadata": {
        "id": "y_LWeez1ho4o"
      },
      "outputs": [],
      "source": [
        "beagle = Dog(breed = 'beagle',species = 'dogo' , legs = 4)# beagle : object"
      ]
    },
    {
      "cell_type": "code",
      "execution_count": null,
      "metadata": {
        "colab": {
          "base_uri": "https://localhost:8080/"
        },
        "id": "pdPEordQho1w",
        "outputId": "3e788bcd-a143-4b8d-b393-1f835d10bb66"
      },
      "outputs": [
        {
          "name": "stdout",
          "output_type": "stream",
          "text": [
            "Dogs are omnivorous\n"
          ]
        }
      ],
      "source": [
        "beagle.eat()"
      ]
    },
    {
      "cell_type": "code",
      "execution_count": null,
      "metadata": {
        "colab": {
          "base_uri": "https://localhost:8080/"
        },
        "id": "LIXQn9DghoyX",
        "outputId": "ceca0eeb-6800-486f-f46e-3633bf86b553"
      },
      "outputs": [
        {
          "name": "stdout",
          "output_type": "stream",
          "text": [
            "Animal will sleep eyes closed\n"
          ]
        }
      ],
      "source": [
        "beagle.sleep() # error or Animal will sleep eyes closed # Inheritance"
      ]
    },
    {
      "cell_type": "code",
      "execution_count": null,
      "metadata": {
        "id": "PZ10U90Kh-RH"
      },
      "outputs": [],
      "source": [
        "# Inheritance : Child Class will be able to use methods present in Parent class"
      ]
    },
    {
      "cell_type": "code",
      "execution_count": null,
      "metadata": {
        "colab": {
          "base_uri": "https://localhost:8080/"
        },
        "id": "jEgaUYhziT6q",
        "outputId": "f95196fa-b2ee-4cdc-d7cd-5c72be4e51f5"
      },
      "outputs": [
        {
          "name": "stdout",
          "output_type": "stream",
          "text": [
            "The species is dogo\n"
          ]
        }
      ],
      "source": [
        "beagle.display_species()"
      ]
    },
    {
      "cell_type": "code",
      "execution_count": null,
      "metadata": {
        "id": "cSIrd2-riT3y"
      },
      "outputs": [],
      "source": [
        "class Animal: # Parent class\n",
        "  def __init__(self,species,legs):\n",
        "    self.species = species\n",
        "    self.legs = legs\n",
        "\n",
        "  def walk(self):\n",
        "    print('Animal will walk on four legs')\n",
        "\n",
        "  def sleep(self):\n",
        "    print('Animal will sleep eyes closed')\n",
        "\n",
        "  def display_species(self):\n",
        "    print(f'The species is {self.species}')\n",
        "\n",
        "\n",
        "class Dog(Animal): # Dog : Child Class : Animal : parent Class # super().__init__()\n",
        "  def __init__(self,breed,species,legs): # it's the best practice to include all variables of parent class\n",
        "    self.breed = breed #  Specfic to Dog Class : Child Class\n",
        "    # self.species = species # Specfic to Animal Class : Parent Class\n",
        "    # self.legs = legs # Specfic to Animal Class : Parent Class\n",
        "    super().__init__(species,legs) # Shortcut : which defines access parent init for the self argument\n",
        "\n",
        "  def eat(self):\n",
        "    print('Dogs are omnivorous')\n",
        "\n",
        "\n",
        "class Human(Animal):# Human : Child Class : Animal : Parent Class\n",
        "  def __init__(self,race,species,legs):\n",
        "    self.race = race # Specific to Human class : Child Class\n",
        "    # self.species = species # Specfic to Animal Class : Parent Class\n",
        "    # self.legs = legs # Specfic to Animal Class : Parent Class\n",
        "    super().__init__(species,legs) # parent init for the self argument\n",
        "\n",
        "  def eat(self):\n",
        "    print('Humans are omnivorous')"
      ]
    },
    {
      "cell_type": "code",
      "execution_count": null,
      "metadata": {
        "id": "BK-a7gWIrRhW"
      },
      "outputs": [],
      "source": [
        "# Inheritance. : Child class can access the methods of parent class\n",
        "# Polymorphism : Child class can have method with same name as of parent class with different functionality."
      ]
    },
    {
      "cell_type": "code",
      "execution_count": null,
      "metadata": {
        "id": "R8ebOXnGshVf"
      },
      "outputs": [],
      "source": [
        "# parent class method :\n",
        "# Create object using parent class\n",
        "\n",
        "a1 = Animal(species = 'xyz', legs = 4) # Created the object using parent class\n"
      ]
    },
    {
      "cell_type": "code",
      "execution_count": null,
      "metadata": {
        "colab": {
          "base_uri": "https://localhost:8080/"
        },
        "id": "BTkFWMWIshS5",
        "outputId": "6f3f0087-1125-4d51-e345-0f2b30823c1b"
      },
      "outputs": [
        {
          "name": "stdout",
          "output_type": "stream",
          "text": [
            "Animal will walk on four legs\n"
          ]
        }
      ],
      "source": [
        "a1.walk() #"
      ]
    },
    {
      "cell_type": "code",
      "execution_count": null,
      "metadata": {
        "id": "kquqwK7pshNa"
      },
      "outputs": [],
      "source": [
        "# from pandas import read_csv"
      ]
    },
    {
      "cell_type": "code",
      "execution_count": null,
      "metadata": {
        "id": "lERJDFLGrRev"
      },
      "outputs": [],
      "source": [
        "# Game Industry : Company create game\n",
        "from abc import ABC, abstractmethod # abc is a library which can be used to create abstract method\n",
        "\n",
        "class game(ABC): # Abstract class\n",
        "\n",
        "  @abstractmethod\n",
        "  def welcome_message(self): # This method is  mandatory\n",
        "    pass\n",
        "\n",
        "  @abstractmethod\n",
        "  def show_result(self): # This method is  mandatory\n",
        "    pass\n",
        "\n",
        "  @abstractmethod\n",
        "  def winning_points(self): # This method is  mandatory\n",
        "    pass\n",
        "\n",
        "\n",
        "  def exit(self): # This method is not mandatory\n",
        "    pass"
      ]
    },
    {
      "cell_type": "code",
      "execution_count": null,
      "metadata": {
        "id": "gdNL5B5Btote"
      },
      "outputs": [],
      "source": [
        "class RockPaperScissor(game): #\n",
        "  def __init__(self,a,b):\n",
        "    self.a = a\n",
        "    self.b = b\n",
        "\n",
        "  def final_result(self):\n",
        "    print('the winner')\n",
        "\n",
        "  def welcome_message(self):\n",
        "    print('Welcome to this game')\n",
        "\n",
        "  def show_result(self):\n",
        "    print('You have won')\n",
        "\n",
        "  def winning_points(self):\n",
        "    print('Points aquired : 123')\n",
        "\n"
      ]
    },
    {
      "cell_type": "code",
      "execution_count": null,
      "metadata": {
        "id": "6x5d_vjVtoq3"
      },
      "outputs": [],
      "source": [
        "g1 = RockPaperScissor(a = 1, b = 2)"
      ]
    },
    {
      "cell_type": "code",
      "execution_count": null,
      "metadata": {
        "id": "j6Ltm1TxwuNd"
      },
      "outputs": [],
      "source": [
        "# Abstraction : helps you to define the rule to create the blueprint or class"
      ]
    },
    {
      "cell_type": "code",
      "execution_count": null,
      "metadata": {
        "id": "2vj-hxuWALzr"
      },
      "outputs": [],
      "source": [
        "# Abstraction : Rule to create the blueprint\n",
        "\n",
        "from abc import ABC,abstractmethod # Importing a library # Standard line\n",
        "\n",
        "class Animal(ABC): # Abstract class\n",
        "\n",
        "    @abstractmethod\n",
        "    def make_sound(self):\n",
        "        pass\n",
        "\n",
        "    @abstractmethod\n",
        "    def eat(self):\n",
        "        pass\n",
        "\n",
        "    @abstractmethod\n",
        "    def walk(self):\n",
        "      pass\n",
        "\n"
      ]
    },
    {
      "cell_type": "code",
      "execution_count": null,
      "metadata": {
        "id": "pGmoh49MbnjT"
      },
      "outputs": [],
      "source": [
        "class Dog(Animal):\n",
        "  def make_sound(self):\n",
        "    pass\n",
        "  def sleep(self):\n",
        "    pass\n",
        "  def eat(self):\n",
        "    pass\n"
      ]
    },
    {
      "cell_type": "code",
      "execution_count": null,
      "metadata": {
        "colab": {
          "base_uri": "https://localhost:8080/",
          "height": 141
        },
        "id": "AvBF2teXbv6q",
        "outputId": "3d730168-ace1-4d3c-ad15-7c1bd6db225b"
      },
      "outputs": [
        {
          "ename": "TypeError",
          "evalue": "Can't instantiate abstract class Dog with abstract method walk",
          "output_type": "error",
          "traceback": [
            "\u001b[0;31m---------------------------------------------------------------------------\u001b[0m",
            "\u001b[0;31mTypeError\u001b[0m                                 Traceback (most recent call last)",
            "\u001b[0;32m<ipython-input-104-752f4e283df2>\u001b[0m in \u001b[0;36m<cell line: 1>\u001b[0;34m()\u001b[0m\n\u001b[0;32m----> 1\u001b[0;31m \u001b[0md1\u001b[0m \u001b[0;34m=\u001b[0m \u001b[0mDog\u001b[0m\u001b[0;34m(\u001b[0m\u001b[0;34m)\u001b[0m\u001b[0;34m\u001b[0m\u001b[0;34m\u001b[0m\u001b[0m\n\u001b[0m",
            "\u001b[0;31mTypeError\u001b[0m: Can't instantiate abstract class Dog with abstract method walk"
          ]
        }
      ],
      "source": [
        "d1 = Dog()"
      ]
    },
    {
      "cell_type": "markdown",
      "metadata": {
        "id": "r0ra5EyBt4fu"
      },
      "source": [
        "# ABSTRACTION\n",
        "\n",
        " *  Abstraction : Standardisation of creating class.\n",
        " * Abstraction is useful to standardise the code.\n",
        " * Data abstraction is a core concept in object-oriented programming that refers to the practice of representing complex real-world objects using simpler, more abstract models. Abstraction allows us to focus on the essential features of an object while hiding the irrelevant or complex details."
      ]
    },
    {
      "cell_type": "markdown",
      "source": [
        "#### **Abstraction Method:**\n",
        "\n",
        "Abstraction can be achieved in two ways:\n",
        "\n",
        "1. **Abstract Classes:** An abstract class is a class that\n",
        "* cannot be instantiated and is often\n",
        "* used to define a blueprint for other classes.\n",
        "* It can contain abstract methods as well as\n",
        "* concrete methods.\n",
        "* An abstract method is declared but not implemented; the\n",
        "* derived classes are responsible for providing a specific implementation of these methods.\n",
        "\n",
        "2. **Interfaces:** An interface is\n",
        "* similar to an abstract class and is\n",
        "* used to specify a set of methods that the\n",
        "* implementing class must implement. However,\n",
        "* unlike abstract classes,\n",
        "* interfaces cannot contain concrete methods (methods with an implementation).\n",
        "\n",
        "### **Demonstration:**\n",
        "\n",
        "To demonstrate abstraction in Python (which doesn't have interfaces in the same way as languages like Java or C#), let’s use an abstract class:\n",
        "\n",
        "Suppose we have a scenario of different types of vehicles where each vehicle has a different way of starting:"
      ],
      "metadata": {
        "id": "Wem4VEo649gU"
      }
    },
    {
      "cell_type": "code",
      "source": [
        "from abc import ABC, abstractmethod\n",
        "\n",
        "class Vehicle(ABC):\n",
        "    @abstractmethod\n",
        "    def start(self):\n",
        "        pass\n",
        "\n",
        "class Car(Vehicle):\n",
        "    def start(self):\n",
        "        print(\"Starting car with key\")\n",
        "\n",
        "class Motorcycle(Vehicle):\n",
        "    def start(self):\n",
        "        print(\"Starting motorcycle with button\")\n",
        "\n",
        "# Instantiate the objects\n",
        "car = Car()\n",
        "motorcycle = Motorcycle()\n",
        "\n",
        "# Use the objects\n",
        "car.start()  # Outputs: Starting car with key\n",
        "motorcycle.start()  # Outputs: Starting motorcycle with button"
      ],
      "metadata": {
        "colab": {
          "base_uri": "https://localhost:8080/"
        },
        "id": "lNnCd6q2Bb7F",
        "outputId": "483027e0-a4b8-436b-d287-cd467326c43a"
      },
      "execution_count": 71,
      "outputs": [
        {
          "output_type": "stream",
          "name": "stdout",
          "text": [
            "Starting car with key\n",
            "Starting motorcycle with button\n"
          ]
        }
      ]
    },
    {
      "cell_type": "markdown",
      "source": [
        "In this example:\n",
        "\n",
        "- **`Vehicle`** is an abstract class that defines an abstract method **`start()`**. This method acts as a template for the **`start`** method that must be implemented in any subclass of **`Vehicle`**.\n",
        "- **`Car`** and **`Motorcycle`** are concrete classes that inherit from **`Vehicle`** and provide specific implementations of the **`start`** method.\n",
        "- The actual implementation details of starting the vehicle are abstracted away. When you call **`start()`** on a **`Car`** or **`Motorcycle`** object, you don’t need to know the internal details of how each vehicle starts. You only need to know that they can start, which is the essence of abstraction.\n",
        "\n",
        " **Key Points:**\n",
        "\n",
        "- Abstraction helps in reducing programming complexity and effort by hiding the unnecessary details from the user.\n",
        "- It allows the programmer to focus on interactions at a higher level.\n",
        "- It is achieved through abstract classes and interfaces in many OOP languages.\n",
        "- Abstract methods define a common interface for different implementations in the derived classes."
      ],
      "metadata": {
        "id": "8rtLrBmdmpsP"
      }
    },
    {
      "cell_type": "markdown",
      "source": [
        " Here's what happens when abstract methods are not defined while creating a child class:"
      ],
      "metadata": {
        "id": "jSMBBHGwnXu9"
      }
    },
    {
      "cell_type": "code",
      "source": [
        "#from abc import ABC, abstractmethod\n",
        "\n",
        "class Vehicle(ABC):\n",
        "    @abstractmethod\n",
        "    def start(self):\n",
        "        pass\n",
        "\n"
      ],
      "metadata": {
        "id": "OgIeCsdync9b"
      },
      "execution_count": null,
      "outputs": []
    },
    {
      "cell_type": "markdown",
      "source": [
        "Creating a Child Class Without Implementing the Abstract Method:"
      ],
      "metadata": {
        "id": "88jaPhagniqa"
      }
    },
    {
      "cell_type": "code",
      "source": [
        "class Car(Vehicle):\n",
        "    pass\n"
      ],
      "metadata": {
        "id": "k-0ghV0Vnlgd"
      },
      "execution_count": null,
      "outputs": []
    },
    {
      "cell_type": "markdown",
      "source": [
        "Here, Car is a child class of Vehicle, but it doesn't implement the start() method.\n",
        "\n",
        "Instantiating the Child Class:"
      ],
      "metadata": {
        "id": "JbN39zNdno8q"
      }
    },
    {
      "cell_type": "code",
      "source": [
        "my_car = Car()"
      ],
      "metadata": {
        "colab": {
          "base_uri": "https://localhost:8080/",
          "height": 177
        },
        "id": "04IAwadrnp3q",
        "outputId": "a1b7cd2d-519b-4fa9-abd8-1ed635ad3b58"
      },
      "execution_count": null,
      "outputs": [
        {
          "output_type": "error",
          "ename": "TypeError",
          "evalue": "ignored",
          "traceback": [
            "\u001b[0;31m---------------------------------------------------------------------------\u001b[0m",
            "\u001b[0;31mTypeError\u001b[0m                                 Traceback (most recent call last)",
            "\u001b[0;32m<ipython-input-5-4c0460ae178d>\u001b[0m in \u001b[0;36m<cell line: 1>\u001b[0;34m()\u001b[0m\n\u001b[0;32m----> 1\u001b[0;31m \u001b[0mmy_car\u001b[0m \u001b[0;34m=\u001b[0m \u001b[0mCar\u001b[0m\u001b[0;34m(\u001b[0m\u001b[0;34m)\u001b[0m\u001b[0;34m\u001b[0m\u001b[0;34m\u001b[0m\u001b[0m\n\u001b[0m",
            "\u001b[0;31mTypeError\u001b[0m: Can't instantiate abstract class Car with abstract method start"
          ]
        }
      ]
    },
    {
      "cell_type": "markdown",
      "source": [
        "1. **Result:**\n",
        "    - When you try to instantiate **`Car`**, Python will raise a **`TypeError`** because **`Car`** has not implemented the abstract method **`start()`** defined in its parent class **`Vehicle`**.\n",
        "    - The error message will typically say something like: \"**`Can't instantiate abstract class Car with abstract methods start`**\".\n",
        "2. **Key Points:**\n",
        "    - An abstract class is more like a template for its subclasses. It ensures that certain methods are implemented in child classes.\n",
        "    - If a child class of an abstract class does not implement all the abstract methods, it cannot be instantiated. This enforces a contract that the child classes must follow.\n",
        "    - This behavior is crucial for maintaining a consistent interface and ensuring that certain functionalities are provided by all subclasses."
      ],
      "metadata": {
        "id": "isVPHVbnn4yV"
      }
    },
    {
      "cell_type": "markdown",
      "source": [
        "# Encapsulation\n",
        "\n",
        "* refers to the bundling of data (attributes) and methods (functions) that operate on the data into a single unit or class.\n",
        "* Encapsulation also restricts direct access to some of an object's components, which is a means of preventing accidental interference and misuse of the methods and data.\n",
        "* Encapsulation in Python promotes a modular approach to development, enhances code security, and prevents data corruption by restricting direct access to an object's internal state. It's a key aspect of writing maintainable, structured, and robust code in object-oriented programming.\n",
        "\n",
        "Here's a detailed look at encapsulation in Python:\n",
        "\n",
        "1. **Bundling Data and Methods**: In encapsulation, data and the methods that manipulate that data are kept together in a single entity, typically a class. This makes the code more organized and modular. Each object created from the class can have its own attributes and methods, providing a clear structure for organizing functionality.\n",
        "\n",
        "2. **Access Control**: Encapsulation also involves controlling access to the internal state of the object. This is usually achieved through\n",
        "* access modifiers, which determine\n",
        "* how and\n",
        "* from where the\n",
        "* class's attributes and methods can be accessed.\n",
        "  \n",
        "  *  - **Public Access**: Members (methods or attributes) of a class that are available from outside the class. In Python, all members are public by default.\n",
        "  *  - **Private Access** = DOUBLE UNDERSCORE BEFORE NAME: Members that are only available within the class itself. You can make a member private in Python by prefixing its name with double underscores (**`__`**). Private members cannot be accessed directly from outside the class but can be accessed within the class.\n",
        "  *  - **Protected Access** = SINGLE UNDERSCORE BEFORE NAME: Members that are accessible within the class and its subclasses. Python uses a single underscore (**`_`**) prefix to denote protected members. However, this is more of a convention, and Python does not enforce strict access control."
      ],
      "metadata": {
        "id": "PdwgfONBzuQr"
      }
    },
    {
      "cell_type": "code",
      "execution_count": null,
      "metadata": {
        "id": "5D9Wvfpyts2y",
        "colab": {
          "base_uri": "https://localhost:8080/"
        },
        "outputId": "593079f4-b940-467e-fc03-07c5b8b0bbe1"
      },
      "outputs": [
        {
          "output_type": "stream",
          "name": "stdout",
          "text": [
            "Toyota\n",
            "2021\n",
            "2021\n"
          ]
        }
      ],
      "source": [
        "class Car:\n",
        "    def __init__(self, model, year):\n",
        "        self.model = model          # Public Attribute\n",
        "        self.__year = year          # PRIVATE Attribute (with double underscores) # SETTER\n",
        "\n",
        "    def get_car_year(self):         # Public Method # GETTER\n",
        "        return self.__year\n",
        "\n",
        "my_car = Car(\"Toyota\", 2021)\n",
        "print(my_car.model)                # Accessible\n",
        "print(my_car.get_car_year())       # Accessible\n",
        "\n",
        "# Attempting to directly access or modify the private attribute:\n",
        "# print(my_car.__year)            # Not accessible, will raise an AttributeError\n",
        "\n",
        "# Attempting to modify the private attribute:\n",
        "my_car.__year = 2023               # This doesn't actually change the private attribute\n",
        "print(my_car.get_car_year())       # The original private attribute value is retained\n",
        "\n",
        "# model is a public attribute, while __year is private.\n",
        "# The method get_car_year is public and can be used to access the private attribute."
      ]
    },
    {
      "cell_type": "markdown",
      "metadata": {
        "id": "un5kRvFStvC6"
      },
      "source": [
        "# UNDERSTAND CONCEPT WITH HELP COMMAND"
      ]
    },
    {
      "cell_type": "code",
      "execution_count": null,
      "metadata": {
        "colab": {
          "base_uri": "https://localhost:8080/"
        },
        "id": "tiYAA79biT06",
        "outputId": "12cdf441-4705-4a27-b1bf-3517ccbc22e4"
      },
      "outputs": [
        {
          "name": "stdout",
          "output_type": "stream",
          "text": [
            "Help on class object in module builtins:\n",
            "\n",
            "class object\n",
            " |  The base class of the class hierarchy.\n",
            " |  \n",
            " |  When called, it accepts no arguments and returns a new featureless\n",
            " |  instance that has no instance attributes and cannot be given any.\n",
            " |  \n",
            " |  Built-in subclasses:\n",
            " |      anext_awaitable\n",
            " |      async_generator\n",
            " |      async_generator\n",
            " |      async_generator_asend\n",
            " |      ... and 104 other subclasses\n",
            " |  \n",
            " |  Methods defined here:\n",
            " |  \n",
            " |  __delattr__(self, name, /)\n",
            " |      Implement delattr(self, name).\n",
            " |  \n",
            " |  __dir__(self, /)\n",
            " |      Default dir() implementation.\n",
            " |  \n",
            " |  __eq__(self, value, /)\n",
            " |      Return self==value.\n",
            " |  \n",
            " |  __format__(self, format_spec, /)\n",
            " |      Default object formatter.\n",
            " |  \n",
            " |  __ge__(self, value, /)\n",
            " |      Return self>=value.\n",
            " |  \n",
            " |  __getattribute__(self, name, /)\n",
            " |      Return getattr(self, name).\n",
            " |  \n",
            " |  __gt__(self, value, /)\n",
            " |      Return self>value.\n",
            " |  \n",
            " |  __hash__(self, /)\n",
            " |      Return hash(self).\n",
            " |  \n",
            " |  __init__(self, /, *args, **kwargs)\n",
            " |      Initialize self.  See help(type(self)) for accurate signature.\n",
            " |  \n",
            " |  __le__(self, value, /)\n",
            " |      Return self<=value.\n",
            " |  \n",
            " |  __lt__(self, value, /)\n",
            " |      Return self<value.\n",
            " |  \n",
            " |  __ne__(self, value, /)\n",
            " |      Return self!=value.\n",
            " |  \n",
            " |  __reduce__(self, /)\n",
            " |      Helper for pickle.\n",
            " |  \n",
            " |  __reduce_ex__(self, protocol, /)\n",
            " |      Helper for pickle.\n",
            " |  \n",
            " |  __repr__(self, /)\n",
            " |      Return repr(self).\n",
            " |  \n",
            " |  __setattr__(self, name, value, /)\n",
            " |      Implement setattr(self, name, value).\n",
            " |  \n",
            " |  __sizeof__(self, /)\n",
            " |      Size of object in memory, in bytes.\n",
            " |  \n",
            " |  __str__(self, /)\n",
            " |      Return str(self).\n",
            " |  \n",
            " |  ----------------------------------------------------------------------\n",
            " |  Class methods defined here:\n",
            " |  \n",
            " |  __init_subclass__(...) from builtins.type\n",
            " |      This method is called when a class is subclassed.\n",
            " |      \n",
            " |      The default implementation does nothing. It may be\n",
            " |      overridden to extend subclasses.\n",
            " |  \n",
            " |  __subclasshook__(...) from builtins.type\n",
            " |      Abstract classes can override this to customize issubclass().\n",
            " |      \n",
            " |      This is invoked early on by abc.ABCMeta.__subclasscheck__().\n",
            " |      It should return True, False or NotImplemented.  If it returns\n",
            " |      NotImplemented, the normal algorithm is used.  Otherwise, it\n",
            " |      overrides the normal algorithm (and the outcome is cached).\n",
            " |  \n",
            " |  ----------------------------------------------------------------------\n",
            " |  Static methods defined here:\n",
            " |  \n",
            " |  __new__(*args, **kwargs) from builtins.type\n",
            " |      Create and return a new object.  See help(type) for accurate signature.\n",
            " |  \n",
            " |  ----------------------------------------------------------------------\n",
            " |  Data and other attributes defined here:\n",
            " |  \n",
            " |  __class__ = <class 'type'>\n",
            " |      type(object) -> the object's type\n",
            " |      type(name, bases, dict, **kwds) -> a new type\n",
            "\n"
          ]
        }
      ],
      "source": [
        "help(object)"
      ]
    },
    {
      "cell_type": "code",
      "execution_count": null,
      "metadata": {
        "colab": {
          "base_uri": "https://localhost:8080/"
        },
        "id": "qk06VeNvh-Ov",
        "outputId": "fa3348bd-a0fa-4c0b-c3bf-932b15c921bd"
      },
      "outputs": [
        {
          "name": "stdout",
          "output_type": "stream",
          "text": [
            "Help on class list in module builtins:\n",
            "\n",
            "class list(object)\n",
            " |  list(iterable=(), /)\n",
            " |  \n",
            " |  Built-in mutable sequence.\n",
            " |  \n",
            " |  If no argument is given, the constructor creates a new empty list.\n",
            " |  The argument must be an iterable if specified.\n",
            " |  \n",
            " |  Methods defined here:\n",
            " |  \n",
            " |  __add__(self, value, /)\n",
            " |      Return self+value.\n",
            " |  \n",
            " |  __contains__(self, key, /)\n",
            " |      Return key in self.\n",
            " |  \n",
            " |  __delitem__(self, key, /)\n",
            " |      Delete self[key].\n",
            " |  \n",
            " |  __eq__(self, value, /)\n",
            " |      Return self==value.\n",
            " |  \n",
            " |  __ge__(self, value, /)\n",
            " |      Return self>=value.\n",
            " |  \n",
            " |  __getattribute__(self, name, /)\n",
            " |      Return getattr(self, name).\n",
            " |  \n",
            " |  __getitem__(...)\n",
            " |      x.__getitem__(y) <==> x[y]\n",
            " |  \n",
            " |  __gt__(self, value, /)\n",
            " |      Return self>value.\n",
            " |  \n",
            " |  __iadd__(self, value, /)\n",
            " |      Implement self+=value.\n",
            " |  \n",
            " |  __imul__(self, value, /)\n",
            " |      Implement self*=value.\n",
            " |  \n",
            " |  __init__(self, /, *args, **kwargs)\n",
            " |      Initialize self.  See help(type(self)) for accurate signature.\n",
            " |  \n",
            " |  __iter__(self, /)\n",
            " |      Implement iter(self).\n",
            " |  \n",
            " |  __le__(self, value, /)\n",
            " |      Return self<=value.\n",
            " |  \n",
            " |  __len__(self, /)\n",
            " |      Return len(self).\n",
            " |  \n",
            " |  __lt__(self, value, /)\n",
            " |      Return self<value.\n",
            " |  \n",
            " |  __mul__(self, value, /)\n",
            " |      Return self*value.\n",
            " |  \n",
            " |  __ne__(self, value, /)\n",
            " |      Return self!=value.\n",
            " |  \n",
            " |  __repr__(self, /)\n",
            " |      Return repr(self).\n",
            " |  \n",
            " |  __reversed__(self, /)\n",
            " |      Return a reverse iterator over the list.\n",
            " |  \n",
            " |  __rmul__(self, value, /)\n",
            " |      Return value*self.\n",
            " |  \n",
            " |  __setitem__(self, key, value, /)\n",
            " |      Set self[key] to value.\n",
            " |  \n",
            " |  __sizeof__(self, /)\n",
            " |      Return the size of the list in memory, in bytes.\n",
            " |  \n",
            " |  append(self, object, /)\n",
            " |      Append object to the end of the list.\n",
            " |  \n",
            " |  clear(self, /)\n",
            " |      Remove all items from list.\n",
            " |  \n",
            " |  copy(self, /)\n",
            " |      Return a shallow copy of the list.\n",
            " |  \n",
            " |  count(self, value, /)\n",
            " |      Return number of occurrences of value.\n",
            " |  \n",
            " |  extend(self, iterable, /)\n",
            " |      Extend list by appending elements from the iterable.\n",
            " |  \n",
            " |  index(self, value, start=0, stop=9223372036854775807, /)\n",
            " |      Return first index of value.\n",
            " |      \n",
            " |      Raises ValueError if the value is not present.\n",
            " |  \n",
            " |  insert(self, index, object, /)\n",
            " |      Insert object before index.\n",
            " |  \n",
            " |  pop(self, index=-1, /)\n",
            " |      Remove and return item at index (default last).\n",
            " |      \n",
            " |      Raises IndexError if list is empty or index is out of range.\n",
            " |  \n",
            " |  remove(self, value, /)\n",
            " |      Remove first occurrence of value.\n",
            " |      \n",
            " |      Raises ValueError if the value is not present.\n",
            " |  \n",
            " |  reverse(self, /)\n",
            " |      Reverse *IN PLACE*.\n",
            " |  \n",
            " |  sort(self, /, *, key=None, reverse=False)\n",
            " |      Sort the list in ascending order and return None.\n",
            " |      \n",
            " |      The sort is in-place (i.e. the list itself is modified) and stable (i.e. the\n",
            " |      order of two equal elements is maintained).\n",
            " |      \n",
            " |      If a key function is given, apply it once to each list item and sort them,\n",
            " |      ascending or descending, according to their function values.\n",
            " |      \n",
            " |      The reverse flag can be set to sort in descending order.\n",
            " |  \n",
            " |  ----------------------------------------------------------------------\n",
            " |  Class methods defined here:\n",
            " |  \n",
            " |  __class_getitem__(...) from builtins.type\n",
            " |      See PEP 585\n",
            " |  \n",
            " |  ----------------------------------------------------------------------\n",
            " |  Static methods defined here:\n",
            " |  \n",
            " |  __new__(*args, **kwargs) from builtins.type\n",
            " |      Create and return a new object.  See help(type) for accurate signature.\n",
            " |  \n",
            " |  ----------------------------------------------------------------------\n",
            " |  Data and other attributes defined here:\n",
            " |  \n",
            " |  __hash__ = None\n",
            "\n"
          ]
        }
      ],
      "source": [
        "help(list)"
      ]
    },
    {
      "cell_type": "code",
      "execution_count": null,
      "metadata": {
        "colab": {
          "base_uri": "https://localhost:8080/"
        },
        "id": "TcJxkFn8h-Ma",
        "outputId": "7058d829-e220-4e27-e2a0-019ae57a4ea7"
      },
      "outputs": [
        {
          "name": "stdout",
          "output_type": "stream",
          "text": [
            "Help on class dict in module builtins:\n",
            "\n",
            "class dict(object)\n",
            " |  dict() -> new empty dictionary\n",
            " |  dict(mapping) -> new dictionary initialized from a mapping object's\n",
            " |      (key, value) pairs\n",
            " |  dict(iterable) -> new dictionary initialized as if via:\n",
            " |      d = {}\n",
            " |      for k, v in iterable:\n",
            " |          d[k] = v\n",
            " |  dict(**kwargs) -> new dictionary initialized with the name=value pairs\n",
            " |      in the keyword argument list.  For example:  dict(one=1, two=2)\n",
            " |  \n",
            " |  Built-in subclasses:\n",
            " |      StgDict\n",
            " |  \n",
            " |  Methods defined here:\n",
            " |  \n",
            " |  __contains__(self, key, /)\n",
            " |      True if the dictionary has the specified key, else False.\n",
            " |  \n",
            " |  __delitem__(self, key, /)\n",
            " |      Delete self[key].\n",
            " |  \n",
            " |  __eq__(self, value, /)\n",
            " |      Return self==value.\n",
            " |  \n",
            " |  __ge__(self, value, /)\n",
            " |      Return self>=value.\n",
            " |  \n",
            " |  __getattribute__(self, name, /)\n",
            " |      Return getattr(self, name).\n",
            " |  \n",
            " |  __getitem__(...)\n",
            " |      x.__getitem__(y) <==> x[y]\n",
            " |  \n",
            " |  __gt__(self, value, /)\n",
            " |      Return self>value.\n",
            " |  \n",
            " |  __init__(self, /, *args, **kwargs)\n",
            " |      Initialize self.  See help(type(self)) for accurate signature.\n",
            " |  \n",
            " |  __ior__(self, value, /)\n",
            " |      Return self|=value.\n",
            " |  \n",
            " |  __iter__(self, /)\n",
            " |      Implement iter(self).\n",
            " |  \n",
            " |  __le__(self, value, /)\n",
            " |      Return self<=value.\n",
            " |  \n",
            " |  __len__(self, /)\n",
            " |      Return len(self).\n",
            " |  \n",
            " |  __lt__(self, value, /)\n",
            " |      Return self<value.\n",
            " |  \n",
            " |  __ne__(self, value, /)\n",
            " |      Return self!=value.\n",
            " |  \n",
            " |  __or__(self, value, /)\n",
            " |      Return self|value.\n",
            " |  \n",
            " |  __repr__(self, /)\n",
            " |      Return repr(self).\n",
            " |  \n",
            " |  __reversed__(self, /)\n",
            " |      Return a reverse iterator over the dict keys.\n",
            " |  \n",
            " |  __ror__(self, value, /)\n",
            " |      Return value|self.\n",
            " |  \n",
            " |  __setitem__(self, key, value, /)\n",
            " |      Set self[key] to value.\n",
            " |  \n",
            " |  __sizeof__(...)\n",
            " |      D.__sizeof__() -> size of D in memory, in bytes\n",
            " |  \n",
            " |  clear(...)\n",
            " |      D.clear() -> None.  Remove all items from D.\n",
            " |  \n",
            " |  copy(...)\n",
            " |      D.copy() -> a shallow copy of D\n",
            " |  \n",
            " |  get(self, key, default=None, /)\n",
            " |      Return the value for key if key is in the dictionary, else default.\n",
            " |  \n",
            " |  items(...)\n",
            " |      D.items() -> a set-like object providing a view on D's items\n",
            " |  \n",
            " |  keys(...)\n",
            " |      D.keys() -> a set-like object providing a view on D's keys\n",
            " |  \n",
            " |  pop(...)\n",
            " |      D.pop(k[,d]) -> v, remove specified key and return the corresponding value.\n",
            " |      \n",
            " |      If the key is not found, return the default if given; otherwise,\n",
            " |      raise a KeyError.\n",
            " |  \n",
            " |  popitem(self, /)\n",
            " |      Remove and return a (key, value) pair as a 2-tuple.\n",
            " |      \n",
            " |      Pairs are returned in LIFO (last-in, first-out) order.\n",
            " |      Raises KeyError if the dict is empty.\n",
            " |  \n",
            " |  setdefault(self, key, default=None, /)\n",
            " |      Insert key with a value of default if key is not in the dictionary.\n",
            " |      \n",
            " |      Return the value for key if key is in the dictionary, else default.\n",
            " |  \n",
            " |  update(...)\n",
            " |      D.update([E, ]**F) -> None.  Update D from dict/iterable E and F.\n",
            " |      If E is present and has a .keys() method, then does:  for k in E: D[k] = E[k]\n",
            " |      If E is present and lacks a .keys() method, then does:  for k, v in E: D[k] = v\n",
            " |      In either case, this is followed by: for k in F:  D[k] = F[k]\n",
            " |  \n",
            " |  values(...)\n",
            " |      D.values() -> an object providing a view on D's values\n",
            " |  \n",
            " |  ----------------------------------------------------------------------\n",
            " |  Class methods defined here:\n",
            " |  \n",
            " |  __class_getitem__(...) from builtins.type\n",
            " |      See PEP 585\n",
            " |  \n",
            " |  fromkeys(iterable, value=None, /) from builtins.type\n",
            " |      Create a new dictionary with keys from iterable and values set to value.\n",
            " |  \n",
            " |  ----------------------------------------------------------------------\n",
            " |  Static methods defined here:\n",
            " |  \n",
            " |  __new__(*args, **kwargs) from builtins.type\n",
            " |      Create and return a new object.  See help(type) for accurate signature.\n",
            " |  \n",
            " |  ----------------------------------------------------------------------\n",
            " |  Data and other attributes defined here:\n",
            " |  \n",
            " |  __hash__ = None\n",
            "\n"
          ]
        }
      ],
      "source": [
        "help(dict)"
      ]
    },
    {
      "cell_type": "markdown",
      "metadata": {
        "id": "d1vP5UKluSKc"
      },
      "source": [
        "# PROBLEMS TO SOLVE"
      ]
    },
    {
      "cell_type": "code",
      "execution_count": null,
      "metadata": {
        "id": "2zZVU48c-0z3"
      },
      "outputs": [],
      "source": [
        "# Question:\n",
        "\n",
        "# You are tasked with creating a simple program to manage inventory in a manufacturing plant.\n",
        "# Define a class called Product that represents a product in the inventory.\n",
        "# Each product should have attributes such as name, quantity, and price. # Instance variable\n",
        "\n",
        "# Write methods within the class to:\n",
        "\n",
        "# Method1 : Initialize the product with a name, initial quantity, and price. (Note : price should be encaptulated variable)\n",
        "# Method2 : Add a specified quantity to the product's current quantity.\n",
        "# Method3 : Subtract a specified quantity from the product's current quantity.\n",
        "# Method4 : Calculate the total value of the product (quantity * price).\n",
        "# Method5 : getter method for price\n",
        "# Method6 : Setter method for price\n",
        "# Object: create an instance of the Product class for a product named \"lamp\" with an initial quantity of 100 and a price of $10.\n",
        "\n",
        "# Perform the following operations on the lamp:\n",
        "\n",
        "# Add 50 more lamp to the inventory.\n",
        "# Subtract 30 lamp from the inventory.\n",
        "# Print the total value of the remaining lamp.\n",
        "# Change the price to $12 and again print the total value of the remaining lamp\n",
        "\n"
      ]
    },
    {
      "cell_type": "code",
      "execution_count": null,
      "metadata": {
        "id": "k3Tq2senSNwu"
      },
      "outputs": [],
      "source": [
        "\n",
        "class product:\n",
        "  def __init__(self,name, quantity, price):\n",
        "    self.name = name\n",
        "    self.quantity = quantity\n",
        "    self.__price = price # Encaptulated the price : __ (I restrict the access of this variable)\n",
        "\n",
        "  def add_quantity(self,new_quantity):\n",
        "    self.quantity += new_quantity\n",
        "    return self.quantity\n",
        "\n",
        "  def sub_quantity(self,out_quantity):\n",
        "    if self.quantity >= out_quantity:\n",
        "      self.quantity -= out_quantity # self.quantity = self.quantity  - out_quantity\n",
        "      return self.quantity\n",
        "    else:\n",
        "      print('Insufficient quantity present')\n",
        "\n",
        "  def product_total_value(self):\n",
        "    return self.quantity * self.__price\n",
        "\n",
        "\n",
        "  def display_price(self): # getter method\n",
        "    return self.__price\n",
        "\n",
        "\n",
        "  def update_price(self,new_price): # setter method\n",
        "    self.__price = new_price\n",
        "    return self.__price\n",
        "\n",
        "\n",
        "\n",
        "\n",
        "\n",
        "# Inventory : List the product , add the quantity, sub the quantity\n"
      ]
    },
    {
      "cell_type": "code",
      "execution_count": null,
      "metadata": {
        "id": "RssarN6UYALi"
      },
      "outputs": [],
      "source": [
        "# Object: create an instance of the Product class for a product named \"lamp\" with an initial quantity of 100 and a price of $10.\n",
        "\n",
        "# Perform the following operations on the lamp:\n",
        "\n",
        "# Add 50 more lamp to the inventory.\n",
        "# Subtract 30 lamp from the inventory.\n",
        "# Print the total value of the remaining lamp.\n",
        "# Change the price to $12 and again print the total value of the remaining lamp"
      ]
    },
    {
      "cell_type": "code",
      "execution_count": null,
      "metadata": {
        "id": "CyHJaYpLYILk"
      },
      "outputs": [],
      "source": [
        "p1 = product(name = 'lamp',quantity=100, price = 10) # p1 is the object"
      ]
    },
    {
      "cell_type": "code",
      "execution_count": null,
      "metadata": {
        "colab": {
          "base_uri": "https://localhost:8080/"
        },
        "id": "gkMa-UkxYOm-",
        "outputId": "e99e4006-bf0d-48b9-cb56-bf97e8a5d86b"
      },
      "outputs": [
        {
          "data": {
            "text/plain": [
              "150"
            ]
          },
          "execution_count": 3,
          "metadata": {},
          "output_type": "execute_result"
        }
      ],
      "source": [
        "p1.add_quantity(new_quantity = 50)"
      ]
    },
    {
      "cell_type": "code",
      "execution_count": null,
      "metadata": {
        "colab": {
          "base_uri": "https://localhost:8080/"
        },
        "id": "PtJiF-BiYchA",
        "outputId": "1ea9856a-de30-4221-ea85-ddf7ff7aa773"
      },
      "outputs": [
        {
          "data": {
            "text/plain": [
              "70"
            ]
          },
          "execution_count": 13,
          "metadata": {},
          "output_type": "execute_result"
        }
      ],
      "source": [
        "p1.sub_quantity(out_quantity = 30)"
      ]
    },
    {
      "cell_type": "code",
      "execution_count": null,
      "metadata": {
        "colab": {
          "base_uri": "https://localhost:8080/"
        },
        "id": "Yw1pPIqdYinh",
        "outputId": "91a6ddfd-73a5-442e-d7d9-ae354444c566"
      },
      "outputs": [
        {
          "data": {
            "text/plain": [
              "1200"
            ]
          },
          "execution_count": 5,
          "metadata": {},
          "output_type": "execute_result"
        }
      ],
      "source": [
        "p1.product_total_value() # 120 * 10 = 1200"
      ]
    },
    {
      "cell_type": "code",
      "execution_count": null,
      "metadata": {
        "colab": {
          "base_uri": "https://localhost:8080/"
        },
        "id": "yis62Rd-YrCu",
        "outputId": "5972902a-8601-4b84-972c-87f9ef24da2d"
      },
      "outputs": [
        {
          "data": {
            "text/plain": [
              "10"
            ]
          },
          "execution_count": 6,
          "metadata": {},
          "output_type": "execute_result"
        }
      ],
      "source": [
        "p1.display_price()"
      ]
    },
    {
      "cell_type": "code",
      "execution_count": null,
      "metadata": {
        "colab": {
          "base_uri": "https://localhost:8080/"
        },
        "id": "YnnwAqehY4Rk",
        "outputId": "3c563666-3699-459b-ede0-6a182aa9edc7"
      },
      "outputs": [
        {
          "data": {
            "text/plain": [
              "12"
            ]
          },
          "execution_count": 8,
          "metadata": {},
          "output_type": "execute_result"
        }
      ],
      "source": [
        "p1.update_price(new_price = 12)"
      ]
    },
    {
      "cell_type": "code",
      "execution_count": null,
      "metadata": {
        "colab": {
          "base_uri": "https://localhost:8080/"
        },
        "id": "kdrTUozIY8G1",
        "outputId": "180d9325-952e-4429-a7c7-b907e8a8cc08"
      },
      "outputs": [
        {
          "data": {
            "text/plain": [
              "1440"
            ]
          },
          "execution_count": 9,
          "metadata": {},
          "output_type": "execute_result"
        }
      ],
      "source": [
        "p1.product_total_value() # 120 * 12 = 1440"
      ]
    },
    {
      "cell_type": "code",
      "execution_count": null,
      "metadata": {
        "id": "Qu8E5cetZEKO"
      },
      "outputs": [],
      "source": [
        "# Encryption : Applied on Databases or tables, data sorted\n",
        "\n",
        "# Encaptulation : in a class which is running right now, you won;t be able to access the variable.\n"
      ]
    },
    {
      "cell_type": "code",
      "execution_count": null,
      "metadata": {
        "id": "3MHaOgWfbfiV"
      },
      "outputs": [],
      "source": [
        "# facebook : Data Company : Which feeds on your behaviour\n",
        "# Digital Marketing : Target Audience -> Behaviour or characteristics of users --> Interaction with platform, post, follow, comment, message, recent location :\n",
        "# Revenue model based on the ad --> Pay per click\n",
        "\n",
        "# Malicious files : Image download: meme,  keylogger\n",
        "\n",
        "\n"
      ]
    },
    {
      "cell_type": "code",
      "source": [
        "# PROBLEM OF WRONG PARENT CLASS ASSIGNMENT - The error is coming in super().__init(side,side)\n",
        "\n",
        "class Rectangle:\n",
        "    def __init__(self, width, height):\n",
        "        self.width = width\n",
        "        self.height = height\n",
        "\n",
        "\n",
        "    def area(self):\n",
        "        return self.width * self.height\n",
        "\n",
        "\n",
        "class Square(Rectangle):\n",
        "    def __init__(self, side):\n",
        "        self.side = side\n",
        "        super().__init(side, side)\n",
        "\n",
        "\n",
        "rectangle = Rectangle(5, 3)\n",
        "square = Square(4)\n",
        "print(rectangle.area())\n",
        "print(square.area())"
      ],
      "metadata": {
        "colab": {
          "base_uri": "https://localhost:8080/",
          "height": 346
        },
        "id": "0qGpD6rCxQPP",
        "outputId": "23dafeaa-d913-4af4-9a38-5953c822a82f"
      },
      "execution_count": null,
      "outputs": [
        {
          "output_type": "error",
          "ename": "AttributeError",
          "evalue": "'super' object has no attribute '_Square__init'",
          "traceback": [
            "\u001b[0;31m---------------------------------------------------------------------------\u001b[0m",
            "\u001b[0;31mAttributeError\u001b[0m                            Traceback (most recent call last)",
            "\u001b[0;32m<ipython-input-62-1751b1245eae>\u001b[0m in \u001b[0;36m<cell line: 20>\u001b[0;34m()\u001b[0m\n\u001b[1;32m     18\u001b[0m \u001b[0;34m\u001b[0m\u001b[0m\n\u001b[1;32m     19\u001b[0m \u001b[0mrectangle\u001b[0m \u001b[0;34m=\u001b[0m \u001b[0mRectangle\u001b[0m\u001b[0;34m(\u001b[0m\u001b[0;36m5\u001b[0m\u001b[0;34m,\u001b[0m \u001b[0;36m3\u001b[0m\u001b[0;34m)\u001b[0m\u001b[0;34m\u001b[0m\u001b[0;34m\u001b[0m\u001b[0m\n\u001b[0;32m---> 20\u001b[0;31m \u001b[0msquare\u001b[0m \u001b[0;34m=\u001b[0m \u001b[0mSquare\u001b[0m\u001b[0;34m(\u001b[0m\u001b[0;36m4\u001b[0m\u001b[0;34m)\u001b[0m\u001b[0;34m\u001b[0m\u001b[0;34m\u001b[0m\u001b[0m\n\u001b[0m\u001b[1;32m     21\u001b[0m \u001b[0mprint\u001b[0m\u001b[0;34m(\u001b[0m\u001b[0mrectangle\u001b[0m\u001b[0;34m.\u001b[0m\u001b[0marea\u001b[0m\u001b[0;34m(\u001b[0m\u001b[0;34m)\u001b[0m\u001b[0;34m)\u001b[0m\u001b[0;34m\u001b[0m\u001b[0;34m\u001b[0m\u001b[0m\n\u001b[1;32m     22\u001b[0m \u001b[0mprint\u001b[0m\u001b[0;34m(\u001b[0m\u001b[0msquare\u001b[0m\u001b[0;34m.\u001b[0m\u001b[0marea\u001b[0m\u001b[0;34m(\u001b[0m\u001b[0;34m)\u001b[0m\u001b[0;34m)\u001b[0m\u001b[0;34m\u001b[0m\u001b[0;34m\u001b[0m\u001b[0m\n",
            "\u001b[0;32m<ipython-input-62-1751b1245eae>\u001b[0m in \u001b[0;36m__init__\u001b[0;34m(self, side)\u001b[0m\n\u001b[1;32m     14\u001b[0m     \u001b[0;32mdef\u001b[0m \u001b[0m__init__\u001b[0m\u001b[0;34m(\u001b[0m\u001b[0mself\u001b[0m\u001b[0;34m,\u001b[0m \u001b[0mside\u001b[0m\u001b[0;34m)\u001b[0m\u001b[0;34m:\u001b[0m\u001b[0;34m\u001b[0m\u001b[0;34m\u001b[0m\u001b[0m\n\u001b[1;32m     15\u001b[0m         \u001b[0mself\u001b[0m\u001b[0;34m.\u001b[0m\u001b[0mside\u001b[0m \u001b[0;34m=\u001b[0m \u001b[0mside\u001b[0m\u001b[0;34m\u001b[0m\u001b[0;34m\u001b[0m\u001b[0m\n\u001b[0;32m---> 16\u001b[0;31m         \u001b[0msuper\u001b[0m\u001b[0;34m(\u001b[0m\u001b[0;34m)\u001b[0m\u001b[0;34m.\u001b[0m\u001b[0m__init\u001b[0m\u001b[0;34m(\u001b[0m\u001b[0mside\u001b[0m\u001b[0;34m,\u001b[0m \u001b[0mside\u001b[0m\u001b[0;34m)\u001b[0m\u001b[0;34m\u001b[0m\u001b[0;34m\u001b[0m\u001b[0m\n\u001b[0m\u001b[1;32m     17\u001b[0m \u001b[0;34m\u001b[0m\u001b[0m\n\u001b[1;32m     18\u001b[0m \u001b[0;34m\u001b[0m\u001b[0m\n",
            "\u001b[0;31mAttributeError\u001b[0m: 'super' object has no attribute '_Square__init'"
          ]
        }
      ]
    },
    {
      "cell_type": "code",
      "source": [
        "# PROBLEM OF RECALLING UNDEFINED CLASS - TRIANGE. The error in that code is we are calling undefined method\n",
        "\n",
        "class Shape:\n",
        "    def area(self):\n",
        "        pass\n",
        "\n",
        "class Circle(Shape):\n",
        "    def __init__(self, radius):\n",
        "        self.radius = radius\n",
        "\n",
        "    def area(self):\n",
        "        return 3.14 * self.radius * self.radius\n",
        "\n",
        "class Square(Shape):\n",
        "    def __init__(self, side):\n",
        "        self.side = side\n",
        "\n",
        "    def area(self):\n",
        "        return self.side * self.side\n",
        "\n",
        "def print_area(shape):\n",
        "    print(\"Area:\", shape.area())\n",
        "\n",
        "circle = Circle(5)\n",
        "square = Square(4)\n",
        "print_area(circle)\n",
        "print_area(square)\n",
        "\n",
        "print_area(triangle)"
      ],
      "metadata": {
        "colab": {
          "base_uri": "https://localhost:8080/",
          "height": 219
        },
        "id": "e59emFhMysZG",
        "outputId": "53ccf369-3948-4f95-e151-affb412f04de"
      },
      "execution_count": null,
      "outputs": [
        {
          "output_type": "stream",
          "name": "stdout",
          "text": [
            "Area: 78.5\n",
            "Area: 16\n"
          ]
        },
        {
          "output_type": "error",
          "ename": "NameError",
          "evalue": "name 'triangle' is not defined",
          "traceback": [
            "\u001b[0;31m---------------------------------------------------------------------------\u001b[0m",
            "\u001b[0;31mNameError\u001b[0m                                 Traceback (most recent call last)",
            "\u001b[0;32m<ipython-input-63-b1135b054675>\u001b[0m in \u001b[0;36m<cell line: 29>\u001b[0;34m()\u001b[0m\n\u001b[1;32m     27\u001b[0m \u001b[0mprint_area\u001b[0m\u001b[0;34m(\u001b[0m\u001b[0msquare\u001b[0m\u001b[0;34m)\u001b[0m\u001b[0;34m\u001b[0m\u001b[0;34m\u001b[0m\u001b[0m\n\u001b[1;32m     28\u001b[0m \u001b[0;34m\u001b[0m\u001b[0m\n\u001b[0;32m---> 29\u001b[0;31m \u001b[0mprint_area\u001b[0m\u001b[0;34m(\u001b[0m\u001b[0mtriangle\u001b[0m\u001b[0;34m)\u001b[0m\u001b[0;34m\u001b[0m\u001b[0;34m\u001b[0m\u001b[0m\n\u001b[0m",
            "\u001b[0;31mNameError\u001b[0m: name 'triangle' is not defined"
          ]
        }
      ]
    },
    {
      "cell_type": "code",
      "source": [
        "# get_first & last from color_list\n",
        "\n",
        "\n",
        "lst = [\"Red\", \"Green\", \"White\", \"Black\"]  # Predefined list\n",
        "print( \"%s %s\"%(lst[0],lst[-1]))"
      ],
      "metadata": {
        "colab": {
          "base_uri": "https://localhost:8080/"
        },
        "id": "BUgZKaSMM01n",
        "outputId": "92212578-b996-4f40-ac85-2109b38899c4"
      },
      "execution_count": 81,
      "outputs": [
        {
          "output_type": "stream",
          "name": "stdout",
          "text": [
            "Red Black\n"
          ]
        }
      ]
    },
    {
      "cell_type": "code",
      "source": [
        "#FIND MEDIAN\n",
        "\n",
        "def find_median(x, y, z):\n",
        "  \"\"\"\n",
        "  This function finds the median of three given numbers using conditional statements.\n",
        "  \"\"\"\n",
        "  if x <= y <= z:\n",
        "    return y\n",
        "  elif y <= x <= z:\n",
        "    return x\n",
        "  elif z <= x <= y:\n",
        "    return x\n",
        "  else:\n",
        "    return z\n",
        "\n",
        "# Get three numbers as input\n",
        "x = int(input(\"Enter first number: \"))\n",
        "y = int(input(\"Enter second number: \"))\n",
        "z = int(input(\"Enter third number: \"))\n",
        "\n",
        "# Find the median\n",
        "median = find_median(x, y, z)\n",
        "\n",
        "# Print the median\n",
        "print(\"The median is:\", median)\n"
      ],
      "metadata": {
        "id": "xLgs09kjRTL8"
      },
      "execution_count": null,
      "outputs": []
    },
    {
      "cell_type": "code",
      "source": [
        "\n",
        "#What will be the output of below Python code?\n",
        "\n",
        "class A():\n",
        "        def __init__(self,count=100):\n",
        "                self.count=count\n",
        "obj1=A()\n",
        "obj2=A(102)\n",
        "print(obj1.count)\n",
        "print(obj2.count)\n",
        "\n",
        "#By default,the value of \"count\" is 100, so obj1.count=100. For second object, value of \"count\" is 102, so obj2.count=102."
      ],
      "metadata": {
        "colab": {
          "base_uri": "https://localhost:8080/"
        },
        "id": "rT2_AMSJVKRb",
        "outputId": "143a021a-665c-47e3-f202-3d0e7d5e5184"
      },
      "execution_count": 82,
      "outputs": [
        {
          "output_type": "stream",
          "name": "stdout",
          "text": [
            "100\n",
            "102\n"
          ]
        }
      ]
    },
    {
      "cell_type": "code",
      "source": [
        "#What will be the output of the following Python code?\n",
        "\n",
        "class test:\n",
        "    def __init__(self):\n",
        "        self.variable = 'Old'\n",
        "        self.Change(self.variable)\n",
        "    def Change(self, var):\n",
        "        var = 'New'\n",
        "obj=test()\n",
        "print(obj.variable)\n",
        "\n",
        "#This is because strings are immutable. Hence any change made isn’t reflected in the original string."
      ],
      "metadata": {
        "colab": {
          "base_uri": "https://localhost:8080/"
        },
        "id": "0bGnyOv4VSKD",
        "outputId": "739ba6ef-3504-4ce8-8039-1b9330aadef2"
      },
      "execution_count": 83,
      "outputs": [
        {
          "output_type": "stream",
          "name": "stdout",
          "text": [
            "Old\n"
          ]
        }
      ]
    },
    {
      "cell_type": "code",
      "source": [
        "#What will be the output of below Python code?\n",
        "\n",
        "class A:\n",
        "        def __init__(self):\n",
        "                self.count=5\n",
        "                self.count=count+1 #count DEFINED 2nd TIME wrong and python takes final defination\n",
        "a=A()\n",
        "print(a.count)\n",
        "\n",
        "# It will throw an error as inside constructor, \"count\" is not defined."
      ],
      "metadata": {
        "colab": {
          "base_uri": "https://localhost:8080/",
          "height": 327
        },
        "id": "-iOKXu3EVqA-",
        "outputId": "55d95d1f-7e4c-48da-de4c-4f1f174546fb"
      },
      "execution_count": 88,
      "outputs": [
        {
          "output_type": "error",
          "ename": "NameError",
          "evalue": "name 'count' is not defined",
          "traceback": [
            "\u001b[0;31m---------------------------------------------------------------------------\u001b[0m",
            "\u001b[0;31mNameError\u001b[0m                                 Traceback (most recent call last)",
            "\u001b[0;32m<ipython-input-88-afbc877ac089>\u001b[0m in \u001b[0;36m<cell line: 7>\u001b[0;34m()\u001b[0m\n\u001b[1;32m      5\u001b[0m                 \u001b[0;31m#self.count=5\u001b[0m\u001b[0;34m\u001b[0m\u001b[0;34m\u001b[0m\u001b[0m\n\u001b[1;32m      6\u001b[0m                 \u001b[0mself\u001b[0m\u001b[0;34m.\u001b[0m\u001b[0mcount\u001b[0m\u001b[0;34m=\u001b[0m\u001b[0mcount\u001b[0m\u001b[0;34m+\u001b[0m\u001b[0;36m1\u001b[0m\u001b[0;34m\u001b[0m\u001b[0;34m\u001b[0m\u001b[0m\n\u001b[0;32m----> 7\u001b[0;31m \u001b[0ma\u001b[0m\u001b[0;34m=\u001b[0m\u001b[0mA\u001b[0m\u001b[0;34m(\u001b[0m\u001b[0;34m)\u001b[0m\u001b[0;34m\u001b[0m\u001b[0;34m\u001b[0m\u001b[0m\n\u001b[0m\u001b[1;32m      8\u001b[0m \u001b[0mprint\u001b[0m\u001b[0;34m(\u001b[0m\u001b[0ma\u001b[0m\u001b[0;34m.\u001b[0m\u001b[0mcount\u001b[0m\u001b[0;34m)\u001b[0m\u001b[0;34m\u001b[0m\u001b[0;34m\u001b[0m\u001b[0m\n",
            "\u001b[0;32m<ipython-input-88-afbc877ac089>\u001b[0m in \u001b[0;36m__init__\u001b[0;34m(self)\u001b[0m\n\u001b[1;32m      4\u001b[0m         \u001b[0;32mdef\u001b[0m \u001b[0m__init__\u001b[0m\u001b[0;34m(\u001b[0m\u001b[0mself\u001b[0m\u001b[0;34m)\u001b[0m\u001b[0;34m:\u001b[0m\u001b[0;34m\u001b[0m\u001b[0;34m\u001b[0m\u001b[0m\n\u001b[1;32m      5\u001b[0m                 \u001b[0;31m#self.count=5\u001b[0m\u001b[0;34m\u001b[0m\u001b[0;34m\u001b[0m\u001b[0m\n\u001b[0;32m----> 6\u001b[0;31m                 \u001b[0mself\u001b[0m\u001b[0;34m.\u001b[0m\u001b[0mcount\u001b[0m\u001b[0;34m=\u001b[0m\u001b[0mcount\u001b[0m\u001b[0;34m+\u001b[0m\u001b[0;36m1\u001b[0m\u001b[0;34m\u001b[0m\u001b[0;34m\u001b[0m\u001b[0m\n\u001b[0m\u001b[1;32m      7\u001b[0m \u001b[0ma\u001b[0m\u001b[0;34m=\u001b[0m\u001b[0mA\u001b[0m\u001b[0;34m(\u001b[0m\u001b[0;34m)\u001b[0m\u001b[0;34m\u001b[0m\u001b[0;34m\u001b[0m\u001b[0m\n\u001b[1;32m      8\u001b[0m \u001b[0mprint\u001b[0m\u001b[0;34m(\u001b[0m\u001b[0ma\u001b[0m\u001b[0;34m.\u001b[0m\u001b[0mcount\u001b[0m\u001b[0;34m)\u001b[0m\u001b[0;34m\u001b[0m\u001b[0;34m\u001b[0m\u001b[0m\n",
            "\u001b[0;31mNameError\u001b[0m: name 'count' is not defined"
          ]
        }
      ]
    },
    {
      "cell_type": "code",
      "source": [
        "#How many objects and reference variables are there for the given Python code?\n",
        "#Ans- 3 and 1\n",
        "class A: #this is class\n",
        "        print(\"Inside class\") #this is 1 reference variable\n",
        "A() #this is object 1\n",
        "A() #this is object 2\n",
        "obj=A() #this is object 3\n",
        "# obj is the reference variable here and an\n",
        "# object will be created each time A() is called.So there will be 3 objects created."
      ],
      "metadata": {
        "colab": {
          "base_uri": "https://localhost:8080/"
        },
        "id": "F1ANtvW-WXA3",
        "outputId": "1f06e2b8-c05d-4cd6-b781-4020480a7e17"
      },
      "execution_count": 89,
      "outputs": [
        {
          "output_type": "stream",
          "name": "stdout",
          "text": [
            "Inside class\n"
          ]
        }
      ]
    },
    {
      "cell_type": "code",
      "source": [
        "\n",
        "# What will be the output of below Python code?\n",
        "\n",
        "class Student:\n",
        "        def __init__(self,name,id):\n",
        "                self.name=name\n",
        "                self.id=id\n",
        "                print(self.id)\n",
        "std=Student(\"Simon\",1) # getting the 1st 1 because of this assignment\n",
        "std.id=2  # changed id and reassigned new id.\n",
        "print(std.id) #2nd output because of this print\n",
        "\n",
        "# When object with id =1 is created for Student, constructor is invoked and it prints 1.\n",
        "# Later, id has been changed to 2, so next print statement prints 2."
      ],
      "metadata": {
        "colab": {
          "base_uri": "https://localhost:8080/"
        },
        "id": "qOgC-xdiXQr_",
        "outputId": "ff5d38b9-febc-4519-9cb0-3a625c548528"
      },
      "execution_count": 93,
      "outputs": [
        {
          "output_type": "stream",
          "name": "stdout",
          "text": [
            "1\n",
            "2\n"
          ]
        }
      ]
    },
    {
      "cell_type": "code",
      "source": [
        "# Which of the following is correct?\n",
        "\n",
        "class A:\n",
        "    def __init__(self,name):\n",
        "        self.name=name\n",
        "a1=A(\"john\")\n",
        "a2=A(\"john\")\n",
        "\n",
        "print(a1.name)\n",
        "print(a2.name)\n",
        "# Correct Answer - id(a1) and id(a2) will have different values although looks 'same name'."
      ],
      "metadata": {
        "colab": {
          "base_uri": "https://localhost:8080/"
        },
        "id": "f4fmMthAY52o",
        "outputId": "d1227e01-f99d-48de-ade4-6f16a66de77b"
      },
      "execution_count": 95,
      "outputs": [
        {
          "output_type": "stream",
          "name": "stdout",
          "text": [
            "john\n",
            "john\n"
          ]
        }
      ]
    },
    {
      "cell_type": "code",
      "source": [
        "#What will be the output of the following code?\n",
        "\n",
        "class test:\n",
        "     def __init__(self, a=\"Hello World\"):\n",
        "         self.a = a\n",
        "\n",
        "     def display(self):\n",
        "         print(self.a)\n",
        "obj=test()\n",
        "obj.display()"
      ],
      "metadata": {
        "colab": {
          "base_uri": "https://localhost:8080/"
        },
        "id": "5Dl1L5JeZlyX",
        "outputId": "e54800be-ed63-4acb-ead0-018dabc70707"
      },
      "execution_count": 97,
      "outputs": [
        {
          "output_type": "stream",
          "name": "stdout",
          "text": [
            "Hello World\n"
          ]
        }
      ]
    }
  ],
  "metadata": {
    "colab": {
      "provenance": [],
      "toc_visible": true,
      "include_colab_link": true
    },
    "kernelspec": {
      "display_name": "Python 3",
      "name": "python3"
    },
    "language_info": {
      "name": "python"
    }
  },
  "nbformat": 4,
  "nbformat_minor": 0
}