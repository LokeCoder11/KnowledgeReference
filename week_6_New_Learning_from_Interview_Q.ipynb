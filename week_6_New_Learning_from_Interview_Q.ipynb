{
  "nbformat": 4,
  "nbformat_minor": 0,
  "metadata": {
    "colab": {
      "provenance": [],
      "toc_visible": true,
      "authorship_tag": "ABX9TyMT3MRTdkwZaI83YKV9BPYu",
      "include_colab_link": true
    },
    "kernelspec": {
      "name": "python3",
      "display_name": "Python 3"
    },
    "language_info": {
      "name": "python"
    }
  },
  "cells": [
    {
      "cell_type": "markdown",
      "metadata": {
        "id": "view-in-github",
        "colab_type": "text"
      },
      "source": [
        "<a href=\"https://colab.research.google.com/github/LokeCoder11/KnowledgeReference/blob/main/week_6_New_Learning_from_Interview_Q.ipynb\" target=\"_parent\"><img src=\"https://colab.research.google.com/assets/colab-badge.svg\" alt=\"Open In Colab\"/></a>"
      ]
    },
    {
      "cell_type": "code",
      "source": [
        "\"\"\"\n",
        "Write a Python program to get the every nth element in a given list.\n",
        "\n",
        "Example 1:\n",
        "Input:\n",
        "[1, 2, 3, 4, 5, 6, 7, 8, 9, 10]\n",
        "\n",
        "2\n",
        "\n",
        "Output:\n",
        "[2, 4, 6, 8, 10]\n",
        "\"\"\"\n",
        "\n",
        "# Write your code here\n",
        "\n",
        "def get_every_nth_element(my_list, n):\n",
        "  \"\"\"\n",
        "  Gets every nth element from a list using slicing.\n",
        "  Returns:\n",
        "      A new list containing every nth element from the original list.\n",
        "  \"\"\"\n",
        "  return my_list[n - 1::n]  # Start from n-1, with step of n\n",
        "\n",
        "# Example usage\n",
        "my_list = eval(input())\n",
        "nth_element = int(input())\n",
        "\n",
        "every_nth_list = get_every_nth_element(my_list, nth_element)\n",
        "listed = list(every_nth_list)\n",
        "print(list(listed))"
      ],
      "metadata": {
        "colab": {
          "base_uri": "https://localhost:8080/"
        },
        "id": "2qmXGKo6dJA4",
        "outputId": "0b8a691a-1d7a-4828-d007-df8e520106a0"
      },
      "execution_count": null,
      "outputs": [
        {
          "output_type": "stream",
          "name": "stdout",
          "text": [
            "[1, 2, 3, 4, 5, 6, 7, 8, 9, 10]\n",
            "2\n",
            "[2, 4, 6, 8, 10]\n"
          ]
        }
      ]
    },
    {
      "cell_type": "code",
      "source": [
        "#write your code inside main function\n",
        "text1 = input()\n",
        "\n",
        "string_length = len(text1)\n",
        "print(f'{string_length}')"
      ],
      "metadata": {
        "colab": {
          "base_uri": "https://localhost:8080/"
        },
        "id": "zki2O-6scwmN",
        "outputId": "fab07c24-fe95-4584-dce7-cc14a469df38"
      },
      "execution_count": null,
      "outputs": [
        {
          "output_type": "stream",
          "name": "stdout",
          "text": [
            "sasd\n",
            "4\n"
          ]
        }
      ]
    },
    {
      "cell_type": "code",
      "source": [
        "\"\"\"\n",
        "Write a Python program to convert month name to a number of days. Print 'Wrong month name' for incorrect input. Note: February has 28/29 days.\n",
        "\n",
        "Example 1:\n",
        "Input:\n",
        "February\n",
        "\n",
        "Output:\n",
        "28/29 days\n",
        "\"\"\"\n",
        "\n",
        "# Write your code here\n",
        "\n",
        "def month_to_days(month_name):\n",
        "  \"\"\"\n",
        "  Converts a month name to the number of days, considering leap years for February.\n",
        "\n",
        "  Returns:\n",
        "      The number of days in the month, or \"Wrong month name\" for invalid input.\n",
        "  \"\"\"\n",
        "\n",
        "  month_name = month_name.lower()  # Convert input to lowercase for case-insensitive matching\n",
        "  days_in_month = {\n",
        "      \"january\": \"31 days\",\n",
        "      \"february\": \"28/29 days\",\n",
        "      \"march\": \"31 days\",\n",
        "      \"april\": \"30 days\",\n",
        "      \"may\": \"31 days\",\n",
        "      \"june\": \"30 days\",\n",
        "      \"july\": \"31 days\",\n",
        "      \"august\": \"31 days\",\n",
        "      \"september\": \"30 days\",\n",
        "      \"october\": \"31 days\",\n",
        "      \"november\": \"30 days\",\n",
        "      \"december\": \"31 days\"\n",
        "  }\n",
        "\n",
        "  # Check for valid month name\n",
        "  if month_name not in days_in_month:\n",
        "    return \"Wrong month name\"\n",
        "\n",
        "  return days_in_month[month_name]\n",
        "\n",
        "# Example usage\n",
        "month_name = input()\n",
        "days = month_to_days(month_name)\n",
        "print(days)\n"
      ],
      "metadata": {
        "colab": {
          "base_uri": "https://localhost:8080/"
        },
        "id": "LAbOMHDUYRh1",
        "outputId": "dffd4354-e931-43ca-8747-6d4e9f0030c1"
      },
      "execution_count": null,
      "outputs": [
        {
          "output_type": "stream",
          "name": "stdout",
          "text": [
            "February\n",
            "28/29 days\n"
          ]
        }
      ]
    },
    {
      "cell_type": "code",
      "source": [
        "\"\"\"\n",
        "Write a Python program to add two objects if both objects are an integer type.\n",
        "\n",
        "Example 1:\n",
        "Input:\n",
        "10\n",
        "\n",
        "20\n",
        "\n",
        "Output:\n",
        "30\n",
        "\n",
        "Example 2:\n",
        "Input:\n",
        "10\n",
        "\n",
        "12.5\n",
        "\n",
        "Output:\n",
        "Inputs must be integers!\n",
        "\"\"\"\n",
        "\n",
        "def add_integers(obj1, obj2):\n",
        "  \"\"\"\n",
        "  Adds two objects if both are integers, otherwise returns a message.\n",
        "\n",
        "  Returns:\n",
        "      The sum of the objects if both are integers, otherwise a message indicating\n",
        "      non-integer inputs.\n",
        "  \"\"\"\n",
        "\n",
        "  if isinstance(obj1, int) and isinstance(obj2, int):\n",
        "    return obj1 + obj2\n",
        "  else:\n",
        "    return \"Inputs must be integers!\"\n",
        "\n",
        "# Example usage\n",
        "object1 = eval(input())\n",
        "object2 = eval(input())\n",
        "\n",
        "result = add_integers(object1, object2)\n",
        "print(result)\n"
      ],
      "metadata": {
        "colab": {
          "base_uri": "https://localhost:8080/"
        },
        "id": "JOIoJt_EVlL-",
        "outputId": "e4b0beb0-7c4d-45ee-9f20-b6693cb45519"
      },
      "execution_count": null,
      "outputs": [
        {
          "output_type": "stream",
          "name": "stdout",
          "text": [
            "10\n",
            "10.3\n",
            "Inputs must be integers!\n"
          ]
        }
      ]
    },
    {
      "cell_type": "code",
      "source": [
        "\"\"\"\n",
        "Write a Python program to check a triangle\n",
        "is equilateral, isosceles or scalene.\n",
        "Note : An equilateral triangle is a triangle\n",
        "in which all three sides are equal.\n",
        "A scalene triangle is a triangle that\n",
        "has three unequal sides. An isosceles\n",
        "triangle is a triangle with (at least)\n",
        "two equal sides.\n",
        "Example 1:\n",
        "Input:\n",
        "6\n",
        "8\n",
        "12\n",
        "\n",
        "Output:\n",
        "Scalene triangle\n",
        "\"\"\"\n",
        "\n",
        "def check_triangle(side1, side2, side3):\n",
        "  \"\"\"\n",
        "  Checks the type of triangle based on the length of its sides.\n",
        "  Returns:\n",
        "      A string indicating the type of triangle: \"Equilateral\", \"Isosceles\", or \"Scalene\".\n",
        "  \"\"\"\n",
        "\n",
        "  # Check for equilateral triangle\n",
        "  if side1 == side2 == side3:\n",
        "    return \"Equilateral triangle\"\n",
        "\n",
        "  # Check for isosceles triangle\n",
        "  elif side1 == side2 or side2 == side3 or side1 == side3:\n",
        "    return \"Isosceles triangle\"\n",
        "\n",
        "  # Otherwise, it's a scalene triangle\n",
        "  else:\n",
        "    return \"Scalene triangle\"\n",
        "\n",
        "# Example usage\n",
        "side1st = int(input())\n",
        "side2nd = int(input())\n",
        "side3rd = int(input())\n",
        "\n",
        "triangle_type = check_triangle(side1st, side2nd, side3rd)\n",
        "print(f\"{triangle_type}\")\n"
      ],
      "metadata": {
        "colab": {
          "base_uri": "https://localhost:8080/"
        },
        "id": "LyVQ2SceSURw",
        "outputId": "e97d90f9-91e8-41e8-dda8-04cccf1c961d"
      },
      "execution_count": null,
      "outputs": [
        {
          "output_type": "stream",
          "name": "stdout",
          "text": [
            "6\n",
            "8\n",
            "12\n",
            "Scalene triangle\n"
          ]
        }
      ]
    },
    {
      "cell_type": "code",
      "source": [
        "\"\"\"\n",
        "Write a Python program to check a list is empty or not.\n",
        "\n",
        "Example 1:\n",
        "Input:\n",
        "[]\n",
        "\n",
        "Output:\n",
        "List is empty\n",
        "\"\"\"\n",
        "#write your code inside main function\n",
        "\n",
        "def is_empty(my_list):\n",
        "  \"\"\"\n",
        "  Checks if a list is empty.\n",
        "\n",
        "  Returns:\n",
        "      True if the list is empty, False otherwise.\n",
        "  \"\"\"\n",
        "  return len(my_list) == 0  # Check if the length of the list is 0\n",
        "\n",
        "# Example usage\n",
        "my_list = eval(input())\n",
        "\n",
        "if is_empty(my_list):\n",
        "  print(\"List is empty\")\n",
        "else:\n",
        "  print(\"List is not empty\")"
      ],
      "metadata": {
        "colab": {
          "base_uri": "https://localhost:8080/"
        },
        "outputId": "8b52cc21-1dbd-46f8-869d-a593289aaf24",
        "id": "sBCQC7IoXsc2"
      },
      "execution_count": null,
      "outputs": [
        {
          "output_type": "stream",
          "name": "stdout",
          "text": [
            "[]\n",
            "List is empty\n"
          ]
        }
      ]
    },
    {
      "cell_type": "markdown",
      "source": [
        "#PROBLEM :\n",
        "```\n",
        "Write a Python program to test whether all numbers of a list is greater than a certain number.\n",
        "\n",
        "Example 1:\n",
        "Input:\n",
        "[2, 3, 4, 5]\n",
        "\n",
        "1\n",
        "\n",
        "Output:\n",
        "True\n",
        "```"
      ],
      "metadata": {
        "id": "3dYMuFkjP7TY"
      }
    },
    {
      "cell_type": "code",
      "source": [
        "list1 = eval(input())\n",
        "num1 = int(input())\n",
        "\n",
        "for i in range(len(list1)):\n",
        "    if list1[i] > num1:\n",
        "        print('True')"
      ],
      "metadata": {
        "id": "0j47VPlFCteu",
        "colab": {
          "base_uri": "https://localhost:8080/"
        },
        "outputId": "e2136780-286f-4a3f-a8f1-d087a87a7b66"
      },
      "execution_count": null,
      "outputs": [
        {
          "output_type": "stream",
          "name": "stdout",
          "text": [
            "[2, 3, 4, 5]\n",
            "1\n",
            "True\n",
            "True\n",
            "True\n",
            "True\n"
          ]
        }
      ]
    },
    {
      "cell_type": "code",
      "source": [
        "def all_greater_than(numbers, target):\n",
        "  \"\"\"\n",
        "  Checks if all numbers in a list are greater than a certain number.\n",
        "\n",
        "  \"\"\"\n",
        "  for number in numbers:\n",
        "    if number <= target:\n",
        "      return False\n",
        "  return True\n",
        "\n",
        "list1 = eval(input())\n",
        "num1 = int(input())\n",
        "\n",
        "if all_greater_than(list1 , num1):\n",
        "  print(\"True\")\n",
        "else:\n",
        "  print(\"False\")"
      ],
      "metadata": {
        "colab": {
          "base_uri": "https://localhost:8080/"
        },
        "id": "rexPljmKP25W",
        "outputId": "c7b0a2dc-1a96-4896-cefd-85c2a7e75d98"
      },
      "execution_count": null,
      "outputs": [
        {
          "output_type": "stream",
          "name": "stdout",
          "text": [
            "[2, 3, 4, 5]\n",
            "1\n",
            "True\n"
          ]
        }
      ]
    },
    {
      "cell_type": "markdown",
      "source": [
        "```\n",
        "Write a Python program to append a list to the second list.\n",
        "\n",
        "Example 1:\n",
        "Input:\n",
        "[1, 2, 3, 0]\n",
        "\n",
        "['Red', 'Green', 'Black']\n",
        "\n",
        "Output:\n",
        "[1, 2, 3, 0, 'Red', 'Green', 'Black']\n",
        "```"
      ],
      "metadata": {
        "id": "j6rV9MyoBcR3"
      }
    },
    {
      "cell_type": "code",
      "source": [
        "list1 = eval(input())\n",
        "list2 = eval(input())\n",
        "\n",
        "new_list = list1 + list2\n",
        "print(new_list)"
      ],
      "metadata": {
        "colab": {
          "base_uri": "https://localhost:8080/"
        },
        "id": "cUuWSP_3BhFp",
        "outputId": "17294c76-2513-431a-d6c0-6be23f390ce5"
      },
      "execution_count": null,
      "outputs": [
        {
          "output_type": "stream",
          "name": "stdout",
          "text": [
            "[1, 2, 3, 0]\n",
            "['Red', 'Green', 'Black']\n",
            "[1, 2, 3, 0, 'Red', 'Green', 'Black']\n"
          ]
        }
      ]
    },
    {
      "cell_type": "code",
      "source": [
        "my_list = eval(input())\n",
        "\n",
        "new_list = my_list.pop(0,2)\n",
        "\n",
        "print(new_list)"
      ],
      "metadata": {
        "colab": {
          "base_uri": "https://localhost:8080/",
          "height": 228
        },
        "id": "ACHkTPqu_SMj",
        "outputId": "8f652ccc-2b19-4617-b438-b3c2ef2f77dd"
      },
      "execution_count": null,
      "outputs": [
        {
          "name": "stdout",
          "output_type": "stream",
          "text": [
            "[1,2,3,4,5]\n"
          ]
        },
        {
          "output_type": "error",
          "ename": "TypeError",
          "evalue": "pop expected at most 1 argument, got 2",
          "traceback": [
            "\u001b[0;31m---------------------------------------------------------------------------\u001b[0m",
            "\u001b[0;31mTypeError\u001b[0m                                 Traceback (most recent call last)",
            "\u001b[0;32m<ipython-input-24-7f6dad335605>\u001b[0m in \u001b[0;36m<cell line: 3>\u001b[0;34m()\u001b[0m\n\u001b[1;32m      1\u001b[0m \u001b[0mmy_list\u001b[0m \u001b[0;34m=\u001b[0m \u001b[0meval\u001b[0m\u001b[0;34m(\u001b[0m\u001b[0minput\u001b[0m\u001b[0;34m(\u001b[0m\u001b[0;34m)\u001b[0m\u001b[0;34m)\u001b[0m\u001b[0;34m\u001b[0m\u001b[0;34m\u001b[0m\u001b[0m\n\u001b[1;32m      2\u001b[0m \u001b[0;34m\u001b[0m\u001b[0m\n\u001b[0;32m----> 3\u001b[0;31m \u001b[0mnew_list\u001b[0m \u001b[0;34m=\u001b[0m \u001b[0mmy_list\u001b[0m\u001b[0;34m.\u001b[0m\u001b[0mpop\u001b[0m\u001b[0;34m(\u001b[0m\u001b[0;36m0\u001b[0m\u001b[0;34m,\u001b[0m\u001b[0;36m2\u001b[0m\u001b[0;34m)\u001b[0m\u001b[0;34m\u001b[0m\u001b[0;34m\u001b[0m\u001b[0m\n\u001b[0m\u001b[1;32m      4\u001b[0m \u001b[0;34m\u001b[0m\u001b[0m\n\u001b[1;32m      5\u001b[0m \u001b[0mprint\u001b[0m\u001b[0;34m(\u001b[0m\u001b[0mnew_list\u001b[0m\u001b[0;34m)\u001b[0m\u001b[0;34m\u001b[0m\u001b[0;34m\u001b[0m\u001b[0m\n",
            "\u001b[0;31mTypeError\u001b[0m: pop expected at most 1 argument, got 2"
          ]
        }
      ]
    },
    {
      "cell_type": "markdown",
      "source": [
        "# Problem\n",
        "Write a Python program to print a specified list after removing the 0th, 4th and 5th elements\n",
        "\n",
        "Example 1:\n",
        "Input:\n",
        "['Red', 'Green', 'White', 'Black', 'Pink', 'Yellow']\n",
        "\n",
        "Output:\n",
        "['Green', 'White', 'Black']"
      ],
      "metadata": {
        "id": "mUE7zcrD9K57"
      }
    },
    {
      "cell_type": "code",
      "source": [
        "my_list = eval(input())\n",
        "index_to_remove= [0,4,5]\n",
        "\n",
        "# new_list = [x for i,  x in enumerate(my_list) if i not in index_to_remove]\n",
        "new_list = []\n",
        "\n",
        "for index1, number1 in enumerate(my_list):\n",
        "    if index1 not in index_to_remove:\n",
        "      new_list.append(number1)\n",
        "\n",
        "print(new_list)"
      ],
      "metadata": {
        "colab": {
          "base_uri": "https://localhost:8080/"
        },
        "id": "zF9n5Pzn9SDT",
        "outputId": "9e5910e5-534b-4d84-aefd-6a1bcd32fd79"
      },
      "execution_count": null,
      "outputs": [
        {
          "output_type": "stream",
          "name": "stdout",
          "text": [
            " ['Red', 'Green', 'White', 'Black', 'Pink', 'Yellow']\n",
            "['Green', 'White', 'Black']\n"
          ]
        }
      ]
    },
    {
      "cell_type": "code",
      "source": [
        "x = eval(input()) #can take input as list: [1,2,3]\n",
        "print(x)"
      ],
      "metadata": {
        "colab": {
          "base_uri": "https://localhost:8080/"
        },
        "id": "LSAm67eV6r2A",
        "outputId": "1e4e3d1c-a801-4f4c-8331-e4d5aeddb236"
      },
      "execution_count": null,
      "outputs": [
        {
          "output_type": "stream",
          "name": "stdout",
          "text": [
            "[1,3,4]\n",
            "[1, 3, 4]\n"
          ]
        }
      ]
    },
    {
      "cell_type": "code",
      "execution_count": null,
      "metadata": {
        "colab": {
          "base_uri": "https://localhost:8080/"
        },
        "id": "nqc0oeYIdI7w",
        "outputId": "18ae1f0a-e18f-4ffa-a9cf-2afaa15e7e1b"
      },
      "outputs": [
        {
          "output_type": "stream",
          "name": "stdout",
          "text": [
            "1\n",
            "3\n",
            "5\n",
            "7\n",
            "9\n",
            "\n",
            "6\n"
          ]
        }
      ],
      "source": [
        "numbers = [1, 2, 3, 4, 5, 6, 7, 8, 9, 10]\n",
        "\n",
        "for num in numbers:\n",
        "  if num % 2 == 0:\n",
        "    continue\n",
        "  print(num)\n",
        "\n",
        "#Which method can be used to check if a list contains a specific element in Python?\n",
        "print()\n",
        "print(numbers.index(7))"
      ]
    },
    {
      "cell_type": "code",
      "source": [
        "names = ['Alice', 'Bob', 'Charlie']\n",
        "\n",
        "ages = [25, 30, 35]\n",
        "output = []\n",
        "\n",
        "for name, age in zip(names, ages):\n",
        "    print(f\"{name}:{age}\")"
      ],
      "metadata": {
        "colab": {
          "base_uri": "https://localhost:8080/"
        },
        "id": "DoBFMfxSjLCk",
        "outputId": "ad5b3426-fa7e-4b34-ac2f-d418087294bc"
      },
      "execution_count": null,
      "outputs": [
        {
          "output_type": "stream",
          "name": "stdout",
          "text": [
            "Alice:25\n",
            "Bob:30\n",
            "Charlie:35\n"
          ]
        }
      ]
    },
    {
      "cell_type": "code",
      "source": [
        "names = ['Alice', 'Bob', 'Charlie']\n",
        "ages = [25, 30, 35]\n",
        "\n",
        "# Using zip to combine the lists into tuples\n",
        "combined_data = list(zip(names, ages))\n",
        "\n",
        "# Output\n",
        "print(combined_data)  # Output: [('Alice', 25), ('Bob', 30), ('Charlie', 35)]"
      ],
      "metadata": {
        "colab": {
          "base_uri": "https://localhost:8080/"
        },
        "id": "JKmOOAYOlu6o",
        "outputId": "a2ebcf13-0bcf-408f-9805-abf6c65ea3d9"
      },
      "execution_count": null,
      "outputs": [
        {
          "output_type": "stream",
          "name": "stdout",
          "text": [
            "[('Alice', 25), ('Bob', 30), ('Charlie', 35)]\n"
          ]
        }
      ]
    },
    {
      "cell_type": "code",
      "source": [
        "original_list = [1, 2, 3, 4, 5]\n",
        "\n",
        "reversed_list = []\n",
        "\n",
        "for i in range(len(original_list)-1, -1, -1):\n",
        "\n",
        "\treversed_list.append(original_list[i])\n",
        "\n",
        "print(reversed_list)\n"
      ],
      "metadata": {
        "colab": {
          "base_uri": "https://localhost:8080/"
        },
        "id": "QzFtvdWznhAm",
        "outputId": "50ef1dcf-725c-405a-99ec-aa0265b1e4d9"
      },
      "execution_count": null,
      "outputs": [
        {
          "output_type": "stream",
          "name": "stdout",
          "text": [
            "[5, 4, 3, 2, 1]\n"
          ]
        }
      ]
    },
    {
      "cell_type": "code",
      "source": [
        "my_dict = {'a': 1, 'b': 2, 'c': 3}\n",
        "\n",
        "for key in my_dict:\n",
        "\n",
        "\tprint(key, my_dict[key])"
      ],
      "metadata": {
        "colab": {
          "base_uri": "https://localhost:8080/"
        },
        "id": "ayNBcHJirF8d",
        "outputId": "76b2a093-f77a-4635-fe61-f00691b64e2a"
      },
      "execution_count": null,
      "outputs": [
        {
          "output_type": "stream",
          "name": "stdout",
          "text": [
            "a 1\n",
            "b 2\n",
            "c 3\n"
          ]
        }
      ]
    },
    {
      "cell_type": "code",
      "source": [
        "flag = False\n",
        "\n",
        "for i in range(10):\n",
        "\n",
        "\tfor j in range(10):\n",
        "\n",
        "\t\tif i%2==0:\n",
        "\n",
        "\t\t\tflag = True\n",
        "\n",
        "\t\tbreak\n",
        "\n",
        "\t\tif flag:\n",
        "\n",
        "\t\t\tbreak\n",
        "print(i)"
      ],
      "metadata": {
        "colab": {
          "base_uri": "https://localhost:8080/"
        },
        "id": "9CCXZTprrt5u",
        "outputId": "557cfa75-143e-4b10-ec36-e98f898b2ec2"
      },
      "execution_count": null,
      "outputs": [
        {
          "output_type": "stream",
          "name": "stdout",
          "text": [
            "9\n"
          ]
        }
      ]
    },
    {
      "cell_type": "code",
      "source": [
        "#Which of the following is used to extract the third and fourth elements of the tuple?\n",
        "tuple1=(1,2,3,4,5)\n",
        "\n",
        "print(tuple1[2:4]) #these are index number so starting number will be 1 less\n",
        "print(tuple1[3:6])\n",
        "\n"
      ],
      "metadata": {
        "colab": {
          "base_uri": "https://localhost:8080/",
          "height": 211
        },
        "id": "PpLroEaErGS1",
        "outputId": "d7ee5f3a-eac8-4de7-fb0a-281fa3bfa77c"
      },
      "execution_count": null,
      "outputs": [
        {
          "output_type": "stream",
          "name": "stdout",
          "text": [
            "(3, 4)\n",
            "(4, 5)\n"
          ]
        },
        {
          "output_type": "error",
          "ename": "NameError",
          "evalue": "name 'index' is not defined",
          "traceback": [
            "\u001b[0;31m---------------------------------------------------------------------------\u001b[0m",
            "\u001b[0;31mNameError\u001b[0m                                 Traceback (most recent call last)",
            "\u001b[0;32m<ipython-input-16-9d71df1dcfe0>\u001b[0m in \u001b[0;36m<cell line: 9>\u001b[0;34m()\u001b[0m\n\u001b[1;32m      7\u001b[0m \u001b[0;31m#Which method can be used to check if a list contains a specific element in Python?\u001b[0m\u001b[0;34m\u001b[0m\u001b[0;34m\u001b[0m\u001b[0m\n\u001b[1;32m      8\u001b[0m \u001b[0;34m\u001b[0m\u001b[0m\n\u001b[0;32m----> 9\u001b[0;31m \u001b[0mprint\u001b[0m\u001b[0;34m(\u001b[0m\u001b[0mindex\u001b[0m\u001b[0;34m(\u001b[0m\u001b[0;36m3\u001b[0m\u001b[0;34m)\u001b[0m\u001b[0;34m)\u001b[0m\u001b[0;34m\u001b[0m\u001b[0;34m\u001b[0m\u001b[0m\n\u001b[0m",
            "\u001b[0;31mNameError\u001b[0m: name 'index' is not defined"
          ]
        }
      ]
    },
    {
      "cell_type": "code",
      "source": [
        "#Which brackets are used for 'function' call?\n",
        "# ()      Not [] which is 'index' call"
      ],
      "metadata": {
        "id": "8nt_-b5ysHnb"
      },
      "execution_count": null,
      "outputs": []
    },
    {
      "cell_type": "markdown",
      "source": [
        "\n",
        "What is the output of the following code snippet?\n",
        "```\n",
        "x = 10\n",
        "if x > 5:\n",
        "    if x > 8:\n",
        "        print(\"x is greater than 8\")\n",
        "    else:\n",
        "        print(\"x is greater than 5 but less than or equal to 8\")\n",
        "else:\n",
        "    print(\"x is less than or equal to 5\")\n",
        "```\n",
        "* Correct Answer -\n",
        "x is greater than 8\n",
        "* The condition x > 5 is true, so the first block of code executes. The condition x > 8 is also true, so the nested if block executes and prints \"x is greater than 8\"."
      ],
      "metadata": {
        "id": "k0Iie6MkszHM"
      }
    },
    {
      "cell_type": "code",
      "source": [
        "#What will be the output of the following code snippet?\n",
        "\n",
        "sentence=(\"Data Science\")\n",
        "sentence.count('data') #count() method returns the count of a string in the given string\n",
        "# data != Data (so output 0 instead of 1 if it was Data)"
      ],
      "metadata": {
        "colab": {
          "base_uri": "https://localhost:8080/"
        },
        "id": "uR-GWr-wtgb8",
        "outputId": "77437dbc-c42f-49bf-de67-30c06adc5e1c"
      },
      "execution_count": null,
      "outputs": [
        {
          "output_type": "execute_result",
          "data": {
            "text/plain": [
              "0"
            ]
          },
          "metadata": {},
          "execution_count": 14
        }
      ]
    },
    {
      "cell_type": "code",
      "source": [
        "#What is the output of the following code?\n",
        "\n",
        "my_dict = {\"a\": 1, \"b\": 2, \"c\": 3}\n",
        "print(my_dict.get(\"d\", 0))\n",
        "#The get() method returns the value for the specified key if it exists in\n",
        "#the dictionary, and the default value (which is the second argument) if\n",
        "#the key is not found. In this case, the key \"d\" is not in the dictionary,\n",
        "# so the output of the code will be 0 WHICH IS DEFAULT VALUE."
      ],
      "metadata": {
        "colab": {
          "base_uri": "https://localhost:8080/"
        },
        "id": "i4jd_pjVu4b0",
        "outputId": "c3fc5b25-cf15-4150-f487-b6f2c3bccdf2"
      },
      "execution_count": null,
      "outputs": [
        {
          "output_type": "stream",
          "name": "stdout",
          "text": [
            "0\n"
          ]
        }
      ]
    },
    {
      "cell_type": "markdown",
      "source": [
        "# ISINSTANCE isinstance FUNCTION"
      ],
      "metadata": {
        "id": "nmyYZko4tnID"
      }
    },
    {
      "cell_type": "code",
      "source": [
        "# 1. Filtering elements in a list based on data type:\n",
        "\n",
        "data = [\"apple\", 10, 3.14, True, None]\n",
        "\n",
        "# Filter out elements that are not strings\n",
        "strings = [item for item in data if isinstance(item, str)]\n",
        "\n",
        "print(strings)  # Output: ['apple']\n"
      ],
      "metadata": {
        "colab": {
          "base_uri": "https://localhost:8080/"
        },
        "id": "3tFj8CrPvnQW",
        "outputId": "86308d08-a772-4db6-8665-c40c64b4b9e0"
      },
      "execution_count": 106,
      "outputs": [
        {
          "output_type": "stream",
          "name": "stdout",
          "text": [
            "['apple']\n"
          ]
        }
      ]
    },
    {
      "cell_type": "code",
      "source": [
        "# 1. IS DATA TYPE\n",
        "\n",
        "x = 10\n",
        "y = \"hello\"\n",
        "z = [1, 2, 3]\n",
        "\n",
        "# Check if x is an integer\n",
        "if isinstance(x, int):\n",
        "    print(\"x is an integer\")\n",
        "else:\n",
        "    print(\"x is not an integer\")  # This won't be printed\n",
        "\n",
        "# Check if y is a string\n",
        "if isinstance(y, str):\n",
        "    print(\"y is a string\")\n",
        "else:\n",
        "    print(\"y is not a string\")  # This won't be printed\n",
        "\n",
        "# Check if z is a list\n",
        "if isinstance(z, list):\n",
        "    print(\"z is a list\")\n",
        "else:\n",
        "    print(\"z is not a list\")  # This won't be printed\n"
      ],
      "metadata": {
        "colab": {
          "base_uri": "https://localhost:8080/"
        },
        "id": "oQKPmLxstrsF",
        "outputId": "19123727-48dd-467f-d6a2-ff85244b4b23"
      },
      "execution_count": 100,
      "outputs": [
        {
          "output_type": "stream",
          "name": "stdout",
          "text": [
            "x is an integer\n",
            "y is a string\n",
            "z is a list\n"
          ]
        }
      ]
    },
    {
      "cell_type": "code",
      "source": [
        "#2. Handling MIXED DATA - Different Data Types in a Function:\n",
        "\n",
        "def process_data(data):\n",
        "    if isinstance(data, int):\n",
        "        print(\"data is an integer:\", data)\n",
        "    elif isinstance(data, str):\n",
        "        print(\"data is a string:\", data)\n",
        "    else:\n",
        "        print(\"data is of unknown type:\", data)\n",
        "\n",
        "process_data(10)   # Output: data is an integer: 10\n",
        "process_data(\"hello\")  # Output: data is a string: hello\n",
        "process_data([1, 2, 3])  # Output: data is of unknown type: [1, 2, 3]\n"
      ],
      "metadata": {
        "colab": {
          "base_uri": "https://localhost:8080/"
        },
        "id": "w9wbVqyiuB4O",
        "outputId": "45a2dfa2-d6b4-49df-8635-8de27a94bad5"
      },
      "execution_count": 103,
      "outputs": [
        {
          "output_type": "stream",
          "name": "stdout",
          "text": [
            "data is an integer: 10\n",
            "data is a string: hello\n",
            "data is of unknown type: [1, 2, 3]\n"
          ]
        }
      ]
    },
    {
      "cell_type": "code",
      "source": [
        "# 3. Handling potential errors during data conversion:\n",
        "\n",
        "user_data = [\"123\", \"hello\", 4.56]\n",
        "\n",
        "# Convert strings to numbers (if possible) with error handling\n",
        "numbers = []\n",
        "for item in user_data:\n",
        "    if not isinstance(item, str):  # Check if it's already a number (avoid conversion errors)\n",
        "        numbers.append(item)\n",
        "    else:\n",
        "        try:\n",
        "            number = float(item)  # Attempt conversion\n",
        "            numbers.append(number)\n",
        "        except ValueError:\n",
        "            print(\"Error converting:\", item)  # Handle conversion failures\n",
        "\n",
        "print(numbers)  # Output: [123.0, 4.56] (assuming only \"123\" and \"4.56\" can be converted)\n"
      ],
      "metadata": {
        "colab": {
          "base_uri": "https://localhost:8080/"
        },
        "id": "li7ZiwL1wekh",
        "outputId": "9099ea5b-840b-4ad2-d941-f587038b5b04"
      },
      "execution_count": 108,
      "outputs": [
        {
          "output_type": "stream",
          "name": "stdout",
          "text": [
            "Error converting: hello\n",
            "[123.0, 4.56]\n"
          ]
        }
      ]
    },
    {
      "cell_type": "code",
      "source": [
        "# 2. Customizing behavior based on object type in a loop:\n",
        "\n",
        "shapes = [Circle(), Square(), Triangle()]\n",
        "\n",
        "for shape in shapes:\n",
        "    if isinstance(shape, Circle):\n",
        "        print(\"Drawing a circle\")\n",
        "        shape.draw()  # Call circle-specific drawing method\n",
        "    elif isinstance(shape, Square):\n",
        "        print(\"Drawing a square\")\n",
        "        shape.draw()  # Call square-specific drawing method\n",
        "    else:\n",
        "        print(\"Unknown shape type:\", type(shape))\n",
        "\n",
        "# Assuming Circle, Square, Triangle classes have draw() methods\n"
      ],
      "metadata": {
        "colab": {
          "base_uri": "https://localhost:8080/",
          "height": 219
        },
        "id": "G88Gm5HhwEbN",
        "outputId": "029a4ad3-fbc6-47c0-aaa3-0963e6fda853"
      },
      "execution_count": 107,
      "outputs": [
        {
          "output_type": "error",
          "ename": "NameError",
          "evalue": "name 'Circle' is not defined",
          "traceback": [
            "\u001b[0;31m---------------------------------------------------------------------------\u001b[0m",
            "\u001b[0;31mNameError\u001b[0m                                 Traceback (most recent call last)",
            "\u001b[0;32m<ipython-input-107-133fdb60a25d>\u001b[0m in \u001b[0;36m<cell line: 3>\u001b[0;34m()\u001b[0m\n\u001b[1;32m      1\u001b[0m \u001b[0;31m# 2. Customizing behavior based on object type in a loop:\u001b[0m\u001b[0;34m\u001b[0m\u001b[0;34m\u001b[0m\u001b[0m\n\u001b[1;32m      2\u001b[0m \u001b[0;34m\u001b[0m\u001b[0m\n\u001b[0;32m----> 3\u001b[0;31m \u001b[0mshapes\u001b[0m \u001b[0;34m=\u001b[0m \u001b[0;34m[\u001b[0m\u001b[0mCircle\u001b[0m\u001b[0;34m(\u001b[0m\u001b[0;34m)\u001b[0m\u001b[0;34m,\u001b[0m \u001b[0mSquare\u001b[0m\u001b[0;34m(\u001b[0m\u001b[0;34m)\u001b[0m\u001b[0;34m,\u001b[0m \u001b[0mTriangle\u001b[0m\u001b[0;34m(\u001b[0m\u001b[0;34m)\u001b[0m\u001b[0;34m]\u001b[0m\u001b[0;34m\u001b[0m\u001b[0;34m\u001b[0m\u001b[0m\n\u001b[0m\u001b[1;32m      4\u001b[0m \u001b[0;34m\u001b[0m\u001b[0m\n\u001b[1;32m      5\u001b[0m \u001b[0;32mfor\u001b[0m \u001b[0mshape\u001b[0m \u001b[0;32min\u001b[0m \u001b[0mshapes\u001b[0m\u001b[0;34m:\u001b[0m\u001b[0;34m\u001b[0m\u001b[0;34m\u001b[0m\u001b[0m\n",
            "\u001b[0;31mNameError\u001b[0m: name 'Circle' is not defined"
          ]
        }
      ]
    },
    {
      "cell_type": "code",
      "source": [
        "# VALIDATING USER INPUT\n",
        "\n",
        "user_input = input(\"Enter a number: \")\n",
        "\n",
        "try:\n",
        "    if not isinstance(user_input, str):  # Check if it's not a string (potential conversion error)\n",
        "        raise ValueError(\"Input must be a number\")\n",
        "    number = int(user_input)  # Convert to int if valid string\n",
        "    print(\"You entered:\", number)\n",
        "except ValueError as e:\n",
        "    print(\"Error:\", e)\n"
      ],
      "metadata": {
        "colab": {
          "base_uri": "https://localhost:8080/"
        },
        "id": "8wpWbFINuydl",
        "outputId": "4bbf1fbb-7f93-4420-f125-b4e9688daed7"
      },
      "execution_count": 104,
      "outputs": [
        {
          "output_type": "stream",
          "name": "stdout",
          "text": [
            "Enter a number: 2\n",
            "You entered: 2\n"
          ]
        }
      ]
    },
    {
      "cell_type": "code",
      "source": [
        "# 4. Checking for Subclasses:\n",
        "\n",
        "class Animal:\n",
        "    pass\n",
        "\n",
        "class Dog(Animal):\n",
        "    pass\n",
        "\n",
        "d = Dog()\n",
        "\n",
        "# Check if d is an instance of Animal (including subclasses)\n",
        "if isinstance(d, Animal):\n",
        "    print(\"d is an Animal\")\n",
        "else:\n",
        "    print(\"d is not an Animal\")  # This won't be printed\n",
        "\n",
        "# Check if d is specifically a Dog instance (not just Animal)\n",
        "if isinstance(d, Dog):\n",
        "    print(\"d is a Dog\")\n",
        "else:\n",
        "    print(\"d is not a Dog\")  # This won't be printed\n"
      ],
      "metadata": {
        "colab": {
          "base_uri": "https://localhost:8080/"
        },
        "id": "tiwkE0znvD7_",
        "outputId": "0e454420-009d-4b20-c52c-04809fe64ec9"
      },
      "execution_count": 105,
      "outputs": [
        {
          "output_type": "stream",
          "name": "stdout",
          "text": [
            "d is an Animal\n",
            "d is a Dog\n"
          ]
        }
      ]
    },
    {
      "cell_type": "markdown",
      "source": [
        "# LAMDA generally used with\n",
        "\n",
        "0. naked just maths\n",
        "1. IF ELSE\n",
        "2. MAP\n",
        "3. FILTER\n",
        "4. REDUCE,\n",
        "5. SORTED,\n",
        "6. APPLY (no apply function just use above in mix and match)\n",
        "\n",
        "\n",
        "\n",
        "```\n",
        "f (function obj that stores result) = lambda (keyword) x,y: (argument) x/y (one line expression applied on argument variable)\n",
        "\n",
        "```\n",
        "\n",
        "\n",
        "\n",
        "* lambda function with a built-in function like map() or filter(), you can perform these operations in a concise and readable way.\n",
        "\n",
        "* LIMITATION :\n",
        "            3. 📚 No documentation: Lambda functions do not support docstrings, which are used to document regular functions. This can make it difficult for others to understand how the function works and how to use it.\n",
        "\n",
        "        4. 🔍 Difficult to debug: Because lambda functions are anonymous and often used as arguments to other functions, it can be difficult to debug them if something goes wrong.\n",
        "\n",
        "        5. 🔒 Limited scope: Lambda functions are defined within the scope of the function that creates them, which means they cannot be accessed outside of that scope.\n",
        "\n"
      ],
      "metadata": {
        "id": "GAxscFhOFPk0"
      }
    },
    {
      "cell_type": "markdown",
      "source": [
        "# 1. IF ELSE in Lamda for ERROR AVOIDANCE`\n",
        " lambda -  If the second number is zero, the function should return \"undefined\"."
      ],
      "metadata": {
        "id": "EwOKF2uzcHrL"
      }
    },
    {
      "cell_type": "code",
      "source": [
        "# IF ELSE in Lamda for ERROR AVOIDANCE\n",
        "divide = lambda x, y: \"undefined\" if y == 0 else x/y\n",
        "\n",
        "print(divide(10, 5))   # Output: 5.0\n",
        "print(divide(10, 0))   # Output: undefined\n"
      ],
      "metadata": {
        "id": "dV68t00FcLzX",
        "colab": {
          "base_uri": "https://localhost:8080/"
        },
        "outputId": "89363735-21e8-4532-eb7f-03482e5b205e"
      },
      "execution_count": 71,
      "outputs": [
        {
          "output_type": "stream",
          "name": "stdout",
          "text": [
            "2.0\n",
            "undefined\n"
          ]
        }
      ]
    },
    {
      "cell_type": "code",
      "source": [
        "# another way of writing condition (using condition in bracket and add x after , ) --> (x % 2 != 0, x)\n",
        "# min and max with lambda for finding the smallest/largest element (with a custom condition):\n",
        "numbers = [1, 4, 2, 8, 5, 3, 6, 7]\n",
        "largest_odd_number = max(numbers, key=lambda x: (x % 2 != 0, x))  # Prioritize odd numbers\n",
        "print(largest_odd_number)  # Output: 7 (assuming 7 is in the original list)"
      ],
      "metadata": {
        "colab": {
          "base_uri": "https://localhost:8080/"
        },
        "id": "vU1bEdDR2oDa",
        "outputId": "605530a3-0c31-4390-8e8e-f7ef3ee5ce83"
      },
      "execution_count": 118,
      "outputs": [
        {
          "output_type": "stream",
          "name": "stdout",
          "text": [
            "7\n"
          ]
        }
      ]
    },
    {
      "cell_type": "markdown",
      "source": [
        "# 2. MAP() in Lamda for ADD\n"
      ],
      "metadata": {
        "id": "MZMODSGLep0e"
      }
    },
    {
      "cell_type": "code",
      "source": [
        "# MAP = 'APPLY' TO ALL\n",
        "numbers=[1,2,3,4,5]\n",
        "doubled_numbers = list(map(lambda i: i*2, numbers))\n",
        "print(doubled_numbers)\n"
      ],
      "metadata": {
        "id": "u79hv6MtRZwj"
      },
      "execution_count": null,
      "outputs": []
    },
    {
      "cell_type": "markdown",
      "source": [
        "# MAP( ) Function = MAPS LAMBDA function to all ELEMENTS OF ITERABLES\n",
        "\n",
        "LIMITATION :\n",
        "\n",
        "\n",
        "1.   💻 Limited support for non-iterable inputs: Mapping functions are designed to work with iterable inputs, such as lists or tuples. If you need to apply a transformation to a non-iterable input, such as a single value, you will need to use a different approach.\n",
        "2.   📉 Performance overhead: Mapping functions can be slower than using a for loop to iterate over an iterable and perform the transformation. This is because creating a new iterable requires allocating memory and copying the elements.\n",
        "3.  🔍 Limited error handling: Mapping functions can be more difficult to debug than a for loop, as they do not provide much information about errors that occur during the transformation process. For example, if a function used in a map raises an exception, it can be difficult to determine which element caused the exception.\n",
        "4.  🚫 No in-place modification: Mapping functions create a new iterable with the transformed elements, rather than modifying the original iterable in place. This means that if you need to modify the original iterable, you will need to use a different approach.\n",
        "\n"
      ],
      "metadata": {
        "id": "e5xBAvbUThad"
      }
    },
    {
      "cell_type": "code",
      "source": [
        "num5 = [1,2,3,4,5]\n",
        "even_num = list(map(lambda x: x % 2 == 0, num5))\n",
        "print(even_num)"
      ],
      "metadata": {
        "colab": {
          "base_uri": "https://localhost:8080/"
        },
        "outputId": "0c85bf22-94eb-4d27-ae11-92ed4ad793c6",
        "id": "cjCRUglbThae"
      },
      "execution_count": null,
      "outputs": [
        {
          "output_type": "stream",
          "name": "stdout",
          "text": [
            "[False, True, False, True, False]\n"
          ]
        }
      ]
    },
    {
      "cell_type": "code",
      "source": [
        "# A list of strings\n",
        "words = [\"apple\", \"banana\", \"cherry\"]\n",
        "\n",
        "# Use map() with len() to calculate lengths\n",
        "lengths = list(map(len, words))\n",
        "\n",
        "# Print the list of lengths\n",
        "print(lengths)\n"
      ],
      "metadata": {
        "colab": {
          "base_uri": "https://localhost:8080/"
        },
        "id": "JqI9bk3mUiFz",
        "outputId": "5036ce92-8b67-4803-bca3-af9006b66ed5"
      },
      "execution_count": null,
      "outputs": [
        {
          "output_type": "stream",
          "name": "stdout",
          "text": [
            "[5, 6, 6]\n"
          ]
        }
      ]
    },
    {
      "cell_type": "code",
      "source": [
        "numbers=[1,2,3,4,5]\n",
        "squared_numbers=list(map( lambda i: i**2,numbers))\n",
        "squared_numbers"
      ],
      "metadata": {
        "colab": {
          "base_uri": "https://localhost:8080/"
        },
        "id": "NlEdRKzoS6Hn",
        "outputId": "213c9447-aecb-4932-b19f-bd3fb9b2e2dd"
      },
      "execution_count": null,
      "outputs": [
        {
          "output_type": "execute_result",
          "data": {
            "text/plain": [
              "[1, 4, 9, 16, 25]"
            ]
          },
          "metadata": {},
          "execution_count": 19
        }
      ]
    },
    {
      "cell_type": "code",
      "source": [
        "words = ['hello', 'world', 'python', 'programming']\n",
        "uppercase_words = list(map(lambda word : word.upper(), words))\n",
        "uppercase_words"
      ],
      "metadata": {
        "colab": {
          "base_uri": "https://localhost:8080/"
        },
        "id": "6Rj3Hg7hR0BP",
        "outputId": "6f5797fd-b9f6-4d5c-f2ba-7b26674a67d2"
      },
      "execution_count": null,
      "outputs": [
        {
          "output_type": "execute_result",
          "data": {
            "text/plain": [
              "['HELLO', 'WORLD', 'PYTHON', 'PROGRAMMING']"
            ]
          },
          "metadata": {},
          "execution_count": 22
        }
      ]
    },
    {
      "cell_type": "markdown",
      "source": [
        "# 3. FILTER( ) Function = REMOVE - FILTER out FALSE 'ELEMENTS OF ITERABLES'"
      ],
      "metadata": {
        "id": "4F5VDhagI0NB"
      }
    },
    {
      "cell_type": "code",
      "source": [
        "# FILTER = 'REMOVE' FROM ALL\n",
        "numbers=[1,2,3,4,5]\n",
        "doubled_numbers2 = list(filter(lambda i: i%2==0, numbers))\n",
        "print(doubled_numbers2)"
      ],
      "metadata": {
        "colab": {
          "base_uri": "https://localhost:8080/"
        },
        "id": "nZtIv5gSe5J5",
        "outputId": "f42bb5c0-be77-492d-d8b1-c1699e1eb149"
      },
      "execution_count": 72,
      "outputs": [
        {
          "output_type": "stream",
          "name": "stdout",
          "text": [
            "[2, 4]\n"
          ]
        }
      ]
    },
    {
      "cell_type": "code",
      "source": [
        "num5 = [1,2,3,4,5]\n",
        "even_num = list(filter(lambda x: x % 2 == 0, num5))\n",
        "print(even_num)"
      ],
      "metadata": {
        "colab": {
          "base_uri": "https://localhost:8080/"
        },
        "id": "t5xpPWyMI1Fk",
        "outputId": "84f8d964-0626-4f48-92a0-be6326bb2535"
      },
      "execution_count": null,
      "outputs": [
        {
          "output_type": "stream",
          "name": "stdout",
          "text": [
            "[2, 4]\n"
          ]
        }
      ]
    },
    {
      "cell_type": "code",
      "source": [
        "#filter with lambda for conditional filtering MIXED DATA:\n",
        "\n",
        "data = [1, 'apple', 3.14, 'banana', 'grapefruit']\n",
        "strings = list(filter(lambda x: isinstance(x, str), data))\n",
        "print(strings)  # Output: ['apple', 'banana', 'grapefruit']\n",
        "\n",
        "intigers = list(filter(lambda x: isinstance(x, int), data))\n",
        "print(intigers)\n",
        "\n",
        "floats = list(filter(lambda x: isinstance(x, float), data))\n",
        "print(floats)"
      ],
      "metadata": {
        "colab": {
          "base_uri": "https://localhost:8080/"
        },
        "id": "B7NBwUcyyyt0",
        "outputId": "9d6aaf96-f092-4444-d418-b4136f5efaee"
      },
      "execution_count": 111,
      "outputs": [
        {
          "output_type": "stream",
          "name": "stdout",
          "text": [
            "['apple', 'banana', 'grapefruit']\n",
            "[1]\n",
            "[3.14]\n"
          ]
        }
      ]
    },
    {
      "cell_type": "markdown",
      "source": [
        "# 4. REDUCE with lambda - doesn't require output to be collected in LIST as output is 1 number"
      ],
      "metadata": {
        "id": "zO9arKwtf3MY"
      }
    },
    {
      "cell_type": "code",
      "source": [
        "from functools import reduce\n",
        "\n",
        "numbers = [1, 2, 3, 4]\n",
        "\n",
        "# Reduce with lambda to find the product\n",
        "result = reduce(lambda x, y: x * y, numbers)\n",
        "\n",
        "print(result)  # Output: 24\n"
      ],
      "metadata": {
        "colab": {
          "base_uri": "https://localhost:8080/"
        },
        "id": "Q0l3Elvyfv-O",
        "outputId": "0d5f4624-1ece-4ae1-9081-3bec54621171"
      },
      "execution_count": 76,
      "outputs": [
        {
          "output_type": "stream",
          "name": "stdout",
          "text": [
            "24\n"
          ]
        }
      ]
    },
    {
      "cell_type": "code",
      "source": [
        "# reduce with lambda for cumulative operations (use with caution):\n",
        "\n",
        "numbers = [1, 2, 3, 4]\n",
        "sum_of_squares = reduce(lambda x, y: x + y**2, numbers)\n",
        "print(sum_of_squares)  # Output: 30 (assuming `reduce` is imported from `functools`)\n"
      ],
      "metadata": {
        "colab": {
          "base_uri": "https://localhost:8080/"
        },
        "id": "cm-BY0oKzl4Z",
        "outputId": "f853bfc5-c6eb-4814-cd4b-14463d2ef640"
      },
      "execution_count": 114,
      "outputs": [
        {
          "output_type": "stream",
          "name": "stdout",
          "text": [
            "30\n"
          ]
        }
      ]
    },
    {
      "cell_type": "markdown",
      "source": [
        "# 5. SORTED with lambda"
      ],
      "metadata": {
        "id": "-QnAygRef-Sp"
      }
    },
    {
      "cell_type": "code",
      "source": [
        "numbers = [3, 1, 4, 5, 2]\n",
        "\n",
        "sorted_numbers = sorted(numbers)  # Reverse the sign for descending order\n",
        "\n",
        "print(sorted_numbers)  # Output: [5, 4, 3, 2, 1]\n",
        "\n",
        "# Sort the list in descending order using a lambda function\n",
        "# LEARN / REMEMBER X : -X --> put the x at the 'last position' '-x' of list\n",
        "sorted_reverse_numbers = sorted(numbers, key=lambda x: -x)  # Reverse the sign for descending order\n",
        "\n",
        "print(sorted_reverse_numbers)  # Output: [5, 4, 3, 2, 1]"
      ],
      "metadata": {
        "colab": {
          "base_uri": "https://localhost:8080/"
        },
        "id": "fIxIkalYgFbT",
        "outputId": "bbaebedd-9aa6-4468-c487-185ccffba0b9"
      },
      "execution_count": 78,
      "outputs": [
        {
          "output_type": "stream",
          "name": "stdout",
          "text": [
            "[1, 2, 3, 4, 5]\n",
            "[5, 4, 3, 2, 1]\n"
          ]
        }
      ]
    },
    {
      "cell_type": "code",
      "source": [
        "# 1. Sort a list of numbers while filtering out even numbers:\n",
        "\n",
        "\n",
        "numbers = [1, 4, 2, 8, 5, 3, 6, 7]\n",
        "\n",
        "# Sort by number (ascending order) while filtering out even numbers\n",
        "sorted_odds = sorted(x for x in numbers if x % 2 != 0)  # List comprehension for filtering\n",
        "\n",
        "print(sorted_odds)  # Output: [1, 3, 5, 7]"
      ],
      "metadata": {
        "colab": {
          "base_uri": "https://localhost:8080/"
        },
        "id": "wgm-J5L7piWf",
        "outputId": "a6498846-a0ca-4305-dd57-03d6f428e742"
      },
      "execution_count": 98,
      "outputs": [
        {
          "output_type": "stream",
          "name": "stdout",
          "text": [
            "[1, 3, 5, 7]\n"
          ]
        }
      ]
    },
    {
      "cell_type": "code",
      "source": [
        "# 2. Sort a list of strings by length (ascending order):\n",
        "words = ['apple', 'banana', 'grapefruit', 'kiwi']\n",
        "\n",
        "# Sort by string length (ascending order)\n",
        "sorted_words = sorted(words, key=lambda x: len(x))\n",
        "\n",
        "print(sorted_words)  # Output: ['kiwi', 'apple', 'grape', 'banana']\n",
        "\n",
        "reverse_sorted_words = sorted(words, key=lambda x: len(x), reverse = True)\n",
        "\n",
        "print(reverse_sorted_words)  # Output: ['kiwi', 'apple', 'grape', 'banana']\n"
      ],
      "metadata": {
        "colab": {
          "base_uri": "https://localhost:8080/"
        },
        "id": "5GcEfQiziGG3",
        "outputId": "e1f6ae57-b6ca-4003-ea77-598844321ace"
      },
      "execution_count": 89,
      "outputs": [
        {
          "output_type": "stream",
          "name": "stdout",
          "text": [
            "['kiwi', 'apple', 'banana', 'grapefruit']\n",
            "['grapefruit', 'banana', 'apple', 'kiwi']\n"
          ]
        }
      ]
    },
    {
      "cell_type": "code",
      "source": [
        "# sorted with lambda for custom sorting criteria:\n",
        "employees = [\n",
        "    {'name': 'Alice', 'age': 30},\n",
        "    {'name': 'Bob', 'age': 25},\n",
        "    {'name': 'Charlie', 'age': 40},\n",
        "]\n",
        "\n",
        "sorted_by_age = sorted(employees, key=lambda x: x['age'])\n",
        "print([emp['name'] for emp in sorted_by_age])  # Output: ['Bob', 'Alice', 'Charlie'] (print names only)\n"
      ],
      "metadata": {
        "colab": {
          "base_uri": "https://localhost:8080/"
        },
        "id": "h1mBcNNK1QJd",
        "outputId": "e6cd5828-2737-474d-9f15-a9a7faf08599"
      },
      "execution_count": 116,
      "outputs": [
        {
          "output_type": "stream",
          "name": "stdout",
          "text": [
            "['Bob', 'Alice', 'Charlie']\n"
          ]
        }
      ]
    },
    {
      "cell_type": "code",
      "source": [
        "# 1. Sort a list of tuples by the second element (descending order):\n",
        "\n",
        "data = [('Alice', 80), ('Bob', 75), ('Charlie', 90), ('Dave', 60)]\n",
        "\n",
        "# Sort by the second element (grade) in descending order\n",
        "# LEARN / REMEMBER X : -X[1] --> put the x at the 'last position' '-x' of list\n",
        "sorted_data = sorted(data, key=lambda x: -x[1])\n",
        "\n",
        "print(sorted_data)  # Output: [('Charlie', 90), ('Alice', 80), ('Bob', 75), ('Dave', 60)]\n"
      ],
      "metadata": {
        "colab": {
          "base_uri": "https://localhost:8080/"
        },
        "id": "1f5H-ftqiUhp",
        "outputId": "b6712935-7be7-4da4-a923-128b62af1f79"
      },
      "execution_count": 80,
      "outputs": [
        {
          "output_type": "stream",
          "name": "stdout",
          "text": [
            "[('Charlie', 90), ('Alice', 80), ('Bob', 75), ('Dave', 60)]\n"
          ]
        }
      ]
    },
    {
      "cell_type": "code",
      "source": [
        "# 3. Sort a list of words by their last character (case-insensitive):\n",
        "\n",
        "words = [\"hello\", \"world\", \"python\", \"lambda\"]\n",
        "\n",
        "# Sort by last character (case-insensitive)\n",
        "sorted_words = sorted(words, key=lambda x: x[-1].lower())\n",
        "\n",
        "print(sorted_words)  # Output: ['hello', 'lambda', 'python', 'world']"
      ],
      "metadata": {
        "colab": {
          "base_uri": "https://localhost:8080/"
        },
        "id": "HjMzlREZoBdm",
        "outputId": "d7112fb9-c724-467b-a3a4-f8363cc33020"
      },
      "execution_count": 96,
      "outputs": [
        {
          "output_type": "stream",
          "name": "stdout",
          "text": [
            "['lambda', 'world', 'python', 'hello']\n"
          ]
        }
      ]
    },
    {
      "cell_type": "code",
      "source": [
        "# 3. Sort a list of mixed data types (cast strings to lowercase before sorting):\n",
        "mixed_list = [10, 'apple', 3.14, 'Banana']\n",
        "\n",
        "# Sort by lowercase string representation (numbers come first)\n",
        "sorted_mixed = sorted(mixed_list, key=lambda x: str(x).lower())\n",
        "\n",
        "print(sorted_mixed)  # Output: [3.14, 10, 'apple', 'Banana']\n"
      ],
      "metadata": {
        "colab": {
          "base_uri": "https://localhost:8080/"
        },
        "id": "t9Y9sHRJir8l",
        "outputId": "33814662-592c-4ed7-f074-0e998224351a"
      },
      "execution_count": 81,
      "outputs": [
        {
          "output_type": "stream",
          "name": "stdout",
          "text": [
            "[10, 3.14, 'apple', 'Banana']\n"
          ]
        }
      ]
    },
    {
      "cell_type": "code",
      "source": [
        "# 2. Sort a list of mixed data types with custom logic (numbers first, then strings by length):\n",
        "\n",
        "mixed_list2 = [3.14, 'apple', 10, 'banana', 'grapefruit']\n",
        "\n",
        "# Sort numbers first, then strings by length (ascending)\n",
        "sorted_mixed = sorted(mixed_list2, key=lambda x: (not isinstance(x, str), len(x) if isinstance(x, str) else float('inf'))) #inf = infinity largest value\n",
        "\n",
        "print(sorted_mixed)  # Output: [3.14, 10, 'apple', 'banana', 'grapefruit']\n"
      ],
      "metadata": {
        "colab": {
          "base_uri": "https://localhost:8080/"
        },
        "id": "4QGz2BWIqOfm",
        "outputId": "463ef5ec-8aa8-4315-e79f-3621893a305e"
      },
      "execution_count": 99,
      "outputs": [
        {
          "output_type": "stream",
          "name": "stdout",
          "text": [
            "['apple', 'banana', 'grapefruit', 3.14, 10]\n"
          ]
        }
      ]
    },
    {
      "cell_type": "code",
      "source": [
        "# 1. Sort a list of dictionaries by a specific key (ascending order):\n",
        "products = [\n",
        "    {\"name\": \"Shirt\", \"price\": 25.99},\n",
        "    {\"name\": \"Hat\", \"price\": 19.50},\n",
        "    {\"name\": \"Shoes\", \"price\": 79.99},\n",
        "]\n",
        "\n",
        "# Sort by price (ascending order)\n",
        "sorted_products = sorted(products, key=lambda x: x[\"price\"])\n",
        "\n",
        "print(sorted_products)  # Output: [{'name': 'Hat', 'price': 19.5}, {'name': 'Shirt', 'price': 25.99}, {'name': 'Shoes', 'price': 79.99}]\n"
      ],
      "metadata": {
        "colab": {
          "base_uri": "https://localhost:8080/"
        },
        "id": "bqS8hItokPbX",
        "outputId": "f17c81b7-a8e8-432f-946c-a2cd72e96290"
      },
      "execution_count": 82,
      "outputs": [
        {
          "output_type": "stream",
          "name": "stdout",
          "text": [
            "[{'name': 'Hat', 'price': 19.5}, {'name': 'Shirt', 'price': 25.99}, {'name': 'Shoes', 'price': 79.99}]\n"
          ]
        }
      ]
    },
    {
      "cell_type": "code",
      "source": [
        "#2a. Sort a list of custom objects by a specific attribute (descending order):\n",
        "\n",
        "# class Employee:\n",
        "#     def __init__(self, name, age):\n",
        "#         self.name = name\n",
        "#         self.age = age\n",
        "\n",
        "employees = [(\"Alice\", 30),(\"Bob\", 25),(\"Charlie\", 40)]\n",
        "\n",
        "# Sort by age (descending order)\n",
        "sorted_employees = sorted(employees, key=lambda x: -x[1])\n",
        "\n",
        "print(sorted_employees)\n",
        "\n",
        "\n",
        "\n",
        "# 2b. Sort a list by ANY custom objects created in CLASS in (any order):\n",
        "\n",
        "class Employee:\n",
        "    def __init__(self, name, age):\n",
        "        self.name = name\n",
        "        self.age = age\n",
        "\n",
        "employees = [\n",
        "    Employee(\"Alice\", 30),\n",
        "    Employee(\"Bob\", 25),\n",
        "    Employee(\"Charlie\", 40),\n",
        "]\n",
        "\n",
        "# Sort by age (descending order)\n",
        "reverse_sorted_employees = sorted(employees, key=lambda x: -x.age)\n",
        "\n",
        "print([emp.name for emp in reverse_sorted_employees])\n",
        "\n",
        "# Sort by age (ascending order)\n",
        "reverse_sorted_employees = sorted(employees, key=lambda x: x.age)\n",
        "\n",
        "print([emp.name for emp in reverse_sorted_employees])"
      ],
      "metadata": {
        "colab": {
          "base_uri": "https://localhost:8080/"
        },
        "id": "oEpvmHq7mCMS",
        "outputId": "67e13f58-1c51-420b-dde1-a0b97e622584"
      },
      "execution_count": 95,
      "outputs": [
        {
          "output_type": "stream",
          "name": "stdout",
          "text": [
            "[('Charlie', 40), ('Alice', 30), ('Bob', 25)]\n",
            "['Charlie', 'Alice', 'Bob']\n",
            "['Bob', 'Alice', 'Charlie']\n"
          ]
        }
      ]
    },
    {
      "cell_type": "markdown",
      "source": [
        "# 6. APPLY with Lambda - no direct apply function but have misc function MIN MAX etc."
      ],
      "metadata": {
        "id": "MIRCETzegFsz"
      }
    },
    {
      "cell_type": "code",
      "source": [
        "#getting the second highest , 3rd highest number using a lambda function in Python:\n",
        "\n",
        "numbers = [5, 10, 4, 2, 7, 8, 1]\n",
        "\n",
        "# Option 1: Using sorted and lambda for removing the maximum\n",
        "\n",
        "highest = max(numbers)\n",
        "second_highest = max(number for number in numbers if number != highest)\n",
        "\n",
        "print(second_highest)  # Output: 8\n",
        "\n",
        "# 3rd Highest: Using sorted with custom key and slicing\n",
        "\n",
        "sorted_numbers = sorted(numbers, reverse=True)  # Sort in descending order\n",
        "second_highest2 = sorted_numbers[2] if len(sorted_numbers) >= 2 else None\n",
        "\n",
        "print(second_highest2)  # Output: 8 (or None if less than 2 elements)\n"
      ],
      "metadata": {
        "colab": {
          "base_uri": "https://localhost:8080/"
        },
        "id": "PkMoCKQO8m16",
        "outputId": "d1c52a3b-7db0-48e4-db21-c85a11062e18"
      },
      "execution_count": 127,
      "outputs": [
        {
          "output_type": "stream",
          "name": "stdout",
          "text": [
            "8\n",
            "7\n"
          ]
        }
      ]
    },
    {
      "cell_type": "code",
      "source": [
        "# min and max with lambda for finding the smallest/largest element (with a custom condition):\n",
        "numbers = [1, 4, 2, 8, 5, 3, 6, 7]\n",
        "largest_odd_number = max(numbers, key=lambda x: (x % 2 != 0, x))  # Prioritize odd numbers\n",
        "print(largest_odd_number)  # Output: 7 (assuming 7 is in the original list)\n"
      ],
      "metadata": {
        "colab": {
          "base_uri": "https://localhost:8080/"
        },
        "id": "kjfbLqeTgMP9",
        "outputId": "48b3fdc5-97ac-4c03-8df7-d76cbafbe96c"
      },
      "execution_count": 117,
      "outputs": [
        {
          "output_type": "stream",
          "name": "stdout",
          "text": [
            "7\n"
          ]
        }
      ]
    },
    {
      "cell_type": "code",
      "source": [
        "#User-defined function with lambda as an argument (higher-order function):\n",
        "\n",
        "def calculate_area(shape, side_lambda):\n",
        "    if shape == 'square':\n",
        "        return side_lambda()**2\n",
        "    elif shape == 'circle':\n",
        "        return 3.14 * side_lambda()**2\n",
        "    else:\n",
        "        raise ValueError(\"Unsupported shape\")\n",
        "\n",
        "area_of_square = calculate_area('square', lambda: 5)\n",
        "print(area_of_square)  # Output: 25\n",
        "\n",
        "area_of_circle = calculate_area('circle', lambda: 3)\n",
        "print(area_of_circle)  # Output: 28.26\n"
      ],
      "metadata": {
        "colab": {
          "base_uri": "https://localhost:8080/"
        },
        "id": "gJSmFLYL5SwT",
        "outputId": "0eeb21a2-4de6-48b7-e425-f23dcf8765a4"
      },
      "execution_count": 124,
      "outputs": [
        {
          "output_type": "stream",
          "name": "stdout",
          "text": [
            "25\n",
            "28.26\n"
          ]
        }
      ]
    },
    {
      "cell_type": "markdown",
      "source": [
        "# LIST COMPREHENSION -\n",
        "\n",
        "# new_list = [expression FOR variable IN iterable]\n",
        "\n",
        "#new_list = [OUTPUT expression (GIVE * FROM X TABLE) FOR item IN range/iterable LIST (WHERE) IF condition]\n",
        "# similar to SQL SYNTAX\n"
      ],
      "metadata": {
        "id": "7hW4k1hlFJQs"
      }
    },
    {
      "cell_type": "code",
      "source": [
        "square2 = [i ** 2 for i in range(1,10) ]\n",
        "print(square2)\n",
        "\n",
        "square1_IF = [i ** 2 for i in range(1,10) if i % 2 == 0 ]\n",
        "print(square1)"
      ],
      "metadata": {
        "colab": {
          "base_uri": "https://localhost:8080/"
        },
        "id": "lZ3mYWWdIkgR",
        "outputId": "c3424127-6234-41cf-9acf-4458bdc5693d"
      },
      "execution_count": null,
      "outputs": [
        {
          "output_type": "stream",
          "name": "stdout",
          "text": [
            "[1, 4, 9, 16, 25, 36, 49, 64, 81]\n",
            "[4, 16, 36, 64]\n"
          ]
        }
      ]
    },
    {
      "cell_type": "code",
      "source": [
        "my_string = \"how r you\"\n",
        "k = [i for i in my_string if i not in \"aeiou\"]\n",
        "print(k)"
      ],
      "metadata": {
        "colab": {
          "base_uri": "https://localhost:8080/"
        },
        "id": "bB86X0BeTblb",
        "outputId": "b58f953f-a76e-472c-ecd3-3838be5ce51c"
      },
      "execution_count": 142,
      "outputs": [
        {
          "output_type": "stream",
          "name": "stdout",
          "text": [
            "['h', 'w', ' ', 'r', ' ', 'y']\n"
          ]
        }
      ]
    },
    {
      "cell_type": "code",
      "source": [
        "vowels = [char for char in \"hello world\" if char in \"aeiou\"]\n",
        "print(vowels)"
      ],
      "metadata": {
        "colab": {
          "base_uri": "https://localhost:8080/"
        },
        "id": "Nc-lLCIIpvn3",
        "outputId": "0d9c4612-6891-484e-8403-ccba90f62dfe"
      },
      "execution_count": 3,
      "outputs": [
        {
          "output_type": "stream",
          "name": "stdout",
          "text": [
            "['e', 'o', 'o']\n"
          ]
        }
      ]
    },
    {
      "cell_type": "code",
      "source": [
        "# List comprehension with lambda for concise transformations:\n",
        "words = ['hello', 'world', 'python']\n",
        "uppercased_words = [word.upper() for word in words]\n",
        "print(uppercased_words)  # Output: ['HELLO', 'WORLD', 'PYTHON']\n"
      ],
      "metadata": {
        "colab": {
          "base_uri": "https://localhost:8080/"
        },
        "id": "ATw61lIC0pxn",
        "outputId": "ce6b7208-e997-4696-ae64-7b60e932afb0"
      },
      "execution_count": 115,
      "outputs": [
        {
          "output_type": "stream",
          "name": "stdout",
          "text": [
            "['HELLO', 'WORLD', 'PYTHON']\n"
          ]
        }
      ]
    },
    {
      "cell_type": "code",
      "source": [
        "string1 = \"hello\"\n",
        "string2 = \"world\"\n",
        "common_chars = [char for char in string1 for char2 in string2 if char == char2]\n",
        "print(common_chars)"
      ],
      "metadata": {
        "colab": {
          "base_uri": "https://localhost:8080/"
        },
        "id": "7lGO3qpgqjEg",
        "outputId": "c64fcac8-d91c-4b90-cb10-19b74193b521"
      },
      "execution_count": 4,
      "outputs": [
        {
          "output_type": "stream",
          "name": "stdout",
          "text": [
            "['l', 'l', 'o']\n"
          ]
        }
      ]
    },
    {
      "cell_type": "code",
      "source": [
        "string3 = [1,1,1,2,3,4,5,6,7,8,9,10,10,10]\n",
        "string4 = [6,7,8,9,10]\n",
        "all_common_chars2 = [char for char in string3 for char2 in string4 if char == char2]\n",
        "print(all_common_chars2)"
      ],
      "metadata": {
        "colab": {
          "base_uri": "https://localhost:8080/"
        },
        "id": "9z3ptGTptZVQ",
        "outputId": "0caea200-c85a-4679-daeb-eb3296175fde"
      },
      "execution_count": 7,
      "outputs": [
        {
          "output_type": "stream",
          "name": "stdout",
          "text": [
            "[6, 7, 8, 9, 10, 10, 10]\n"
          ]
        }
      ]
    },
    {
      "cell_type": "code",
      "source": [
        "my_string = \"hello world\"\n",
        "k = [(i.upper(), len(i)) for i in my_string]\n",
        "print(k)"
      ],
      "metadata": {
        "colab": {
          "base_uri": "https://localhost:8080/"
        },
        "id": "3JloXYNXUq8u",
        "outputId": "097eb65b-406f-4ae7-8afa-ef12c7fc8f4a"
      },
      "execution_count": 145,
      "outputs": [
        {
          "output_type": "stream",
          "name": "stdout",
          "text": [
            "[('H', 1), ('E', 1), ('L', 1), ('L', 1), ('O', 1), (' ', 1), ('W', 1), ('O', 1), ('R', 1), ('L', 1), ('D', 1)]\n"
          ]
        }
      ]
    },
    {
      "cell_type": "markdown",
      "source": [
        "# Nested List Comprehension = PERMUTATION & COMBINATION  - create more complex structures"
      ],
      "metadata": {
        "id": "bWXVC0N0Op9F"
      }
    },
    {
      "cell_type": "code",
      "source": [
        "print([i+j for i in \"abc\" for j in \"def\"])"
      ],
      "metadata": {
        "colab": {
          "base_uri": "https://localhost:8080/"
        },
        "id": "f2XJjIdGUM-j",
        "outputId": "5a382f51-dee1-44f9-f656-cf64f5b34913"
      },
      "execution_count": 144,
      "outputs": [
        {
          "output_type": "stream",
          "name": "stdout",
          "text": [
            "['ad', 'ae', 'af', 'bd', 'be', 'bf', 'cd', 'ce', 'cf']\n"
          ]
        }
      ]
    },
    {
      "cell_type": "code",
      "source": [
        "print([[i+j for i in \"abc\"] for j in \"def\"])"
      ],
      "metadata": {
        "colab": {
          "base_uri": "https://localhost:8080/"
        },
        "id": "rEsviMEuUFoR",
        "outputId": "2613d712-0b58-4212-d7e1-c60e3ca6391e"
      },
      "execution_count": 143,
      "outputs": [
        {
          "output_type": "stream",
          "name": "stdout",
          "text": [
            "[['ad', 'bd', 'cd'], ['ae', 'be', 'ce'], ['af', 'bf', 'cf']]\n"
          ]
        }
      ]
    },
    {
      "cell_type": "code",
      "source": [
        "#  list of all pairs of numbers where the first number is even and the second number is odd..\n",
        "# result is a list of tuples, each containing an even number and an odd number.\n",
        "\n",
        "pairs = [(i, j) for i in range(1, 6) if i % 2 == 0 for j in range(1, 6) if j % 2 == 1]\n",
        "print(pairs)"
      ],
      "metadata": {
        "colab": {
          "base_uri": "https://localhost:8080/"
        },
        "id": "69C3vjsEOy5E",
        "outputId": "dd5459c6-3168-443d-f623-153fedde665e"
      },
      "execution_count": null,
      "outputs": [
        {
          "output_type": "stream",
          "name": "stdout",
          "text": [
            "[(2, 1), (2, 3), (2, 5), (4, 1), (4, 3), (4, 5)]\n"
          ]
        }
      ]
    },
    {
      "cell_type": "code",
      "source": [
        "books = [('fiction', 20), ('history', 9) ,('history', 15), ('biography', 5), ('mystery', 10), ('science', 8), ('fiction', 15), ('history', 10)]\n",
        "\n",
        "# Using set comprehension to create a set of book categories with at least 10 books in stock\n",
        "\n",
        "morethanten_categories = [i for i, j in books if j >= 10]\n",
        "\n",
        "print(morethanten_categories)"
      ],
      "metadata": {
        "colab": {
          "base_uri": "https://localhost:8080/"
        },
        "id": "ukJoVdvwwY2i",
        "outputId": "6674042e-d306-4887-ff4e-4c75a9761b5e"
      },
      "execution_count": 11,
      "outputs": [
        {
          "output_type": "stream",
          "name": "stdout",
          "text": [
            "['fiction', 'history', 'mystery', 'fiction', 'history']\n"
          ]
        }
      ]
    },
    {
      "cell_type": "markdown",
      "source": [
        "# SET COMPREHENSION\n",
        "* one or more set comprehensions inside another set comprehension. This allows you to create sets within sets, resulting in a nested data structure\n",
        "* used with any data type, not just numerical data. They can be applied to strings, tuples, dictionaries, or any other data type that supports iteration."
      ],
      "metadata": {
        "id": "GY0WDULCuLZw"
      }
    },
    {
      "cell_type": "code",
      "source": [
        "s = {x.upper() for x in {'Apple', 'Banana', 'Cherry'}}\n",
        "print(s)"
      ],
      "metadata": {
        "colab": {
          "base_uri": "https://localhost:8080/"
        },
        "id": "b-1K36NgS6O9",
        "outputId": "c05cd9dc-8192-4a9c-c107-a2cc5fb3c5cb"
      },
      "execution_count": 140,
      "outputs": [
        {
          "output_type": "stream",
          "name": "stdout",
          "text": [
            "{'BANANA', 'APPLE', 'CHERRY'}\n"
          ]
        }
      ]
    },
    {
      "cell_type": "code",
      "source": [
        "# new_set = {expression FOR item IN iterable IF condition}\n",
        "\n",
        "unique_vowels = set()\n",
        "for char in \"hello world\":\n",
        "    if char in \"aeiou\":\n",
        "        unique_vowels.add(char)\n",
        "print(unique_vowels)\n",
        "\n",
        "unique_vowels2 = {char for char in \"hello world\" if char in \"aeiou\"}\n",
        "print(unique_vowels2)"
      ],
      "metadata": {
        "colab": {
          "base_uri": "https://localhost:8080/"
        },
        "id": "fiiJ8CFui2C5",
        "outputId": "3236d73a-e514-4b95-e35c-1386f2a936a7"
      },
      "execution_count": null,
      "outputs": [
        {
          "output_type": "stream",
          "name": "stdout",
          "text": [
            "{'o', 'e'}\n",
            "{'o', 'e'}\n"
          ]
        }
      ]
    },
    {
      "cell_type": "code",
      "source": [
        "# Nested Set Comprehension\n",
        "\n",
        "string1 = \"hello\"\n",
        "string2 = \"world\"\n",
        "unique_chars = {char for char in string1 for char2 in string2 if char == char2}\n",
        "print(unique_chars)\n",
        "\n",
        "string3 = {1,2,3,4,5,6,7,8,9,10}\n",
        "string4 = {6,7,8,9,10}\n",
        "unique_chars2 = {char for char in string3 for char2 in string4 if char == char2}\n",
        "print(unique_chars2)"
      ],
      "metadata": {
        "id": "iEZneyimjyV-",
        "colab": {
          "base_uri": "https://localhost:8080/"
        },
        "outputId": "de4cb363-f22c-4263-a41f-0f55efc3a6df"
      },
      "execution_count": 5,
      "outputs": [
        {
          "output_type": "stream",
          "name": "stdout",
          "text": [
            "{'l', 'o'}\n",
            "{6, 7, 8, 9, 10}\n"
          ]
        }
      ]
    },
    {
      "cell_type": "code",
      "source": [
        "books = [('fiction', 20), ('history', 9) ,('history', 15), ('biography', 5), ('mystery', 10), ('science', 8), ('fiction', 15), ('history', 10)]\n",
        "\n",
        "# Using set comprehension to create a set of book categories with at least 10 books in stock\n",
        "\n",
        "unique_morethanten_categories = {i for i, j in books if j >= 10}\n",
        "\n",
        "print(unique_morethanten_categories)"
      ],
      "metadata": {
        "colab": {
          "base_uri": "https://localhost:8080/"
        },
        "id": "1B8mAyItuVJG",
        "outputId": "60c522ba-56a8-434d-e07a-0aee09c0e6eb"
      },
      "execution_count": 10,
      "outputs": [
        {
          "output_type": "stream",
          "name": "stdout",
          "text": [
            "{'fiction', 'history', 'mystery'}\n"
          ]
        }
      ]
    },
    {
      "cell_type": "markdown",
      "source": [
        "# 3. Dictionary Comprehension - {x: x2 for x in range(10)}\n",
        "* create a new dictionary by specifying a set of key-value pairs and an optional condition, all in a single line of code.\n",
        "* {key_expression: Output value_expression for item in iterable if condition}\n",
        "\n",
        "\n",
        "```\n",
        "key_expression: This is the expression that generates the keys of the dictionary.\n",
        "\n",
        "value_expression: This is the expression that generates the values of the dictionary.\n",
        "\n",
        "item: This is the variable that represents each item in the iterable (e.g., list, tuple, set, etc.).\n",
        "\n",
        "iterable: This is the collection of items that the dictionary comprehension iterates over.\n",
        "\n",
        "condition: This is an optional expression that filters the items in the iterable based on a certain condition.\n",
        "```\n",
        "\n"
      ],
      "metadata": {
        "id": "3dmETV5vuP_4"
      }
    },
    {
      "cell_type": "code",
      "source": [
        "# create a dictionary where the keys are the names and the values are the lengths of the names\n",
        "names = ['Alice', 'Bob', 'Charlie', 'Dave']\n",
        "dict2 = {i : len(i) for i in names} # use ' : ' instead of ' = ' for creating dictionary j element.\n",
        "dict2"
      ],
      "metadata": {
        "colab": {
          "base_uri": "https://localhost:8080/"
        },
        "id": "APYMPZJ1CoPU",
        "outputId": "8ddb7e90-1791-45d2-aaf8-de2e432575ca"
      },
      "execution_count": 17,
      "outputs": [
        {
          "output_type": "execute_result",
          "data": {
            "text/plain": [
              "{'Alice': 5, 'Bob': 3, 'Charlie': 7, 'Dave': 4}"
            ]
          },
          "metadata": {},
          "execution_count": 17
        }
      ]
    },
    {
      "cell_type": "code",
      "source": [
        "# iterable based on a certain condition.\n",
        "\n",
        "# new dictionary that only includes students who received a passing grade (i.e., grade >= 60)\n",
        "\n",
        "grades = {'Alice': 80, 'Bob': 55, 'Charlie': 75, 'Dave': 90}\n",
        "\n",
        "passing_grades = {}\n",
        "for name, grade in grades.items():  # Use items() for key-value pairs\n",
        "    if grade >= 60:\n",
        "        passing_grades[name] = grade\n",
        "print(passing_grades)\n",
        "\n",
        "#way of capturing output is different\n",
        "# instead of creating empty dictionary and putting output in it, we create filled output & write 'dict output syntax at beginning'\n",
        "passing_grades2 = {name: grade for name, grade in grades.items() if grade >= 60}\n",
        "print(passing_grades2)"
      ],
      "metadata": {
        "colab": {
          "base_uri": "https://localhost:8080/"
        },
        "id": "ow4_RGH9EFp5",
        "outputId": "08f27f07-ac8c-4f48-ac25-022d8b732864"
      },
      "execution_count": 25,
      "outputs": [
        {
          "output_type": "stream",
          "name": "stdout",
          "text": [
            "{'Alice': 80, 'Charlie': 75, 'Dave': 90}\n",
            "{'Alice': 80, 'Charlie': 75, 'Dave': 90}\n"
          ]
        }
      ]
    },
    {
      "cell_type": "code",
      "source": [
        "people = {'Alice': 25, 'Bob': 17, 'Charlie': 20, 'David': 30, 'Eve': 16}\n",
        "\n",
        "# Using dictionary comprehension to filter names of people who are over 18 years old\n",
        "adults = {name: age for name, age in people.items() if age > 18}\n",
        "\n",
        "print(adults)"
      ],
      "metadata": {
        "colab": {
          "base_uri": "https://localhost:8080/"
        },
        "id": "Dk7baHNqIGkl",
        "outputId": "69f6ce36-5fe3-4e88-a21a-b7bb8d8ebf29"
      },
      "execution_count": 26,
      "outputs": [
        {
          "output_type": "stream",
          "name": "stdout",
          "text": [
            "{'Alice': 25, 'Charlie': 20, 'David': 30}\n"
          ]
        }
      ]
    },
    {
      "cell_type": "code",
      "source": [
        "y={x: x**2 for x in range(5)}\n",
        "y"
      ],
      "metadata": {
        "colab": {
          "base_uri": "https://localhost:8080/"
        },
        "id": "lJ1LxEHtIOmD",
        "outputId": "cb9a91ed-efc7-4947-c488-7c5d262958cf"
      },
      "execution_count": 28,
      "outputs": [
        {
          "output_type": "execute_result",
          "data": {
            "text/plain": [
              "{0: 0, 1: 1, 2: 4, 3: 9, 4: 16}"
            ]
          },
          "metadata": {},
          "execution_count": 28
        }
      ]
    },
    {
      "cell_type": "code",
      "source": [
        "y = {x: x**2 for x in [1, 2, 3, 4, 5]}\n",
        "y"
      ],
      "metadata": {
        "colab": {
          "base_uri": "https://localhost:8080/"
        },
        "id": "ULj6Osi6IYaM",
        "outputId": "4b01c750-c167-4a84-a4c1-0259433e3d13"
      },
      "execution_count": 29,
      "outputs": [
        {
          "output_type": "execute_result",
          "data": {
            "text/plain": [
              "{1: 1, 2: 4, 3: 9, 4: 16, 5: 25}"
            ]
          },
          "metadata": {},
          "execution_count": 29
        }
      ]
    },
    {
      "cell_type": "code",
      "source": [
        "y = {x: x**2 for x in [1, 2, 3, 4, 5] if x % 2 == 0}\n",
        "y"
      ],
      "metadata": {
        "colab": {
          "base_uri": "https://localhost:8080/"
        },
        "id": "awuF1UhiIimO",
        "outputId": "b7b5b780-db1c-454b-e309-1bacf2158db3"
      },
      "execution_count": 30,
      "outputs": [
        {
          "output_type": "execute_result",
          "data": {
            "text/plain": [
              "{2: 4, 4: 16}"
            ]
          },
          "metadata": {},
          "execution_count": 30
        }
      ]
    },
    {
      "cell_type": "code",
      "source": [
        "y = {x, x**2 for x in range(5)} # not put , but :\n",
        "y"
      ],
      "metadata": {
        "colab": {
          "base_uri": "https://localhost:8080/",
          "height": 110
        },
        "id": "AxrLHQqYIyBS",
        "outputId": "43bad2e4-09fd-4219-c5de-74202e6055ff"
      },
      "execution_count": 33,
      "outputs": [
        {
          "output_type": "error",
          "ename": "SyntaxError",
          "evalue": "did you forget parentheses around the comprehension target? (<ipython-input-33-b58154627339>, line 1)",
          "traceback": [
            "\u001b[0;36m  File \u001b[0;32m\"<ipython-input-33-b58154627339>\"\u001b[0;36m, line \u001b[0;32m1\u001b[0m\n\u001b[0;31m    y = {x, x**2 for x in range(5)}\u001b[0m\n\u001b[0m         ^\u001b[0m\n\u001b[0;31mSyntaxError\u001b[0m\u001b[0;31m:\u001b[0m did you forget parentheses around the comprehension target?\n"
          ]
        }
      ]
    },
    {
      "cell_type": "code",
      "source": [
        "y = {x: x2 for x in range(1, 5)}\n",
        "y"
      ],
      "metadata": {
        "colab": {
          "base_uri": "https://localhost:8080/",
          "height": 237
        },
        "id": "1ouowPoMJPHS",
        "outputId": "59131a7e-1c34-4bda-cb9a-41c2f7a1aad5"
      },
      "execution_count": 35,
      "outputs": [
        {
          "output_type": "error",
          "ename": "NameError",
          "evalue": "name 'x2' is not defined",
          "traceback": [
            "\u001b[0;31m---------------------------------------------------------------------------\u001b[0m",
            "\u001b[0;31mNameError\u001b[0m                                 Traceback (most recent call last)",
            "\u001b[0;32m<ipython-input-35-206568f01ed0>\u001b[0m in \u001b[0;36m<cell line: 1>\u001b[0;34m()\u001b[0m\n\u001b[0;32m----> 1\u001b[0;31m \u001b[0my\u001b[0m \u001b[0;34m=\u001b[0m \u001b[0;34m{\u001b[0m\u001b[0mx\u001b[0m\u001b[0;34m:\u001b[0m \u001b[0mx2\u001b[0m \u001b[0;32mfor\u001b[0m \u001b[0mx\u001b[0m \u001b[0;32min\u001b[0m \u001b[0mrange\u001b[0m\u001b[0;34m(\u001b[0m\u001b[0;36m1\u001b[0m\u001b[0;34m,\u001b[0m \u001b[0;36m5\u001b[0m\u001b[0;34m)\u001b[0m\u001b[0;34m}\u001b[0m\u001b[0;34m\u001b[0m\u001b[0;34m\u001b[0m\u001b[0m\n\u001b[0m\u001b[1;32m      2\u001b[0m \u001b[0my\u001b[0m\u001b[0;34m\u001b[0m\u001b[0;34m\u001b[0m\u001b[0m\n",
            "\u001b[0;32m<ipython-input-35-206568f01ed0>\u001b[0m in \u001b[0;36m<dictcomp>\u001b[0;34m(.0)\u001b[0m\n\u001b[0;32m----> 1\u001b[0;31m \u001b[0my\u001b[0m \u001b[0;34m=\u001b[0m \u001b[0;34m{\u001b[0m\u001b[0mx\u001b[0m\u001b[0;34m:\u001b[0m \u001b[0mx2\u001b[0m \u001b[0;32mfor\u001b[0m \u001b[0mx\u001b[0m \u001b[0;32min\u001b[0m \u001b[0mrange\u001b[0m\u001b[0;34m(\u001b[0m\u001b[0;36m1\u001b[0m\u001b[0;34m,\u001b[0m \u001b[0;36m5\u001b[0m\u001b[0;34m)\u001b[0m\u001b[0;34m}\u001b[0m\u001b[0;34m\u001b[0m\u001b[0;34m\u001b[0m\u001b[0m\n\u001b[0m\u001b[1;32m      2\u001b[0m \u001b[0my\u001b[0m\u001b[0;34m\u001b[0m\u001b[0;34m\u001b[0m\u001b[0m\n",
            "\u001b[0;31mNameError\u001b[0m: name 'x2' is not defined"
          ]
        }
      ]
    },
    {
      "cell_type": "code",
      "source": [
        "new_dict = {x: x**2 for x in [1, 2, 3, 4, 5] if x < 3, y: y*3 for y in range(3)}\n",
        "new_dict"
      ],
      "metadata": {
        "colab": {
          "base_uri": "https://localhost:8080/",
          "height": 110
        },
        "id": "1Al5dylnJkXM",
        "outputId": "7923eba4-256c-4660-fd3d-63cbdcff783d"
      },
      "execution_count": 40,
      "outputs": [
        {
          "output_type": "error",
          "ename": "SyntaxError",
          "evalue": "invalid syntax (<ipython-input-40-500ca917c88a>, line 1)",
          "traceback": [
            "\u001b[0;36m  File \u001b[0;32m\"<ipython-input-40-500ca917c88a>\"\u001b[0;36m, line \u001b[0;32m1\u001b[0m\n\u001b[0;31m    new_dict = {x: x**2 for x in [1, 2, 3, 4, 5] if x < 3, y: y*3 for y in range(3)}\u001b[0m\n\u001b[0m                                                         ^\u001b[0m\n\u001b[0;31mSyntaxError\u001b[0m\u001b[0;31m:\u001b[0m invalid syntax\n"
          ]
        }
      ]
    },
    {
      "cell_type": "code",
      "source": [
        "#Union of 2 dict take value from 2nd dictionary which have common key\n",
        "new_dict = {y: y*0 for y in range(5)} | {x: x**2 for x in range(7) if x >= 3}\n",
        "new_dict"
      ],
      "metadata": {
        "colab": {
          "base_uri": "https://localhost:8080/"
        },
        "id": "ySwxRETxKr_z",
        "outputId": "9b0f598d-4e06-4c83-dffa-f49e54ca688d"
      },
      "execution_count": 50,
      "outputs": [
        {
          "output_type": "execute_result",
          "data": {
            "text/plain": [
              "{0: 0, 1: 0, 2: 0, 3: 9, 4: 16, 5: 25, 6: 36}"
            ]
          },
          "metadata": {},
          "execution_count": 50
        }
      ]
    },
    {
      "cell_type": "code",
      "source": [
        "y = {x: x**2 for x in range(5) if x % 2 == 0 else x**3} # CAN'T GIVE 'ELSE' IN DICTIONARY COMPREHENSION at END\n",
        "print(y)"
      ],
      "metadata": {
        "id": "8XNqnZGjPPVh"
      },
      "execution_count": null,
      "outputs": []
    },
    {
      "cell_type": "code",
      "source": [
        "# 2 CONDITION = CAN USE 'ELSE' IN DICTIONARY COMPREHENSION at BEGINNING LIKE - LIST COMPREHENSION\n",
        "result = {x: x**2 if x % 2 == 0 else x**3 for x in range(5)}\n",
        "print(result)"
      ],
      "metadata": {
        "colab": {
          "base_uri": "https://localhost:8080/"
        },
        "id": "bPJRAsngOMbX",
        "outputId": "3202ad38-bd1e-4966-b69f-ffa139962ce6"
      },
      "execution_count": 55,
      "outputs": [
        {
          "output_type": "stream",
          "name": "stdout",
          "text": [
            "{0: 0, 1: 1, 2: 4, 3: 27, 4: 16}\n"
          ]
        }
      ]
    },
    {
      "cell_type": "code",
      "source": [
        "# 2 CONDITION = CAN USE 'ELSE' IN LIST COMPREHENSION at BEGINNING\n",
        "# BUT 'NOT' AT THE END WITH 'END IF'\n",
        "result = [x*10 if x % 2 == 0 else x*100 for x in range(5)]\n",
        "print(result)"
      ],
      "metadata": {
        "colab": {
          "base_uri": "https://localhost:8080/"
        },
        "id": "vNLzBiBQQ-Ue",
        "outputId": "324c2fcc-0a38-4329-fda4-7e9b3cf7b044"
      },
      "execution_count": 56,
      "outputs": [
        {
          "output_type": "stream",
          "name": "stdout",
          "text": [
            "[0, 100, 20, 300, 40]\n"
          ]
        }
      ]
    },
    {
      "cell_type": "code",
      "source": [
        "z = {x: x*100 for x in [1, 2, 3, 4, 5] for y in range(8)} # 'for y in range(8)' doesn't gets executed since no : defined but doesn't throw error\n",
        "z"
      ],
      "metadata": {
        "colab": {
          "base_uri": "https://localhost:8080/"
        },
        "id": "XP6-2vJXRAer",
        "outputId": "7d3912d0-b1dd-4f89-e25a-26eb2fc3aca5"
      },
      "execution_count": 62,
      "outputs": [
        {
          "output_type": "execute_result",
          "data": {
            "text/plain": [
              "{1: 100, 2: 200, 3: 300, 4: 400, 5: 500}"
            ]
          },
          "metadata": {},
          "execution_count": 62
        }
      ]
    },
    {
      "cell_type": "markdown",
      "source": [
        "#### **Generator Expressions:**\n",
        "\n",
        "  - Generator expressions are similar to list comprehensions, but they generate values on-the-fly rather than creating a new list. This makes them memory-efficient when dealing with large datasets. They are denoted by parentheses instead of square brackets."
      ],
      "metadata": {
        "id": "Hs1o6c6SUwvX"
      }
    },
    {
      "cell_type": "code",
      "source": [
        "# GET OUTPUT 1 BY 1 WITH HELP OF 'NEXT' ON 'LIST COMPREHENSION'\n",
        "numbers = [1, 2, 3, 4, 5]\n",
        "squared_numbers = (num**2 for num in numbers)\n",
        "\n",
        "print(next(squared_numbers))  # Output: 1\n",
        "print(next(squared_numbers))  # Output: 4\n",
        "\n",
        "print(list(squared_numbers))"
      ],
      "metadata": {
        "id": "s4mpMmBLcC_3",
        "colab": {
          "base_uri": "https://localhost:8080/"
        },
        "outputId": "4fc93326-7ab3-40c4-da7a-c7cfb5f5f5c5"
      },
      "execution_count": 68,
      "outputs": [
        {
          "output_type": "stream",
          "name": "stdout",
          "text": [
            "1\n",
            "4\n",
            "[9, 16, 25]\n"
          ]
        }
      ]
    },
    {
      "cell_type": "markdown",
      "source": [
        "#### **Enumerate Function:**\n",
        "\n",
        "  - The \"enumerate()\" function is a powerful tool that simplifies looping over iterable objects, such as lists or strings. It returns a tuple containing the index and the corresponding value for each element in the sequence. This allows you to access both the index and the element during iteration, making code more concise and readable."
      ],
      "metadata": {
        "id": "J8r0d8LHUdJ7"
      }
    },
    {
      "cell_type": "code",
      "source": [
        "fruits = ['apple', 'banana', 'orange']\n",
        "for index, fruit in enumerate(fruits):\n",
        "    print(f\"{index} {fruit}\")\n"
      ],
      "metadata": {
        "id": "UWoI6Pslbtb8",
        "colab": {
          "base_uri": "https://localhost:8080/"
        },
        "outputId": "18297677-f277-4ded-a81f-4b2d01fa7261"
      },
      "execution_count": null,
      "outputs": [
        {
          "output_type": "stream",
          "name": "stdout",
          "text": [
            "0 apple\n",
            "1 banana\n",
            "2 orange\n"
          ]
        }
      ]
    },
    {
      "cell_type": "code",
      "source": [
        "# enumerate with lambda for processing elements with their index:\n",
        "data = ['apple', 'banana', 'cherry']\n",
        "indexed_data = list(enumerate(data, start=1))  # Start index at 1\n",
        "print(indexed_data)  # Output: [(1, 'apple'), (2, 'banana'), (3, 'cherry')]\n"
      ],
      "metadata": {
        "colab": {
          "base_uri": "https://localhost:8080/"
        },
        "id": "nnLVLwW93HvD",
        "outputId": "73e354fe-9194-405f-b628-9c2af2f31209"
      },
      "execution_count": 119,
      "outputs": [
        {
          "output_type": "stream",
          "name": "stdout",
          "text": [
            "[(1, 'apple'), (2, 'banana'), (3, 'cherry')]\n"
          ]
        }
      ]
    },
    {
      "cell_type": "markdown",
      "source": [
        "#### **Zip Function:**\n",
        "\n",
        "  - The \"zip()\" function is used to combine multiple iterables into a single iterable of tuples. It pairs elements from different sequences based on their index. This is particularly useful when you want to loop through multiple lists or strings simultaneously."
      ],
      "metadata": {
        "id": "9zP5rwmkUwn5"
      }
    },
    {
      "cell_type": "code",
      "source": [
        "names = ['Alice', 'Bob', 'Charlie']\n",
        "scores = [85, 92, 78]\n",
        "for name, score in zip(names, scores):\n",
        "    print(f\"{name} {score}\")\n"
      ],
      "metadata": {
        "id": "jJEbF6DWb5DK",
        "colab": {
          "base_uri": "https://localhost:8080/"
        },
        "outputId": "4254dae4-101d-4508-a6de-aa39427c88cb"
      },
      "execution_count": 70,
      "outputs": [
        {
          "output_type": "stream",
          "name": "stdout",
          "text": [
            "Alice 85\n",
            "Bob 92\n",
            "Charlie 78\n"
          ]
        }
      ]
    },
    {
      "cell_type": "code",
      "source": [
        "#zip with lambda for combining elements from multiple iterables (with a conditional filter):\n",
        "names = ['Alice', 'Bob', 'Charlie']\n",
        "ages = [30, 25, 40]\n",
        "\n",
        "filtered_pairs = list(zip(names, filter(lambda x: x > 28, ages)))\n",
        "print(filtered_pairs)\n"
      ],
      "metadata": {
        "colab": {
          "base_uri": "https://localhost:8080/"
        },
        "id": "hOQyDqK73jX1",
        "outputId": "f80b6788-77a6-4a27-f31d-3aa58dcb41e6"
      },
      "execution_count": 123,
      "outputs": [
        {
          "output_type": "stream",
          "name": "stdout",
          "text": [
            "[('Alice', 30), ('Bob', 40)]\n"
          ]
        }
      ]
    },
    {
      "cell_type": "markdown",
      "source": [
        "# problems"
      ],
      "metadata": {
        "id": "9WZfUOzAFQ-Z"
      }
    },
    {
      "cell_type": "markdown",
      "source": [
        "\n",
        "\n",
        "```\n",
        "When we work on Data Science projects, we start with Data Cleaning i.e removing all rows where the features have NA/None values. This is done to achieve maximum accuracy from our prediction models. So,\n",
        "\n",
        "write a Python program to remove None value from a given list. (Using list comprehension)\n",
        "\n",
        "Example 1:\n",
        "Input:\n",
        "[12, 0, None, 23, None, -55, 234, 89, None, 0, 6, -12]\n",
        "\n",
        "Output:\n",
        "[12, 0, 23, -55, 234, 89, 0, 6, -12]\n",
        "\n",
        "nums = eval(input())\n",
        "```\n",
        "\n"
      ],
      "metadata": {
        "id": "4YEJvh7GFXG2"
      }
    },
    {
      "cell_type": "code",
      "source": [
        "nums = [12, 0, None, 23, None, -55, 234, 89, None, 0, 6, -12]\n",
        "\n",
        "\n",
        "# Remove None values using list comprehension\n",
        "cleaned_nums = [num for num in nums if num is not None]\n",
        "\n",
        "print(cleaned_nums)"
      ],
      "metadata": {
        "colab": {
          "base_uri": "https://localhost:8080/"
        },
        "id": "9mEq5XbVFqfK",
        "outputId": "5a356131-377b-44a1-c839-becc1a1a0726"
      },
      "execution_count": 130,
      "outputs": [
        {
          "output_type": "stream",
          "name": "stdout",
          "text": [
            "[12, 0, 23, -55, 234, 89, 0, 6, -12]\n"
          ]
        }
      ]
    },
    {
      "cell_type": "markdown",
      "source": [
        "Mr. Alberto wants to remove some numbers from the list of numbers to test his equation for numerical research. So, write a Python program to help him to remove all elements from a given list present in another list. (Using list comprehension)\n",
        "\n",
        "Example 1:\n",
        "Input:\n",
        "[1,2,3,4,5,6,7,8,9,10]\n",
        "\n",
        "[2,4,6,8]\n",
        "\n",
        "Output:\n",
        "[1, 3, 5, 7, 9, 10]"
      ],
      "metadata": {
        "id": "QvuMMH2hIDHk"
      }
    },
    {
      "cell_type": "code",
      "source": [
        "list1 = [1,2,3,4,5,6,7,8,9,10]\n",
        "list2 = [2,4,6,8]\n",
        "\n",
        "list3 = [x for x in list1 if x not in list2 ]\n",
        "print(list3)"
      ],
      "metadata": {
        "colab": {
          "base_uri": "https://localhost:8080/"
        },
        "id": "WK4Fa5IyIGED",
        "outputId": "f57ac95c-c3e0-42e3-8882-455990967b3a"
      },
      "execution_count": 137,
      "outputs": [
        {
          "output_type": "stream",
          "name": "stdout",
          "text": [
            "[1, 3, 5, 7, 9, 10]\n"
          ]
        }
      ]
    },
    {
      "cell_type": "markdown",
      "source": [
        "Count the Characters\n",
        "\n",
        "Write a Python program to count the number of characters (character frequency) in a string.\n",
        "\n",
        "Example 1:\n",
        "Input:\n",
        "google.com\n",
        "\n",
        "Output:\n",
        "{'g': 2, 'o': 3, 'l': 1, 'e': 1, '.': 1, 'c': 1, 'm': 1}\n",
        "\n",
        "Example 2:\n",
        "Input:\n",
        "AlmaBetter\n",
        "\n",
        "Output:\n",
        "{'a': 2, 'l': 1, 'm': 1, 'b': 1, 'e': 2, 't': 2, 'r': 1}"
      ],
      "metadata": {
        "id": "I98jL7xFKqBR"
      }
    },
    {
      "cell_type": "code",
      "source": [
        "input1= \"google.com\"\n",
        "\n",
        "def count_characters(text):\n",
        "  \"\"\"Counts the frequency of characters in a string.\n",
        "\n",
        "  Args:\n",
        "      text: The string to count characters in.\n",
        "\n",
        "  Returns:\n",
        "      A dictionary where keys are characters and values are their counts.\n",
        "  \"\"\"\n",
        "\n",
        "  char_counts = {}\n",
        "  for char in text:\n",
        "    if char not in char_counts:\n",
        "      char_counts[char] = 0\n",
        "    char_counts[char] += 1\n",
        "  return char_counts\n",
        "\n",
        "\n",
        "text1 = \"google.com\"\n",
        "char_counts1 = count_characters(text1)\n",
        "print(char_counts1)"
      ],
      "metadata": {
        "colab": {
          "base_uri": "https://localhost:8080/"
        },
        "id": "t7h8VdrfLRYl",
        "outputId": "ae8d1f86-4659-478c-d0bb-142d02f7fcac"
      },
      "execution_count": 138,
      "outputs": [
        {
          "output_type": "stream",
          "name": "stdout",
          "text": [
            "{'g': 2, 'o': 3, 'l': 1, 'e': 1, '.': 1, 'c': 1, 'm': 1}\n"
          ]
        }
      ]
    },
    {
      "cell_type": "code",
      "source": [
        "def char_frequency(text):\n",
        "  \"\"\"Counts the frequency of characters in a string using dictionary comprehension.\n",
        "\n",
        "  Args:\n",
        "      text: The string to analyze.\n",
        "\n",
        "  Returns:\n",
        "      A dictionary where keys are characters and values are their frequencies.\n",
        "  \"\"\"\n",
        "\n",
        "  return {char: text.count(char) for char in text if char.isalpha()}  # Count only alphabets\n",
        "\n",
        "# Example 1\n",
        "text1 = \"google.com\"\n",
        "char_count1 = char_frequency(text1)\n",
        "print(char_count1)"
      ],
      "metadata": {
        "colab": {
          "base_uri": "https://localhost:8080/"
        },
        "id": "SrtlIIK5Obwg",
        "outputId": "bd31af12-7285-4eec-9a6c-0e8293f0cec0"
      },
      "execution_count": 139,
      "outputs": [
        {
          "output_type": "stream",
          "name": "stdout",
          "text": [
            "{'g': 2, 'o': 3, 'l': 1, 'e': 1, 'c': 1, 'm': 1}\n"
          ]
        }
      ]
    }
  ]
}