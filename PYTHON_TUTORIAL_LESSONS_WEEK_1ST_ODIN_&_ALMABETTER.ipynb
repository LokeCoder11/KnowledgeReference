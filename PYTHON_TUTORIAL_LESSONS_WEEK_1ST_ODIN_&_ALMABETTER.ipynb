{
  "nbformat": 4,
  "nbformat_minor": 0,
  "metadata": {
    "colab": {
      "provenance": [],
      "authorship_tag": "ABX9TyOQbubD/hkMRgtcgP23I6D6",
      "include_colab_link": true
    },
    "kernelspec": {
      "name": "python3",
      "display_name": "Python 3"
    },
    "language_info": {
      "name": "python"
    }
  },
  "cells": [
    {
      "cell_type": "markdown",
      "metadata": {
        "id": "view-in-github",
        "colab_type": "text"
      },
      "source": [
        "<a href=\"https://colab.research.google.com/github/LokeCoder11/KnowledgeReference/blob/main/PYTHON_TUTORIAL_LESSONS_WEEK_1ST_ODIN_%26_ALMABETTER.ipynb\" target=\"_parent\"><img src=\"https://colab.research.google.com/assets/colab-badge.svg\" alt=\"Open In Colab\"/></a>"
      ]
    },
    {
      "cell_type": "markdown",
      "source": [
        "#NAVIGATION TIPS -\n",
        "check steps by step execution - https://pythontutor.com/render.html#mode=edit\n",
        "\n",
        "SINGLE # IS TOPIC HEADING\n",
        "DOUBLE ## IS SUB TOPIC\n",
        "WITHOUT # REST IS LIST OR TEXT\n",
        "\n",
        "Ctrl + / hash at the bottom , changes multiline comment\n",
        "\n",
        "RUN - SHIFT + ENTER TO RUN AND GO TO NEXT CELL OR CTRL + ENTER TO RUN AND STAY IN SAME SELL\n",
        "\n",
        "ENTRE & ESC TO GO IN & COME OUT OF CELL\n",
        "J & K KEYS TO - MOVE UP AND DOWN\n",
        "\n",
        "A - ADD CELL ABOVE\n",
        "B - ADD CELL BELOW\n",
        "\n",
        "dd - to delete cell (not work in google collab(\n",
        "m - change cell to markdown text (not work in google collab(\n",
        "y - change cell to code (not work in google collab(\n",
        "\n",
        "\n"
      ],
      "metadata": {
        "id": "uoVbIR-fCQov"
      }
    },
    {
      "cell_type": "markdown",
      "source": [
        "# print - OUTPUT FUNCTION"
      ],
      "metadata": {
        "id": "6lEJ1xuuNFZn"
      }
    },
    {
      "cell_type": "code",
      "execution_count": null,
      "metadata": {
        "colab": {
          "base_uri": "https://localhost:8080/"
        },
        "id": "0SQqnuVYnMXn",
        "outputId": "18b46b88-00dd-478c-9c36-e659be2b40fe"
      },
      "outputs": [
        {
          "output_type": "stream",
          "name": "stdout",
          "text": [
            "hello lokesh congratulations on your first python\n"
          ]
        }
      ],
      "source": [
        "name='lokesh'\n",
        "print('hello',name, 'congratulations on your first python')"
      ]
    },
    {
      "cell_type": "code",
      "source": [],
      "metadata": {
        "id": "wgVvS-CiD934"
      },
      "execution_count": null,
      "outputs": []
    },
    {
      "cell_type": "code",
      "source": [
        "name='lokesh'\n",
        "age=45\n",
        "print('hi, my name is', name, 'and my age is', age)"
      ],
      "metadata": {
        "colab": {
          "base_uri": "https://localhost:8080/"
        },
        "id": "04BUv9L01s44",
        "outputId": "92e94cf4-940d-4fe2-c3db-ad80c08f2ce7"
      },
      "execution_count": null,
      "outputs": [
        {
          "output_type": "stream",
          "name": "stdout",
          "text": [
            "hi, my name is lokesh and my age is 45\n"
          ]
        }
      ]
    },
    {
      "cell_type": "code",
      "source": [
        "a=10\n",
        "b=20\n",
        "print(a+b)"
      ],
      "metadata": {
        "colab": {
          "base_uri": "https://localhost:8080/"
        },
        "id": "yU0Dt6ZX5a0k",
        "outputId": "60b00724-3884-4d64-e2a8-dca6d91db63c"
      },
      "execution_count": null,
      "outputs": [
        {
          "output_type": "stream",
          "name": "stdout",
          "text": [
            "30\n"
          ]
        }
      ]
    },
    {
      "cell_type": "code",
      "source": [
        "a='10'\n",
        "b='20'\n",
        "print(a+b)"
      ],
      "metadata": {
        "colab": {
          "base_uri": "https://localhost:8080/"
        },
        "outputId": "83821131-dae5-4977-dc89-7ccb9ce67a9f",
        "id": "J-v4gK-n5pc8"
      },
      "execution_count": null,
      "outputs": [
        {
          "output_type": "stream",
          "name": "stdout",
          "text": [
            "1020\n"
          ]
        }
      ]
    },
    {
      "cell_type": "code",
      "source": [
        "a,b='10','20'\n",
        "print(a+' '+b)"
      ],
      "metadata": {
        "colab": {
          "base_uri": "https://localhost:8080/"
        },
        "id": "eFauneNQ5pNV",
        "outputId": "eb77919e-6fa4-4ccc-8864-ecbe3420c400"
      },
      "execution_count": null,
      "outputs": [
        {
          "output_type": "stream",
          "name": "stdout",
          "text": [
            "10 20\n"
          ]
        }
      ]
    },
    {
      "cell_type": "markdown",
      "source": [
        "# in order to not worry about ( , ) or ( + ) to add info in print use {} - FORMAT FUNCTION"
      ],
      "metadata": {
        "id": "VWaebgoNH1TN"
      }
    },
    {
      "cell_type": "code",
      "source": [
        "a='ranjit'\n",
        "b=20\n",
        "print('hi my name is {} and i am {} years old.'. format(a,b))"
      ],
      "metadata": {
        "colab": {
          "base_uri": "https://localhost:8080/"
        },
        "id": "xJ27GiFJHyY6",
        "outputId": "da4fbdc9-2bc2-4dc0-a269-1a1d357e5e20"
      },
      "execution_count": null,
      "outputs": [
        {
          "output_type": "stream",
          "name": "stdout",
          "text": [
            "hi my name is ranjit and i am 20 years old.\n"
          ]
        }
      ]
    },
    {
      "cell_type": "markdown",
      "source": [
        "f-string directly print the input in curly bracket"
      ],
      "metadata": {
        "id": "-4cibdFuIyw7"
      }
    },
    {
      "cell_type": "code",
      "source": [
        "print(f'Hi my name is {a} and i am {b} years old.')"
      ],
      "metadata": {
        "colab": {
          "base_uri": "https://localhost:8080/"
        },
        "id": "hr6TPbk4Kcxc",
        "outputId": "de8c6a64-c87e-4111-ef6a-ba8cc4c118f6"
      },
      "execution_count": null,
      "outputs": [
        {
          "output_type": "stream",
          "name": "stdout",
          "text": [
            "Hi my name is ranjit and i am 20 years old.\n"
          ]
        }
      ]
    },
    {
      "cell_type": "markdown",
      "source": [
        "# input() -- INPUT FUNCTION --JOB IS TO TAKE INPUT FROM USER"
      ],
      "metadata": {
        "id": "97DCqeLhNU0p"
      }
    },
    {
      "cell_type": "code",
      "source": [
        "# prompt:\n",
        "\n",
        "# Get the user's name, just name=input()\n",
        "name = input(\"What is your name? \")\n",
        "\n",
        "# Get the user's age\n",
        "age = int(input(\"How old are you? \"))\n",
        "\n",
        "# Print a message to the user\n",
        "print(f\"Hello {name}, you are {age} years old.\")\n"
      ],
      "metadata": {
        "colab": {
          "base_uri": "https://localhost:8080/"
        },
        "id": "eoIokNliNSlD",
        "outputId": "d461e618-e36f-403c-f272-0e879d165d2b"
      },
      "execution_count": null,
      "outputs": [
        {
          "output_type": "stream",
          "name": "stdout",
          "text": [
            "What is your name? Lokesh\n",
            "How old are you? 30\n",
            "Hello Lokesh, you are 30 years old.\n"
          ]
        }
      ]
    },
    {
      "cell_type": "code",
      "source": [
        "marks=input()\n",
        "print('your marks is', marks)"
      ],
      "metadata": {
        "colab": {
          "base_uri": "https://localhost:8080/"
        },
        "id": "VT648XjsPzBP",
        "outputId": "8bef1ce5-4246-427a-85a1-cdf08e66e0b7"
      },
      "execution_count": null,
      "outputs": [
        {
          "output_type": "stream",
          "name": "stdout",
          "text": [
            "9\n",
            "your marks is 9\n"
          ]
        }
      ]
    },
    {
      "cell_type": "markdown",
      "source": [
        "# TYPE - function tells what type of python data or object is the following"
      ],
      "metadata": {
        "id": "zMFcHQZBPpEQ"
      }
    },
    {
      "cell_type": "code",
      "source": [
        "a=10\n",
        "print(type(a))"
      ],
      "metadata": {
        "colab": {
          "base_uri": "https://localhost:8080/"
        },
        "id": "PHu0Yfj3QWbr",
        "outputId": "9a6bb0fe-7918-4f06-dc4c-e123751cb067"
      },
      "execution_count": null,
      "outputs": [
        {
          "output_type": "stream",
          "name": "stdout",
          "text": [
            "<class 'int'>\n"
          ]
        }
      ]
    },
    {
      "cell_type": "code",
      "source": [
        "a='lok'\n",
        "print(type(a))"
      ],
      "metadata": {
        "colab": {
          "base_uri": "https://localhost:8080/"
        },
        "id": "I3GBSshnScun",
        "outputId": "78562ccc-04e2-4052-ccf6-36feed77d75d"
      },
      "execution_count": null,
      "outputs": [
        {
          "output_type": "stream",
          "name": "stdout",
          "text": [
            "<class 'str'>\n"
          ]
        }
      ]
    },
    {
      "cell_type": "code",
      "source": [
        "a=12.99\n",
        "print(type(a))"
      ],
      "metadata": {
        "colab": {
          "base_uri": "https://localhost:8080/"
        },
        "id": "m3UvvkapSnk9",
        "outputId": "bf498313-9eda-4323-cf98-2cad90783e26"
      },
      "execution_count": null,
      "outputs": [
        {
          "output_type": "stream",
          "name": "stdout",
          "text": [
            "<class 'float'>\n"
          ]
        }
      ]
    },
    {
      "cell_type": "code",
      "source": [
        "a=True\n",
        "print(type(a))"
      ],
      "metadata": {
        "colab": {
          "base_uri": "https://localhost:8080/"
        },
        "id": "50-ME3CwStZ3",
        "outputId": "5093d124-e0c5-4ae9-9b43-5a8523259f4c"
      },
      "execution_count": null,
      "outputs": [
        {
          "output_type": "stream",
          "name": "stdout",
          "text": [
            "<class 'bool'>\n"
          ]
        }
      ]
    },
    {
      "cell_type": "markdown",
      "source": [
        " #input function - takes data by default as type 'string'"
      ],
      "metadata": {
        "id": "ItJThabUTcxq"
      }
    },
    {
      "cell_type": "code",
      "source": [],
      "metadata": {
        "id": "5W5WvXJZTXls"
      },
      "execution_count": null,
      "outputs": []
    },
    {
      "cell_type": "code",
      "source": [
        "marks=input()\n",
        "print('your marks is', marks)"
      ],
      "metadata": {
        "colab": {
          "base_uri": "https://localhost:8080/"
        },
        "outputId": "8bef1ce5-4246-427a-85a1-cdf08e66e0b7",
        "id": "2y-PN2EaVWrW"
      },
      "execution_count": null,
      "outputs": [
        {
          "output_type": "stream",
          "name": "stdout",
          "text": [
            "9\n",
            "your marks is 9\n"
          ]
        }
      ]
    },
    {
      "cell_type": "code",
      "source": [
        "print(type(marks))"
      ],
      "metadata": {
        "colab": {
          "base_uri": "https://localhost:8080/"
        },
        "id": "rJpKtN2IVp-O",
        "outputId": "8b4b4a80-8446-480d-f41e-7ae2d865d446"
      },
      "execution_count": null,
      "outputs": [
        {
          "output_type": "stream",
          "name": "stdout",
          "text": [
            "<class 'str'>\n"
          ]
        }
      ]
    },
    {
      "cell_type": "markdown",
      "source": [
        "# TYPECASTING =\n",
        "1. RESTRICT PUTTING ONLY 1 TYPE OF DATA &\n",
        "2. CHANGE 1 DATA TYPE TO ANOTHER DATA TYPE &\n",
        " TYPE CONVERSION IN REAL LIFE - ORANGE>JUICER>JUICE\n",
        " TYPE CONVERSION IN PYTHON - '123' STRING > INT() > 123 INTEGER\n",
        "\n",
        "int()\n",
        "str()\n",
        "float()\n",
        "bool()"
      ],
      "metadata": {
        "id": "QDovMC3mV848"
      }
    },
    {
      "cell_type": "code",
      "source": [
        "marks = int(input(\"enter your marks: \"))\n",
        "print('your marks is', marks)"
      ],
      "metadata": {
        "colab": {
          "base_uri": "https://localhost:8080/",
          "height": 211
        },
        "id": "_UF5aLfoW-Ek",
        "outputId": "4914a45e-34a9-4c53-db88-0021b4943361"
      },
      "execution_count": null,
      "outputs": [
        {
          "name": "stdout",
          "output_type": "stream",
          "text": [
            "enter your marks: 19.00\n"
          ]
        },
        {
          "output_type": "error",
          "ename": "ValueError",
          "evalue": "invalid literal for int() with base 10: '19.00'",
          "traceback": [
            "\u001b[0;31m---------------------------------------------------------------------------\u001b[0m",
            "\u001b[0;31mValueError\u001b[0m                                Traceback (most recent call last)",
            "\u001b[0;32m<ipython-input-25-2c882fb9bb67>\u001b[0m in \u001b[0;36m<cell line: 1>\u001b[0;34m()\u001b[0m\n\u001b[0;32m----> 1\u001b[0;31m \u001b[0mmarks\u001b[0m \u001b[0;34m=\u001b[0m \u001b[0mint\u001b[0m\u001b[0;34m(\u001b[0m\u001b[0minput\u001b[0m\u001b[0;34m(\u001b[0m\u001b[0;34m\"enter your marks: \"\u001b[0m\u001b[0;34m)\u001b[0m\u001b[0;34m)\u001b[0m\u001b[0;34m\u001b[0m\u001b[0;34m\u001b[0m\u001b[0m\n\u001b[0m\u001b[1;32m      2\u001b[0m \u001b[0mprint\u001b[0m\u001b[0;34m(\u001b[0m\u001b[0;34m'your marks is'\u001b[0m\u001b[0;34m,\u001b[0m \u001b[0mmarks\u001b[0m\u001b[0;34m)\u001b[0m\u001b[0;34m\u001b[0m\u001b[0;34m\u001b[0m\u001b[0m\n",
            "\u001b[0;31mValueError\u001b[0m: invalid literal for int() with base 10: '19.00'"
          ]
        }
      ]
    },
    {
      "cell_type": "markdown",
      "source": [
        "# convert"
      ],
      "metadata": {
        "id": "SfX0eJCbYXvt"
      }
    },
    {
      "cell_type": "code",
      "source": [
        "a=12.99\n",
        "b=int(a)\n",
        "print(b)"
      ],
      "metadata": {
        "colab": {
          "base_uri": "https://localhost:8080/"
        },
        "id": "LeTBZFg4b9kX",
        "outputId": "603da924-1fc8-46da-b49c-a5e56afa545f"
      },
      "execution_count": null,
      "outputs": [
        {
          "output_type": "stream",
          "name": "stdout",
          "text": [
            "12\n"
          ]
        }
      ]
    },
    {
      "cell_type": "code",
      "source": [
        "a=12.99\n",
        "b=str(a)\n",
        "print(b)"
      ],
      "metadata": {
        "colab": {
          "base_uri": "https://localhost:8080/"
        },
        "id": "Ml0l-BSWc3Hb",
        "outputId": "669e6bfc-af98-439c-f3b8-7b9e145a7498"
      },
      "execution_count": null,
      "outputs": [
        {
          "output_type": "stream",
          "name": "stdout",
          "text": [
            "12.99\n"
          ]
        }
      ]
    },
    {
      "cell_type": "code",
      "source": [
        "a=\"\"\n",
        "b=bool(a)\n",
        "print(b)"
      ],
      "metadata": {
        "colab": {
          "base_uri": "https://localhost:8080/"
        },
        "id": "HpoVY-04dABs",
        "outputId": "406993a2-800c-4390-e98f-89ec067bb5e1"
      },
      "execution_count": null,
      "outputs": [
        {
          "output_type": "stream",
          "name": "stdout",
          "text": [
            "False\n"
          ]
        }
      ]
    },
    {
      "cell_type": "code",
      "source": [
        "a=\"12\"\n",
        "b=int(a)\n",
        "print(b)"
      ],
      "metadata": {
        "colab": {
          "base_uri": "https://localhost:8080/"
        },
        "id": "tcTq5yvydlfV",
        "outputId": "bd22f10f-1c7a-4ff3-e84c-0031c3b30821"
      },
      "execution_count": null,
      "outputs": [
        {
          "output_type": "stream",
          "name": "stdout",
          "text": [
            "12\n"
          ]
        }
      ]
    },
    {
      "cell_type": "markdown",
      "source": [
        "# IN GOOGLE COLLAB - LAST LINE AUTOMATICALLY TAKES 'PRINT' COMMAND - IF NEED TO PRINT MULTIPLE LINE THEN NEED TO ADD 'PRINT' FOR EARLIER LINE"
      ],
      "metadata": {
        "id": "4TAHnkrseJvD"
      }
    },
    {
      "cell_type": "code",
      "source": [
        "a=10\n",
        "b='pradeep'\n",
        "print(a)\n",
        "b #print(b)"
      ],
      "metadata": {
        "colab": {
          "base_uri": "https://localhost:8080/",
          "height": 52
        },
        "id": "bLGGWkW8eICX",
        "outputId": "77c040d9-1d14-42ef-8ef4-3d2836df92d8"
      },
      "execution_count": null,
      "outputs": [
        {
          "output_type": "stream",
          "name": "stdout",
          "text": [
            "10\n"
          ]
        },
        {
          "output_type": "execute_result",
          "data": {
            "text/plain": [
              "'pradeep'"
            ],
            "application/vnd.google.colaboratory.intrinsic+json": {
              "type": "string"
            }
          },
          "metadata": {},
          "execution_count": 32
        }
      ]
    },
    {
      "cell_type": "markdown",
      "source": [
        "#ADD 2 INPUT AS PROBLEM"
      ],
      "metadata": {
        "id": "7WmRQZBDf-SN"
      }
    },
    {
      "cell_type": "code",
      "source": [
        "name = input()\n",
        "marks = int(input())\n",
        "print(f\"Hello, I'm {name} and I scored {marks} in science.\")"
      ],
      "metadata": {
        "colab": {
          "base_uri": "https://localhost:8080/"
        },
        "id": "h2GrZAEggD0Z",
        "outputId": "decf2ea7-80b5-4578-ac18-c8f3e39154d2"
      },
      "execution_count": null,
      "outputs": [
        {
          "output_type": "stream",
          "name": "stdout",
          "text": [
            "lok\n",
            "90\n",
            "Hello, I'm lok and I scored 90 in science.\n"
          ]
        }
      ]
    },
    {
      "cell_type": "markdown",
      "source": [
        "#INTIGER - CONDITIONAL STATEMENT  FOR DECIDING IF CODE WILL GET EXECUTED\n",
        "#if & elif STARTS NEW BLOCK- for multiple statement"
      ],
      "metadata": {
        "id": "40stxJL9EGrn"
      }
    },
    {
      "cell_type": "code",
      "source": [
        "marks=int(input())\n",
        "if marks > 90:\n",
        "  print('congrats you will get a computer')\n",
        "elif 70 < marks < 90:\n",
        "  print('you are there')\n",
        "else:\n",
        "  print('better luck next time')"
      ],
      "metadata": {
        "colab": {
          "base_uri": "https://localhost:8080/"
        },
        "id": "cYd9MhpvEOBW",
        "outputId": "00077f63-af43-49fd-b105-6c37db9ff8c2"
      },
      "execution_count": null,
      "outputs": [
        {
          "output_type": "stream",
          "name": "stdout",
          "text": [
            "65\n",
            "better luck next time\n"
          ]
        }
      ]
    },
    {
      "cell_type": "markdown",
      "source": [
        "#STRING CONDITIONAL STATEMENT  FOR DECIDING IF CODE WILL GET EXECUTED"
      ],
      "metadata": {
        "id": "_1CjezdUOpfi"
      }
    },
    {
      "cell_type": "code",
      "source": [
        "status=(input('enter your status'))\n",
        "if status == 'pass':\n",
        "    print('congrats')\n",
        "else:\n",
        "    print('sorry')"
      ],
      "metadata": {
        "colab": {
          "base_uri": "https://localhost:8080/"
        },
        "id": "wD_yAUjUOFVz",
        "outputId": "f98525a3-972b-41e5-acce-cba5c5c068ed"
      },
      "execution_count": null,
      "outputs": [
        {
          "output_type": "stream",
          "name": "stdout",
          "text": [
            "enter your statusno\n",
            "sorry\n"
          ]
        }
      ]
    },
    {
      "cell_type": "markdown",
      "source": [
        "#elif multiple waterfall condition NESTED STATEMENT - KEEP ADDING CODE IF EACH STEP OF CONDITION IS SATISFIED"
      ],
      "metadata": {
        "id": "f0X2f2zvVAn-"
      }
    },
    {
      "cell_type": "code",
      "source": [
        "hour=int(input())\n",
        "if hour<12:\n",
        "    print('good morning')\n",
        "else:\n",
        "   if hour > 12 and hour<=18:\n",
        "        print('good afternoon')\n",
        "   else:\n",
        "             print('good evening')"
      ],
      "metadata": {
        "colab": {
          "base_uri": "https://localhost:8080/"
        },
        "id": "AjT55pqPVOpj",
        "outputId": "3d17c216-f568-403b-c536-86d7b57ebe0c"
      },
      "execution_count": null,
      "outputs": [
        {
          "output_type": "stream",
          "name": "stdout",
          "text": [
            "18\n",
            "good afternoon\n"
          ]
        }
      ]
    },
    {
      "cell_type": "code",
      "source": [
        "age=int(input())\n",
        "sal=int(input())\n",
        "if (age<18):\n",
        "  print('you must be 18')\n",
        "elif (18<age<30 and sal>30000):\n",
        "    print('scholarship')\n",
        "else:\n",
        "    print('not eligible')"
      ],
      "metadata": {
        "colab": {
          "base_uri": "https://localhost:8080/"
        },
        "id": "VSPk2rBRqrMY",
        "outputId": "80d16442-a29e-48cf-bb61-40f19d477af5"
      },
      "execution_count": null,
      "outputs": [
        {
          "output_type": "stream",
          "name": "stdout",
          "text": [
            "19\n",
            "31000\n",
            "scholarship\n"
          ]
        }
      ]
    },
    {
      "cell_type": "markdown",
      "source": [
        "#WHY USE \" WHEN THERE IS ' INSIDE STATEMENT -"
      ],
      "metadata": {
        "id": "8YoCBtnTACXv"
      }
    },
    {
      "cell_type": "code",
      "source": [
        "sales = int(input())\n",
        "\n",
        "if sales >= 10000:\n",
        "  print('Employee's performance: Excellent')\n",
        "elif sales >=5000 and sales <=10000:\n",
        "  print('Employee's performance: Good')\n",
        "elif sales >=2000 and sales <=5000:\n",
        "  print('Employee's performance: Average')\n",
        "else:\n",
        "  print('Employee's performance: Poor')"
      ],
      "metadata": {
        "colab": {
          "base_uri": "https://localhost:8080/",
          "height": 141
        },
        "id": "MWYwM3g6wMuc",
        "outputId": "70f0df47-bfb2-4d83-c609-1527b2d4e296"
      },
      "execution_count": null,
      "outputs": [
        {
          "output_type": "error",
          "ename": "SyntaxError",
          "evalue": "unterminated string literal (detected at line 4) (<ipython-input-8-3f3190035fa8>, line 4)",
          "traceback": [
            "\u001b[0;36m  File \u001b[0;32m\"<ipython-input-8-3f3190035fa8>\"\u001b[0;36m, line \u001b[0;32m4\u001b[0m\n\u001b[0;31m    print('Employee's performance: Excellent')\u001b[0m\n\u001b[0m                                            ^\u001b[0m\n\u001b[0;31mSyntaxError\u001b[0m\u001b[0;31m:\u001b[0m unterminated string literal (detected at line 4)\n"
          ]
        }
      ]
    },
    {
      "cell_type": "markdown",
      "source": [
        "#DOUBLE OUTPUT WITH - FINAL PRINT COMMAND FOR BOTH OUTPUT"
      ],
      "metadata": {
        "id": "4ilM9QjQALJH"
      }
    },
    {
      "cell_type": "code",
      "source": [
        "students_marks = int(input())\n",
        "if students_marks >= 90:\n",
        "  grade = 'A'\n",
        "elif students_marks >= 80:\n",
        "  grade = 'B'\n",
        "elif students_marks >= 70:\n",
        "  grade = 'C'\n",
        "elif students_marks >= 60:\n",
        "  grade = 'D'\n",
        "else:\n",
        "  grade = 'F'\n",
        "\n",
        "if students_marks >= 50:\n",
        "  status = 'Passed'\n",
        "else:\n",
        "  status = 'Failed'\n",
        "\n",
        "print('Grade', grade)\n",
        "print('Status', status)"
      ],
      "metadata": {
        "colab": {
          "base_uri": "https://localhost:8080/"
        },
        "id": "noKHCsdUAKwK",
        "outputId": "8fec2c1c-3847-4e5b-c940-4915b37c0ccc"
      },
      "execution_count": null,
      "outputs": [
        {
          "output_type": "stream",
          "name": "stdout",
          "text": [
            "30\n",
            "Grade F\n",
            "Status Failed\n"
          ]
        }
      ]
    },
    {
      "cell_type": "code",
      "source": [
        "a=int(input())\n",
        "b=int(input())\n",
        "if a%b==0:\n",
        "  print('Divisible')\n",
        "else:\n",
        "  print('Not divisible')"
      ],
      "metadata": {
        "colab": {
          "base_uri": "https://localhost:8080/"
        },
        "id": "nBEhT__1BXy8",
        "outputId": "cf86dd26-58c1-4abd-f56a-1978867ba607"
      },
      "execution_count": null,
      "outputs": [
        {
          "output_type": "stream",
          "name": "stdout",
          "text": [
            "45\n",
            "5\n",
            "Divisible\n"
          ]
        }
      ]
    },
    {
      "cell_type": "markdown",
      "source": [
        "#TERNARY OPERATOR - HELP IN WRITING CONDITIONAL EXECUTION IN 1 LINE (INSTEAD OF IF & ELIF WHICH IS IN DIFFERENT LINE) - TRUE VALUE IF CONDITION MET, ELSE FALSE VALUE"
      ],
      "metadata": {
        "id": "BnGkcV5wbByS"
      }
    },
    {
      "cell_type": "markdown",
      "source": [],
      "metadata": {
        "id": "l7tuZ4s-bhu6"
      }
    },
    {
      "cell_type": "code",
      "source": [
        "n=int(input())\n",
        "result=\"Even\" if n%2==0 else \"Odd\"\n",
        "result"
      ],
      "metadata": {
        "colab": {
          "base_uri": "https://localhost:8080/",
          "height": 53
        },
        "id": "GyRquWwBbkSS",
        "outputId": "89dce6ee-8c69-4402-b47b-820dbf6a7012"
      },
      "execution_count": null,
      "outputs": [
        {
          "name": "stdout",
          "output_type": "stream",
          "text": [
            "21\n"
          ]
        },
        {
          "output_type": "execute_result",
          "data": {
            "text/plain": [
              "'Odd'"
            ],
            "application/vnd.google.colaboratory.intrinsic+json": {
              "type": "string"
            }
          },
          "metadata": {},
          "execution_count": 15
        }
      ]
    },
    {
      "cell_type": "code",
      "source": [
        "marks=int(input())\n",
        "grade=\"A\" if marks>=90 else \"B\" if marks >=80 else \"C\" if marks >=70 else \"D\"\n",
        "grade"
      ],
      "metadata": {
        "colab": {
          "base_uri": "https://localhost:8080/",
          "height": 53
        },
        "id": "Nz1QNQr-btrt",
        "outputId": "80ece762-cfb8-4a81-f608-1f00b670e0a2"
      },
      "execution_count": null,
      "outputs": [
        {
          "name": "stdout",
          "output_type": "stream",
          "text": [
            "71\n"
          ]
        },
        {
          "output_type": "execute_result",
          "data": {
            "text/plain": [
              "'C'"
            ],
            "application/vnd.google.colaboratory.intrinsic+json": {
              "type": "string"
            }
          },
          "metadata": {},
          "execution_count": 22
        }
      ]
    },
    {
      "cell_type": "markdown",
      "source": [
        "# IN SEQUENCE commands-\n",
        "# \\n NEW LINE &\n",
        "# \\t TAB SPACE\n",
        "# ' 1ST with \" NEXT inside for QUOTE USE\n",
        "# \" 1ST with ' NEXT inside for APOSTROPHY USE\n",
        "# \\ use before \" for Begin & End to indicate SPECIAL CHARACTER THAT YOU WANT TO PRINT\n",
        "# print() EMPTY LINE PRINT\n",
        "# end=\" \" TO PRINT NEXT RESULT IN SAME LINE = IMMEDIATELY NEXT \" \" DEFINES SPACE TO BE GIVEN HOW BIG OR NOT\n",
        "# ROUND DECIMAL PLACES with  :.2f"
      ],
      "metadata": {
        "id": "SfrXcjxadsiJ"
      }
    },
    {
      "cell_type": "code",
      "source": [
        "print (' \"how are you\", \\n good \\t morning')"
      ],
      "metadata": {
        "colab": {
          "base_uri": "https://localhost:8080/"
        },
        "id": "Fgs2Cyh7d2tm",
        "outputId": "5df316b6-d1e2-47e1-c2c6-30f82251e115"
      },
      "execution_count": null,
      "outputs": [
        {
          "output_type": "stream",
          "name": "stdout",
          "text": [
            " \"how are you\", \n",
            " good \t morning\n"
          ]
        }
      ]
    },
    {
      "cell_type": "code",
      "source": [
        "print(\"hey \\\"how are you\\\" \")"
      ],
      "metadata": {
        "colab": {
          "base_uri": "https://localhost:8080/"
        },
        "id": "_EPpu78efzGA",
        "outputId": "c91882e1-eb28-4cd3-ba04-6e9473ab746e"
      },
      "execution_count": null,
      "outputs": [
        {
          "output_type": "stream",
          "name": "stdout",
          "text": [
            "hey \"how are you\" \n"
          ]
        }
      ]
    },
    {
      "cell_type": "code",
      "source": [
        "print(1)\n",
        "print()\n",
        "print(3)\n",
        "print(4)"
      ],
      "metadata": {
        "colab": {
          "base_uri": "https://localhost:8080/"
        },
        "id": "fi_kTzUpgorx",
        "outputId": "4fc6b4d5-f625-4ccd-a7f0-5fbb10e9d809"
      },
      "execution_count": null,
      "outputs": [
        {
          "output_type": "stream",
          "name": "stdout",
          "text": [
            "1\n",
            "\n",
            "3\n",
            "4\n"
          ]
        }
      ]
    },
    {
      "cell_type": "code",
      "source": [
        "print(1,end=\"\")\n",
        "print(2)\n",
        "print(3,end=\"    \")\n",
        "print(4)\n",
        "print(5, end=\" --- \")\n",
        "print(6)"
      ],
      "metadata": {
        "colab": {
          "base_uri": "https://localhost:8080/"
        },
        "id": "WQHvG2EKhSeA",
        "outputId": "458da067-124c-44b3-f5ff-af0d98129502"
      },
      "execution_count": null,
      "outputs": [
        {
          "output_type": "stream",
          "name": "stdout",
          "text": [
            "12\n",
            "3    4\n",
            "5 --- 6\n"
          ]
        }
      ]
    },
    {
      "cell_type": "code",
      "source": [
        "a=2.3456\n",
        "print(f\"my number is {a:.2f}\")\n",
        "print(f\"my number is {a:.5f}\")"
      ],
      "metadata": {
        "colab": {
          "base_uri": "https://localhost:8080/"
        },
        "id": "8WZFYN-wjDis",
        "outputId": "55a4ff67-d80b-48bf-df1d-8de6ec973ab7"
      },
      "execution_count": null,
      "outputs": [
        {
          "output_type": "stream",
          "name": "stdout",
          "text": [
            "my number is 2.35\n",
            "my number is 2.34560\n"
          ]
        }
      ]
    },
    {
      "cell_type": "markdown",
      "source": [
        "#MODULE is COLLECTION OF FUNCTION\n",
        "#inside Module we have n number of FUNCTIONS\n",
        "# To ACCESS Function INSIDE Module we use .\n",
        "# Eg. RANDOM IS MODULE WHICH WE USE BY\n",
        "#1ST IMPORT {MODULE NAME}\n",
        "#2ND CALL A SPECIFIC FUNCTION WITH . TO  USE FUNCTION - MODULE NAME.FUNCTION NAME ( )"
      ],
      "metadata": {
        "id": "205ytmwrk7JH"
      }
    },
    {
      "cell_type": "code",
      "source": [
        "# prompt:\n",
        "\n",
        "import random\n",
        "print(random.randint(1,100))\n",
        "print(random.random())\n",
        "print(random.choice([1,2,3,4,5,6,7,8,9]))\n"
      ],
      "metadata": {
        "colab": {
          "base_uri": "https://localhost:8080/"
        },
        "id": "y3CP8Pldmcva",
        "outputId": "f9204824-1fb8-4b41-a813-9641dcb6b990"
      },
      "execution_count": null,
      "outputs": [
        {
          "output_type": "stream",
          "name": "stdout",
          "text": [
            "48\n",
            "0.804364165703997\n",
            "1\n"
          ]
        }
      ]
    },
    {
      "cell_type": "markdown",
      "source": [
        "#DATA TYPE AND INDEX"
      ],
      "metadata": {
        "id": "SoQUD7OfLj5a"
      }
    },
    {
      "cell_type": "code",
      "source": [
        "ex = \"AlmaBetter\"\n",
        "     #Give Index as Address to extract data from string\n",
        "      # string index starts with 0\n",
        "print(len(ex))\n",
        "print(ex[2])"
      ],
      "metadata": {
        "colab": {
          "base_uri": "https://localhost:8080/"
        },
        "id": "Ei0HbVuALigy",
        "outputId": "d79cd828-6730-4ba2-af11-e63de65cff40"
      },
      "execution_count": 13,
      "outputs": [
        {
          "output_type": "stream",
          "name": "stdout",
          "text": [
            "10\n",
            "m\n"
          ]
        }
      ]
    },
    {
      "cell_type": "code",
      "source": [
        "ex = \"1,2,3,4\" #numbers as strings\n",
        "print(len(ex))\n",
        "print(ex[2])\n",
        "print(type(ex))\n",
        "print(type(ex[0]))"
      ],
      "metadata": {
        "colab": {
          "base_uri": "https://localhost:8080/"
        },
        "id": "dAcJOXrHMRv1",
        "outputId": "6602869a-33aa-401e-b355-85daf6c1f04f"
      },
      "execution_count": 19,
      "outputs": [
        {
          "output_type": "stream",
          "name": "stdout",
          "text": [
            "7\n",
            "2\n",
            "<class 'str'>\n",
            "<class 'str'>\n"
          ]
        }
      ]
    },
    {
      "cell_type": "code",
      "source": [
        "ex = [1,2,3,4] #numbers as list\n",
        "print(len(ex)) #List : doesn't count (,) which is used to separate elements\n",
        "print(ex[2]) #List index also starts from 0\n",
        "print(type(ex))\n",
        "print(type(ex[0]))"
      ],
      "metadata": {
        "colab": {
          "base_uri": "https://localhost:8080/"
        },
        "id": "VKu0Ost5Mexs",
        "outputId": "33b3de82-e0d4-4461-cde8-513b08971825"
      },
      "execution_count": 18,
      "outputs": [
        {
          "output_type": "stream",
          "name": "stdout",
          "text": [
            "4\n",
            "3\n",
            "<class 'list'>\n",
            "<class 'int'>\n"
          ]
        }
      ]
    },
    {
      "cell_type": "markdown",
      "source": [
        "# // : QUOTIENT or Floor Division or Intiger Division &\n",
        "# % get REMAINDER"
      ],
      "metadata": {
        "id": "rzs7PsePQySE"
      }
    },
    {
      "cell_type": "code",
      "source": [
        "print(9//2)\n",
        "print(3//2)\n",
        "print(2%3)\n",
        "print(9%3)\n",
        "print(9%2)"
      ],
      "metadata": {
        "colab": {
          "base_uri": "https://localhost:8080/"
        },
        "id": "7VyDC3QOO94r",
        "outputId": "77fbd7d4-d422-4192-dbfd-69e4e82ea83e"
      },
      "execution_count": 25,
      "outputs": [
        {
          "output_type": "stream",
          "name": "stdout",
          "text": [
            "4\n",
            "1\n",
            "2\n",
            "0\n",
            "1\n"
          ]
        }
      ]
    },
    {
      "cell_type": "code",
      "source": [
        "#singe quote and triple quote\n",
        "ex = '''hi i\n",
        "am lokesh\n",
        "from alma.'''\n",
        "\n",
        "ex2 = \"hi, i. \\nAm lokesh. \\nFrom alma.\"\n",
        "\n",
        "print(ex)\n",
        "print()\n",
        "print(ex2)\n"
      ],
      "metadata": {
        "colab": {
          "base_uri": "https://localhost:8080/"
        },
        "id": "LkEvmcpcR94O",
        "outputId": "b9b3e8b4-de48-463e-de63-6247dbc9ee81"
      },
      "execution_count": 36,
      "outputs": [
        {
          "output_type": "stream",
          "name": "stdout",
          "text": [
            "hi i\n",
            "am lokesh\n",
            "from alma.\n",
            "\n",
            "hi, i. \n",
            "Am lokesh. \n",
            "From alma.\n"
          ]
        }
      ]
    },
    {
      "cell_type": "markdown",
      "source": [
        "# BOTH SEPARATED BY ,\n",
        "#TUPLE : STARTS WITH ( ) PYTHON WILL RECOGNIZE IT AS TUPLE VS\n",
        "#LIST :  STARTS WITH [ ] PYTHON WILL RECOGNIZE IT AS LIST OF ELEMENTS WITH INDIVIDUAL IDENTITY RETAINED.  "
      ],
      "metadata": {
        "id": "57eR-u5GTv0s"
      }
    },
    {
      "cell_type": "code",
      "source": [
        "ex=(1,2,3,5)\n",
        "ex2=[1,2,3,5]\n",
        "print(type(ex))\n",
        "print(type(ex2))\n",
        "print(len(ex))\n",
        "print(len(ex2))\n",
        "print(type(ex[0]))\n",
        "print(type(ex2[0]))\n"
      ],
      "metadata": {
        "colab": {
          "base_uri": "https://localhost:8080/"
        },
        "id": "j2BEDLDZUloz",
        "outputId": "f0971ea8-d328-407b-f8eb-42b3f3580c93"
      },
      "execution_count": 42,
      "outputs": [
        {
          "output_type": "stream",
          "name": "stdout",
          "text": [
            "<class 'tuple'>\n",
            "<class 'list'>\n",
            "4\n",
            "4\n",
            "<class 'int'>\n",
            "<class 'int'>\n"
          ]
        }
      ]
    },
    {
      "cell_type": "markdown",
      "source": [
        "#SET Vs Dictionary both have { } but different syntax"
      ],
      "metadata": {
        "id": "4d9p-RlYV2aL"
      }
    },
    {
      "cell_type": "code",
      "source": [
        "ex={1,2,3,5} # Set Curly bracket\n",
        "ex2={'a':1,'b':2,'c':3,'d':5} # Dictionary Curly bracket with Key: Value Pair connected to Key\n",
        "print(type(ex))\n",
        "print(type(ex2))\n",
        "print(len(ex))\n",
        "print(len(ex2))\n",
        "print(type(ex[1]))\n",
        "print(type(ex2[1]))"
      ],
      "metadata": {
        "colab": {
          "base_uri": "https://localhost:8080/",
          "height": 298
        },
        "outputId": "3bf63594-db87-49f6-b487-eb3ebcb69b3c",
        "id": "aZT8AHatWB9M"
      },
      "execution_count": 50,
      "outputs": [
        {
          "output_type": "stream",
          "name": "stdout",
          "text": [
            "<class 'set'>\n",
            "<class 'dict'>\n",
            "4\n",
            "4\n"
          ]
        },
        {
          "output_type": "error",
          "ename": "TypeError",
          "evalue": "'set' object is not subscriptable",
          "traceback": [
            "\u001b[0;31m---------------------------------------------------------------------------\u001b[0m",
            "\u001b[0;31mTypeError\u001b[0m                                 Traceback (most recent call last)",
            "\u001b[0;32m<ipython-input-50-c818166289a5>\u001b[0m in \u001b[0;36m<cell line: 7>\u001b[0;34m()\u001b[0m\n\u001b[1;32m      5\u001b[0m \u001b[0mprint\u001b[0m\u001b[0;34m(\u001b[0m\u001b[0mlen\u001b[0m\u001b[0;34m(\u001b[0m\u001b[0mex\u001b[0m\u001b[0;34m)\u001b[0m\u001b[0;34m)\u001b[0m\u001b[0;34m\u001b[0m\u001b[0;34m\u001b[0m\u001b[0m\n\u001b[1;32m      6\u001b[0m \u001b[0mprint\u001b[0m\u001b[0;34m(\u001b[0m\u001b[0mlen\u001b[0m\u001b[0;34m(\u001b[0m\u001b[0mex2\u001b[0m\u001b[0;34m)\u001b[0m\u001b[0;34m)\u001b[0m\u001b[0;34m\u001b[0m\u001b[0;34m\u001b[0m\u001b[0m\n\u001b[0;32m----> 7\u001b[0;31m \u001b[0mprint\u001b[0m\u001b[0;34m(\u001b[0m\u001b[0mtype\u001b[0m\u001b[0;34m(\u001b[0m\u001b[0mex\u001b[0m\u001b[0;34m[\u001b[0m\u001b[0;36m1\u001b[0m\u001b[0;34m]\u001b[0m\u001b[0;34m)\u001b[0m\u001b[0;34m)\u001b[0m\u001b[0;34m\u001b[0m\u001b[0;34m\u001b[0m\u001b[0m\n\u001b[0m\u001b[1;32m      8\u001b[0m \u001b[0mprint\u001b[0m\u001b[0;34m(\u001b[0m\u001b[0mtype\u001b[0m\u001b[0;34m(\u001b[0m\u001b[0mex2\u001b[0m\u001b[0;34m[\u001b[0m\u001b[0;36m1\u001b[0m\u001b[0;34m]\u001b[0m\u001b[0;34m)\u001b[0m\u001b[0;34m)\u001b[0m\u001b[0;34m\u001b[0m\u001b[0;34m\u001b[0m\u001b[0m\n",
            "\u001b[0;31mTypeError\u001b[0m: 'set' object is not subscriptable"
          ]
        }
      ]
    },
    {
      "cell_type": "markdown",
      "source": [
        "\n",
        "#LOOP"
      ],
      "metadata": {
        "id": "CWuxmmXgC9jX"
      }
    },
    {
      "cell_type": "code",
      "source": [
        "num = int(3) # define - Constant given\n",
        "\n",
        "for i in range(11):  # define Variable with 'For Loop' -- number of times to loop\n",
        "    result = num * i  # define -- operation to execute in each loop and get 1 Output for 1 loop\n",
        "    print(num, \"x\", i, \"=\", result)"
      ],
      "metadata": {
        "colab": {
          "base_uri": "https://localhost:8080/"
        },
        "id": "A3kGXo2ZDADn",
        "outputId": "3ee6050f-5a7f-4888-8057-8166913d0802"
      },
      "execution_count": 2,
      "outputs": [
        {
          "output_type": "stream",
          "name": "stdout",
          "text": [
            "3 x 0 = 0\n",
            "3 x 1 = 3\n",
            "3 x 2 = 6\n",
            "3 x 3 = 9\n",
            "3 x 4 = 12\n",
            "3 x 5 = 15\n",
            "3 x 6 = 18\n",
            "3 x 7 = 21\n",
            "3 x 8 = 24\n",
            "3 x 9 = 27\n",
            "3 x 10 = 30\n"
          ]
        }
      ]
    },
    {
      "cell_type": "code",
      "source": [
        "number = input()\n",
        "digit_count = 0 #define start number\n",
        "\n",
        "for digit in number:\n",
        "    digit_count += 1 #define how to change the start number\n",
        "\n",
        "print(digit_count)"
      ],
      "metadata": {
        "colab": {
          "base_uri": "https://localhost:8080/"
        },
        "id": "3l7EXe88EbRL",
        "outputId": "1942aa0e-e361-413f-8758-9420ca57b22d"
      },
      "execution_count": 7,
      "outputs": [
        {
          "output_type": "stream",
          "name": "stdout",
          "text": [
            "45216\n",
            "5\n"
          ]
        }
      ]
    },
    {
      "cell_type": "code",
      "source": [
        "sum = 0\n",
        "for i in range(2, 51, 2):\n",
        "  sum += i\n",
        "print(sum)"
      ],
      "metadata": {
        "colab": {
          "base_uri": "https://localhost:8080/"
        },
        "id": "ujpujr2uzqCy",
        "outputId": "31e073ee-aa10-4659-8adb-488e05acd457"
      },
      "execution_count": 3,
      "outputs": [
        {
          "output_type": "stream",
          "name": "stdout",
          "text": [
            "650\n"
          ]
        }
      ]
    },
    {
      "cell_type": "code",
      "source": [
        "# Nested Loop - i represent rows and j represent column (as inside or nested lool)\n",
        "for i in range(1, 4):\n",
        "  print('hello', end=\" \")\n",
        "  for j in range(1, 3):\n",
        "    print('hi', end=\" \")\n",
        "  print()"
      ],
      "metadata": {
        "colab": {
          "base_uri": "https://localhost:8080/"
        },
        "id": "SCkGn1gW12lq",
        "outputId": "95b8bf66-9ac4-45d1-ab4e-596913d96e99"
      },
      "execution_count": 10,
      "outputs": [
        {
          "output_type": "stream",
          "name": "stdout",
          "text": [
            "hello hi hi \n",
            "hello hi hi \n",
            "hello hi hi \n"
          ]
        }
      ]
    },
    {
      "cell_type": "code",
      "source": [
        "# Nested Loop - i represent rows and j represent column (as inside or nested lool)\n",
        "for i in range(3):\n",
        "  for j in range(6):\n",
        "    print('hi', end=\" \")\n",
        "  print()"
      ],
      "metadata": {
        "colab": {
          "base_uri": "https://localhost:8080/"
        },
        "outputId": "690174aa-4dc7-4464-c83e-89d74a6868aa",
        "id": "lrU6wCnjBllw"
      },
      "execution_count": 12,
      "outputs": [
        {
          "output_type": "stream",
          "name": "stdout",
          "text": [
            "hi hi hi hi hi hi \n",
            "hi hi hi hi hi hi \n",
            "hi hi hi hi hi hi \n"
          ]
        }
      ]
    },
    {
      "cell_type": "code",
      "source": [
        "# Nested Loop - i represent rows and j represent column (as inside or nested lool)\n",
        "for i in range(3):\n",
        "  for j in range(6):\n",
        "    print(i, end=\" \")\n",
        "  print()"
      ],
      "metadata": {
        "colab": {
          "base_uri": "https://localhost:8080/"
        },
        "id": "pZPeHMkVCPdd",
        "outputId": "19479ddd-4232-4270-980c-217e93d3a319"
      },
      "execution_count": 13,
      "outputs": [
        {
          "output_type": "stream",
          "name": "stdout",
          "text": [
            "0 0 0 0 0 0 \n",
            "1 1 1 1 1 1 \n",
            "2 2 2 2 2 2 \n"
          ]
        }
      ]
    },
    {
      "cell_type": "code",
      "source": [
        "# Nested Loop - i represent rows and j represent column (as inside or nested lool)\n",
        "for i in range(3):\n",
        "  for j in range(6):\n",
        "    print(j, end=\" \")\n",
        "  print()"
      ],
      "metadata": {
        "colab": {
          "base_uri": "https://localhost:8080/"
        },
        "id": "57u1Fc3YD3Ro",
        "outputId": "a3edf45b-5963-4855-86ac-4535c7cb1a72"
      },
      "execution_count": 14,
      "outputs": [
        {
          "output_type": "stream",
          "name": "stdout",
          "text": [
            "0 1 2 3 4 5 \n",
            "0 1 2 3 4 5 \n",
            "0 1 2 3 4 5 \n"
          ]
        }
      ]
    },
    {
      "cell_type": "code",
      "source": [
        "# Nested Loop - i represent rows and j represent column (as inside or nested lool)\n",
        "a = int(input())\n",
        "for i in range(1,a+1):\n",
        "  for j in range(i):\n",
        "    print('*', end=\" \")\n",
        "  print()"
      ],
      "metadata": {
        "colab": {
          "base_uri": "https://localhost:8080/"
        },
        "id": "j2cNKdWmEuWp",
        "outputId": "c390fb37-e7cd-45b7-ff7e-2d448f2fb5c6"
      },
      "execution_count": 16,
      "outputs": [
        {
          "output_type": "stream",
          "name": "stdout",
          "text": [
            "4\n",
            "* \n",
            "* * \n",
            "* * * \n",
            "* * * * \n"
          ]
        }
      ]
    },
    {
      "cell_type": "code",
      "source": [
        "# Nested Loop with negative steps- i represent rows and j represent column (as inside or nested lool)\n",
        "a = int(input())\n",
        "for i in range(a,0,-1):\n",
        "  for j in range(i):\n",
        "    print('*', end=\" \")\n",
        "  print()"
      ],
      "metadata": {
        "colab": {
          "base_uri": "https://localhost:8080/"
        },
        "id": "eM75vad7FYhv",
        "outputId": "e7b8dbbd-a924-4aaa-b129-f3afe53d6216"
      },
      "execution_count": 19,
      "outputs": [
        {
          "output_type": "stream",
          "name": "stdout",
          "text": [
            "4\n",
            "* * * * \n",
            "* * * \n",
            "* * \n",
            "* \n"
          ]
        }
      ]
    },
    {
      "cell_type": "code",
      "source": [],
      "metadata": {
        "id": "s1jQR6o4HV9I"
      },
      "execution_count": null,
      "outputs": []
    },
    {
      "cell_type": "code",
      "source": [
        "# Nested Loop - i represent rows and j represent column (as inside or nested lool)\n",
        "a = int(input())\n",
        "for i in range(1,a+1):\n",
        "  for j in range(i):\n",
        "    print(i, end=\" \")\n",
        "  print()"
      ],
      "metadata": {
        "colab": {
          "base_uri": "https://localhost:8080/"
        },
        "outputId": "1d1519aa-58bc-4a69-d8ab-da2b571fc289",
        "id": "LZAObj_JHWPA"
      },
      "execution_count": 23,
      "outputs": [
        {
          "output_type": "stream",
          "name": "stdout",
          "text": [
            "4\n",
            "1 \n",
            "2 2 \n",
            "3 3 3 \n",
            "4 4 4 4 \n"
          ]
        }
      ]
    },
    {
      "cell_type": "code",
      "source": [
        "# Nested Loop - i represent rows and j represent column (as inside or nested lool)\n",
        "a = int(input())\n",
        "for i in range(1,a+1):\n",
        "  for j in range(1, i+1):\n",
        "    print(j, end=\" \")\n",
        "  print()"
      ],
      "metadata": {
        "colab": {
          "base_uri": "https://localhost:8080/"
        },
        "id": "-3cLeA2fH0VQ",
        "outputId": "3662112a-2817-4591-a1ca-04bfccd9f20a"
      },
      "execution_count": 26,
      "outputs": [
        {
          "output_type": "stream",
          "name": "stdout",
          "text": [
            "4\n",
            "1 \n",
            "1 2 \n",
            "1 2 3 \n",
            "1 2 3 4 \n"
          ]
        }
      ]
    },
    {
      "cell_type": "code",
      "source": [
        "# break -- stop running code\n",
        "for i in range(1, 10, 1):\n",
        "  if i > 5:\n",
        "    break\n",
        "  print(i)"
      ],
      "metadata": {
        "colab": {
          "base_uri": "https://localhost:8080/"
        },
        "id": "8SCDf7OeJvFV",
        "outputId": "9c1bd4e2-addd-470d-b349-0fdf7fecadb7"
      },
      "execution_count": 28,
      "outputs": [
        {
          "output_type": "stream",
          "name": "stdout",
          "text": [
            "1\n",
            "2\n",
            "3\n",
            "4\n",
            "5\n"
          ]
        }
      ]
    },
    {
      "cell_type": "code",
      "source": [
        "# pass--empty or nothing -- just to maintain syntax without giveing any input or condition\n",
        "for i in range(4):\n",
        "  pass\n",
        "  print(i)"
      ],
      "metadata": {
        "colab": {
          "base_uri": "https://localhost:8080/"
        },
        "id": "Ep7rKyf2LEKA",
        "outputId": "a44753cd-0e7e-42f8-b134-db27a90f324a"
      },
      "execution_count": 34,
      "outputs": [
        {
          "output_type": "stream",
          "name": "stdout",
          "text": [
            "0\n",
            "1\n",
            "2\n",
            "3\n"
          ]
        }
      ]
    },
    {
      "cell_type": "code",
      "source": [
        "# continue -- breaking current iteration of the loop\n",
        "for i in range(10):\n",
        "  if i%2==0:\n",
        "    continue\n",
        "  print(i)"
      ],
      "metadata": {
        "colab": {
          "base_uri": "https://localhost:8080/"
        },
        "id": "mbKbcvgzL3PY",
        "outputId": "eecd5099-4977-4db6-ca38-5f49b18575fc"
      },
      "execution_count": 38,
      "outputs": [
        {
          "output_type": "stream",
          "name": "stdout",
          "text": [
            "1\n",
            "3\n",
            "5\n",
            "7\n",
            "9\n"
          ]
        }
      ]
    },
    {
      "cell_type": "code",
      "source": [
        "#string functions\n",
        "a=\"how are you\"\n",
        "a.capitalize()"
      ],
      "metadata": {
        "colab": {
          "base_uri": "https://localhost:8080/",
          "height": 35
        },
        "id": "KkBK6Qe7dwto",
        "outputId": "04a097b3-aaa4-4a61-86d5-b3afd9ed6c06"
      },
      "execution_count": 40,
      "outputs": [
        {
          "output_type": "execute_result",
          "data": {
            "text/plain": [
              "'How are you'"
            ],
            "application/vnd.google.colaboratory.intrinsic+json": {
              "type": "string"
            }
          },
          "metadata": {},
          "execution_count": 40
        }
      ]
    },
    {
      "cell_type": "code",
      "source": [
        "a=\"how are you\"\n",
        "a.title()"
      ],
      "metadata": {
        "colab": {
          "base_uri": "https://localhost:8080/",
          "height": 35
        },
        "id": "yYODdntaeFc0",
        "outputId": "7ce2ec71-a6c7-4b8a-99ec-a7f52148eec6"
      },
      "execution_count": 41,
      "outputs": [
        {
          "output_type": "execute_result",
          "data": {
            "text/plain": [
              "'How Are You'"
            ],
            "application/vnd.google.colaboratory.intrinsic+json": {
              "type": "string"
            }
          },
          "metadata": {},
          "execution_count": 41
        }
      ]
    },
    {
      "cell_type": "code",
      "source": [
        "a=\"HOw are you\"\n",
        "a.lower()"
      ],
      "metadata": {
        "colab": {
          "base_uri": "https://localhost:8080/",
          "height": 35
        },
        "id": "eccLyOPbeSjk",
        "outputId": "c97f5e87-9d64-463e-86fd-8d11e17ac48e"
      },
      "execution_count": 42,
      "outputs": [
        {
          "output_type": "execute_result",
          "data": {
            "text/plain": [
              "'how are you'"
            ],
            "application/vnd.google.colaboratory.intrinsic+json": {
              "type": "string"
            }
          },
          "metadata": {},
          "execution_count": 42
        }
      ]
    },
    {
      "cell_type": "code",
      "source": [
        "a=\"HOw are you\"\n",
        "a.upper()"
      ],
      "metadata": {
        "colab": {
          "base_uri": "https://localhost:8080/",
          "height": 35
        },
        "id": "1SpdQb08fx49",
        "outputId": "b3814e1f-11cd-482d-e22b-761714d39185"
      },
      "execution_count": 43,
      "outputs": [
        {
          "output_type": "execute_result",
          "data": {
            "text/plain": [
              "'HOW ARE YOU'"
            ],
            "application/vnd.google.colaboratory.intrinsic+json": {
              "type": "string"
            }
          },
          "metadata": {},
          "execution_count": 43
        }
      ]
    },
    {
      "cell_type": "code",
      "source": [
        "#Split strint type to list type\n",
        "a=\"How are you\"\n",
        "b=a.split()\n",
        "print(b)"
      ],
      "metadata": {
        "colab": {
          "base_uri": "https://localhost:8080/"
        },
        "id": "9K3eAh5Wf2H1",
        "outputId": "b8721e2b-ce18-4ee5-a125-4768d9ad8f0f"
      },
      "execution_count": 51,
      "outputs": [
        {
          "output_type": "stream",
          "name": "stdout",
          "text": [
            "['How', 'are', 'you']\n"
          ]
        }
      ]
    },
    {
      "cell_type": "code",
      "source": [
        "#split with delimiter\n",
        "a = \"How are, you, doing today\"\n",
        "b=a.split(\",\")\n",
        "print(b)"
      ],
      "metadata": {
        "colab": {
          "base_uri": "https://localhost:8080/"
        },
        "id": "ZBElRQBegzHX",
        "outputId": "3ba131e6-a5a2-43ce-806c-6081f3dc657b"
      },
      "execution_count": 53,
      "outputs": [
        {
          "output_type": "stream",
          "name": "stdout",
          "text": [
            "['How are', ' you', ' doing today']\n"
          ]
        }
      ]
    },
    {
      "cell_type": "code",
      "source": [
        "#join is reverse of split -- combining your list to create string\n",
        "s=\"\".join(b)\n",
        "s"
      ],
      "metadata": {
        "colab": {
          "base_uri": "https://localhost:8080/",
          "height": 35
        },
        "id": "O4_cYCx-hP9m",
        "outputId": "45989caf-6dd4-4c89-fee5-8a377de1d753"
      },
      "execution_count": 54,
      "outputs": [
        {
          "output_type": "execute_result",
          "data": {
            "text/plain": [
              "'How are you doing today'"
            ],
            "application/vnd.google.colaboratory.intrinsic+json": {
              "type": "string"
            }
          },
          "metadata": {},
          "execution_count": 54
        }
      ]
    },
    {
      "cell_type": "code",
      "source": [
        "t=s.replace(\"H\",\"W\")\n",
        "t"
      ],
      "metadata": {
        "colab": {
          "base_uri": "https://localhost:8080/",
          "height": 35
        },
        "id": "9C26cmR7hvdU",
        "outputId": "87e4a842-575b-4df6-e4d0-2c148ed468cf"
      },
      "execution_count": 57,
      "outputs": [
        {
          "output_type": "execute_result",
          "data": {
            "text/plain": [
              "'Wow are you doing today'"
            ],
            "application/vnd.google.colaboratory.intrinsic+json": {
              "type": "string"
            }
          },
          "metadata": {},
          "execution_count": 57
        }
      ]
    },
    {
      "cell_type": "code",
      "source": [
        "#strip - removes empty space from beginning and end\n",
        "a=\"          HOw are you       \"\n",
        "a.strip()"
      ],
      "metadata": {
        "colab": {
          "base_uri": "https://localhost:8080/",
          "height": 35
        },
        "id": "IlmtTHRxiMrS",
        "outputId": "56be5592-121b-476d-b42c-d2625ffc3746"
      },
      "execution_count": 65,
      "outputs": [
        {
          "output_type": "execute_result",
          "data": {
            "text/plain": [
              "'HOw are you'"
            ],
            "application/vnd.google.colaboratory.intrinsic+json": {
              "type": "string"
            }
          },
          "metadata": {},
          "execution_count": 65
        }
      ]
    },
    {
      "cell_type": "code",
      "source": [
        "#strip - removes empty space from beginning\n",
        "a=\"          HOw are you       \"\n",
        "a.lstrip()"
      ],
      "metadata": {
        "colab": {
          "base_uri": "https://localhost:8080/",
          "height": 35
        },
        "outputId": "1212f6a8-4717-4495-eec4-71692a93c440",
        "id": "jve7L59mnK55"
      },
      "execution_count": 69,
      "outputs": [
        {
          "output_type": "execute_result",
          "data": {
            "text/plain": [
              "'HOw are you       '"
            ],
            "application/vnd.google.colaboratory.intrinsic+json": {
              "type": "string"
            }
          },
          "metadata": {},
          "execution_count": 69
        }
      ]
    },
    {
      "cell_type": "code",
      "source": [
        "a=\"frog\"\n",
        "for i in a:\n",
        "  print(i)"
      ],
      "metadata": {
        "colab": {
          "base_uri": "https://localhost:8080/"
        },
        "id": "xoXJyVwimxOR",
        "outputId": "aa6ecbf4-e8e3-4822-9387-c301d2473133"
      },
      "execution_count": 68,
      "outputs": [
        {
          "output_type": "stream",
          "name": "stdout",
          "text": [
            "f\n",
            "r\n",
            "o\n",
            "g\n"
          ]
        }
      ]
    },
    {
      "cell_type": "code",
      "source": [
        "find_vowel = str(input())\n",
        "a = 0\n",
        "for i in find_vowel:\n",
        "  if i in \"aeiou\":\n",
        "    a += 1\n",
        "print(\"The number of vowels in the string is:\", a)"
      ],
      "metadata": {
        "colab": {
          "base_uri": "https://localhost:8080/"
        },
        "id": "0t8iWzsVmKgj",
        "outputId": "1039e03b-f5a1-4510-b03c-6fc2a5646314"
      },
      "execution_count": 67,
      "outputs": [
        {
          "output_type": "stream",
          "name": "stdout",
          "text": [
            "hello world\n",
            "The number of vowels in the string is: 3\n"
          ]
        }
      ]
    }
  ]
}