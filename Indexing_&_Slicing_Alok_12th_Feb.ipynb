{
  "nbformat": 4,
  "nbformat_minor": 0,
  "metadata": {
    "colab": {
      "provenance": [],
      "include_colab_link": true
    },
    "kernelspec": {
      "name": "python3",
      "display_name": "Python 3"
    },
    "language_info": {
      "name": "python"
    }
  },
  "cells": [
    {
      "cell_type": "markdown",
      "metadata": {
        "id": "view-in-github",
        "colab_type": "text"
      },
      "source": [
        "<a href=\"https://colab.research.google.com/github/LokeCoder11/KnowledgeReference/blob/main/Indexing_%26_Slicing_Alok_12th_Feb.ipynb\" target=\"_parent\"><img src=\"https://colab.research.google.com/assets/colab-badge.svg\" alt=\"Open In Colab\"/></a>"
      ]
    },
    {
      "cell_type": "code",
      "execution_count": null,
      "metadata": {
        "id": "dDjExWMPsTvK"
      },
      "outputs": [],
      "source": [
        "#Revision\n",
        "# Immutable Dtypes -> String, Tuple, Int, Float, Boolean\n",
        "# Mutable Dtypes -->  List, Set , Dict"
      ]
    },
    {
      "cell_type": "code",
      "source": [
        "# ordered --> List, Tuple, String\n",
        "# Unordered --> Set, Dict"
      ],
      "metadata": {
        "id": "uh3BPM6Pvpg5"
      },
      "execution_count": null,
      "outputs": []
    },
    {
      "cell_type": "code",
      "source": [
        "# Representation\n",
        "ex = (3,4,5,6)\n",
        "type(ex) # tuple"
      ],
      "metadata": {
        "colab": {
          "base_uri": "https://localhost:8080/"
        },
        "id": "jWBEgBxtv2A4",
        "outputId": "1fff582d-e6ce-4972-ef89-782e45ff1763"
      },
      "execution_count": null,
      "outputs": [
        {
          "output_type": "execute_result",
          "data": {
            "text/plain": [
              "tuple"
            ]
          },
          "metadata": {},
          "execution_count": 1
        }
      ]
    },
    {
      "cell_type": "code",
      "source": [
        "ex = (3)\n",
        "type(ex) # int"
      ],
      "metadata": {
        "colab": {
          "base_uri": "https://localhost:8080/"
        },
        "id": "7pIkMw6kv9qb",
        "outputId": "faa77811-54be-4e44-9360-b56516f3c238"
      },
      "execution_count": null,
      "outputs": [
        {
          "output_type": "execute_result",
          "data": {
            "text/plain": [
              "int"
            ]
          },
          "metadata": {},
          "execution_count": 2
        }
      ]
    },
    {
      "cell_type": "code",
      "source": [
        "ex = ('A')\n",
        "type(ex) # str"
      ],
      "metadata": {
        "colab": {
          "base_uri": "https://localhost:8080/"
        },
        "id": "a184MuNfwDpl",
        "outputId": "652b572a-0082-4fc5-fc66-e2d2f0c75f65"
      },
      "execution_count": null,
      "outputs": [
        {
          "output_type": "execute_result",
          "data": {
            "text/plain": [
              "str"
            ]
          },
          "metadata": {},
          "execution_count": 3
        }
      ]
    },
    {
      "cell_type": "code",
      "source": [
        "ex = ('A',)\n",
        "type(ex) # tuple"
      ],
      "metadata": {
        "colab": {
          "base_uri": "https://localhost:8080/"
        },
        "id": "re4zmAsBwG5o",
        "outputId": "5684d042-5ca9-496e-b5a6-d56a82f3a5e2"
      },
      "execution_count": null,
      "outputs": [
        {
          "output_type": "execute_result",
          "data": {
            "text/plain": [
              "tuple"
            ]
          },
          "metadata": {},
          "execution_count": 4
        }
      ]
    },
    {
      "cell_type": "code",
      "source": [
        "ex = {}\n",
        "type(ex) #Dict"
      ],
      "metadata": {
        "colab": {
          "base_uri": "https://localhost:8080/"
        },
        "id": "Mbx8GObVwJFN",
        "outputId": "77f61505-0289-48ac-9d4b-be84f368e01b"
      },
      "execution_count": null,
      "outputs": [
        {
          "output_type": "execute_result",
          "data": {
            "text/plain": [
              "dict"
            ]
          },
          "metadata": {},
          "execution_count": 5
        }
      ]
    },
    {
      "cell_type": "code",
      "source": [
        "ex = set()\n",
        "type(ex) # Set"
      ],
      "metadata": {
        "colab": {
          "base_uri": "https://localhost:8080/"
        },
        "id": "CgMiQTWswPhk",
        "outputId": "62fb1ea8-8475-423b-adea-1ae99f0b5116"
      },
      "execution_count": null,
      "outputs": [
        {
          "output_type": "execute_result",
          "data": {
            "text/plain": [
              "set"
            ]
          },
          "metadata": {},
          "execution_count": 6
        }
      ]
    },
    {
      "cell_type": "code",
      "source": [
        "# String --> Everything becomes a character\n",
        "# list, set, tuple, dict --> Each element is separated by comma"
      ],
      "metadata": {
        "id": "_Gmpk7LiwU3y"
      },
      "execution_count": null,
      "outputs": []
    },
    {
      "cell_type": "code",
      "source": [
        "ex = 'hello world' # '', \"\", ''' ''' --> Representation :: It will not have the index\n",
        "ex[0]"
      ],
      "metadata": {
        "colab": {
          "base_uri": "https://localhost:8080/",
          "height": 35
        },
        "id": "8U9z88ylwhMq",
        "outputId": "bddba54e-9ce1-4950-ac45-de916a1f6efc"
      },
      "execution_count": null,
      "outputs": [
        {
          "output_type": "execute_result",
          "data": {
            "text/plain": [
              "'h'"
            ],
            "application/vnd.google.colaboratory.intrinsic+json": {
              "type": "string"
            }
          },
          "metadata": {},
          "execution_count": 7
        }
      ]
    },
    {
      "cell_type": "code",
      "source": [
        "ex[0] = 'H' # immutable"
      ],
      "metadata": {
        "colab": {
          "base_uri": "https://localhost:8080/",
          "height": 176
        },
        "id": "ueiXOohFwxok",
        "outputId": "00886cf1-1d11-43a0-9255-d98c62c76342"
      },
      "execution_count": null,
      "outputs": [
        {
          "output_type": "error",
          "ename": "TypeError",
          "evalue": "'str' object does not support item assignment",
          "traceback": [
            "\u001b[0;31m---------------------------------------------------------------------------\u001b[0m",
            "\u001b[0;31mTypeError\u001b[0m                                 Traceback (most recent call last)",
            "\u001b[0;32m<ipython-input-8-abc3989924a8>\u001b[0m in \u001b[0;36m<cell line: 1>\u001b[0;34m()\u001b[0m\n\u001b[0;32m----> 1\u001b[0;31m \u001b[0mex\u001b[0m\u001b[0;34m[\u001b[0m\u001b[0;36m0\u001b[0m\u001b[0;34m]\u001b[0m \u001b[0;34m=\u001b[0m \u001b[0;34m'H'\u001b[0m\u001b[0;34m\u001b[0m\u001b[0;34m\u001b[0m\u001b[0m\n\u001b[0m",
            "\u001b[0;31mTypeError\u001b[0m: 'str' object does not support item assignment"
          ]
        }
      ]
    },
    {
      "cell_type": "code",
      "source": [
        "ex.replace('h','H') # Immutable? How do I defend?"
      ],
      "metadata": {
        "colab": {
          "base_uri": "https://localhost:8080/",
          "height": 35
        },
        "id": "9eARJbwEwzwm",
        "outputId": "adba6786-65dc-48d1-eeee-d5e5dc41e41a"
      },
      "execution_count": null,
      "outputs": [
        {
          "output_type": "execute_result",
          "data": {
            "text/plain": [
              "'Hello world'"
            ],
            "application/vnd.google.colaboratory.intrinsic+json": {
              "type": "string"
            }
          },
          "metadata": {},
          "execution_count": 9
        }
      ]
    },
    {
      "cell_type": "code",
      "source": [
        "print(ex) # Original value has not changed."
      ],
      "metadata": {
        "colab": {
          "base_uri": "https://localhost:8080/"
        },
        "id": "R5A8tS9Pw55-",
        "outputId": "9cacf0b0-c610-43b5-8c49-ab1186e0f7e3"
      },
      "execution_count": null,
      "outputs": [
        {
          "output_type": "stream",
          "name": "stdout",
          "text": [
            "hello world\n"
          ]
        }
      ]
    },
    {
      "cell_type": "code",
      "source": [
        "# Immutable dtypes --> Replace original data itself, unable to change individual element\n",
        "ex = ex.replace('h','H') # overwrite the data"
      ],
      "metadata": {
        "id": "PpaLlgiqxFQx"
      },
      "execution_count": null,
      "outputs": []
    },
    {
      "cell_type": "code",
      "source": [
        "print(ex)"
      ],
      "metadata": {
        "colab": {
          "base_uri": "https://localhost:8080/"
        },
        "id": "jy6uuh_ixuD6",
        "outputId": "0185ec7a-039f-4568-c682-6e3f49fa00c1"
      },
      "execution_count": null,
      "outputs": [
        {
          "output_type": "stream",
          "name": "stdout",
          "text": [
            "Hello world\n"
          ]
        }
      ]
    },
    {
      "cell_type": "code",
      "source": [
        "ex = [3,4,7,5,8,6] # List\n",
        "ex.sort() # Sorts the data in list --> In ascending order # original data has changed."
      ],
      "metadata": {
        "id": "AltkJfNIxvrS"
      },
      "execution_count": null,
      "outputs": []
    },
    {
      "cell_type": "code",
      "source": [
        "print(ex)"
      ],
      "metadata": {
        "colab": {
          "base_uri": "https://localhost:8080/"
        },
        "id": "Rsv3zS5YyaB2",
        "outputId": "2b28a911-9f9a-4d17-b36b-82a442a27aba"
      },
      "execution_count": null,
      "outputs": [
        {
          "output_type": "stream",
          "name": "stdout",
          "text": [
            "[3, 4, 5, 6, 7, 8]\n"
          ]
        }
      ]
    },
    {
      "cell_type": "code",
      "source": [
        "# Indexing and Slicing\n",
        "\n",
        "ex = 'hello'\n"
      ],
      "metadata": {
        "id": "MI316ujgyb2z"
      },
      "execution_count": null,
      "outputs": []
    },
    {
      "cell_type": "code",
      "source": [
        "print(ex[0])\n",
        "print(ex[-5])"
      ],
      "metadata": {
        "colab": {
          "base_uri": "https://localhost:8080/"
        },
        "id": "M7_37VRS25t8",
        "outputId": "470cce05-0961-4369-fd3e-8fa53b55ba6a"
      },
      "execution_count": null,
      "outputs": [
        {
          "output_type": "stream",
          "name": "stdout",
          "text": [
            "h\n",
            "h\n"
          ]
        }
      ]
    },
    {
      "cell_type": "code",
      "source": [
        "ex = ['a', 9 , 4, 7]"
      ],
      "metadata": {
        "id": "eXX1SN3828Es"
      },
      "execution_count": null,
      "outputs": []
    },
    {
      "cell_type": "code",
      "source": [
        "print(ex[3]) # +ve index"
      ],
      "metadata": {
        "colab": {
          "base_uri": "https://localhost:8080/"
        },
        "id": "fx0pXy9O3Bsz",
        "outputId": "2c6c8b7b-0282-4559-e5c3-cfa830d946f3"
      },
      "execution_count": null,
      "outputs": [
        {
          "output_type": "stream",
          "name": "stdout",
          "text": [
            "7\n"
          ]
        }
      ]
    },
    {
      "cell_type": "code",
      "source": [
        "print(ex[-1]) # -ve index"
      ],
      "metadata": {
        "colab": {
          "base_uri": "https://localhost:8080/"
        },
        "id": "9sC1yK7U3EZr",
        "outputId": "b151ac30-47b7-4096-8704-352b6c870c08"
      },
      "execution_count": null,
      "outputs": [
        {
          "output_type": "stream",
          "name": "stdout",
          "text": [
            "7\n"
          ]
        }
      ]
    },
    {
      "cell_type": "code",
      "source": [
        "# Where to use negative vs positive index?\n",
        "ex = [3,4,5,6,3,2,1,7,8,9,10,32,56]"
      ],
      "metadata": {
        "id": "LbD3PqhM3QCD"
      },
      "execution_count": null,
      "outputs": []
    },
    {
      "cell_type": "code",
      "source": [
        "# Get me the first element in ex\n",
        "print(ex[0]) # first element"
      ],
      "metadata": {
        "colab": {
          "base_uri": "https://localhost:8080/"
        },
        "id": "WZ3Le9Zx3gCQ",
        "outputId": "6ec51f68-4caf-4147-d895-17811d9e3f34"
      },
      "execution_count": null,
      "outputs": [
        {
          "output_type": "stream",
          "name": "stdout",
          "text": [
            "3\n"
          ]
        }
      ]
    },
    {
      "cell_type": "code",
      "source": [
        "# Get me the last element in ex\n",
        "print(ex[-1]) # last element"
      ],
      "metadata": {
        "colab": {
          "base_uri": "https://localhost:8080/"
        },
        "id": "zRWwJqK83riL",
        "outputId": "4d6a4469-a6a3-4af7-da24-a77917fd54ed"
      },
      "execution_count": null,
      "outputs": [
        {
          "output_type": "stream",
          "name": "stdout",
          "text": [
            "56\n"
          ]
        }
      ]
    },
    {
      "cell_type": "code",
      "source": [
        "# + ve vs -ve index\n",
        "# if the requirement is near to left side, you use +ve # 2 nd element , 3rd element\n",
        "# if the requirement is near to right side, you use -ve  # second last, 3rd last element\n",
        "# Logical\n"
      ],
      "metadata": {
        "id": "gqp6xXnP3yK-"
      },
      "execution_count": null,
      "outputs": []
    },
    {
      "cell_type": "code",
      "source": [
        "# Everyday you are checking the temp and adding it to the list\n",
        "# Check the latest temperature\n",
        "ex = [34,23,32,23,34,45,56] # Data is changing\n",
        "print(ex[-1]) # -ve index :; Latest one"
      ],
      "metadata": {
        "colab": {
          "base_uri": "https://localhost:8080/"
        },
        "id": "z1xAT2384jJl",
        "outputId": "f89581b0-538d-45a8-e5a4-4156efa72603"
      },
      "execution_count": null,
      "outputs": [
        {
          "output_type": "stream",
          "name": "stdout",
          "text": [
            "56\n"
          ]
        }
      ]
    },
    {
      "cell_type": "code",
      "source": [
        "# Nested List --> Apply indexing\n",
        "ex = [ 2 , 3 , [5,6] , True, [9,10] ] # List inside list --> nested list\n",
        "# Get the data as 6\n",
        "# if all data is same:: It's of no use for Data Scientist/ Analyst --> Feature engineering in ML, we exclude these data\n",
        "\n",
        "# How many elements are here in ex? --> 5 elements\n",
        "\n"
      ],
      "metadata": {
        "id": "9-XVaQV34wGb"
      },
      "execution_count": null,
      "outputs": []
    },
    {
      "cell_type": "code",
      "source": [
        "ex[2]"
      ],
      "metadata": {
        "colab": {
          "base_uri": "https://localhost:8080/"
        },
        "id": "yBAVs3Pn6PwJ",
        "outputId": "dde2447a-4d89-48cc-d333-a82f59afcdb9"
      },
      "execution_count": null,
      "outputs": [
        {
          "output_type": "stream",
          "name": "stdout",
          "text": [
            "[5, 6]\n"
          ]
        }
      ]
    },
    {
      "cell_type": "code",
      "source": [
        "ex[2][1]"
      ],
      "metadata": {
        "colab": {
          "base_uri": "https://localhost:8080/"
        },
        "id": "t_D9H-1h6RMF",
        "outputId": "86c36f57-d499-4901-c497-2e1df320a0d4"
      },
      "execution_count": null,
      "outputs": [
        {
          "output_type": "execute_result",
          "data": {
            "text/plain": [
              "6"
            ]
          },
          "metadata": {},
          "execution_count": 37
        }
      ]
    },
    {
      "cell_type": "code",
      "source": [
        "ex[-3][1]"
      ],
      "metadata": {
        "colab": {
          "base_uri": "https://localhost:8080/"
        },
        "id": "mWm4igcq6sFV",
        "outputId": "55c1ea93-a483-493b-c23b-d63597eadcc0"
      },
      "execution_count": null,
      "outputs": [
        {
          "output_type": "execute_result",
          "data": {
            "text/plain": [
              "6"
            ]
          },
          "metadata": {},
          "execution_count": 39
        }
      ]
    },
    {
      "cell_type": "code",
      "source": [
        "ex[-3][-1]"
      ],
      "metadata": {
        "colab": {
          "base_uri": "https://localhost:8080/"
        },
        "id": "2R771Gnj65GD",
        "outputId": "b42c0cbe-8c00-4813-b4f3-e8dc835ad927"
      },
      "execution_count": null,
      "outputs": [
        {
          "output_type": "execute_result",
          "data": {
            "text/plain": [
              "6"
            ]
          },
          "metadata": {},
          "execution_count": 41
        }
      ]
    },
    {
      "cell_type": "code",
      "source": [
        "ex = [ 2 , 3 , [5,6] , True, [ 9,10, [23,24] ] ]\n",
        "# 23 as the data\n"
      ],
      "metadata": {
        "id": "LPgr7jh86752"
      },
      "execution_count": null,
      "outputs": []
    },
    {
      "cell_type": "code",
      "source": [
        "ex[-1]"
      ],
      "metadata": {
        "colab": {
          "base_uri": "https://localhost:8080/"
        },
        "id": "hOTGe6xT7PwL",
        "outputId": "20fb2c6f-6edf-4bd2-cc54-a5764a5e8e13"
      },
      "execution_count": null,
      "outputs": [
        {
          "output_type": "execute_result",
          "data": {
            "text/plain": [
              "[9, 10, [23, 24]]"
            ]
          },
          "metadata": {},
          "execution_count": 43
        }
      ]
    },
    {
      "cell_type": "code",
      "source": [
        "ex[-1][-1]"
      ],
      "metadata": {
        "colab": {
          "base_uri": "https://localhost:8080/"
        },
        "id": "R72Prg7Z7X14",
        "outputId": "df9b7850-6638-4072-b641-0d71f3ad2682"
      },
      "execution_count": null,
      "outputs": [
        {
          "output_type": "execute_result",
          "data": {
            "text/plain": [
              "[23, 24]"
            ]
          },
          "metadata": {},
          "execution_count": 44
        }
      ]
    },
    {
      "cell_type": "code",
      "source": [
        "ex[-1][-1][0] # 23 from the ex list # left to right execution by python"
      ],
      "metadata": {
        "colab": {
          "base_uri": "https://localhost:8080/"
        },
        "id": "rNUXLX-_7eaH",
        "outputId": "565ee4f3-b524-4770-afa2-7de889c6431d"
      },
      "execution_count": null,
      "outputs": [
        {
          "output_type": "execute_result",
          "data": {
            "text/plain": [
              "23"
            ]
          },
          "metadata": {},
          "execution_count": 45
        }
      ]
    },
    {
      "cell_type": "code",
      "source": [
        "ex = [ 30, 'IN', [45,30,56], [ ['Indexing', 'Datatypes'] , ['Query', 'CRUD'] ] ]\n",
        "# Give me data about my skill in SQL # ['Query', 'CRUD']\n"
      ],
      "metadata": {
        "id": "yMcgjQxL7g_q"
      },
      "execution_count": null,
      "outputs": []
    },
    {
      "cell_type": "code",
      "source": [
        "ex[3][1]"
      ],
      "metadata": {
        "colab": {
          "base_uri": "https://localhost:8080/"
        },
        "id": "FubdRXgc8sBu",
        "outputId": "4a2b2b87-0ce6-43e0-c48c-0dcc7836c588"
      },
      "execution_count": null,
      "outputs": [
        {
          "output_type": "execute_result",
          "data": {
            "text/plain": [
              "['Query', 'CRUD']"
            ]
          },
          "metadata": {},
          "execution_count": 49
        }
      ]
    },
    {
      "cell_type": "code",
      "source": [
        "ex[-1][-1]"
      ],
      "metadata": {
        "colab": {
          "base_uri": "https://localhost:8080/"
        },
        "id": "01kezpfF8vwy",
        "outputId": "6384a05a-f09f-432d-a0d6-b60064122ad7"
      },
      "execution_count": null,
      "outputs": [
        {
          "output_type": "execute_result",
          "data": {
            "text/plain": [
              "['Query', 'CRUD']"
            ]
          },
          "metadata": {},
          "execution_count": 50
        }
      ]
    },
    {
      "cell_type": "code",
      "source": [
        "ex[-1][-1]"
      ],
      "metadata": {
        "colab": {
          "base_uri": "https://localhost:8080/"
        },
        "id": "AxjOGNB98_gp",
        "outputId": "18ae6446-7a25-4776-d6b7-2d9c615537d2"
      },
      "execution_count": null,
      "outputs": [
        {
          "output_type": "execute_result",
          "data": {
            "text/plain": [
              "['Query', 'CRUD']"
            ]
          },
          "metadata": {},
          "execution_count": 54
        }
      ]
    },
    {
      "cell_type": "code",
      "source": [
        "# Get me the data Alok has scored in M3\n",
        "ex[2][-1]"
      ],
      "metadata": {
        "colab": {
          "base_uri": "https://localhost:8080/"
        },
        "id": "PM_FJH1L9Gst",
        "outputId": "22909fd7-fea4-4e15-c63f-f1f456edf026"
      },
      "execution_count": null,
      "outputs": [
        {
          "output_type": "execute_result",
          "data": {
            "text/plain": [
              "56"
            ]
          },
          "metadata": {},
          "execution_count": 56
        }
      ]
    },
    {
      "cell_type": "code",
      "source": [
        "ex[2][2]"
      ],
      "metadata": {
        "colab": {
          "base_uri": "https://localhost:8080/"
        },
        "id": "x4Dv6vYy9krE",
        "outputId": "f3f511b6-47db-481d-e372-ad76b6a39af8"
      },
      "execution_count": null,
      "outputs": [
        {
          "output_type": "execute_result",
          "data": {
            "text/plain": [
              "56"
            ]
          },
          "metadata": {},
          "execution_count": 57
        }
      ]
    },
    {
      "cell_type": "code",
      "source": [
        "# Dictionary\n",
        "ex = {'name':'Alok', 'age':30, 'marks':[45,30,56], 'python':['Indexing', 'Datatypes'], 'sql' : ['Query', 'CRUD']} # No restriction in values, keys : list,set & Dictionary\n"
      ],
      "metadata": {
        "id": "ugnyygpt9oKl"
      },
      "execution_count": null,
      "outputs": []
    },
    {
      "cell_type": "code",
      "source": [
        "ex['age'] # What's the age? # I will not used numeric index +ve or -ve # Unordered data types"
      ],
      "metadata": {
        "colab": {
          "base_uri": "https://localhost:8080/"
        },
        "id": "tQfhyeKo-VLN",
        "outputId": "536b9be9-3c6c-45af-f886-ca0177eb5efa"
      },
      "execution_count": null,
      "outputs": [
        {
          "output_type": "execute_result",
          "data": {
            "text/plain": [
              "30"
            ]
          },
          "metadata": {},
          "execution_count": 59
        }
      ]
    },
    {
      "cell_type": "code",
      "source": [
        "# Get me the marks, alok scored in M3\n",
        "ex['marks']"
      ],
      "metadata": {
        "colab": {
          "base_uri": "https://localhost:8080/"
        },
        "id": "QmgKsRSt-ylt",
        "outputId": "db1e7f49-24cb-4599-d5fa-99f680d6e30f"
      },
      "execution_count": null,
      "outputs": [
        {
          "output_type": "execute_result",
          "data": {
            "text/plain": [
              "[45, 30, 56]"
            ]
          },
          "metadata": {},
          "execution_count": 60
        }
      ]
    },
    {
      "cell_type": "code",
      "source": [
        "ex['marks'][2]"
      ],
      "metadata": {
        "colab": {
          "base_uri": "https://localhost:8080/"
        },
        "id": "y-48XLNy_sDG",
        "outputId": "5a948732-6eda-4b48-9fd4-45aedd130a0b"
      },
      "execution_count": null,
      "outputs": [
        {
          "output_type": "execute_result",
          "data": {
            "text/plain": [
              "56"
            ]
          },
          "metadata": {},
          "execution_count": 63
        }
      ]
    },
    {
      "cell_type": "code",
      "source": [
        "ex['marks'][-1]"
      ],
      "metadata": {
        "colab": {
          "base_uri": "https://localhost:8080/"
        },
        "id": "b9ZB8Uen_uN6",
        "outputId": "2d9c763f-9334-453b-a446-90fa3c34ed45"
      },
      "execution_count": null,
      "outputs": [
        {
          "output_type": "execute_result",
          "data": {
            "text/plain": [
              "56"
            ]
          },
          "metadata": {},
          "execution_count": 64
        }
      ]
    },
    {
      "cell_type": "code",
      "source": [
        "type(ex)"
      ],
      "metadata": {
        "colab": {
          "base_uri": "https://localhost:8080/"
        },
        "id": "4WYIGIhT_GQN",
        "outputId": "39e4e3b7-8f0e-4b36-9215-2f9c3c0e4be0"
      },
      "execution_count": null,
      "outputs": [
        {
          "output_type": "execute_result",
          "data": {
            "text/plain": [
              "dict"
            ]
          },
          "metadata": {},
          "execution_count": 61
        }
      ]
    },
    {
      "cell_type": "code",
      "source": [
        "type(ex['marks'])"
      ],
      "metadata": {
        "colab": {
          "base_uri": "https://localhost:8080/"
        },
        "id": "fPxz8hN4_Pl-",
        "outputId": "115cf555-105c-4369-93cd-285cd85587b9"
      },
      "execution_count": null,
      "outputs": [
        {
          "output_type": "execute_result",
          "data": {
            "text/plain": [
              "list"
            ]
          },
          "metadata": {},
          "execution_count": 62
        }
      ]
    },
    {
      "cell_type": "code",
      "source": [
        "# marks --> variable vs 'marks' --> String"
      ],
      "metadata": {
        "id": "lQY64Ja9_R_2"
      },
      "execution_count": null,
      "outputs": []
    },
    {
      "cell_type": "code",
      "source": [
        "# keys -->\n",
        "ex = {1 : 2, 1.2 : 45, 'A':2, (3,4) :'Alma'}  # Keys:: List, Dict & set\n",
        "ex[1]"
      ],
      "metadata": {
        "colab": {
          "base_uri": "https://localhost:8080/"
        },
        "id": "NXS0YO85AAJT",
        "outputId": "eab2aaf7-2ec1-48be-9d3d-11b6feb99100"
      },
      "execution_count": null,
      "outputs": [
        {
          "output_type": "execute_result",
          "data": {
            "text/plain": [
              "2"
            ]
          },
          "metadata": {},
          "execution_count": 65
        }
      ]
    },
    {
      "cell_type": "code",
      "source": [
        "ex[1.2]"
      ],
      "metadata": {
        "colab": {
          "base_uri": "https://localhost:8080/"
        },
        "id": "-gK_NY5KAL44",
        "outputId": "4b786d7c-daf6-43f1-e2c8-3c61be1f30a8"
      },
      "execution_count": null,
      "outputs": [
        {
          "output_type": "execute_result",
          "data": {
            "text/plain": [
              "45"
            ]
          },
          "metadata": {},
          "execution_count": 66
        }
      ]
    },
    {
      "cell_type": "code",
      "source": [
        "ex['A']"
      ],
      "metadata": {
        "colab": {
          "base_uri": "https://localhost:8080/"
        },
        "id": "E0Or1-8KANZj",
        "outputId": "5873de83-de45-44e4-c5af-cd9d47338280"
      },
      "execution_count": null,
      "outputs": [
        {
          "output_type": "execute_result",
          "data": {
            "text/plain": [
              "2"
            ]
          },
          "metadata": {},
          "execution_count": 67
        }
      ]
    },
    {
      "cell_type": "code",
      "source": [
        "ex[(3,4)]"
      ],
      "metadata": {
        "colab": {
          "base_uri": "https://localhost:8080/",
          "height": 35
        },
        "id": "HinXRg1gAPdF",
        "outputId": "b719d317-787b-445a-856d-37ba2a9bf20f"
      },
      "execution_count": null,
      "outputs": [
        {
          "output_type": "execute_result",
          "data": {
            "text/plain": [
              "'Alma'"
            ],
            "application/vnd.google.colaboratory.intrinsic+json": {
              "type": "string"
            }
          },
          "metadata": {},
          "execution_count": 68
        }
      ]
    },
    {
      "cell_type": "code",
      "source": [
        "ex = {'name':'Alok', 'age':30, 'marks':[45,30,56], 'python':['Indexing', 'Datatypes'], 'sql' : ['Query', 'CRUD']} # No restriction in values, keys : list,set & Dictionary"
      ],
      "metadata": {
        "id": "yTV9bZvtARZE"
      },
      "execution_count": null,
      "outputs": []
    },
    {
      "cell_type": "code",
      "source": [
        "# I want to change the data Alok --> ALok\n",
        "ex['name'][1] = 'L' #Mutation/ Change individual element"
      ],
      "metadata": {
        "colab": {
          "base_uri": "https://localhost:8080/",
          "height": 193
        },
        "id": "2scJBj9eAU8U",
        "outputId": "7876fbde-816c-4646-ee02-f6a5e63fc876"
      },
      "execution_count": null,
      "outputs": [
        {
          "output_type": "error",
          "ename": "TypeError",
          "evalue": "'str' object does not support item assignment",
          "traceback": [
            "\u001b[0;31m---------------------------------------------------------------------------\u001b[0m",
            "\u001b[0;31mTypeError\u001b[0m                                 Traceback (most recent call last)",
            "\u001b[0;32m<ipython-input-73-bf93e089e959>\u001b[0m in \u001b[0;36m<cell line: 2>\u001b[0;34m()\u001b[0m\n\u001b[1;32m      1\u001b[0m \u001b[0;31m# I want to change the data Alok --> ALok\u001b[0m\u001b[0;34m\u001b[0m\u001b[0;34m\u001b[0m\u001b[0m\n\u001b[0;32m----> 2\u001b[0;31m \u001b[0mex\u001b[0m\u001b[0;34m[\u001b[0m\u001b[0;34m'name'\u001b[0m\u001b[0;34m]\u001b[0m\u001b[0;34m[\u001b[0m\u001b[0;36m1\u001b[0m\u001b[0;34m]\u001b[0m \u001b[0;34m=\u001b[0m \u001b[0;34m'L'\u001b[0m \u001b[0;31m#Mutation/ Change individual element\u001b[0m\u001b[0;34m\u001b[0m\u001b[0;34m\u001b[0m\u001b[0m\n\u001b[0m",
            "\u001b[0;31mTypeError\u001b[0m: 'str' object does not support item assignment"
          ]
        }
      ]
    },
    {
      "cell_type": "code",
      "source": [
        "type(ex['name'])"
      ],
      "metadata": {
        "colab": {
          "base_uri": "https://localhost:8080/"
        },
        "id": "30fyAgemAbbR",
        "outputId": "8532608c-21d6-48f1-cd11-bc16e8e07bfa"
      },
      "execution_count": null,
      "outputs": [
        {
          "output_type": "execute_result",
          "data": {
            "text/plain": [
              "str"
            ]
          },
          "metadata": {},
          "execution_count": 75
        }
      ]
    },
    {
      "cell_type": "code",
      "source": [
        "ex = {'name':'Alok', 'age':30, 'marks':[45,30,56], 'skill': { 'python':['Indexing', 'Datatypes'], 'sql' : ['Query', 'CRUD'] } }\n",
        "\n",
        "# No restriction in values, keys : list,set & Dictionary"
      ],
      "metadata": {
        "id": "g7RUInWrAm_7"
      },
      "execution_count": null,
      "outputs": []
    },
    {
      "cell_type": "code",
      "source": [
        "# get the competency or skill of Alok in python\n",
        "ex['skill']['python'] #"
      ],
      "metadata": {
        "colab": {
          "base_uri": "https://localhost:8080/"
        },
        "id": "-hdw2eSiA3HX",
        "outputId": "fb4241d9-977d-4b1b-aae1-926c8c98145e"
      },
      "execution_count": null,
      "outputs": [
        {
          "output_type": "execute_result",
          "data": {
            "text/plain": [
              "['Indexing', 'Datatypes']"
            ]
          },
          "metadata": {},
          "execution_count": 82
        }
      ]
    },
    {
      "cell_type": "code",
      "source": [
        "ex['skill'] # Dictionary : can we use numeric indexing?"
      ],
      "metadata": {
        "colab": {
          "base_uri": "https://localhost:8080/"
        },
        "id": "tk8uNAPXBTEc",
        "outputId": "0195c1a9-dc9d-4e01-f768-362fd4e70fd9"
      },
      "execution_count": null,
      "outputs": [
        {
          "output_type": "execute_result",
          "data": {
            "text/plain": [
              "{'python': ['Indexing', 'Datatypes'], 'sql': ['Query', 'CRUD']}"
            ]
          },
          "metadata": {},
          "execution_count": 83
        }
      ]
    },
    {
      "cell_type": "code",
      "source": [
        "ex['skill']['python'][0]"
      ],
      "metadata": {
        "colab": {
          "base_uri": "https://localhost:8080/",
          "height": 35
        },
        "id": "lfF_jWA7BqXS",
        "outputId": "880523a3-50b0-40b1-953f-03c3a9d48ba4"
      },
      "execution_count": null,
      "outputs": [
        {
          "output_type": "execute_result",
          "data": {
            "text/plain": [
              "'Indexing'"
            ],
            "application/vnd.google.colaboratory.intrinsic+json": {
              "type": "string"
            }
          },
          "metadata": {},
          "execution_count": 87
        }
      ]
    },
    {
      "cell_type": "code",
      "source": [
        "ex['skill']['python'][1]"
      ],
      "metadata": {
        "colab": {
          "base_uri": "https://localhost:8080/",
          "height": 35
        },
        "id": "poXXZPrIBxZj",
        "outputId": "54541f1b-d4b4-480b-f4b1-f1da1f5e43c1"
      },
      "execution_count": null,
      "outputs": [
        {
          "output_type": "execute_result",
          "data": {
            "text/plain": [
              "'Datatypes'"
            ],
            "application/vnd.google.colaboratory.intrinsic+json": {
              "type": "string"
            }
          },
          "metadata": {},
          "execution_count": 88
        }
      ]
    },
    {
      "cell_type": "code",
      "source": [
        "ex = {'name':'Alok', 'age':30, 'marks':[45,30,56], 'skill': { 'Indexing','Datatypes','Query', 'CRUD'} }"
      ],
      "metadata": {
        "id": "VbnazLWOB3Jk"
      },
      "execution_count": null,
      "outputs": []
    },
    {
      "cell_type": "code",
      "source": [
        "type(ex['skill']) # Set: Can we do any indexing in set? --> No"
      ],
      "metadata": {
        "colab": {
          "base_uri": "https://localhost:8080/"
        },
        "id": "RPRQp_TCDXMJ",
        "outputId": "480638a2-28c0-465c-f92b-47543434afc9"
      },
      "execution_count": null,
      "outputs": [
        {
          "output_type": "execute_result",
          "data": {
            "text/plain": [
              "set"
            ]
          },
          "metadata": {},
          "execution_count": 91
        }
      ]
    },
    {
      "cell_type": "code",
      "source": [
        "ex['skill']"
      ],
      "metadata": {
        "colab": {
          "base_uri": "https://localhost:8080/"
        },
        "id": "fVW8SMZmDbOj",
        "outputId": "4b54d5ca-877d-4ebe-ac7c-17c714af8e23"
      },
      "execution_count": null,
      "outputs": [
        {
          "output_type": "execute_result",
          "data": {
            "text/plain": [
              "{'CRUD', 'Datatypes', 'Indexing', 'Query'}"
            ]
          },
          "metadata": {},
          "execution_count": 93
        }
      ]
    },
    {
      "cell_type": "code",
      "source": [
        "ex = {'name':'Alok', 'age':30, 'marks':[45,30,56], 'skill': ( 'Indexing','Datatypes','Query', 'CRUD') }"
      ],
      "metadata": {
        "id": "OPnwQfM1DmNt"
      },
      "execution_count": null,
      "outputs": []
    },
    {
      "cell_type": "code",
      "source": [
        "ex['skill'][1] # Datatypes"
      ],
      "metadata": {
        "colab": {
          "base_uri": "https://localhost:8080/",
          "height": 35
        },
        "id": "Gul5RpCCD0z5",
        "outputId": "0c059dd4-d1fd-4b8c-9347-c68b9c62a8f2"
      },
      "execution_count": null,
      "outputs": [
        {
          "output_type": "execute_result",
          "data": {
            "text/plain": [
              "'Datatypes'"
            ],
            "application/vnd.google.colaboratory.intrinsic+json": {
              "type": "string"
            }
          },
          "metadata": {},
          "execution_count": 97
        }
      ]
    },
    {
      "cell_type": "code",
      "source": [
        "ex = [30,45,60] # [30,45]\n",
        "# Can you use indexing to get me this data?\n",
        "# ex[2]"
      ],
      "metadata": {
        "colab": {
          "base_uri": "https://localhost:8080/"
        },
        "id": "_DXqKP5DD2du",
        "outputId": "280a838c-6537-4559-9c7a-7ec500d46c44"
      },
      "execution_count": null,
      "outputs": [
        {
          "output_type": "execute_result",
          "data": {
            "text/plain": [
              "60"
            ]
          },
          "metadata": {},
          "execution_count": 100
        }
      ]
    },
    {
      "cell_type": "code",
      "source": [
        "ex = [2,6,7,9,10] # Slice -- [7,9,10]\n",
        "ex[2 : 5] # i = 2 , j = ??"
      ],
      "metadata": {
        "colab": {
          "base_uri": "https://localhost:8080/"
        },
        "id": "42AtAilPEl6Y",
        "outputId": "eb95f484-c9a2-4910-a038-624e021a81b8"
      },
      "execution_count": null,
      "outputs": [
        {
          "output_type": "execute_result",
          "data": {
            "text/plain": [
              "[7, 9, 10]"
            ]
          },
          "metadata": {},
          "execution_count": 102
        }
      ]
    },
    {
      "cell_type": "code",
      "source": [
        "ex = [ 34, 45, 65, 67, 78 ] # Slice : [ 45 , 65 , 67 ]"
      ],
      "metadata": {
        "id": "rM4QFLh6ISnJ"
      },
      "execution_count": null,
      "outputs": []
    },
    {
      "cell_type": "code",
      "source": [
        "ex[ 1 : 4 ] # i = 1 , j = position of 67 in OD  = 3 + 1 = 4\n"
      ],
      "metadata": {
        "colab": {
          "base_uri": "https://localhost:8080/"
        },
        "id": "pVb2AydXJx1u",
        "outputId": "3338ed90-4c55-4840-f064-1d36e2fe6c75"
      },
      "execution_count": null,
      "outputs": [
        {
          "output_type": "execute_result",
          "data": {
            "text/plain": [
              "[45, 65, 67]"
            ]
          },
          "metadata": {},
          "execution_count": 104
        }
      ]
    },
    {
      "cell_type": "code",
      "source": [
        "ex = 'hello' # Slice : hell\n",
        "ex[ 0 : 4] # i = 0, j = position of 'l' in OD = 3 +1 =4\n"
      ],
      "metadata": {
        "colab": {
          "base_uri": "https://localhost:8080/",
          "height": 35
        },
        "id": "gO-UpeooKEN5",
        "outputId": "57837ae8-13ae-411a-e684-a8bceab3e6fa"
      },
      "execution_count": null,
      "outputs": [
        {
          "output_type": "execute_result",
          "data": {
            "text/plain": [
              "'hell'"
            ],
            "application/vnd.google.colaboratory.intrinsic+json": {
              "type": "string"
            }
          },
          "metadata": {},
          "execution_count": 105
        }
      ]
    },
    {
      "cell_type": "code",
      "source": [
        "# - ve index\n",
        "ex = 'hello' # Slice : hell\n",
        "# - ve index\n",
        "ex[ -5 : -1 ] # i =  -5 & j = position of 'l' in OD = -2 +1 = -1"
      ],
      "metadata": {
        "colab": {
          "base_uri": "https://localhost:8080/",
          "height": 35
        },
        "id": "vxeb0KBbKW2t",
        "outputId": "8d24b82a-c762-4a39-f055-af0260f0f3b3"
      },
      "execution_count": null,
      "outputs": [
        {
          "output_type": "execute_result",
          "data": {
            "text/plain": [
              "'hell'"
            ],
            "application/vnd.google.colaboratory.intrinsic+json": {
              "type": "string"
            }
          },
          "metadata": {},
          "execution_count": 106
        }
      ]
    },
    {
      "cell_type": "code",
      "source": [
        "# Exception :\n",
        "ex = 'hello' # Slice : llo\n",
        "ex[ -3 : 0] #  -ve index : i = -3 , j  = position of o in OD : -1 + 1 = 0\n",
        "# 0 is considered as positive index : First element"
      ],
      "metadata": {
        "colab": {
          "base_uri": "https://localhost:8080/",
          "height": 35
        },
        "id": "ZdRuk_peKz1H",
        "outputId": "7b190ae2-e90b-41f9-ae77-3a15370d6c22"
      },
      "execution_count": null,
      "outputs": [
        {
          "output_type": "execute_result",
          "data": {
            "text/plain": [
              "''"
            ],
            "application/vnd.google.colaboratory.intrinsic+json": {
              "type": "string"
            }
          },
          "metadata": {},
          "execution_count": 107
        }
      ]
    },
    {
      "cell_type": "code",
      "source": [
        "ex[ -3 : -1] # How do we get 'llo'"
      ],
      "metadata": {
        "colab": {
          "base_uri": "https://localhost:8080/",
          "height": 35
        },
        "id": "TM0X73G0LTWm",
        "outputId": "7f463ab6-a6f7-4ed5-fbd0-3442106c8b73"
      },
      "execution_count": null,
      "outputs": [
        {
          "output_type": "execute_result",
          "data": {
            "text/plain": [
              "'ll'"
            ],
            "application/vnd.google.colaboratory.intrinsic+json": {
              "type": "string"
            }
          },
          "metadata": {},
          "execution_count": 108
        }
      ]
    },
    {
      "cell_type": "code",
      "source": [
        "# Simple way would be use +ve index\n",
        "ex[ -3 : 5] # i = -3 , j = Position of 'o' in OD : 4 + 1 = 5 # i & j\n",
        "#<< Individually you can use either -ve index or + ve index"
      ],
      "metadata": {
        "colab": {
          "base_uri": "https://localhost:8080/",
          "height": 35
        },
        "id": "bDgTLsnMLzmh",
        "outputId": "8ce1684b-a7cf-4fd3-9115-e152b244b9ec"
      },
      "execution_count": null,
      "outputs": [
        {
          "output_type": "execute_result",
          "data": {
            "text/plain": [
              "'llo'"
            ],
            "application/vnd.google.colaboratory.intrinsic+json": {
              "type": "string"
            }
          },
          "metadata": {},
          "execution_count": 109
        }
      ]
    },
    {
      "cell_type": "code",
      "source": [
        "# Slice is printing till the end of original data :\n",
        "# Always you will find this issue ^^ Exception : if you use - ve index\n",
        "# For j use positive index\n"
      ],
      "metadata": {
        "id": "MhCVqY0OMDpS"
      },
      "execution_count": null,
      "outputs": []
    },
    {
      "cell_type": "code",
      "source": [
        "# One simple way of solving it.\n",
        "ex[-3 : ] # j is blank : Which means go till the end"
      ],
      "metadata": {
        "colab": {
          "base_uri": "https://localhost:8080/",
          "height": 35
        },
        "id": "75tkJY5CMoDI",
        "outputId": "a512ae8b-aa9c-4425-ae6d-15507a349ce3"
      },
      "execution_count": null,
      "outputs": [
        {
          "output_type": "execute_result",
          "data": {
            "text/plain": [
              "'llo'"
            ],
            "application/vnd.google.colaboratory.intrinsic+json": {
              "type": "string"
            }
          },
          "metadata": {},
          "execution_count": 110
        }
      ]
    },
    {
      "cell_type": "code",
      "source": [
        "ex[-3 : ] # till end : Last element of slice is last element of original data: Leave j blank\n"
      ],
      "metadata": {
        "colab": {
          "base_uri": "https://localhost:8080/",
          "height": 35
        },
        "id": "MoqxNW0CMv6J",
        "outputId": "5330c460-a59e-4d80-ab2c-d4e5e09c2398"
      },
      "execution_count": null,
      "outputs": [
        {
          "output_type": "execute_result",
          "data": {
            "text/plain": [
              "'llo'"
            ],
            "application/vnd.google.colaboratory.intrinsic+json": {
              "type": "string"
            }
          },
          "metadata": {},
          "execution_count": 112
        }
      ]
    },
    {
      "cell_type": "code",
      "source": [
        "ex = 'hello' # Slice : 'hel'\n",
        "ex[0 : 3] # i =0 , j. = position of 'l' in OD = 2 +1 =3"
      ],
      "metadata": {
        "colab": {
          "base_uri": "https://localhost:8080/",
          "height": 35
        },
        "id": "KC_KX2TPMyER",
        "outputId": "0963ee30-6fbf-4818-f7e2-e04dc08ab3c8"
      },
      "execution_count": null,
      "outputs": [
        {
          "output_type": "execute_result",
          "data": {
            "text/plain": [
              "'hel'"
            ],
            "application/vnd.google.colaboratory.intrinsic+json": {
              "type": "string"
            }
          },
          "metadata": {},
          "execution_count": 113
        }
      ]
    },
    {
      "cell_type": "code",
      "source": [
        "ex[  : 3] # first element in slice is equal to first element in OD, keep i as blank."
      ],
      "metadata": {
        "colab": {
          "base_uri": "https://localhost:8080/",
          "height": 35
        },
        "id": "GX2rJxGtNJ5X",
        "outputId": "9e648ee8-5e8a-445f-f95b-95593d8a9f6e"
      },
      "execution_count": null,
      "outputs": [
        {
          "output_type": "execute_result",
          "data": {
            "text/plain": [
              "'hel'"
            ],
            "application/vnd.google.colaboratory.intrinsic+json": {
              "type": "string"
            }
          },
          "metadata": {},
          "execution_count": 115
        }
      ]
    },
    {
      "cell_type": "code",
      "source": [
        "ex[ : ] # i and j both blank # Python start from first element of OD and go till the end of OD"
      ],
      "metadata": {
        "colab": {
          "base_uri": "https://localhost:8080/",
          "height": 35
        },
        "id": "t4clbCFqNL-K",
        "outputId": "4e42a2df-417d-4c52-a870-258292e6abd2"
      },
      "execution_count": null,
      "outputs": [
        {
          "output_type": "execute_result",
          "data": {
            "text/plain": [
              "'hello'"
            ],
            "application/vnd.google.colaboratory.intrinsic+json": {
              "type": "string"
            }
          },
          "metadata": {},
          "execution_count": 116
        }
      ]
    },
    {
      "cell_type": "code",
      "source": [
        "ex = [3,4,5,6,7,8]\n",
        "# [4,5,6]\n",
        "ex[1 : 4 ] # i  = 1 & j = 4  as +ve index"
      ],
      "metadata": {
        "colab": {
          "base_uri": "https://localhost:8080/"
        },
        "id": "hQHXI4ZrNxlf",
        "outputId": "7f0c18a6-a7d7-4778-815c-5e9e05f15117"
      },
      "execution_count": null,
      "outputs": [
        {
          "output_type": "execute_result",
          "data": {
            "text/plain": [
              "[4, 5, 6]"
            ]
          },
          "metadata": {},
          "execution_count": 117
        }
      ]
    },
    {
      "cell_type": "code",
      "source": [
        "ex[ -5 : -2 ]  # i  = -5 & j = -3 + 1= -2   as -ve index"
      ],
      "metadata": {
        "colab": {
          "base_uri": "https://localhost:8080/"
        },
        "id": "ya-0Sc54OOLi",
        "outputId": "6ac7ed70-845f-4f7b-acde-f5f5dfa00774"
      },
      "execution_count": null,
      "outputs": [
        {
          "output_type": "execute_result",
          "data": {
            "text/plain": [
              "[4, 5, 6]"
            ]
          },
          "metadata": {},
          "execution_count": 118
        }
      ]
    },
    {
      "cell_type": "code",
      "source": [
        "# [6,7,8]\n",
        "\n",
        "ex[ -3 : ] # i =  -3 , j = blank  as -ve index"
      ],
      "metadata": {
        "colab": {
          "base_uri": "https://localhost:8080/"
        },
        "id": "mPWsHX4dObtr",
        "outputId": "deddd737-a1d8-4c0c-99d6-a3fdcd6b1458"
      },
      "execution_count": null,
      "outputs": [
        {
          "output_type": "execute_result",
          "data": {
            "text/plain": [
              "[6, 7, 8]"
            ]
          },
          "metadata": {},
          "execution_count": 119
        }
      ]
    },
    {
      "cell_type": "code",
      "source": [
        "ex[ -3 : 6 ] # i = -3 , j = position of 8 in OD = 5 +1 =6"
      ],
      "metadata": {
        "colab": {
          "base_uri": "https://localhost:8080/"
        },
        "id": "cC9VV2fBOs4m",
        "outputId": "5df69633-38ab-4842-9db8-edc24ac7ada7"
      },
      "execution_count": null,
      "outputs": [
        {
          "output_type": "execute_result",
          "data": {
            "text/plain": [
              "[6, 7, 8]"
            ]
          },
          "metadata": {},
          "execution_count": 121
        }
      ]
    },
    {
      "cell_type": "code",
      "source": [
        "# Step size : Jump\n",
        "ex = [2 , 3 , 4 , 6 , 7 , 8] # [2 , 4 , 7]\n"
      ],
      "metadata": {
        "id": "LzuO4Jc2Oxb9"
      },
      "execution_count": null,
      "outputs": []
    },
    {
      "cell_type": "code",
      "source": [
        "ex[ 0 : 5 ] # i =  0 , j = position of 7 in OD = 4 +1 = 5"
      ],
      "metadata": {
        "colab": {
          "base_uri": "https://localhost:8080/"
        },
        "id": "N5Ux6C36PVNH",
        "outputId": "12a0e65f-09e4-49d1-e09b-13446d6c2285"
      },
      "execution_count": null,
      "outputs": [
        {
          "output_type": "execute_result",
          "data": {
            "text/plain": [
              "[2, 3, 4, 6, 7]"
            ]
          },
          "metadata": {},
          "execution_count": 123
        }
      ]
    },
    {
      "cell_type": "code",
      "source": [
        "ex[ 0 : 5 : 1] # Each element is getting printed"
      ],
      "metadata": {
        "colab": {
          "base_uri": "https://localhost:8080/"
        },
        "id": "akjgdP_EPjnn",
        "outputId": "92fd21fe-caf5-4a26-98e8-12f3b4a434e2"
      },
      "execution_count": null,
      "outputs": [
        {
          "output_type": "execute_result",
          "data": {
            "text/plain": [
              "[2, 3, 4, 6, 7]"
            ]
          },
          "metadata": {},
          "execution_count": 124
        }
      ]
    },
    {
      "cell_type": "code",
      "source": [
        "# [2 , 4 , 7]\n",
        "ex[ 0 : 5 : 2] # i = 0, j =5 , k =2"
      ],
      "metadata": {
        "colab": {
          "base_uri": "https://localhost:8080/"
        },
        "id": "s1sVudbzP6LO",
        "outputId": "2a17cd5e-8802-4e82-d06c-c6559aaf899e"
      },
      "execution_count": null,
      "outputs": [
        {
          "output_type": "execute_result",
          "data": {
            "text/plain": [
              "[2, 4, 7]"
            ]
          },
          "metadata": {},
          "execution_count": 125
        }
      ]
    },
    {
      "cell_type": "code",
      "source": [
        "# There will always be a fixed pattern\n",
        "ex = [2 , 3 , 4 , 6 , 7 , 8, 9, 10 , 11 ] # Slice : [3 , 7 , 10]\n"
      ],
      "metadata": {
        "id": "R56Gsm4RQE93"
      },
      "execution_count": null,
      "outputs": []
    },
    {
      "cell_type": "code",
      "source": [
        "ex[ 1: 8 : 1  ] # i = 1 , j = position of 10 in OD = 7 +1 = 8, k =   # [3 , 7 , 10]"
      ],
      "metadata": {
        "colab": {
          "base_uri": "https://localhost:8080/"
        },
        "id": "YTSyv9KpQe-f",
        "outputId": "4e17d3b3-843a-489f-a062-c2e199f5ca0b"
      },
      "execution_count": null,
      "outputs": [
        {
          "output_type": "execute_result",
          "data": {
            "text/plain": [
              "[3, 4, 6, 7, 8, 9, 10]"
            ]
          },
          "metadata": {},
          "execution_count": 132
        }
      ]
    },
    {
      "cell_type": "code",
      "source": [
        "ex[ 1 : 8 : 2  ]"
      ],
      "metadata": {
        "colab": {
          "base_uri": "https://localhost:8080/"
        },
        "id": "9sp_2YwuQ461",
        "outputId": "bc91e949-ddc0-4cdc-fc9d-46bd4dd7ca85"
      },
      "execution_count": null,
      "outputs": [
        {
          "output_type": "execute_result",
          "data": {
            "text/plain": [
              "[3, 6, 8, 10]"
            ]
          },
          "metadata": {},
          "execution_count": 133
        }
      ]
    },
    {
      "cell_type": "code",
      "source": [
        "ex[ 1: 8 : 3 ]"
      ],
      "metadata": {
        "colab": {
          "base_uri": "https://localhost:8080/"
        },
        "id": "hAOUYWfZRWv3",
        "outputId": "0122da87-3e8b-4854-f5d9-8480d505fb79"
      },
      "execution_count": null,
      "outputs": [
        {
          "output_type": "execute_result",
          "data": {
            "text/plain": [
              "[3, 7, 10]"
            ]
          },
          "metadata": {},
          "execution_count": 134
        }
      ]
    },
    {
      "cell_type": "code",
      "source": [
        "ex = 'Science' # Slice : 'Sine'\n",
        "ex[ 0 : 7 : ] # i = 0 , j = 6 + 1 = 7, k = 2"
      ],
      "metadata": {
        "colab": {
          "base_uri": "https://localhost:8080/",
          "height": 35
        },
        "id": "W5Iic_g6RdpW",
        "outputId": "a3a99429-e2e6-4afc-b3bb-061d5d8c2146"
      },
      "execution_count": null,
      "outputs": [
        {
          "output_type": "execute_result",
          "data": {
            "text/plain": [
              "'Science'"
            ],
            "application/vnd.google.colaboratory.intrinsic+json": {
              "type": "string"
            }
          },
          "metadata": {},
          "execution_count": 138
        }
      ]
    },
    {
      "cell_type": "code",
      "source": [
        "ex[ 0 : 7 : 2 ]"
      ],
      "metadata": {
        "colab": {
          "base_uri": "https://localhost:8080/",
          "height": 35
        },
        "id": "Uc6u_Rn2SI9V",
        "outputId": "41be35b4-8f77-4385-beef-e12f60b8cdfa"
      },
      "execution_count": null,
      "outputs": [
        {
          "output_type": "execute_result",
          "data": {
            "text/plain": [
              "'Sine'"
            ],
            "application/vnd.google.colaboratory.intrinsic+json": {
              "type": "string"
            }
          },
          "metadata": {},
          "execution_count": 136
        }
      ]
    },
    {
      "cell_type": "code",
      "source": [
        "ex[ : : 2] # I and j as blank"
      ],
      "metadata": {
        "colab": {
          "base_uri": "https://localhost:8080/",
          "height": 35
        },
        "id": "OCLHELxJSM1t",
        "outputId": "6ee25be4-e641-443b-e3ef-cd5dfcf23749"
      },
      "execution_count": null,
      "outputs": [
        {
          "output_type": "execute_result",
          "data": {
            "text/plain": [
              "'Sine'"
            ],
            "application/vnd.google.colaboratory.intrinsic+json": {
              "type": "string"
            }
          },
          "metadata": {},
          "execution_count": 139
        }
      ]
    },
    {
      "cell_type": "code",
      "source": [
        "ex = [0,1,2,3,-1,-2,-1]  #--> Original Data\n",
        "# Slice -- > [3,-1,-2]\n",
        "ex[3 : 6]"
      ],
      "metadata": {
        "colab": {
          "base_uri": "https://localhost:8080/"
        },
        "id": "-KyoA9YbSeBg",
        "outputId": "281237d7-27dc-4033-8ce0-40f49ac9b728"
      },
      "execution_count": null,
      "outputs": [
        {
          "output_type": "execute_result",
          "data": {
            "text/plain": [
              "[3, -1, -2]"
            ]
          },
          "metadata": {},
          "execution_count": 140
        }
      ]
    },
    {
      "cell_type": "code",
      "source": [
        "# Reverse : Printing\n",
        "ex = [3,4,5,6,7] # Slice : [6,5,4] # Data is in reverse direction\n",
        "\n",
        "ex[  3 : 1 : -1] # i = 3, j = Position of 4 in OD = 1 - 1 = 0 , k = -ve"
      ],
      "metadata": {
        "colab": {
          "base_uri": "https://localhost:8080/"
        },
        "id": "uOdTJZS1S4wY",
        "outputId": "8bf1f9bf-81cb-43b3-c118-e245314a76ca"
      },
      "execution_count": null,
      "outputs": [
        {
          "output_type": "execute_result",
          "data": {
            "text/plain": [
              "[6, 5]"
            ]
          },
          "metadata": {},
          "execution_count": 141
        }
      ]
    },
    {
      "cell_type": "code",
      "source": [
        "ex[  3 : 0 : -1]"
      ],
      "metadata": {
        "colab": {
          "base_uri": "https://localhost:8080/"
        },
        "id": "y-dNKtDzUdVR",
        "outputId": "27d3cc69-4cc4-4257-ee22-2e923e16d508"
      },
      "execution_count": null,
      "outputs": [
        {
          "output_type": "execute_result",
          "data": {
            "text/plain": [
              "[6, 5, 4]"
            ]
          },
          "metadata": {},
          "execution_count": 143
        }
      ]
    },
    {
      "cell_type": "code",
      "source": [
        "# Normal direction\n",
        "# J = position of last element of slice in OD + 1\n",
        "# Reverse Direction\n",
        "# J = position of last element of slice in OD - 1"
      ],
      "metadata": {
        "id": "CL2QRMxWUjP_"
      },
      "execution_count": null,
      "outputs": []
    },
    {
      "cell_type": "code",
      "source": [
        "ex = [ 20, 32, 56, 76, 94 ] # [76,56,32]-->  Reverse direction\n",
        "ex[3 :0 :-1 ] # i = 3 , j = postion of 32 in OD = 1 - 1 = 0 , k = -1"
      ],
      "metadata": {
        "colab": {
          "base_uri": "https://localhost:8080/"
        },
        "id": "ZQFvGKmrU5Uz",
        "outputId": "23c5266b-c0e6-4dd0-c9c7-b4ff5bf46bfb"
      },
      "execution_count": null,
      "outputs": [
        {
          "output_type": "execute_result",
          "data": {
            "text/plain": [
              "[76, 56, 32]"
            ]
          },
          "metadata": {},
          "execution_count": 144
        }
      ]
    },
    {
      "cell_type": "code",
      "source": [
        "ex = [ 20, 32, 56, 76, 94 ] # [76,56,32,20]-->  Reverse direction\n",
        "# Exception\n",
        "ex[ 3 : : -1] # i = 3 , j= blank or use -ve index : Position of -5 -1 = -6 , k= -1"
      ],
      "metadata": {
        "colab": {
          "base_uri": "https://localhost:8080/"
        },
        "id": "GCbBakCPVT32",
        "outputId": "65f6234e-20ab-4319-e403-a8f8df8ca864"
      },
      "execution_count": null,
      "outputs": [
        {
          "output_type": "execute_result",
          "data": {
            "text/plain": [
              "[76, 56, 32, 20]"
            ]
          },
          "metadata": {},
          "execution_count": 145
        }
      ]
    },
    {
      "cell_type": "code",
      "source": [
        "ex[ 3 : -6 : - 1]"
      ],
      "metadata": {
        "colab": {
          "base_uri": "https://localhost:8080/"
        },
        "id": "JrFjK7hnVpmO",
        "outputId": "d78e3da1-6b3d-4df5-db23-27f5c8ae0e2f"
      },
      "execution_count": null,
      "outputs": [
        {
          "output_type": "execute_result",
          "data": {
            "text/plain": [
              "[76, 56, 32, 20]"
            ]
          },
          "metadata": {},
          "execution_count": 146
        }
      ]
    },
    {
      "cell_type": "code",
      "source": [
        "ex = [ 20, 32, 56, 76, 94 ] # [94 , 56 ,20]-->  Reverse direction\n",
        "ex[ 4 : -6 : -2] # i = 4 , j = -5 -1 = -6, k = -2"
      ],
      "metadata": {
        "colab": {
          "base_uri": "https://localhost:8080/"
        },
        "id": "LrJyUq8YVrpe",
        "outputId": "9d0b8bd3-26d0-482f-d829-5ac7f83ef3ed"
      },
      "execution_count": null,
      "outputs": [
        {
          "output_type": "execute_result",
          "data": {
            "text/plain": [
              "[94, 56, 20]"
            ]
          },
          "metadata": {},
          "execution_count": 149
        }
      ]
    },
    {
      "cell_type": "code",
      "source": [
        "ex[  :  : -1 ] # Reverse the list"
      ],
      "metadata": {
        "colab": {
          "base_uri": "https://localhost:8080/"
        },
        "id": "86RXhQ8PWC2T",
        "outputId": "a186858f-c078-4c1d-f7f6-fdd7328cd1f6"
      },
      "execution_count": null,
      "outputs": [
        {
          "output_type": "execute_result",
          "data": {
            "text/plain": [
              "[94, 76, 56, 32, 20]"
            ]
          },
          "metadata": {},
          "execution_count": 152
        }
      ]
    },
    {
      "cell_type": "code",
      "source": [
        "ex[  :  : 1 ]"
      ],
      "metadata": {
        "colab": {
          "base_uri": "https://localhost:8080/"
        },
        "id": "3INd1uqVWpNm",
        "outputId": "3cf66c52-c1a2-42b8-a472-bef3f2491576"
      },
      "execution_count": null,
      "outputs": [
        {
          "output_type": "execute_result",
          "data": {
            "text/plain": [
              "[20, 32, 56, 76, 94]"
            ]
          },
          "metadata": {},
          "execution_count": 153
        }
      ]
    },
    {
      "cell_type": "code",
      "source": [
        "# value of k will determine direction of print , normal (+ve) or reverse(-ve) | Jump"
      ],
      "metadata": {
        "id": "HAf7VH2_WPaQ"
      },
      "execution_count": null,
      "outputs": []
    },
    {
      "cell_type": "code",
      "source": [
        "# Palindrome??\n",
        "# Any word which is same in the reverse direction as well\n",
        "# radar --> radar, # amma --> amma , madam --> madam, level --> level :: Palindrom\n",
        "# Data --> ataD : Not a palindrome\n",
        "ex = input() # Input from user\n",
        "ex == ex[ : : -1] # here ex is equal to reverse of it :: Statement python will check"
      ],
      "metadata": {
        "colab": {
          "base_uri": "https://localhost:8080/"
        },
        "id": "wccXQgpsW-1e",
        "outputId": "06907241-b4b3-4ca1-8f06-dd9c7975dbbb"
      },
      "execution_count": null,
      "outputs": [
        {
          "name": "stdout",
          "output_type": "stream",
          "text": [
            "amma\n"
          ]
        },
        {
          "output_type": "execute_result",
          "data": {
            "text/plain": [
              "True"
            ]
          },
          "metadata": {},
          "execution_count": 159
        }
      ]
    },
    {
      "cell_type": "code",
      "source": [
        "# tuple --> Apply logics of tuple\n",
        "# Getting the data --> Purpose of Indexing and Slicing\n",
        "# Changing the data as well --> only on List not on string or tuple\n",
        "# If you use key as index, then you can change data for dictionary as well."
      ],
      "metadata": {
        "id": "QQaRo3ojXb4a"
      },
      "execution_count": null,
      "outputs": []
    },
    {
      "cell_type": "code",
      "source": [
        "ex = [3,4,5,6,7]\n",
        "# [4,5,6] --> [10,20,30]\n",
        "ex[1: 4] = [10,20,30] # List"
      ],
      "metadata": {
        "id": "gL2HSC83Yn4u"
      },
      "execution_count": null,
      "outputs": []
    },
    {
      "cell_type": "code",
      "source": [
        "print(ex)"
      ],
      "metadata": {
        "colab": {
          "base_uri": "https://localhost:8080/"
        },
        "id": "SGLnGtBjYxbW",
        "outputId": "624574da-895f-4a1d-d322-457cad745d78"
      },
      "execution_count": null,
      "outputs": [
        {
          "output_type": "stream",
          "name": "stdout",
          "text": [
            "[3, 10, 20, 30, 7]\n"
          ]
        }
      ]
    },
    {
      "cell_type": "code",
      "source": [],
      "metadata": {
        "id": "whVgoyi0Yzip"
      },
      "execution_count": null,
      "outputs": []
    }
  ]
}