{
  "nbformat": 4,
  "nbformat_minor": 0,
  "metadata": {
    "colab": {
      "provenance": [],
      "include_colab_link": true
    },
    "kernelspec": {
      "name": "python3",
      "display_name": "Python 3"
    },
    "language_info": {
      "name": "python"
    }
  },
  "cells": [
    {
      "cell_type": "markdown",
      "metadata": {
        "id": "view-in-github",
        "colab_type": "text"
      },
      "source": [
        "<a href=\"https://colab.research.google.com/github/LokeCoder11/KnowledgeReference/blob/main/OOPS_Concept_in_Python_19th_Mar.ipynb\" target=\"_parent\"><img src=\"https://colab.research.google.com/assets/colab-badge.svg\" alt=\"Open In Colab\"/></a>"
      ]
    },
    {
      "cell_type": "code",
      "execution_count": null,
      "metadata": {
        "id": "v9ElmkmP07be"
      },
      "outputs": [],
      "source": [
        "# OOPS : Object Oriented Programming\n",
        "# Class\n",
        "# Objects\n",
        "# variables : Class, Instance\n",
        "# Constructors and self\n",
        "# Methods\n",
        "# Encapsulation\n",
        "# Inheritance : super().__init__()\n",
        "# Polymorphism\n",
        "# Data Abstraction\n",
        "\n",
        "\n",
        "\n",
        "\n"
      ]
    },
    {
      "cell_type": "code",
      "source": [
        "# Real world Use case of Class : Categorizing the functions to manage it effectively.\n",
        "# 1000s Function: Categorise it : using class\n",
        "# 10 function for getting the data from database : Class\n",
        "# 10-15 functions for cleaning data : Class\n",
        "# 10-15 functions for charts and visualisation : Class\n",
        "\n",
        "\n"
      ],
      "metadata": {
        "id": "MXKuJ0UehsAS"
      },
      "execution_count": null,
      "outputs": []
    },
    {
      "cell_type": "code",
      "source": [
        "# def to define function : def is a keyword\n",
        "# class to define the class : class is a keyword\n"
      ],
      "metadata": {
        "id": "_M5AuRvdMMh-"
      },
      "execution_count": null,
      "outputs": []
    },
    {
      "cell_type": "code",
      "source": [
        "# Class : Blueprint to create the object\n",
        "\n",
        "class house:\n",
        "   pass\n",
        "# pass : Written it as a placeholder, dont; throw error right now, later code will be added\n",
        "# trying to create a blueprint which will help me build houses."
      ],
      "metadata": {
        "id": "FckPRPRc_Z9A"
      },
      "execution_count": null,
      "outputs": []
    },
    {
      "cell_type": "code",
      "source": [
        "# def abc():\n",
        "#   pass # placeholder"
      ],
      "metadata": {
        "id": "3EvnOF9MM3M7"
      },
      "execution_count": null,
      "outputs": []
    },
    {
      "cell_type": "code",
      "source": [
        "# Objects : Entities created using class\n",
        "\n",
        "house1 = house() # Initiating the object : Creating the object\n",
        "house2 = house()\n",
        "# house1 and house2 are the object created using the blueprint / class house.\n"
      ],
      "metadata": {
        "id": "o_I91IZs_emb"
      },
      "execution_count": null,
      "outputs": []
    },
    {
      "cell_type": "code",
      "source": [
        "# variables : characteristics based on which objects will differ\n",
        "\n",
        "# Class variable\n",
        "# Instance Variable\n",
        "\n",
        "class house:\n",
        "  house_design = 'urban' # Class Variables : Constant across all objects\n",
        "\n"
      ],
      "metadata": {
        "id": "vkZIwrAB_e-a"
      },
      "execution_count": null,
      "outputs": []
    },
    {
      "cell_type": "code",
      "source": [
        "house1 = house() # house1 : Object\n",
        "house2 = house() # house 2 : Object\n"
      ],
      "metadata": {
        "id": "fdBhOmLCOab4"
      },
      "execution_count": null,
      "outputs": []
    },
    {
      "cell_type": "code",
      "source": [
        "house1.house_design # to access the variable small brackets are not required, brackets are required for methods/function"
      ],
      "metadata": {
        "colab": {
          "base_uri": "https://localhost:8080/",
          "height": 35
        },
        "id": "dieNTOKOOo6K",
        "outputId": "ee1dd5bb-3603-4429-a99d-746c56865943"
      },
      "execution_count": null,
      "outputs": [
        {
          "output_type": "execute_result",
          "data": {
            "text/plain": [
              "'urban'"
            ],
            "application/vnd.google.colaboratory.intrinsic+json": {
              "type": "string"
            }
          },
          "metadata": {},
          "execution_count": 8
        }
      ]
    },
    {
      "cell_type": "code",
      "source": [
        "house2.house_design"
      ],
      "metadata": {
        "colab": {
          "base_uri": "https://localhost:8080/",
          "height": 35
        },
        "id": "_x9lOPLZO4ey",
        "outputId": "5fbd7dee-df13-4286-9e98-b39cfb874337"
      },
      "execution_count": null,
      "outputs": [
        {
          "output_type": "execute_result",
          "data": {
            "text/plain": [
              "'urban'"
            ],
            "application/vnd.google.colaboratory.intrinsic+json": {
              "type": "string"
            }
          },
          "metadata": {},
          "execution_count": 9
        }
      ]
    },
    {
      "cell_type": "code",
      "source": [
        "# TO access the value of variable in the object\n",
        "# Sytax :\n",
        "# object_name.variable_name\n"
      ],
      "metadata": {
        "id": "BzBhb4PJlnaX"
      },
      "execution_count": null,
      "outputs": []
    },
    {
      "cell_type": "code",
      "source": [
        "class bankaccount:\n",
        "  bank_name = 'SBI'\n",
        "  IFSC_code = 'SBIN00000'\n"
      ],
      "metadata": {
        "id": "bTkLbzYzPEj_"
      },
      "execution_count": null,
      "outputs": []
    },
    {
      "cell_type": "code",
      "source": [
        "p1 = bankaccount()\n",
        "p2 = bankaccount()"
      ],
      "metadata": {
        "id": "ivSUjcgxPLVh"
      },
      "execution_count": null,
      "outputs": []
    },
    {
      "cell_type": "code",
      "source": [
        "p1.bank_name # class variable"
      ],
      "metadata": {
        "colab": {
          "base_uri": "https://localhost:8080/",
          "height": 35
        },
        "id": "aAHKucWtPO4W",
        "outputId": "5c7e5055-b12d-4f11-8c76-331488be6eb1"
      },
      "execution_count": null,
      "outputs": [
        {
          "output_type": "execute_result",
          "data": {
            "text/plain": [
              "'SBI'"
            ],
            "application/vnd.google.colaboratory.intrinsic+json": {
              "type": "string"
            }
          },
          "metadata": {},
          "execution_count": 13
        }
      ]
    },
    {
      "cell_type": "code",
      "source": [
        "p2.bank_name # Class variable"
      ],
      "metadata": {
        "colab": {
          "base_uri": "https://localhost:8080/",
          "height": 35
        },
        "id": "c_tFXxhuPSMU",
        "outputId": "0469902d-18d1-4c95-b613-441961d1d186"
      },
      "execution_count": null,
      "outputs": [
        {
          "output_type": "execute_result",
          "data": {
            "text/plain": [
              "'SBI'"
            ],
            "application/vnd.google.colaboratory.intrinsic+json": {
              "type": "string"
            }
          },
          "metadata": {},
          "execution_count": 15
        }
      ]
    },
    {
      "cell_type": "code",
      "source": [
        "# Instance variable\n",
        "class bankaccount:\n",
        "  bank_name = 'SBI' # Class Variables\n",
        "  IFSC_code = 'SBIN0000' # Class Variables\n",
        "  def __init__(self,aadhar_card, city):\n",
        "    self.aadhar_card = aadhar_card # Instance Variable\n",
        "    self.city = city # Instance Variable"
      ],
      "metadata": {
        "id": "PDkzVRI3l5HJ"
      },
      "execution_count": null,
      "outputs": []
    },
    {
      "cell_type": "code",
      "source": [
        "# Instance variable differs from object to object\n",
        "p1 = bankaccount(aadhar_card = '23131313', city = 'blr')\n",
        "p2= bankaccount(aadhar_card = '546546565', city = 'mum')"
      ],
      "metadata": {
        "id": "2yI_kSPGPtIz"
      },
      "execution_count": null,
      "outputs": []
    },
    {
      "cell_type": "code",
      "source": [
        "p1.bank_name # Class Variable"
      ],
      "metadata": {
        "colab": {
          "base_uri": "https://localhost:8080/",
          "height": 35
        },
        "id": "oOGEPhZ7QFx7",
        "outputId": "be642f0c-3aad-4c44-dbf8-09cb6213a7b7"
      },
      "execution_count": null,
      "outputs": [
        {
          "output_type": "execute_result",
          "data": {
            "text/plain": [
              "'SBI'"
            ],
            "application/vnd.google.colaboratory.intrinsic+json": {
              "type": "string"
            }
          },
          "metadata": {},
          "execution_count": 20
        }
      ]
    },
    {
      "cell_type": "code",
      "source": [
        "p2.bank_name # Class Variable"
      ],
      "metadata": {
        "colab": {
          "base_uri": "https://localhost:8080/",
          "height": 35
        },
        "id": "pvxqv838QJRD",
        "outputId": "a550db88-e1cd-4f37-95a7-f9868a8656c4"
      },
      "execution_count": null,
      "outputs": [
        {
          "output_type": "execute_result",
          "data": {
            "text/plain": [
              "'SBI'"
            ],
            "application/vnd.google.colaboratory.intrinsic+json": {
              "type": "string"
            }
          },
          "metadata": {},
          "execution_count": 22
        }
      ]
    },
    {
      "cell_type": "code",
      "source": [
        "p1.aadhar_card # Instance variable : Specific to objects"
      ],
      "metadata": {
        "colab": {
          "base_uri": "https://localhost:8080/",
          "height": 35
        },
        "id": "mvkA6sU0QL87",
        "outputId": "98f9df3d-4740-44cf-f976-96fff07a4d31"
      },
      "execution_count": null,
      "outputs": [
        {
          "output_type": "execute_result",
          "data": {
            "text/plain": [
              "'23131313'"
            ],
            "application/vnd.google.colaboratory.intrinsic+json": {
              "type": "string"
            }
          },
          "metadata": {},
          "execution_count": 23
        }
      ]
    },
    {
      "cell_type": "code",
      "source": [
        "p2.aadhar_card # Instance variable : Specific to objects"
      ],
      "metadata": {
        "colab": {
          "base_uri": "https://localhost:8080/",
          "height": 35
        },
        "id": "-F5wGJ3cQN9D",
        "outputId": "559a5cdc-f679-438c-beb1-a8d5b54a3672"
      },
      "execution_count": null,
      "outputs": [
        {
          "output_type": "execute_result",
          "data": {
            "text/plain": [
              "'546546565'"
            ],
            "application/vnd.google.colaboratory.intrinsic+json": {
              "type": "string"
            }
          },
          "metadata": {},
          "execution_count": 24
        }
      ]
    },
    {
      "cell_type": "code",
      "source": [
        "class house:\n",
        "  house_design = 'Urban' # Class variable : constant accross all objects\n",
        "  def __init__(self,no_rooms, pool_size):\n",
        "    self.no_rooms = no_rooms # Instance variable\n",
        "    self.pool_size = pool_size # Instance variable\n"
      ],
      "metadata": {
        "id": "VGRWWiJaQV0K"
      },
      "execution_count": null,
      "outputs": []
    },
    {
      "cell_type": "code",
      "source": [
        "h1 = house(no_rooms = 2, pool_size = 500)\n",
        "h2 = house(no_rooms = 4 , pool_size = 200)"
      ],
      "metadata": {
        "id": "s5-eqzucQoSd"
      },
      "execution_count": null,
      "outputs": []
    },
    {
      "cell_type": "code",
      "source": [
        "h1.house_design # class variable"
      ],
      "metadata": {
        "colab": {
          "base_uri": "https://localhost:8080/",
          "height": 35
        },
        "id": "lu1iLqiaQ2lR",
        "outputId": "50a01da5-cde5-4db5-d83d-f751d888f770"
      },
      "execution_count": null,
      "outputs": [
        {
          "output_type": "execute_result",
          "data": {
            "text/plain": [
              "'Urban'"
            ],
            "application/vnd.google.colaboratory.intrinsic+json": {
              "type": "string"
            }
          },
          "metadata": {},
          "execution_count": 27
        }
      ]
    },
    {
      "cell_type": "code",
      "source": [
        "h2.house_design # class variable"
      ],
      "metadata": {
        "colab": {
          "base_uri": "https://localhost:8080/",
          "height": 35
        },
        "id": "OQI7umvbRFp1",
        "outputId": "e7d0c2c8-280e-4575-c017-f8d9992590ea"
      },
      "execution_count": null,
      "outputs": [
        {
          "output_type": "execute_result",
          "data": {
            "text/plain": [
              "'Urban'"
            ],
            "application/vnd.google.colaboratory.intrinsic+json": {
              "type": "string"
            }
          },
          "metadata": {},
          "execution_count": 28
        }
      ]
    },
    {
      "cell_type": "code",
      "source": [
        "h1.no_rooms # Instance variable"
      ],
      "metadata": {
        "colab": {
          "base_uri": "https://localhost:8080/"
        },
        "id": "14F5wxFaRO7W",
        "outputId": "92c286bb-8f9d-46c3-e2b1-621b41d40ce9"
      },
      "execution_count": null,
      "outputs": [
        {
          "output_type": "execute_result",
          "data": {
            "text/plain": [
              "2"
            ]
          },
          "metadata": {},
          "execution_count": 29
        }
      ]
    },
    {
      "cell_type": "code",
      "source": [
        "h2.no_rooms  # Instance variable"
      ],
      "metadata": {
        "colab": {
          "base_uri": "https://localhost:8080/"
        },
        "id": "LG_pYfhKRV32",
        "outputId": "7bb98a27-5dcb-4386-ae70-6a4b0387b491"
      },
      "execution_count": null,
      "outputs": [
        {
          "output_type": "execute_result",
          "data": {
            "text/plain": [
              "4"
            ]
          },
          "metadata": {},
          "execution_count": 30
        }
      ]
    },
    {
      "cell_type": "code",
      "source": [
        "# Macbook\n",
        "class macbook:\n",
        "  company_name = 'Apple'\n",
        "  def __init__(self,ram, storage):\n",
        "    self.ram = ram\n",
        "    self.storage = storage\n",
        "\n",
        "\n",
        "\n",
        "\n"
      ],
      "metadata": {
        "id": "XN9sF6fgnirs"
      },
      "execution_count": null,
      "outputs": []
    },
    {
      "cell_type": "code",
      "source": [
        "mac1 = macbook(ram = '6GB',storage = '256GB') # ram , storage : instance variable\n",
        "mac2  = macbook(ram = '8GB',storage = '1024GB')"
      ],
      "metadata": {
        "id": "Z5_0f-YvRt8u"
      },
      "execution_count": null,
      "outputs": []
    },
    {
      "cell_type": "code",
      "source": [
        "# Multiple objects can be created using class\n"
      ],
      "metadata": {
        "id": "siSu6rhFSElq"
      },
      "execution_count": null,
      "outputs": []
    },
    {
      "cell_type": "code",
      "source": [
        "# mac1, mac2 Objects which I have created using the blueprint/class macbook"
      ],
      "metadata": {
        "id": "NLWXxCSeol7V"
      },
      "execution_count": null,
      "outputs": []
    },
    {
      "cell_type": "code",
      "source": [
        "# Variable : Characteristics which define the object\n",
        "# Class Variable : Variable which doesn't change across objects\n",
        "# Instance Variable : Variable which changes across objects\n"
      ],
      "metadata": {
        "id": "Bqo1kJKSoLe4"
      },
      "execution_count": null,
      "outputs": []
    },
    {
      "cell_type": "code",
      "source": [
        "# Constructors and self\n",
        "# __init__ and self\n",
        "\n",
        "class macbook: # Class\n",
        "  company_name = 'Apple' # Class Variable\n",
        "  def __init__(self,ram,screen_size,harddisk):\n",
        "    self.ram = ram # Instance Variable\n",
        "    self.screen_size = screen_size # Instance Variable\n",
        "    self.harddisk = harddisk # Instance Variable\n",
        "\n",
        "# __init__ : Constructor method : This method helps you to initialise the object or create the object\n",
        "# analogy : it works similar to getting input in functions : Output"
      ],
      "metadata": {
        "id": "lCH5fFgs_gKt"
      },
      "execution_count": null,
      "outputs": []
    },
    {
      "cell_type": "code",
      "source": [
        "#self : parameter, argument, variable : which stores all variables & mehtods inside the class to be utlised accross all methods\n"
      ],
      "metadata": {
        "id": "wmIjl-G9Ts55"
      },
      "execution_count": null,
      "outputs": []
    },
    {
      "cell_type": "code",
      "source": [
        "def function_name(a,b,c):\n",
        "  pass"
      ],
      "metadata": {
        "id": "irHmsIO9TNw6"
      },
      "execution_count": null,
      "outputs": []
    },
    {
      "cell_type": "code",
      "source": [
        "mac1  = macbook(ram = '16GB', screen_size = '24cm',harddisk= '512GB')\n",
        "# mac1 : object\n",
        "# ram : instance variable\n",
        "# company_name : Class Variable"
      ],
      "metadata": {
        "id": "TUeciBt1pqur"
      },
      "execution_count": null,
      "outputs": []
    },
    {
      "cell_type": "code",
      "source": [
        "# Class --> variable --> Methods :: Objects & utlise functions to do the task\n",
        "# Class : Blueprint/ machine : Object\n",
        "# Variable : Inputs which define the characteristic of your object\n",
        "# Method : Gears or machinary parts to manipulate the object\n"
      ],
      "metadata": {
        "id": "tOfc1p8Xbf_Y"
      },
      "execution_count": null,
      "outputs": []
    },
    {
      "cell_type": "code",
      "source": [
        "class macbook: # Class\n",
        "  company_name = 'Apple' # Class Variable\n",
        "  def __init__(self,ram,screen_size,harddisk):\n",
        "    self.ram = ram # Instance Variable\n",
        "    self.screen_size = screen_size # Instance Variable\n",
        "    self.harddisk = harddisk # Instance Variable\n",
        "\n",
        "  def display_info(self): # method\n",
        "    print(f'The macbook has the ram of {self.ram} GB, Screen size as {self.screen_size}, harddisk as {self.harddisk}')\n"
      ],
      "metadata": {
        "id": "_fbuGjw7UI4y"
      },
      "execution_count": null,
      "outputs": []
    },
    {
      "cell_type": "code",
      "source": [
        "m1 = macbook(ram = 6, screen_size = 8,harddisk = 256) # macbook class will refer init to create the object"
      ],
      "metadata": {
        "id": "KIhMgNS9UtOg"
      },
      "execution_count": null,
      "outputs": []
    },
    {
      "cell_type": "code",
      "source": [
        "m1.screen_size"
      ],
      "metadata": {
        "colab": {
          "base_uri": "https://localhost:8080/"
        },
        "id": "davolbHSVMnU",
        "outputId": "a2d6125f-9e56-4d90-f40b-307f5831afd5"
      },
      "execution_count": null,
      "outputs": [
        {
          "output_type": "execute_result",
          "data": {
            "text/plain": [
              "8"
            ]
          },
          "metadata": {},
          "execution_count": 41
        }
      ]
    },
    {
      "cell_type": "code",
      "source": [
        "m1.display_info() # method"
      ],
      "metadata": {
        "colab": {
          "base_uri": "https://localhost:8080/"
        },
        "id": "c1q_CCrDVQN0",
        "outputId": "9aa50d89-d834-4241-b1f8-e73b4181ad65"
      },
      "execution_count": null,
      "outputs": [
        {
          "output_type": "stream",
          "name": "stdout",
          "text": [
            "The macbook has the ram of 6 GB, Screen size as 8, harddisk as 256\n"
          ]
        }
      ]
    },
    {
      "cell_type": "code",
      "source": [
        "m2 = macbook(ram = 8, screen_size = 15,harddisk = 1024) # macbook class will refer init to create the object"
      ],
      "metadata": {
        "id": "0bw_sTAfWK7i"
      },
      "execution_count": null,
      "outputs": []
    },
    {
      "cell_type": "code",
      "source": [
        "m2.display_info()"
      ],
      "metadata": {
        "colab": {
          "base_uri": "https://localhost:8080/"
        },
        "id": "uralNUhwWPEq",
        "outputId": "29fa0ea0-e708-49ab-f30b-b7ef98364188"
      },
      "execution_count": null,
      "outputs": [
        {
          "output_type": "stream",
          "name": "stdout",
          "text": [
            "The macbook has the ram of 8 GB, Screen size as 15, harddisk as 1024\n"
          ]
        }
      ]
    },
    {
      "cell_type": "code",
      "source": [
        "# self must be defined as the first parameter for all methods, it defines the object as an instance\n"
      ],
      "metadata": {
        "id": "sYY0byrVUU0S"
      },
      "execution_count": null,
      "outputs": []
    },
    {
      "cell_type": "code",
      "source": [
        "# Practice : Create a class as circle and methods as area and perimeter\n",
        "# area = pi* r**2\n",
        "# Perimeter = 2* pi * r\n",
        "# pi = 3.14\n",
        "# radius is instance variable\n",
        "# __init__ (double underscore as prefix and suffix)\n",
        "\n",
        "class circle:\n",
        "  def __init__(self,radius,pi = 3.14): # default value to pi\n",
        "    self.radius = radius\n",
        "    self.pi = pi\n",
        "\n",
        "  def area(self): # Self as the first argument\n",
        "    return self.pi * self.radius**2\n",
        "\n",
        "  def perimeter(self): # Self as the first argument\n",
        "    return 2* self.pi * self.radius\n",
        "\n",
        "\n",
        "# no class variable\n",
        "# radius & pi as your instance variable\n",
        "# pi has default value assigned\n"
      ],
      "metadata": {
        "id": "COD7xBH9uG-V"
      },
      "execution_count": null,
      "outputs": []
    },
    {
      "cell_type": "code",
      "source": [
        "c1 = circle(radius = 3) # Creating an object c1"
      ],
      "metadata": {
        "id": "NOjrOoFiX-iM"
      },
      "execution_count": null,
      "outputs": []
    },
    {
      "cell_type": "code",
      "source": [
        "c1.area()"
      ],
      "metadata": {
        "colab": {
          "base_uri": "https://localhost:8080/"
        },
        "id": "YauRbXqeaOmn",
        "outputId": "fadeaa33-1dc4-412c-947e-bbc924a911e0"
      },
      "execution_count": null,
      "outputs": [
        {
          "output_type": "execute_result",
          "data": {
            "text/plain": [
              "28.26"
            ]
          },
          "metadata": {},
          "execution_count": 49
        }
      ]
    },
    {
      "cell_type": "code",
      "source": [
        "c1.perimeter()"
      ],
      "metadata": {
        "colab": {
          "base_uri": "https://localhost:8080/"
        },
        "id": "rUBsqJECaQmd",
        "outputId": "d7454332-c9ae-4ae3-f76a-cd456efd4f65"
      },
      "execution_count": null,
      "outputs": [
        {
          "output_type": "execute_result",
          "data": {
            "text/plain": [
              "18.84"
            ]
          },
          "metadata": {},
          "execution_count": 50
        }
      ]
    },
    {
      "cell_type": "code",
      "source": [
        "c2 = circle(radius = 10)"
      ],
      "metadata": {
        "id": "hQc52p8FaT7f"
      },
      "execution_count": null,
      "outputs": []
    },
    {
      "cell_type": "code",
      "source": [
        "c2.area()"
      ],
      "metadata": {
        "colab": {
          "base_uri": "https://localhost:8080/"
        },
        "id": "3uOeqvjHaXRB",
        "outputId": "de0b6619-b65d-4138-d747-501e0f6a5405"
      },
      "execution_count": null,
      "outputs": [
        {
          "output_type": "execute_result",
          "data": {
            "text/plain": [
              "314.0"
            ]
          },
          "metadata": {},
          "execution_count": 52
        }
      ]
    },
    {
      "cell_type": "code",
      "source": [
        "c2.perimeter()"
      ],
      "metadata": {
        "colab": {
          "base_uri": "https://localhost:8080/"
        },
        "id": "7AWMrAslaYtA",
        "outputId": "a6283516-7e26-4211-aed8-92408dbe0fc4"
      },
      "execution_count": null,
      "outputs": [
        {
          "output_type": "execute_result",
          "data": {
            "text/plain": [
              "62.800000000000004"
            ]
          },
          "metadata": {},
          "execution_count": 53
        }
      ]
    },
    {
      "cell_type": "code",
      "source": [
        "cir = circle(5)\n",
        "print('Area of circle :', cir.area()) # area is method\n",
        "print('Perimeter of circle :', cir.perimeter()) # Perimeter of the"
      ],
      "metadata": {
        "colab": {
          "base_uri": "https://localhost:8080/"
        },
        "id": "DlyrXdrtawLy",
        "outputId": "85806bf5-8ce6-4eb7-e6d7-605368976391"
      },
      "execution_count": null,
      "outputs": [
        {
          "output_type": "stream",
          "name": "stdout",
          "text": [
            "Area of circle : 78.5\n",
            "Area of circle : 31.400000000000002\n"
          ]
        }
      ]
    },
    {
      "cell_type": "code",
      "source": [
        "# Is c1 still active? : Yes\n",
        "# Class multiple instances can be managed"
      ],
      "metadata": {
        "id": "fVa1ABxxabqA"
      },
      "execution_count": null,
      "outputs": []
    },
    {
      "cell_type": "code",
      "source": [
        "# import helps you use external libraries.pandas, numpy,\n",
        "# import pandas as pd\n"
      ],
      "metadata": {
        "id": "AiB4mezNbJzX"
      },
      "execution_count": null,
      "outputs": []
    },
    {
      "cell_type": "code",
      "source": [
        "# Practice :\n",
        "# Rectangle : Class\n",
        "# Input : length , breadth __init__\n",
        "# methods: Area, Perimeter and diagonal\n",
        "# Area :  l*b\n",
        "# perimeter : 2 (l+b)\n",
        "# diagonal : (l**2 + b**2) ** (0.5)\n",
        "# __init__ (double underscore as prefix and suffix)\n",
        "\n",
        "# Class variable : not required\n",
        "class Rectangle:\n",
        "  def __init__(self,l,b):\n",
        "    self.length = l\n",
        "    self.breadth = b\n",
        "\n",
        "  def area(self):\n",
        "    \"\"\"\n",
        "    Output: Area of the rectangle\n",
        "\n",
        "    \"\"\"\n",
        "    output = round(self.length * self.breadth)\n",
        "    return output\n",
        "\n",
        "  def perimeter(self):\n",
        "    return  round(2* (self.length + self.breadth))\n",
        "\n",
        "  def diagonal(self):\n",
        "    return round((self.length **2 + self.breadth **2) ** (0.5))\n",
        "\n",
        "\n",
        "\n",
        "\n",
        "\n",
        "\n"
      ],
      "metadata": {
        "id": "Yx7-Yp5zvMVS"
      },
      "execution_count": null,
      "outputs": []
    },
    {
      "cell_type": "code",
      "source": [
        "r1 = Rectangle(l = 5, b = 3)\n",
        "r1.perimeter()"
      ],
      "metadata": {
        "colab": {
          "base_uri": "https://localhost:8080/"
        },
        "id": "ejRlNcgFXr7l",
        "outputId": "dfee8939-788e-456e-f8d3-81218107e054"
      },
      "execution_count": null,
      "outputs": [
        {
          "output_type": "execute_result",
          "data": {
            "text/plain": [
              "16"
            ]
          },
          "metadata": {},
          "execution_count": 65
        }
      ]
    },
    {
      "cell_type": "code",
      "source": [
        "r1.area() # no bracket: it will just show the info: to access the output of method put ()"
      ],
      "metadata": {
        "colab": {
          "base_uri": "https://localhost:8080/"
        },
        "id": "1MUahakvew0S",
        "outputId": "f4309776-45d8-4d07-c3c2-1d59365a2e50"
      },
      "execution_count": null,
      "outputs": [
        {
          "output_type": "execute_result",
          "data": {
            "text/plain": [
              "15"
            ]
          },
          "metadata": {},
          "execution_count": 66
        }
      ]
    },
    {
      "cell_type": "code",
      "source": [
        "# r1.area"
      ],
      "metadata": {
        "colab": {
          "base_uri": "https://localhost:8080/",
          "height": 104
        },
        "id": "usRGF1oJfL7-",
        "outputId": "22ab0859-f32b-4e18-a7b5-520e9bbb0550"
      },
      "execution_count": null,
      "outputs": [
        {
          "output_type": "execute_result",
          "data": {
            "text/plain": [
              "<bound method Rectangle.area of <__main__.Rectangle object at 0x7d374ef0e7d0>>"
            ],
            "text/html": [
              "<div style=\"max-width:800px; border: 1px solid var(--colab-border-color);\"><style>\n",
              "      pre.function-repr-contents {\n",
              "        overflow-x: auto;\n",
              "        padding: 8px 12px;\n",
              "        max-height: 500px;\n",
              "      }\n",
              "\n",
              "      pre.function-repr-contents.function-repr-contents-collapsed {\n",
              "        cursor: pointer;\n",
              "        max-height: 100px;\n",
              "      }\n",
              "    </style>\n",
              "    <pre style=\"white-space: initial; background:\n",
              "         var(--colab-secondary-surface-color); padding: 8px 12px;\n",
              "         border-bottom: 1px solid var(--colab-border-color);\"><b>Rectangle.area</b><br/>def area()</pre><pre class=\"function-repr-contents function-repr-contents-collapsed\" style=\"\"><a class=\"filepath\" style=\"display:none\" href=\"#\">/content/&lt;ipython-input-64-a01d38eaff11&gt;</a>Output: Area of the rectangle</pre></div>"
            ]
          },
          "metadata": {},
          "execution_count": 67
        }
      ]
    },
    {
      "cell_type": "code",
      "source": [
        "# Class Circle : Area, perimeter\n",
        "# Class Rectangle : Area, Perimeter\n",
        "# def area_circle():\n",
        "#   pass\n",
        "\n",
        "# def perimeter_circle():\n",
        "#   pass\n",
        "\n",
        "# def Area_rectangle():\n",
        "#   pass\n",
        "\n",
        "# def perimeter_rectangle():\n",
        "#   pass"
      ],
      "metadata": {
        "id": "D6Y9ETmHfgba"
      },
      "execution_count": null,
      "outputs": []
    },
    {
      "cell_type": "code",
      "source": [
        "# self is default and first parameter for all the methods"
      ],
      "metadata": {
        "id": "HwcbDG_ql4ux"
      },
      "execution_count": null,
      "outputs": []
    },
    {
      "cell_type": "code",
      "source": [
        "# Problem\n",
        "# Methods : Balance_enquiry, withdraw, deposit\n",
        "class account:\n",
        "  def __init__(self,balance):\n",
        "    self.balance = balance\n",
        "\n",
        "  def balance_enquiry(self):\n",
        "    print('The current balance is INR',self.balance)\n",
        "\n",
        "\n",
        "  def deposit(self,d_amount): # d_amount is specific to this method\n",
        "    self.balance = self.balance + d_amount # Notice here i haven't self.d_amount\n",
        "    print('The new balance is INR',self.balance)\n",
        "\n",
        "\n",
        "  def withdraw(self,w_amount):\n",
        "    if self.balance < w_amount:\n",
        "      print('Insufficient Balance')\n",
        "    else:\n",
        "      self.balance = self.balance - w_amount\n",
        "      print('The new balance is INR',self.balance)\n",
        "\n",
        "\n",
        "\n",
        "\n",
        "\n"
      ],
      "metadata": {
        "id": "wXQbrKGeKeX1"
      },
      "execution_count": null,
      "outputs": []
    },
    {
      "cell_type": "code",
      "source": [
        "almabetter = account(balance = 1000)"
      ],
      "metadata": {
        "id": "WK6m8j0Gnmw8"
      },
      "execution_count": null,
      "outputs": []
    },
    {
      "cell_type": "code",
      "source": [
        "almabetter.balance_enquiry()"
      ],
      "metadata": {
        "colab": {
          "base_uri": "https://localhost:8080/"
        },
        "id": "WvVjWv0Bnxmt",
        "outputId": "903055b7-087a-4854-8a37-7fa43e8b8c72"
      },
      "execution_count": null,
      "outputs": [
        {
          "output_type": "stream",
          "name": "stdout",
          "text": [
            "The current balance is INR 1000\n"
          ]
        }
      ]
    },
    {
      "cell_type": "code",
      "source": [
        "almabetter.deposit(d_amount = 500)"
      ],
      "metadata": {
        "colab": {
          "base_uri": "https://localhost:8080/"
        },
        "id": "f4xCJLu5n3lg",
        "outputId": "3dc13d1e-0cf6-48a8-e9e2-9be72c56fac1"
      },
      "execution_count": null,
      "outputs": [
        {
          "output_type": "stream",
          "name": "stdout",
          "text": [
            "The new balance is INR 1500\n"
          ]
        }
      ]
    },
    {
      "cell_type": "code",
      "source": [
        "almabetter.balance_enquiry()"
      ],
      "metadata": {
        "colab": {
          "base_uri": "https://localhost:8080/"
        },
        "id": "KMA0iXjNoTXQ",
        "outputId": "a3441d8e-30a8-42aa-9ef8-813685f0d943"
      },
      "execution_count": null,
      "outputs": [
        {
          "output_type": "stream",
          "name": "stdout",
          "text": [
            "The current balance is INR 1500\n"
          ]
        }
      ]
    },
    {
      "cell_type": "code",
      "source": [
        "almabetter.withdraw(w_amount = 2000)"
      ],
      "metadata": {
        "colab": {
          "base_uri": "https://localhost:8080/"
        },
        "id": "SbFtKyFtoaBj",
        "outputId": "e9f5b804-a658-4cf8-e80e-e78b11f2a85c"
      },
      "execution_count": null,
      "outputs": [
        {
          "output_type": "stream",
          "name": "stdout",
          "text": [
            "Insufficient Balance\n"
          ]
        }
      ]
    },
    {
      "cell_type": "code",
      "source": [
        "almabetter.withdraw(w_amount = 1000)"
      ],
      "metadata": {
        "colab": {
          "base_uri": "https://localhost:8080/"
        },
        "id": "YgpYNy_sod5_",
        "outputId": "1def2f5e-d9af-4174-8fd3-c71394c9b22f"
      },
      "execution_count": null,
      "outputs": [
        {
          "output_type": "stream",
          "name": "stdout",
          "text": [
            "The new balance is INR 500\n"
          ]
        }
      ]
    },
    {
      "cell_type": "code",
      "source": [
        "almabetter.balance_enquiry()"
      ],
      "metadata": {
        "colab": {
          "base_uri": "https://localhost:8080/"
        },
        "id": "HUimAXe7ofsk",
        "outputId": "bad94fd9-6f1a-487a-c62a-23ec2659c245"
      },
      "execution_count": null,
      "outputs": [
        {
          "output_type": "stream",
          "name": "stdout",
          "text": [
            "The current balance is INR 500\n"
          ]
        }
      ]
    },
    {
      "cell_type": "code",
      "source": [
        "alok = account(balance = 100)"
      ],
      "metadata": {
        "id": "TT5GYf39osgY"
      },
      "execution_count": null,
      "outputs": []
    },
    {
      "cell_type": "code",
      "source": [
        "alok.balance_enquiry()"
      ],
      "metadata": {
        "colab": {
          "base_uri": "https://localhost:8080/"
        },
        "id": "3s9BEUj3oybk",
        "outputId": "7f2b4096-e397-43c7-f5a4-f00500344acd"
      },
      "execution_count": null,
      "outputs": [
        {
          "output_type": "stream",
          "name": "stdout",
          "text": [
            "The current balance is INR 100\n"
          ]
        }
      ]
    },
    {
      "cell_type": "code",
      "source": [
        "almabetter.balance_enquiry()"
      ],
      "metadata": {
        "colab": {
          "base_uri": "https://localhost:8080/"
        },
        "id": "_q3Ul7_Ho0wv",
        "outputId": "1c643a8b-b0fb-4f77-e435-5d28387342eb"
      },
      "execution_count": null,
      "outputs": [
        {
          "output_type": "stream",
          "name": "stdout",
          "text": [
            "The current balance is INR 500\n"
          ]
        }
      ]
    },
    {
      "cell_type": "code",
      "source": [
        "# only self : no parameter is required\n",
        "# Self , parameter: then parameter has to be given as an input\n",
        "\n"
      ],
      "metadata": {
        "id": "csigj-9-oGWY"
      },
      "execution_count": null,
      "outputs": []
    },
    {
      "cell_type": "code",
      "source": [
        "class account:\n",
        "  def __init__(self,balance):\n",
        "    self.balance = balance\n",
        "\n",
        "  def balance_enquiry(self):\n",
        "    print('The current balance is INR',self.balance)\n",
        "\n",
        "\n",
        "  def deposit(self,d_amount): # d_amount is specific to this method\n",
        "    self.balance = self.balance + d_amount # Notice here i haven't self.d_amount\n",
        "    print('The new balance is INR',self.balance)\n",
        "\n",
        "\n",
        "  def withdraw(self,w_amount):\n",
        "    if self.balance < w_amount:\n",
        "      print('Insufficient Balance')\n",
        "    else:\n",
        "      self.balance = self.balance - w_amount\n",
        "      print('The new balance is INR',self.balance)"
      ],
      "metadata": {
        "id": "2DRbeADrpisE"
      },
      "execution_count": null,
      "outputs": []
    },
    {
      "cell_type": "code",
      "source": [
        "john = account(balance = 1000)"
      ],
      "metadata": {
        "id": "6M3_IKm_pipN"
      },
      "execution_count": null,
      "outputs": []
    },
    {
      "cell_type": "code",
      "source": [
        "john.balance"
      ],
      "metadata": {
        "colab": {
          "base_uri": "https://localhost:8080/"
        },
        "id": "NHWNhzYrp-aT",
        "outputId": "b7dd3c8e-1abb-4d86-e3bf-309daab17ccf"
      },
      "execution_count": null,
      "outputs": [
        {
          "output_type": "execute_result",
          "data": {
            "text/plain": [
              "1000"
            ]
          },
          "metadata": {},
          "execution_count": 81
        }
      ]
    },
    {
      "cell_type": "code",
      "source": [
        "john.balance = 100000 # He accessed this variable : changed the value of it."
      ],
      "metadata": {
        "id": "bA5qLh6ZqCTy"
      },
      "execution_count": null,
      "outputs": []
    },
    {
      "cell_type": "code",
      "source": [
        "john.balance_enquiry()"
      ],
      "metadata": {
        "colab": {
          "base_uri": "https://localhost:8080/"
        },
        "id": "n53SCzCwqHfj",
        "outputId": "0ab4cc0a-06d4-44ae-be68-df262ea41a33"
      },
      "execution_count": null,
      "outputs": [
        {
          "output_type": "stream",
          "name": "stdout",
          "text": [
            "The current balance is INR 100000\n"
          ]
        }
      ]
    },
    {
      "cell_type": "code",
      "source": [],
      "metadata": {
        "id": "Ar2obH2OqVPO"
      },
      "execution_count": null,
      "outputs": []
    },
    {
      "cell_type": "code",
      "source": [
        "# Characteristics of class\n",
        "# Encaptulation : Secure your variable to access it directly.\n",
        "# putting __ (double underscore ): secures the variable\n",
        "class account:\n",
        "  def __init__(self,balance):\n",
        "    self.__balance = balance\n",
        "\n",
        "  def balance_enquiry(self):\n",
        "    print('The current balance is INR',self.__balance)\n",
        "\n",
        "\n",
        "  def deposit(self,d_amount): # d_amount is specific to this method\n",
        "    self.__balance = self.__balance + d_amount # Notice here i haven't self.d_amount\n",
        "    print('The new balance is INR',self.__balance)\n",
        "\n",
        "\n",
        "  def withdraw(self,w_amount):\n",
        "    if self.__balance < w_amount:\n",
        "      print('Insufficient Balance')\n",
        "    else:\n",
        "      self.__balance = self.__balance - w_amount\n",
        "      print('The new balance is INR',self.__balance)\n"
      ],
      "metadata": {
        "id": "XolII9ZGKY7J"
      },
      "execution_count": null,
      "outputs": []
    },
    {
      "cell_type": "code",
      "source": [
        "john = account(balance = 1000) # KYC"
      ],
      "metadata": {
        "id": "hoWcXjQuKrsK"
      },
      "execution_count": null,
      "outputs": []
    },
    {
      "cell_type": "code",
      "source": [
        "john.__balance"
      ],
      "metadata": {
        "id": "1h0rTTRkKydx"
      },
      "execution_count": null,
      "outputs": []
    },
    {
      "cell_type": "code",
      "source": [],
      "metadata": {
        "id": "qtNJlB48rz46"
      },
      "execution_count": null,
      "outputs": []
    },
    {
      "cell_type": "code",
      "source": [
        "john.balance_enquiry()"
      ],
      "metadata": {
        "colab": {
          "base_uri": "https://localhost:8080/"
        },
        "id": "e_Uf8t8_K44L",
        "outputId": "dc1d1a26-8cb3-410b-8616-de1a9818cb01"
      },
      "execution_count": null,
      "outputs": [
        {
          "output_type": "stream",
          "name": "stdout",
          "text": [
            "The current balance is INR 1000\n"
          ]
        }
      ]
    },
    {
      "cell_type": "code",
      "source": [
        "john.__balance = 10000000\n",
        "# Class : create a different instance dummy variable"
      ],
      "metadata": {
        "id": "MjMonr7QK12K"
      },
      "execution_count": null,
      "outputs": []
    },
    {
      "cell_type": "code",
      "source": [
        "john.__balance # dummy variable created by class: not being utlised by methods inside it."
      ],
      "metadata": {
        "colab": {
          "base_uri": "https://localhost:8080/"
        },
        "id": "AXZ5F6eLr1GQ",
        "outputId": "e7a62d91-aa92-4590-a745-6b0a4a140d69"
      },
      "execution_count": null,
      "outputs": [
        {
          "output_type": "execute_result",
          "data": {
            "text/plain": [
              "10000000"
            ]
          },
          "metadata": {},
          "execution_count": 92
        }
      ]
    },
    {
      "cell_type": "code",
      "source": [
        "john.balance_enquiry()"
      ],
      "metadata": {
        "id": "x_rXulSYLCXg",
        "colab": {
          "base_uri": "https://localhost:8080/"
        },
        "outputId": "3af016d7-69e3-4564-d35a-76d5e2efb779"
      },
      "execution_count": null,
      "outputs": [
        {
          "output_type": "stream",
          "name": "stdout",
          "text": [
            "The current balance is INR 1000\n"
          ]
        }
      ]
    },
    {
      "cell_type": "code",
      "source": [
        "# In Some application : there are few variables which are sensitive, and need protection to get updated directly.\n",
        "# Protect : by putting __ (double underscore) as prefix"
      ],
      "metadata": {
        "id": "_00lDQkuLNIB"
      },
      "execution_count": null,
      "outputs": []
    },
    {
      "cell_type": "code",
      "source": [
        "# Function : local variables which will get destroyed, you can;t access it once it has run.\n",
        "# Class : Instance creation, Encaptulation is required to protect some variables."
      ],
      "metadata": {
        "id": "J-BMQstoLks5"
      },
      "execution_count": null,
      "outputs": []
    },
    {
      "cell_type": "code",
      "source": [
        "# Encryption :"
      ],
      "metadata": {
        "id": "EqfwMNIXLUaJ"
      },
      "execution_count": null,
      "outputs": []
    },
    {
      "cell_type": "code",
      "source": [
        "# Encapsulation : Makes the variable secret by putting double underscore before the variable, can;t be changed or accessed directly\n",
        "\n",
        "class account:\n",
        "  def __init__(self,balance = 0): # Default value for balance\n",
        "    self.__balance = balance # 2 underscores\n",
        "\n",
        "  def display_balance(self): # getter method\n",
        "    print(f'The current balance is {self.__balance}')\n",
        "\n",
        "\n",
        "  def withdraw(self,w_amount): # w_amount : private data for this method\n",
        "    if w_amount > self.__balance:\n",
        "      print('Insufficient Balance')\n",
        "    else:\n",
        "      self.__balance = self.__balance - w_amount\n",
        "      print(f'New balance is {self.__balance}')\n",
        "\n",
        "\n",
        "  def deposit(self,d_amount): # d_amount : private data for this method\n",
        "    self.__balance = self.__balance + d_amount\n",
        "    print(f'New balance is {self.__balance}')\n",
        "\n",
        "\n"
      ],
      "metadata": {
        "id": "nyxbrGKgAMBv"
      },
      "execution_count": null,
      "outputs": []
    },
    {
      "cell_type": "code",
      "source": [
        "almabetter = account(balance = 1000)"
      ],
      "metadata": {
        "id": "H7mPJF9WMD9q"
      },
      "execution_count": null,
      "outputs": []
    },
    {
      "cell_type": "code",
      "source": [
        "almabetter.__balance"
      ],
      "metadata": {
        "colab": {
          "base_uri": "https://localhost:8080/",
          "height": 141
        },
        "id": "T8Bb5uplMHQE",
        "outputId": "e6a59ca7-4fee-4c71-ae62-233f5ff2943b"
      },
      "execution_count": null,
      "outputs": [
        {
          "output_type": "error",
          "ename": "AttributeError",
          "evalue": "'account' object has no attribute '__balance'",
          "traceback": [
            "\u001b[0;31m---------------------------------------------------------------------------\u001b[0m",
            "\u001b[0;31mAttributeError\u001b[0m                            Traceback (most recent call last)",
            "\u001b[0;32m<ipython-input-14-95f64ec5ee48>\u001b[0m in \u001b[0;36m<cell line: 1>\u001b[0;34m()\u001b[0m\n\u001b[0;32m----> 1\u001b[0;31m \u001b[0malmabetter\u001b[0m\u001b[0;34m.\u001b[0m\u001b[0m__balance\u001b[0m\u001b[0;34m\u001b[0m\u001b[0;34m\u001b[0m\u001b[0m\n\u001b[0m",
            "\u001b[0;31mAttributeError\u001b[0m: 'account' object has no attribute '__balance'"
          ]
        }
      ]
    },
    {
      "cell_type": "code",
      "source": [
        "almabetter.display_balance()"
      ],
      "metadata": {
        "colab": {
          "base_uri": "https://localhost:8080/"
        },
        "id": "fOu34mVbMLvl",
        "outputId": "8d631534-ded7-4412-af42-19d1a8106e25"
      },
      "execution_count": null,
      "outputs": [
        {
          "output_type": "stream",
          "name": "stdout",
          "text": [
            "The current balance is 1000\n"
          ]
        }
      ]
    },
    {
      "cell_type": "code",
      "source": [
        "almabetter.__balance = 10000"
      ],
      "metadata": {
        "id": "0hkflNIAMP47"
      },
      "execution_count": null,
      "outputs": []
    },
    {
      "cell_type": "code",
      "source": [
        "almabetter.display_balance()"
      ],
      "metadata": {
        "colab": {
          "base_uri": "https://localhost:8080/"
        },
        "id": "TkZlyfeOMSME",
        "outputId": "f5315965-7f4b-41b7-8caf-3dd23edb633e"
      },
      "execution_count": null,
      "outputs": [
        {
          "output_type": "stream",
          "name": "stdout",
          "text": [
            "The current balance is 1000\n"
          ]
        }
      ]
    },
    {
      "cell_type": "code",
      "source": [
        "almabetter.deposit(1500)"
      ],
      "metadata": {
        "colab": {
          "base_uri": "https://localhost:8080/"
        },
        "id": "wDBB7QQ5MdNF",
        "outputId": "157a0c43-2185-4596-94be-a2b7f60402e6"
      },
      "execution_count": null,
      "outputs": [
        {
          "output_type": "stream",
          "name": "stdout",
          "text": [
            "New balance is 2500\n"
          ]
        }
      ]
    },
    {
      "cell_type": "code",
      "source": [
        "almabetter.__balance # dummy variable created by python ;\n",
        "#which actually doesn;t the change the value present in the class/ object"
      ],
      "metadata": {
        "colab": {
          "base_uri": "https://localhost:8080/"
        },
        "id": "fQWSCLWHMgnY",
        "outputId": "26e431d9-6dfc-4c51-ad2a-4ff23c64f954"
      },
      "execution_count": null,
      "outputs": [
        {
          "output_type": "execute_result",
          "data": {
            "text/plain": [
              "10000"
            ]
          },
          "metadata": {},
          "execution_count": 19
        }
      ]
    },
    {
      "cell_type": "code",
      "source": [
        "# getter : display_balance and setter : deposit encaptualted variable method"
      ],
      "metadata": {
        "id": "SWNBPdb1M5KR"
      },
      "execution_count": null,
      "outputs": []
    },
    {
      "cell_type": "code",
      "source": [
        "# getter method : Displays the value of encaptulated variable\n",
        "# setter method : Changes the value of encaptulated variable\n",
        "# Encaptulated variable can't be changed directly.\n"
      ],
      "metadata": {
        "id": "Euqx4QiyM5Hb"
      },
      "execution_count": null,
      "outputs": []
    },
    {
      "cell_type": "code",
      "source": [
        "class circle:\n",
        "  def __init__(self,radius):\n",
        "    self.__radius = radius\n",
        "\n",
        "  def display_radius(self): # getter method\n",
        "    print('Radius',self.__radius)\n",
        "\n",
        "  def update_radius(self, new_radius): # setter method\n",
        "    self.__radius = new_radius\n",
        "    print('New Radius', self.__radius)\n"
      ],
      "metadata": {
        "id": "50qowXuNt-gV"
      },
      "execution_count": null,
      "outputs": []
    },
    {
      "cell_type": "code",
      "source": [
        "c1 = circle(radius = 5)"
      ],
      "metadata": {
        "id": "hNvTDxr_t-dd"
      },
      "execution_count": null,
      "outputs": []
    },
    {
      "cell_type": "code",
      "source": [
        "c1.__radius"
      ],
      "metadata": {
        "colab": {
          "base_uri": "https://localhost:8080/",
          "height": 141
        },
        "id": "sEKmG_sit-am",
        "outputId": "8f214fe9-de28-4bcd-e237-ed8f65e8d1d0"
      },
      "execution_count": null,
      "outputs": [
        {
          "output_type": "error",
          "ename": "AttributeError",
          "evalue": "'circle' object has no attribute '__radius'",
          "traceback": [
            "\u001b[0;31m---------------------------------------------------------------------------\u001b[0m",
            "\u001b[0;31mAttributeError\u001b[0m                            Traceback (most recent call last)",
            "\u001b[0;32m<ipython-input-98-3b251a7786dd>\u001b[0m in \u001b[0;36m<cell line: 1>\u001b[0;34m()\u001b[0m\n\u001b[0;32m----> 1\u001b[0;31m \u001b[0mc1\u001b[0m\u001b[0;34m.\u001b[0m\u001b[0m__radius\u001b[0m\u001b[0;34m\u001b[0m\u001b[0;34m\u001b[0m\u001b[0m\n\u001b[0m",
            "\u001b[0;31mAttributeError\u001b[0m: 'circle' object has no attribute '__radius'"
          ]
        }
      ]
    },
    {
      "cell_type": "code",
      "source": [
        "# getter method to see the value of radius\n",
        "c1.display_radius()"
      ],
      "metadata": {
        "colab": {
          "base_uri": "https://localhost:8080/"
        },
        "id": "mOlQITumuhEC",
        "outputId": "02735ffe-0efa-40b1-bcb1-2cef497d8518"
      },
      "execution_count": null,
      "outputs": [
        {
          "output_type": "stream",
          "name": "stdout",
          "text": [
            "Radius 5\n"
          ]
        }
      ]
    },
    {
      "cell_type": "code",
      "source": [
        "c1.update_radius(new_radius = 10)"
      ],
      "metadata": {
        "colab": {
          "base_uri": "https://localhost:8080/"
        },
        "id": "fu4CatWNumNd",
        "outputId": "902dccc1-2fd7-4010-c303-322ce9f21cf6"
      },
      "execution_count": null,
      "outputs": [
        {
          "output_type": "stream",
          "name": "stdout",
          "text": [
            "New Radius 10\n"
          ]
        }
      ]
    },
    {
      "cell_type": "code",
      "source": [
        "c1.display_radius()"
      ],
      "metadata": {
        "colab": {
          "base_uri": "https://localhost:8080/"
        },
        "id": "w5gCJeUdupwi",
        "outputId": "1d85ee3b-fbab-47cb-912a-af76c6144f45"
      },
      "execution_count": null,
      "outputs": [
        {
          "output_type": "stream",
          "name": "stdout",
          "text": [
            "Radius 10\n"
          ]
        }
      ]
    },
    {
      "cell_type": "code",
      "source": [
        "# Inheritance : super().__init__()\n",
        "class Animal: # Parent class\n",
        "  def __init__(self,species,legs):\n",
        "    self.species = species\n",
        "    self.legs = legs\n",
        "\n",
        "  def walk(self):\n",
        "    print('Animal will walk on four legs')\n",
        "\n",
        "  def sleep(self):\n",
        "    print('Animal will sleep eyes closed')\n",
        "\n",
        "  def display_species(self):\n",
        "    print(f'The species is {self.species}')\n",
        "\n",
        "\n",
        "class Dog(Animal): # Dog : Child Class : Animal : parent Class\n",
        "  def __init__(self,breed,species,legs): # it's the best practice to include all variables of parent class\n",
        "    self.breed = breed #  Specfic to Dog Class : Child Class\n",
        "    self.species = species # Specfic to Animal Class : Parent Class\n",
        "    self.legs = legs # Specfic to Animal Class : Parent Class\n",
        "\n",
        "  def eat(self):\n",
        "    print('Dogs are omnivorous')\n",
        "\n",
        "\n",
        "class Human(Animal):# Human : Child Class : Animal : Parent Class\n",
        "  def __init__(self,race,species,legs):\n",
        "    self.race = race # Specific to Human class : Child Class\n",
        "    self.species = species # Specfic to Animal Class : Parent Class\n",
        "    self.legs = legs # Specfic to Animal Class : Parent Class\n",
        "\n",
        "  def eat(self):\n",
        "    print('Humans are omnivorous')\n",
        "\n",
        "\n",
        "\n"
      ],
      "metadata": {
        "id": "HY1G8ikJAL-3"
      },
      "execution_count": null,
      "outputs": []
    },
    {
      "cell_type": "code",
      "source": [
        "beagle = Dog(breed = 'beagle',species = 'dogo' , legs = 4)# beagle : object"
      ],
      "metadata": {
        "id": "y_LWeez1ho4o"
      },
      "execution_count": null,
      "outputs": []
    },
    {
      "cell_type": "code",
      "source": [
        "beagle.eat()"
      ],
      "metadata": {
        "colab": {
          "base_uri": "https://localhost:8080/"
        },
        "id": "pdPEordQho1w",
        "outputId": "3e788bcd-a143-4b8d-b393-1f835d10bb66"
      },
      "execution_count": null,
      "outputs": [
        {
          "output_type": "stream",
          "name": "stdout",
          "text": [
            "Dogs are omnivorous\n"
          ]
        }
      ]
    },
    {
      "cell_type": "code",
      "source": [
        "beagle.sleep() # error or Animal will sleep eyes closed # Inheritance"
      ],
      "metadata": {
        "colab": {
          "base_uri": "https://localhost:8080/"
        },
        "id": "LIXQn9DghoyX",
        "outputId": "ceca0eeb-6800-486f-f46e-3633bf86b553"
      },
      "execution_count": null,
      "outputs": [
        {
          "output_type": "stream",
          "name": "stdout",
          "text": [
            "Animal will sleep eyes closed\n"
          ]
        }
      ]
    },
    {
      "cell_type": "code",
      "source": [
        "# Inheritance : Child Class will be able to use methods present in Parent class"
      ],
      "metadata": {
        "id": "PZ10U90Kh-RH"
      },
      "execution_count": null,
      "outputs": []
    },
    {
      "cell_type": "code",
      "source": [
        "beagle.display_species()"
      ],
      "metadata": {
        "colab": {
          "base_uri": "https://localhost:8080/"
        },
        "id": "jEgaUYhziT6q",
        "outputId": "f95196fa-b2ee-4cdc-d7cd-5c72be4e51f5"
      },
      "execution_count": null,
      "outputs": [
        {
          "output_type": "stream",
          "name": "stdout",
          "text": [
            "The species is dogo\n"
          ]
        }
      ]
    },
    {
      "cell_type": "code",
      "source": [
        "class Animal: # Parent class\n",
        "  def __init__(self,species,legs):\n",
        "    self.species = species\n",
        "    self.legs = legs\n",
        "\n",
        "  def walk(self):\n",
        "    print('Animal will walk on four legs')\n",
        "\n",
        "  def sleep(self):\n",
        "    print('Animal will sleep eyes closed')\n",
        "\n",
        "  def display_species(self):\n",
        "    print(f'The species is {self.species}')\n",
        "\n",
        "\n",
        "class Dog(Animal): # Dog : Child Class : Animal : parent Class # super().__init__()\n",
        "  def __init__(self,breed,species,legs): # it's the best practice to include all variables of parent class\n",
        "    self.breed = breed #  Specfic to Dog Class : Child Class\n",
        "    # self.species = species # Specfic to Animal Class : Parent Class\n",
        "    # self.legs = legs # Specfic to Animal Class : Parent Class\n",
        "    super().__init__(species,legs) # Shortcut : which defines access parent init for the self argument\n",
        "\n",
        "  def eat(self):\n",
        "    print('Dogs are omnivorous')\n",
        "\n",
        "\n",
        "class Human(Animal):# Human : Child Class : Animal : Parent Class\n",
        "  def __init__(self,race,species,legs):\n",
        "    self.race = race # Specific to Human class : Child Class\n",
        "    # self.species = species # Specfic to Animal Class : Parent Class\n",
        "    # self.legs = legs # Specfic to Animal Class : Parent Class\n",
        "    super().__init__(species,legs) # parent init for the self argument\n",
        "\n",
        "  def eat(self):\n",
        "    print('Humans are omnivorous')"
      ],
      "metadata": {
        "id": "cSIrd2-riT3y"
      },
      "execution_count": null,
      "outputs": []
    },
    {
      "cell_type": "code",
      "source": [
        "help(object)"
      ],
      "metadata": {
        "colab": {
          "base_uri": "https://localhost:8080/"
        },
        "id": "tiYAA79biT06",
        "outputId": "12cdf441-4705-4a27-b1bf-3517ccbc22e4"
      },
      "execution_count": null,
      "outputs": [
        {
          "output_type": "stream",
          "name": "stdout",
          "text": [
            "Help on class object in module builtins:\n",
            "\n",
            "class object\n",
            " |  The base class of the class hierarchy.\n",
            " |  \n",
            " |  When called, it accepts no arguments and returns a new featureless\n",
            " |  instance that has no instance attributes and cannot be given any.\n",
            " |  \n",
            " |  Built-in subclasses:\n",
            " |      anext_awaitable\n",
            " |      async_generator\n",
            " |      async_generator\n",
            " |      async_generator_asend\n",
            " |      ... and 104 other subclasses\n",
            " |  \n",
            " |  Methods defined here:\n",
            " |  \n",
            " |  __delattr__(self, name, /)\n",
            " |      Implement delattr(self, name).\n",
            " |  \n",
            " |  __dir__(self, /)\n",
            " |      Default dir() implementation.\n",
            " |  \n",
            " |  __eq__(self, value, /)\n",
            " |      Return self==value.\n",
            " |  \n",
            " |  __format__(self, format_spec, /)\n",
            " |      Default object formatter.\n",
            " |  \n",
            " |  __ge__(self, value, /)\n",
            " |      Return self>=value.\n",
            " |  \n",
            " |  __getattribute__(self, name, /)\n",
            " |      Return getattr(self, name).\n",
            " |  \n",
            " |  __gt__(self, value, /)\n",
            " |      Return self>value.\n",
            " |  \n",
            " |  __hash__(self, /)\n",
            " |      Return hash(self).\n",
            " |  \n",
            " |  __init__(self, /, *args, **kwargs)\n",
            " |      Initialize self.  See help(type(self)) for accurate signature.\n",
            " |  \n",
            " |  __le__(self, value, /)\n",
            " |      Return self<=value.\n",
            " |  \n",
            " |  __lt__(self, value, /)\n",
            " |      Return self<value.\n",
            " |  \n",
            " |  __ne__(self, value, /)\n",
            " |      Return self!=value.\n",
            " |  \n",
            " |  __reduce__(self, /)\n",
            " |      Helper for pickle.\n",
            " |  \n",
            " |  __reduce_ex__(self, protocol, /)\n",
            " |      Helper for pickle.\n",
            " |  \n",
            " |  __repr__(self, /)\n",
            " |      Return repr(self).\n",
            " |  \n",
            " |  __setattr__(self, name, value, /)\n",
            " |      Implement setattr(self, name, value).\n",
            " |  \n",
            " |  __sizeof__(self, /)\n",
            " |      Size of object in memory, in bytes.\n",
            " |  \n",
            " |  __str__(self, /)\n",
            " |      Return str(self).\n",
            " |  \n",
            " |  ----------------------------------------------------------------------\n",
            " |  Class methods defined here:\n",
            " |  \n",
            " |  __init_subclass__(...) from builtins.type\n",
            " |      This method is called when a class is subclassed.\n",
            " |      \n",
            " |      The default implementation does nothing. It may be\n",
            " |      overridden to extend subclasses.\n",
            " |  \n",
            " |  __subclasshook__(...) from builtins.type\n",
            " |      Abstract classes can override this to customize issubclass().\n",
            " |      \n",
            " |      This is invoked early on by abc.ABCMeta.__subclasscheck__().\n",
            " |      It should return True, False or NotImplemented.  If it returns\n",
            " |      NotImplemented, the normal algorithm is used.  Otherwise, it\n",
            " |      overrides the normal algorithm (and the outcome is cached).\n",
            " |  \n",
            " |  ----------------------------------------------------------------------\n",
            " |  Static methods defined here:\n",
            " |  \n",
            " |  __new__(*args, **kwargs) from builtins.type\n",
            " |      Create and return a new object.  See help(type) for accurate signature.\n",
            " |  \n",
            " |  ----------------------------------------------------------------------\n",
            " |  Data and other attributes defined here:\n",
            " |  \n",
            " |  __class__ = <class 'type'>\n",
            " |      type(object) -> the object's type\n",
            " |      type(name, bases, dict, **kwds) -> a new type\n",
            "\n"
          ]
        }
      ]
    },
    {
      "cell_type": "code",
      "source": [
        "help(list)"
      ],
      "metadata": {
        "colab": {
          "base_uri": "https://localhost:8080/"
        },
        "id": "qk06VeNvh-Ov",
        "outputId": "fa3348bd-a0fa-4c0b-c3bf-932b15c921bd"
      },
      "execution_count": null,
      "outputs": [
        {
          "output_type": "stream",
          "name": "stdout",
          "text": [
            "Help on class list in module builtins:\n",
            "\n",
            "class list(object)\n",
            " |  list(iterable=(), /)\n",
            " |  \n",
            " |  Built-in mutable sequence.\n",
            " |  \n",
            " |  If no argument is given, the constructor creates a new empty list.\n",
            " |  The argument must be an iterable if specified.\n",
            " |  \n",
            " |  Methods defined here:\n",
            " |  \n",
            " |  __add__(self, value, /)\n",
            " |      Return self+value.\n",
            " |  \n",
            " |  __contains__(self, key, /)\n",
            " |      Return key in self.\n",
            " |  \n",
            " |  __delitem__(self, key, /)\n",
            " |      Delete self[key].\n",
            " |  \n",
            " |  __eq__(self, value, /)\n",
            " |      Return self==value.\n",
            " |  \n",
            " |  __ge__(self, value, /)\n",
            " |      Return self>=value.\n",
            " |  \n",
            " |  __getattribute__(self, name, /)\n",
            " |      Return getattr(self, name).\n",
            " |  \n",
            " |  __getitem__(...)\n",
            " |      x.__getitem__(y) <==> x[y]\n",
            " |  \n",
            " |  __gt__(self, value, /)\n",
            " |      Return self>value.\n",
            " |  \n",
            " |  __iadd__(self, value, /)\n",
            " |      Implement self+=value.\n",
            " |  \n",
            " |  __imul__(self, value, /)\n",
            " |      Implement self*=value.\n",
            " |  \n",
            " |  __init__(self, /, *args, **kwargs)\n",
            " |      Initialize self.  See help(type(self)) for accurate signature.\n",
            " |  \n",
            " |  __iter__(self, /)\n",
            " |      Implement iter(self).\n",
            " |  \n",
            " |  __le__(self, value, /)\n",
            " |      Return self<=value.\n",
            " |  \n",
            " |  __len__(self, /)\n",
            " |      Return len(self).\n",
            " |  \n",
            " |  __lt__(self, value, /)\n",
            " |      Return self<value.\n",
            " |  \n",
            " |  __mul__(self, value, /)\n",
            " |      Return self*value.\n",
            " |  \n",
            " |  __ne__(self, value, /)\n",
            " |      Return self!=value.\n",
            " |  \n",
            " |  __repr__(self, /)\n",
            " |      Return repr(self).\n",
            " |  \n",
            " |  __reversed__(self, /)\n",
            " |      Return a reverse iterator over the list.\n",
            " |  \n",
            " |  __rmul__(self, value, /)\n",
            " |      Return value*self.\n",
            " |  \n",
            " |  __setitem__(self, key, value, /)\n",
            " |      Set self[key] to value.\n",
            " |  \n",
            " |  __sizeof__(self, /)\n",
            " |      Return the size of the list in memory, in bytes.\n",
            " |  \n",
            " |  append(self, object, /)\n",
            " |      Append object to the end of the list.\n",
            " |  \n",
            " |  clear(self, /)\n",
            " |      Remove all items from list.\n",
            " |  \n",
            " |  copy(self, /)\n",
            " |      Return a shallow copy of the list.\n",
            " |  \n",
            " |  count(self, value, /)\n",
            " |      Return number of occurrences of value.\n",
            " |  \n",
            " |  extend(self, iterable, /)\n",
            " |      Extend list by appending elements from the iterable.\n",
            " |  \n",
            " |  index(self, value, start=0, stop=9223372036854775807, /)\n",
            " |      Return first index of value.\n",
            " |      \n",
            " |      Raises ValueError if the value is not present.\n",
            " |  \n",
            " |  insert(self, index, object, /)\n",
            " |      Insert object before index.\n",
            " |  \n",
            " |  pop(self, index=-1, /)\n",
            " |      Remove and return item at index (default last).\n",
            " |      \n",
            " |      Raises IndexError if list is empty or index is out of range.\n",
            " |  \n",
            " |  remove(self, value, /)\n",
            " |      Remove first occurrence of value.\n",
            " |      \n",
            " |      Raises ValueError if the value is not present.\n",
            " |  \n",
            " |  reverse(self, /)\n",
            " |      Reverse *IN PLACE*.\n",
            " |  \n",
            " |  sort(self, /, *, key=None, reverse=False)\n",
            " |      Sort the list in ascending order and return None.\n",
            " |      \n",
            " |      The sort is in-place (i.e. the list itself is modified) and stable (i.e. the\n",
            " |      order of two equal elements is maintained).\n",
            " |      \n",
            " |      If a key function is given, apply it once to each list item and sort them,\n",
            " |      ascending or descending, according to their function values.\n",
            " |      \n",
            " |      The reverse flag can be set to sort in descending order.\n",
            " |  \n",
            " |  ----------------------------------------------------------------------\n",
            " |  Class methods defined here:\n",
            " |  \n",
            " |  __class_getitem__(...) from builtins.type\n",
            " |      See PEP 585\n",
            " |  \n",
            " |  ----------------------------------------------------------------------\n",
            " |  Static methods defined here:\n",
            " |  \n",
            " |  __new__(*args, **kwargs) from builtins.type\n",
            " |      Create and return a new object.  See help(type) for accurate signature.\n",
            " |  \n",
            " |  ----------------------------------------------------------------------\n",
            " |  Data and other attributes defined here:\n",
            " |  \n",
            " |  __hash__ = None\n",
            "\n"
          ]
        }
      ]
    },
    {
      "cell_type": "code",
      "source": [
        "help(dict)"
      ],
      "metadata": {
        "colab": {
          "base_uri": "https://localhost:8080/"
        },
        "id": "TcJxkFn8h-Ma",
        "outputId": "7058d829-e220-4e27-e2a0-019ae57a4ea7"
      },
      "execution_count": null,
      "outputs": [
        {
          "output_type": "stream",
          "name": "stdout",
          "text": [
            "Help on class dict in module builtins:\n",
            "\n",
            "class dict(object)\n",
            " |  dict() -> new empty dictionary\n",
            " |  dict(mapping) -> new dictionary initialized from a mapping object's\n",
            " |      (key, value) pairs\n",
            " |  dict(iterable) -> new dictionary initialized as if via:\n",
            " |      d = {}\n",
            " |      for k, v in iterable:\n",
            " |          d[k] = v\n",
            " |  dict(**kwargs) -> new dictionary initialized with the name=value pairs\n",
            " |      in the keyword argument list.  For example:  dict(one=1, two=2)\n",
            " |  \n",
            " |  Built-in subclasses:\n",
            " |      StgDict\n",
            " |  \n",
            " |  Methods defined here:\n",
            " |  \n",
            " |  __contains__(self, key, /)\n",
            " |      True if the dictionary has the specified key, else False.\n",
            " |  \n",
            " |  __delitem__(self, key, /)\n",
            " |      Delete self[key].\n",
            " |  \n",
            " |  __eq__(self, value, /)\n",
            " |      Return self==value.\n",
            " |  \n",
            " |  __ge__(self, value, /)\n",
            " |      Return self>=value.\n",
            " |  \n",
            " |  __getattribute__(self, name, /)\n",
            " |      Return getattr(self, name).\n",
            " |  \n",
            " |  __getitem__(...)\n",
            " |      x.__getitem__(y) <==> x[y]\n",
            " |  \n",
            " |  __gt__(self, value, /)\n",
            " |      Return self>value.\n",
            " |  \n",
            " |  __init__(self, /, *args, **kwargs)\n",
            " |      Initialize self.  See help(type(self)) for accurate signature.\n",
            " |  \n",
            " |  __ior__(self, value, /)\n",
            " |      Return self|=value.\n",
            " |  \n",
            " |  __iter__(self, /)\n",
            " |      Implement iter(self).\n",
            " |  \n",
            " |  __le__(self, value, /)\n",
            " |      Return self<=value.\n",
            " |  \n",
            " |  __len__(self, /)\n",
            " |      Return len(self).\n",
            " |  \n",
            " |  __lt__(self, value, /)\n",
            " |      Return self<value.\n",
            " |  \n",
            " |  __ne__(self, value, /)\n",
            " |      Return self!=value.\n",
            " |  \n",
            " |  __or__(self, value, /)\n",
            " |      Return self|value.\n",
            " |  \n",
            " |  __repr__(self, /)\n",
            " |      Return repr(self).\n",
            " |  \n",
            " |  __reversed__(self, /)\n",
            " |      Return a reverse iterator over the dict keys.\n",
            " |  \n",
            " |  __ror__(self, value, /)\n",
            " |      Return value|self.\n",
            " |  \n",
            " |  __setitem__(self, key, value, /)\n",
            " |      Set self[key] to value.\n",
            " |  \n",
            " |  __sizeof__(...)\n",
            " |      D.__sizeof__() -> size of D in memory, in bytes\n",
            " |  \n",
            " |  clear(...)\n",
            " |      D.clear() -> None.  Remove all items from D.\n",
            " |  \n",
            " |  copy(...)\n",
            " |      D.copy() -> a shallow copy of D\n",
            " |  \n",
            " |  get(self, key, default=None, /)\n",
            " |      Return the value for key if key is in the dictionary, else default.\n",
            " |  \n",
            " |  items(...)\n",
            " |      D.items() -> a set-like object providing a view on D's items\n",
            " |  \n",
            " |  keys(...)\n",
            " |      D.keys() -> a set-like object providing a view on D's keys\n",
            " |  \n",
            " |  pop(...)\n",
            " |      D.pop(k[,d]) -> v, remove specified key and return the corresponding value.\n",
            " |      \n",
            " |      If the key is not found, return the default if given; otherwise,\n",
            " |      raise a KeyError.\n",
            " |  \n",
            " |  popitem(self, /)\n",
            " |      Remove and return a (key, value) pair as a 2-tuple.\n",
            " |      \n",
            " |      Pairs are returned in LIFO (last-in, first-out) order.\n",
            " |      Raises KeyError if the dict is empty.\n",
            " |  \n",
            " |  setdefault(self, key, default=None, /)\n",
            " |      Insert key with a value of default if key is not in the dictionary.\n",
            " |      \n",
            " |      Return the value for key if key is in the dictionary, else default.\n",
            " |  \n",
            " |  update(...)\n",
            " |      D.update([E, ]**F) -> None.  Update D from dict/iterable E and F.\n",
            " |      If E is present and has a .keys() method, then does:  for k in E: D[k] = E[k]\n",
            " |      If E is present and lacks a .keys() method, then does:  for k, v in E: D[k] = v\n",
            " |      In either case, this is followed by: for k in F:  D[k] = F[k]\n",
            " |  \n",
            " |  values(...)\n",
            " |      D.values() -> an object providing a view on D's values\n",
            " |  \n",
            " |  ----------------------------------------------------------------------\n",
            " |  Class methods defined here:\n",
            " |  \n",
            " |  __class_getitem__(...) from builtins.type\n",
            " |      See PEP 585\n",
            " |  \n",
            " |  fromkeys(iterable, value=None, /) from builtins.type\n",
            " |      Create a new dictionary with keys from iterable and values set to value.\n",
            " |  \n",
            " |  ----------------------------------------------------------------------\n",
            " |  Static methods defined here:\n",
            " |  \n",
            " |  __new__(*args, **kwargs) from builtins.type\n",
            " |      Create and return a new object.  See help(type) for accurate signature.\n",
            " |  \n",
            " |  ----------------------------------------------------------------------\n",
            " |  Data and other attributes defined here:\n",
            " |  \n",
            " |  __hash__ = None\n",
            "\n"
          ]
        }
      ]
    },
    {
      "cell_type": "code",
      "source": [],
      "metadata": {
        "id": "eNqTgrynqj2K"
      },
      "execution_count": null,
      "outputs": []
    },
    {
      "cell_type": "code",
      "source": [
        "# Polymorphism : Something which takes many forms\n",
        "\n",
        "class Animal: # Parent class\n",
        "  def __init__(self,species,legs):\n",
        "    self.species = species\n",
        "    self.legs = legs\n",
        "\n",
        "  def walk(self):\n",
        "    print('Animal will walk on four legs')\n",
        "\n",
        "  def sleep(self):\n",
        "    print('Animal will sleep eyes closed')\n",
        "\n",
        "  def display_species(self):\n",
        "    print(f'The species is {self.species}')\n",
        "\n",
        "\n",
        "class Dog(Animal): # Dog : Child Class : Animal : parent Class # super().__init__()\n",
        "  def __init__(self,breed,species,legs): # it's the best practice to include all variables of parent class\n",
        "    self.breed = breed #  Specfic to Dog Class : Child Class\n",
        "    # self.species = species # Specfic to Animal Class : Parent Class\n",
        "    # self.legs = legs # Specfic to Animal Class : Parent Class\n",
        "    super().__init__(species,legs) # Shortcut : which defines access parent init for the self argument\n",
        "\n",
        "  def eat(self):\n",
        "    print('Dogs are omnivorous')\n",
        "\n",
        "\n",
        "\n",
        "class Human(Animal):# Human : Child Class : Animal : Parent Class\n",
        "  def __init__(self,race,species,legs):\n",
        "    self.race = race # Specific to Human class : Child Class\n",
        "    # self.species = species # Specfic to Animal Class : Parent Class\n",
        "    # self.legs = legs # Specfic to Animal Class : Parent Class\n",
        "    super().__init__(species,legs) # parent init for the self argument\n",
        "\n",
        "  def eat(self):\n",
        "    print('Humans are omnivorous')\n",
        "\n",
        "  def walk(self): # Overwriting\n",
        "    print('Humans will walk on 2 legs')\n",
        "\n",
        "\n"
      ],
      "metadata": {
        "id": "Dd6xJ8VUAL8A"
      },
      "execution_count": null,
      "outputs": []
    },
    {
      "cell_type": "code",
      "source": [
        "h1 = Human(race= 'Aryan',species = 'Homo', legs = 2 )"
      ],
      "metadata": {
        "id": "gmwX-8leYovD"
      },
      "execution_count": null,
      "outputs": []
    },
    {
      "cell_type": "code",
      "source": [
        "h1.eat()"
      ],
      "metadata": {
        "id": "rh1BIQDOag8E",
        "colab": {
          "base_uri": "https://localhost:8080/"
        },
        "outputId": "6f202be9-461b-40d5-db3d-487e402c0c58"
      },
      "execution_count": null,
      "outputs": [
        {
          "output_type": "stream",
          "name": "stdout",
          "text": [
            "Humans are omnivorous\n"
          ]
        }
      ]
    },
    {
      "cell_type": "code",
      "source": [
        "h1.walk() # It will access child class walk -- and no error"
      ],
      "metadata": {
        "colab": {
          "base_uri": "https://localhost:8080/"
        },
        "id": "sNERzOFXrRnV",
        "outputId": "41e1a280-1762-4a21-ac0a-56f24ca79931"
      },
      "execution_count": null,
      "outputs": [
        {
          "output_type": "stream",
          "name": "stdout",
          "text": [
            "Humans will walk on 2 legs\n"
          ]
        }
      ]
    },
    {
      "cell_type": "code",
      "source": [
        "# Polymorphism :\n",
        "# 1. Child and parent class can have method will same name.\n",
        "# 2. Objects created by Child class will access the method of child class if names are clashing with parent class.\n"
      ],
      "metadata": {
        "id": "-FEX-nqwrRkv"
      },
      "execution_count": null,
      "outputs": []
    },
    {
      "cell_type": "code",
      "source": [
        "# Inheritance. : Child class can access the methods of parent class\n",
        "# Polymorphism : Child class can have method with same name as of parent class with different functionality."
      ],
      "metadata": {
        "id": "BK-a7gWIrRhW"
      },
      "execution_count": null,
      "outputs": []
    },
    {
      "cell_type": "code",
      "source": [
        "# parent class method :\n",
        "# Create object using parent class\n",
        "\n",
        "a1 = Animal(species = 'xyz', legs = 4) # Created the object using parent class\n"
      ],
      "metadata": {
        "id": "R8ebOXnGshVf"
      },
      "execution_count": null,
      "outputs": []
    },
    {
      "cell_type": "code",
      "source": [
        "a1.walk() #"
      ],
      "metadata": {
        "colab": {
          "base_uri": "https://localhost:8080/"
        },
        "id": "BTkFWMWIshS5",
        "outputId": "6f3f0087-1125-4d51-e345-0f2b30823c1b"
      },
      "execution_count": null,
      "outputs": [
        {
          "output_type": "stream",
          "name": "stdout",
          "text": [
            "Animal will walk on four legs\n"
          ]
        }
      ]
    },
    {
      "cell_type": "code",
      "source": [
        "# from pandas import read_csv"
      ],
      "metadata": {
        "id": "kquqwK7pshNa"
      },
      "execution_count": null,
      "outputs": []
    },
    {
      "cell_type": "code",
      "source": [
        "# Game Industry : Company create game\n",
        "from abc import ABC, abstractmethod # abc is a library which can be used to create abstract method\n",
        "\n",
        "class game(ABC): # Abstract class\n",
        "\n",
        "  @abstractmethod\n",
        "  def welcome_message(self): # This method is  mandatory\n",
        "    pass\n",
        "\n",
        "  @abstractmethod\n",
        "  def show_result(self): # This method is  mandatory\n",
        "    pass\n",
        "\n",
        "  @abstractmethod\n",
        "  def winning_points(self): # This method is  mandatory\n",
        "    pass\n",
        "\n",
        "\n",
        "  def exit(self): # This method is not mandatory\n",
        "    pass"
      ],
      "metadata": {
        "id": "lERJDFLGrRev"
      },
      "execution_count": null,
      "outputs": []
    },
    {
      "cell_type": "code",
      "source": [
        "class RockPaperScissor(game): #\n",
        "  def __init__(self,a,b):\n",
        "    self.a = a\n",
        "    self.b = b\n",
        "\n",
        "  def final_result(self):\n",
        "    print('the winner')\n",
        "\n",
        "  def welcome_message(self):\n",
        "    print('Welcome to this game')\n",
        "\n",
        "  def show_result(self):\n",
        "    print('You have won')\n",
        "\n",
        "  def winning_points(self):\n",
        "    print('Points aquired : 123')\n",
        "\n"
      ],
      "metadata": {
        "id": "gdNL5B5Btote"
      },
      "execution_count": null,
      "outputs": []
    },
    {
      "cell_type": "code",
      "source": [
        "g1 = RockPaperScissor(a = 1, b = 2)"
      ],
      "metadata": {
        "id": "6x5d_vjVtoq3"
      },
      "execution_count": null,
      "outputs": []
    },
    {
      "cell_type": "code",
      "source": [
        "# Abstraction : helps you to define the rule to create the blueprint or class"
      ],
      "metadata": {
        "id": "j6Ltm1TxwuNd"
      },
      "execution_count": null,
      "outputs": []
    },
    {
      "cell_type": "code",
      "source": [
        "# Abstraction : Rule to create the blueprint\n",
        "\n",
        "from abc import ABC,abstractmethod # Importing a library # Standard line\n",
        "\n",
        "class Animal(ABC): # Abstract class\n",
        "\n",
        "    @abstractmethod\n",
        "    def make_sound(self):\n",
        "        pass\n",
        "\n",
        "    @abstractmethod\n",
        "    def eat(self):\n",
        "        pass\n",
        "\n",
        "    @abstractmethod\n",
        "    def walk(self):\n",
        "      pass\n",
        "\n"
      ],
      "metadata": {
        "id": "2vj-hxuWALzr"
      },
      "execution_count": null,
      "outputs": []
    },
    {
      "cell_type": "code",
      "source": [
        "class Dog(Animal):\n",
        "  def make_sound(self):\n",
        "    pass\n",
        "  def sleep(self):\n",
        "    pass\n",
        "  def eat(self):\n",
        "    pass\n"
      ],
      "metadata": {
        "id": "pGmoh49MbnjT"
      },
      "execution_count": null,
      "outputs": []
    },
    {
      "cell_type": "code",
      "source": [
        "d1 = Dog()"
      ],
      "metadata": {
        "colab": {
          "base_uri": "https://localhost:8080/",
          "height": 141
        },
        "id": "AvBF2teXbv6q",
        "outputId": "3d730168-ace1-4d3c-ad15-7c1bd6db225b"
      },
      "execution_count": null,
      "outputs": [
        {
          "output_type": "error",
          "ename": "TypeError",
          "evalue": "Can't instantiate abstract class Dog with abstract method walk",
          "traceback": [
            "\u001b[0;31m---------------------------------------------------------------------------\u001b[0m",
            "\u001b[0;31mTypeError\u001b[0m                                 Traceback (most recent call last)",
            "\u001b[0;32m<ipython-input-104-752f4e283df2>\u001b[0m in \u001b[0;36m<cell line: 1>\u001b[0;34m()\u001b[0m\n\u001b[0;32m----> 1\u001b[0;31m \u001b[0md1\u001b[0m \u001b[0;34m=\u001b[0m \u001b[0mDog\u001b[0m\u001b[0;34m(\u001b[0m\u001b[0;34m)\u001b[0m\u001b[0;34m\u001b[0m\u001b[0;34m\u001b[0m\u001b[0m\n\u001b[0m",
            "\u001b[0;31mTypeError\u001b[0m: Can't instantiate abstract class Dog with abstract method walk"
          ]
        }
      ]
    },
    {
      "cell_type": "code",
      "source": [
        "# Abstraction is useful to standardise the code\n"
      ],
      "metadata": {
        "id": "KaC6PiVAbx6j"
      },
      "execution_count": null,
      "outputs": []
    },
    {
      "cell_type": "code",
      "source": [
        "\n",
        "from abc import ABC,abstractmethod\n",
        "\n",
        "class game(ABC):\n",
        "  @abstractmethod\n",
        "  def welcome_message(self):\n",
        "    pass\n",
        "\n",
        "  @abstractmethod\n",
        "  def score_calculator(self):\n",
        "    pass\n",
        "\n",
        "  @abstractmethod\n",
        "  def render(self):\n",
        "    pass"
      ],
      "metadata": {
        "id": "Q5Bd43c_c15F"
      },
      "execution_count": null,
      "outputs": []
    },
    {
      "cell_type": "code",
      "source": [
        "class tictactoe(game):\n",
        "  def input(self):\n",
        "    pass\n",
        "  def welcome_message(self):\n",
        "    print('Welcome to this game')\n",
        "  def score_calculator(self):\n",
        "    pass\n",
        "  def render(self):\n",
        "    pass"
      ],
      "metadata": {
        "id": "QudgBZ2JdKvu"
      },
      "execution_count": null,
      "outputs": []
    },
    {
      "cell_type": "code",
      "source": [
        "t1 = tictactoe()"
      ],
      "metadata": {
        "id": "9FOimFhSdlbE"
      },
      "execution_count": null,
      "outputs": []
    },
    {
      "cell_type": "code",
      "source": [
        "# Abstraction : Standardisation of creating class."
      ],
      "metadata": {
        "id": "UPSlP41AduWb"
      },
      "execution_count": null,
      "outputs": []
    },
    {
      "cell_type": "code",
      "source": [
        "from abc import ABC, abstractmethod # abc : helps you create the abstract class.\n",
        "\n",
        "class recommender_system(ABC):\n",
        "  @abstractmethod\n",
        "  def new_user(self):\n",
        "    pass\n",
        "\n",
        "  @abstractmethod\n",
        "  def deactivated_user(self):\n",
        "    pass"
      ],
      "metadata": {
        "id": "wbQ53_vZeTlQ"
      },
      "execution_count": null,
      "outputs": []
    },
    {
      "cell_type": "code",
      "source": [
        "class recommendation_dl(recommender_system):\n",
        "  def new_user(self):\n",
        "    pass\n",
        "\n",
        "  def deactivated_user(self):\n",
        "    pass\n",
        "\n",
        "  def old_user(self):\n",
        "    pass"
      ],
      "metadata": {
        "id": "wirTnYNTeo7p"
      },
      "execution_count": null,
      "outputs": []
    }
  ]
}