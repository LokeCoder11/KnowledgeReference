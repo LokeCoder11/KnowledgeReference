{
  "cells": [
    {
      "cell_type": "markdown",
      "metadata": {
        "id": "view-in-github",
        "colab_type": "text"
      },
      "source": [
        "<a href=\"https://colab.research.google.com/github/LokeCoder11/KnowledgeReference/blob/main/GEN_AI_Session_April_20_2024.ipynb\" target=\"_parent\"><img src=\"https://colab.research.google.com/assets/colab-badge.svg\" alt=\"Open In Colab\"/></a>"
      ]
    },
    {
      "cell_type": "markdown",
      "id": "0fd3dc54",
      "metadata": {
        "id": "0fd3dc54"
      },
      "source": [
        "# History of Gen AI with example\n",
        "- What is NLP\n",
        "- what application we use to solve in NLP\n",
        "- how algo is developed from basic model to LM and then to LLM"
      ]
    },
    {
      "cell_type": "markdown",
      "id": "b648f7c2",
      "metadata": {
        "id": "b648f7c2"
      },
      "source": [
        "- NLP : Natural Language processing (Domain under data science)\n",
        " - Machine learning (Domian under data science)"
      ]
    },
    {
      "cell_type": "code",
      "execution_count": null,
      "id": "890e7e56",
      "metadata": {
        "id": "890e7e56"
      },
      "outputs": [],
      "source": [
        "import pandas as pd\n",
        "import numpy as np"
      ]
    },
    {
      "cell_type": "code",
      "execution_count": null,
      "id": "061a2bd5",
      "metadata": {
        "id": "061a2bd5",
        "outputId": "4078b1f8-8094-446b-ec2d-832e114f3739"
      },
      "outputs": [
        {
          "data": {
            "text/html": [
              "<div>\n",
              "<style scoped>\n",
              "    .dataframe tbody tr th:only-of-type {\n",
              "        vertical-align: middle;\n",
              "    }\n",
              "\n",
              "    .dataframe tbody tr th {\n",
              "        vertical-align: top;\n",
              "    }\n",
              "\n",
              "    .dataframe thead th {\n",
              "        text-align: right;\n",
              "    }\n",
              "</style>\n",
              "<table border=\"1\" class=\"dataframe\">\n",
              "  <thead>\n",
              "    <tr style=\"text-align: right;\">\n",
              "      <th></th>\n",
              "      <th>Category</th>\n",
              "      <th>Message</th>\n",
              "    </tr>\n",
              "  </thead>\n",
              "  <tbody>\n",
              "    <tr>\n",
              "      <th>0</th>\n",
              "      <td>ham</td>\n",
              "      <td>Go until jurong point, crazy.. Available only ...</td>\n",
              "    </tr>\n",
              "    <tr>\n",
              "      <th>1</th>\n",
              "      <td>ham</td>\n",
              "      <td>Ok lar... Joking wif u oni...</td>\n",
              "    </tr>\n",
              "    <tr>\n",
              "      <th>2</th>\n",
              "      <td>spam</td>\n",
              "      <td>Free entry in 2 a wkly comp to win FA Cup fina...</td>\n",
              "    </tr>\n",
              "    <tr>\n",
              "      <th>3</th>\n",
              "      <td>ham</td>\n",
              "      <td>U dun say so early hor... U c already then say...</td>\n",
              "    </tr>\n",
              "    <tr>\n",
              "      <th>4</th>\n",
              "      <td>ham</td>\n",
              "      <td>Nah I don't think he goes to usf, he lives aro...</td>\n",
              "    </tr>\n",
              "  </tbody>\n",
              "</table>\n",
              "</div>"
            ],
            "text/plain": [
              "  Category                                            Message\n",
              "0      ham  Go until jurong point, crazy.. Available only ...\n",
              "1      ham                      Ok lar... Joking wif u oni...\n",
              "2     spam  Free entry in 2 a wkly comp to win FA Cup fina...\n",
              "3      ham  U dun say so early hor... U c already then say...\n",
              "4      ham  Nah I don't think he goes to usf, he lives aro..."
            ]
          },
          "execution_count": 9,
          "metadata": {},
          "output_type": "execute_result"
        }
      ],
      "source": [
        "df = pd.read_excel(r\"C:\\Users\\Lenovo\\OneDrive\\Desktop\\New Microsoft Excel Worksheet.xlsx\")\n",
        "df.head()"
      ]
    },
    {
      "cell_type": "code",
      "execution_count": null,
      "id": "11822ad9",
      "metadata": {
        "id": "11822ad9",
        "outputId": "99e3c200-d7e9-479b-ac88-490366e80d2a"
      },
      "outputs": [
        {
          "data": {
            "text/plain": [
              "'Go until jurong point, crazy.. Available only in bugis n great world la e buffet... Cine there got amore wat...'"
            ]
          },
          "execution_count": 10,
          "metadata": {},
          "output_type": "execute_result"
        }
      ],
      "source": [
        "df[\"Message\"][0]"
      ]
    },
    {
      "cell_type": "markdown",
      "id": "2b84a03a",
      "metadata": {
        "id": "2b84a03a"
      },
      "source": [
        "- Can we solve this using Machine learning directly"
      ]
    },
    {
      "cell_type": "code",
      "execution_count": null,
      "id": "8514a3cd",
      "metadata": {
        "id": "8514a3cd"
      },
      "outputs": [],
      "source": [
        "# can you directly utilize this data -- No?"
      ]
    },
    {
      "cell_type": "code",
      "execution_count": null,
      "id": "bb762bab",
      "metadata": {
        "id": "bb762bab",
        "outputId": "a9fa5089-b74f-4121-bdc1-4068b66d30e8"
      },
      "outputs": [
        {
          "data": {
            "text/html": [
              "<div>\n",
              "<style scoped>\n",
              "    .dataframe tbody tr th:only-of-type {\n",
              "        vertical-align: middle;\n",
              "    }\n",
              "\n",
              "    .dataframe tbody tr th {\n",
              "        vertical-align: top;\n",
              "    }\n",
              "\n",
              "    .dataframe thead th {\n",
              "        text-align: right;\n",
              "    }\n",
              "</style>\n",
              "<table border=\"1\" class=\"dataframe\">\n",
              "  <thead>\n",
              "    <tr style=\"text-align: right;\">\n",
              "      <th></th>\n",
              "      <th>Category</th>\n",
              "      <th>Message</th>\n",
              "    </tr>\n",
              "  </thead>\n",
              "  <tbody>\n",
              "    <tr>\n",
              "      <th>0</th>\n",
              "      <td>ham</td>\n",
              "      <td>go until jurong point, crazy.. available only ...</td>\n",
              "    </tr>\n",
              "    <tr>\n",
              "      <th>1</th>\n",
              "      <td>ham</td>\n",
              "      <td>ok lar... joking wif u oni...</td>\n",
              "    </tr>\n",
              "  </tbody>\n",
              "</table>\n",
              "</div>"
            ],
            "text/plain": [
              "  Category                                            Message\n",
              "0      ham  go until jurong point, crazy.. available only ...\n",
              "1      ham                      ok lar... joking wif u oni..."
            ]
          },
          "execution_count": 12,
          "metadata": {},
          "output_type": "execute_result"
        }
      ],
      "source": [
        "df[\"Message\"] = df[\"Message\"].astype(str).str.lower()\n",
        "df.head(2)"
      ]
    },
    {
      "cell_type": "code",
      "execution_count": null,
      "id": "6592752e",
      "metadata": {
        "id": "6592752e",
        "outputId": "ff85bf72-523b-4f4e-e00c-cf0ae01eb0f5"
      },
      "outputs": [
        {
          "data": {
            "text/plain": [
              "['hi', 'how', 'are', 'you', 'I', 'am', 'good']"
            ]
          },
          "execution_count": 15,
          "metadata": {},
          "output_type": "execute_result"
        }
      ],
      "source": [
        "s1 = ['hi how are you','I am good']\n",
        "s1 = \" \".join(s1)\n",
        "s1 = s1.split(\" \")\n",
        "s1"
      ]
    },
    {
      "cell_type": "code",
      "execution_count": null,
      "id": "92af00ff",
      "metadata": {
        "id": "92af00ff",
        "outputId": "fb4e113d-6918-4044-f0ea-1ac243654aa4"
      },
      "outputs": [
        {
          "data": {
            "text/plain": [
              "{'I', 'am', 'are', 'good', 'hi', 'how', 'you'}"
            ]
          },
          "execution_count": 16,
          "metadata": {},
          "output_type": "execute_result"
        }
      ],
      "source": [
        "vocab = set(s1)\n",
        "vocab"
      ]
    },
    {
      "cell_type": "code",
      "execution_count": null,
      "id": "470fb3c5",
      "metadata": {
        "id": "470fb3c5"
      },
      "outputs": [],
      "source": [
        "s1 = ['hi how are you',\n",
        "      'I am good']\n",
        "conversion = []\n",
        "for k in s1:\n",
        "    emp = []\n",
        "    #print(k)\n",
        "    for i in vocab:\n",
        "        if i in k:\n",
        "            emp.append(1)\n",
        "        else:\n",
        "            emp.append(0)\n",
        "    conversion.append(emp)"
      ]
    },
    {
      "cell_type": "code",
      "execution_count": null,
      "id": "d8f80f6d",
      "metadata": {
        "id": "d8f80f6d",
        "outputId": "9de898ce-d40b-4bd7-9181-ae6987a46e9b"
      },
      "outputs": [
        {
          "data": {
            "text/plain": [
              "[[0, 1, 1, 1, 0, 1, 0], [1, 0, 0, 0, 1, 0, 1]]"
            ]
          },
          "execution_count": 36,
          "metadata": {},
          "output_type": "execute_result"
        }
      ],
      "source": [
        "conversion"
      ]
    },
    {
      "cell_type": "markdown",
      "id": "d9061d94",
      "metadata": {
        "id": "d9061d94"
      },
      "source": [
        "# converted the text data into binary 1/0 format using vocab method - this is called BAG OF WORD METHOD"
      ]
    },
    {
      "cell_type": "code",
      "execution_count": null,
      "id": "e48466e3",
      "metadata": {
        "id": "e48466e3",
        "outputId": "fa9362fe-da3f-4d9e-cf95-4429c3ae4eb2"
      },
      "outputs": [
        {
          "data": {
            "text/plain": [
              "[[0, 1, 1, 1, 0, 1, 0], [1, 0, 0, 0, 1, 0, 1]]"
            ]
          },
          "execution_count": 26,
          "metadata": {},
          "output_type": "execute_result"
        }
      ],
      "source": [
        "conversion"
      ]
    },
    {
      "cell_type": "code",
      "execution_count": null,
      "id": "8ef540b3",
      "metadata": {
        "id": "8ef540b3",
        "outputId": "a0f602be-296d-4cbe-ca3f-2ee4587a08f0"
      },
      "outputs": [
        {
          "name": "stdout",
          "output_type": "stream",
          "text": [
            "['BaseEstimator', 'CountVectorizer', 'ENGLISH_STOP_WORDS', 'FLOAT_DTYPES', 'FeatureHasher', 'HasMethods', 'HashingVectorizer', 'Integral', 'Interval', 'Mapping', 'NotFittedError', 'OneToOneFeatureMixin', 'Real', 'StrOptions', 'TfidfTransformer', 'TfidfVectorizer', 'TransformerMixin', '_IS_32BIT', '_VectorizerMixin', '__all__', '__builtins__', '__cached__', '__doc__', '__file__', '__loader__', '__name__', '__package__', '__spec__', '_analyze', '_check_stop_list', '_document_frequency', '_make_int_array', '_preprocess', 'array', 'check_array', 'check_is_fitted', 'defaultdict', 'itemgetter', 'normalize', 'np', 'partial', 're', 'sp', 'strip_accents_ascii', 'strip_accents_unicode', 'strip_tags', 'unicodedata', 'warnings']\n"
          ]
        }
      ],
      "source": [
        "from sklearn.feature_extraction import text\n",
        "print(dir(text))"
      ]
    },
    {
      "cell_type": "code",
      "execution_count": null,
      "id": "da5a9f53",
      "metadata": {
        "id": "da5a9f53",
        "outputId": "f6a3f048-36c8-4a2a-94b1-7b796c48fa21"
      },
      "outputs": [
        {
          "name": "stdout",
          "output_type": "stream",
          "text": [
            "['__SKLEARN_SETUP__', '__all__', '__builtins__', '__cached__', '__check_build', '__doc__', '__file__', '__loader__', '__name__', '__package__', '__path__', '__spec__', '__version__', '_config', '_distributor_init', '_isotonic', '_loss', 'base', 'calibration', 'clone', 'cluster', 'compose', 'config_context', 'covariance', 'cross_decomposition', 'datasets', 'decomposition', 'discriminant_analysis', 'dummy', 'ensemble', 'exceptions', 'experimental', 'externals', 'feature_extraction', 'feature_selection', 'gaussian_process', 'get_config', 'impute', 'inspection', 'isotonic', 'kernel_approximation', 'kernel_ridge', 'linear_model', 'logger', 'logging', 'manifold', 'metrics', 'mixture', 'model_selection', 'multiclass', 'multioutput', 'naive_bayes', 'neighbors', 'neural_network', 'os', 'pipeline', 'preprocessing', 'random', 'random_projection', 'semi_supervised', 'set_config', 'setup_module', 'show_versions', 'svm', 'sys', 'tree', 'utils']\n"
          ]
        }
      ],
      "source": [
        "from sklearn import *\n",
        "import sklearn\n",
        "print(dir(sklearn))"
      ]
    },
    {
      "cell_type": "code",
      "execution_count": null,
      "id": "f14cb46f",
      "metadata": {
        "id": "f14cb46f"
      },
      "outputs": [],
      "source": [
        "from sklearn.feature_extraction.text import CountVectorizer\n",
        "cv = CountVectorizer()"
      ]
    },
    {
      "cell_type": "code",
      "execution_count": null,
      "id": "190b7759",
      "metadata": {
        "id": "190b7759"
      },
      "outputs": [],
      "source": [
        "?cv"
      ]
    },
    {
      "cell_type": "code",
      "execution_count": null,
      "id": "b6a1b8b6",
      "metadata": {
        "id": "b6a1b8b6",
        "outputId": "c61705b6-e54c-4e6a-94b1-39d90c51e20f"
      },
      "outputs": [
        {
          "data": {
            "text/html": [
              "<div>\n",
              "<style scoped>\n",
              "    .dataframe tbody tr th:only-of-type {\n",
              "        vertical-align: middle;\n",
              "    }\n",
              "\n",
              "    .dataframe tbody tr th {\n",
              "        vertical-align: top;\n",
              "    }\n",
              "\n",
              "    .dataframe thead th {\n",
              "        text-align: right;\n",
              "    }\n",
              "</style>\n",
              "<table border=\"1\" class=\"dataframe\">\n",
              "  <thead>\n",
              "    <tr style=\"text-align: right;\">\n",
              "      <th></th>\n",
              "      <th>mess</th>\n",
              "    </tr>\n",
              "  </thead>\n",
              "  <tbody>\n",
              "    <tr>\n",
              "      <th>0</th>\n",
              "      <td>This is the first document.</td>\n",
              "    </tr>\n",
              "    <tr>\n",
              "      <th>1</th>\n",
              "      <td>This document is the second document.</td>\n",
              "    </tr>\n",
              "    <tr>\n",
              "      <th>2</th>\n",
              "      <td>And this is the third one.</td>\n",
              "    </tr>\n",
              "    <tr>\n",
              "      <th>3</th>\n",
              "      <td>Is this the first document?</td>\n",
              "    </tr>\n",
              "  </tbody>\n",
              "</table>\n",
              "</div>"
            ],
            "text/plain": [
              "                                    mess\n",
              "0            This is the first document.\n",
              "1  This document is the second document.\n",
              "2             And this is the third one.\n",
              "3            Is this the first document?"
            ]
          },
          "execution_count": 38,
          "metadata": {},
          "output_type": "execute_result"
        }
      ],
      "source": [
        "df1 = pd.DataFrame({\"mess\":['This is the first document.','This document is the second document.','And this is the third one.',\n",
        "                            'Is this the first document?']})\n",
        "df1"
      ]
    },
    {
      "cell_type": "code",
      "execution_count": null,
      "id": "909eeba0",
      "metadata": {
        "id": "909eeba0",
        "outputId": "543e6c00-4fef-4c3c-ed7e-427c4ab5de7d"
      },
      "outputs": [
        {
          "name": "stdout",
          "output_type": "stream",
          "text": [
            "['This', 'is', 'the', 'first', 'document.', 'This', 'document', 'is', 'the', 'second', 'document.', 'And', 'this', 'is', 'the', 'third', 'one.', 'Is', 'this', 'the', 'first', 'document?']\n"
          ]
        }
      ],
      "source": [
        "v1 = [i for i in df1[\"mess\"]]\n",
        "v1 = \" \".join(v1)\n",
        "V1 = v1.split(\" \")\n",
        "print(V1)"
      ]
    },
    {
      "cell_type": "code",
      "execution_count": null,
      "id": "5395c7b5",
      "metadata": {
        "id": "5395c7b5",
        "outputId": "f4cb964f-da1a-4314-a625-5ef623b9702c"
      },
      "outputs": [
        {
          "data": {
            "text/plain": [
              "13"
            ]
          },
          "execution_count": 50,
          "metadata": {},
          "output_type": "execute_result"
        }
      ],
      "source": [
        "len(set(V1))"
      ]
    },
    {
      "cell_type": "code",
      "execution_count": null,
      "id": "b7177e9c",
      "metadata": {
        "id": "b7177e9c",
        "outputId": "bd228d0d-5c24-46e5-af10-a4ed65f7071c"
      },
      "outputs": [
        {
          "name": "stdout",
          "output_type": "stream",
          "text": [
            "{'document.', 'third', 'is', 'And', 'document', 'Is', 'one.', 'first', 'document?', 'this', 'This', 'the', 'second'}\n"
          ]
        }
      ],
      "source": [
        "print(set(V1))"
      ]
    },
    {
      "cell_type": "code",
      "execution_count": null,
      "id": "ec2eadcf",
      "metadata": {
        "id": "ec2eadcf"
      },
      "outputs": [],
      "source": [
        "from sklearn.feature_extraction.text import CountVectorizer,TfidfVectorizer\n",
        "tfidf  = TfidfVectorizer()\n",
        "X = cv.fit_transform(df1[\"mess\"])\n",
        "X1 = tfidf.fit_transform(df1[\"mess\"])"
      ]
    },
    {
      "cell_type": "code",
      "execution_count": null,
      "id": "f20a71dd",
      "metadata": {
        "id": "f20a71dd",
        "outputId": "a13e7b9f-cca4-4a44-c4a5-18bfc8567e75"
      },
      "outputs": [
        {
          "data": {
            "text/html": [
              "<div>\n",
              "<style scoped>\n",
              "    .dataframe tbody tr th:only-of-type {\n",
              "        vertical-align: middle;\n",
              "    }\n",
              "\n",
              "    .dataframe tbody tr th {\n",
              "        vertical-align: top;\n",
              "    }\n",
              "\n",
              "    .dataframe thead th {\n",
              "        text-align: right;\n",
              "    }\n",
              "</style>\n",
              "<table border=\"1\" class=\"dataframe\">\n",
              "  <thead>\n",
              "    <tr style=\"text-align: right;\">\n",
              "      <th></th>\n",
              "      <th>mess</th>\n",
              "    </tr>\n",
              "  </thead>\n",
              "  <tbody>\n",
              "    <tr>\n",
              "      <th>0</th>\n",
              "      <td>This is the first document.</td>\n",
              "    </tr>\n",
              "    <tr>\n",
              "      <th>1</th>\n",
              "      <td>This document is the second document.</td>\n",
              "    </tr>\n",
              "    <tr>\n",
              "      <th>2</th>\n",
              "      <td>And this is the third one.</td>\n",
              "    </tr>\n",
              "    <tr>\n",
              "      <th>3</th>\n",
              "      <td>Is this the first document?</td>\n",
              "    </tr>\n",
              "  </tbody>\n",
              "</table>\n",
              "</div>"
            ],
            "text/plain": [
              "                                    mess\n",
              "0            This is the first document.\n",
              "1  This document is the second document.\n",
              "2             And this is the third one.\n",
              "3            Is this the first document?"
            ]
          },
          "execution_count": 59,
          "metadata": {},
          "output_type": "execute_result"
        }
      ],
      "source": [
        "df1"
      ]
    },
    {
      "cell_type": "code",
      "execution_count": null,
      "id": "2aab8867",
      "metadata": {
        "id": "2aab8867",
        "outputId": "afa3d3ab-765b-4fca-f4dd-3eee3747c982"
      },
      "outputs": [
        {
          "data": {
            "text/plain": [
              "array([[0, 1, 1, 1, 0, 0, 1, 0, 1],\n",
              "       [0, 2, 0, 1, 0, 1, 1, 0, 1],\n",
              "       [1, 0, 0, 1, 1, 0, 1, 1, 1],\n",
              "       [0, 1, 1, 1, 0, 0, 1, 0, 1]], dtype=int64)"
            ]
          },
          "execution_count": 41,
          "metadata": {},
          "output_type": "execute_result"
        }
      ],
      "source": [
        "X.toarray()"
      ]
    },
    {
      "cell_type": "code",
      "execution_count": null,
      "id": "116bee45",
      "metadata": {
        "id": "116bee45",
        "outputId": "330aca86-01f5-427a-d478-6b37ada616ef"
      },
      "outputs": [
        {
          "data": {
            "text/plain": [
              "array([[0.        , 0.46979139, 0.58028582, 0.38408524, 0.        ,\n",
              "        0.        , 0.38408524, 0.        , 0.38408524],\n",
              "       [0.        , 0.6876236 , 0.        , 0.28108867, 0.        ,\n",
              "        0.53864762, 0.28108867, 0.        , 0.28108867],\n",
              "       [0.51184851, 0.        , 0.        , 0.26710379, 0.51184851,\n",
              "        0.        , 0.26710379, 0.51184851, 0.26710379],\n",
              "       [0.        , 0.46979139, 0.58028582, 0.38408524, 0.        ,\n",
              "        0.        , 0.38408524, 0.        , 0.38408524]])"
            ]
          },
          "execution_count": 61,
          "metadata": {},
          "output_type": "execute_result"
        }
      ],
      "source": [
        "X1.toarray()"
      ]
    },
    {
      "cell_type": "code",
      "execution_count": null,
      "id": "daee3113",
      "metadata": {
        "id": "daee3113",
        "outputId": "cba85d04-c5f9-4258-fa1f-fbc8fc146729"
      },
      "outputs": [
        {
          "data": {
            "text/plain": [
              "9"
            ]
          },
          "execution_count": 54,
          "metadata": {},
          "output_type": "execute_result"
        }
      ],
      "source": [
        "X2 = X.toarray()\n",
        "len(X2[0])"
      ]
    },
    {
      "cell_type": "markdown",
      "id": "87619857",
      "metadata": {
        "id": "87619857"
      },
      "source": [
        "- I am showing very limited type of methods there are a lot of method which you can explore\n"
      ]
    },
    {
      "cell_type": "code",
      "execution_count": null,
      "id": "9080dfc3",
      "metadata": {
        "id": "9080dfc3",
        "outputId": "5cd269cf-f884-4388-b436-ecf83c248e9d"
      },
      "outputs": [
        {
          "data": {
            "text/html": [
              "<div>\n",
              "<style scoped>\n",
              "    .dataframe tbody tr th:only-of-type {\n",
              "        vertical-align: middle;\n",
              "    }\n",
              "\n",
              "    .dataframe tbody tr th {\n",
              "        vertical-align: top;\n",
              "    }\n",
              "\n",
              "    .dataframe thead th {\n",
              "        text-align: right;\n",
              "    }\n",
              "</style>\n",
              "<table border=\"1\" class=\"dataframe\">\n",
              "  <thead>\n",
              "    <tr style=\"text-align: right;\">\n",
              "      <th></th>\n",
              "      <th>Category</th>\n",
              "      <th>Message</th>\n",
              "    </tr>\n",
              "  </thead>\n",
              "  <tbody>\n",
              "    <tr>\n",
              "      <th>0</th>\n",
              "      <td>ham</td>\n",
              "      <td>Go until jurong point, crazy.. Available only ...</td>\n",
              "    </tr>\n",
              "    <tr>\n",
              "      <th>1</th>\n",
              "      <td>ham</td>\n",
              "      <td>Ok lar... Joking wif u oni...</td>\n",
              "    </tr>\n",
              "    <tr>\n",
              "      <th>2</th>\n",
              "      <td>spam</td>\n",
              "      <td>Free entry in 2 a wkly comp to win FA Cup fina...</td>\n",
              "    </tr>\n",
              "    <tr>\n",
              "      <th>3</th>\n",
              "      <td>ham</td>\n",
              "      <td>U dun say so early hor... U c already then say...</td>\n",
              "    </tr>\n",
              "    <tr>\n",
              "      <th>4</th>\n",
              "      <td>ham</td>\n",
              "      <td>Nah I don't think he goes to usf, he lives aro...</td>\n",
              "    </tr>\n",
              "  </tbody>\n",
              "</table>\n",
              "</div>"
            ],
            "text/plain": [
              "  Category                                            Message\n",
              "0      ham  Go until jurong point, crazy.. Available only ...\n",
              "1      ham                      Ok lar... Joking wif u oni...\n",
              "2     spam  Free entry in 2 a wkly comp to win FA Cup fina...\n",
              "3      ham  U dun say so early hor... U c already then say...\n",
              "4      ham  Nah I don't think he goes to usf, he lives aro..."
            ]
          },
          "execution_count": 62,
          "metadata": {},
          "output_type": "execute_result"
        }
      ],
      "source": [
        "df = pd.read_excel(r\"C:\\Users\\Lenovo\\OneDrive\\Desktop\\New Microsoft Excel Worksheet.xlsx\")\n",
        "df.head()"
      ]
    },
    {
      "cell_type": "code",
      "execution_count": null,
      "id": "4e5b3818",
      "metadata": {
        "id": "4e5b3818",
        "outputId": "46b43fed-b2f9-4f14-8565-1a21cd543f43"
      },
      "outputs": [
        {
          "data": {
            "text/html": [
              "<div>\n",
              "<style scoped>\n",
              "    .dataframe tbody tr th:only-of-type {\n",
              "        vertical-align: middle;\n",
              "    }\n",
              "\n",
              "    .dataframe tbody tr th {\n",
              "        vertical-align: top;\n",
              "    }\n",
              "\n",
              "    .dataframe thead th {\n",
              "        text-align: right;\n",
              "    }\n",
              "</style>\n",
              "<table border=\"1\" class=\"dataframe\">\n",
              "  <thead>\n",
              "    <tr style=\"text-align: right;\">\n",
              "      <th></th>\n",
              "      <th>Category</th>\n",
              "      <th>Message</th>\n",
              "    </tr>\n",
              "  </thead>\n",
              "  <tbody>\n",
              "    <tr>\n",
              "      <th>0</th>\n",
              "      <td>ham</td>\n",
              "      <td>go until jurong point, crazy.. available only ...</td>\n",
              "    </tr>\n",
              "    <tr>\n",
              "      <th>1</th>\n",
              "      <td>ham</td>\n",
              "      <td>ok lar... joking wif u oni...</td>\n",
              "    </tr>\n",
              "  </tbody>\n",
              "</table>\n",
              "</div>"
            ],
            "text/plain": [
              "  Category                                            Message\n",
              "0      ham  go until jurong point, crazy.. available only ...\n",
              "1      ham                      ok lar... joking wif u oni..."
            ]
          },
          "execution_count": 64,
          "metadata": {},
          "output_type": "execute_result"
        }
      ],
      "source": [
        "df[\"Message\"] = df[\"Message\"].astype(str).str.lower()\n",
        "df.head(2)\n",
        "# regex function (regular expression) -people in web extarction (scrap website) - data"
      ]
    },
    {
      "cell_type": "code",
      "execution_count": null,
      "id": "54605986",
      "metadata": {
        "id": "54605986",
        "outputId": "811a5281-0f63-400e-c689-89490b8d47f8"
      },
      "outputs": [
        {
          "data": {
            "text/plain": [
              "['noida', 'noida']"
            ]
          },
          "execution_count": 69,
          "metadata": {},
          "output_type": "execute_result"
        }
      ],
      "source": [
        "import re\n",
        "p= \"noida\"\n",
        "text = \"I see people in noida who are enganged in labour job, but compare to newyork noida is not that bad\"\n",
        "re.findall(p,text)"
      ]
    },
    {
      "cell_type": "code",
      "execution_count": null,
      "id": "a0353c38",
      "metadata": {
        "id": "a0353c38"
      },
      "outputs": [],
      "source": [
        "X = cv.fit_transform(df[\"Message\"])\n",
        "Y = np.where(df[\"Category\"]=='ham',0,1)"
      ]
    },
    {
      "cell_type": "code",
      "execution_count": null,
      "id": "f27dff4c",
      "metadata": {
        "id": "f27dff4c",
        "outputId": "96ca9af5-12c8-4947-d8a9-089b5a74ec1e"
      },
      "outputs": [
        {
          "data": {
            "text/plain": [
              "<5572x8674 sparse matrix of type '<class 'numpy.int64'>'\n",
              "\twith 73917 stored elements in Compressed Sparse Row format>"
            ]
          },
          "execution_count": 82,
          "metadata": {},
          "output_type": "execute_result"
        }
      ],
      "source": [
        "X"
      ]
    },
    {
      "cell_type": "code",
      "execution_count": null,
      "id": "594c7813",
      "metadata": {
        "id": "594c7813",
        "outputId": "459e4330-4d1a-4f9b-b817-cff054ff181d"
      },
      "outputs": [
        {
          "data": {
            "text/plain": [
              "array([[0, 0, 0, ..., 0, 0, 0],\n",
              "       [0, 0, 0, ..., 0, 0, 0],\n",
              "       [0, 0, 0, ..., 0, 0, 0],\n",
              "       ...,\n",
              "       [0, 0, 0, ..., 0, 0, 0],\n",
              "       [0, 0, 0, ..., 0, 0, 0],\n",
              "       [0, 0, 0, ..., 0, 0, 0]], dtype=int64)"
            ]
          },
          "execution_count": 73,
          "metadata": {},
          "output_type": "execute_result"
        }
      ],
      "source": [
        "X.toarray()"
      ]
    },
    {
      "cell_type": "code",
      "execution_count": null,
      "id": "2436b4d1",
      "metadata": {
        "id": "2436b4d1",
        "outputId": "0499b073-64bb-4aa4-bfef-77221cc6ffeb"
      },
      "outputs": [
        {
          "data": {
            "text/plain": [
              "array([0, 0, 1, ..., 0, 0, 0])"
            ]
          },
          "execution_count": 74,
          "metadata": {},
          "output_type": "execute_result"
        }
      ],
      "source": [
        "Y"
      ]
    },
    {
      "cell_type": "code",
      "execution_count": null,
      "id": "49152d4d",
      "metadata": {
        "id": "49152d4d"
      },
      "outputs": [],
      "source": [
        "from sklearn.model_selection import train_test_split\n",
        "x_train,x_test,y_train,y_test = train_test_split(X,Y,test_size=0.25,random_state=42)"
      ]
    },
    {
      "cell_type": "code",
      "execution_count": null,
      "id": "c0530f91",
      "metadata": {
        "id": "c0530f91"
      },
      "outputs": [],
      "source": [
        "from sklearn.linear_model import LogisticRegression\n",
        "model = LogisticRegression()"
      ]
    },
    {
      "cell_type": "code",
      "execution_count": null,
      "id": "f2ae8b94",
      "metadata": {
        "id": "f2ae8b94",
        "outputId": "d80d440a-3516-49d1-809f-792f7b356a21"
      },
      "outputs": [
        {
          "data": {
            "text/html": [
              "<style>#sk-container-id-1 {color: black;background-color: white;}#sk-container-id-1 pre{padding: 0;}#sk-container-id-1 div.sk-toggleable {background-color: white;}#sk-container-id-1 label.sk-toggleable__label {cursor: pointer;display: block;width: 100%;margin-bottom: 0;padding: 0.3em;box-sizing: border-box;text-align: center;}#sk-container-id-1 label.sk-toggleable__label-arrow:before {content: \"▸\";float: left;margin-right: 0.25em;color: #696969;}#sk-container-id-1 label.sk-toggleable__label-arrow:hover:before {color: black;}#sk-container-id-1 div.sk-estimator:hover label.sk-toggleable__label-arrow:before {color: black;}#sk-container-id-1 div.sk-toggleable__content {max-height: 0;max-width: 0;overflow: hidden;text-align: left;background-color: #f0f8ff;}#sk-container-id-1 div.sk-toggleable__content pre {margin: 0.2em;color: black;border-radius: 0.25em;background-color: #f0f8ff;}#sk-container-id-1 input.sk-toggleable__control:checked~div.sk-toggleable__content {max-height: 200px;max-width: 100%;overflow: auto;}#sk-container-id-1 input.sk-toggleable__control:checked~label.sk-toggleable__label-arrow:before {content: \"▾\";}#sk-container-id-1 div.sk-estimator input.sk-toggleable__control:checked~label.sk-toggleable__label {background-color: #d4ebff;}#sk-container-id-1 div.sk-label input.sk-toggleable__control:checked~label.sk-toggleable__label {background-color: #d4ebff;}#sk-container-id-1 input.sk-hidden--visually {border: 0;clip: rect(1px 1px 1px 1px);clip: rect(1px, 1px, 1px, 1px);height: 1px;margin: -1px;overflow: hidden;padding: 0;position: absolute;width: 1px;}#sk-container-id-1 div.sk-estimator {font-family: monospace;background-color: #f0f8ff;border: 1px dotted black;border-radius: 0.25em;box-sizing: border-box;margin-bottom: 0.5em;}#sk-container-id-1 div.sk-estimator:hover {background-color: #d4ebff;}#sk-container-id-1 div.sk-parallel-item::after {content: \"\";width: 100%;border-bottom: 1px solid gray;flex-grow: 1;}#sk-container-id-1 div.sk-label:hover label.sk-toggleable__label {background-color: #d4ebff;}#sk-container-id-1 div.sk-serial::before {content: \"\";position: absolute;border-left: 1px solid gray;box-sizing: border-box;top: 0;bottom: 0;left: 50%;z-index: 0;}#sk-container-id-1 div.sk-serial {display: flex;flex-direction: column;align-items: center;background-color: white;padding-right: 0.2em;padding-left: 0.2em;position: relative;}#sk-container-id-1 div.sk-item {position: relative;z-index: 1;}#sk-container-id-1 div.sk-parallel {display: flex;align-items: stretch;justify-content: center;background-color: white;position: relative;}#sk-container-id-1 div.sk-item::before, #sk-container-id-1 div.sk-parallel-item::before {content: \"\";position: absolute;border-left: 1px solid gray;box-sizing: border-box;top: 0;bottom: 0;left: 50%;z-index: -1;}#sk-container-id-1 div.sk-parallel-item {display: flex;flex-direction: column;z-index: 1;position: relative;background-color: white;}#sk-container-id-1 div.sk-parallel-item:first-child::after {align-self: flex-end;width: 50%;}#sk-container-id-1 div.sk-parallel-item:last-child::after {align-self: flex-start;width: 50%;}#sk-container-id-1 div.sk-parallel-item:only-child::after {width: 0;}#sk-container-id-1 div.sk-dashed-wrapped {border: 1px dashed gray;margin: 0 0.4em 0.5em 0.4em;box-sizing: border-box;padding-bottom: 0.4em;background-color: white;}#sk-container-id-1 div.sk-label label {font-family: monospace;font-weight: bold;display: inline-block;line-height: 1.2em;}#sk-container-id-1 div.sk-label-container {text-align: center;}#sk-container-id-1 div.sk-container {/* jupyter's `normalize.less` sets `[hidden] { display: none; }` but bootstrap.min.css set `[hidden] { display: none !important; }` so we also need the `!important` here to be able to override the default hidden behavior on the sphinx rendered scikit-learn.org. See: https://github.com/scikit-learn/scikit-learn/issues/21755 */display: inline-block !important;position: relative;}#sk-container-id-1 div.sk-text-repr-fallback {display: none;}</style><div id=\"sk-container-id-1\" class=\"sk-top-container\"><div class=\"sk-text-repr-fallback\"><pre>LogisticRegression()</pre><b>In a Jupyter environment, please rerun this cell to show the HTML representation or trust the notebook. <br />On GitHub, the HTML representation is unable to render, please try loading this page with nbviewer.org.</b></div><div class=\"sk-container\" hidden><div class=\"sk-item\"><div class=\"sk-estimator sk-toggleable\"><input class=\"sk-toggleable__control sk-hidden--visually\" id=\"sk-estimator-id-1\" type=\"checkbox\" checked><label for=\"sk-estimator-id-1\" class=\"sk-toggleable__label sk-toggleable__label-arrow\">LogisticRegression</label><div class=\"sk-toggleable__content\"><pre>LogisticRegression()</pre></div></div></div></div></div>"
            ],
            "text/plain": [
              "LogisticRegression()"
            ]
          },
          "execution_count": 77,
          "metadata": {},
          "output_type": "execute_result"
        }
      ],
      "source": [
        "model.fit(x_train,y_train)"
      ]
    },
    {
      "cell_type": "code",
      "execution_count": null,
      "id": "acb0950f",
      "metadata": {
        "id": "acb0950f",
        "outputId": "b9a11fc9-09b8-4b85-cfb7-4f32f2bbb83a"
      },
      "outputs": [
        {
          "data": {
            "text/plain": [
              "array([0, 0, 1, ..., 0, 0, 0])"
            ]
          },
          "execution_count": 78,
          "metadata": {},
          "output_type": "execute_result"
        }
      ],
      "source": [
        "pred = model.predict(x_test)\n",
        "pred"
      ]
    },
    {
      "cell_type": "code",
      "execution_count": null,
      "id": "8800d20d",
      "metadata": {
        "id": "8800d20d"
      },
      "outputs": [],
      "source": [
        "my_message = 'you won a lottery of 25000$ call me to take the money'"
      ]
    },
    {
      "cell_type": "code",
      "execution_count": null,
      "id": "d673722a",
      "metadata": {
        "id": "d673722a",
        "outputId": "f83ea5f6-33f4-45be-82c8-0c3fb0e79b02"
      },
      "outputs": [
        {
          "data": {
            "text/plain": [
              "<1x8674 sparse matrix of type '<class 'numpy.int64'>'\n",
              "\twith 9 stored elements in Compressed Sparse Row format>"
            ]
          },
          "execution_count": 80,
          "metadata": {},
          "output_type": "execute_result"
        }
      ],
      "source": [
        "conv_messg = cv.transform(['you won a lottery of 25000$ call me to take the money'])\n",
        "conv_messg"
      ]
    },
    {
      "cell_type": "code",
      "execution_count": null,
      "id": "86c171c8",
      "metadata": {
        "id": "86c171c8",
        "outputId": "33f26d64-4cf6-4a7e-c610-781f06fcc53b"
      },
      "outputs": [
        {
          "data": {
            "text/plain": [
              "array([[0, 0, 0, ..., 0, 0, 0]], dtype=int64)"
            ]
          },
          "execution_count": 81,
          "metadata": {},
          "output_type": "execute_result"
        }
      ],
      "source": [
        "conv_messg.toarray()"
      ]
    },
    {
      "cell_type": "code",
      "execution_count": null,
      "id": "7affbd44",
      "metadata": {
        "id": "7affbd44",
        "outputId": "58faeb3a-07bd-4d14-b520-be46f9dd30f2"
      },
      "outputs": [
        {
          "data": {
            "text/plain": [
              "array([0])"
            ]
          },
          "execution_count": 83,
          "metadata": {},
          "output_type": "execute_result"
        }
      ],
      "source": [
        "pre_me = model.predict(conv_messg)\n",
        "pre_me"
      ]
    },
    {
      "cell_type": "markdown",
      "id": "35d89bf2",
      "metadata": {
        "id": "35d89bf2"
      },
      "source": [
        "application 2: Instead of having the message take the reviews of resturant\n",
        "              data(reviews)                                 Tag\n",
        "1) food was good and service was fast                  positive\n",
        "2) food quality was ok and 1 time you can visit        Neutral\n",
        "3) very bad i will not go                              Negative\n",
        "\n",
        "- if a company can use NLP to create a classification model which can provide the respose from use whether it is pos/neg/neu can help the company to understand weakness"
      ]
    },
    {
      "cell_type": "code",
      "execution_count": null,
      "id": "b9101634",
      "metadata": {
        "id": "b9101634"
      },
      "outputs": [],
      "source": [
        "s1 =[\"pepsi 1 lt\",'iphone 15','pepsi 750 ml']\n",
        "# which two product belongs to same brand"
      ]
    },
    {
      "cell_type": "code",
      "execution_count": null,
      "id": "8a6f4b71",
      "metadata": {
        "id": "8a6f4b71"
      },
      "outputs": [],
      "source": [
        "from sklearn.feature_extraction.text import CountVectorizer,TfidfVectorizer\n",
        "tfidf  = TfidfVectorizer()"
      ]
    },
    {
      "cell_type": "code",
      "execution_count": null,
      "id": "1697c4c7",
      "metadata": {
        "id": "1697c4c7",
        "outputId": "c256ee5e-4a51-4a57-b0f6-433f564a0447"
      },
      "outputs": [
        {
          "data": {
            "text/plain": [
              "array([[0.        , 0.        , 0.        , 0.79596054, 0.        ,\n",
              "        0.60534851],\n",
              "       [0.70710678, 0.        , 0.70710678, 0.        , 0.        ,\n",
              "        0.        ],\n",
              "       [0.        , 0.62276601, 0.        , 0.        , 0.62276601,\n",
              "        0.4736296 ]])"
            ]
          },
          "execution_count": 89,
          "metadata": {},
          "output_type": "execute_result"
        }
      ],
      "source": [
        "v = tfidf.fit_transform(s1)\n",
        "v.toarray()"
      ]
    },
    {
      "cell_type": "code",
      "execution_count": null,
      "id": "2a3a9ee1",
      "metadata": {
        "id": "2a3a9ee1",
        "outputId": "c0459135-791a-4683-936c-ab0ea5cc3a02"
      },
      "outputs": [
        {
          "data": {
            "text/plain": [
              "array([0.        , 0.        , 0.        , 0.79596054, 0.        ,\n",
              "       0.60534851])"
            ]
          },
          "execution_count": 91,
          "metadata": {},
          "output_type": "execute_result"
        }
      ],
      "source": [
        "v.toarray()[0]"
      ]
    },
    {
      "cell_type": "code",
      "execution_count": null,
      "id": "a55f3961",
      "metadata": {
        "id": "a55f3961",
        "outputId": "241eadd7-d97b-4330-83b9-c3cd6360a639"
      },
      "outputs": [
        {
          "data": {
            "text/plain": [
              "array([0.70710678, 0.        , 0.70710678, 0.        , 0.        ,\n",
              "       0.        ])"
            ]
          },
          "execution_count": 92,
          "metadata": {},
          "output_type": "execute_result"
        }
      ],
      "source": [
        "v.toarray()[1]"
      ]
    },
    {
      "cell_type": "markdown",
      "id": "c7e82f0e",
      "metadata": {
        "id": "c7e82f0e"
      },
      "source": [
        "- cosin similarity - method which tell how close or similar two vector are"
      ]
    },
    {
      "cell_type": "code",
      "execution_count": null,
      "id": "502d6c49",
      "metadata": {
        "id": "502d6c49",
        "outputId": "d73f5ab0-0d30-4e27-f342-3e5aac2d9c81"
      },
      "outputs": [
        {
          "name": "stdout",
          "output_type": "stream",
          "text": [
            "['ConfusionMatrixDisplay', 'DetCurveDisplay', 'DistanceMetric', 'PrecisionRecallDisplay', 'PredictionErrorDisplay', 'RocCurveDisplay', 'SCORERS', '__all__', '__builtins__', '__cached__', '__doc__', '__file__', '__loader__', '__name__', '__package__', '__path__', '__spec__', '_base', '_classification', '_dist_metrics', '_pairwise_distances_reduction', '_pairwise_fast', '_plot', '_ranking', '_regression', '_scorer', 'accuracy_score', 'adjusted_mutual_info_score', 'adjusted_rand_score', 'auc', 'average_precision_score', 'balanced_accuracy_score', 'brier_score_loss', 'calinski_harabasz_score', 'check_scoring', 'class_likelihood_ratios', 'classification_report', 'cluster', 'cohen_kappa_score', 'completeness_score', 'confusion_matrix', 'consensus_score', 'coverage_error', 'd2_absolute_error_score', 'd2_pinball_score', 'd2_tweedie_score', 'davies_bouldin_score', 'dcg_score', 'det_curve', 'euclidean_distances', 'explained_variance_score', 'f1_score', 'fbeta_score', 'fowlkes_mallows_score', 'get_scorer', 'get_scorer_names', 'hamming_loss', 'hinge_loss', 'homogeneity_completeness_v_measure', 'homogeneity_score', 'jaccard_score', 'label_ranking_average_precision_score', 'label_ranking_loss', 'log_loss', 'make_scorer', 'matthews_corrcoef', 'max_error', 'mean_absolute_error', 'mean_absolute_percentage_error', 'mean_gamma_deviance', 'mean_pinball_loss', 'mean_poisson_deviance', 'mean_squared_error', 'mean_squared_log_error', 'mean_tweedie_deviance', 'median_absolute_error', 'multilabel_confusion_matrix', 'mutual_info_score', 'nan_euclidean_distances', 'ndcg_score', 'normalized_mutual_info_score', 'pair_confusion_matrix', 'pairwise', 'pairwise_distances', 'pairwise_distances_argmin', 'pairwise_distances_argmin_min', 'pairwise_distances_chunked', 'pairwise_kernels', 'precision_recall_curve', 'precision_recall_fscore_support', 'precision_score', 'r2_score', 'rand_score', 'recall_score', 'roc_auc_score', 'roc_curve', 'silhouette_samples', 'silhouette_score', 'top_k_accuracy_score', 'v_measure_score', 'zero_one_loss']\n"
          ]
        }
      ],
      "source": [
        "from sklearn.metrics import  pairwise_distances\n",
        "print(dir(metrics))"
      ]
    },
    {
      "cell_type": "code",
      "execution_count": null,
      "id": "bcbeee16",
      "metadata": {
        "id": "bcbeee16",
        "outputId": "05bff7b6-25ac-430e-fc9e-69510b04636f"
      },
      "outputs": [
        {
          "data": {
            "text/plain": [
              "['pepsi 1 lt', 'iphone 15', 'pepsi 750 ml']"
            ]
          },
          "execution_count": 97,
          "metadata": {},
          "output_type": "execute_result"
        }
      ],
      "source": [
        "s1"
      ]
    },
    {
      "cell_type": "code",
      "execution_count": null,
      "id": "9fbb1ca6",
      "metadata": {
        "id": "9fbb1ca6",
        "outputId": "af0d35bf-e835-45f7-d8ec-5c47dac0e1ae"
      },
      "outputs": [
        {
          "data": {
            "text/plain": [
              "array([[1.41421356]])"
            ]
          },
          "execution_count": 96,
          "metadata": {},
          "output_type": "execute_result"
        }
      ],
      "source": [
        "pairwise_distances([v.toarray()[0]],[v.toarray()[1]])"
      ]
    },
    {
      "cell_type": "code",
      "execution_count": null,
      "id": "0f90fdb9",
      "metadata": {
        "id": "0f90fdb9",
        "outputId": "7968df44-012a-4f71-958b-fa11c1038df2"
      },
      "outputs": [
        {
          "data": {
            "text/plain": [
              "array([[1.19439443]])"
            ]
          },
          "execution_count": 98,
          "metadata": {},
          "output_type": "execute_result"
        }
      ],
      "source": [
        "pairwise_distances([v.toarray()[0]],[v.toarray()[2]])"
      ]
    },
    {
      "cell_type": "markdown",
      "id": "b5bc3e58",
      "metadata": {
        "id": "b5bc3e58"
      },
      "source": [
        "# retail & CPG\n",
        "- ecomm website"
      ]
    },
    {
      "cell_type": "code",
      "execution_count": null,
      "id": "8e5b1fba",
      "metadata": {
        "id": "8e5b1fba"
      },
      "outputs": [],
      "source": [
        "import pandas as pd"
      ]
    },
    {
      "cell_type": "code",
      "execution_count": null,
      "id": "3dcbf78c",
      "metadata": {
        "id": "3dcbf78c"
      },
      "outputs": [],
      "source": []
    }
  ],
  "metadata": {
    "kernelspec": {
      "display_name": "Python 3 (ipykernel)",
      "language": "python",
      "name": "python3"
    },
    "language_info": {
      "codemirror_mode": {
        "name": "ipython",
        "version": 3
      },
      "file_extension": ".py",
      "mimetype": "text/x-python",
      "name": "python",
      "nbconvert_exporter": "python",
      "pygments_lexer": "ipython3",
      "version": "3.10.9"
    },
    "colab": {
      "provenance": [],
      "include_colab_link": true
    }
  },
  "nbformat": 4,
  "nbformat_minor": 5
}