{
  "nbformat": 4,
  "nbformat_minor": 0,
  "metadata": {
    "colab": {
      "provenance": [],
      "include_colab_link": true
    },
    "kernelspec": {
      "name": "python3",
      "display_name": "Python 3"
    },
    "language_info": {
      "name": "python"
    }
  },
  "cells": [
    {
      "cell_type": "markdown",
      "metadata": {
        "id": "view-in-github",
        "colab_type": "text"
      },
      "source": [
        "<a href=\"https://colab.research.google.com/github/LokeCoder11/KnowledgeReference/blob/main/Data_Types_in_Python_(Instructor_Material)_Alok__8th_Feb.ipynb\" target=\"_parent\"><img src=\"https://colab.research.google.com/assets/colab-badge.svg\" alt=\"Open In Colab\"/></a>"
      ]
    },
    {
      "cell_type": "code",
      "source": [
        "x = 4\n",
        "x ** 2 # Output : 16 # Exponential Operator || Arithmetic Operator Category"
      ],
      "metadata": {
        "colab": {
          "base_uri": "https://localhost:8080/"
        },
        "id": "QDRsoF9lrPMr",
        "outputId": "53747ea6-0163-4823-8609-feff5f47f415"
      },
      "execution_count": null,
      "outputs": [
        {
          "output_type": "execute_result",
          "data": {
            "text/plain": [
              "16"
            ]
          },
          "metadata": {},
          "execution_count": 1
        }
      ]
    },
    {
      "cell_type": "code",
      "source": [
        "x = 9\n",
        "y = 3\n",
        "x // y # Output : 3 # Floor Division : Quotient"
      ],
      "metadata": {
        "colab": {
          "base_uri": "https://localhost:8080/"
        },
        "id": "rlO-d5yIrPJ1",
        "outputId": "c10a460b-7647-44c8-a9bc-d8ad714da97a"
      },
      "execution_count": null,
      "outputs": [
        {
          "output_type": "execute_result",
          "data": {
            "text/plain": [
              "3"
            ]
          },
          "metadata": {},
          "execution_count": 2
        }
      ]
    },
    {
      "cell_type": "code",
      "source": [
        "x % y # Output : 0 # Remainder"
      ],
      "metadata": {
        "colab": {
          "base_uri": "https://localhost:8080/"
        },
        "id": "K_s577XorPHO",
        "outputId": "163ea21a-8fa2-469d-a324-8233a73dd1ce"
      },
      "execution_count": null,
      "outputs": [
        {
          "output_type": "execute_result",
          "data": {
            "text/plain": [
              "0"
            ]
          },
          "metadata": {},
          "execution_count": 3
        }
      ]
    },
    {
      "cell_type": "code",
      "source": [
        "x = 5\n",
        "x % 2 == 0 # True if Even | Simple expression to check even number"
      ],
      "metadata": {
        "colab": {
          "base_uri": "https://localhost:8080/"
        },
        "id": "REFyhb-9Mzb-",
        "outputId": "a29a113d-f82d-4630-9683-622350ae508e"
      },
      "execution_count": null,
      "outputs": [
        {
          "output_type": "execute_result",
          "data": {
            "text/plain": [
              "False"
            ]
          },
          "metadata": {},
          "execution_count": 5
        }
      ]
    },
    {
      "cell_type": "code",
      "source": [
        "2 - 5 + 7 * 5 / 3"
      ],
      "metadata": {
        "colab": {
          "base_uri": "https://localhost:8080/"
        },
        "id": "JnnU8IdEMzZH",
        "outputId": "5f8c598b-5cf3-48d2-eda4-94d483059efe"
      },
      "execution_count": null,
      "outputs": [
        {
          "output_type": "execute_result",
          "data": {
            "text/plain": [
              "8.666666666666666"
            ]
          },
          "metadata": {},
          "execution_count": 6
        }
      ]
    },
    {
      "cell_type": "code",
      "source": [
        "2 + 5 - 7 / 5 * 3"
      ],
      "metadata": {
        "colab": {
          "base_uri": "https://localhost:8080/"
        },
        "id": "hP11mN37MzVc",
        "outputId": "587db7b6-1f1f-4213-a793-9aae31f42a24"
      },
      "execution_count": null,
      "outputs": [
        {
          "output_type": "execute_result",
          "data": {
            "text/plain": [
              "2.8000000000000007"
            ]
          },
          "metadata": {},
          "execution_count": 7
        }
      ]
    },
    {
      "cell_type": "code",
      "source": [
        "2 + 3 - 2"
      ],
      "metadata": {
        "colab": {
          "base_uri": "https://localhost:8080/"
        },
        "id": "vuStWymWrPEX",
        "outputId": "755f1cdd-efec-4cff-8af9-a1db42fdf4ab"
      },
      "execution_count": null,
      "outputs": [
        {
          "output_type": "execute_result",
          "data": {
            "text/plain": [
              "3"
            ]
          },
          "metadata": {},
          "execution_count": 8
        }
      ]
    },
    {
      "cell_type": "code",
      "source": [
        "2 - 3 + 2"
      ],
      "metadata": {
        "colab": {
          "base_uri": "https://localhost:8080/"
        },
        "id": "O-ytBJNsrPBf",
        "outputId": "6812ff10-d03c-4808-d055-3c85e2aea143"
      },
      "execution_count": null,
      "outputs": [
        {
          "output_type": "execute_result",
          "data": {
            "text/plain": [
              "1"
            ]
          },
          "metadata": {},
          "execution_count": 9
        }
      ]
    },
    {
      "cell_type": "code",
      "source": [
        "2 > 2 # Statement"
      ],
      "metadata": {
        "colab": {
          "base_uri": "https://localhost:8080/"
        },
        "id": "Y1i9keoMrO-p",
        "outputId": "ee75839f-19bf-492a-f83c-a38a7b5e830c"
      },
      "execution_count": null,
      "outputs": [
        {
          "output_type": "execute_result",
          "data": {
            "text/plain": [
              "False"
            ]
          },
          "metadata": {},
          "execution_count": 10
        }
      ]
    },
    {
      "cell_type": "code",
      "source": [
        "2 >= 2 # (2 > 2 or 2 == 2)"
      ],
      "metadata": {
        "colab": {
          "base_uri": "https://localhost:8080/"
        },
        "id": "mPsatVznP7FF",
        "outputId": "7f5fda6e-922d-44fe-f191-41fa4a8112dc"
      },
      "execution_count": null,
      "outputs": [
        {
          "output_type": "execute_result",
          "data": {
            "text/plain": [
              "False"
            ]
          },
          "metadata": {},
          "execution_count": 14
        }
      ]
    },
    {
      "cell_type": "code",
      "source": [
        "5 / 2  # Division"
      ],
      "metadata": {
        "colab": {
          "base_uri": "https://localhost:8080/"
        },
        "id": "KZPPS6RYRxza",
        "outputId": "296a5f4a-1c15-46c8-ffbe-4bb2c6a70a6a"
      },
      "execution_count": null,
      "outputs": [
        {
          "output_type": "execute_result",
          "data": {
            "text/plain": [
              "2.5"
            ]
          },
          "metadata": {},
          "execution_count": 16
        }
      ]
    },
    {
      "cell_type": "code",
      "source": [
        "5 // 2 # Floor Division:: Quotient"
      ],
      "metadata": {
        "colab": {
          "base_uri": "https://localhost:8080/"
        },
        "id": "Wt1Hj2p7R4pp",
        "outputId": "8e1843fd-fc5c-412f-8886-b13203f03df5"
      },
      "execution_count": null,
      "outputs": [
        {
          "output_type": "execute_result",
          "data": {
            "text/plain": [
              "2"
            ]
          },
          "metadata": {},
          "execution_count": 17
        }
      ]
    },
    {
      "cell_type": "code",
      "source": [],
      "metadata": {
        "id": "njYWwOIDSNVn"
      },
      "execution_count": null,
      "outputs": []
    },
    {
      "cell_type": "code",
      "source": [
        "# Mul, Division, Floor Div, Modulo--> Have the same priority :: Left most will get executed\n",
        "2 // 3 * 6 /2 % 3"
      ],
      "metadata": {
        "colab": {
          "base_uri": "https://localhost:8080/"
        },
        "id": "2KVru_gnQtim",
        "outputId": "82dbaab4-3527-4298-f459-a74110207383"
      },
      "execution_count": null,
      "outputs": [
        {
          "output_type": "execute_result",
          "data": {
            "text/plain": [
              "0.0"
            ]
          },
          "metadata": {},
          "execution_count": 15
        }
      ]
    },
    {
      "cell_type": "code",
      "source": [
        "# Data types in python\n",
        "int, float, boolean , tuple, list, string, set, Dictionaries\n",
        "# Value is data --> Data type"
      ],
      "metadata": {
        "id": "IC-n3vFlQMEU"
      },
      "execution_count": null,
      "outputs": []
    },
    {
      "cell_type": "code",
      "source": [
        "# Representation of all data types\n",
        "x = 1 # Representation number with out decimal: Identify Integer\n",
        "x = 1.5 # Representation number with decimal : Identified as Float\n",
        "x = True # Representation as True or False : Identified as Boolean"
      ],
      "metadata": {
        "id": "WzJ2FDm3XF8G"
      },
      "execution_count": null,
      "outputs": []
    },
    {
      "cell_type": "code",
      "source": [
        "# String\n",
        "x = 'Hello world' # Recognised as String by python : Single Quote\n",
        "y = \"Hello World\" # Recognised as string by python : Double Quote\n",
        "z = ''' hello World''' # Recognised as string by python : Triple Quotes"
      ],
      "metadata": {
        "id": "pczlv3cIXF4-"
      },
      "execution_count": null,
      "outputs": []
    },
    {
      "cell_type": "code",
      "source": [
        " # Single Quote\n",
        "x = 'I\\'m Alok , I\\'nt doing this' # Case where error will occur. use backward slash (\\) to ingore the quotes\n",
        "print(x)"
      ],
      "metadata": {
        "colab": {
          "base_uri": "https://localhost:8080/"
        },
        "id": "ta4NUK92XFni",
        "outputId": "a423e4f6-ba15-4736-87a0-1d1a66f15b9c"
      },
      "execution_count": null,
      "outputs": [
        {
          "output_type": "stream",
          "name": "stdout",
          "text": [
            "I'm Alok , I'nt doing this\n"
          ]
        }
      ]
    },
    {
      "cell_type": "code",
      "source": [
        "# Double Quote\n",
        "x = \"I'm Alok , I'nt doing this\"\n",
        "print(x)"
      ],
      "metadata": {
        "colab": {
          "base_uri": "https://localhost:8080/"
        },
        "id": "oOpQEqk9XFk6",
        "outputId": "f661f632-fdb9-43bc-afed-3d07868f8208"
      },
      "execution_count": null,
      "outputs": [
        {
          "output_type": "stream",
          "name": "stdout",
          "text": [
            "I'm Alok , I'nt doing this\n"
          ]
        }
      ]
    },
    {
      "cell_type": "code",
      "source": [
        "#\n",
        "x = \"I am Alok.\n",
        "I am studying Python\""
      ],
      "metadata": {
        "colab": {
          "base_uri": "https://localhost:8080/",
          "height": 141
        },
        "id": "pgj49AcxXFhi",
        "outputId": "f25c4678-0404-422d-f095-36a7e42c84ed"
      },
      "execution_count": null,
      "outputs": [
        {
          "output_type": "error",
          "ename": "SyntaxError",
          "evalue": "unterminated string literal (detected at line 2) (<ipython-input-27-2b9cd3a6b02f>, line 2)",
          "traceback": [
            "\u001b[0;36m  File \u001b[0;32m\"<ipython-input-27-2b9cd3a6b02f>\"\u001b[0;36m, line \u001b[0;32m2\u001b[0m\n\u001b[0;31m    x = \"I am Alok.\u001b[0m\n\u001b[0m        ^\u001b[0m\n\u001b[0;31mSyntaxError\u001b[0m\u001b[0;31m:\u001b[0m unterminated string literal (detected at line 2)\n"
          ]
        }
      ]
    },
    {
      "cell_type": "code",
      "source": [
        " # Use triple quotes for multiliner strings\n",
        "x = '''\n",
        "I am Alok.\n",
        "I am Studying python\n",
        "'''"
      ],
      "metadata": {
        "id": "q0YxI_p3aUe8"
      },
      "execution_count": null,
      "outputs": []
    },
    {
      "cell_type": "code",
      "source": [
        "'''\n",
        "This a string\n",
        "'''\n",
        "x = 5\n",
        "print(x)"
      ],
      "metadata": {
        "colab": {
          "base_uri": "https://localhost:8080/"
        },
        "id": "cWpS_7VyalZQ",
        "outputId": "75ab5d15-2a40-4378-9a68-f9bdd3c3892b"
      },
      "execution_count": null,
      "outputs": [
        {
          "output_type": "stream",
          "name": "stdout",
          "text": [
            "5\n"
          ]
        }
      ]
    },
    {
      "cell_type": "code",
      "source": [
        "# String\n",
        "# Representation\n",
        "# 1. Single quote\n",
        "\n",
        "'abc' # --> String\n",
        "\n",
        "# 2. Double Quote\n",
        "\"abc\" # --> String\n",
        "\n",
        "# 3. Triple Quote\n",
        "'''abc''' # String"
      ],
      "metadata": {
        "id": "miOxkz8k_Ll2"
      },
      "execution_count": null,
      "outputs": []
    },
    {
      "cell_type": "code",
      "source": [
        "# # Comment\n",
        "# '''\n",
        "# Multiliner comment\n",
        "\n",
        "# '''\n",
        "# x = 5"
      ],
      "metadata": {
        "id": "uhO_jqJlVu47"
      },
      "execution_count": null,
      "outputs": []
    },
    {
      "cell_type": "code",
      "source": [
        "'AlmaBetter'"
      ],
      "metadata": {
        "colab": {
          "base_uri": "https://localhost:8080/",
          "height": 35
        },
        "id": "6S5OT7wQVu2G",
        "outputId": "d3a0287e-df22-4280-b82b-7c9df52715f9"
      },
      "execution_count": null,
      "outputs": [
        {
          "output_type": "execute_result",
          "data": {
            "text/plain": [
              "'AlmaBetter'"
            ],
            "application/vnd.google.colaboratory.intrinsic+json": {
              "type": "string"
            }
          },
          "metadata": {},
          "execution_count": 33
        }
      ]
    },
    {
      "cell_type": "code",
      "source": [
        "x = 'I\\'m Alok'\n",
        "print(x)"
      ],
      "metadata": {
        "colab": {
          "base_uri": "https://localhost:8080/"
        },
        "id": "Xr90oybpVuzM",
        "outputId": "d6fda980-f908-4171-b022-ac40fd7cc3f0"
      },
      "execution_count": null,
      "outputs": [
        {
          "output_type": "stream",
          "name": "stdout",
          "text": [
            "I'm Alok\n"
          ]
        }
      ]
    },
    {
      "cell_type": "code",
      "source": [
        "x = \"I'm Alok\""
      ],
      "metadata": {
        "id": "j3Zo1NgGVuwF"
      },
      "execution_count": null,
      "outputs": []
    },
    {
      "cell_type": "code",
      "source": [
        "x = '''\n",
        "I am Studying python at AlmaBetter.\n",
        "Enjoying it.\n",
        "'''"
      ],
      "metadata": {
        "id": "Mpy8VAbaVutO"
      },
      "execution_count": null,
      "outputs": []
    },
    {
      "cell_type": "code",
      "source": [
        "print(x)"
      ],
      "metadata": {
        "colab": {
          "base_uri": "https://localhost:8080/"
        },
        "id": "CC7y-6n5VuqV",
        "outputId": "6b38d392-4e86-497a-b085-943ca314b3c5"
      },
      "execution_count": null,
      "outputs": [
        {
          "output_type": "stream",
          "name": "stdout",
          "text": [
            "\n",
            "I am Studying python at AlmaBetter.\n",
            "Enjoying it.\n",
            "\n"
          ]
        }
      ]
    },
    {
      "cell_type": "code",
      "source": [
        "# 'Hello world' --> Consider as text"
      ],
      "metadata": {
        "id": "92-virqfcZD6"
      },
      "execution_count": null,
      "outputs": []
    },
    {
      "cell_type": "code",
      "source": [
        "print('hello \\n world')"
      ],
      "metadata": {
        "colab": {
          "base_uri": "https://localhost:8080/"
        },
        "id": "XL25lwCSc0Ha",
        "outputId": "0984fbc3-1bf2-461d-f938-7ab4362e2f8a"
      },
      "execution_count": null,
      "outputs": [
        {
          "output_type": "stream",
          "name": "stdout",
          "text": [
            "hello \n",
            " world\n"
          ]
        }
      ]
    },
    {
      "cell_type": "code",
      "source": [
        "# Whatsapp\n",
        "eddedkd\n",
        "dendwejdnejdnew\n",
        "dekdwendkwendken\n",
        "dlkewdwedkndkewnde\n",
        "kejwdnewjdnewdjn\n",
        "\n",
        "# --> Data is stored somewhere -> 'eddedkd\\ndendwejdnejdnew\\ndekdwendkwendken\\ndlkewdwedkndkewnde\\nkejwdnewjdnewdjn'"
      ],
      "metadata": {
        "id": "vDlrD3OndJbe"
      },
      "execution_count": null,
      "outputs": []
    },
    {
      "cell_type": "code",
      "source": [
        "# \\n --> Python will understand as go to next line\n",
        "x = \"\\nI am Studying python at AlmaBetter.\\nEnjoying it. \\n Awesome\"\n",
        "print(x)"
      ],
      "metadata": {
        "colab": {
          "base_uri": "https://localhost:8080/"
        },
        "id": "97Oz68l-Vum_",
        "outputId": "c8309a9d-31e3-4d7b-cdf6-72c733e7e1bc"
      },
      "execution_count": null,
      "outputs": [
        {
          "output_type": "stream",
          "name": "stdout",
          "text": [
            "\n",
            "I am Studying python at AlmaBetter.\n",
            "Enjoying it. \n",
            " Awesome\n"
          ]
        }
      ]
    },
    {
      "cell_type": "code",
      "source": [
        "x = 'hello\\tworld' # \\t --> Tab separation\n",
        "print(x)"
      ],
      "metadata": {
        "colab": {
          "base_uri": "https://localhost:8080/"
        },
        "id": "RORGPcDOdw86",
        "outputId": "09542d53-71da-4791-dfcc-ba56765a04b4"
      },
      "execution_count": null,
      "outputs": [
        {
          "output_type": "stream",
          "name": "stdout",
          "text": [
            "hello\tworld\n"
          ]
        }
      ]
    },
    {
      "cell_type": "code",
      "source": [
        "x = 'hello\\tworld'\n",
        "print(x)"
      ],
      "metadata": {
        "colab": {
          "base_uri": "https://localhost:8080/"
        },
        "id": "k1nVjQOxeAzQ",
        "outputId": "266fb94f-2c16-4cdc-c59c-876e128d9bd6"
      },
      "execution_count": null,
      "outputs": [
        {
          "output_type": "stream",
          "name": "stdout",
          "text": [
            "hello\tworld\n"
          ]
        }
      ]
    },
    {
      "cell_type": "code",
      "source": [],
      "metadata": {
        "id": "di4m1SAPeAwY"
      },
      "execution_count": null,
      "outputs": []
    },
    {
      "cell_type": "code",
      "source": [],
      "metadata": {
        "id": "BZRsYQAVeAtQ"
      },
      "execution_count": null,
      "outputs": []
    },
    {
      "cell_type": "code",
      "source": [],
      "metadata": {
        "id": "pP6YiUxseAqZ"
      },
      "execution_count": null,
      "outputs": []
    },
    {
      "cell_type": "code",
      "source": [],
      "metadata": {
        "id": "O8wK_jxYeAnR"
      },
      "execution_count": null,
      "outputs": []
    },
    {
      "cell_type": "code",
      "source": [
        "ex = 'abc'\n",
        "type(ex)"
      ],
      "metadata": {
        "colab": {
          "base_uri": "https://localhost:8080/"
        },
        "id": "aLvugtZSAt28",
        "outputId": "044f30b0-6779-4d30-d7c9-249d11d0077a"
      },
      "execution_count": null,
      "outputs": [
        {
          "output_type": "execute_result",
          "data": {
            "text/plain": [
              "str"
            ]
          },
          "metadata": {},
          "execution_count": 35
        }
      ]
    },
    {
      "cell_type": "code",
      "source": [
        "ex = '123'\n",
        "type(ex)"
      ],
      "metadata": {
        "colab": {
          "base_uri": "https://localhost:8080/"
        },
        "id": "53_gWOPlAz1J",
        "outputId": "a0f31798-529b-4fa9-b4bc-ff6484b38cef"
      },
      "execution_count": null,
      "outputs": [
        {
          "output_type": "execute_result",
          "data": {
            "text/plain": [
              "str"
            ]
          },
          "metadata": {},
          "execution_count": 36
        }
      ]
    },
    {
      "cell_type": "code",
      "source": [
        "ex = 'I am Alok'\n",
        "type(ex) # Space is also a character"
      ],
      "metadata": {
        "colab": {
          "base_uri": "https://localhost:8080/"
        },
        "id": "VE2Yjvp3A-_3",
        "outputId": "a86500a0-eb9d-4143-adb5-0e4a9553a068"
      },
      "execution_count": null,
      "outputs": [
        {
          "output_type": "execute_result",
          "data": {
            "text/plain": [
              "str"
            ]
          },
          "metadata": {},
          "execution_count": 37
        }
      ]
    },
    {
      "cell_type": "code",
      "source": [
        "ex = 'I\\'m A\\'lok' # \\ slash is to give instruction to python that ' is not the ending."
      ],
      "metadata": {
        "colab": {
          "base_uri": "https://localhost:8080/",
          "height": 141
        },
        "id": "13lhyWuUBEpz",
        "outputId": "7208aa29-8bf0-4b6f-a90b-d0f248967770"
      },
      "execution_count": null,
      "outputs": [
        {
          "output_type": "error",
          "ename": "SyntaxError",
          "evalue": "unterminated string literal (detected at line 1) (<ipython-input-38-5016400189bc>, line 1)",
          "traceback": [
            "\u001b[0;36m  File \u001b[0;32m\"<ipython-input-38-5016400189bc>\"\u001b[0;36m, line \u001b[0;32m1\u001b[0m\n\u001b[0;31m    ex = 'I'm Alok'\u001b[0m\n\u001b[0m                  ^\u001b[0m\n\u001b[0;31mSyntaxError\u001b[0m\u001b[0;31m:\u001b[0m unterminated string literal (detected at line 1)\n"
          ]
        }
      ]
    },
    {
      "cell_type": "code",
      "source": [
        "ex = \"I'm Alok\"\n",
        "type(ex)"
      ],
      "metadata": {
        "colab": {
          "base_uri": "https://localhost:8080/"
        },
        "id": "OE2JSVMcBcie",
        "outputId": "2b505f00-2f46-4f77-eb25-50cbe4a1570a"
      },
      "execution_count": null,
      "outputs": [
        {
          "output_type": "execute_result",
          "data": {
            "text/plain": [
              "str"
            ]
          },
          "metadata": {},
          "execution_count": 39
        }
      ]
    },
    {
      "cell_type": "code",
      "source": [
        "print(ex)"
      ],
      "metadata": {
        "colab": {
          "base_uri": "https://localhost:8080/"
        },
        "id": "RTmUlGNJBjGs",
        "outputId": "fdc13f19-ee8e-4def-f282-759c77340741"
      },
      "execution_count": null,
      "outputs": [
        {
          "output_type": "stream",
          "name": "stdout",
          "text": [
            "I'm Alok\n"
          ]
        }
      ]
    },
    {
      "cell_type": "code",
      "source": [
        "ex = \"\""
      ],
      "metadata": {
        "id": "HrBhuubWFBG9"
      },
      "execution_count": null,
      "outputs": []
    },
    {
      "cell_type": "code",
      "source": [
        "ex = \"I am Studying in AlmaBetter\\nI am learning python\\nI am excited to start my journey\\nMy aim is to become data scientist\""
      ],
      "metadata": {
        "id": "yBHK4KyGE1dK"
      },
      "execution_count": null,
      "outputs": []
    },
    {
      "cell_type": "code",
      "source": [
        "print(ex)"
      ],
      "metadata": {
        "colab": {
          "base_uri": "https://localhost:8080/"
        },
        "id": "Zx06K1xAE7R2",
        "outputId": "6a1c66aa-b728-48af-8c62-ba22ebd512e7"
      },
      "execution_count": null,
      "outputs": [
        {
          "output_type": "stream",
          "name": "stdout",
          "text": [
            "I am Studying in AlmaBetter\n",
            "I am learning python\n",
            "I am excited to start my journey\n",
            "My aim is to become data scientist\n"
          ]
        }
      ]
    },
    {
      "cell_type": "code",
      "source": [
        "ex = '''I am Studying in AlmaBetter\n",
        "I am learning python\n",
        "I am excited to start my journey\n",
        "My aim is to become data scientist'''"
      ],
      "metadata": {
        "id": "SeWotokoFN9r"
      },
      "execution_count": null,
      "outputs": []
    },
    {
      "cell_type": "code",
      "source": [
        "print(ex)"
      ],
      "metadata": {
        "colab": {
          "base_uri": "https://localhost:8080/"
        },
        "id": "ftlTkJaDFQXV",
        "outputId": "b8ea172f-0d9c-43ea-fbec-f3fc2ec9bb1b"
      },
      "execution_count": null,
      "outputs": [
        {
          "output_type": "stream",
          "name": "stdout",
          "text": [
            "I am Studying in AlmaBetter\n",
            "I am learning python\n",
            "I am excited to start my journey\n",
            "My aim is to become data scientist\n"
          ]
        }
      ]
    },
    {
      "cell_type": "code",
      "source": [
        "ex = '''I am Studying in AlmaBetter\n",
        "I am learning python\n",
        "I am excited to start my journey\n",
        "My aim is to become data scientist\n",
        "''' # ''' ''' helps to store data in multiple lines."
      ],
      "metadata": {
        "id": "w2JHLS9LBkfu"
      },
      "execution_count": null,
      "outputs": []
    },
    {
      "cell_type": "code",
      "source": [
        "ex"
      ],
      "metadata": {
        "colab": {
          "base_uri": "https://localhost:8080/",
          "height": 53
        },
        "id": "HfiFKzPJCaXx",
        "outputId": "9842632b-b7a2-4c46-9545-ebcb9b3c25f9"
      },
      "execution_count": null,
      "outputs": [
        {
          "output_type": "execute_result",
          "data": {
            "text/plain": [
              "'I am Studying in AlmaBetter\\nI am learning python\\nI am excited to start my journey\\nMy aim is to become data scientist\\n'"
            ],
            "application/vnd.google.colaboratory.intrinsic+json": {
              "type": "string"
            }
          },
          "metadata": {},
          "execution_count": 45
        }
      ]
    },
    {
      "cell_type": "code",
      "source": [
        "ex = 'I\\'m studying Py\\'thon'"
      ],
      "metadata": {
        "id": "UO5zGvYsClA_"
      },
      "execution_count": null,
      "outputs": []
    },
    {
      "cell_type": "code",
      "source": [
        "ex"
      ],
      "metadata": {
        "colab": {
          "base_uri": "https://localhost:8080/",
          "height": 35
        },
        "id": "2u71OtoHDA94",
        "outputId": "ad07ea29-819d-4ea7-9ada-5dd923e29df2"
      },
      "execution_count": null,
      "outputs": [
        {
          "output_type": "execute_result",
          "data": {
            "text/plain": [
              "\"I'm studying Py'thon\""
            ],
            "application/vnd.google.colaboratory.intrinsic+json": {
              "type": "string"
            }
          },
          "metadata": {},
          "execution_count": 51
        }
      ]
    },
    {
      "cell_type": "code",
      "source": [
        "ex = '''My name is Alok'''"
      ],
      "metadata": {
        "id": "iFLgOrkHDmvI"
      },
      "execution_count": null,
      "outputs": []
    },
    {
      "cell_type": "code",
      "source": [
        "type(ex)"
      ],
      "metadata": {
        "colab": {
          "base_uri": "https://localhost:8080/"
        },
        "id": "sBvZKPlcD9B_",
        "outputId": "b9649b0d-686a-405e-818c-2613673c5e8f"
      },
      "execution_count": null,
      "outputs": [
        {
          "output_type": "execute_result",
          "data": {
            "text/plain": [
              "str"
            ]
          },
          "metadata": {},
          "execution_count": 53
        }
      ]
    },
    {
      "cell_type": "code",
      "source": [
        "# \" \" -->Single line\n",
        "# ''' ''' --> Multiple line"
      ],
      "metadata": {
        "id": "NY9RrScjEK2m"
      },
      "execution_count": null,
      "outputs": []
    },
    {
      "cell_type": "code",
      "source": [
        "ex = 'c'\n",
        "type(ex)"
      ],
      "metadata": {
        "colab": {
          "base_uri": "https://localhost:8080/"
        },
        "id": "GjW-oc8rD-gA",
        "outputId": "ccd5dce9-050b-420c-c6c5-6500efac153a"
      },
      "execution_count": null,
      "outputs": [
        {
          "output_type": "execute_result",
          "data": {
            "text/plain": [
              "str"
            ]
          },
          "metadata": {},
          "execution_count": 54
        }
      ]
    },
    {
      "cell_type": "code",
      "source": [
        "ex = 'I am Alok\\n I am teaching Python'\n",
        "print(ex) # \\n --> Display the output in new line."
      ],
      "metadata": {
        "colab": {
          "base_uri": "https://localhost:8080/"
        },
        "id": "GyUd_IS7ETdg",
        "outputId": "e8e13e5f-7246-42e6-8e79-01219e8e6c48"
      },
      "execution_count": null,
      "outputs": [
        {
          "output_type": "stream",
          "name": "stdout",
          "text": [
            "I am Alok\n",
            " I am teaching Python\n"
          ]
        }
      ]
    },
    {
      "cell_type": "code",
      "source": [
        "ex = 'Alma\\n\\n\\n\\nBetter'\n",
        "print(ex)"
      ],
      "metadata": {
        "colab": {
          "base_uri": "https://localhost:8080/"
        },
        "id": "GLjuAJA8EiJI",
        "outputId": "950ffae7-4800-4869-e89a-d60dcdda512f"
      },
      "execution_count": null,
      "outputs": [
        {
          "output_type": "stream",
          "name": "stdout",
          "text": [
            "Alma\n",
            "\n",
            "\n",
            "\n",
            "Better\n"
          ]
        }
      ]
    },
    {
      "cell_type": "code",
      "source": [
        "ex = 'Alma\\tBetter' # tab separation"
      ],
      "metadata": {
        "id": "QnUr2n3QEuHl"
      },
      "execution_count": null,
      "outputs": []
    },
    {
      "cell_type": "code",
      "source": [
        "print(ex)"
      ],
      "metadata": {
        "colab": {
          "base_uri": "https://localhost:8080/"
        },
        "id": "3UajR2msFYXK",
        "outputId": "a7fded66-f027-48cb-9e54-20205f2e003d"
      },
      "execution_count": null,
      "outputs": [
        {
          "output_type": "stream",
          "name": "stdout",
          "text": [
            "Alma\tBetter\n"
          ]
        }
      ]
    },
    {
      "cell_type": "code",
      "source": [
        "ex = 'Alma'\n",
        "type(ex) # String : each character is one element"
      ],
      "metadata": {
        "id": "pxDt2P74GEqf"
      },
      "execution_count": null,
      "outputs": []
    },
    {
      "cell_type": "code",
      "source": [
        "ex = 'A,l,m,a' # 7 elements\n",
        "type(ex) # String : each character is one element"
      ],
      "metadata": {
        "colab": {
          "base_uri": "https://localhost:8080/"
        },
        "id": "xQD7DRc0GPHx",
        "outputId": "df20fa6e-6a2c-492f-9a13-870eaf10747a"
      },
      "execution_count": null,
      "outputs": [
        {
          "output_type": "execute_result",
          "data": {
            "text/plain": [
              "str"
            ]
          },
          "metadata": {},
          "execution_count": 70
        }
      ]
    },
    {
      "cell_type": "code",
      "source": [
        "len(ex)"
      ],
      "metadata": {
        "colab": {
          "base_uri": "https://localhost:8080/"
        },
        "id": "BWUGCk2DHiHR",
        "outputId": "2f83aad5-de3f-4b43-ade1-c9411be0e124"
      },
      "execution_count": null,
      "outputs": [
        {
          "output_type": "execute_result",
          "data": {
            "text/plain": [
              "7"
            ]
          },
          "metadata": {},
          "execution_count": 71
        }
      ]
    },
    {
      "cell_type": "code",
      "source": [
        "ex = 'Alma\\n' #\n",
        "# len() --> How many elements are there\n",
        "# type() --> data type of the variable or data"
      ],
      "metadata": {
        "id": "DCicGbH8Gqbc"
      },
      "execution_count": null,
      "outputs": []
    },
    {
      "cell_type": "code",
      "source": [
        "len(ex)"
      ],
      "metadata": {
        "colab": {
          "base_uri": "https://localhost:8080/"
        },
        "id": "qGjXwF_KHFVF",
        "outputId": "3a1b1958-37d6-4bef-cdcf-98f3dfcca5d8"
      },
      "execution_count": null,
      "outputs": [
        {
          "output_type": "execute_result",
          "data": {
            "text/plain": [
              "5"
            ]
          },
          "metadata": {},
          "execution_count": 68
        }
      ]
    },
    {
      "cell_type": "code",
      "source": [
        "x = 'Abcd' #--> String"
      ],
      "metadata": {
        "id": "TmqSH2EYepM7"
      },
      "execution_count": null,
      "outputs": []
    },
    {
      "cell_type": "code",
      "source": [
        "abcd = 1\n",
        "x = [abcd] # list"
      ],
      "metadata": {
        "id": "nQ9hfQgleuZO"
      },
      "execution_count": null,
      "outputs": []
    },
    {
      "cell_type": "code",
      "source": [
        "# List - [] --> Non primitive data type --> Collection of elements , Comma spearated\n",
        "x = [ 2 , 3 , 4 , 'a' , 'b' , True ] # Python will recognise it as list, 6 elements\n",
        "type(x)"
      ],
      "metadata": {
        "colab": {
          "base_uri": "https://localhost:8080/"
        },
        "id": "qWPgTqxwHLuN",
        "outputId": "ad7dcbb4-a446-4d4d-cfd1-4a26165d1516"
      },
      "execution_count": null,
      "outputs": [
        {
          "output_type": "execute_result",
          "data": {
            "text/plain": [
              "list"
            ]
          },
          "metadata": {},
          "execution_count": 45
        }
      ]
    },
    {
      "cell_type": "code",
      "source": [
        "# String --> Primitive dtypes\n",
        "x = '2,3,4,5' # 7 elements / characters"
      ],
      "metadata": {
        "id": "7KATZxBieWCn"
      },
      "execution_count": null,
      "outputs": []
    },
    {
      "cell_type": "code",
      "source": [
        "# len() --> check no of elements in the variable\n",
        "len(x)"
      ],
      "metadata": {
        "colab": {
          "base_uri": "https://localhost:8080/"
        },
        "id": "k1q0dqHjgHRi",
        "outputId": "4b5eb2d5-6e8f-4e6d-ae68-7228a7316f76"
      },
      "execution_count": null,
      "outputs": [
        {
          "output_type": "execute_result",
          "data": {
            "text/plain": [
              "7"
            ]
          },
          "metadata": {},
          "execution_count": 49
        }
      ]
    },
    {
      "cell_type": "code",
      "source": [
        "# Indexing and Slicing --> In detail\n",
        "x[2]"
      ],
      "metadata": {
        "colab": {
          "base_uri": "https://localhost:8080/",
          "height": 35
        },
        "id": "CP_uLuqSgPu7",
        "outputId": "94a73fba-6301-48dd-a050-5cdef4259e56"
      },
      "execution_count": null,
      "outputs": [
        {
          "output_type": "execute_result",
          "data": {
            "text/plain": [
              "'3'"
            ],
            "application/vnd.google.colaboratory.intrinsic+json": {
              "type": "string"
            }
          },
          "metadata": {},
          "execution_count": 54
        }
      ]
    },
    {
      "cell_type": "code",
      "source": [
        "x = 'hello world'\n",
        "# Output as 'e'\n"
      ],
      "metadata": {
        "id": "G1Azjk2Wg4qO"
      },
      "execution_count": null,
      "outputs": []
    },
    {
      "cell_type": "code",
      "source": [
        "x[1]"
      ],
      "metadata": {
        "colab": {
          "base_uri": "https://localhost:8080/",
          "height": 35
        },
        "id": "uI5y87H2g-rI",
        "outputId": "4be997f2-fb1d-455b-d85b-3f4fb160badd"
      },
      "execution_count": null,
      "outputs": [
        {
          "output_type": "execute_result",
          "data": {
            "text/plain": [
              "'e'"
            ],
            "application/vnd.google.colaboratory.intrinsic+json": {
              "type": "string"
            }
          },
          "metadata": {},
          "execution_count": 56
        }
      ]
    },
    {
      "cell_type": "code",
      "source": [
        "# output as o\n",
        "x[4]"
      ],
      "metadata": {
        "colab": {
          "base_uri": "https://localhost:8080/",
          "height": 35
        },
        "id": "YkhizpkjhFnq",
        "outputId": "a1f4bc9a-8965-4257-d0ce-ecac6303421c"
      },
      "execution_count": null,
      "outputs": [
        {
          "output_type": "execute_result",
          "data": {
            "text/plain": [
              "'o'"
            ],
            "application/vnd.google.colaboratory.intrinsic+json": {
              "type": "string"
            }
          },
          "metadata": {},
          "execution_count": 57
        }
      ]
    },
    {
      "cell_type": "code",
      "source": [
        "x[5] # output :"
      ],
      "metadata": {
        "colab": {
          "base_uri": "https://localhost:8080/",
          "height": 35
        },
        "id": "nACNmt5YhSLC",
        "outputId": "2a87840c-85c3-4554-ab09-6ed53c6cbd69"
      },
      "execution_count": null,
      "outputs": [
        {
          "output_type": "execute_result",
          "data": {
            "text/plain": [
              "' '"
            ],
            "application/vnd.google.colaboratory.intrinsic+json": {
              "type": "string"
            }
          },
          "metadata": {},
          "execution_count": 58
        }
      ]
    },
    {
      "cell_type": "code",
      "source": [
        "x = '2,3@4'\n"
      ],
      "metadata": {
        "id": "Et45yIAChj_K"
      },
      "execution_count": null,
      "outputs": []
    },
    {
      "cell_type": "code",
      "source": [
        "x[0]"
      ],
      "metadata": {
        "colab": {
          "base_uri": "https://localhost:8080/",
          "height": 35
        },
        "id": "wQLDAn7xiyIM",
        "outputId": "4ee6768f-3474-4535-d1a8-7db5af2d3d3b"
      },
      "execution_count": null,
      "outputs": [
        {
          "output_type": "execute_result",
          "data": {
            "text/plain": [
              "'2'"
            ],
            "application/vnd.google.colaboratory.intrinsic+json": {
              "type": "string"
            }
          },
          "metadata": {},
          "execution_count": 67
        }
      ]
    },
    {
      "cell_type": "code",
      "source": [
        "# '2' --> String"
      ],
      "metadata": {
        "id": "SxekZBvsi2dB"
      },
      "execution_count": null,
      "outputs": []
    },
    {
      "cell_type": "code",
      "source": [
        "type(x[0])"
      ],
      "metadata": {
        "colab": {
          "base_uri": "https://localhost:8080/"
        },
        "id": "ew2zXixmijjI",
        "outputId": "d7673536-195e-42b6-f4a4-780269c43835"
      },
      "execution_count": null,
      "outputs": [
        {
          "output_type": "execute_result",
          "data": {
            "text/plain": [
              "str"
            ]
          },
          "metadata": {},
          "execution_count": 66
        }
      ]
    },
    {
      "cell_type": "code",
      "source": [
        "x[4]"
      ],
      "metadata": {
        "colab": {
          "base_uri": "https://localhost:8080/",
          "height": 35
        },
        "id": "0Nzslb5phovT",
        "outputId": "81546e6c-6930-4f83-ab5d-2239765d3e41"
      },
      "execution_count": null,
      "outputs": [
        {
          "output_type": "execute_result",
          "data": {
            "text/plain": [
              "'4'"
            ],
            "application/vnd.google.colaboratory.intrinsic+json": {
              "type": "string"
            }
          },
          "metadata": {},
          "execution_count": 61
        }
      ]
    },
    {
      "cell_type": "code",
      "source": [
        "x[3]"
      ],
      "metadata": {
        "colab": {
          "base_uri": "https://localhost:8080/",
          "height": 35
        },
        "id": "LB5Vx0w-hulh",
        "outputId": "30414d27-a374-4195-a29c-7cbdbd36afdf"
      },
      "execution_count": null,
      "outputs": [
        {
          "output_type": "execute_result",
          "data": {
            "text/plain": [
              "'@'"
            ],
            "application/vnd.google.colaboratory.intrinsic+json": {
              "type": "string"
            }
          },
          "metadata": {},
          "execution_count": 62
        }
      ]
    },
    {
      "cell_type": "code",
      "source": [
        "# List\n",
        "y = [2 , 3 , 4 , 5] #  4 elements"
      ],
      "metadata": {
        "id": "ipwMIYWueV_w"
      },
      "execution_count": null,
      "outputs": []
    },
    {
      "cell_type": "code",
      "source": [
        "len(y)"
      ],
      "metadata": {
        "colab": {
          "base_uri": "https://localhost:8080/"
        },
        "id": "79Ay2X8LeV84",
        "outputId": "70b01bf5-1f03-413b-b1fc-c28268b223b5"
      },
      "execution_count": null,
      "outputs": [
        {
          "output_type": "execute_result",
          "data": {
            "text/plain": [
              "4"
            ]
          },
          "metadata": {},
          "execution_count": 51
        }
      ]
    },
    {
      "cell_type": "code",
      "source": [
        "y[1]"
      ],
      "metadata": {
        "colab": {
          "base_uri": "https://localhost:8080/"
        },
        "id": "3GOmKteXeV6B",
        "outputId": "d2fc9734-b528-4c64-929f-66baa700660e"
      },
      "execution_count": null,
      "outputs": [
        {
          "output_type": "execute_result",
          "data": {
            "text/plain": [
              "3"
            ]
          },
          "metadata": {},
          "execution_count": 63
        }
      ]
    },
    {
      "cell_type": "code",
      "source": [
        "y[0]"
      ],
      "metadata": {
        "colab": {
          "base_uri": "https://localhost:8080/"
        },
        "id": "uLMtNO3FeV3K",
        "outputId": "d7f5be9d-0e15-4ef2-9a93-db0b2da5026e"
      },
      "execution_count": null,
      "outputs": [
        {
          "output_type": "execute_result",
          "data": {
            "text/plain": [
              "2"
            ]
          },
          "metadata": {},
          "execution_count": 68
        }
      ]
    },
    {
      "cell_type": "code",
      "source": [
        "type(y[0])"
      ],
      "metadata": {
        "colab": {
          "base_uri": "https://localhost:8080/"
        },
        "id": "3-4UP22FjSt5",
        "outputId": "c2dc4232-33d3-46fb-94d5-df2f3749afcc"
      },
      "execution_count": null,
      "outputs": [
        {
          "output_type": "execute_result",
          "data": {
            "text/plain": [
              "int"
            ]
          },
          "metadata": {},
          "execution_count": 69
        }
      ]
    },
    {
      "cell_type": "code",
      "source": [
        "##\n"
      ],
      "metadata": {
        "id": "5s1iza02jhqI"
      },
      "execution_count": null,
      "outputs": []
    },
    {
      "cell_type": "code",
      "source": [
        "# a vs 'a'\n",
        "# 1. a --> Variable\n",
        "# 2. 'a' --> String"
      ],
      "metadata": {
        "id": "y5YWRGAdjhni"
      },
      "execution_count": null,
      "outputs": []
    },
    {
      "cell_type": "code",
      "source": [
        "a = 1\n",
        "b = 3\n",
        "c = 'AlmaBetter'\n",
        "d = False\n",
        "\n",
        "x = [ a , b , c, d ] # Collection of Data is list"
      ],
      "metadata": {
        "id": "zABa2cpBjhdY"
      },
      "execution_count": null,
      "outputs": []
    },
    {
      "cell_type": "code",
      "source": [
        "print(x)"
      ],
      "metadata": {
        "colab": {
          "base_uri": "https://localhost:8080/"
        },
        "id": "hS7h4h0kjhZv",
        "outputId": "c326a573-8efe-4b6a-ddc6-cf54fa73a288"
      },
      "execution_count": null,
      "outputs": [
        {
          "output_type": "stream",
          "name": "stdout",
          "text": [
            "[1, 3, 'c', False]\n"
          ]
        }
      ]
    },
    {
      "cell_type": "code",
      "source": [
        "x[3]"
      ],
      "metadata": {
        "colab": {
          "base_uri": "https://localhost:8080/"
        },
        "id": "VRMI0_qPjhW3",
        "outputId": "c7f59d0d-2f14-4aed-e801-6247e43783eb"
      },
      "execution_count": null,
      "outputs": [
        {
          "output_type": "execute_result",
          "data": {
            "text/plain": [
              "False"
            ]
          },
          "metadata": {},
          "execution_count": 76
        }
      ]
    },
    {
      "cell_type": "code",
      "source": [
        "type(x[3])"
      ],
      "metadata": {
        "colab": {
          "base_uri": "https://localhost:8080/"
        },
        "id": "FOUKcILSlTBB",
        "outputId": "d3664781-ddb6-4b96-8855-42b62087d2bf"
      },
      "execution_count": null,
      "outputs": [
        {
          "output_type": "execute_result",
          "data": {
            "text/plain": [
              "bool"
            ]
          },
          "metadata": {},
          "execution_count": 77
        }
      ]
    },
    {
      "cell_type": "code",
      "source": [
        "string_ala = \"[1, 3, 'c', False]\"\n",
        "string_ala[0]"
      ],
      "metadata": {
        "colab": {
          "base_uri": "https://localhost:8080/",
          "height": 35
        },
        "id": "9Pt6pRYJlS-J",
        "outputId": "27cee4e5-c30a-4595-bee4-4bb2b76ea93c"
      },
      "execution_count": null,
      "outputs": [
        {
          "output_type": "execute_result",
          "data": {
            "text/plain": [
              "'['"
            ],
            "application/vnd.google.colaboratory.intrinsic+json": {
              "type": "string"
            }
          },
          "metadata": {},
          "execution_count": 75
        }
      ]
    },
    {
      "cell_type": "code",
      "source": [
        "len(string_ala)"
      ],
      "metadata": {
        "colab": {
          "base_uri": "https://localhost:8080/"
        },
        "id": "nn750g1nlS49",
        "outputId": "3356f1a3-67e8-4144-f052-c6519537c9c1"
      },
      "execution_count": null,
      "outputs": [
        {
          "output_type": "execute_result",
          "data": {
            "text/plain": [
              "18"
            ]
          },
          "metadata": {},
          "execution_count": 78
        }
      ]
    },
    {
      "cell_type": "code",
      "source": [
        "print(string_ala[15])"
      ],
      "metadata": {
        "colab": {
          "base_uri": "https://localhost:8080/"
        },
        "id": "0WzdHj6rlS2W",
        "outputId": "7217b2fb-df12-48c8-8f77-fafa3face8ce"
      },
      "execution_count": null,
      "outputs": [
        {
          "output_type": "stream",
          "name": "stdout",
          "text": [
            "s\n"
          ]
        }
      ]
    },
    {
      "cell_type": "code",
      "source": [
        "# rules of created variable\n"
      ],
      "metadata": {
        "id": "YHLjQSY9lSze"
      },
      "execution_count": null,
      "outputs": []
    },
    {
      "cell_type": "code",
      "source": [
        "x = '''Alma\"better'''"
      ],
      "metadata": {
        "id": "Pb8sw80YjhTx"
      },
      "execution_count": null,
      "outputs": []
    },
    {
      "cell_type": "code",
      "source": [
        "print(x[0])"
      ],
      "metadata": {
        "colab": {
          "base_uri": "https://localhost:8080/"
        },
        "id": "Aeo_M153m0ns",
        "outputId": "11676bff-3d0e-4f7d-ebe2-a1121fde1b7d"
      },
      "execution_count": null,
      "outputs": [
        {
          "output_type": "stream",
          "name": "stdout",
          "text": [
            "A\n"
          ]
        }
      ]
    },
    {
      "cell_type": "code",
      "source": [
        "print(x[4])"
      ],
      "metadata": {
        "colab": {
          "base_uri": "https://localhost:8080/"
        },
        "id": "ENDrz6TumokF",
        "outputId": "8d091b47-1b3a-4d3f-fb19-b90b8f6c579d"
      },
      "execution_count": null,
      "outputs": [
        {
          "output_type": "stream",
          "name": "stdout",
          "text": [
            "\"\n"
          ]
        }
      ]
    },
    {
      "cell_type": "code",
      "source": [
        "# List\n",
        "# Representation : []\n",
        "\n",
        "ex = [3,2,4,5,6]\n",
        "type(ex)"
      ],
      "metadata": {
        "colab": {
          "base_uri": "https://localhost:8080/"
        },
        "id": "KaOzheMFFZM6",
        "outputId": "5e5e02af-b234-4908-b8ad-deca10b47c61"
      },
      "execution_count": null,
      "outputs": [
        {
          "output_type": "execute_result",
          "data": {
            "text/plain": [
              "list"
            ]
          },
          "metadata": {},
          "execution_count": 63
        }
      ]
    },
    {
      "cell_type": "code",
      "source": [
        "ex = [3,'a',4,True,5.4]"
      ],
      "metadata": {
        "id": "_P52q3eIGBVz"
      },
      "execution_count": null,
      "outputs": []
    },
    {
      "cell_type": "code",
      "source": [
        "#\n",
        "a = 1\n",
        "b = 2\n",
        "c = 3\n",
        "ex = [a,b,c]"
      ],
      "metadata": {
        "id": "6fek-4XaHwuM"
      },
      "execution_count": null,
      "outputs": []
    },
    {
      "cell_type": "code",
      "source": [
        "print(ex)"
      ],
      "metadata": {
        "colab": {
          "base_uri": "https://localhost:8080/"
        },
        "id": "SO_Bp7ZxIIs1",
        "outputId": "ae7ed151-559e-43ed-f829-e5282f44543c"
      },
      "execution_count": null,
      "outputs": [
        {
          "output_type": "stream",
          "name": "stdout",
          "text": [
            "[1, 2, 3]\n"
          ]
        }
      ]
    },
    {
      "cell_type": "code",
      "source": [
        "# 'a' --> Data  vs a --> variable"
      ],
      "metadata": {
        "id": "N8IEaMroIbRt"
      },
      "execution_count": null,
      "outputs": []
    },
    {
      "cell_type": "code",
      "source": [
        "# 'ab' vs ab"
      ],
      "metadata": {
        "id": "RvDDCHEPH2YA"
      },
      "execution_count": null,
      "outputs": []
    },
    {
      "cell_type": "code",
      "source": [
        "ab = 1\n",
        "bc = True # Boolean with Capital T\n",
        "cd = 4.5\n",
        "type([ab,bc,cd])"
      ],
      "metadata": {
        "colab": {
          "base_uri": "https://localhost:8080/"
        },
        "id": "IJ37oTKoImHv",
        "outputId": "9644f3d5-f25a-46cd-c4c5-d73aa372e50d"
      },
      "execution_count": null,
      "outputs": [
        {
          "output_type": "execute_result",
          "data": {
            "text/plain": [
              "list"
            ]
          },
          "metadata": {},
          "execution_count": 78
        }
      ]
    },
    {
      "cell_type": "code",
      "source": [
        "# Tuple\n",
        "# Representation ()\n",
        "ex = (2,3,4,4.5,True,'abc')\n",
        "type(ex)"
      ],
      "metadata": {
        "colab": {
          "base_uri": "https://localhost:8080/"
        },
        "id": "ilfC1OtOISRW",
        "outputId": "11cc0dab-d649-4fdd-fceb-d3e53f3956cf"
      },
      "execution_count": null,
      "outputs": [
        {
          "output_type": "execute_result",
          "data": {
            "text/plain": [
              "tuple"
            ]
          },
          "metadata": {},
          "execution_count": 79
        }
      ]
    },
    {
      "cell_type": "code",
      "source": [
        "len(ex) # Number of elements inside the tuple"
      ],
      "metadata": {
        "colab": {
          "base_uri": "https://localhost:8080/"
        },
        "id": "zcacQiKZJRyi",
        "outputId": "c4859cd5-ab7f-451e-bb01-c5c3b8d7e2a5"
      },
      "execution_count": null,
      "outputs": [
        {
          "output_type": "execute_result",
          "data": {
            "text/plain": [
              "6"
            ]
          },
          "metadata": {},
          "execution_count": 81
        }
      ]
    },
    {
      "cell_type": "code",
      "source": [
        "# Set\n",
        "ex = {2,3,4,5,9,10,'a',True,4.5}\n",
        "type(ex)"
      ],
      "metadata": {
        "colab": {
          "base_uri": "https://localhost:8080/"
        },
        "id": "OibkLsCaJloi",
        "outputId": "dba77433-a67b-4199-e0f8-998d7adf6247"
      },
      "execution_count": null,
      "outputs": [
        {
          "output_type": "execute_result",
          "data": {
            "text/plain": [
              "set"
            ]
          },
          "metadata": {},
          "execution_count": 82
        }
      ]
    },
    {
      "cell_type": "code",
      "source": [
        "# Dictionary : {key: value}\n",
        "ex = {'name':'Alok','Program':'Data Science'} #2\n",
        "# 1 element is key:value pair\n",
        "# Json :: APIs\n",
        "# Hash map\n"
      ],
      "metadata": {
        "id": "iOGg022FJ4iE"
      },
      "execution_count": null,
      "outputs": []
    },
    {
      "cell_type": "code",
      "source": [
        "# Representation\n",
        "# ex = '' ,\"\" ,''' ''' --> String\n",
        "# ex = [] --> List\n",
        "# ex = () --> tuple\n",
        "# ex = {} --> Set\n",
        "# ex = {key:value} --> Dictionary"
      ],
      "metadata": {
        "id": "wqTJ351CKuX5"
      },
      "execution_count": null,
      "outputs": []
    },
    {
      "cell_type": "code",
      "source": [
        "# Retention of inherent data type\n"
      ],
      "metadata": {
        "id": "PJmDh0p6LBCL"
      },
      "execution_count": null,
      "outputs": []
    },
    {
      "cell_type": "code",
      "source": [
        "ex = 'abc12' # a --> 0th index, b --> 1st index, c...., 4th index"
      ],
      "metadata": {
        "id": "ZZlwMWQ1LIqu"
      },
      "execution_count": null,
      "outputs": []
    },
    {
      "cell_type": "code",
      "source": [
        "# indexing --> 0\n",
        "ex[0] # Indexing & Slicing"
      ],
      "metadata": {
        "colab": {
          "base_uri": "https://localhost:8080/",
          "height": 35
        },
        "id": "vvtiPurlLP-c",
        "outputId": "5154979c-62a7-4096-ebf9-7f603a9f3a6e"
      },
      "execution_count": null,
      "outputs": [
        {
          "output_type": "execute_result",
          "data": {
            "text/plain": [
              "'a'"
            ],
            "application/vnd.google.colaboratory.intrinsic+json": {
              "type": "string"
            }
          },
          "metadata": {},
          "execution_count": 93
        }
      ]
    },
    {
      "cell_type": "code",
      "source": [
        "ex[3]"
      ],
      "metadata": {
        "colab": {
          "base_uri": "https://localhost:8080/",
          "height": 35
        },
        "id": "Xng4hKexLhwf",
        "outputId": "3e3d9a1c-6509-4a46-b47c-54d229d3befa"
      },
      "execution_count": null,
      "outputs": [
        {
          "output_type": "execute_result",
          "data": {
            "text/plain": [
              "'1'"
            ],
            "application/vnd.google.colaboratory.intrinsic+json": {
              "type": "string"
            }
          },
          "metadata": {},
          "execution_count": 94
        }
      ]
    },
    {
      "cell_type": "code",
      "source": [
        "type(ex[3])"
      ],
      "metadata": {
        "colab": {
          "base_uri": "https://localhost:8080/"
        },
        "id": "uAQO1sM6MjRC",
        "outputId": "f2e8243a-8a3a-456e-99d7-f57703c28c01"
      },
      "execution_count": null,
      "outputs": [
        {
          "output_type": "execute_result",
          "data": {
            "text/plain": [
              "str"
            ]
          },
          "metadata": {},
          "execution_count": 95
        }
      ]
    },
    {
      "cell_type": "code",
      "source": [
        "ex = 'abc452' # Index"
      ],
      "metadata": {
        "id": "o5MCuBNDM0Lm"
      },
      "execution_count": null,
      "outputs": []
    },
    {
      "cell_type": "code",
      "source": [
        "type(ex[4])"
      ],
      "metadata": {
        "colab": {
          "base_uri": "https://localhost:8080/"
        },
        "id": "7ux8WuRHM3V8",
        "outputId": "0adefa79-4d25-4bcc-cb92-bd2db37debfb"
      },
      "execution_count": null,
      "outputs": [
        {
          "output_type": "execute_result",
          "data": {
            "text/plain": [
              "str"
            ]
          },
          "metadata": {},
          "execution_count": 103
        }
      ]
    },
    {
      "cell_type": "code",
      "source": [
        "ex = ['a','b','c',1,2]"
      ],
      "metadata": {
        "id": "BSMqLI-WLMBk"
      },
      "execution_count": null,
      "outputs": []
    },
    {
      "cell_type": "code",
      "source": [
        "ex[0]"
      ],
      "metadata": {
        "colab": {
          "base_uri": "https://localhost:8080/",
          "height": 35
        },
        "id": "qX2o1Hd8LORU",
        "outputId": "06504d0d-4931-4f9f-aa1b-133393495ca3"
      },
      "execution_count": null,
      "outputs": [
        {
          "output_type": "execute_result",
          "data": {
            "text/plain": [
              "'a'"
            ],
            "application/vnd.google.colaboratory.intrinsic+json": {
              "type": "string"
            }
          },
          "metadata": {},
          "execution_count": 105
        }
      ]
    },
    {
      "cell_type": "code",
      "source": [
        "ex[3]"
      ],
      "metadata": {
        "colab": {
          "base_uri": "https://localhost:8080/"
        },
        "id": "lt39kRJuMYFn",
        "outputId": "cbfe0f42-9e32-4715-b512-5c9b46d5ad74"
      },
      "execution_count": null,
      "outputs": [
        {
          "output_type": "execute_result",
          "data": {
            "text/plain": [
              "1"
            ]
          },
          "metadata": {},
          "execution_count": 106
        }
      ]
    },
    {
      "cell_type": "code",
      "source": [
        "type(ex[3])"
      ],
      "metadata": {
        "colab": {
          "base_uri": "https://localhost:8080/"
        },
        "id": "vqyTcULbMZK1",
        "outputId": "a20f6e66-5add-4e85-81a3-b30b874a0392"
      },
      "execution_count": null,
      "outputs": [
        {
          "output_type": "execute_result",
          "data": {
            "text/plain": [
              "int"
            ]
          },
          "metadata": {},
          "execution_count": 107
        }
      ]
    },
    {
      "cell_type": "code",
      "source": [
        "# String --> Each data will lose it's property and become string\n",
        "# others (list,tuple,set & dict) --. Each data will have it's own type retained"
      ],
      "metadata": {
        "id": "X0fBi_EPMvZ1"
      },
      "execution_count": null,
      "outputs": []
    },
    {
      "cell_type": "code",
      "source": [
        "# Mutability vs Immutability\n",
        "ex = [2,3,4,5,6]\n",
        "ex[0]"
      ],
      "metadata": {
        "colab": {
          "base_uri": "https://localhost:8080/"
        },
        "id": "7IDI6bGyN4gm",
        "outputId": "b30e3bbc-c791-4a33-8f38-efc888f0f26f"
      },
      "execution_count": null,
      "outputs": [
        {
          "output_type": "execute_result",
          "data": {
            "text/plain": [
              "2"
            ]
          },
          "metadata": {},
          "execution_count": 114
        }
      ]
    },
    {
      "cell_type": "code",
      "source": [
        "# Change value at 0th index from 2 to 'a'\n",
        "ex[0] = 'a'"
      ],
      "metadata": {
        "id": "MY0DqGOKQIZ8"
      },
      "execution_count": null,
      "outputs": []
    },
    {
      "cell_type": "code",
      "source": [
        "print(ex)"
      ],
      "metadata": {
        "colab": {
          "base_uri": "https://localhost:8080/"
        },
        "id": "6DUBQnnzQTP3",
        "outputId": "9ad080f3-cd17-496f-a1bb-7ae8b604b2e9"
      },
      "execution_count": null,
      "outputs": [
        {
          "output_type": "stream",
          "name": "stdout",
          "text": [
            "['a', 3, 4, 5, 6]\n"
          ]
        }
      ]
    },
    {
      "cell_type": "code",
      "source": [
        "ex = 'AlmaBetter'\n",
        "ex[0]"
      ],
      "metadata": {
        "colab": {
          "base_uri": "https://localhost:8080/",
          "height": 35
        },
        "id": "QG5bXjvaQUAJ",
        "outputId": "49f1938d-a9be-48e1-c120-4da2b935bdba"
      },
      "execution_count": null,
      "outputs": [
        {
          "output_type": "execute_result",
          "data": {
            "text/plain": [
              "'A'"
            ],
            "application/vnd.google.colaboratory.intrinsic+json": {
              "type": "string"
            }
          },
          "metadata": {},
          "execution_count": 120
        }
      ]
    },
    {
      "cell_type": "code",
      "source": [
        "# ex[2]"
      ],
      "metadata": {
        "id": "pN0wjuEqRKeD"
      },
      "execution_count": null,
      "outputs": []
    },
    {
      "cell_type": "code",
      "source": [
        "# Change value from 'A' to 'a'\n",
        "ex[0] = 'a'"
      ],
      "metadata": {
        "colab": {
          "base_uri": "https://localhost:8080/",
          "height": 193
        },
        "id": "0CHP9AZcQarx",
        "outputId": "7a226e44-b5ac-44cb-b29a-ccc5e91768b2"
      },
      "execution_count": null,
      "outputs": [
        {
          "output_type": "error",
          "ename": "TypeError",
          "evalue": "'str' object does not support item assignment",
          "traceback": [
            "\u001b[0;31m---------------------------------------------------------------------------\u001b[0m",
            "\u001b[0;31mTypeError\u001b[0m                                 Traceback (most recent call last)",
            "\u001b[0;32m<ipython-input-122-a8fe449430e6>\u001b[0m in \u001b[0;36m<cell line: 2>\u001b[0;34m()\u001b[0m\n\u001b[1;32m      1\u001b[0m \u001b[0;31m# Change value from 'A' to 'a'\u001b[0m\u001b[0;34m\u001b[0m\u001b[0;34m\u001b[0m\u001b[0m\n\u001b[0;32m----> 2\u001b[0;31m \u001b[0mex\u001b[0m\u001b[0;34m[\u001b[0m\u001b[0;36m0\u001b[0m\u001b[0;34m]\u001b[0m \u001b[0;34m=\u001b[0m \u001b[0;34m'a'\u001b[0m\u001b[0;34m\u001b[0m\u001b[0;34m\u001b[0m\u001b[0m\n\u001b[0m",
            "\u001b[0;31mTypeError\u001b[0m: 'str' object does not support item assignment"
          ]
        }
      ]
    },
    {
      "cell_type": "code",
      "source": [
        "ex"
      ],
      "metadata": {
        "colab": {
          "base_uri": "https://localhost:8080/",
          "height": 35
        },
        "id": "5DevmeKjR1pU",
        "outputId": "971f82d0-60e4-47a4-aa83-ccc772d14dd5"
      },
      "execution_count": null,
      "outputs": [
        {
          "output_type": "execute_result",
          "data": {
            "text/plain": [
              "'AlmaBetter'"
            ],
            "application/vnd.google.colaboratory.intrinsic+json": {
              "type": "string"
            }
          },
          "metadata": {},
          "execution_count": 131
        }
      ]
    },
    {
      "cell_type": "code",
      "source": [
        "# .replace\n",
        "ex.replace('a','A')"
      ],
      "metadata": {
        "colab": {
          "base_uri": "https://localhost:8080/",
          "height": 35
        },
        "id": "S2aeBC4nQnhR",
        "outputId": "94cf77e7-f670-40ea-ab3a-1f0292dd97e3"
      },
      "execution_count": null,
      "outputs": [
        {
          "output_type": "execute_result",
          "data": {
            "text/plain": [
              "'AlmABetter'"
            ],
            "application/vnd.google.colaboratory.intrinsic+json": {
              "type": "string"
            }
          },
          "metadata": {},
          "execution_count": 132
        }
      ]
    },
    {
      "cell_type": "code",
      "source": [
        "ex"
      ],
      "metadata": {
        "colab": {
          "base_uri": "https://localhost:8080/",
          "height": 35
        },
        "id": "Ag60TbaHRz44",
        "outputId": "c47999e9-7501-4838-cdcb-14e6f5b4a450"
      },
      "execution_count": null,
      "outputs": [
        {
          "output_type": "execute_result",
          "data": {
            "text/plain": [
              "'AlmaBetter'"
            ],
            "application/vnd.google.colaboratory.intrinsic+json": {
              "type": "string"
            }
          },
          "metadata": {},
          "execution_count": 128
        }
      ]
    },
    {
      "cell_type": "code",
      "source": [
        "ex = ex.replace('A','a')"
      ],
      "metadata": {
        "id": "nD5Y7c9rSLM9"
      },
      "execution_count": null,
      "outputs": []
    },
    {
      "cell_type": "code",
      "source": [
        "ex_list = [3,4,5,6]\n",
        "ex_list[0] = 5"
      ],
      "metadata": {
        "id": "zTCOYEzGSf0D"
      },
      "execution_count": null,
      "outputs": []
    },
    {
      "cell_type": "code",
      "source": [
        "ex_list"
      ],
      "metadata": {
        "colab": {
          "base_uri": "https://localhost:8080/"
        },
        "id": "14KqZdJqSj__",
        "outputId": "ce6942e6-dd1e-433c-c0f0-4f226ca79c03"
      },
      "execution_count": null,
      "outputs": [
        {
          "output_type": "execute_result",
          "data": {
            "text/plain": [
              "[5, 4, 5, 6]"
            ]
          },
          "metadata": {},
          "execution_count": 130
        }
      ]
    },
    {
      "cell_type": "code",
      "source": [
        "#\n",
        "ex = 'AlmaBetter'\n",
        "ex.replace('A','a')"
      ],
      "metadata": {
        "colab": {
          "base_uri": "https://localhost:8080/",
          "height": 35
        },
        "id": "PHRCb_bCSnmk",
        "outputId": "9fc4183b-93fc-454f-e1ae-dfed5170a0cb"
      },
      "execution_count": null,
      "outputs": [
        {
          "output_type": "execute_result",
          "data": {
            "text/plain": [
              "'almaBetter'"
            ],
            "application/vnd.google.colaboratory.intrinsic+json": {
              "type": "string"
            }
          },
          "metadata": {},
          "execution_count": 133
        }
      ]
    },
    {
      "cell_type": "code",
      "source": [
        "# ex"
      ],
      "metadata": {
        "colab": {
          "base_uri": "https://localhost:8080/",
          "height": 35
        },
        "id": "Za1hPQMMUzvF",
        "outputId": "ea4a33f3-eaff-4132-87fc-bcb3de33d740"
      },
      "execution_count": null,
      "outputs": [
        {
          "output_type": "execute_result",
          "data": {
            "text/plain": [
              "'AlmaBetter'"
            ],
            "application/vnd.google.colaboratory.intrinsic+json": {
              "type": "string"
            }
          },
          "metadata": {},
          "execution_count": 134
        }
      ]
    },
    {
      "cell_type": "code",
      "source": [
        "ex.replace('AB','ab')"
      ],
      "metadata": {
        "colab": {
          "base_uri": "https://localhost:8080/",
          "height": 35
        },
        "id": "3hsDO_8pUylY",
        "outputId": "a484e647-d348-405a-8bcb-4b5d03506339"
      },
      "execution_count": null,
      "outputs": [
        {
          "output_type": "execute_result",
          "data": {
            "text/plain": [
              "'AlmaBetter'"
            ],
            "application/vnd.google.colaboratory.intrinsic+json": {
              "type": "string"
            }
          },
          "metadata": {},
          "execution_count": 135
        }
      ]
    },
    {
      "cell_type": "code",
      "source": [
        "ex = 'ABrtcAB'"
      ],
      "metadata": {
        "id": "kdjFSjjOU-eV"
      },
      "execution_count": null,
      "outputs": []
    },
    {
      "cell_type": "code",
      "source": [
        "ex.replace('AB','#$')"
      ],
      "metadata": {
        "colab": {
          "base_uri": "https://localhost:8080/",
          "height": 35
        },
        "id": "r1umowvpU7i8",
        "outputId": "cc0b9bba-8516-483d-bdaa-b919a4ecc635"
      },
      "execution_count": null,
      "outputs": [
        {
          "output_type": "execute_result",
          "data": {
            "text/plain": [
              "'#$rtc#$'"
            ],
            "application/vnd.google.colaboratory.intrinsic+json": {
              "type": "string"
            }
          },
          "metadata": {},
          "execution_count": 138
        }
      ]
    },
    {
      "cell_type": "code",
      "source": [
        "# looping concept For, while, .."
      ],
      "metadata": {
        "id": "I_2VsFJfVD74"
      },
      "execution_count": null,
      "outputs": []
    },
    {
      "cell_type": "code",
      "source": [
        "ex = (1,3,5,6)"
      ],
      "metadata": {
        "id": "eJV1s5ACV_cu"
      },
      "execution_count": null,
      "outputs": []
    },
    {
      "cell_type": "code",
      "source": [
        "ex[0]"
      ],
      "metadata": {
        "colab": {
          "base_uri": "https://localhost:8080/"
        },
        "id": "fYvvw8miWci8",
        "outputId": "d2ae27d8-6f24-4f52-a93c-12a0cf6a3806"
      },
      "execution_count": null,
      "outputs": [
        {
          "output_type": "execute_result",
          "data": {
            "text/plain": [
              "1"
            ]
          },
          "metadata": {},
          "execution_count": 142
        }
      ]
    },
    {
      "cell_type": "code",
      "source": [
        "# change 1 to 'a'\n",
        "ex[0] = 'a'"
      ],
      "metadata": {
        "colab": {
          "base_uri": "https://localhost:8080/",
          "height": 193
        },
        "id": "1txXIotQWc-j",
        "outputId": "67486bbc-8a29-423a-a9ec-bdbc90b818a6"
      },
      "execution_count": null,
      "outputs": [
        {
          "output_type": "error",
          "ename": "TypeError",
          "evalue": "'tuple' object does not support item assignment",
          "traceback": [
            "\u001b[0;31m---------------------------------------------------------------------------\u001b[0m",
            "\u001b[0;31mTypeError\u001b[0m                                 Traceback (most recent call last)",
            "\u001b[0;32m<ipython-input-143-f309ee2e1803>\u001b[0m in \u001b[0;36m<cell line: 2>\u001b[0;34m()\u001b[0m\n\u001b[1;32m      1\u001b[0m \u001b[0;31m# change 1 to 'a'\u001b[0m\u001b[0;34m\u001b[0m\u001b[0;34m\u001b[0m\u001b[0m\n\u001b[0;32m----> 2\u001b[0;31m \u001b[0mex\u001b[0m\u001b[0;34m[\u001b[0m\u001b[0;36m0\u001b[0m\u001b[0;34m]\u001b[0m \u001b[0;34m=\u001b[0m \u001b[0;34m'a'\u001b[0m\u001b[0;34m\u001b[0m\u001b[0;34m\u001b[0m\u001b[0m\n\u001b[0m",
            "\u001b[0;31mTypeError\u001b[0m: 'tuple' object does not support item assignment"
          ]
        }
      ]
    },
    {
      "cell_type": "code",
      "source": [
        "# Mutable\n",
        "ex = {1,2,3,4,5}\n",
        "type(ex)"
      ],
      "metadata": {
        "colab": {
          "base_uri": "https://localhost:8080/"
        },
        "id": "nsA2018IWjGp",
        "outputId": "503c3029-042f-44f6-b7c7-ebd396032760"
      },
      "execution_count": null,
      "outputs": [
        {
          "output_type": "execute_result",
          "data": {
            "text/plain": [
              "set"
            ]
          },
          "metadata": {},
          "execution_count": 144
        }
      ]
    },
    {
      "cell_type": "code",
      "source": [
        "# add 8\n",
        "ex.add(8)"
      ],
      "metadata": {
        "id": "3RvohJETW49-"
      },
      "execution_count": null,
      "outputs": []
    },
    {
      "cell_type": "code",
      "source": [
        "ex"
      ],
      "metadata": {
        "colab": {
          "base_uri": "https://localhost:8080/"
        },
        "id": "NceDRgelW-ft",
        "outputId": "ca64c9f9-7f34-41e5-95e2-dec6804c9624"
      },
      "execution_count": null,
      "outputs": [
        {
          "output_type": "execute_result",
          "data": {
            "text/plain": [
              "{1, 2, 3, 4, 5, 8}"
            ]
          },
          "metadata": {},
          "execution_count": 146
        }
      ]
    },
    {
      "cell_type": "code",
      "source": [
        "# Dictionary\n",
        "ex = {3:4,'a':34}\n",
        "ex['b'] = 'd'"
      ],
      "metadata": {
        "id": "fkMMSzd_XAh2"
      },
      "execution_count": null,
      "outputs": []
    },
    {
      "cell_type": "code",
      "source": [
        "ex"
      ],
      "metadata": {
        "colab": {
          "base_uri": "https://localhost:8080/"
        },
        "id": "IWu2mSpNXa0j",
        "outputId": "5dcbad60-232a-4056-8f49-3732e178c7d8"
      },
      "execution_count": null,
      "outputs": [
        {
          "output_type": "execute_result",
          "data": {
            "text/plain": [
              "{3: 4, 'a': 34, 'b': 'd'}"
            ]
          },
          "metadata": {},
          "execution_count": 149
        }
      ]
    },
    {
      "cell_type": "code",
      "source": [
        "ex['a'] = 56"
      ],
      "metadata": {
        "id": "ejLhRfvdXbPO"
      },
      "execution_count": null,
      "outputs": []
    },
    {
      "cell_type": "code",
      "source": [
        "ex"
      ],
      "metadata": {
        "colab": {
          "base_uri": "https://localhost:8080/"
        },
        "id": "0S6UkTgMXif5",
        "outputId": "9bfef54f-2d64-44c8-e4a4-87cd2dffa89c"
      },
      "execution_count": null,
      "outputs": [
        {
          "output_type": "execute_result",
          "data": {
            "text/plain": [
              "{3: 4, 'a': 56, 'b': 'd'}"
            ]
          },
          "metadata": {},
          "execution_count": 152
        }
      ]
    },
    {
      "cell_type": "code",
      "source": [
        "# ordered vs Unordered\n",
        "[2,3,4,5] == [5,3,4,2] # list is ordered"
      ],
      "metadata": {
        "colab": {
          "base_uri": "https://localhost:8080/"
        },
        "id": "8BWKmCIRXkcY",
        "outputId": "da2f9da4-1b9a-4dd6-8dea-af5c145d0fa6"
      },
      "execution_count": null,
      "outputs": [
        {
          "output_type": "execute_result",
          "data": {
            "text/plain": [
              "False"
            ]
          },
          "metadata": {},
          "execution_count": 153
        }
      ]
    },
    {
      "cell_type": "code",
      "source": [
        "{2,3,4,5} == {5,3,4,2} # Set is unordered"
      ],
      "metadata": {
        "colab": {
          "base_uri": "https://localhost:8080/"
        },
        "id": "5zRmeyihaKII",
        "outputId": "43b94430-fb9a-41cf-e803-031df921653a"
      },
      "execution_count": null,
      "outputs": [
        {
          "output_type": "execute_result",
          "data": {
            "text/plain": [
              "True"
            ]
          },
          "metadata": {},
          "execution_count": 154
        }
      ]
    },
    {
      "cell_type": "code",
      "source": [
        "{2,3,4,5} == {5,2,3,4}"
      ],
      "metadata": {
        "colab": {
          "base_uri": "https://localhost:8080/"
        },
        "id": "Po1FBQuXbFCW",
        "outputId": "c378b442-fd89-496e-d2e4-62027a6d9b7a"
      },
      "execution_count": null,
      "outputs": [
        {
          "output_type": "execute_result",
          "data": {
            "text/plain": [
              "True"
            ]
          },
          "metadata": {},
          "execution_count": 158
        }
      ]
    },
    {
      "cell_type": "code",
      "source": [
        "#\n",
        "'hello' == 'elloh' # String is ordered"
      ],
      "metadata": {
        "colab": {
          "base_uri": "https://localhost:8080/"
        },
        "id": "Q_DrQnPRaOvh",
        "outputId": "595c2e86-fa57-4017-c2f4-2ea3ec2673b4"
      },
      "execution_count": null,
      "outputs": [
        {
          "output_type": "execute_result",
          "data": {
            "text/plain": [
              "False"
            ]
          },
          "metadata": {},
          "execution_count": 155
        }
      ]
    },
    {
      "cell_type": "code",
      "source": [
        "(2,3,4,5) == (5,3,4,2) # tuple is ordered"
      ],
      "metadata": {
        "colab": {
          "base_uri": "https://localhost:8080/"
        },
        "id": "rVqRL8kDa2di",
        "outputId": "837420c1-b4e9-46ad-8b94-655568342370"
      },
      "execution_count": null,
      "outputs": [
        {
          "output_type": "execute_result",
          "data": {
            "text/plain": [
              "False"
            ]
          },
          "metadata": {},
          "execution_count": 156
        }
      ]
    },
    {
      "cell_type": "code",
      "source": [
        "# Dictionary\n",
        "{3:'a',6:'b'} == {6:'b',3:'a'}  # Dict is unordered"
      ],
      "metadata": {
        "colab": {
          "base_uri": "https://localhost:8080/"
        },
        "id": "1lg9Rh9Fa_RC",
        "outputId": "c7ba7347-dc41-4326-f8fb-6e3411cedcdb"
      },
      "execution_count": null,
      "outputs": [
        {
          "output_type": "execute_result",
          "data": {
            "text/plain": [
              "True"
            ]
          },
          "metadata": {},
          "execution_count": 159
        }
      ]
    },
    {
      "cell_type": "code",
      "source": [
        "# Indexing & Slicing\n",
        "ex = [2,3,4,5]\n",
        "ex[0]"
      ],
      "metadata": {
        "colab": {
          "base_uri": "https://localhost:8080/"
        },
        "id": "DDTaGup-bRLr",
        "outputId": "a037f63a-5cda-44e9-9872-b5a3ed71c3ee"
      },
      "execution_count": null,
      "outputs": [
        {
          "output_type": "execute_result",
          "data": {
            "text/plain": [
              "2"
            ]
          },
          "metadata": {},
          "execution_count": 160
        }
      ]
    },
    {
      "cell_type": "code",
      "source": [
        "ex = {2,3,4,5}"
      ],
      "metadata": {
        "id": "oqi6vUFsc3Pp"
      },
      "execution_count": null,
      "outputs": []
    },
    {
      "cell_type": "code",
      "source": [
        "# ex[0]"
      ],
      "metadata": {
        "id": "xucEJYNSc5XN"
      },
      "execution_count": null,
      "outputs": []
    },
    {
      "cell_type": "code",
      "source": [
        "# input()\n",
        "ex = input('Enter the age:')\n",
        "print(ex)"
      ],
      "metadata": {
        "colab": {
          "base_uri": "https://localhost:8080/"
        },
        "id": "3yWrJ4UEc6GF",
        "outputId": "47dc8314-0f1f-4a41-a16d-3a5803f403c0"
      },
      "execution_count": null,
      "outputs": [
        {
          "output_type": "stream",
          "name": "stdout",
          "text": [
            "Enter the age:50\n",
            "50\n"
          ]
        }
      ]
    },
    {
      "cell_type": "code",
      "source": [
        "ex = int(input('Enter the age:'))\n",
        "print(ex)\n",
        "type(ex)"
      ],
      "metadata": {
        "colab": {
          "base_uri": "https://localhost:8080/"
        },
        "id": "xgzmm116d83K",
        "outputId": "93f39ec2-85a8-4308-97db-ad105a5350f2"
      },
      "execution_count": null,
      "outputs": [
        {
          "output_type": "stream",
          "name": "stdout",
          "text": [
            "Enter the age:50\n",
            "50\n"
          ]
        },
        {
          "output_type": "execute_result",
          "data": {
            "text/plain": [
              "int"
            ]
          },
          "metadata": {},
          "execution_count": 172
        }
      ]
    },
    {
      "cell_type": "code",
      "source": [
        "ex = float(input('Enter the height:'))\n",
        "print(ex)\n",
        "type(ex)"
      ],
      "metadata": {
        "colab": {
          "base_uri": "https://localhost:8080/"
        },
        "id": "OUA9tJileY9F",
        "outputId": "9a759dd1-a0dd-4041-bd47-f11e2bebcae2"
      },
      "execution_count": null,
      "outputs": [
        {
          "output_type": "stream",
          "name": "stdout",
          "text": [
            "Enter the height:5.10\n",
            "5.1\n"
          ]
        },
        {
          "output_type": "execute_result",
          "data": {
            "text/plain": [
              "float"
            ]
          },
          "metadata": {},
          "execution_count": 173
        }
      ]
    },
    {
      "cell_type": "code",
      "source": [
        "# By default input will store data as string\n"
      ],
      "metadata": {
        "id": "drDE2dABeELZ"
      },
      "execution_count": null,
      "outputs": []
    },
    {
      "cell_type": "code",
      "source": [
        "ex"
      ],
      "metadata": {
        "colab": {
          "base_uri": "https://localhost:8080/",
          "height": 35
        },
        "id": "p9_Fh1Gjdotz",
        "outputId": "48dfa911-71c5-4d13-cb4b-4f11acd7ab2c"
      },
      "execution_count": null,
      "outputs": [
        {
          "output_type": "execute_result",
          "data": {
            "text/plain": [
              "'30'"
            ],
            "application/vnd.google.colaboratory.intrinsic+json": {
              "type": "string"
            }
          },
          "metadata": {},
          "execution_count": 165
        }
      ]
    },
    {
      "cell_type": "code",
      "source": [
        "print('hello world')"
      ],
      "metadata": {
        "colab": {
          "base_uri": "https://localhost:8080/"
        },
        "id": "Mwq-8RL4dsSA",
        "outputId": "828084c4-8bd4-4c09-c7c3-450f080ccf76"
      },
      "execution_count": null,
      "outputs": [
        {
          "output_type": "stream",
          "name": "stdout",
          "text": [
            "hello world\n"
          ]
        }
      ]
    },
    {
      "cell_type": "code",
      "source": [
        "x1 = float(input())\n",
        "y1 = float(input())\n",
        "\n",
        "x2 = float(input())\n",
        "y2 = float(input())\n",
        "\n",
        "x_mid = (x1+x2)/2\n",
        "y_mid = (y1+y2)/2\n",
        "print(f'Midpoint: {x_mid} {y_mid}')"
      ],
      "metadata": {
        "colab": {
          "base_uri": "https://localhost:8080/"
        },
        "id": "5uD7MTZCd1_a",
        "outputId": "e11090ea-ba20-4fbc-9cc1-c7905225cb22"
      },
      "execution_count": null,
      "outputs": [
        {
          "output_type": "stream",
          "name": "stdout",
          "text": [
            "3\n",
            "3\n",
            "4\n",
            "4\n",
            "Midpoint: 3.5 3.5\n"
          ]
        }
      ]
    },
    {
      "cell_type": "code",
      "source": [
        "# Question Midpoint\n",
        "# Write your code here\n",
        "\n",
        "x1 = float(input())\n",
        "y1 = float(input())\n",
        "\n",
        "x2 = float(input())\n",
        "y2 = float(input())\n",
        "\n",
        "x_mid = (x1+x2)/2\n",
        "y_mid = (y1+y2)/2\n",
        "\n",
        "print(f'Midpoint: {x_mid} {y_mid}')\n"
      ],
      "metadata": {
        "id": "MKzXvsE7hNAk"
      },
      "execution_count": null,
      "outputs": []
    },
    {
      "cell_type": "code",
      "source": [
        "print(f'Midpoint: {x_mid},{y_mid}')\n",
        "# use of fstring"
      ],
      "metadata": {
        "id": "MJYz4m7mfM_w"
      },
      "execution_count": null,
      "outputs": []
    },
    {
      "cell_type": "code",
      "source": [
        "print('hello world')"
      ],
      "metadata": {
        "colab": {
          "base_uri": "https://localhost:8080/"
        },
        "id": "qAP2wgCCgT4D",
        "outputId": "399279b5-86df-44cd-c545-24648a1e064c"
      },
      "execution_count": null,
      "outputs": [
        {
          "output_type": "stream",
          "name": "stdout",
          "text": [
            "hello world\n"
          ]
        }
      ]
    },
    {
      "cell_type": "code",
      "source": [
        "ex = 'hello world'\n",
        "print(ex)"
      ],
      "metadata": {
        "colab": {
          "base_uri": "https://localhost:8080/"
        },
        "id": "69of-UeAgV2E",
        "outputId": "20b7e3f7-083e-4f11-a19f-cdbfd46e8a5c"
      },
      "execution_count": null,
      "outputs": [
        {
          "output_type": "stream",
          "name": "stdout",
          "text": [
            "hello world\n"
          ]
        }
      ]
    },
    {
      "cell_type": "code",
      "source": [
        "# 'I want to print hello world' #if ex = 'hello world'\n",
        "# 'I want to print AlmaBetter' #if ex = 'AlmaBetter'\n",
        "# fstring\n",
        "# ex = 'hello world'\n",
        "ex = 'AlmaBetter'\n",
        "print(f'I want to print {ex}')"
      ],
      "metadata": {
        "colab": {
          "base_uri": "https://localhost:8080/"
        },
        "id": "CxW-_xkFgYIs",
        "outputId": "27c421c8-2bb7-4fe9-ae68-e2ae502a6c80"
      },
      "execution_count": null,
      "outputs": [
        {
          "output_type": "stream",
          "name": "stdout",
          "text": [
            "I want to print AlmaBetter\n"
          ]
        }
      ]
    },
    {
      "cell_type": "code",
      "source": [],
      "metadata": {
        "id": "qiMwtE8WgvXJ"
      },
      "execution_count": null,
      "outputs": []
    },
    {
      "cell_type": "code",
      "source": [],
      "metadata": {
        "id": "8khkJKr5a3Rg"
      },
      "execution_count": null,
      "outputs": []
    },
    {
      "cell_type": "code",
      "source": [
        "ex_list = [2,3,4,5]\n",
        "ex_tuple = (2,3,4,5)\n",
        "ex_string = '2345'\n",
        "ex_set = {2,3,4,5}\n"
      ],
      "metadata": {
        "id": "lbxYbow1bEww"
      },
      "execution_count": null,
      "outputs": []
    },
    {
      "cell_type": "code",
      "source": [
        "# Revision\n",
        "#---Primitive data types-----\n",
        "# 1 --> int\n",
        "# 2.3 --> Float\n",
        "# True/ False --> boolean\n",
        "# 2+3j --> complex\n",
        "\n",
        "# Non Primitive\n",
        "# One single value will be there as data\n",
        "# 'Abc' --> Str, \"\", ''' ''' # Element --> 3\n",
        "# [2,3,4,2] --> list , # elements. -> 4\n",
        "# (2,3,4,2) --> tuple # elements --> 4\n",
        "# {2,3,4,5} --> set #elements --> 4\n",
        "# {2:3, 4:5} -->  Dict # elements --> 2 # 2 & 4 are keys &  3 &5 are values --> {key:value} Pair"
      ],
      "metadata": {
        "id": "iGnnZPAdcLCQ"
      },
      "execution_count": null,
      "outputs": []
    },
    {
      "cell_type": "code",
      "source": [
        "# 'Abcd$' -->5\n",
        "# 'A,b,c, d,$' --> 9"
      ],
      "metadata": {
        "id": "E0R0Rv4ucP7R"
      },
      "execution_count": null,
      "outputs": []
    },
    {
      "cell_type": "code",
      "source": [
        "# Immutability vs Mutability\n",
        "# String --> Immutable\n",
        "ex = 'AlmaBetter'\n",
        "# You can't change the data or individual elements\n",
        "# ex[0] = 'a'"
      ],
      "metadata": {
        "id": "9c4uWC7iIUn9"
      },
      "execution_count": null,
      "outputs": []
    },
    {
      "cell_type": "code",
      "source": [
        "# List --> Mutable\n",
        "# data can be changed, individual elements can be changed\n",
        "ex = [3,4,5,6]\n",
        "ex[0] = True"
      ],
      "metadata": {
        "id": "ZphjOnWtIVVD"
      },
      "execution_count": null,
      "outputs": []
    },
    {
      "cell_type": "code",
      "source": [
        "ex"
      ],
      "metadata": {
        "colab": {
          "base_uri": "https://localhost:8080/"
        },
        "id": "aHUTM4WjN08I",
        "outputId": "a64defc5-d7d8-47a4-9d27-4e8812492ca9"
      },
      "execution_count": null,
      "outputs": [
        {
          "output_type": "execute_result",
          "data": {
            "text/plain": [
              "[True, 4, 5, 6]"
            ]
          },
          "metadata": {},
          "execution_count": 10
        }
      ]
    },
    {
      "cell_type": "code",
      "source": [
        "# Tuple --> Immutable\n",
        "ex = (3,4,5,6)\n",
        "ex[0] = 8"
      ],
      "metadata": {
        "colab": {
          "base_uri": "https://localhost:8080/",
          "height": 210
        },
        "id": "i3QW1YzRN3bL",
        "outputId": "8bb7ab65-0a2d-47cd-f30b-9665057ab92b"
      },
      "execution_count": null,
      "outputs": [
        {
          "output_type": "error",
          "ename": "TypeError",
          "evalue": "'tuple' object does not support item assignment",
          "traceback": [
            "\u001b[0;31m---------------------------------------------------------------------------\u001b[0m",
            "\u001b[0;31mTypeError\u001b[0m                                 Traceback (most recent call last)",
            "\u001b[0;32m<ipython-input-12-2696648f46d6>\u001b[0m in \u001b[0;36m<cell line: 3>\u001b[0;34m()\u001b[0m\n\u001b[1;32m      1\u001b[0m \u001b[0;31m# Tuple --> Immutable\u001b[0m\u001b[0;34m\u001b[0m\u001b[0;34m\u001b[0m\u001b[0m\n\u001b[1;32m      2\u001b[0m \u001b[0mex\u001b[0m \u001b[0;34m=\u001b[0m \u001b[0;34m(\u001b[0m\u001b[0;36m3\u001b[0m\u001b[0;34m,\u001b[0m\u001b[0;36m4\u001b[0m\u001b[0;34m,\u001b[0m\u001b[0;36m5\u001b[0m\u001b[0;34m,\u001b[0m\u001b[0;36m6\u001b[0m\u001b[0;34m)\u001b[0m\u001b[0;34m\u001b[0m\u001b[0;34m\u001b[0m\u001b[0m\n\u001b[0;32m----> 3\u001b[0;31m \u001b[0mex\u001b[0m\u001b[0;34m[\u001b[0m\u001b[0;36m0\u001b[0m\u001b[0;34m]\u001b[0m \u001b[0;34m=\u001b[0m \u001b[0;36m8\u001b[0m\u001b[0;34m\u001b[0m\u001b[0;34m\u001b[0m\u001b[0m\n\u001b[0m",
            "\u001b[0;31mTypeError\u001b[0m: 'tuple' object does not support item assignment"
          ]
        }
      ]
    },
    {
      "cell_type": "code",
      "source": [
        "# Set --> mutable\n",
        "ex = {1,2,3,4}\n",
        "ex.add(5)\n",
        "print(ex)\n",
        "# {1,2,3,4} - {4}"
      ],
      "metadata": {
        "colab": {
          "base_uri": "https://localhost:8080/"
        },
        "id": "Pf03c4f7N8zX",
        "outputId": "6f566c7b-7323-41b9-deb9-292555aa2c65"
      },
      "execution_count": null,
      "outputs": [
        {
          "output_type": "stream",
          "name": "stdout",
          "text": [
            "{1, 2, 3, 4, 5}\n"
          ]
        },
        {
          "output_type": "execute_result",
          "data": {
            "text/plain": [
              "{1, 2, 3}"
            ]
          },
          "metadata": {},
          "execution_count": 15
        }
      ]
    },
    {
      "cell_type": "code",
      "source": [
        "# Dictionary --> Mutable\n",
        "ex = {2:3, 4:5}\n",
        "ex[4] = 10"
      ],
      "metadata": {
        "id": "vwlOex-6OES-"
      },
      "execution_count": null,
      "outputs": []
    },
    {
      "cell_type": "code",
      "source": [
        "ex"
      ],
      "metadata": {
        "colab": {
          "base_uri": "https://localhost:8080/"
        },
        "id": "jlDBCF8JOY-C",
        "outputId": "f8862920-cf94-49e9-b3f3-4b557af2c863"
      },
      "execution_count": null,
      "outputs": [
        {
          "output_type": "execute_result",
          "data": {
            "text/plain": [
              "{2: 3, 4: 10}"
            ]
          },
          "metadata": {},
          "execution_count": 18
        }
      ]
    },
    {
      "cell_type": "code",
      "source": [
        "# Immutable vs Mutable\n",
        "# Memory optimises your memory\n",
        "ex_str = '1234'\n",
        "ex_list = [1,2,3,4]\n",
        "ex_tuple = (1,2,3,4)\n",
        "ex_set = {1,2,3,4}\n",
        "# All varibles have 4 elements all elements are same\n"
      ],
      "metadata": {
        "id": "njUWIokROd4h"
      },
      "execution_count": null,
      "outputs": []
    },
    {
      "cell_type": "code",
      "source": [
        "import sys\n",
        "print(sys.getsizeof(ex_str))\n",
        "print(sys.getsizeof(ex_list))\n",
        "print(sys.getsizeof(ex_tuple))\n",
        "print(sys.getsizeof(ex_set))"
      ],
      "metadata": {
        "colab": {
          "base_uri": "https://localhost:8080/"
        },
        "id": "I_OlRiAPPV2L",
        "outputId": "5b54437f-316d-44d4-9f1e-6031ed1ea03b"
      },
      "execution_count": null,
      "outputs": [
        {
          "output_type": "stream",
          "name": "stdout",
          "text": [
            "53\n",
            "88\n",
            "72\n",
            "216\n"
          ]
        }
      ]
    },
    {
      "cell_type": "code",
      "source": [
        "# Immutable dtys will be allocated less memory compared to Mutable\n"
      ],
      "metadata": {
        "id": "aWnXAojpQQW2"
      },
      "execution_count": null,
      "outputs": []
    },
    {
      "cell_type": "code",
      "source": [
        "# Ordered vs Unordered\n",
        "\n",
        "ex = 'AlmaBetter'\n",
        "\n",
        "# Ordered--> Where sequence matters, each element has position defined & you can access each individual element using that position"
      ],
      "metadata": {
        "id": "RmHQtoU_Q_bI"
      },
      "execution_count": null,
      "outputs": []
    },
    {
      "cell_type": "code",
      "source": [
        "ex[0] # index"
      ],
      "metadata": {
        "colab": {
          "base_uri": "https://localhost:8080/",
          "height": 35
        },
        "id": "r8vYrSJlTEhx",
        "outputId": "fe68439e-c92d-458a-ddf0-6d2ca796a198"
      },
      "execution_count": null,
      "outputs": [
        {
          "output_type": "execute_result",
          "data": {
            "text/plain": [
              "'A'"
            ],
            "application/vnd.google.colaboratory.intrinsic+json": {
              "type": "string"
            }
          },
          "metadata": {},
          "execution_count": 27
        }
      ]
    },
    {
      "cell_type": "code",
      "source": [
        "# String ordered"
      ],
      "metadata": {
        "id": "mtXgp2ckTE-_"
      },
      "execution_count": null,
      "outputs": []
    },
    {
      "cell_type": "code",
      "source": [
        "# List\n",
        "ex = [1,2,3,4]\n",
        "# ordered\n"
      ],
      "metadata": {
        "id": "jm67z_7jTPW_"
      },
      "execution_count": null,
      "outputs": []
    },
    {
      "cell_type": "code",
      "source": [
        "# tuple\n",
        "ex = (1,2,3,4)\n",
        "# Ordered\n"
      ],
      "metadata": {
        "id": "FritWpOVTVzA"
      },
      "execution_count": null,
      "outputs": []
    },
    {
      "cell_type": "code",
      "source": [
        "# Set\n",
        "ex = {1,2,3,4}\n",
        "# Unordered"
      ],
      "metadata": {
        "id": "FQm83qjYTacZ"
      },
      "execution_count": null,
      "outputs": []
    },
    {
      "cell_type": "code",
      "source": [
        "# Dictionary\n",
        "ex = {1:2,3:4}\n",
        "# Unordered"
      ],
      "metadata": {
        "id": "d9Ek6dFeTd0x"
      },
      "execution_count": null,
      "outputs": []
    },
    {
      "cell_type": "code",
      "source": [
        "# ordered\n",
        "[1,2,3,4] == [2,1,3,4] # False: Position is different even if values are same."
      ],
      "metadata": {
        "colab": {
          "base_uri": "https://localhost:8080/"
        },
        "id": "W8zNugjuTh84",
        "outputId": "051cc0c6-6b46-4ad5-d121-45f74c7565cc"
      },
      "execution_count": null,
      "outputs": [
        {
          "output_type": "execute_result",
          "data": {
            "text/plain": [
              "False"
            ]
          },
          "metadata": {},
          "execution_count": 32
        }
      ]
    },
    {
      "cell_type": "code",
      "source": [
        "# Unordered\n",
        "{1,2,3,4} == {2,1,3,4} # True : Position doesn't matter and if values are same True"
      ],
      "metadata": {
        "colab": {
          "base_uri": "https://localhost:8080/"
        },
        "id": "JjNR_xLqTsyH",
        "outputId": "f85e3a63-72e5-4adc-a20b-defc4dd97691"
      },
      "execution_count": null,
      "outputs": [
        {
          "output_type": "execute_result",
          "data": {
            "text/plain": [
              "True"
            ]
          },
          "metadata": {},
          "execution_count": 33
        }
      ]
    },
    {
      "cell_type": "code",
      "source": [
        "# data type of infinity\n",
        "ex = float('inf') # Positive\n",
        "print(type(ex))\n",
        "print(ex)"
      ],
      "metadata": {
        "colab": {
          "base_uri": "https://localhost:8080/"
        },
        "id": "IZfvdCn_UFeM",
        "outputId": "5b6aa01a-2516-477c-e545-a98867a8301d"
      },
      "execution_count": null,
      "outputs": [
        {
          "output_type": "stream",
          "name": "stdout",
          "text": [
            "<class 'float'>\n",
            "inf\n"
          ]
        }
      ]
    },
    {
      "cell_type": "code",
      "source": [
        "1/ex"
      ],
      "metadata": {
        "colab": {
          "base_uri": "https://localhost:8080/"
        },
        "id": "EGqX0KKrUvDv",
        "outputId": "b4feaa04-1665-4e2b-d8e0-be88b9c5aa59"
      },
      "execution_count": null,
      "outputs": [
        {
          "output_type": "execute_result",
          "data": {
            "text/plain": [
              "0.0"
            ]
          },
          "metadata": {},
          "execution_count": 36
        }
      ]
    },
    {
      "cell_type": "code",
      "source": [
        "# 1/8888"
      ],
      "metadata": {
        "id": "V13HlmBwU67o"
      },
      "execution_count": null,
      "outputs": []
    },
    {
      "cell_type": "code",
      "source": [
        "# Other Properties of Data types\n",
        "\n",
        "ex= 'ALmandhibedwbdwb4879423487948209342394$%^&*!(~)@_~!@' # No restriction # each elements becomes string Retention of Data types"
      ],
      "metadata": {
        "id": "7v7rgX5dVGwb"
      },
      "execution_count": null,
      "outputs": []
    },
    {
      "cell_type": "code",
      "source": [
        "ex = '1234'\n",
        "type(ex[0])"
      ],
      "metadata": {
        "colab": {
          "base_uri": "https://localhost:8080/"
        },
        "id": "uqarF41pWJ6p",
        "outputId": "430af2c8-05ba-4aec-adb2-0fd10967c7ec"
      },
      "execution_count": null,
      "outputs": [
        {
          "output_type": "execute_result",
          "data": {
            "text/plain": [
              "str"
            ]
          },
          "metadata": {},
          "execution_count": 44
        }
      ]
    },
    {
      "cell_type": "code",
      "source": [
        "ex = [1,2,3,4]\n",
        "type(ex[0]) # Retaining the property"
      ],
      "metadata": {
        "colab": {
          "base_uri": "https://localhost:8080/"
        },
        "id": "tdHD4-7PWNGU",
        "outputId": "53c4f8da-79e0-42ee-d88a-6257db710870"
      },
      "execution_count": null,
      "outputs": [
        {
          "output_type": "execute_result",
          "data": {
            "text/plain": [
              "int"
            ]
          },
          "metadata": {},
          "execution_count": 46
        }
      ]
    },
    {
      "cell_type": "code",
      "source": [
        "ex = '123421qwdqwdwqdwq2331313#!#$#$#!$**~~' # String\n"
      ],
      "metadata": {
        "id": "FCEg2E8tWRb6"
      },
      "execution_count": null,
      "outputs": []
    },
    {
      "cell_type": "code",
      "source": [
        "type(ex[0])"
      ],
      "metadata": {
        "colab": {
          "base_uri": "https://localhost:8080/"
        },
        "id": "qDQp8EwtWyI8",
        "outputId": "39e51378-4e75-4ced-8a2e-864b659afb15"
      },
      "execution_count": null,
      "outputs": [
        {
          "output_type": "execute_result",
          "data": {
            "text/plain": [
              "str"
            ]
          },
          "metadata": {},
          "execution_count": 50
        }
      ]
    },
    {
      "cell_type": "code",
      "source": [
        "ex = [1,2,3]\n",
        "ex[0]\n"
      ],
      "metadata": {
        "colab": {
          "base_uri": "https://localhost:8080/"
        },
        "id": "miL9auv0W3GJ",
        "outputId": "bcf47c3a-3e56-4f72-fc35-d466f0055984"
      },
      "execution_count": null,
      "outputs": [
        {
          "output_type": "execute_result",
          "data": {
            "text/plain": [
              "1"
            ]
          },
          "metadata": {},
          "execution_count": 51
        }
      ]
    },
    {
      "cell_type": "code",
      "source": [
        "type(ex[0])"
      ],
      "metadata": {
        "colab": {
          "base_uri": "https://localhost:8080/"
        },
        "id": "tsvDITlOXD2N",
        "outputId": "49569609-821f-48db-ff7f-19f2ee03097c"
      },
      "execution_count": null,
      "outputs": [
        {
          "output_type": "execute_result",
          "data": {
            "text/plain": [
              "int"
            ]
          },
          "metadata": {},
          "execution_count": 52
        }
      ]
    },
    {
      "cell_type": "code",
      "source": [
        "# List : Any data type, inside the list : dump yard of data types\n",
        "ex_alok = [2 , 2.3 , True , 3+8j,'String', [2,3,4] , (6,7,8), {5,4,6}, {3:4,5:6}] # Elements : 9"
      ],
      "metadata": {
        "id": "l_Rrb1UVXFX7"
      },
      "execution_count": null,
      "outputs": []
    },
    {
      "cell_type": "code",
      "source": [
        "len(ex)"
      ],
      "metadata": {
        "colab": {
          "base_uri": "https://localhost:8080/"
        },
        "id": "G5p5jezRYuZm",
        "outputId": "1f8cc363-0ef3-463c-a3eb-755f9ad98687"
      },
      "execution_count": null,
      "outputs": [
        {
          "output_type": "execute_result",
          "data": {
            "text/plain": [
              "9"
            ]
          },
          "metadata": {},
          "execution_count": 62
        }
      ]
    },
    {
      "cell_type": "code",
      "source": [
        "ex"
      ],
      "metadata": {
        "colab": {
          "base_uri": "https://localhost:8080/"
        },
        "id": "QhQD2lmoXmJK",
        "outputId": "59ed17ac-7a1a-4676-f256-ae31a0753d5b"
      },
      "execution_count": null,
      "outputs": [
        {
          "output_type": "execute_result",
          "data": {
            "text/plain": [
              "[2, 2.3, True, (3+8j), 'String', [2, 3, 4], (6, 7, 8), {4, 5, 6}, {3: 4, 5: 6}]"
            ]
          },
          "metadata": {},
          "execution_count": 54
        }
      ]
    },
    {
      "cell_type": "code",
      "source": [
        "# Tuple Any data type, inside the list : dump yard of data types\n",
        "ex = (2,2.3,True, 3+8j,'String',[2,3,4],(6,7,8),{5,4,6},{3:4,5:6})"
      ],
      "metadata": {
        "id": "KddnZQu1Xmn4"
      },
      "execution_count": null,
      "outputs": []
    },
    {
      "cell_type": "code",
      "source": [
        "# Set\n",
        "ex = {2,2.3,True, 3+8j,'String',[2,3,4],(6,7,8),{5,4,6},{3:4,5:6}}\n",
        "# Set only accepts immutable data types including all primitve ones"
      ],
      "metadata": {
        "colab": {
          "base_uri": "https://localhost:8080/",
          "height": 210
        },
        "id": "aIanDuf6Xq-i",
        "outputId": "d91daf35-0d09-4999-f371-57495dd41de3"
      },
      "execution_count": null,
      "outputs": [
        {
          "output_type": "error",
          "ename": "TypeError",
          "evalue": "unhashable type: 'list'",
          "traceback": [
            "\u001b[0;31m---------------------------------------------------------------------------\u001b[0m",
            "\u001b[0;31mTypeError\u001b[0m                                 Traceback (most recent call last)",
            "\u001b[0;32m<ipython-input-57-201e2c7b0f12>\u001b[0m in \u001b[0;36m<cell line: 2>\u001b[0;34m()\u001b[0m\n\u001b[1;32m      1\u001b[0m \u001b[0;31m# Set\u001b[0m\u001b[0;34m\u001b[0m\u001b[0;34m\u001b[0m\u001b[0m\n\u001b[0;32m----> 2\u001b[0;31m \u001b[0mex\u001b[0m \u001b[0;34m=\u001b[0m \u001b[0;34m{\u001b[0m\u001b[0;36m2\u001b[0m\u001b[0;34m,\u001b[0m\u001b[0;36m2.3\u001b[0m\u001b[0;34m,\u001b[0m\u001b[0;32mTrue\u001b[0m\u001b[0;34m,\u001b[0m \u001b[0;36m3\u001b[0m\u001b[0;34m+\u001b[0m\u001b[0;36m8j\u001b[0m\u001b[0;34m,\u001b[0m\u001b[0;34m'String'\u001b[0m\u001b[0;34m,\u001b[0m\u001b[0;34m[\u001b[0m\u001b[0;36m2\u001b[0m\u001b[0;34m,\u001b[0m\u001b[0;36m3\u001b[0m\u001b[0;34m,\u001b[0m\u001b[0;36m4\u001b[0m\u001b[0;34m]\u001b[0m\u001b[0;34m,\u001b[0m\u001b[0;34m(\u001b[0m\u001b[0;36m6\u001b[0m\u001b[0;34m,\u001b[0m\u001b[0;36m7\u001b[0m\u001b[0;34m,\u001b[0m\u001b[0;36m8\u001b[0m\u001b[0;34m)\u001b[0m\u001b[0;34m,\u001b[0m\u001b[0;34m{\u001b[0m\u001b[0;36m5\u001b[0m\u001b[0;34m,\u001b[0m\u001b[0;36m4\u001b[0m\u001b[0;34m,\u001b[0m\u001b[0;36m6\u001b[0m\u001b[0;34m}\u001b[0m\u001b[0;34m,\u001b[0m\u001b[0;34m{\u001b[0m\u001b[0;36m3\u001b[0m\u001b[0;34m:\u001b[0m\u001b[0;36m4\u001b[0m\u001b[0;34m,\u001b[0m\u001b[0;36m5\u001b[0m\u001b[0;34m:\u001b[0m\u001b[0;36m6\u001b[0m\u001b[0;34m}\u001b[0m\u001b[0;34m}\u001b[0m\u001b[0;34m\u001b[0m\u001b[0;34m\u001b[0m\u001b[0m\n\u001b[0m\u001b[1;32m      3\u001b[0m \u001b[0;31m# Set only accepts immutable data types including all primitve ones\u001b[0m\u001b[0;34m\u001b[0m\u001b[0;34m\u001b[0m\u001b[0m\n",
            "\u001b[0;31mTypeError\u001b[0m: unhashable type: 'list'"
          ]
        }
      ]
    },
    {
      "cell_type": "code",
      "source": [
        "ex = {2,2.3,True, 3+8j,'String',(6,7,8)}"
      ],
      "metadata": {
        "id": "ZjDLoBnRX4Um"
      },
      "execution_count": null,
      "outputs": []
    },
    {
      "cell_type": "code",
      "source": [
        "ex"
      ],
      "metadata": {
        "colab": {
          "base_uri": "https://localhost:8080/"
        },
        "id": "xUB-tkchYE-9",
        "outputId": "e748d6a0-b864-4229-9312-f3041734bc57"
      },
      "execution_count": null,
      "outputs": [
        {
          "output_type": "execute_result",
          "data": {
            "text/plain": [
              "{(3+8j), (6, 7, 8), 2, 2.3, 'String', True}"
            ]
          },
          "metadata": {},
          "execution_count": 59
        }
      ]
    },
    {
      "cell_type": "code",
      "source": [
        "# Which all dtypes non primitive set will accept?\n",
        "# String & TUple # immutable ones\n"
      ],
      "metadata": {
        "id": "DocuGAb3YFsh"
      },
      "execution_count": null,
      "outputs": []
    },
    {
      "cell_type": "code",
      "source": [
        "# Dictionary\n",
        "# keys\n",
        "# values\n",
        "ex = {2:3,4:5}\n",
        "# keys - Similar to set : only accepts immutable data types including all primitve ones.\n",
        "# Values - Similar to list : Anything\n",
        "# ex = {[1,2]: [3,4]} # List as key is not accepted\n",
        "ex = {(1,2):[3,4]} # keys accept tuple\n",
        "print(ex)"
      ],
      "metadata": {
        "colab": {
          "base_uri": "https://localhost:8080/"
        },
        "id": "EMNAYup5ZfDZ",
        "outputId": "68ad8648-0984-4e8e-fced-09d295d80350"
      },
      "execution_count": null,
      "outputs": [
        {
          "output_type": "stream",
          "name": "stdout",
          "text": [
            "{(1, 2): [3, 4]}\n"
          ]
        }
      ]
    },
    {
      "cell_type": "code",
      "source": [
        "# Dictionary\n",
        "ex = {'abc' : [3,4]}"
      ],
      "metadata": {
        "id": "DzS0XY3cZ20z"
      },
      "execution_count": null,
      "outputs": []
    },
    {
      "cell_type": "code",
      "source": [
        "ex = {1,2,{3,4}} # Set only accpets primitive + Immutable # Eror"
      ],
      "metadata": {
        "id": "7U11_Iqrar1o"
      },
      "execution_count": null,
      "outputs": []
    },
    {
      "cell_type": "code",
      "source": [
        "# Duplication\n",
        "ex_list = [1,2,2,2,2,3,3,3,4,2,1,5]\n"
      ],
      "metadata": {
        "id": "PquAQ-7dbPIZ"
      },
      "execution_count": null,
      "outputs": []
    },
    {
      "cell_type": "code",
      "source": [
        "ex_set = {1,2,2,2,2,3,3,3,4,2,1,5}"
      ],
      "metadata": {
        "id": "YFCcRXZ-dV9X"
      },
      "execution_count": null,
      "outputs": []
    },
    {
      "cell_type": "code",
      "source": [
        "print(ex_list)"
      ],
      "metadata": {
        "colab": {
          "base_uri": "https://localhost:8080/"
        },
        "id": "tqno44DXdZLB",
        "outputId": "03920d5a-49e8-4d3d-d0bf-03ba164a5727"
      },
      "execution_count": null,
      "outputs": [
        {
          "output_type": "stream",
          "name": "stdout",
          "text": [
            "[1, 2, 2, 2, 2, 3, 3, 3, 4, 2, 1, 5]\n"
          ]
        }
      ]
    },
    {
      "cell_type": "code",
      "source": [
        "print(ex_set)"
      ],
      "metadata": {
        "colab": {
          "base_uri": "https://localhost:8080/"
        },
        "id": "RYk7DVoAda6K",
        "outputId": "ec87737f-d1d7-4e14-99ce-449c21160f01"
      },
      "execution_count": null,
      "outputs": [
        {
          "output_type": "stream",
          "name": "stdout",
          "text": [
            "{1, 2, 3, 4, 5}\n"
          ]
        }
      ]
    },
    {
      "cell_type": "code",
      "source": [
        "# List, tuple, string can have duplicate elements\n",
        "# Set will have unique elements\n",
        "# Dictionary will have unique keys\n"
      ],
      "metadata": {
        "id": "YmGs3QI2deoq"
      },
      "execution_count": null,
      "outputs": []
    },
    {
      "cell_type": "code",
      "source": [
        "ex_list = [1,2,2,2,2,3,3,3,4,2,1,5] # Duplication is allowed\n"
      ],
      "metadata": {
        "id": "nxvLMX0cdrF1"
      },
      "execution_count": null,
      "outputs": []
    },
    {
      "cell_type": "code",
      "source": [
        "ex_string = 'AAAAAABBEEJ@!PJE' # Duplication is allowed"
      ],
      "metadata": {
        "id": "HM6d5pHqdvx7"
      },
      "execution_count": null,
      "outputs": []
    },
    {
      "cell_type": "code",
      "source": [
        "ex_string"
      ],
      "metadata": {
        "colab": {
          "base_uri": "https://localhost:8080/",
          "height": 35
        },
        "id": "MNCediHVdyrr",
        "outputId": "b778fdc0-af1b-4f77-9e11-79afba588c48"
      },
      "execution_count": null,
      "outputs": [
        {
          "output_type": "execute_result",
          "data": {
            "text/plain": [
              "'AAAAAABBEEJ@!PJE'"
            ],
            "application/vnd.google.colaboratory.intrinsic+json": {
              "type": "string"
            }
          },
          "metadata": {},
          "execution_count": 74
        }
      ]
    },
    {
      "cell_type": "code",
      "source": [
        "ex_tuple = (1,2,2,2,2,3,3,3,4,2,1,5) # Duplication is allowed\n"
      ],
      "metadata": {
        "id": "J6Kw65UZdzdq"
      },
      "execution_count": null,
      "outputs": []
    },
    {
      "cell_type": "code",
      "source": [
        "ex_tuple"
      ],
      "metadata": {
        "colab": {
          "base_uri": "https://localhost:8080/"
        },
        "id": "E7xJLEwed2DV",
        "outputId": "6b698510-e0db-4a70-960c-30bbd133061c"
      },
      "execution_count": null,
      "outputs": [
        {
          "output_type": "execute_result",
          "data": {
            "text/plain": [
              "(1, 2, 2, 2, 2, 3, 3, 3, 4, 2, 1, 5)"
            ]
          },
          "metadata": {},
          "execution_count": 77
        }
      ]
    },
    {
      "cell_type": "code",
      "source": [
        "ex_set = {1,2,2,2,2,3,3,3,4,2,1,5}"
      ],
      "metadata": {
        "id": "sI74MNIMd4UO"
      },
      "execution_count": null,
      "outputs": []
    },
    {
      "cell_type": "code",
      "source": [
        "ex_set"
      ],
      "metadata": {
        "colab": {
          "base_uri": "https://localhost:8080/"
        },
        "id": "fuXrSbofd7VM",
        "outputId": "bd64a3df-ab26-4dc2-fdea-13b18f060cff"
      },
      "execution_count": null,
      "outputs": [
        {
          "output_type": "execute_result",
          "data": {
            "text/plain": [
              "{1, 2, 3, 4, 5}"
            ]
          },
          "metadata": {},
          "execution_count": 79
        }
      ]
    },
    {
      "cell_type": "code",
      "source": [
        "ex_dict = {2:3 , 4:5, 2:6, 5:5}"
      ],
      "metadata": {
        "id": "ixg7s2vUd777"
      },
      "execution_count": null,
      "outputs": []
    },
    {
      "cell_type": "code",
      "source": [
        "ex_dict # keys are not going to accept duplicates, Values will accept it.\n"
      ],
      "metadata": {
        "colab": {
          "base_uri": "https://localhost:8080/"
        },
        "id": "Nd2NAhKWeNyn",
        "outputId": "507cee42-c29f-448e-d147-a1bc833727df"
      },
      "execution_count": null,
      "outputs": [
        {
          "output_type": "execute_result",
          "data": {
            "text/plain": [
              "{2: 6, 4: 5, 5: 5}"
            ]
          },
          "metadata": {},
          "execution_count": 81
        }
      ]
    },
    {
      "cell_type": "code",
      "source": [
        "ex_Set = {1,2,3,2,True}"
      ],
      "metadata": {
        "id": "d8tyydGceOf9"
      },
      "execution_count": null,
      "outputs": []
    },
    {
      "cell_type": "code",
      "source": [
        "print(ex_Set) # {1,2,3} : Boolean True is considered as 1"
      ],
      "metadata": {
        "colab": {
          "base_uri": "https://localhost:8080/"
        },
        "id": "U-RZ5aHMe5rw",
        "outputId": "1fc42231-5376-45bb-ce5c-03ab2eb10caf"
      },
      "execution_count": null,
      "outputs": [
        {
          "output_type": "stream",
          "name": "stdout",
          "text": [
            "{1, 2, 3}\n"
          ]
        }
      ]
    },
    {
      "cell_type": "code",
      "source": [
        "ex_Set = {1,2,3,'2',True,2.0}"
      ],
      "metadata": {
        "id": "bRUeLlkCfB1a"
      },
      "execution_count": null,
      "outputs": []
    },
    {
      "cell_type": "code",
      "source": [
        "ex_Set # int and float if value is same, it's duplicate but in other cases it will be distinct"
      ],
      "metadata": {
        "colab": {
          "base_uri": "https://localhost:8080/"
        },
        "id": "yiD4EMFzfYy9",
        "outputId": "aabceb94-9a29-475e-f81f-25f1e4d927d7"
      },
      "execution_count": null,
      "outputs": [
        {
          "output_type": "execute_result",
          "data": {
            "text/plain": [
              "{1, 2, '2', 3}"
            ]
          },
          "metadata": {},
          "execution_count": 87
        }
      ]
    },
    {
      "cell_type": "code",
      "source": [
        "ex_Set = {0,False,1,2,3,'2',(True,2.0),(True,2.0) }"
      ],
      "metadata": {
        "id": "vUDfXu7_fZcF"
      },
      "execution_count": null,
      "outputs": []
    },
    {
      "cell_type": "code",
      "source": [
        "print(ex_Set)"
      ],
      "metadata": {
        "colab": {
          "base_uri": "https://localhost:8080/"
        },
        "id": "K2lr87HHf5l4",
        "outputId": "15a105db-b1cd-4be2-935d-3d3526fce638"
      },
      "execution_count": null,
      "outputs": [
        {
          "output_type": "stream",
          "name": "stdout",
          "text": [
            "{0, 1, 2, 3, (True, 2.0), '2'}\n"
          ]
        }
      ]
    },
    {
      "cell_type": "code",
      "source": [
        "ex_set = {True,1}"
      ],
      "metadata": {
        "id": "JmtBIYOKgESH"
      },
      "execution_count": null,
      "outputs": []
    },
    {
      "cell_type": "code",
      "source": [
        "ex_set"
      ],
      "metadata": {
        "colab": {
          "base_uri": "https://localhost:8080/"
        },
        "id": "I8qVuXUzgWjQ",
        "outputId": "0b5edccc-26f5-4b1e-adbc-ccee9e213bc6"
      },
      "execution_count": null,
      "outputs": [
        {
          "output_type": "execute_result",
          "data": {
            "text/plain": [
              "{True}"
            ]
          },
          "metadata": {},
          "execution_count": 97
        }
      ]
    },
    {
      "cell_type": "code",
      "source": [
        "ex_set = {1,True}"
      ],
      "metadata": {
        "id": "535wRkF4gXCw"
      },
      "execution_count": null,
      "outputs": []
    },
    {
      "cell_type": "code",
      "source": [
        "ex_set"
      ],
      "metadata": {
        "colab": {
          "base_uri": "https://localhost:8080/"
        },
        "id": "ZTg0QULtgaSM",
        "outputId": "df9aeb95-e469-44af-8b0d-cae1aa8c5b6c"
      },
      "execution_count": null,
      "outputs": [
        {
          "output_type": "execute_result",
          "data": {
            "text/plain": [
              "{1}"
            ]
          },
          "metadata": {},
          "execution_count": 99
        }
      ]
    },
    {
      "cell_type": "code",
      "source": [
        "ex_Set = {0,False,1,2,3,'2',(True,2.0,2.0),(True,2.0,2.0) } # list inside set --> No, tuple inside set --> yes\n",
        "# Set will have unique values"
      ],
      "metadata": {
        "id": "tK8qR4EmgazY"
      },
      "execution_count": null,
      "outputs": []
    },
    {
      "cell_type": "code",
      "source": [
        "ex_Set"
      ],
      "metadata": {
        "colab": {
          "base_uri": "https://localhost:8080/"
        },
        "id": "DEtDNk5vgl6r",
        "outputId": "f908b254-912e-4920-e1b4-cb24de9b8d0a"
      },
      "execution_count": null,
      "outputs": [
        {
          "output_type": "execute_result",
          "data": {
            "text/plain": [
              "{(True, 2.0, 2.0), 0, 1, 2, '2', 3}"
            ]
          },
          "metadata": {},
          "execution_count": 101
        }
      ]
    },
    {
      "cell_type": "code",
      "source": [
        "# Non primitive DTypes\n",
        "# collection of elements\n",
        "\n",
        "ex_string = ''\n",
        "print(type(ex_string))\n",
        "len(ex_string)"
      ],
      "metadata": {
        "colab": {
          "base_uri": "https://localhost:8080/"
        },
        "id": "hbjhQ_kDgmiE",
        "outputId": "5ee7bdcf-6596-4f4a-c74c-727130c2e57e"
      },
      "execution_count": null,
      "outputs": [
        {
          "output_type": "stream",
          "name": "stdout",
          "text": [
            "<class 'str'>\n"
          ]
        },
        {
          "output_type": "execute_result",
          "data": {
            "text/plain": [
              "0"
            ]
          },
          "metadata": {},
          "execution_count": 107
        }
      ]
    },
    {
      "cell_type": "code",
      "source": [
        "ex_string = '&'\n",
        "print(type(ex_string))\n",
        "len(ex_string)"
      ],
      "metadata": {
        "colab": {
          "base_uri": "https://localhost:8080/"
        },
        "id": "EgAr2taCimZI",
        "outputId": "38def031-10f5-479f-8b3d-ef1eb5c41b69"
      },
      "execution_count": null,
      "outputs": [
        {
          "output_type": "stream",
          "name": "stdout",
          "text": [
            "<class 'str'>\n"
          ]
        },
        {
          "output_type": "execute_result",
          "data": {
            "text/plain": [
              "1"
            ]
          },
          "metadata": {},
          "execution_count": 103
        }
      ]
    },
    {
      "cell_type": "code",
      "source": [
        "ex_list = []\n",
        "print(type(ex_list))\n",
        "len(ex_list)"
      ],
      "metadata": {
        "colab": {
          "base_uri": "https://localhost:8080/"
        },
        "id": "0zrU_Sd3irY3",
        "outputId": "c24b9f46-0b89-44ef-ce83-b6ec28465daa"
      },
      "execution_count": null,
      "outputs": [
        {
          "output_type": "stream",
          "name": "stdout",
          "text": [
            "<class 'list'>\n"
          ]
        },
        {
          "output_type": "execute_result",
          "data": {
            "text/plain": [
              "0"
            ]
          },
          "metadata": {},
          "execution_count": 104
        }
      ]
    },
    {
      "cell_type": "code",
      "source": [
        "ex_list = [2]\n",
        "print(type(ex_list))\n",
        "len(ex_list)"
      ],
      "metadata": {
        "colab": {
          "base_uri": "https://localhost:8080/"
        },
        "id": "V3anWzu8ixzs",
        "outputId": "e542c69e-ecbd-4b1d-fb3b-a45bbc20bb68"
      },
      "execution_count": null,
      "outputs": [
        {
          "output_type": "stream",
          "name": "stdout",
          "text": [
            "<class 'list'>\n"
          ]
        },
        {
          "output_type": "execute_result",
          "data": {
            "text/plain": [
              "1"
            ]
          },
          "metadata": {},
          "execution_count": 105
        }
      ]
    },
    {
      "cell_type": "code",
      "source": [
        "ex_tuple = ()\n",
        "print(type(ex_tuple))\n",
        "len(ex_tuple)"
      ],
      "metadata": {
        "colab": {
          "base_uri": "https://localhost:8080/"
        },
        "id": "_cTf5wrji0dg",
        "outputId": "7acef327-d269-4e43-86de-9959100ac7f0"
      },
      "execution_count": null,
      "outputs": [
        {
          "output_type": "stream",
          "name": "stdout",
          "text": [
            "<class 'tuple'>\n"
          ]
        },
        {
          "output_type": "execute_result",
          "data": {
            "text/plain": [
              "0"
            ]
          },
          "metadata": {},
          "execution_count": 108
        }
      ]
    },
    {
      "cell_type": "code",
      "source": [
        "ex_list = []\n",
        "ex_tuple = ()"
      ],
      "metadata": {
        "id": "oofxJAj2jQHG"
      },
      "execution_count": null,
      "outputs": []
    },
    {
      "cell_type": "code",
      "source": [
        "import sys\n",
        "print(sys.getsizeof(ex_list))\n",
        "print(sys.getsizeof(ex_tuple))"
      ],
      "metadata": {
        "colab": {
          "base_uri": "https://localhost:8080/"
        },
        "id": "o37bK8nwjNYZ",
        "outputId": "3a365a7d-7c50-4fff-9dcd-59226d1b41d2"
      },
      "execution_count": null,
      "outputs": [
        {
          "output_type": "stream",
          "name": "stdout",
          "text": [
            "56\n",
            "40\n"
          ]
        }
      ]
    },
    {
      "cell_type": "code",
      "source": [
        "ex_dict = {}\n",
        "print(type(ex_dict))\n",
        "len(ex_dict)"
      ],
      "metadata": {
        "colab": {
          "base_uri": "https://localhost:8080/"
        },
        "id": "kArhpX_fjD2c",
        "outputId": "e84f32ea-87f3-4642-8cc3-574f2e347ab7"
      },
      "execution_count": null,
      "outputs": [
        {
          "output_type": "stream",
          "name": "stdout",
          "text": [
            "<class 'dict'>\n"
          ]
        },
        {
          "output_type": "execute_result",
          "data": {
            "text/plain": [
              "0"
            ]
          },
          "metadata": {},
          "execution_count": 122
        }
      ]
    },
    {
      "cell_type": "code",
      "source": [
        "ex_dict['name'] = 'AlmaBetter'"
      ],
      "metadata": {
        "id": "ddlTiCTQj50o"
      },
      "execution_count": null,
      "outputs": []
    },
    {
      "cell_type": "code",
      "source": [
        "ex_dict"
      ],
      "metadata": {
        "colab": {
          "base_uri": "https://localhost:8080/"
        },
        "id": "blaxvps6j86A",
        "outputId": "f4e514ad-eda6-469c-9a2c-902d3cdde328"
      },
      "execution_count": null,
      "outputs": [
        {
          "output_type": "execute_result",
          "data": {
            "text/plain": [
              "{'name': 'AlmaBetter'}"
            ]
          },
          "metadata": {},
          "execution_count": 124
        }
      ]
    },
    {
      "cell_type": "code",
      "source": [
        "ex_set = set() # {}  --> Dict\n",
        "print(type(ex_set))\n",
        "len(ex_set)"
      ],
      "metadata": {
        "colab": {
          "base_uri": "https://localhost:8080/"
        },
        "id": "MSiFfiSujilH",
        "outputId": "1a6ab667-7a5b-49ae-d35e-f95f79ecad3c"
      },
      "execution_count": null,
      "outputs": [
        {
          "output_type": "stream",
          "name": "stdout",
          "text": [
            "<class 'set'>\n"
          ]
        },
        {
          "output_type": "execute_result",
          "data": {
            "text/plain": [
              "0"
            ]
          },
          "metadata": {},
          "execution_count": 120
        }
      ]
    },
    {
      "cell_type": "code",
      "source": [
        "# Exception Set : Remove Duplicates\n",
        "ex = {43,56,23,23,23.5,(23,),(23)}\n"
      ],
      "metadata": {
        "id": "oTT4jotsj1YE"
      },
      "execution_count": null,
      "outputs": []
    },
    {
      "cell_type": "code",
      "source": [
        "ex"
      ],
      "metadata": {
        "colab": {
          "base_uri": "https://localhost:8080/"
        },
        "id": "lfT8unJ2kZmX",
        "outputId": "1d627e75-570b-4b01-f4fa-6b145b074e93"
      },
      "execution_count": null,
      "outputs": [
        {
          "output_type": "execute_result",
          "data": {
            "text/plain": [
              "{(23,), 23, 23.5, 43, 56}"
            ]
          },
          "metadata": {},
          "execution_count": 126
        }
      ]
    },
    {
      "cell_type": "code",
      "source": [
        "ex1 = (23) #\n",
        "type(ex1)"
      ],
      "metadata": {
        "colab": {
          "base_uri": "https://localhost:8080/"
        },
        "id": "SOXT_b8ykpmE",
        "outputId": "082f1a96-8aa3-4d4b-a4b5-935afa466f02"
      },
      "execution_count": null,
      "outputs": [
        {
          "output_type": "execute_result",
          "data": {
            "text/plain": [
              "int"
            ]
          },
          "metadata": {},
          "execution_count": 127
        }
      ]
    },
    {
      "cell_type": "code",
      "source": [
        "len(ex1)"
      ],
      "metadata": {
        "colab": {
          "base_uri": "https://localhost:8080/",
          "height": 176
        },
        "id": "iBM9t52Zk-df",
        "outputId": "4856be18-dc6f-4578-d12a-468950de44ec"
      },
      "execution_count": null,
      "outputs": [
        {
          "output_type": "error",
          "ename": "TypeError",
          "evalue": "object of type 'int' has no len()",
          "traceback": [
            "\u001b[0;31m---------------------------------------------------------------------------\u001b[0m",
            "\u001b[0;31mTypeError\u001b[0m                                 Traceback (most recent call last)",
            "\u001b[0;32m<ipython-input-129-3198bd4289c1>\u001b[0m in \u001b[0;36m<cell line: 1>\u001b[0;34m()\u001b[0m\n\u001b[0;32m----> 1\u001b[0;31m \u001b[0mlen\u001b[0m\u001b[0;34m(\u001b[0m\u001b[0mex1\u001b[0m\u001b[0;34m)\u001b[0m\u001b[0;34m\u001b[0m\u001b[0;34m\u001b[0m\u001b[0m\n\u001b[0m",
            "\u001b[0;31mTypeError\u001b[0m: object of type 'int' has no len()"
          ]
        }
      ]
    },
    {
      "cell_type": "code",
      "source": [
        "ex2 = (23,)\n",
        "type(ex2)"
      ],
      "metadata": {
        "colab": {
          "base_uri": "https://localhost:8080/"
        },
        "id": "d_ZoXS7mkyhu",
        "outputId": "7c9f2709-28a4-4809-c60f-e8c9914e67dd"
      },
      "execution_count": null,
      "outputs": [
        {
          "output_type": "execute_result",
          "data": {
            "text/plain": [
              "tuple"
            ]
          },
          "metadata": {},
          "execution_count": 128
        }
      ]
    },
    {
      "cell_type": "code",
      "source": [
        "len(ex2)"
      ],
      "metadata": {
        "colab": {
          "base_uri": "https://localhost:8080/"
        },
        "id": "rgCE-nbbk9bw",
        "outputId": "2d14af70-541b-4526-bb2d-b14144a15175"
      },
      "execution_count": null,
      "outputs": [
        {
          "output_type": "execute_result",
          "data": {
            "text/plain": [
              "1"
            ]
          },
          "metadata": {},
          "execution_count": 130
        }
      ]
    },
    {
      "cell_type": "code",
      "source": [
        "# Exception :\n",
        "# Tuple with single value you have to end with ,"
      ],
      "metadata": {
        "id": "i6hmnsQ4lCY8"
      },
      "execution_count": null,
      "outputs": []
    },
    {
      "cell_type": "code",
      "source": [
        "ex = (23,) # Tuple with one element end it with comma"
      ],
      "metadata": {
        "id": "BPzZCdPGlKGz"
      },
      "execution_count": null,
      "outputs": []
    },
    {
      "cell_type": "code",
      "source": [
        "ex = (23,45) # Tuple"
      ],
      "metadata": {
        "id": "FNIXdFk0lOGQ"
      },
      "execution_count": null,
      "outputs": []
    },
    {
      "cell_type": "code",
      "source": [
        "a = ('alma')\n",
        "type(a)"
      ],
      "metadata": {
        "colab": {
          "base_uri": "https://localhost:8080/"
        },
        "id": "Svhwk_4QlSQz",
        "outputId": "dfd3db14-eceb-45b4-eb0f-9b32c9d924d5"
      },
      "execution_count": null,
      "outputs": [
        {
          "output_type": "execute_result",
          "data": {
            "text/plain": [
              "str"
            ]
          },
          "metadata": {},
          "execution_count": 133
        }
      ]
    },
    {
      "cell_type": "code",
      "source": [
        "a = ('alma',)\n",
        "type(a)"
      ],
      "metadata": {
        "colab": {
          "base_uri": "https://localhost:8080/"
        },
        "id": "bFrknIN3lZrK",
        "outputId": "83a3f652-e46c-48e0-cd14-fb937b1578ea"
      },
      "execution_count": null,
      "outputs": [
        {
          "output_type": "execute_result",
          "data": {
            "text/plain": [
              "tuple"
            ]
          },
          "metadata": {},
          "execution_count": 134
        }
      ]
    },
    {
      "cell_type": "code",
      "source": [
        "ex = {(23),(23,)}\n"
      ],
      "metadata": {
        "id": "rCbjH4MOlb2c"
      },
      "execution_count": null,
      "outputs": []
    },
    {
      "cell_type": "code",
      "source": [
        "ex"
      ],
      "metadata": {
        "colab": {
          "base_uri": "https://localhost:8080/"
        },
        "id": "7rwksHWwl41-",
        "outputId": "ae2b164f-d954-4539-edd4-533f6bc29095"
      },
      "execution_count": null,
      "outputs": [
        {
          "output_type": "execute_result",
          "data": {
            "text/plain": [
              "{(23,), 23}"
            ]
          },
          "metadata": {},
          "execution_count": 136
        }
      ]
    },
    {
      "cell_type": "code",
      "source": [
        "ex = {23,23.5,23.0} # Exception - values are same then int and float are considered duplicates\n"
      ],
      "metadata": {
        "id": "FnVKvV5xl5QV"
      },
      "execution_count": null,
      "outputs": []
    },
    {
      "cell_type": "code",
      "source": [
        "ex"
      ],
      "metadata": {
        "colab": {
          "base_uri": "https://localhost:8080/"
        },
        "id": "zmF_oyfFmNNp",
        "outputId": "a5140c8c-38cc-416a-a14a-96a3ef1d3460"
      },
      "execution_count": null,
      "outputs": [
        {
          "output_type": "execute_result",
          "data": {
            "text/plain": [
              "{23, 23.5}"
            ]
          },
          "metadata": {},
          "execution_count": 138
        }
      ]
    },
    {
      "cell_type": "code",
      "source": [
        "# ex = input()\n",
        "# str(ex)"
      ],
      "metadata": {
        "id": "8DPDLIw7qm56"
      },
      "execution_count": null,
      "outputs": []
    },
    {
      "cell_type": "code",
      "source": [
        "# Type casting\n",
        "# One data type to another\n",
        "# [1,2,3] --> tuple or set or anything\n",
        "\n",
        "# Non primitive Dtypes\n",
        "# Convert All others to string :\n",
        "\n",
        "ex_list = [2,3,4,5]\n",
        "ex_tuple  = (2,3,4,5)\n",
        "ex_set  = {2,3,4,5}\n",
        "ex_dict  = {2:3,4:5}"
      ],
      "metadata": {
        "id": "wTkM0vvomNmM"
      },
      "execution_count": null,
      "outputs": []
    },
    {
      "cell_type": "code",
      "source": [
        "# use : str(a)--> a will be converted to string\n",
        "a = str(ex_list)\n",
        "print(type(a))\n",
        "print(a)"
      ],
      "metadata": {
        "colab": {
          "base_uri": "https://localhost:8080/"
        },
        "id": "uM9Mb-y2o2CY",
        "outputId": "0543786c-48e9-46ca-c88e-8be3e0375f6d"
      },
      "execution_count": null,
      "outputs": [
        {
          "output_type": "stream",
          "name": "stdout",
          "text": [
            "<class 'str'>\n",
            "[2, 3, 4, 5]\n"
          ]
        }
      ]
    },
    {
      "cell_type": "code",
      "source": [
        "a[2] # String each character will take a place"
      ],
      "metadata": {
        "colab": {
          "base_uri": "https://localhost:8080/",
          "height": 35
        },
        "id": "wz9LB7ySpAj3",
        "outputId": "2af78d5b-c689-487f-a8f6-a757b39a90eb"
      },
      "execution_count": null,
      "outputs": [
        {
          "output_type": "execute_result",
          "data": {
            "text/plain": [
              "','"
            ],
            "application/vnd.google.colaboratory.intrinsic+json": {
              "type": "string"
            }
          },
          "metadata": {},
          "execution_count": 146
        }
      ]
    },
    {
      "cell_type": "code",
      "source": [
        "a[0]"
      ],
      "metadata": {
        "colab": {
          "base_uri": "https://localhost:8080/",
          "height": 35
        },
        "id": "oFhoW0twpGCD",
        "outputId": "b2958cbd-92e9-4567-fa97-30d748c0487b"
      },
      "execution_count": null,
      "outputs": [
        {
          "output_type": "execute_result",
          "data": {
            "text/plain": [
              "'['"
            ],
            "application/vnd.google.colaboratory.intrinsic+json": {
              "type": "string"
            }
          },
          "metadata": {},
          "execution_count": 147
        }
      ]
    },
    {
      "cell_type": "code",
      "source": [
        "str(ex_tuple) # Similar to other data types as well."
      ],
      "metadata": {
        "colab": {
          "base_uri": "https://localhost:8080/",
          "height": 35
        },
        "id": "UkPizr-ZpYb-",
        "outputId": "9760856b-4136-416d-9f95-b050096e8a92"
      },
      "execution_count": null,
      "outputs": [
        {
          "output_type": "execute_result",
          "data": {
            "text/plain": [
              "'(2, 3, 4, 5)'"
            ],
            "application/vnd.google.colaboratory.intrinsic+json": {
              "type": "string"
            }
          },
          "metadata": {},
          "execution_count": 148
        }
      ]
    },
    {
      "cell_type": "code",
      "source": [
        "a"
      ],
      "metadata": {
        "colab": {
          "base_uri": "https://localhost:8080/",
          "height": 35
        },
        "id": "Vf0hdbLJpejF",
        "outputId": "1e8160b1-4596-48d8-b6b4-f13cc96d6f1b"
      },
      "execution_count": null,
      "outputs": [
        {
          "output_type": "execute_result",
          "data": {
            "text/plain": [
              "'[2, 3, 4, 5]'"
            ],
            "application/vnd.google.colaboratory.intrinsic+json": {
              "type": "string"
            }
          },
          "metadata": {},
          "execution_count": 149
        }
      ]
    },
    {
      "cell_type": "code",
      "source": [
        "a[0]"
      ],
      "metadata": {
        "colab": {
          "base_uri": "https://localhost:8080/",
          "height": 35
        },
        "id": "7SUVZ5D_ppuF",
        "outputId": "bb197fde-44e2-426b-9d7c-be18bbab2d6a"
      },
      "execution_count": null,
      "outputs": [
        {
          "output_type": "execute_result",
          "data": {
            "text/plain": [
              "'['"
            ],
            "application/vnd.google.colaboratory.intrinsic+json": {
              "type": "string"
            }
          },
          "metadata": {},
          "execution_count": 150
        }
      ]
    },
    {
      "cell_type": "code",
      "source": [
        "a[1]"
      ],
      "metadata": {
        "colab": {
          "base_uri": "https://localhost:8080/",
          "height": 35
        },
        "id": "LsMV0nTjprCm",
        "outputId": "3fbb23a1-3e84-4783-cba9-7c198c1a7619"
      },
      "execution_count": null,
      "outputs": [
        {
          "output_type": "execute_result",
          "data": {
            "text/plain": [
              "'2'"
            ],
            "application/vnd.google.colaboratory.intrinsic+json": {
              "type": "string"
            }
          },
          "metadata": {},
          "execution_count": 151
        }
      ]
    },
    {
      "cell_type": "code",
      "source": [
        "a[2]"
      ],
      "metadata": {
        "colab": {
          "base_uri": "https://localhost:8080/",
          "height": 35
        },
        "id": "4vhpR5OLprwi",
        "outputId": "a9186193-1063-4310-cff8-7eb10aa85b3d"
      },
      "execution_count": null,
      "outputs": [
        {
          "output_type": "execute_result",
          "data": {
            "text/plain": [
              "','"
            ],
            "application/vnd.google.colaboratory.intrinsic+json": {
              "type": "string"
            }
          },
          "metadata": {},
          "execution_count": 152
        }
      ]
    },
    {
      "cell_type": "code",
      "source": [
        "a[3]"
      ],
      "metadata": {
        "colab": {
          "base_uri": "https://localhost:8080/",
          "height": 35
        },
        "id": "rcG2KowLps2p",
        "outputId": "02d7f3d7-7170-49ec-a7c4-e000e5d5bac3"
      },
      "execution_count": null,
      "outputs": [
        {
          "output_type": "execute_result",
          "data": {
            "text/plain": [
              "' '"
            ],
            "application/vnd.google.colaboratory.intrinsic+json": {
              "type": "string"
            }
          },
          "metadata": {},
          "execution_count": 153
        }
      ]
    },
    {
      "cell_type": "code",
      "source": [
        "# All to list : list(a) --> output will a converted to list\n",
        "ex_string = '2345'\n",
        "ex_tuple  = (2,3,4,5)\n",
        "ex_set  = {2,3,4,5}\n",
        "ex_dict  = {2:3,4:5}"
      ],
      "metadata": {
        "id": "f7Hq7K-GpunR"
      },
      "execution_count": null,
      "outputs": []
    },
    {
      "cell_type": "code",
      "source": [
        "# String to list :\n",
        "type_c = list(ex_string)"
      ],
      "metadata": {
        "id": "bUvu8V5arG6F"
      },
      "execution_count": null,
      "outputs": []
    },
    {
      "cell_type": "code",
      "source": [
        "type(type_c)"
      ],
      "metadata": {
        "colab": {
          "base_uri": "https://localhost:8080/"
        },
        "id": "9W_bmMlArQFw",
        "outputId": "1fd96825-7d38-490a-f8e8-081174a796cc"
      },
      "execution_count": null,
      "outputs": [
        {
          "output_type": "execute_result",
          "data": {
            "text/plain": [
              "list"
            ]
          },
          "metadata": {},
          "execution_count": 156
        }
      ]
    },
    {
      "cell_type": "code",
      "source": [
        "type_c"
      ],
      "metadata": {
        "colab": {
          "base_uri": "https://localhost:8080/"
        },
        "id": "mEGFdO0WrSH7",
        "outputId": "c26a044f-17a2-406f-a281-160813a1a338"
      },
      "execution_count": null,
      "outputs": [
        {
          "output_type": "execute_result",
          "data": {
            "text/plain": [
              "['2', '3', '4', '5']"
            ]
          },
          "metadata": {},
          "execution_count": 157
        }
      ]
    },
    {
      "cell_type": "code",
      "source": [
        "ex = [1,2,3] #List\n",
        "ex_1 = str(ex) # List to string :: ex_1\n",
        "print(ex_1) # printing it\n",
        "ex_2 = list(ex_1)# String to list :: ex_2\n",
        "print(ex_2) # printing it"
      ],
      "metadata": {
        "colab": {
          "base_uri": "https://localhost:8080/"
        },
        "id": "W5DZwWONrnoA",
        "outputId": "d356a1ab-96e8-410c-af34-0003a11f941a"
      },
      "execution_count": null,
      "outputs": [
        {
          "output_type": "stream",
          "name": "stdout",
          "text": [
            "[1, 2, 3]\n",
            "['[', '1', ',', ' ', '2', ',', ' ', '3', ']']\n"
          ]
        }
      ]
    },
    {
      "cell_type": "code",
      "source": [
        "print(ex_1)"
      ],
      "metadata": {
        "colab": {
          "base_uri": "https://localhost:8080/"
        },
        "id": "GdYF3NlAs7TL",
        "outputId": "4ebb8926-2825-4edd-d6f4-0d8fa3ebee67"
      },
      "execution_count": null,
      "outputs": [
        {
          "output_type": "stream",
          "name": "stdout",
          "text": [
            "[1, 2, 3]\n"
          ]
        }
      ]
    },
    {
      "cell_type": "code",
      "source": [
        "ex = '[1,2,3]'\n",
        "list(ex)"
      ],
      "metadata": {
        "colab": {
          "base_uri": "https://localhost:8080/"
        },
        "id": "GExUnjTrsiuy",
        "outputId": "8e4d4da2-04a1-494c-fd8b-8585fdead2a1"
      },
      "execution_count": null,
      "outputs": [
        {
          "output_type": "execute_result",
          "data": {
            "text/plain": [
              "['[', '1', ',', '2', ',', '3', ']']"
            ]
          },
          "metadata": {},
          "execution_count": 166
        }
      ]
    },
    {
      "cell_type": "code",
      "source": [
        "# '[1,2,3]' --> list"
      ],
      "metadata": {
        "id": "louUM6kAr7RC"
      },
      "execution_count": null,
      "outputs": []
    },
    {
      "cell_type": "code",
      "source": [
        "# print all vowels in a word\n",
        "# if 'a' is present in the string"
      ],
      "metadata": {
        "id": "ry2XeSyKrTyL"
      },
      "execution_count": null,
      "outputs": []
    },
    {
      "cell_type": "code",
      "source": [
        "ex_tuple  = (2,3,4,5) # tuple to list\n",
        "list(ex_tuple) # Small bracket replaced by []\n"
      ],
      "metadata": {
        "colab": {
          "base_uri": "https://localhost:8080/"
        },
        "id": "B6U_o07WsgBW",
        "outputId": "92ae0fd4-18dc-4fd9-b3b5-f72b41994a70"
      },
      "execution_count": null,
      "outputs": [
        {
          "output_type": "execute_result",
          "data": {
            "text/plain": [
              "[2, 3, 4, 5]"
            ]
          },
          "metadata": {},
          "execution_count": 164
        }
      ]
    },
    {
      "cell_type": "code",
      "source": [
        "ex_set  = {2,3,4,5} # set to list\n",
        "list(ex_set) # curly bracket replaced by []"
      ],
      "metadata": {
        "colab": {
          "base_uri": "https://localhost:8080/"
        },
        "id": "8j-WOZqxtNC3",
        "outputId": "de163011-f461-4118-ff53-8418233ea3cf"
      },
      "execution_count": null,
      "outputs": [
        {
          "output_type": "execute_result",
          "data": {
            "text/plain": [
              "[2, 3, 4, 5]"
            ]
          },
          "metadata": {},
          "execution_count": 167
        }
      ]
    },
    {
      "cell_type": "code",
      "source": [
        "ex_dict  = {2:3,4:5} # set to list\n",
        "list(ex_dict) # Dict has 2 categories of data : key , values, by keys will be converted to list"
      ],
      "metadata": {
        "colab": {
          "base_uri": "https://localhost:8080/"
        },
        "id": "2d9viFqYtnOH",
        "outputId": "49017c7f-dc80-41f6-dae5-9302b67012b8"
      },
      "execution_count": null,
      "outputs": [
        {
          "output_type": "execute_result",
          "data": {
            "text/plain": [
              "[2, 4]"
            ]
          },
          "metadata": {},
          "execution_count": 168
        }
      ]
    },
    {
      "cell_type": "code",
      "source": [
        "list(ex_dict.values()) # values"
      ],
      "metadata": {
        "colab": {
          "base_uri": "https://localhost:8080/"
        },
        "id": "scRBcaJStwK2",
        "outputId": "00448f05-dafb-4756-f618-fe560007c4a1"
      },
      "execution_count": null,
      "outputs": [
        {
          "output_type": "execute_result",
          "data": {
            "text/plain": [
              "[3, 5]"
            ]
          },
          "metadata": {},
          "execution_count": 169
        }
      ]
    },
    {
      "cell_type": "code",
      "source": [
        "list(ex_dict.keys()) # keys"
      ],
      "metadata": {
        "colab": {
          "base_uri": "https://localhost:8080/"
        },
        "id": "mtuv4Q-It-_5",
        "outputId": "870407be-fea5-4a81-fdf0-c6bfddc16161"
      },
      "execution_count": null,
      "outputs": [
        {
          "output_type": "execute_result",
          "data": {
            "text/plain": [
              "[2, 4]"
            ]
          },
          "metadata": {},
          "execution_count": 170
        }
      ]
    },
    {
      "cell_type": "code",
      "source": [
        "# Tuple"
      ],
      "metadata": {
        "id": "UceWKa-tuA6X"
      },
      "execution_count": null,
      "outputs": []
    },
    {
      "cell_type": "code",
      "source": [
        "# Set"
      ],
      "metadata": {
        "id": "jfGUfvKxuIZf"
      },
      "execution_count": null,
      "outputs": []
    },
    {
      "cell_type": "code",
      "source": [],
      "metadata": {
        "id": "fxwhIuYvuvNG"
      },
      "execution_count": null,
      "outputs": []
    },
    {
      "cell_type": "code",
      "source": [
        "# .count()\n",
        "# len\n"
      ],
      "metadata": {
        "id": "VFZFxJLjuvKN"
      },
      "execution_count": null,
      "outputs": []
    },
    {
      "cell_type": "code",
      "source": [
        "ex = [2,3,4,5]\n",
        "# len(ex) # Function # total elements"
      ],
      "metadata": {
        "colab": {
          "base_uri": "https://localhost:8080/"
        },
        "id": "SJfxxQWSuyMO",
        "outputId": "3f66c1ed-1f87-4ecc-be06-90d8915a0fdd"
      },
      "execution_count": null,
      "outputs": [
        {
          "output_type": "execute_result",
          "data": {
            "text/plain": [
              "4"
            ]
          },
          "metadata": {},
          "execution_count": 171
        }
      ]
    },
    {
      "cell_type": "code",
      "source": [
        "# .count() # methods\n",
        "ex = [1,2,2,2,3,2,4,5]\n",
        "ex.count(2)"
      ],
      "metadata": {
        "colab": {
          "base_uri": "https://localhost:8080/"
        },
        "id": "OJQScYF-u4I2",
        "outputId": "d747d9a9-2962-442b-acb9-b9b967051fb7"
      },
      "execution_count": null,
      "outputs": [
        {
          "output_type": "execute_result",
          "data": {
            "text/plain": [
              "4"
            ]
          },
          "metadata": {},
          "execution_count": 172
        }
      ]
    },
    {
      "cell_type": "code",
      "source": [
        "ex = [1,2,2,2,3,2,4,5]\n",
        "ex.count(4) # count of specific element"
      ],
      "metadata": {
        "colab": {
          "base_uri": "https://localhost:8080/"
        },
        "id": "RjxNIAvau_jh",
        "outputId": "07fd66db-f428-4e5e-bdeb-63487b87e7dd"
      },
      "execution_count": null,
      "outputs": [
        {
          "output_type": "execute_result",
          "data": {
            "text/plain": [
              "1"
            ]
          },
          "metadata": {},
          "execution_count": 173
        }
      ]
    },
    {
      "cell_type": "code",
      "source": [
        "# .lower()\n",
        "ex = 'AlmaBetter'\n",
        "ex.count('a') # A & a is different"
      ],
      "metadata": {
        "colab": {
          "base_uri": "https://localhost:8080/"
        },
        "id": "CcrTZEW9vKoh",
        "outputId": "f1c8e185-131a-4286-c7bb-7cf00e356e3c"
      },
      "execution_count": null,
      "outputs": [
        {
          "output_type": "execute_result",
          "data": {
            "text/plain": [
              "1"
            ]
          },
          "metadata": {},
          "execution_count": 176
        }
      ]
    },
    {
      "cell_type": "code",
      "source": [
        "ex = 'AlmaBetter'\n",
        "ex.lower().count('a') # 2 : A has become small 'a'"
      ],
      "metadata": {
        "colab": {
          "base_uri": "https://localhost:8080/"
        },
        "id": "LifR0bGQvXBz",
        "outputId": "c5cf077a-84c9-4cb3-e703-5e671b2bc6ab"
      },
      "execution_count": null,
      "outputs": [
        {
          "output_type": "execute_result",
          "data": {
            "text/plain": [
              "2"
            ]
          },
          "metadata": {},
          "execution_count": 177
        }
      ]
    },
    {
      "cell_type": "code",
      "source": [
        "ex = 'AlmaBetter'\n",
        "ex.upper().count('a')"
      ],
      "metadata": {
        "colab": {
          "base_uri": "https://localhost:8080/"
        },
        "id": "JKATG4YNvX69",
        "outputId": "b6153d91-223f-4b8d-b354-e16e332545ab"
      },
      "execution_count": null,
      "outputs": [
        {
          "output_type": "execute_result",
          "data": {
            "text/plain": [
              "0"
            ]
          },
          "metadata": {},
          "execution_count": 178
        }
      ]
    },
    {
      "cell_type": "code",
      "source": [
        "ex.upper()"
      ],
      "metadata": {
        "colab": {
          "base_uri": "https://localhost:8080/",
          "height": 35
        },
        "id": "Pt50-c-Qvues",
        "outputId": "110cbb76-1def-4073-943a-b5327f0b1793"
      },
      "execution_count": null,
      "outputs": [
        {
          "output_type": "execute_result",
          "data": {
            "text/plain": [
              "'ALMABETTER'"
            ],
            "application/vnd.google.colaboratory.intrinsic+json": {
              "type": "string"
            }
          },
          "metadata": {},
          "execution_count": 179
        }
      ]
    },
    {
      "cell_type": "code",
      "source": [
        "# .keys(), .values()"
      ],
      "metadata": {
        "id": "eLvddegLvv1U"
      },
      "execution_count": null,
      "outputs": []
    },
    {
      "cell_type": "code",
      "source": [
        "ex = [1,2,3]\n",
        "# list to tuple\n",
        "# list(a) --> list\n",
        "# tuple(a) --> tuple\n",
        "tuple(ex)"
      ],
      "metadata": {
        "colab": {
          "base_uri": "https://localhost:8080/"
        },
        "id": "-RB_k_AiwgpC",
        "outputId": "b463cba7-d2b0-418c-842a-e4c15dbe5667"
      },
      "execution_count": null,
      "outputs": [
        {
          "output_type": "execute_result",
          "data": {
            "text/plain": [
              "(1, 2, 3)"
            ]
          },
          "metadata": {},
          "execution_count": 180
        }
      ]
    },
    {
      "cell_type": "code",
      "source": [
        "# Functions\n",
        "# print()\n",
        "# input()\n",
        "# type()\n",
        "# len()\n",
        "# Float\n",
        "# list() --> Conversion\n",
        "# Str() --> Conversion\n",
        "\n",
        "# methods\n",
        "#.add --> Set\n",
        "# .count() --> list, string, tuple\n",
        "# .lower() --> String\n",
        "# .upper() --> String\n"
      ],
      "metadata": {
        "id": "SVyQwDCOv4YK"
      },
      "execution_count": null,
      "outputs": []
    }
  ]
}