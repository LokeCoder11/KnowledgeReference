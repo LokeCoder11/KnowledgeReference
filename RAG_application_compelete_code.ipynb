{
  "cells": [
    {
      "cell_type": "markdown",
      "metadata": {
        "id": "view-in-github",
        "colab_type": "text"
      },
      "source": [
        "<a href=\"https://colab.research.google.com/github/LokeCoder11/KnowledgeReference/blob/main/RAG_application_compelete_code.ipynb\" target=\"_parent\"><img src=\"https://colab.research.google.com/assets/colab-badge.svg\" alt=\"Open In Colab\"/></a>"
      ]
    },
    {
      "cell_type": "markdown",
      "id": "4ed7feed",
      "metadata": {
        "id": "4ed7feed"
      },
      "source": [
        "# Question Answering"
      ]
    },
    {
      "cell_type": "markdown",
      "id": "bef480fe",
      "metadata": {
        "id": "bef480fe"
      },
      "source": [
        "## Overview\n",
        "\n",
        "Recall the overall workflow for retrieval augmented generation (RAG):"
      ]
    },
    {
      "cell_type": "markdown",
      "id": "e8825752",
      "metadata": {
        "id": "e8825752"
      },
      "source": [
        "We discussed `Document Loading` and `Splitting` as well as `Storage` and `Retrieval`.\n",
        "\n",
        "Let's load our vectorDB."
      ]
    },
    {
      "cell_type": "code",
      "execution_count": null,
      "id": "b997cff1",
      "metadata": {
        "height": 165,
        "tags": [],
        "id": "b997cff1"
      },
      "outputs": [],
      "source": [
        "import os\n",
        "import openai\n",
        "import sys\n",
        "sys.path.append('../..')\n",
        "\n",
        "from dotenv import load_dotenv, find_dotenv\n",
        "_ = load_dotenv(find_dotenv()) # read local .env file\n",
        "\n",
        "openai.api_key  = os.environ['OPENAI_API_KEY']"
      ]
    },
    {
      "cell_type": "code",
      "execution_count": null,
      "id": "259a097a",
      "metadata": {
        "height": 199,
        "id": "259a097a"
      },
      "outputs": [],
      "source": [
        "\n",
        "import os\n",
        "import openai\n",
        "import sys\n",
        "sys.path.append('../..')\n",
        "\n",
        "from dotenv import load_dotenv, find_dotenv\n",
        "_ = load_dotenv(find_dotenv()) # read local .env file\n",
        "\n",
        "openai.api_key  = os.environ['OPENAI_API_KEY']\n"
      ]
    },
    {
      "cell_type": "code",
      "execution_count": null,
      "id": "6b367e3e",
      "metadata": {
        "height": 777,
        "id": "6b367e3e",
        "outputId": "cd4b2a67-22fc-466c-cb41-05aaf3e7f02e"
      },
      "outputs": [
        {
          "name": "stdout",
          "output_type": "stream",
          "text": [
            "['ABC', 'AbstractSet', 'Any', 'BaseDocumentTransformer', 'Callable', 'CharacterTextSplitter', 'Collection', 'Dict', 'Document', 'Enum', 'HeaderType', 'Iterable', 'Language', 'LatexTextSplitter', 'LineType', 'List', 'Literal', 'MarkdownHeaderTextSplitter', 'MarkdownTextSplitter', 'NLTKTextSplitter', 'Optional', 'PythonCodeTextSplitter', 'RecursiveCharacterTextSplitter', 'SentenceTransformersTokenTextSplitter', 'Sequence', 'SpacyTextSplitter', 'TS', 'TextSplitter', 'TokenTextSplitter', 'Tokenizer', 'Tuple', 'Type', 'TypeVar', 'TypedDict', 'Union', '__builtins__', '__cached__', '__doc__', '__file__', '__loader__', '__name__', '__package__', '__spec__', '_split_text_with_regex', 'abstractmethod', 'annotations', 'cast', 'copy', 'dataclass', 'logger', 'logging', 're', 'split_text_on_tokens']\n",
            "['OBJECT_NAME', '_EngineAPIResource__prepare_create_request', '__class__', '__class_getitem__', '__contains__', '__copy__', '__deepcopy__', '__delattr__', '__delitem__', '__dict__', '__dir__', '__doc__', '__eq__', '__format__', '__ge__', '__getattr__', '__getattribute__', '__getitem__', '__gt__', '__hash__', '__init__', '__init_subclass__', '__ior__', '__iter__', '__le__', '__len__', '__lt__', '__module__', '__ne__', '__new__', '__or__', '__reduce__', '__reduce_ex__', '__repr__', '__reversed__', '__ror__', '__setattr__', '__setitem__', '__setstate__', '__sizeof__', '__str__', '__subclasshook__', '__weakref__', '_astatic_request', '_get_api_type_and_version', '_static_request', 'acreate', 'api_base', 'api_base_override', 'api_prefix', 'arefresh', 'arequest', 'aretrieve', 'await_', 'azure_api_prefix', 'azure_deployments_prefix', 'class_url', 'clear', 'construct_from', 'copy', 'create', 'fromkeys', 'get', 'instance_url', 'items', 'keys', 'openai_id', 'plain_old_data', 'pop', 'popitem', 'refresh', 'refresh_from', 'request', 'response_ms', 'retrieve', 'setdefault', 'to_dict', 'to_dict_recursive', 'typed_api_type', 'update', 'values', 'wait']\n"
          ]
        }
      ],
      "source": [
        "\n",
        "from langchain import text_splitter\n",
        "print(dir(text_splitter))\n",
        "\n",
        "import langchain\n",
        "from langchain.text_splitter import CharacterTextSplitter,TokenTextSplitter,RecursiveCharacterTextSplitter\n",
        "\n",
        "#?CharacterTextSplitter\n",
        "?RecursiveCharacterTextSplitter\n",
        "\n",
        "s1 = \"India got independence in 1947 and Now its 2024 India is 5 largest econm\"\n",
        "\n",
        "# character :\"I\", \"n\", \"d\"\n",
        "\n",
        "s1 = \"awsedrftgyhjghjklsxrdctgbh\"\n",
        "\n",
        "text_spl = RecursiveCharacterTextSplitter(\n",
        "    chunk_size=10,\n",
        "    chunk_overlap=2)\n",
        "\n",
        "text_spl.split_text(s1)\n",
        "\n",
        "\n",
        "import openai\n",
        "\n",
        "from openai import Embedding\n",
        "print(dir(Embedding))\n",
        "\n",
        "\n",
        "# steps to overcome such problem\n",
        "\n",
        "import langchain\n",
        "from langchain.embeddings.openai import   OpenAIEmbeddings\n",
        "emd_model = OpenAIEmbeddings()\n",
        "\n",
        "doc = \"In 2023 dollar value was 78 rupee James bond is a nice actor\"\n",
        "text_spl = RecursiveCharacterTextSplitter(\n",
        "    chunk_size=10,\n",
        "    chunk_overlap=2)\n",
        "text_split = text_spl.split_text(doc)\n",
        "text_split\n",
        "emd_list = []\n",
        "for i in text_split:\n",
        "    emd_list.append(emd_model.aembed_query(i))\n"
      ]
    },
    {
      "cell_type": "code",
      "execution_count": null,
      "id": "991ac691",
      "metadata": {
        "height": 400,
        "id": "991ac691",
        "outputId": "03ade563-0707-47ca-8a92-e06a11cee2e6"
      },
      "outputs": [
        {
          "name": "stderr",
          "output_type": "stream",
          "text": [
            "/tmp/ipykernel_72/1766646404.py:15: RuntimeWarning: coroutine 'OpenAIEmbeddings.aembed_query' was never awaited\n",
            "  emd_list = []\n",
            "RuntimeWarning: Enable tracemalloc to get the object allocation traceback\n"
          ]
        },
        {
          "data": {
            "text/plain": [
              "(27, 27)"
            ]
          },
          "execution_count": 11,
          "metadata": {},
          "output_type": "execute_result"
        }
      ],
      "source": [
        "\n",
        "import langchain\n",
        "from langchain.embeddings.openai import   OpenAIEmbeddings\n",
        "emd_model = OpenAIEmbeddings()\n",
        "doc = '''Sachin Tendulkar, (/ˌsʌtʃɪn tɛnˈduːlkər/ ⓘ; pronounced [sətɕin teːɳɖulkəɾ]; born 24 April 1973) is an Indian former international cricketer who captained the Indian national team. He is widely regarded as one of the greatest batsmen in the history of cricket.[4] Hailed as the world's most prolific batsman of all time, he is the all-time highest run-scorer in both ODI and Test cricket with more than 18,000 runs and 15,000 runs, respectively.[5] He also holds the record for receiving the most player of the match awards in international cricket.[6] Tendulkar was a Member of Parliament, Rajya Sabha by nomination from 2012 to 2018.[7][8]\n",
        "\n",
        "Tendulkar took up cricket at the age of eleven, made his Test match debut on 15 November 1989 against Pakistan in Karachi at the age of sixteen, and went on to represent Mumbai domestically and India internationally for over 24 years.[9] In 2002, halfway through his career, Wisden ranked him the second-greatest Test batsman of all time, behind Don Bradman, and the second-greatest ODI batsman of all time, behind Viv Richards.[10] The same year, Tendulkar was a part of the team that was one of the joint-winners of the 2002 ICC Champions Trophy. Later in his career, Tendulkar was part of the Indian team that won the 2011 Cricket World Cup, his first win in six World Cup appearances for India.[11] He had previously been named \"Player of the Tournament\" at the 2003 World Cup.\n",
        "\n",
        "Tendulkar has received several awards from the government of India: the Arjuna Award (1994), the Khel Ratna Award (1997), the Padma Shri (1998), and the Padma Vibhushan (2008).[12][13] After Tendulkar played his last match in November 2013, the Prime Minister's Office announced the decision to award him the Bharat Ratna, India's highest civilian award.[14][15] He was the first sportsperson to receive the reward and, as of 2023, is the youngest recipient.[16][17][18] In 2010, Time included Tendulkar in its annual list of the most influential people in the world.[19] Tendulkar was awarded the Sir Garfield Sobers Trophy for cricketer of the year at the 2010 International Cricket Council (ICC) Awards.[20]'''\n",
        "\n",
        "text_spl = RecursiveCharacterTextSplitter(\n",
        "    chunk_size=100,\n",
        "    chunk_overlap=20)\n",
        "text_split = text_spl.split_text(doc)\n",
        "text_split\n",
        "emd_list = []\n",
        "for i in text_split:\n",
        "    emd_list.append(emd_model.aembed_query(i))\n",
        "\n",
        "len(text_split), len(emd_list)\n",
        "\n"
      ]
    },
    {
      "cell_type": "code",
      "execution_count": null,
      "id": "bded325e",
      "metadata": {
        "height": 301,
        "id": "bded325e",
        "outputId": "3c07bb80-c6c8-445a-b46d-62570352ec2b"
      },
      "outputs": [
        {
          "data": {
            "text/plain": [
              "[Document(page_content='Sachin Tendulkar, (/ˌsʌtʃɪn tɛnˈduːlkər/ ⓘ; pronounced [sətɕin teːɳɖulkəɾ]; born 24 April 1973) is', metadata={}),\n",
              " Document(page_content='Tendulkar took up cricket at the age of eleven, made his Test match debut on 15 November 1989', metadata={}),\n",
              " Document(page_content='24 April 1973) is an Indian former international cricketer who captained the Indian national team.', metadata={}),\n",
              " Document(page_content=\"November 2013, the Prime Minister's Office announced the decision to award him the Bharat Ratna,\", metadata={})]"
            ]
          },
          "execution_count": 12,
          "metadata": {},
          "output_type": "execute_result"
        }
      ],
      "source": [
        "from langchain.vectorstores import Chroma\n",
        "location = 'docs/chroma/'\n",
        "\n",
        "!rm -rf ./docs/chroma\n",
        "\n",
        "vdb = Chroma.from_texts(texts = text_split,\n",
        "                       embedding =emd_model,\n",
        "                       persist_directory = 'docs/chroma/')\n",
        "# it will only run for those case - from doc where you have PDF, document\n",
        "\n",
        "vdb.similarity_search(query=\"sachine date of birth\")\n",
        "\n",
        "# LLM - Reterival Chain\n",
        "\n",
        "\n",
        "\n",
        "# Memory"
      ]
    },
    {
      "cell_type": "code",
      "execution_count": null,
      "id": "3aaf45f3",
      "metadata": {
        "height": 29,
        "id": "3aaf45f3"
      },
      "outputs": [],
      "source": []
    },
    {
      "cell_type": "code",
      "execution_count": null,
      "id": "8c27722d",
      "metadata": {
        "height": 131,
        "id": "8c27722d",
        "outputId": "9ec481b9-cd89-4e6d-9ff6-cdf66ab0da67"
      },
      "outputs": [
        {
          "name": "stdout",
          "output_type": "stream",
          "text": [
            "gpt-3.5-turbo\n"
          ]
        }
      ],
      "source": [
        "import datetime\n",
        "current_date = datetime.datetime.now().date()\n",
        "if current_date < datetime.date(2023, 9, 2):\n",
        "    llm_name = \"gpt-3.5-turbo-0301\"\n",
        "else:\n",
        "    llm_name = \"gpt-3.5-turbo\"\n",
        "print(llm_name)"
      ]
    },
    {
      "cell_type": "code",
      "execution_count": null,
      "id": "51e2b3a7",
      "metadata": {
        "height": 46,
        "id": "51e2b3a7"
      },
      "outputs": [],
      "source": [
        "from langchain.chat_models import ChatOpenAI\n",
        "llm = ChatOpenAI(model =llm_name , temperature=0)"
      ]
    },
    {
      "cell_type": "code",
      "execution_count": null,
      "id": "59e9c994",
      "metadata": {
        "height": 29,
        "id": "59e9c994",
        "outputId": "384e28b1-ce2b-4fe0-8c79-8c545c9ca110"
      },
      "outputs": [
        {
          "name": "stderr",
          "output_type": "stream",
          "text": [
            "Retrying langchain.chat_models.openai.ChatOpenAI.completion_with_retry.<locals>._completion_with_retry in 1.0 seconds as it raised APIError: HTTP code 500 from API (500 error\n",
            ").\n"
          ]
        },
        {
          "data": {
            "text/plain": [
              "\"Hello! I'm just a computer program, so I don't have feelings, but I'm here and ready to help you with anything you need. How can I assist you today?\""
            ]
          },
          "execution_count": 16,
          "metadata": {},
          "output_type": "execute_result"
        }
      ],
      "source": [
        "llm.predict(\"Hi how are you?\")"
      ]
    },
    {
      "cell_type": "code",
      "execution_count": null,
      "id": "7c0d029e",
      "metadata": {
        "height": 97,
        "id": "7c0d029e"
      },
      "outputs": [],
      "source": [
        "from langchain.prompts import PromptTemplate\n",
        "temp = ''' use this context to provide answer in such as way and also greet after you provide answer\n",
        "{context}\n",
        "Question : {question}\n",
        "answer'''"
      ]
    },
    {
      "cell_type": "code",
      "execution_count": null,
      "id": "51649277",
      "metadata": {
        "height": 29,
        "id": "51649277"
      },
      "outputs": [],
      "source": [
        "QA_CHAIN = PromptTemplate(input_variables=['context','question'],template=temp)"
      ]
    },
    {
      "cell_type": "code",
      "execution_count": null,
      "id": "2c59d179",
      "metadata": {
        "height": 63,
        "id": "2c59d179"
      },
      "outputs": [],
      "source": [
        "from langchain.chains import RetrievalQA\n",
        "qa_chain_res = RetrievalQA.from_chain_type(llm, retriever = vdb.as_retriever(),\n",
        "                          chain_type_kwargs={\"prompt\":QA_CHAIN})"
      ]
    },
    {
      "cell_type": "code",
      "execution_count": null,
      "id": "aeb9ca15",
      "metadata": {
        "height": 29,
        "id": "aeb9ca15"
      },
      "outputs": [],
      "source": [
        "result = qa_chain_res({\"query\":\"date of birth for sachin tendulkar\"})"
      ]
    },
    {
      "cell_type": "code",
      "execution_count": null,
      "id": "5ed0fd81",
      "metadata": {
        "height": 29,
        "id": "5ed0fd81",
        "outputId": "caecd434-3b21-4237-9788-6d76bfacffba"
      },
      "outputs": [
        {
          "data": {
            "text/plain": [
              "{'query': 'date of birth for sachin tendulkar',\n",
              " 'result': 'Sachin Tendulkar was born on 24 April 1973. Hello! How can I assist you further?'}"
            ]
          },
          "execution_count": 26,
          "metadata": {},
          "output_type": "execute_result"
        }
      ],
      "source": [
        "result"
      ]
    }
  ],
  "metadata": {
    "kernelspec": {
      "display_name": "Python 3 (ipykernel)",
      "language": "python",
      "name": "python3"
    },
    "language_info": {
      "codemirror_mode": {
        "name": "ipython",
        "version": 3
      },
      "file_extension": ".py",
      "mimetype": "text/x-python",
      "name": "python",
      "nbconvert_exporter": "python",
      "pygments_lexer": "ipython3",
      "version": "3.9.17"
    },
    "colab": {
      "provenance": [],
      "include_colab_link": true
    }
  },
  "nbformat": 4,
  "nbformat_minor": 5
}