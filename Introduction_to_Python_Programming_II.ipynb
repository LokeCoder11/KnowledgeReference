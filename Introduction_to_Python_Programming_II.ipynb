{
  "nbformat": 4,
  "nbformat_minor": 0,
  "metadata": {
    "colab": {
      "provenance": [],
      "include_colab_link": true
    },
    "kernelspec": {
      "name": "python3",
      "display_name": "Python 3"
    },
    "language_info": {
      "name": "python"
    }
  },
  "cells": [
    {
      "cell_type": "markdown",
      "metadata": {
        "id": "view-in-github",
        "colab_type": "text"
      },
      "source": [
        "<a href=\"https://colab.research.google.com/github/LokeCoder11/KnowledgeReference/blob/main/Introduction_to_Python_Programming_II.ipynb\" target=\"_parent\"><img src=\"https://colab.research.google.com/assets/colab-badge.svg\" alt=\"Open In Colab\"/></a>"
      ]
    },
    {
      "cell_type": "code",
      "execution_count": null,
      "metadata": {
        "colab": {
          "base_uri": "https://localhost:8080/"
        },
        "id": "fKiW9wjl88pR",
        "outputId": "db8aa99c-b435-4aa4-dfd2-8aa160e34b4a"
      },
      "outputs": [
        {
          "output_type": "stream",
          "name": "stdout",
          "text": [
            "hello world\n"
          ]
        }
      ],
      "source": [
        "print('hello world') # Press :- shift + enter to run the code"
      ]
    },
    {
      "cell_type": "code",
      "source": [
        "# sum([1,2,3,4])"
      ],
      "metadata": {
        "colab": {
          "base_uri": "https://localhost:8080/"
        },
        "id": "6KDdexxnBkMB",
        "outputId": "87ba93a2-7c19-4d4d-dae7-1dad83919787"
      },
      "execution_count": null,
      "outputs": [
        {
          "output_type": "execute_result",
          "data": {
            "text/plain": [
              "10"
            ]
          },
          "metadata": {},
          "execution_count": 2
        }
      ]
    },
    {
      "cell_type": "code",
      "source": [
        "input('Enter the age: ') # take input from user"
      ],
      "metadata": {
        "colab": {
          "base_uri": "https://localhost:8080/",
          "height": 53
        },
        "id": "TRfWfD4zChkq",
        "outputId": "25db3706-9b2f-45f3-9650-869b915a6bb9"
      },
      "execution_count": null,
      "outputs": [
        {
          "name": "stdout",
          "output_type": "stream",
          "text": [
            "Enter the age: 45\n"
          ]
        },
        {
          "output_type": "execute_result",
          "data": {
            "text/plain": [
              "'45'"
            ],
            "application/vnd.google.colaboratory.intrinsic+json": {
              "type": "string"
            }
          },
          "metadata": {},
          "execution_count": 4
        }
      ]
    },
    {
      "cell_type": "code",
      "source": [
        "# Syntax of using function --> function_name(input/data) :: Output\n",
        "print('hello world') # Display the hello world"
      ],
      "metadata": {
        "colab": {
          "base_uri": "https://localhost:8080/"
        },
        "id": "bwajeKSEC9GB",
        "outputId": "5c56b600-3bfc-4784-853a-a766e9512c29"
      },
      "execution_count": null,
      "outputs": [
        {
          "output_type": "stream",
          "name": "stdout",
          "text": [
            "hello world\n"
          ]
        }
      ]
    },
    {
      "cell_type": "code",
      "source": [
        "# Code is executed --> one line at a time\n",
        "print('hello world') # 1st line was sent to machine to run it\n",
        "print('AlmaBetter') # 2nd line was sent to machine to run it\n",
        "# print(DataScience) # 3rd line was sent to machine to run it"
      ],
      "metadata": {
        "colab": {
          "base_uri": "https://localhost:8080/"
        },
        "id": "GrABHA5-Dpog",
        "outputId": "83a409cb-6808-4752-a107-59c691010060"
      },
      "execution_count": null,
      "outputs": [
        {
          "output_type": "stream",
          "name": "stdout",
          "text": [
            "hello world\n",
            "AlmaBetter\n"
          ]
        }
      ]
    },
    {
      "cell_type": "markdown",
      "source": [
        "First class : Agenda is 1. Run the code 2. Understand about google colab"
      ],
      "metadata": {
        "id": "T0Ihm0AvIu4h"
      }
    },
    {
      "cell_type": "code",
      "source": [
        "# This the first code, class has executed.\n",
        "print('hello world') # <<- Comment the lines"
      ],
      "metadata": {
        "colab": {
          "base_uri": "https://localhost:8080/"
        },
        "id": "eDBswc0nEgzS",
        "outputId": "2711b8af-a6e4-4c03-e0d6-ea535cc0a7fc"
      },
      "execution_count": null,
      "outputs": [
        {
          "output_type": "stream",
          "name": "stdout",
          "text": [
            "hello world\n"
          ]
        }
      ]
    },
    {
      "cell_type": "code",
      "source": [
        "# Shortcut for one liner commenting\n",
        "print('hello world')\n",
        "print('hello world')\n",
        "print('hello world')\n",
        "print('hello world')\n",
        "print('hello world')\n",
        "\n",
        "# comment at once --> Multiline :: Select the lines >> Ctrl + / (Windows) cmd + / (Mac)\n",
        "# uncomment at once --> Select the lines >> Ctrl + / (Windows) cmd + / (Mac)"
      ],
      "metadata": {
        "colab": {
          "base_uri": "https://localhost:8080/"
        },
        "id": "RR6aNVPLIRx-",
        "outputId": "a7052102-db2f-44a8-fbdf-00e1db2ffa52"
      },
      "execution_count": null,
      "outputs": [
        {
          "output_type": "stream",
          "name": "stdout",
          "text": [
            "hello world\n",
            "hello world\n",
            "hello world\n",
            "hello world\n",
            "hello world\n"
          ]
        }
      ]
    },
    {
      "cell_type": "code",
      "source": [
        "# Multi line comment : Triple quotes\n",
        "'''\n",
        "This is the second class.\n",
        "I am excited to learn more about python.\n",
        "\n",
        "'''\n",
        "print('Data Science')"
      ],
      "metadata": {
        "colab": {
          "base_uri": "https://localhost:8080/"
        },
        "id": "CN0J0sWxKY-Y",
        "outputId": "d1c153a1-cb5e-4a4b-c4aa-f658d1d2140d"
      },
      "execution_count": null,
      "outputs": [
        {
          "output_type": "stream",
          "name": "stdout",
          "text": [
            "Data Science\n"
          ]
        }
      ]
    },
    {
      "cell_type": "code",
      "source": [
        "# print(1.23)"
      ],
      "metadata": {
        "colab": {
          "base_uri": "https://localhost:8080/"
        },
        "id": "hRAsIHzKRfVv",
        "outputId": "84a04dfb-05aa-47cd-e141-ddc8452a8e1a"
      },
      "execution_count": null,
      "outputs": [
        {
          "output_type": "stream",
          "name": "stdout",
          "text": [
            "1.23\n"
          ]
        }
      ]
    },
    {
      "cell_type": "code",
      "source": [
        "# print() --> function\n",
        "# type() --> Data types of any object or element\n",
        "\n",
        "1 # --> Integer\n",
        "type(1)"
      ],
      "metadata": {
        "colab": {
          "base_uri": "https://localhost:8080/"
        },
        "id": "6edtPF4BK3rC",
        "outputId": "df79c592-4df9-4572-9cd8-f25c034293e0"
      },
      "execution_count": null,
      "outputs": [
        {
          "output_type": "execute_result",
          "data": {
            "text/plain": [
              "int"
            ]
          },
          "metadata": {},
          "execution_count": 26
        }
      ]
    },
    {
      "cell_type": "code",
      "source": [
        "1.234\n",
        "type(1.234) #--> Float"
      ],
      "metadata": {
        "colab": {
          "base_uri": "https://localhost:8080/"
        },
        "id": "Ire0dp0uRN4o",
        "outputId": "a30ae8df-982e-4604-b67d-552eca6e7bc0"
      },
      "execution_count": null,
      "outputs": [
        {
          "output_type": "execute_result",
          "data": {
            "text/plain": [
              "float"
            ]
          },
          "metadata": {},
          "execution_count": 27
        }
      ]
    },
    {
      "cell_type": "code",
      "source": [
        "'AlmaBetter'\n",
        "type('AlmaBetter') # Str --> String"
      ],
      "metadata": {
        "colab": {
          "base_uri": "https://localhost:8080/"
        },
        "id": "pu86gkyCRVmw",
        "outputId": "d45ddb5d-38df-4440-8d44-55751bc6c056"
      },
      "execution_count": null,
      "outputs": [
        {
          "output_type": "execute_result",
          "data": {
            "text/plain": [
              "str"
            ]
          },
          "metadata": {},
          "execution_count": 28
        }
      ]
    },
    {
      "cell_type": "code",
      "source": [
        "True\n",
        "type(True) # bool : Boolean"
      ],
      "metadata": {
        "colab": {
          "base_uri": "https://localhost:8080/"
        },
        "id": "W7lkxKS3RZpb",
        "outputId": "e03afbbb-9b30-4044-9b81-aa40ed47c11b"
      },
      "execution_count": null,
      "outputs": [
        {
          "output_type": "execute_result",
          "data": {
            "text/plain": [
              "bool"
            ]
          },
          "metadata": {},
          "execution_count": 32
        }
      ]
    },
    {
      "cell_type": "code",
      "source": [
        "[3,2,4,5,'a'] # Square bracket --> List\n",
        "type([ 3,2,4,5,'a']) # list"
      ],
      "metadata": {
        "colab": {
          "base_uri": "https://localhost:8080/"
        },
        "id": "4oFakdqSRuU1",
        "outputId": "8d5a4a89-cbde-4e98-e0fa-4a879d432ed3"
      },
      "execution_count": null,
      "outputs": [
        {
          "output_type": "execute_result",
          "data": {
            "text/plain": [
              "list"
            ]
          },
          "metadata": {},
          "execution_count": 33
        }
      ]
    },
    {
      "cell_type": "code",
      "source": [
        "{1,2,3,4} # Curly bracer --> Set\n",
        "type({1,2,3,4}) # set"
      ],
      "metadata": {
        "colab": {
          "base_uri": "https://localhost:8080/"
        },
        "id": "OyG5t_AVR3f9",
        "outputId": "aad01f21-cab6-4720-aeee-bec529ed0055"
      },
      "execution_count": null,
      "outputs": [
        {
          "output_type": "execute_result",
          "data": {
            "text/plain": [
              "set"
            ]
          },
          "metadata": {},
          "execution_count": 34
        }
      ]
    },
    {
      "cell_type": "code",
      "source": [
        "(1,2,3,4) # Small bracket --> tuple\n",
        "type((1,2,3,4)) # tuple"
      ],
      "metadata": {
        "colab": {
          "base_uri": "https://localhost:8080/"
        },
        "id": "6BKemmM8SGLc",
        "outputId": "72500cc9-d5f1-4969-8d09-ab87d3146267"
      },
      "execution_count": null,
      "outputs": [
        {
          "output_type": "execute_result",
          "data": {
            "text/plain": [
              "tuple"
            ]
          },
          "metadata": {},
          "execution_count": 35
        }
      ]
    },
    {
      "cell_type": "code",
      "source": [
        "{'name':'AlmaBetter', 'program' :' DS', 'attendance' :100 } # curly bracket with key and value --> Dict\n",
        "type({'name':'AlmaBetter', 'program' :' DS', 'attendance' :100 }) # Dict"
      ],
      "metadata": {
        "colab": {
          "base_uri": "https://localhost:8080/"
        },
        "id": "6vPU_sGkSLOU",
        "outputId": "f5b2fa03-eb0f-487f-f0f0-e19517e43fbd"
      },
      "execution_count": null,
      "outputs": [
        {
          "output_type": "execute_result",
          "data": {
            "text/plain": [
              "dict"
            ]
          },
          "metadata": {},
          "execution_count": 36
        }
      ]
    },
    {
      "cell_type": "code",
      "source": [
        "# Operators : Arithmetic Operator\n",
        "\n",
        "4 + 5 # Addition"
      ],
      "metadata": {
        "colab": {
          "base_uri": "https://localhost:8080/"
        },
        "id": "q8NSeOmDSU14",
        "outputId": "c9a9a17a-fdfe-4280-804d-bf200c6958b7"
      },
      "execution_count": null,
      "outputs": [
        {
          "output_type": "execute_result",
          "data": {
            "text/plain": [
              "9"
            ]
          },
          "metadata": {},
          "execution_count": 37
        }
      ]
    },
    {
      "cell_type": "code",
      "source": [
        "4 - 5  # Substraction"
      ],
      "metadata": {
        "colab": {
          "base_uri": "https://localhost:8080/"
        },
        "id": "7HJ7BsZfUNjg",
        "outputId": "a72c1f79-7e36-4271-ee46-d6daef09c708"
      },
      "execution_count": null,
      "outputs": [
        {
          "output_type": "execute_result",
          "data": {
            "text/plain": [
              "-1"
            ]
          },
          "metadata": {},
          "execution_count": 38
        }
      ]
    },
    {
      "cell_type": "code",
      "source": [
        "4.3 - 5.4  # Substraction with float"
      ],
      "metadata": {
        "id": "7WICjolXUYLF"
      },
      "execution_count": null,
      "outputs": []
    },
    {
      "cell_type": "code",
      "source": [
        "# Google colab/ jupyter notebook\n",
        "print(4 * 5)\n",
        "print(4 + 2)\n",
        "print(4 - 3)"
      ],
      "metadata": {
        "colab": {
          "base_uri": "https://localhost:8080/"
        },
        "id": "YaJoaJJbUbUg",
        "outputId": "50c3031c-f5e0-4a16-df7d-ededd8790a73"
      },
      "execution_count": null,
      "outputs": [
        {
          "output_type": "stream",
          "name": "stdout",
          "text": [
            "20\n",
            "6\n",
            "1\n"
          ]
        }
      ]
    },
    {
      "cell_type": "code",
      "source": [
        "4 * 5 # Multiplication"
      ],
      "metadata": {
        "colab": {
          "base_uri": "https://localhost:8080/"
        },
        "id": "pRfvgPPMUtWD",
        "outputId": "ca91cd32-eebc-4517-d7cd-7f0715ef34a0"
      },
      "execution_count": null,
      "outputs": [
        {
          "output_type": "execute_result",
          "data": {
            "text/plain": [
              "20"
            ]
          },
          "metadata": {},
          "execution_count": 44
        }
      ]
    },
    {
      "cell_type": "code",
      "source": [
        "4.3 * 5.4 # Float Multiplication"
      ],
      "metadata": {
        "colab": {
          "base_uri": "https://localhost:8080/"
        },
        "id": "sAXDKMNzVGJ2",
        "outputId": "2d450a59-9a04-4557-e5e3-0028d8ca5eef"
      },
      "execution_count": null,
      "outputs": [
        {
          "output_type": "execute_result",
          "data": {
            "text/plain": [
              "23.22"
            ]
          },
          "metadata": {},
          "execution_count": 45
        }
      ]
    },
    {
      "cell_type": "code",
      "source": [
        "32 / 6 # Divison"
      ],
      "metadata": {
        "colab": {
          "base_uri": "https://localhost:8080/"
        },
        "id": "UwNrVp0ZVJmp",
        "outputId": "e84b6648-3534-499c-8971-621ef325a1b4"
      },
      "execution_count": null,
      "outputs": [
        {
          "output_type": "execute_result",
          "data": {
            "text/plain": [
              "5.333333333333333"
            ]
          },
          "metadata": {},
          "execution_count": 48
        }
      ]
    },
    {
      "cell_type": "code",
      "source": [
        "# ** --> Exponential\n",
        "2 ** 3 # 2 to the power 3"
      ],
      "metadata": {
        "colab": {
          "base_uri": "https://localhost:8080/"
        },
        "id": "DHGXWlt7VN2H",
        "outputId": "2ec759cc-dc5e-4671-c5e4-41e89ba23769"
      },
      "execution_count": null,
      "outputs": [
        {
          "output_type": "execute_result",
          "data": {
            "text/plain": [
              "8"
            ]
          },
          "metadata": {},
          "execution_count": 50
        }
      ]
    },
    {
      "cell_type": "code",
      "source": [
        "4 ** 2 # 4 to the power 2"
      ],
      "metadata": {
        "colab": {
          "base_uri": "https://localhost:8080/"
        },
        "id": "PVFb1PaNVmCq",
        "outputId": "5feb8d55-9d57-4336-fac8-13c5ba9fbb5a"
      },
      "execution_count": null,
      "outputs": [
        {
          "output_type": "execute_result",
          "data": {
            "text/plain": [
              "16"
            ]
          },
          "metadata": {},
          "execution_count": 51
        }
      ]
    },
    {
      "cell_type": "code",
      "source": [
        "# sqaure root of 25\n",
        "# **\n",
        "25 ** 0.5"
      ],
      "metadata": {
        "colab": {
          "base_uri": "https://localhost:8080/"
        },
        "id": "U8B3KPp1V19n",
        "outputId": "18613658-a9d0-4f0b-902e-651e4f15f0c5"
      },
      "execution_count": null,
      "outputs": [
        {
          "output_type": "execute_result",
          "data": {
            "text/plain": [
              "625"
            ]
          },
          "metadata": {},
          "execution_count": 53
        }
      ]
    },
    {
      "cell_type": "code",
      "source": [
        "2 ** (1/3)"
      ],
      "metadata": {
        "colab": {
          "base_uri": "https://localhost:8080/"
        },
        "id": "lAple5pHWRjk",
        "outputId": "db7ff7b1-48dc-48c5-d468-d0c354a9a34d"
      },
      "execution_count": null,
      "outputs": [
        {
          "output_type": "execute_result",
          "data": {
            "text/plain": [
              "1.2599210498948732"
            ]
          },
          "metadata": {},
          "execution_count": 55
        }
      ]
    },
    {
      "cell_type": "code",
      "source": [
        "8 ** (1/3)"
      ],
      "metadata": {
        "colab": {
          "base_uri": "https://localhost:8080/"
        },
        "id": "tia6euNcWc4w",
        "outputId": "04e2501f-0691-40e5-ddbc-405180b47e10"
      },
      "execution_count": null,
      "outputs": [
        {
          "output_type": "execute_result",
          "data": {
            "text/plain": [
              "2.0"
            ]
          },
          "metadata": {},
          "execution_count": 56
        }
      ]
    },
    {
      "cell_type": "code",
      "source": [
        "5**2 # Sqaure of 5"
      ],
      "metadata": {
        "colab": {
          "base_uri": "https://localhost:8080/"
        },
        "id": "XlZD0Ku4W3B1",
        "outputId": "8ba42627-5c44-4a9a-b0a2-50f87b72188c"
      },
      "execution_count": null,
      "outputs": [
        {
          "output_type": "execute_result",
          "data": {
            "text/plain": [
              "25"
            ]
          },
          "metadata": {},
          "execution_count": 57
        }
      ]
    },
    {
      "cell_type": "code",
      "source": [
        "# Floor division/ Interger division\n",
        "# //\n",
        "7 / 2"
      ],
      "metadata": {
        "colab": {
          "base_uri": "https://localhost:8080/"
        },
        "id": "oNOvIkLbWit1",
        "outputId": "56e68fe2-71d3-4508-ab68-72ba46618804"
      },
      "execution_count": null,
      "outputs": [
        {
          "output_type": "execute_result",
          "data": {
            "text/plain": [
              "3.5"
            ]
          },
          "metadata": {},
          "execution_count": 58
        }
      ]
    },
    {
      "cell_type": "code",
      "source": [
        "7 // 2 # Quotient as an output"
      ],
      "metadata": {
        "colab": {
          "base_uri": "https://localhost:8080/"
        },
        "id": "wXKCwtQrXDIE",
        "outputId": "72aa40c7-de18-49aa-971f-a3aced10c7cd"
      },
      "execution_count": null,
      "outputs": [
        {
          "output_type": "execute_result",
          "data": {
            "text/plain": [
              "3"
            ]
          },
          "metadata": {},
          "execution_count": 59
        }
      ]
    },
    {
      "cell_type": "code",
      "source": [
        "# Modulo Division\n",
        "# %\n",
        "7 % 2 # Remainder"
      ],
      "metadata": {
        "colab": {
          "base_uri": "https://localhost:8080/"
        },
        "id": "KR2TNd3fXHXz",
        "outputId": "10404fdb-3711-4bcd-a8a8-1ca549feaa87"
      },
      "execution_count": null,
      "outputs": [
        {
          "output_type": "execute_result",
          "data": {
            "text/plain": [
              "1"
            ]
          },
          "metadata": {},
          "execution_count": 60
        }
      ]
    },
    {
      "cell_type": "code",
      "source": [
        "9 // 3 # Quotient is 3"
      ],
      "metadata": {
        "colab": {
          "base_uri": "https://localhost:8080/"
        },
        "id": "jcY8m3qbXWJn",
        "outputId": "a2b51605-5ffd-4092-c5e2-35857de2818b"
      },
      "execution_count": null,
      "outputs": [
        {
          "output_type": "execute_result",
          "data": {
            "text/plain": [
              "3"
            ]
          },
          "metadata": {},
          "execution_count": 61
        }
      ]
    },
    {
      "cell_type": "code",
      "source": [
        "9 % 3 # Remainder is 0 , because is 9 is divisible by 3"
      ],
      "metadata": {
        "colab": {
          "base_uri": "https://localhost:8080/"
        },
        "id": "Y2xCshTbXos0",
        "outputId": "a103b4b2-4834-4398-dd4d-84be2fdf3029"
      },
      "execution_count": null,
      "outputs": [
        {
          "output_type": "execute_result",
          "data": {
            "text/plain": [
              "0"
            ]
          },
          "metadata": {},
          "execution_count": 62
        }
      ]
    },
    {
      "cell_type": "code",
      "source": [
        "# PEMDAS\n",
        "2 - 3 + 6"
      ],
      "metadata": {
        "colab": {
          "base_uri": "https://localhost:8080/"
        },
        "id": "p20ASDGLXq3g",
        "outputId": "6d025c5e-5fc3-4f21-dfae-9248fa60de2b"
      },
      "execution_count": null,
      "outputs": [
        {
          "output_type": "execute_result",
          "data": {
            "text/plain": [
              "5"
            ]
          },
          "metadata": {},
          "execution_count": 63
        }
      ]
    },
    {
      "cell_type": "code",
      "source": [
        "2 + 3 - 6"
      ],
      "metadata": {
        "colab": {
          "base_uri": "https://localhost:8080/"
        },
        "id": "0iwqwWKYYwdu",
        "outputId": "e9bdebf1-fde0-4b2b-8e6d-7da1ac7a9acf"
      },
      "execution_count": null,
      "outputs": [
        {
          "output_type": "execute_result",
          "data": {
            "text/plain": [
              "-1"
            ]
          },
          "metadata": {},
          "execution_count": 64
        }
      ]
    },
    {
      "cell_type": "code",
      "source": [
        "# 2 - 3 - 6"
      ],
      "metadata": {
        "colab": {
          "base_uri": "https://localhost:8080/"
        },
        "id": "2NL9OSzBYzOx",
        "outputId": "fba776c5-be8d-40e7-b79b-8727ff98d341"
      },
      "execution_count": null,
      "outputs": [
        {
          "output_type": "execute_result",
          "data": {
            "text/plain": [
              "-7"
            ]
          },
          "metadata": {},
          "execution_count": 65
        }
      ]
    },
    {
      "cell_type": "code",
      "source": [
        "2 + 3 - 6 * 2"
      ],
      "metadata": {
        "colab": {
          "base_uri": "https://localhost:8080/"
        },
        "id": "7Bkbkw97ZdJL",
        "outputId": "ed90d561-e7d3-49c1-a4e9-2775f4587546"
      },
      "execution_count": null,
      "outputs": [
        {
          "output_type": "execute_result",
          "data": {
            "text/plain": [
              "-7"
            ]
          },
          "metadata": {},
          "execution_count": 66
        }
      ]
    },
    {
      "cell_type": "code",
      "source": [
        "2 + 3 / 2 - 6 * 2"
      ],
      "metadata": {
        "colab": {
          "base_uri": "https://localhost:8080/"
        },
        "id": "yP_W8RHRZr9f",
        "outputId": "e9beeff3-fc6f-4be5-c56d-e4d3fbb21f74"
      },
      "execution_count": null,
      "outputs": [
        {
          "output_type": "execute_result",
          "data": {
            "text/plain": [
              "-8.5"
            ]
          },
          "metadata": {},
          "execution_count": 69
        }
      ]
    },
    {
      "cell_type": "code",
      "source": [
        "2 + 3 * 2 - 6 / 2"
      ],
      "metadata": {
        "colab": {
          "base_uri": "https://localhost:8080/"
        },
        "id": "ZJXBQiMWaFCe",
        "outputId": "2630d5dc-633c-4c53-ae05-0defccc9a338"
      },
      "execution_count": null,
      "outputs": [
        {
          "output_type": "execute_result",
          "data": {
            "text/plain": [
              "5.0"
            ]
          },
          "metadata": {},
          "execution_count": 70
        }
      ]
    },
    {
      "cell_type": "code",
      "source": [
        "2 ** 3 + 3 * 2 - 6 / 2"
      ],
      "metadata": {
        "colab": {
          "base_uri": "https://localhost:8080/"
        },
        "id": "-tgsg5O3aHQp",
        "outputId": "383bab3e-dbce-413b-a368-a215176da73b"
      },
      "execution_count": null,
      "outputs": [
        {
          "output_type": "execute_result",
          "data": {
            "text/plain": [
              "11.0"
            ]
          },
          "metadata": {},
          "execution_count": 71
        }
      ]
    },
    {
      "cell_type": "code",
      "source": [
        "# Comparison Operators\n",
        "2 > 3 # False --> Boolean"
      ],
      "metadata": {
        "colab": {
          "base_uri": "https://localhost:8080/"
        },
        "id": "GWzFLBL6bNnL",
        "outputId": "4ce7cb84-88a4-43a4-af32-fc6ab4fe953f"
      },
      "execution_count": null,
      "outputs": [
        {
          "output_type": "execute_result",
          "data": {
            "text/plain": [
              "False"
            ]
          },
          "metadata": {},
          "execution_count": 72
        }
      ]
    },
    {
      "cell_type": "code",
      "source": [
        "2 < 3 # True --> Boolean"
      ],
      "metadata": {
        "colab": {
          "base_uri": "https://localhost:8080/"
        },
        "id": "5A9FfUrMcWoL",
        "outputId": "13fbf332-d6bd-4616-f832-797cca18aae8"
      },
      "execution_count": null,
      "outputs": [
        {
          "output_type": "execute_result",
          "data": {
            "text/plain": [
              "True"
            ]
          },
          "metadata": {},
          "execution_count": 73
        }
      ]
    },
    {
      "cell_type": "code",
      "source": [
        "2 != 3 # Not equal to # True"
      ],
      "metadata": {
        "colab": {
          "base_uri": "https://localhost:8080/"
        },
        "id": "rUYs60Rlcg-J",
        "outputId": "0ee2803c-6f53-4c7a-88fa-524b86bd264e"
      },
      "execution_count": null,
      "outputs": [
        {
          "output_type": "execute_result",
          "data": {
            "text/plain": [
              "True"
            ]
          },
          "metadata": {},
          "execution_count": 74
        }
      ]
    },
    {
      "cell_type": "code",
      "source": [
        "3 != 3 # False"
      ],
      "metadata": {
        "colab": {
          "base_uri": "https://localhost:8080/"
        },
        "id": "igMRwZcSco8D",
        "outputId": "84f537f5-9b8d-4856-9633-f46bc30375f0"
      },
      "execution_count": null,
      "outputs": [
        {
          "output_type": "execute_result",
          "data": {
            "text/plain": [
              "False"
            ]
          },
          "metadata": {},
          "execution_count": 75
        }
      ]
    },
    {
      "cell_type": "code",
      "source": [
        "3 == 3 # 3 is equal to 3 # True"
      ],
      "metadata": {
        "colab": {
          "base_uri": "https://localhost:8080/"
        },
        "id": "M7HoGt70csCo",
        "outputId": "1b005d8b-e7e5-4156-8d30-276def93d875"
      },
      "execution_count": null,
      "outputs": [
        {
          "output_type": "execute_result",
          "data": {
            "text/plain": [
              "True"
            ]
          },
          "metadata": {},
          "execution_count": 76
        }
      ]
    },
    {
      "cell_type": "code",
      "source": [
        "2 == 3 # False"
      ],
      "metadata": {
        "colab": {
          "base_uri": "https://localhost:8080/"
        },
        "id": "q7KfghmJc3o2",
        "outputId": "55d5bf94-802b-48c7-c854-8704d1058f98"
      },
      "execution_count": null,
      "outputs": [
        {
          "output_type": "execute_result",
          "data": {
            "text/plain": [
              "False"
            ]
          },
          "metadata": {},
          "execution_count": 77
        }
      ]
    },
    {
      "cell_type": "code",
      "source": [
        "2 >= 3 # 2 is greater than 3 or equal to 3"
      ],
      "metadata": {
        "colab": {
          "base_uri": "https://localhost:8080/"
        },
        "id": "zUPTTi4xc7ei",
        "outputId": "de3b4bc8-c1b9-46cd-ca4e-ec4ae5395ca5"
      },
      "execution_count": null,
      "outputs": [
        {
          "output_type": "execute_result",
          "data": {
            "text/plain": [
              "False"
            ]
          },
          "metadata": {},
          "execution_count": 78
        }
      ]
    },
    {
      "cell_type": "code",
      "source": [
        "3 >= 3 # 3 is greater than 3 or equal to 3"
      ],
      "metadata": {
        "colab": {
          "base_uri": "https://localhost:8080/"
        },
        "id": "Jlo0XBk3dNhF",
        "outputId": "ae184862-7b17-4c1e-b152-4cfd9f81194a"
      },
      "execution_count": null,
      "outputs": [
        {
          "output_type": "execute_result",
          "data": {
            "text/plain": [
              "True"
            ]
          },
          "metadata": {},
          "execution_count": 79
        }
      ]
    },
    {
      "cell_type": "code",
      "source": [
        "3 <= 3 #  3 is smaller than 3 or equal to 3"
      ],
      "metadata": {
        "colab": {
          "base_uri": "https://localhost:8080/"
        },
        "id": "mSWefvkOdRaj",
        "outputId": "1b019318-9bfb-4aa2-8b0f-6294ba95db46"
      },
      "execution_count": null,
      "outputs": [
        {
          "output_type": "execute_result",
          "data": {
            "text/plain": [
              "True"
            ]
          },
          "metadata": {},
          "execution_count": 80
        }
      ]
    },
    {
      "cell_type": "code",
      "source": [
        "2 <= 3 # True"
      ],
      "metadata": {
        "colab": {
          "base_uri": "https://localhost:8080/"
        },
        "id": "Ob4tze7odedy",
        "outputId": "0a055db8-1a54-4e9e-be2a-be88fa9fe7ae"
      },
      "execution_count": null,
      "outputs": [
        {
          "output_type": "execute_result",
          "data": {
            "text/plain": [
              "True"
            ]
          },
          "metadata": {},
          "execution_count": 81
        }
      ]
    },
    {
      "cell_type": "code",
      "source": [
        "2 < 3.2"
      ],
      "metadata": {
        "colab": {
          "base_uri": "https://localhost:8080/"
        },
        "id": "ipxBbneSdgsY",
        "outputId": "36403730-37d6-4f94-e9fe-be260fdb46ec"
      },
      "execution_count": null,
      "outputs": [
        {
          "output_type": "execute_result",
          "data": {
            "text/plain": [
              "True"
            ]
          },
          "metadata": {},
          "execution_count": 82
        }
      ]
    },
    {
      "cell_type": "code",
      "source": [
        "# Boolean : True and False\n",
        "# Arithmetic , Comparison operator, by default True : 1 & False : 0\n",
        "2 * True # True : 1"
      ],
      "metadata": {
        "colab": {
          "base_uri": "https://localhost:8080/"
        },
        "id": "AKPt8uEidqV1",
        "outputId": "1f16329a-cbb2-43e2-f8d5-aecd96217183"
      },
      "execution_count": null,
      "outputs": [
        {
          "output_type": "execute_result",
          "data": {
            "text/plain": [
              "2"
            ]
          },
          "metadata": {},
          "execution_count": 83
        }
      ]
    },
    {
      "cell_type": "code",
      "source": [
        "2 * False # False : 0"
      ],
      "metadata": {
        "colab": {
          "base_uri": "https://localhost:8080/"
        },
        "id": "vt8bv3Bud77y",
        "outputId": "635dd67b-a295-4aee-ef74-c40d6a0a04f3"
      },
      "execution_count": null,
      "outputs": [
        {
          "output_type": "execute_result",
          "data": {
            "text/plain": [
              "0"
            ]
          },
          "metadata": {},
          "execution_count": 84
        }
      ]
    },
    {
      "cell_type": "code",
      "source": [
        "2 / False # ZeroDivisionError: division by zero"
      ],
      "metadata": {
        "colab": {
          "base_uri": "https://localhost:8080/",
          "height": 176
        },
        "id": "Q02ZyU4Bd_uN",
        "outputId": "4b7de908-40f1-4ad1-804f-4b3d50bfe64c"
      },
      "execution_count": null,
      "outputs": [
        {
          "output_type": "error",
          "ename": "ZeroDivisionError",
          "evalue": "division by zero",
          "traceback": [
            "\u001b[0;31m---------------------------------------------------------------------------\u001b[0m",
            "\u001b[0;31mZeroDivisionError\u001b[0m                         Traceback (most recent call last)",
            "\u001b[0;32m<ipython-input-85-5798a2f7e4b2>\u001b[0m in \u001b[0;36m<cell line: 1>\u001b[0;34m()\u001b[0m\n\u001b[0;32m----> 1\u001b[0;31m \u001b[0;36m2\u001b[0m\u001b[0;34m/\u001b[0m \u001b[0;32mFalse\u001b[0m \u001b[0;31m#\u001b[0m\u001b[0;34m\u001b[0m\u001b[0;34m\u001b[0m\u001b[0m\n\u001b[0m",
            "\u001b[0;31mZeroDivisionError\u001b[0m: division by zero"
          ]
        }
      ]
    },
    {
      "cell_type": "code",
      "source": [
        "2 > True  # Similar to 2 > 1"
      ],
      "metadata": {
        "colab": {
          "base_uri": "https://localhost:8080/"
        },
        "id": "1mdT0IxyeCxW",
        "outputId": "ec695abb-37e1-4b16-cbcf-08f229346d40"
      },
      "execution_count": null,
      "outputs": [
        {
          "output_type": "execute_result",
          "data": {
            "text/plain": [
              "True"
            ]
          },
          "metadata": {},
          "execution_count": 87
        }
      ]
    },
    {
      "cell_type": "code",
      "source": [
        "# Variable\n",
        "\n",
        "x = 2 # Assignment operator : I am assigning 2 to x\n",
        "\n",
        "y = 3\n",
        "\n",
        "z = x * y # x & y represent it's value\n"
      ],
      "metadata": {
        "id": "7BGC-dHdeO7W"
      },
      "execution_count": null,
      "outputs": []
    },
    {
      "cell_type": "code",
      "source": [
        "print(z)"
      ],
      "metadata": {
        "colab": {
          "base_uri": "https://localhost:8080/"
        },
        "id": "W7EKl0LwfQuB",
        "outputId": "ed11cb2c-e669-46ed-ae46-9f922b25663f"
      },
      "execution_count": null,
      "outputs": [
        {
          "output_type": "stream",
          "name": "stdout",
          "text": [
            "6\n"
          ]
        }
      ]
    },
    {
      "cell_type": "code",
      "source": [
        "x = 2\n",
        "y = 3\n",
        "y = 5"
      ],
      "metadata": {
        "id": "_aTSKf-efqIl"
      },
      "execution_count": null,
      "outputs": []
    },
    {
      "cell_type": "code",
      "source": [
        "x + y"
      ],
      "metadata": {
        "colab": {
          "base_uri": "https://localhost:8080/"
        },
        "id": "Spk2CMPzgVo2",
        "outputId": "ff63b8b7-1219-4de5-89ec-ccf382734612"
      },
      "execution_count": null,
      "outputs": [
        {
          "output_type": "execute_result",
          "data": {
            "text/plain": [
              "7"
            ]
          },
          "metadata": {},
          "execution_count": 96
        }
      ]
    },
    {
      "cell_type": "code",
      "source": [
        "# variable will represent it's data\n",
        "w = 0 # Assign something to intialise the variable, machine to allocate memory\n",
        "w"
      ],
      "metadata": {
        "colab": {
          "base_uri": "https://localhost:8080/"
        },
        "id": "N2LH4vFVgZO3",
        "outputId": "0e171eb8-3d62-4f94-ca00-5383f253eb03"
      },
      "execution_count": null,
      "outputs": [
        {
          "output_type": "execute_result",
          "data": {
            "text/plain": [
              "0"
            ]
          },
          "metadata": {},
          "execution_count": 99
        }
      ]
    },
    {
      "cell_type": "code",
      "source": [
        "# 'w' --> String\n",
        "#  w --> Variable , no quotes"
      ],
      "metadata": {
        "id": "8z1z1Sxchdrk"
      },
      "execution_count": null,
      "outputs": []
    },
    {
      "cell_type": "code",
      "source": [
        "Almabetter = 'Institute'\n",
        "hello = 'hello world'\n",
        "print(hello)\n",
        "print(Almabetter)"
      ],
      "metadata": {
        "colab": {
          "base_uri": "https://localhost:8080/"
        },
        "id": "FVUIO8UQiDES",
        "outputId": "a2e13832-30f8-4b33-d853-e11f88677a3a"
      },
      "execution_count": null,
      "outputs": [
        {
          "output_type": "stream",
          "name": "stdout",
          "text": [
            "hello world\n",
            "Institute\n"
          ]
        }
      ]
    },
    {
      "cell_type": "code",
      "source": [
        "# Rules to create variable\n",
        "# 1. Variables are case sensitive (Upper or lower) : x & X are different, Ex vs ex :: different\n",
        "# 2. numbers or symbols --> !@ (prefix and suffix) but  number you can use as suffix, but not as prefix but underscore ( _ )is allowed as prefix and suffix\n",
        "# 3. Can't use space --> Use _ to club the words\n",
        "# 4. Restricted words (33) --> if, for, while, # https://realpython.com/lessons/reserved-keywords/\n",
        "# 5. Warning: Be cautious while name your variable as In built function or any methods"
      ],
      "metadata": {
        "id": "uHpFe0z_iHqk"
      },
      "execution_count": null,
      "outputs": []
    },
    {
      "cell_type": "code",
      "source": [
        "# 1x # 1 is prefix of x --> Not allowed\n",
        "# x1 # 1 is suffix of x --> Allowed"
      ],
      "metadata": {
        "id": "oS8wM9zrlXj0"
      },
      "execution_count": null,
      "outputs": []
    },
    {
      "cell_type": "code",
      "source": [
        "x = 5\n",
        "print(x)"
      ],
      "metadata": {
        "colab": {
          "base_uri": "https://localhost:8080/"
        },
        "id": "a1LWw6n2jGHM",
        "outputId": "aad5200f-61da-470b-b247-356a78f9cc09"
      },
      "execution_count": null,
      "outputs": [
        {
          "output_type": "stream",
          "name": "stdout",
          "text": [
            "5\n"
          ]
        }
      ]
    },
    {
      "cell_type": "code",
      "source": [
        "_x = 5"
      ],
      "metadata": {
        "id": "k70XZczMjYBX"
      },
      "execution_count": null,
      "outputs": []
    },
    {
      "cell_type": "code",
      "source": [
        "xy = 2"
      ],
      "metadata": {
        "id": "SuJPj_pOjen2"
      },
      "execution_count": null,
      "outputs": []
    },
    {
      "cell_type": "code",
      "source": [
        "print('hello world')"
      ],
      "metadata": {
        "colab": {
          "base_uri": "https://localhost:8080/"
        },
        "id": "EracJ5Zlj2Kv",
        "outputId": "80fde348-b8a5-4422-9225-bbb7ad86a7e1"
      },
      "execution_count": null,
      "outputs": [
        {
          "output_type": "stream",
          "name": "stdout",
          "text": [
            "hello world\n"
          ]
        }
      ]
    },
    {
      "cell_type": "code",
      "source": [
        "print = 5"
      ],
      "metadata": {
        "id": "kCWZgTDHkdcM"
      },
      "execution_count": null,
      "outputs": []
    },
    {
      "cell_type": "code",
      "source": [
        "print('hello world')"
      ],
      "metadata": {
        "colab": {
          "base_uri": "https://localhost:8080/",
          "height": 176
        },
        "id": "c6nVRlQDkfHO",
        "outputId": "7e804cc2-c4f0-4108-cb4d-48e5e8d87980"
      },
      "execution_count": null,
      "outputs": [
        {
          "output_type": "error",
          "ename": "TypeError",
          "evalue": "'int' object is not callable",
          "traceback": [
            "\u001b[0;31m---------------------------------------------------------------------------\u001b[0m",
            "\u001b[0;31mTypeError\u001b[0m                                 Traceback (most recent call last)",
            "\u001b[0;32m<ipython-input-113-66eb98f8e52a>\u001b[0m in \u001b[0;36m<cell line: 1>\u001b[0;34m()\u001b[0m\n\u001b[0;32m----> 1\u001b[0;31m \u001b[0mprint\u001b[0m\u001b[0;34m(\u001b[0m\u001b[0;34m'hello world'\u001b[0m\u001b[0;34m)\u001b[0m\u001b[0;34m\u001b[0m\u001b[0;34m\u001b[0m\u001b[0m\n\u001b[0m",
            "\u001b[0;31mTypeError\u001b[0m: 'int' object is not callable"
          ]
        }
      ]
    },
    {
      "cell_type": "code",
      "source": [
        "del print # Delete the variable : print"
      ],
      "metadata": {
        "id": "5fg0uYaYkii_"
      },
      "execution_count": null,
      "outputs": []
    },
    {
      "cell_type": "code",
      "source": [
        "print('hello world') # Now print has become function again"
      ],
      "metadata": {
        "colab": {
          "base_uri": "https://localhost:8080/"
        },
        "id": "t8NDiXd_k2Ej",
        "outputId": "ba86a4ac-d688-4d18-fb8a-8e151310bddd"
      },
      "execution_count": null,
      "outputs": [
        {
          "output_type": "stream",
          "name": "stdout",
          "text": [
            "hello world\n"
          ]
        }
      ]
    },
    {
      "cell_type": "code",
      "source": [],
      "metadata": {
        "id": "0YQyfKEwk5Ae"
      },
      "execution_count": null,
      "outputs": []
    }
  ]
}