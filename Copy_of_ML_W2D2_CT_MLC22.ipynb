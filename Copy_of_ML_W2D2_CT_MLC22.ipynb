{
  "nbformat": 4,
  "nbformat_minor": 0,
  "metadata": {
    "colab": {
      "provenance": [],
      "include_colab_link": true
    },
    "kernelspec": {
      "name": "python3",
      "display_name": "Python 3"
    },
    "language_info": {
      "name": "python"
    }
  },
  "cells": [
    {
      "cell_type": "markdown",
      "metadata": {
        "id": "view-in-github",
        "colab_type": "text"
      },
      "source": [
        "<a href=\"https://colab.research.google.com/github/LokeCoder11/KnowledgeReference/blob/main/Copy_of_ML_W2D2_CT_MLC22.ipynb\" target=\"_parent\"><img src=\"https://colab.research.google.com/assets/colab-badge.svg\" alt=\"Open In Colab\"/></a>"
      ]
    },
    {
      "cell_type": "markdown",
      "source": [
        "You're given a dataset, 'customer_churn_dataset.csv', containing information on call duration, monthly charges, account length, and customer churn status. Using this dataset,Apply SV and RFC algorithms with cross validation"
      ],
      "metadata": {
        "id": "hvEiyyvv7jkh"
      }
    },
    {
      "cell_type": "code",
      "execution_count": null,
      "metadata": {
        "id": "Pu_-Xqo_0i1N",
        "colab": {
          "base_uri": "https://localhost:8080/"
        },
        "outputId": "30d39347-2a18-447d-a811-98468aae8c36"
      },
      "outputs": [
        {
          "output_type": "stream",
          "name": "stdout",
          "text": [
            "Cross-Validation Scores: [0.86516854 0.86142322 0.86142322 0.85393258 0.85393258 0.8576779\n",
            " 0.85714286 0.87969925 0.84962406 0.86466165]\n",
            "Average Score: 0.8604685871983329\n",
            "Cross-Validation Scores: [0.84269663 0.83895131 0.84644195 0.86516854 0.82771536 0.85018727\n",
            " 0.83834586 0.87218045 0.82706767 0.86842105]\n",
            "Average Score: 0.8477176086283125\n"
          ]
        }
      ],
      "source": [
        "from sklearn.svm import SVC\n",
        "from sklearn.model_selection import cross_val_score\n",
        "import pandas as pd\n",
        "from sklearn.ensemble import RandomForestClassifier\n",
        "from sklearn.model_selection import train_test_split\n",
        "from sklearn.metrics import mean_squared_error, mean_absolute_error\n",
        "\n",
        "# Load the dataset into a pandas DataFrame\n",
        "data = pd.read_csv('/content/sample_data/customer_churn_dataset.csv')\n",
        "\n",
        "# Separate the features (call duration, monthly charges, customer tenure) and the target variable (churn)\n",
        "X = data[['Total day minutes', 'Total day charge', 'Account length']]\n",
        "y = data['Churn']\n",
        "\n",
        "\n",
        "# Initialize an SVC classifier\n",
        "model_svc = SVC()\n",
        "\n",
        "# Perform 10-fold cross-validation\n",
        "scores = cross_val_score(model_svc, X, y, cv=10)\n",
        "\n",
        "# Print the cross-validation scores\n",
        "print(\"Cross-Validation Scores:\", scores)\n",
        "print(\"Average Score:\", scores.mean())\n",
        "\n",
        "\n",
        "# Initialize a RF classifier\n",
        "model1 = RandomForestClassifier()\n",
        "\n",
        "# Perform 10-fold cross-validation\n",
        "scores1 = cross_val_score(model1, X, y, cv=10)\n",
        "\n",
        "# Print the cross-validation scores\n",
        "print(\"Cross-Validation Scores:\", scores1)\n",
        "print(\"Average Score:\", scores1.mean())"
      ]
    }
  ]
}