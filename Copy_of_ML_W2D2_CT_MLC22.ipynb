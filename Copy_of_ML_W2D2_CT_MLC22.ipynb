{
  "nbformat": 4,
  "nbformat_minor": 0,
  "metadata": {
    "colab": {
      "provenance": [],
      "include_colab_link": true
    },
    "kernelspec": {
      "name": "python3",
      "display_name": "Python 3"
    },
    "language_info": {
      "name": "python"
    }
  },
  "cells": [
    {
      "cell_type": "markdown",
      "metadata": {
        "id": "view-in-github",
        "colab_type": "text"
      },
      "source": [
        "<a href=\"https://colab.research.google.com/github/LokeCoder11/KnowledgeReference/blob/main/Copy_of_ML_W2D2_CT_MLC22.ipynb\" target=\"_parent\"><img src=\"https://colab.research.google.com/assets/colab-badge.svg\" alt=\"Open In Colab\"/></a>"
      ]
    },
    {
      "cell_type": "markdown",
      "source": [
        "You're given a dataset, 'customer_churn_dataset.csv', containing information on call duration, monthly charges, account length, and customer churn status. Using this dataset,Apply SV and RFC algorithms with cross validation"
      ],
      "metadata": {
        "id": "hvEiyyvv7jkh"
      }
    },
    {
      "cell_type": "code",
      "execution_count": null,
      "metadata": {
        "id": "Pu_-Xqo_0i1N"
      },
      "outputs": [],
      "source": [
        "from sklearn.svm import SVC\n",
        "from sklearn.model_selection import cross_val_score\n",
        "import pandas as pd\n",
        "from sklearn.ensemble import RandomForestClassifier\n",
        "from sklearn.model_selection import train_test_split\n",
        "from sklearn.metrics import mean_squared_error, mean_absolute_error\n",
        "\n",
        "# Load the dataset into a pandas DataFrame\n",
        "data = pd.read_csv('/content/customer_churn_dataset.csv')\n",
        "\n",
        "# Separate the features (call duration, monthly charges, customer tenure) and the target variable (churn)\n",
        "X = data[['Total day minutes', 'Total day charge', 'Account length']]\n",
        "y = data['Churn']\n",
        "\n",
        "\n",
        "# Initialize an SVC classifier\n",
        "model_svc = SVC()\n",
        "\n",
        "# Perform 10-fold cross-validation\n",
        "scores = cross_val_score(model_svc, X, y, cv=10)\n",
        "\n",
        "# Print the cross-validation scores\n",
        "print(\"Cross-Validation Scores:\", scores)\n",
        "print(\"Average Score:\", scores.mean())\n",
        "\n",
        "\n",
        "# Initialize a RF classifier\n",
        "model1 = RandomForestClassifier()\n",
        "\n",
        "# Perform 10-fold cross-validation\n",
        "scores1 = cross_val_score(model1, X, y, cv=10)\n",
        "\n",
        "# Print the cross-validation scores\n",
        "print(\"Cross-Validation Scores:\", scores1)\n",
        "print(\"Average Score:\", scores1.mean())"
      ]
    }
  ]
}