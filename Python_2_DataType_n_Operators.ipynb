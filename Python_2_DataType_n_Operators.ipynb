{
  "nbformat": 4,
  "nbformat_minor": 0,
  "metadata": {
    "colab": {
      "provenance": [],
      "toc_visible": true,
      "authorship_tag": "ABX9TyM8OdO1yR7n5ldnnCSaUsBz",
      "include_colab_link": true
    },
    "kernelspec": {
      "name": "python3",
      "display_name": "Python 3"
    },
    "language_info": {
      "name": "python"
    }
  },
  "cells": [
    {
      "cell_type": "markdown",
      "metadata": {
        "id": "view-in-github",
        "colab_type": "text"
      },
      "source": [
        "<a href=\"https://colab.research.google.com/github/LokeCoder11/KnowledgeReference/blob/main/Python_2_DataType_n_Operators.ipynb\" target=\"_parent\"><img src=\"https://colab.research.google.com/assets/colab-badge.svg\" alt=\"Open In Colab\"/></a>"
      ]
    },
    {
      "cell_type": "markdown",
      "source": [
        "# Revision of previous class on 12th Feb on Indexing and Slicing"
      ],
      "metadata": {
        "id": "ExkVMFu0u9wb"
      }
    },
    {
      "cell_type": "code",
      "execution_count": null,
      "metadata": {
        "id": "PftJ5SD2XOug"
      },
      "outputs": [],
      "source": [
        "\n",
        "\n",
        "# Nested = []\n",
        "# Nested List - [2, [3,4]]\n",
        "# Nested Tuple possible - (1,2,(3,4))\n",
        "# Can't have Nested String and Dictionary (but can use index on List inside Dictionary)\n",
        "ex={'name':'Alok', 'marks':[1,2,3]}"
      ]
    },
    {
      "cell_type": "code",
      "source": [
        "ex['marks'][-1] #to extract 3 (ex is dictionary but 'Value' under 'key' name is\n",
        "# String so it will follow characteristics of string )"
      ],
      "metadata": {
        "colab": {
          "base_uri": "https://localhost:8080/"
        },
        "id": "FoN27TBYf4ii",
        "outputId": "d9c2b6d1-ecba-44bb-b051-875a3d011143"
      },
      "execution_count": null,
      "outputs": [
        {
          "output_type": "execute_result",
          "data": {
            "text/plain": [
              "3"
            ]
          },
          "metadata": {},
          "execution_count": 12
        }
      ]
    },
    {
      "cell_type": "code",
      "source": [
        "nest_tup=(1,2,(3,4))\n",
        "nest_tup[2][-1] #extracting 4 from nested tuple"
      ],
      "metadata": {
        "colab": {
          "base_uri": "https://localhost:8080/"
        },
        "id": "rIL7z3cUgZjZ",
        "outputId": "2c5d80ff-5aef-4dd5-af80-ca291e685fde"
      },
      "execution_count": null,
      "outputs": [
        {
          "output_type": "execute_result",
          "data": {
            "text/plain": [
              "4"
            ]
          },
          "metadata": {},
          "execution_count": 18
        }
      ]
    },
    {
      "cell_type": "code",
      "source": [
        "#As Dictionary 'Key'\n",
        "# Can have - Int, float, String, Tuple - {1:2, 1.2:4, 'a':2, (3,4):'Alma'}\n",
        "# List, Dict, Set - Can't have Keys in Dict -\n",
        "\n",
        "# List, Dict, Set - BUT can have as 'Value'\n",
        "# But if nested set as value, then can't extract data\n",
        "ex={'skill':{'py':['indexing','datatype'], 'sql':['query','CRUD']}}\n",
        "ex['skill']['sql'][-1] #used key + key + index to reach 'CRUD'b"
      ],
      "metadata": {
        "colab": {
          "base_uri": "https://localhost:8080/",
          "height": 36
        },
        "id": "Mg6X9cSUg-4h",
        "outputId": "2bd13862-ba33-47bf-d41b-b7c4ac5f5490"
      },
      "execution_count": null,
      "outputs": [
        {
          "output_type": "execute_result",
          "data": {
            "text/plain": [
              "'CRUD'"
            ],
            "application/vnd.google.colaboratory.intrinsic+json": {
              "type": "string"
            }
          },
          "metadata": {},
          "execution_count": 20
        }
      ]
    },
    {
      "cell_type": "code",
      "source": [
        "# Slicing = get collection of elements (so must have\n",
        "# 1.'position of start pt'\n",
        "# 2. 'position of end pt + 1' &\n",
        "# 3.  steps size + direction -\n",
        "  # a. step size = jump ,\n",
        "  # b. (+) or (-) --> direction\n",
        "\n",
        "#  [:]  --> indicates 'slicing\n",
        "\n",
        "# purpose of slicing -\n",
        "# a. extracting data\n",
        "# b. CHANING THE DATA - ONLY FOR LIST (not String or Tuple as then are immutable)\n",
        "\n",
        "first_list=[1,2,3,4]\n",
        "first_list[1:3]=[34,53] #changed list's data\n",
        "first_list\n",
        "\n",
        "# Slicing always print till end of original data --> except when use -ve indexing\n",
        "\n",
        "# When using -ve index for start and want to go till end -->(leave end position-BLANK) ex=[-2 : ]\n",
        "\n",
        "# To find palindrome\n",
        "# ex =input()\n",
        "# ex == ex[ : : -1] #this would indicate word same in reverse"
      ],
      "metadata": {
        "colab": {
          "base_uri": "https://localhost:8080/"
        },
        "id": "oF34juvUkDLZ",
        "outputId": "c0495342-c582-40ef-a334-31acc20e1158"
      },
      "execution_count": null,
      "outputs": [
        {
          "output_type": "execute_result",
          "data": {
            "text/plain": [
              "[1, 34, 53, 4]"
            ]
          },
          "metadata": {},
          "execution_count": 23
        }
      ]
    },
    {
      "cell_type": "markdown",
      "source": [],
      "metadata": {
        "id": "vHA6AYfRvBW_"
      }
    },
    {
      "cell_type": "markdown",
      "source": [
        "#Operators for each Data types - 14th Feb\n",
        "\n",
        "1. Data Types are NOUNS - float, int, list, tuple, string, set, dictionary\n",
        "2. Operators are VERBS -\n",
        "  1. Arithmetic O, (can only use:\n",
        "    1. (+) & (*) on all 'ORDERED' data type & Boolean ie. string, list, tuple, (SO CAN'T USE ON DICT & SET)\n",
        "    2. (-) treated as Set Operator as Difference and not Arithmetic O. (so can't be applied on tuple, list, string, dictionary )\n",
        "  2. Comparison O - ==, !=, <,>\n",
        "  3. Assignment O -   =\n",
        "  4. Logical O - And, or, not\n",
        "  5. Membership O. - in, not in\n",
        "  6. Set O. - &, | , -\n",
        "  7. Identity O - (needed during shallow copy & deep copy)\n",
        "  8. Bitwise Operator (Python Dev & Data Scientist don't need)"
      ],
      "metadata": {
        "id": "ocxuvOfOvI00"
      }
    },
    {
      "cell_type": "code",
      "source": [
        "#Arithmetic O. can be applied on Boolean as well\n",
        "print(10 *False)\n",
        "print(10*True)\n",
        "print(10+False)\n",
        "print(10+True)"
      ],
      "metadata": {
        "colab": {
          "base_uri": "https://localhost:8080/"
        },
        "id": "bR9v3Gl1vOAw",
        "outputId": "83a797f5-3419-485d-ea1d-c303f998a31f"
      },
      "execution_count": null,
      "outputs": [
        {
          "output_type": "stream",
          "name": "stdout",
          "text": [
            "0\n",
            "10\n",
            "10\n",
            "11\n"
          ]
        }
      ]
    },
    {
      "cell_type": "markdown",
      "source": [
        "(+) USE"
      ],
      "metadata": {
        "id": "FWmKvZ2p1dv5"
      }
    },
    {
      "cell_type": "code",
      "source": [
        "#Arithmetic O. + can be applied on string & list & tuple to 'Concatenate'\n",
        "ex1=[1,2]\n",
        "ex2=[3, 4]\n",
        "ex1+ex2 #same use in tuple. Can use Arithmetic ONLY SAME DATA TYPE.\n",
        "# NOT use + int --> +2 with list or tuple or string"
      ],
      "metadata": {
        "colab": {
          "base_uri": "https://localhost:8080/"
        },
        "id": "vXklX_W3yXXn",
        "outputId": "0517aa57-1802-42f2-883d-550eaa598085"
      },
      "execution_count": null,
      "outputs": [
        {
          "output_type": "execute_result",
          "data": {
            "text/plain": [
              "[1, 2, 3, 4]"
            ]
          },
          "metadata": {},
          "execution_count": 29
        }
      ]
    },
    {
      "cell_type": "code",
      "source": [
        "ex_2='string1'\n",
        "ex_2 + 1"
      ],
      "metadata": {
        "colab": {
          "base_uri": "https://localhost:8080/",
          "height": 165
        },
        "id": "ugHnEy2yzknM",
        "outputId": "ffd89b09-7c22-42ea-a951-5eb9defb6db2"
      },
      "execution_count": null,
      "outputs": [
        {
          "output_type": "error",
          "ename": "TypeError",
          "evalue": "can only concatenate str (not \"int\") to str",
          "traceback": [
            "\u001b[0;31m---------------------------------------------------------------------------\u001b[0m",
            "\u001b[0;31mTypeError\u001b[0m                                 Traceback (most recent call last)",
            "\u001b[0;32m<ipython-input-30-490eb382261f>\u001b[0m in \u001b[0;36m<cell line: 2>\u001b[0;34m()\u001b[0m\n\u001b[1;32m      1\u001b[0m \u001b[0mex_2\u001b[0m\u001b[0;34m=\u001b[0m\u001b[0;34m'string1'\u001b[0m\u001b[0;34m\u001b[0m\u001b[0;34m\u001b[0m\u001b[0m\n\u001b[0;32m----> 2\u001b[0;31m \u001b[0mex_2\u001b[0m\u001b[0;34m+\u001b[0m\u001b[0;36m1\u001b[0m\u001b[0;34m\u001b[0m\u001b[0;34m\u001b[0m\u001b[0m\n\u001b[0m",
            "\u001b[0;31mTypeError\u001b[0m: can only concatenate str (not \"int\") to str"
          ]
        }
      ]
    },
    {
      "cell_type": "code",
      "source": [
        "#Can't use + on SETS Data type --> it uses own operator ie. &, | , -\n",
        "#Can't use + on DICTIONARY Data type"
      ],
      "metadata": {
        "id": "95Hnm5jB0Ln3"
      },
      "execution_count": null,
      "outputs": []
    },
    {
      "cell_type": "markdown",
      "source": [
        "# (*) USE - doesn't work with\n",
        "1. set (anyways set dosn't support duplicate value)\n",
        "2. dictionary (since dict can't have duplicate keys)"
      ],
      "metadata": {
        "id": "NNLjcaJk1wtR"
      }
    },
    {
      "cell_type": "code",
      "source": [
        "# STRING\n",
        "ex='hello'\n",
        "ex*2 #repetition - Multiply only by 'positive int' not float like *2.5 only to repeat total string output"
      ],
      "metadata": {
        "colab": {
          "base_uri": "https://localhost:8080/",
          "height": 36
        },
        "id": "h8KBAhiJ1wWr",
        "outputId": "a557d7d5-b2b1-41cf-9f51-384a9038a01f"
      },
      "execution_count": null,
      "outputs": [
        {
          "output_type": "execute_result",
          "data": {
            "text/plain": [
              "'hellohello'"
            ],
            "application/vnd.google.colaboratory.intrinsic+json": {
              "type": "string"
            }
          },
          "metadata": {},
          "execution_count": 32
        }
      ]
    },
    {
      "cell_type": "code",
      "source": [
        "# List\n",
        "ex=[1,2,3]\n",
        "print(ex*2) #repetition\n",
        "ex2=[[3,4],[2,3]]\n",
        "print(ex2*2) #repetition nested list"
      ],
      "metadata": {
        "colab": {
          "base_uri": "https://localhost:8080/"
        },
        "id": "UC4GU5LU2qNx",
        "outputId": "a6496559-d9df-44c6-a75f-31ba1be14467"
      },
      "execution_count": null,
      "outputs": [
        {
          "output_type": "stream",
          "name": "stdout",
          "text": [
            "[1, 2, 3, 1, 2, 3]\n",
            "[[3, 4], [2, 3], [3, 4], [2, 3]]\n"
          ]
        }
      ]
    },
    {
      "cell_type": "code",
      "source": [
        "# Tuple\n",
        "ex=(1,2,30)\n",
        "ex*2 #repetition"
      ],
      "metadata": {
        "colab": {
          "base_uri": "https://localhost:8080/"
        },
        "id": "SONUJx4X3DOb",
        "outputId": "47900cfb-9e5f-4e58-8151-05b9d142da7a"
      },
      "execution_count": null,
      "outputs": [
        {
          "output_type": "execute_result",
          "data": {
            "text/plain": [
              "(1, 2, 30, 1, 2, 30)"
            ]
          },
          "metadata": {},
          "execution_count": 34
        }
      ]
    },
    {
      "cell_type": "markdown",
      "source": [
        "# Comparison O - ==, !=, <,> etc. give BOOLEAN OUTPUT\n",
        "1. == , != USED ALL DATA TYPE\n",
        "2. Rest Comparison Operators like <=, >= etc  not applicable for other data type - list, tuple, set, dict (except int), it not give error but no usable interpretation\n",
        "3. For Unordered data type - set and dictionary - {1,2,3} == {3,2,1} & {'a':1, 'b'=2}=={'b'=2, 'a':1}"
      ],
      "metadata": {
        "id": "PDyW0h-h6AwB"
      }
    },
    {
      "cell_type": "markdown",
      "source": [
        "# LOGICAL OPERATOR - & , or, not (to decide flow of action based Boolean Output -\n",
        "1. Both argument fullfil --> Only- True+True = True\n",
        "2. Any 1 argument needs to be fulfilled -->True\n",
        "3. Not (get opposite Output) - to get BIGGER /LONG DATA PIECE, easy to write - Opposite of SMALLER DATA PIECE - COMPARISON ALWAYS WRITE FAST BY USING --> NOT WITH 'LESS NUMBER OF DATA PIECES'\n",
        "\n",
        "#Sequence of execution (when muliple Operators) - NAO\n",
        "1. 1st Not\n",
        "2. 2nd And\n",
        "3. 3rd Or"
      ],
      "metadata": {
        "id": "Vd4HxZupF1nY"
      }
    },
    {
      "cell_type": "code",
      "source": [
        "#not logical operator\n",
        "x=[1,2,3]\n",
        "print (2 in x)\n",
        "print(not(2 in x))"
      ],
      "metadata": {
        "colab": {
          "base_uri": "https://localhost:8080/"
        },
        "id": "CevmHjF4LYuq",
        "outputId": "83b7e131-2ef4-4a50-ed57-6418db4d0292"
      },
      "execution_count": null,
      "outputs": [
        {
          "output_type": "stream",
          "name": "stdout",
          "text": [
            "True\n",
            "False\n"
          ]
        }
      ]
    },
    {
      "cell_type": "code",
      "source": [
        "#sequence of operation: (NAO like PAMDAS sounds similar to PANDAS )\n",
        "x=5\n",
        "y=9\n",
        "z=8\n",
        "\n",
        "(x<y) or (x!= y) and not ( x < y)"
      ],
      "metadata": {
        "colab": {
          "base_uri": "https://localhost:8080/"
        },
        "id": "IshI5z7VNXCc",
        "outputId": "05523719-1a0d-4a57-e874-d27f9f7708b9"
      },
      "execution_count": null,
      "outputs": [
        {
          "output_type": "execute_result",
          "data": {
            "text/plain": [
              "True"
            ]
          },
          "metadata": {},
          "execution_count": 37
        }
      ]
    },
    {
      "cell_type": "markdown",
      "source": [
        "#MEMBERSHIP OPERATOR - 'IN' & 'NOT IN' ::  output Boolean\n",
        "##Only apply to:\n",
        "1. String\n",
        "2. List\n",
        "3. Tuple\n",
        "4. Set\n",
        "5. Dict"
      ],
      "metadata": {
        "id": "gQHUZnHJOf8f"
      }
    },
    {
      "cell_type": "code",
      "source": [
        "# 'string'\n",
        "ex='hello world'\n",
        "print('wo' in ex)\n",
        "print('ow' in ex) #order should match"
      ],
      "metadata": {
        "colab": {
          "base_uri": "https://localhost:8080/"
        },
        "id": "DYaxBk42OTjM",
        "outputId": "85040307-4b57-411c-a244-63d0d8a0f1e0"
      },
      "execution_count": null,
      "outputs": [
        {
          "output_type": "stream",
          "name": "stdout",
          "text": [
            "True\n",
            "False\n"
          ]
        }
      ]
    },
    {
      "cell_type": "code",
      "source": [
        "# 'list'- find if 'object' is member 'in' list.\n",
        "ex=[1,2,3,4, [8,3]]\n",
        "print(1 in ex)\n",
        "print((1, 2) in ex)\n",
        "print([8,3] in ex)\n",
        "print(1, 2 in ex)\n",
        "print(2, 1 in ex)\n",
        "print(8 in ex[-1]) #order should match"
      ],
      "metadata": {
        "colab": {
          "base_uri": "https://localhost:8080/"
        },
        "id": "NwGmsLmKQ2bc",
        "outputId": "c737b4f3-60bc-4f29-eb68-1db23befb5fb"
      },
      "execution_count": null,
      "outputs": [
        {
          "output_type": "stream",
          "name": "stdout",
          "text": [
            "True\n",
            "False\n",
            "True\n",
            "1 True\n",
            "2 True\n",
            "True\n"
          ]
        }
      ]
    },
    {
      "cell_type": "code",
      "source": [
        "# 'tuple'- find if 'object' is member 'in' tuple --> just like LIST\n",
        "ex=(1,2,3,4,[8,3])\n",
        "print(1 in ex)\n",
        "print((1, 2) in ex)\n",
        "print([8,3] in ex)\n",
        "print(1, 2 in ex)\n",
        "print(2, 1 in ex)\n",
        "print(8 in ex[-1]) #order should match"
      ],
      "metadata": {
        "colab": {
          "base_uri": "https://localhost:8080/"
        },
        "outputId": "1f628af3-2fdb-4dd2-8a68-544cb0f5d1f5",
        "id": "DQ60EPlQOSo1"
      },
      "execution_count": null,
      "outputs": [
        {
          "output_type": "stream",
          "name": "stdout",
          "text": [
            "True\n",
            "False\n",
            "True\n",
            "1 True\n",
            "2 True\n",
            "True\n"
          ]
        }
      ]
    },
    {
      "cell_type": "code",
      "source": [
        "# 'set'- find if 'object' is member 'in' SET , can't have list but can have nested tuple inside as object.\n",
        "ex={1,2,3,4,(1,2)}\n",
        "print(1 in ex)\n",
        "print((1, 2) in ex)\n",
        "print(1, 2 in ex)\n",
        "print(2, 1 in ex)"
      ],
      "metadata": {
        "colab": {
          "base_uri": "https://localhost:8080/"
        },
        "outputId": "fd301132-4e7f-444a-cb67-91b97eebc54f",
        "id": "LVShLmgsQitl"
      },
      "execution_count": null,
      "outputs": [
        {
          "output_type": "stream",
          "name": "stdout",
          "text": [
            "True\n",
            "True\n",
            "1 True\n",
            "2 True\n"
          ]
        }
      ]
    },
    {
      "cell_type": "code",
      "source": [
        "# 'dictionary'\n",
        "ex={1:2,3:4,5:(6,7), (8,9):21}\n",
        "print(1 in ex)\n",
        "print(2 in ex)\n",
        "print(2 in ex.values())\n",
        "print(5 in ex)\n",
        "print((8,9)in ex)"
      ],
      "metadata": {
        "colab": {
          "base_uri": "https://localhost:8080/"
        },
        "id": "DdUuh2QCSM3I",
        "outputId": "cef3b194-d3e8-4809-f33b-33db2e3d6783"
      },
      "execution_count": null,
      "outputs": [
        {
          "output_type": "stream",
          "name": "stdout",
          "text": [
            "True\n",
            "False\n",
            "True\n",
            "True\n",
            "True\n"
          ]
        }
      ]
    },
    {
      "cell_type": "markdown",
      "source": [
        "# (=) Assignment Operator - Dynamically continuously change value of x."
      ],
      "metadata": {
        "id": "1mOxgxeRTqnF"
      }
    },
    {
      "cell_type": "code",
      "source": [
        "x=0\n",
        "x+=9\n",
        "print(x)\n",
        "x -= 4\n",
        "print(x)\n",
        "x *= 4\n",
        "print(x)\n",
        "x /= 3\n",
        "print(x)\n",
        "x //= 3\n",
        "print(x)\n",
        "x %= 3\n",
        "print(x)\n",
        "x **= 3\n",
        "print(x)\n",
        "x **= 0.5 #means do sq root\n",
        "print(x)"
      ],
      "metadata": {
        "colab": {
          "base_uri": "https://localhost:8080/"
        },
        "id": "XiluRI9lUBLd",
        "outputId": "fe9143e8-8f58-4a9a-a471-215803f9a882"
      },
      "execution_count": null,
      "outputs": [
        {
          "output_type": "stream",
          "name": "stdout",
          "text": [
            "9\n",
            "5\n",
            "20\n",
            "6.666666666666667\n",
            "2.0\n",
            "2.0\n",
            "8.0\n",
            "2.8284271247461903\n"
          ]
        }
      ]
    },
    {
      "cell_type": "code",
      "source": [
        "x=64\n",
        "x **= .5\n",
        "x"
      ],
      "metadata": {
        "colab": {
          "base_uri": "https://localhost:8080/"
        },
        "id": "7dDkmwTjWRQf",
        "outputId": "de53f8cf-7150-4c44-f18d-f843ea712b98"
      },
      "execution_count": null,
      "outputs": [
        {
          "output_type": "execute_result",
          "data": {
            "text/plain": [
              "8.0"
            ]
          },
          "metadata": {},
          "execution_count": 32
        }
      ]
    },
    {
      "cell_type": "markdown",
      "source": [
        "# General Purpose Functions\n",
        "CRUD analogy can help us understand how to create ➕, read 🔍, update 🔄, and delete ❌ data in Python.\n",
        "\n",
        "![image.png](data:image/png;base64,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)"
      ],
      "metadata": {
        "id": "JlcUR7Sb-Awr"
      }
    },
    {
      "cell_type": "markdown",
      "source": [
        "# TUPLE & SEQUENCES\n",
        "\n",
        "* lists and strings have many common properties, such as indexing and slicing operations. They are two examples of sequence data types (Sequence Types — list, tuple, range)."
      ],
      "metadata": {
        "id": "fT_w-W0TikzA"
      }
    },
    {
      "cell_type": "code",
      "source": [
        "t = 12345, 54321, 'hello!'\n",
        "print(t[0])\n",
        "print(t)"
      ],
      "metadata": {
        "colab": {
          "base_uri": "https://localhost:8080/"
        },
        "id": "5-gNc96Iioo9",
        "outputId": "f8db6115-447e-4b48-d2b2-4dea19dca2db"
      },
      "execution_count": null,
      "outputs": [
        {
          "output_type": "stream",
          "name": "stdout",
          "text": [
            "12345\n",
            "(12345, 54321, 'hello!')\n"
          ]
        }
      ]
    },
    {
      "cell_type": "code",
      "source": [
        "# Tuples may be nested:\n",
        "u = t, (1, 2, 3, 4, 5)\n",
        "u"
      ],
      "metadata": {
        "colab": {
          "base_uri": "https://localhost:8080/"
        },
        "id": "XcxolrhUjtY-",
        "outputId": "0bc79873-91ec-4650-f77c-8df5c3b28257"
      },
      "execution_count": null,
      "outputs": [
        {
          "output_type": "execute_result",
          "data": {
            "text/plain": [
              "((12345, 54321, 'hello!'), (1, 2, 3, 4, 5))"
            ]
          },
          "metadata": {},
          "execution_count": 16
        }
      ]
    },
    {
      "cell_type": "code",
      "source": [
        "# Tuples are immutable:\n",
        "t[0] = 88888"
      ],
      "metadata": {
        "colab": {
          "base_uri": "https://localhost:8080/",
          "height": 164
        },
        "id": "k-1Mt2Yhj3EO",
        "outputId": "69691958-89b6-475c-fd20-57e8852f6803"
      },
      "execution_count": null,
      "outputs": [
        {
          "output_type": "error",
          "ename": "TypeError",
          "evalue": "'tuple' object does not support item assignment",
          "traceback": [
            "\u001b[0;31m---------------------------------------------------------------------------\u001b[0m",
            "\u001b[0;31mTypeError\u001b[0m                                 Traceback (most recent call last)",
            "\u001b[0;32m<ipython-input-17-9e19cce22619>\u001b[0m in \u001b[0;36m<cell line: 2>\u001b[0;34m()\u001b[0m\n\u001b[1;32m      1\u001b[0m \u001b[0;31m# Tuples are immutable:\u001b[0m\u001b[0;34m\u001b[0m\u001b[0;34m\u001b[0m\u001b[0m\n\u001b[0;32m----> 2\u001b[0;31m \u001b[0mt\u001b[0m\u001b[0;34m[\u001b[0m\u001b[0;36m0\u001b[0m\u001b[0;34m]\u001b[0m \u001b[0;34m=\u001b[0m \u001b[0;36m88888\u001b[0m\u001b[0;34m\u001b[0m\u001b[0;34m\u001b[0m\u001b[0m\n\u001b[0m",
            "\u001b[0;31mTypeError\u001b[0m: 'tuple' object does not support item assignment"
          ]
        }
      ]
    },
    {
      "cell_type": "code",
      "source": [
        "# but they can contain mutable objects:\n",
        "v = ([1, 2, 3], [3, 2, 1])\n",
        "v[0][1]=7\n",
        "v"
      ],
      "metadata": {
        "colab": {
          "base_uri": "https://localhost:8080/"
        },
        "id": "lnT0JM5ikB4I",
        "outputId": "25721586-4783-473d-c534-d61a2b66848b"
      },
      "execution_count": null,
      "outputs": [
        {
          "output_type": "execute_result",
          "data": {
            "text/plain": [
              "([1, 7, 3], [3, 2, 1])"
            ]
          },
          "metadata": {},
          "execution_count": 20
        }
      ]
    },
    {
      "cell_type": "markdown",
      "source": [
        "# SEQUENCE PACKING & UNPACKING\n",
        "\n",
        "* This is called, appropriately enough, sequence unpacking and works for any sequence on the right-hand side.\n",
        "\n",
        "* Sequence unpacking requires that there are as many variables on the left side of the equals sign as there are elements in the sequence. Note that\n",
        "\n",
        "* multiple assignment is really just a combination of tuple packing and sequence unpacking."
      ],
      "metadata": {
        "id": "3N9YwXixlxyn"
      }
    },
    {
      "cell_type": "code",
      "source": [
        "t = 12345, 54321, 'hello!' # is an example of tuple packing\n",
        "x, y, z = t #tuple unpacking\n",
        "print(x,y,z)"
      ],
      "metadata": {
        "colab": {
          "base_uri": "https://localhost:8080/"
        },
        "id": "5P_tEpk1lRk5",
        "outputId": "9e8a3e34-e585-42ad-c6c9-0f73ddb82a79"
      },
      "execution_count": null,
      "outputs": [
        {
          "output_type": "stream",
          "name": "stdout",
          "text": [
            "12345 54321 hello!\n"
          ]
        }
      ]
    },
    {
      "cell_type": "markdown",
      "source": [
        "# In String Method - HIGHER ORDER FUNCTIONS\n",
        "* Higher-order functions take one or more functions as arguments or return a function as a result.\n",
        "*![string function.jpg](data:image/jpeg;base64,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) They enable you to abstract over actions, making your code more concise and expressive."
      ],
      "metadata": {
        "id": "sp9crwFmOk-F"
      }
    },
    {
      "cell_type": "code",
      "source": [
        "# A. MAP -  Example of using map without a custom function\n",
        "numbers = [1, 2, 3, 4, 5]\n",
        "\n",
        "# Squaring each element using map and a lambda function\n",
        "squared_numbers = map(lambda x: x**2, numbers)\n",
        "print(list(squared_numbers))\n"
      ],
      "metadata": {
        "colab": {
          "base_uri": "https://localhost:8080/"
        },
        "id": "uNQQ8Je-OkV0",
        "outputId": "6300ab34-d1e2-4606-a3a6-e06caae244da"
      },
      "execution_count": null,
      "outputs": [
        {
          "output_type": "stream",
          "name": "stdout",
          "text": [
            "[1, 4, 9, 16, 25]\n"
          ]
        }
      ]
    },
    {
      "cell_type": "code",
      "source": [
        "# B. REDUCE - applies a function cumulatively to the items of an iterable, from left to right, to reduce it to a single value.\n",
        "from functools import reduce\n",
        "\n",
        "# Example of using reduce without a custom function\n",
        "numbers = [1, 2, 3, 4, 5]\n",
        "\n",
        "# Calculating the product of all elements using reduce and a lambda function\n",
        "product = reduce(lambda x, y: x * y, numbers)\n",
        "print(product)\n"
      ],
      "metadata": {
        "colab": {
          "base_uri": "https://localhost:8080/"
        },
        "id": "Yner2Y7EOyf0",
        "outputId": "7df61e90-fe47-41ae-d323-cf6fa98f1e5b"
      },
      "execution_count": null,
      "outputs": [
        {
          "output_type": "stream",
          "name": "stdout",
          "text": [
            "120\n"
          ]
        }
      ]
    },
    {
      "cell_type": "code",
      "source": [
        "# C. FILTER - filter constructs an iterator from elements of an iterable for which a function returns true.\n",
        "# Example of using filter without a custom function\n",
        "numbers = [1, 2, 3, 4, 5]\n",
        "\n",
        "# Filtering even numbers using filter and a lambda function\n",
        "even_numbers = filter(lambda x: x % 2 == 0, numbers)\n",
        "print(list(even_numbers))\n"
      ],
      "metadata": {
        "colab": {
          "base_uri": "https://localhost:8080/"
        },
        "id": "OKWTteC6PYM2",
        "outputId": "443d01d7-b47e-45d2-e277-0b8dd684d1af"
      },
      "execution_count": null,
      "outputs": [
        {
          "output_type": "stream",
          "name": "stdout",
          "text": [
            "[2, 4]\n"
          ]
        }
      ]
    },
    {
      "cell_type": "code",
      "source": [
        "# function is a block of code to carry out a specific task, will contain its scope and is called by name.\n",
        "print(len([2,3,4,5,6])) #--> 5: returns count of elements.\n",
        "print(sum([2,3,4,5,6])) #--> 20: returns sum of all the elements.\n",
        "\n"
      ],
      "metadata": {
        "colab": {
          "base_uri": "https://localhost:8080/"
        },
        "id": "haUfTVQrRvPb",
        "outputId": "672fa188-e418-4236-bf38-d1fbabe360a9"
      },
      "execution_count": null,
      "outputs": [
        {
          "output_type": "stream",
          "name": "stdout",
          "text": [
            "5\n",
            "20\n"
          ]
        }
      ]
    },
    {
      "cell_type": "code",
      "source": [
        "# METHODS - written after . - in Python is similar to a function, except it is associated with objects/classes.\n",
        "# Methods in Python are very similar to functions except for two significant differences.\n",
        "\n",
        "# - The method is implicitly used for an object for which it is called.\n",
        "# - The method is accessible to data that is contained within the class.\n",
        "\n",
        "print('hello world o o o O OOOOOOO'.lower().count('o')) # 2: count the number of 'o's.m\n",
        "ex = {'name':'abc','age':20}\n",
        "print(ex.keys()) # dict_keys(['name', 'age']): .keys() is the method  which gives keys of dictionary as output"
      ],
      "metadata": {
        "colab": {
          "base_uri": "https://localhost:8080/"
        },
        "id": "ARePkp8NR8Um",
        "outputId": "7588d710-cdac-4fd9-8c3a-fd1a8fd455b5"
      },
      "execution_count": null,
      "outputs": [
        {
          "output_type": "stream",
          "name": "stdout",
          "text": [
            "13\n",
            "dict_keys(['name', 'age'])\n"
          ]
        }
      ]
    },
    {
      "cell_type": "markdown",
      "source": [
        "### **String Methods**\n",
        "\n",
        "**Imp:** All string methods return new values. They do not change the original string. [As String is immutable]\n",
        "\n",
        "my_string = \"Hello, world!\"\n",
        "* print(my_string[0])   # Output: \"H\"\n",
        "* 🔠 string.upper(): returns a copy of the string with all characters in upper case\n",
        "* 🔡 string.lower(): returns a copy of the string with all characters in lower case\n",
        "* 🆔 string.title(): returns a copy of the string with the first character of each word in title case (i.e. upper case)\n",
        "* 🔀 string.replace(old, new): returns a copy of the string with all occurrences of old replaced with new\n",
        "* 🔪 string.split(separator): returns a list of substrings separated by the specified separator\n",
        "* 🔗 string.join(iterable): returns a string that is the concatenation of the elements in the specified iterable, separated by the string string\n",
        "* 🔢 string.isnumeric(): returns True if all characters in the string are numeric, otherwise False\n",
        "\n",
        "\n",
        "```\n",
        "# Add method after variable OR DATA , AFTER .\n",
        "\n",
        "# count()\n",
        "Returns the number of times a specified value occurs in a string\n",
        "String, List, Tuple\n",
        "ex = ‘Hello World’\n",
        "ex.count(’o’) —> 2\n",
        "\n",
        "index()\n",
        "Searches the string for a specified value and returns the position of where it was found.\n",
        "String, List, Tuple\n",
        "ex = ‘Hello World’\n",
        "ex.index(’o’) —> 4 ; returns index of the first occurrence\n",
        "\n",
        "replace()\n",
        "Returns a string where a specified value is replaced with a specified value.But original variable is not changed.\n",
        "String\n",
        "ex = 'Hello world'\n",
        "ex.replace('world', 'World') —> ‘'Hello World'’\n",
        "\n",
        "lower()\n",
        "Converts a string into lowercase\n",
        "String\n",
        "ex = 'Hello world'\n",
        "ex.lower() —> ‘'hello world'’\n",
        "\n",
        "upper()\n",
        "Converts a string into upper case.\n",
        "String\n",
        "ex = 'Hello world'\n",
        "ex.upper() —> ‘'HELLO WORLD'’\n",
        "\n",
        "title()\n",
        "Converts the first character of each word to upper case.\n",
        "String\n",
        "ex = ‘hello world’\n",
        "ex.title() —> ‘Hello World’\n",
        "\n",
        "strip()\n",
        "Returns a trimmed version of the string.\n",
        "String\n",
        "ex = ‘   hello world  ‘\n",
        "ex.strip() —> ‘hello world’\n",
        "\n",
        "split()\n",
        "Splits the string at the specified separator and returns a list.\n",
        "String\n",
        "ex = 'Hello world'\n",
        "ex.split(' ') —> [’Hello’, ‘world’]\n",
        "\n",
        "join()\n",
        "method takes all items in an iterable and joins them into one string.\n",
        "String\n",
        "ex = [’h’ , ‘e’ , ‘l’ , ‘l’ , ‘o’]\n",
        "”-”.join(ex) —> h-e-l-l-o\n",
        "```\n",
        "\n",
        "\n"
      ],
      "metadata": {
        "id": "lNwLqivCS1Sk"
      }
    },
    {
      "cell_type": "code",
      "source": [
        "# Using replace() to replace all occurrences of a substring with another substring\n",
        "string = 'better is always better than someone better'\n",
        "print(\"Original String:\", string,'\\n')\n",
        "new_string = string.replace(\"better\", \"best\")\n",
        "print(\"New String:\", new_string)"
      ],
      "metadata": {
        "colab": {
          "base_uri": "https://localhost:8080/"
        },
        "id": "JpGhApWnxd35",
        "outputId": "acdce849-022c-4b8a-f50d-42128a6f9110"
      },
      "execution_count": null,
      "outputs": [
        {
          "output_type": "stream",
          "name": "stdout",
          "text": [
            "Original String: better is always better than someone better \n",
            "\n",
            "New String: best is always best than someone best\n"
          ]
        }
      ]
    },
    {
      "cell_type": "code",
      "source": [
        "# Using split() to split a string into a list of substrings based on a separator\n",
        "word_list = string.split(\" \") # on the basis of \" \" space\n",
        "print(\"List of words:\", word_list)"
      ],
      "metadata": {
        "colab": {
          "base_uri": "https://localhost:8080/"
        },
        "id": "DNVi0YdGzug-",
        "outputId": "d2f08675-e9cf-43e9-8208-9200adfbb01f"
      },
      "execution_count": null,
      "outputs": [
        {
          "output_type": "stream",
          "name": "stdout",
          "text": [
            "List of words: ['better', 'is', 'always', 'better', 'than', 'someone', 'better']\n"
          ]
        }
      ]
    },
    {
      "cell_type": "code",
      "source": [
        "# Using join() to concatenate a list of strings into a single string with a separator\n",
        "new_string = \"-\".join(word_list)\n",
        "print(\"Joined String:\", new_string)"
      ],
      "metadata": {
        "colab": {
          "base_uri": "https://localhost:8080/"
        },
        "id": "ezvovOgi0L1a",
        "outputId": "bb56f8f6-f84c-43de-ff84-c8a6e50d6539"
      },
      "execution_count": null,
      "outputs": [
        {
          "output_type": "stream",
          "name": "stdout",
          "text": [
            "Joined String: better-is-always-better-than-someone-better\n"
          ]
        }
      ]
    },
    {
      "cell_type": "code",
      "source": [
        "# Unicode of a character in Python, you can use the ord('character') method.\n",
        "# And to generate a character corresponding to a Unicode, you can use the chr('Unicode') method.\n",
        "\n",
        "print(\"Unicode for 'b'- \",ord('b'))\n",
        "print(\"Unicode for 'B'- \",ord('B'))\n",
        "\n",
        "print(chr(129528),\"is greater than\",chr(128059))"
      ],
      "metadata": {
        "colab": {
          "base_uri": "https://localhost:8080/"
        },
        "id": "AcLDgff_0nV5",
        "outputId": "7557cea3-8857-4537-8983-9914048b3fe3"
      },
      "execution_count": null,
      "outputs": [
        {
          "output_type": "stream",
          "name": "stdout",
          "text": [
            "Unicode for 'b'-  98\n",
            "Unicode for 'B'-  66\n",
            "🧸 is greater than 🐻\n"
          ]
        }
      ]
    },
    {
      "cell_type": "code",
      "source": [
        "statement= \"arnav is writing a book titled 'python made easy'. His book is expected to release in March\"\n",
        "\n",
        "sentence_list=statement.split('.')\n",
        "print(sentence_list)\n",
        "\n",
        "statement=statement.replace('arnav','Arnav')\n",
        "print(statement)\n",
        "\n",
        "statement=statement.replace('python made easy','python made easy'.title())\n",
        "print(statement)\n",
        "\n",
        "reschedule_month=input(\"Which month would you like to reschedule the launch to? \")\n",
        "statement=statement.replace(\"March\",reschedule_month)\n",
        "print(statement)"
      ],
      "metadata": {
        "colab": {
          "base_uri": "https://localhost:8080/"
        },
        "id": "GN9OI8xO09SU",
        "outputId": "0fcdb89e-3aac-4941-faaa-e4980896079b"
      },
      "execution_count": null,
      "outputs": [
        {
          "output_type": "stream",
          "name": "stdout",
          "text": [
            "[\"arnav is writing a book titled 'python made easy'\", ' His book is expected to release in March']\n",
            "Arnav is writing a book titled 'python made easy'. His book is expected to release in March\n",
            "Arnav is writing a book titled 'Python Made Easy'. His book is expected to release in March\n",
            "Which month would you like to reschedule the launch to? December\n",
            "Arnav is writing a book titled 'Python Made Easy'. His book is expected to release in December\n"
          ]
        }
      ]
    },
    {
      "cell_type": "code",
      "source": [
        "help(str)"
      ],
      "metadata": {
        "colab": {
          "base_uri": "https://localhost:8080/"
        },
        "id": "LFA12myX1Qzh",
        "outputId": "80a5ef3a-36a2-4826-9082-ff28fb30b60d"
      },
      "execution_count": null,
      "outputs": [
        {
          "output_type": "stream",
          "name": "stdout",
          "text": [
            "Help on class str in module builtins:\n",
            "\n",
            "class str(object)\n",
            " |  str(object='') -> str\n",
            " |  str(bytes_or_buffer[, encoding[, errors]]) -> str\n",
            " |  \n",
            " |  Create a new string object from the given object. If encoding or\n",
            " |  errors is specified, then the object must expose a data buffer\n",
            " |  that will be decoded using the given encoding and error handler.\n",
            " |  Otherwise, returns the result of object.__str__() (if defined)\n",
            " |  or repr(object).\n",
            " |  encoding defaults to sys.getdefaultencoding().\n",
            " |  errors defaults to 'strict'.\n",
            " |  \n",
            " |  Methods defined here:\n",
            " |  \n",
            " |  __add__(self, value, /)\n",
            " |      Return self+value.\n",
            " |  \n",
            " |  __contains__(self, key, /)\n",
            " |      Return key in self.\n",
            " |  \n",
            " |  __eq__(self, value, /)\n",
            " |      Return self==value.\n",
            " |  \n",
            " |  __format__(self, format_spec, /)\n",
            " |      Return a formatted version of the string as described by format_spec.\n",
            " |  \n",
            " |  __ge__(self, value, /)\n",
            " |      Return self>=value.\n",
            " |  \n",
            " |  __getattribute__(self, name, /)\n",
            " |      Return getattr(self, name).\n",
            " |  \n",
            " |  __getitem__(self, key, /)\n",
            " |      Return self[key].\n",
            " |  \n",
            " |  __getnewargs__(...)\n",
            " |  \n",
            " |  __gt__(self, value, /)\n",
            " |      Return self>value.\n",
            " |  \n",
            " |  __hash__(self, /)\n",
            " |      Return hash(self).\n",
            " |  \n",
            " |  __iter__(self, /)\n",
            " |      Implement iter(self).\n",
            " |  \n",
            " |  __le__(self, value, /)\n",
            " |      Return self<=value.\n",
            " |  \n",
            " |  __len__(self, /)\n",
            " |      Return len(self).\n",
            " |  \n",
            " |  __lt__(self, value, /)\n",
            " |      Return self<value.\n",
            " |  \n",
            " |  __mod__(self, value, /)\n",
            " |      Return self%value.\n",
            " |  \n",
            " |  __mul__(self, value, /)\n",
            " |      Return self*value.\n",
            " |  \n",
            " |  __ne__(self, value, /)\n",
            " |      Return self!=value.\n",
            " |  \n",
            " |  __repr__(self, /)\n",
            " |      Return repr(self).\n",
            " |  \n",
            " |  __rmod__(self, value, /)\n",
            " |      Return value%self.\n",
            " |  \n",
            " |  __rmul__(self, value, /)\n",
            " |      Return value*self.\n",
            " |  \n",
            " |  __sizeof__(self, /)\n",
            " |      Return the size of the string in memory, in bytes.\n",
            " |  \n",
            " |  __str__(self, /)\n",
            " |      Return str(self).\n",
            " |  \n",
            " |  capitalize(self, /)\n",
            " |      Return a capitalized version of the string.\n",
            " |      \n",
            " |      More specifically, make the first character have upper case and the rest lower\n",
            " |      case.\n",
            " |  \n",
            " |  casefold(self, /)\n",
            " |      Return a version of the string suitable for caseless comparisons.\n",
            " |  \n",
            " |  center(self, width, fillchar=' ', /)\n",
            " |      Return a centered string of length width.\n",
            " |      \n",
            " |      Padding is done using the specified fill character (default is a space).\n",
            " |  \n",
            " |  count(...)\n",
            " |      S.count(sub[, start[, end]]) -> int\n",
            " |      \n",
            " |      Return the number of non-overlapping occurrences of substring sub in\n",
            " |      string S[start:end].  Optional arguments start and end are\n",
            " |      interpreted as in slice notation.\n",
            " |  \n",
            " |  encode(self, /, encoding='utf-8', errors='strict')\n",
            " |      Encode the string using the codec registered for encoding.\n",
            " |      \n",
            " |      encoding\n",
            " |        The encoding in which to encode the string.\n",
            " |      errors\n",
            " |        The error handling scheme to use for encoding errors.\n",
            " |        The default is 'strict' meaning that encoding errors raise a\n",
            " |        UnicodeEncodeError.  Other possible values are 'ignore', 'replace' and\n",
            " |        'xmlcharrefreplace' as well as any other name registered with\n",
            " |        codecs.register_error that can handle UnicodeEncodeErrors.\n",
            " |  \n",
            " |  endswith(...)\n",
            " |      S.endswith(suffix[, start[, end]]) -> bool\n",
            " |      \n",
            " |      Return True if S ends with the specified suffix, False otherwise.\n",
            " |      With optional start, test S beginning at that position.\n",
            " |      With optional end, stop comparing S at that position.\n",
            " |      suffix can also be a tuple of strings to try.\n",
            " |  \n",
            " |  expandtabs(self, /, tabsize=8)\n",
            " |      Return a copy where all tab characters are expanded using spaces.\n",
            " |      \n",
            " |      If tabsize is not given, a tab size of 8 characters is assumed.\n",
            " |  \n",
            " |  find(...)\n",
            " |      S.find(sub[, start[, end]]) -> int\n",
            " |      \n",
            " |      Return the lowest index in S where substring sub is found,\n",
            " |      such that sub is contained within S[start:end].  Optional\n",
            " |      arguments start and end are interpreted as in slice notation.\n",
            " |      \n",
            " |      Return -1 on failure.\n",
            " |  \n",
            " |  format(...)\n",
            " |      S.format(*args, **kwargs) -> str\n",
            " |      \n",
            " |      Return a formatted version of S, using substitutions from args and kwargs.\n",
            " |      The substitutions are identified by braces ('{' and '}').\n",
            " |  \n",
            " |  format_map(...)\n",
            " |      S.format_map(mapping) -> str\n",
            " |      \n",
            " |      Return a formatted version of S, using substitutions from mapping.\n",
            " |      The substitutions are identified by braces ('{' and '}').\n",
            " |  \n",
            " |  index(...)\n",
            " |      S.index(sub[, start[, end]]) -> int\n",
            " |      \n",
            " |      Return the lowest index in S where substring sub is found,\n",
            " |      such that sub is contained within S[start:end].  Optional\n",
            " |      arguments start and end are interpreted as in slice notation.\n",
            " |      \n",
            " |      Raises ValueError when the substring is not found.\n",
            " |  \n",
            " |  isalnum(self, /)\n",
            " |      Return True if the string is an alpha-numeric string, False otherwise.\n",
            " |      \n",
            " |      A string is alpha-numeric if all characters in the string are alpha-numeric and\n",
            " |      there is at least one character in the string.\n",
            " |  \n",
            " |  isalpha(self, /)\n",
            " |      Return True if the string is an alphabetic string, False otherwise.\n",
            " |      \n",
            " |      A string is alphabetic if all characters in the string are alphabetic and there\n",
            " |      is at least one character in the string.\n",
            " |  \n",
            " |  isascii(self, /)\n",
            " |      Return True if all characters in the string are ASCII, False otherwise.\n",
            " |      \n",
            " |      ASCII characters have code points in the range U+0000-U+007F.\n",
            " |      Empty string is ASCII too.\n",
            " |  \n",
            " |  isdecimal(self, /)\n",
            " |      Return True if the string is a decimal string, False otherwise.\n",
            " |      \n",
            " |      A string is a decimal string if all characters in the string are decimal and\n",
            " |      there is at least one character in the string.\n",
            " |  \n",
            " |  isdigit(self, /)\n",
            " |      Return True if the string is a digit string, False otherwise.\n",
            " |      \n",
            " |      A string is a digit string if all characters in the string are digits and there\n",
            " |      is at least one character in the string.\n",
            " |  \n",
            " |  isidentifier(self, /)\n",
            " |      Return True if the string is a valid Python identifier, False otherwise.\n",
            " |      \n",
            " |      Call keyword.iskeyword(s) to test whether string s is a reserved identifier,\n",
            " |      such as \"def\" or \"class\".\n",
            " |  \n",
            " |  islower(self, /)\n",
            " |      Return True if the string is a lowercase string, False otherwise.\n",
            " |      \n",
            " |      A string is lowercase if all cased characters in the string are lowercase and\n",
            " |      there is at least one cased character in the string.\n",
            " |  \n",
            " |  isnumeric(self, /)\n",
            " |      Return True if the string is a numeric string, False otherwise.\n",
            " |      \n",
            " |      A string is numeric if all characters in the string are numeric and there is at\n",
            " |      least one character in the string.\n",
            " |  \n",
            " |  isprintable(self, /)\n",
            " |      Return True if the string is printable, False otherwise.\n",
            " |      \n",
            " |      A string is printable if all of its characters are considered printable in\n",
            " |      repr() or if it is empty.\n",
            " |  \n",
            " |  isspace(self, /)\n",
            " |      Return True if the string is a whitespace string, False otherwise.\n",
            " |      \n",
            " |      A string is whitespace if all characters in the string are whitespace and there\n",
            " |      is at least one character in the string.\n",
            " |  \n",
            " |  istitle(self, /)\n",
            " |      Return True if the string is a title-cased string, False otherwise.\n",
            " |      \n",
            " |      In a title-cased string, upper- and title-case characters may only\n",
            " |      follow uncased characters and lowercase characters only cased ones.\n",
            " |  \n",
            " |  isupper(self, /)\n",
            " |      Return True if the string is an uppercase string, False otherwise.\n",
            " |      \n",
            " |      A string is uppercase if all cased characters in the string are uppercase and\n",
            " |      there is at least one cased character in the string.\n",
            " |  \n",
            " |  join(self, iterable, /)\n",
            " |      Concatenate any number of strings.\n",
            " |      \n",
            " |      The string whose method is called is inserted in between each given string.\n",
            " |      The result is returned as a new string.\n",
            " |      \n",
            " |      Example: '.'.join(['ab', 'pq', 'rs']) -> 'ab.pq.rs'\n",
            " |  \n",
            " |  ljust(self, width, fillchar=' ', /)\n",
            " |      Return a left-justified string of length width.\n",
            " |      \n",
            " |      Padding is done using the specified fill character (default is a space).\n",
            " |  \n",
            " |  lower(self, /)\n",
            " |      Return a copy of the string converted to lowercase.\n",
            " |  \n",
            " |  lstrip(self, chars=None, /)\n",
            " |      Return a copy of the string with leading whitespace removed.\n",
            " |      \n",
            " |      If chars is given and not None, remove characters in chars instead.\n",
            " |  \n",
            " |  partition(self, sep, /)\n",
            " |      Partition the string into three parts using the given separator.\n",
            " |      \n",
            " |      This will search for the separator in the string.  If the separator is found,\n",
            " |      returns a 3-tuple containing the part before the separator, the separator\n",
            " |      itself, and the part after it.\n",
            " |      \n",
            " |      If the separator is not found, returns a 3-tuple containing the original string\n",
            " |      and two empty strings.\n",
            " |  \n",
            " |  removeprefix(self, prefix, /)\n",
            " |      Return a str with the given prefix string removed if present.\n",
            " |      \n",
            " |      If the string starts with the prefix string, return string[len(prefix):].\n",
            " |      Otherwise, return a copy of the original string.\n",
            " |  \n",
            " |  removesuffix(self, suffix, /)\n",
            " |      Return a str with the given suffix string removed if present.\n",
            " |      \n",
            " |      If the string ends with the suffix string and that suffix is not empty,\n",
            " |      return string[:-len(suffix)]. Otherwise, return a copy of the original\n",
            " |      string.\n",
            " |  \n",
            " |  replace(self, old, new, count=-1, /)\n",
            " |      Return a copy with all occurrences of substring old replaced by new.\n",
            " |      \n",
            " |        count\n",
            " |          Maximum number of occurrences to replace.\n",
            " |          -1 (the default value) means replace all occurrences.\n",
            " |      \n",
            " |      If the optional argument count is given, only the first count occurrences are\n",
            " |      replaced.\n",
            " |  \n",
            " |  rfind(...)\n",
            " |      S.rfind(sub[, start[, end]]) -> int\n",
            " |      \n",
            " |      Return the highest index in S where substring sub is found,\n",
            " |      such that sub is contained within S[start:end].  Optional\n",
            " |      arguments start and end are interpreted as in slice notation.\n",
            " |      \n",
            " |      Return -1 on failure.\n",
            " |  \n",
            " |  rindex(...)\n",
            " |      S.rindex(sub[, start[, end]]) -> int\n",
            " |      \n",
            " |      Return the highest index in S where substring sub is found,\n",
            " |      such that sub is contained within S[start:end].  Optional\n",
            " |      arguments start and end are interpreted as in slice notation.\n",
            " |      \n",
            " |      Raises ValueError when the substring is not found.\n",
            " |  \n",
            " |  rjust(self, width, fillchar=' ', /)\n",
            " |      Return a right-justified string of length width.\n",
            " |      \n",
            " |      Padding is done using the specified fill character (default is a space).\n",
            " |  \n",
            " |  rpartition(self, sep, /)\n",
            " |      Partition the string into three parts using the given separator.\n",
            " |      \n",
            " |      This will search for the separator in the string, starting at the end. If\n",
            " |      the separator is found, returns a 3-tuple containing the part before the\n",
            " |      separator, the separator itself, and the part after it.\n",
            " |      \n",
            " |      If the separator is not found, returns a 3-tuple containing two empty strings\n",
            " |      and the original string.\n",
            " |  \n",
            " |  rsplit(self, /, sep=None, maxsplit=-1)\n",
            " |      Return a list of the substrings in the string, using sep as the separator string.\n",
            " |      \n",
            " |        sep\n",
            " |          The separator used to split the string.\n",
            " |      \n",
            " |          When set to None (the default value), will split on any whitespace\n",
            " |          character (including \\\\n \\\\r \\\\t \\\\f and spaces) and will discard\n",
            " |          empty strings from the result.\n",
            " |        maxsplit\n",
            " |          Maximum number of splits (starting from the left).\n",
            " |          -1 (the default value) means no limit.\n",
            " |      \n",
            " |      Splitting starts at the end of the string and works to the front.\n",
            " |  \n",
            " |  rstrip(self, chars=None, /)\n",
            " |      Return a copy of the string with trailing whitespace removed.\n",
            " |      \n",
            " |      If chars is given and not None, remove characters in chars instead.\n",
            " |  \n",
            " |  split(self, /, sep=None, maxsplit=-1)\n",
            " |      Return a list of the substrings in the string, using sep as the separator string.\n",
            " |      \n",
            " |        sep\n",
            " |          The separator used to split the string.\n",
            " |      \n",
            " |          When set to None (the default value), will split on any whitespace\n",
            " |          character (including \\\\n \\\\r \\\\t \\\\f and spaces) and will discard\n",
            " |          empty strings from the result.\n",
            " |        maxsplit\n",
            " |          Maximum number of splits (starting from the left).\n",
            " |          -1 (the default value) means no limit.\n",
            " |      \n",
            " |      Note, str.split() is mainly useful for data that has been intentionally\n",
            " |      delimited.  With natural text that includes punctuation, consider using\n",
            " |      the regular expression module.\n",
            " |  \n",
            " |  splitlines(self, /, keepends=False)\n",
            " |      Return a list of the lines in the string, breaking at line boundaries.\n",
            " |      \n",
            " |      Line breaks are not included in the resulting list unless keepends is given and\n",
            " |      true.\n",
            " |  \n",
            " |  startswith(...)\n",
            " |      S.startswith(prefix[, start[, end]]) -> bool\n",
            " |      \n",
            " |      Return True if S starts with the specified prefix, False otherwise.\n",
            " |      With optional start, test S beginning at that position.\n",
            " |      With optional end, stop comparing S at that position.\n",
            " |      prefix can also be a tuple of strings to try.\n",
            " |  \n",
            " |  strip(self, chars=None, /)\n",
            " |      Return a copy of the string with leading and trailing whitespace removed.\n",
            " |      \n",
            " |      If chars is given and not None, remove characters in chars instead.\n",
            " |  \n",
            " |  swapcase(self, /)\n",
            " |      Convert uppercase characters to lowercase and lowercase characters to uppercase.\n",
            " |  \n",
            " |  title(self, /)\n",
            " |      Return a version of the string where each word is titlecased.\n",
            " |      \n",
            " |      More specifically, words start with uppercased characters and all remaining\n",
            " |      cased characters have lower case.\n",
            " |  \n",
            " |  translate(self, table, /)\n",
            " |      Replace each character in the string using the given translation table.\n",
            " |      \n",
            " |        table\n",
            " |          Translation table, which must be a mapping of Unicode ordinals to\n",
            " |          Unicode ordinals, strings, or None.\n",
            " |      \n",
            " |      The table must implement lookup/indexing via __getitem__, for instance a\n",
            " |      dictionary or list.  If this operation raises LookupError, the character is\n",
            " |      left untouched.  Characters mapped to None are deleted.\n",
            " |  \n",
            " |  upper(self, /)\n",
            " |      Return a copy of the string converted to uppercase.\n",
            " |  \n",
            " |  zfill(self, width, /)\n",
            " |      Pad a numeric string with zeros on the left, to fill a field of the given width.\n",
            " |      \n",
            " |      The string is never truncated.\n",
            " |  \n",
            " |  ----------------------------------------------------------------------\n",
            " |  Static methods defined here:\n",
            " |  \n",
            " |  __new__(*args, **kwargs) from builtins.type\n",
            " |      Create and return a new object.  See help(type) for accurate signature.\n",
            " |  \n",
            " |  maketrans(...)\n",
            " |      Return a translation table usable for str.translate().\n",
            " |      \n",
            " |      If there is only one argument, it must be a dictionary mapping Unicode\n",
            " |      ordinals (integers) or characters to Unicode ordinals, strings or None.\n",
            " |      Character keys will be then converted to ordinals.\n",
            " |      If there are two arguments, they must be strings of equal length, and\n",
            " |      in the resulting dictionary, each character in x will be mapped to the\n",
            " |      character at the same position in y. If there is a third argument, it\n",
            " |      must be a string, whose characters will be mapped to None in the result.\n",
            "\n"
          ]
        }
      ]
    },
    {
      "cell_type": "markdown",
      "source": [
        "\n",
        "### **List Methods** - The list data type has some more methods.\n",
        "\n",
        "https://docs.python.org/3/tutorial/datastructures.html#tut-loopidioms\n",
        "\n",
        "* methods like insert, remove or sort that only modify the list have no return value printed – they return the default - None. This is a design principle for all mutable data structures in Python.\n",
        "* not all data can be sorted or compared. For instance, [None, 'hello', 10] doesn’t sort because integers can’t be compared to strings and None can’t be compared to other types. Also, there are some types that don’t have a defined ordering relation. For example, 3+4j < 5+7j isn’t a valid comparison.\n",
        "\n",
        "```\n",
        "count()\n",
        "list.count(x)\n",
        "Returns the number of elements with the specified value\n",
        "String, List, Tuple\n",
        "ex = [1,2,3,3,3,5]\n",
        "ex.count(3) —> 3\n",
        "\n",
        "index()\n",
        "list.index(x[, start[, end]])\n",
        "Returns the index of the first element with the specified value\n",
        "String, List, Tuple\n",
        "ex = [1,2,3,3,5]\n",
        "ex.count(3) —> 2\n",
        "# Raises a ValueError if there is no such item.\n",
        "# The optional arguments start and end are interpreted as in the slice notation and are used to limit the search to a particular subsequence of the list. The returned index is computed relative to the beginning of the full sequence rather than the start argument.\n",
        "\n",
        "append()\n",
        "list.append(x)\n",
        "Adds an element (x) at the end of the list\n",
        "List\n",
        "ex = [1,2,3,3,5]\n",
        "ex.append(6) —> [1,2,3,3,5,6]\n",
        "\n",
        "extend()\n",
        "list.extend(iterable)\n",
        "Add the elements of a list (iterable) to the end of the current list\n",
        "List\n",
        "ex = [1,2,3,3,5]\n",
        "ex.extend([6,7]) —> [1,2,3,3,5,6,7]\n",
        "\n",
        "insert()\n",
        "list.insert(i, x)\n",
        "Adds an element at the specified position\n",
        "insert(position, element)\n",
        "ex = [1,2,3,3,5]\n",
        "ex.insert(0,6) —> [6,1,2,3,3,5]\n",
        "\n",
        "pop()\n",
        "list.pop([i])\n",
        "Removes the element at the specified position (.pop(position) )\n",
        "List, dictionary, set\n",
        "ex = [1,2,3,3,5]\n",
        "ex.pop() —> [1,2,3,3] #last index item pop, if nothing mentiond\n",
        "ex.pop(0) —> [2,3,3,5]\n",
        "ex.pop(0) —> [] #an IndexError if list empty or the index outside list\n",
        "\n",
        "remove()\n",
        "list.remove(x)\n",
        "Removes the first item with the specified value - x\n",
        "List, set\n",
        "ex = [1,2,3,3,5]\n",
        "ex.remove(1) —> [2,3,3,5]\n",
        "ex.remove(3) —> [1,2,3,5]\n",
        "\n",
        "sort()\n",
        "list.sort(*, key=None, reverse=False)\n",
        "Sorts the list\n",
        "List\n",
        "ex = [2,6,3,5]\n",
        "ex.sort()—> [2,3,5,6]\n",
        "ex.sort(reverse = True)—> [6,5,3,2]\n",
        "# Sort the items of the list in place (the arguments can be used for sort customization, see sorted() for their explanation).\n",
        "\n",
        "clear()\n",
        "Removes all the elements from the list\n",
        "List, Dictionary, Set\n",
        "Equivalent to del a[:].\n",
        "ex = [2,6,3,5]\n",
        "ex.clear()\n",
        "print(ex) —> []\n",
        "\n",
        "copy()\n",
        "Returns a copy of the list\n",
        "List, Dictionary, Set\n",
        "ex = [2,6,3,5]\n",
        "ex1 = ex.copy() { Shallow copy}\n",
        "print(ex1 == ex) —> True\n",
        "\n",
        "\n",
        "```\n",
        "\n",
        "\n"
      ],
      "metadata": {
        "id": "uB_lUXecYlqK"
      }
    },
    {
      "cell_type": "code",
      "source": [
        "from google.colab import drive\n",
        "drive.mount('/content/drive')"
      ],
      "metadata": {
        "colab": {
          "base_uri": "https://localhost:8080/"
        },
        "id": "cYVpz2S8oFy5",
        "outputId": "e1f513b6-747b-4b98-ee6d-98832ef41203"
      },
      "execution_count": null,
      "outputs": [
        {
          "output_type": "stream",
          "name": "stdout",
          "text": [
            "Mounted at /content/drive\n"
          ]
        }
      ]
    },
    {
      "cell_type": "markdown",
      "source": [
        "# The del statement\n",
        "There is a way to remove an item from a list given its index instead of its value: the del statement. This differs from the pop() method which returns a value. The del statement can also be used to remove slices from a list or clear the entire list (which we did earlier by assignment of an empty list to the slice). For example:"
      ],
      "metadata": {
        "id": "_lr3QeUmh1E-"
      }
    },
    {
      "cell_type": "code",
      "source": [
        "a = [-1, 1, 66.25, 333, 333, 1234.5]\n",
        "del a[0]\n",
        "a"
      ],
      "metadata": {
        "colab": {
          "base_uri": "https://localhost:8080/"
        },
        "id": "9PwdA8aIh7B0",
        "outputId": "1ce3175b-6759-4248-bbbc-b30b63ef9175"
      },
      "execution_count": null,
      "outputs": [
        {
          "output_type": "execute_result",
          "data": {
            "text/plain": [
              "[1, 66.25, 333, 333, 1234.5]"
            ]
          },
          "metadata": {},
          "execution_count": 9
        }
      ]
    },
    {
      "cell_type": "code",
      "source": [
        "[1, 66.25, 333, 333, 1234.5]\n",
        "del a[2:4]\n",
        "a"
      ],
      "metadata": {
        "colab": {
          "base_uri": "https://localhost:8080/"
        },
        "id": "HPC6PXsriC_G",
        "outputId": "41df5592-5a98-4041-90b2-d6b0f8ee0574"
      },
      "execution_count": null,
      "outputs": [
        {
          "output_type": "execute_result",
          "data": {
            "text/plain": [
              "[1, 66.25, 1234.5]"
            ]
          },
          "metadata": {},
          "execution_count": 10
        }
      ]
    },
    {
      "cell_type": "code",
      "source": [
        "[1, 66.25, 1234.5]\n",
        "del a[:]\n",
        "a"
      ],
      "metadata": {
        "colab": {
          "base_uri": "https://localhost:8080/"
        },
        "id": "Cs9LP3BOiMJw",
        "outputId": "20efe002-396d-4f26-d8bf-1370ff3de0af"
      },
      "execution_count": null,
      "outputs": [
        {
          "output_type": "execute_result",
          "data": {
            "text/plain": [
              "[]"
            ]
          },
          "metadata": {},
          "execution_count": 11
        }
      ]
    },
    {
      "cell_type": "code",
      "source": [
        "# del can also be used to delete entire variables:\n",
        "\n",
        "del a\n",
        "a"
      ],
      "metadata": {
        "colab": {
          "base_uri": "https://localhost:8080/",
          "height": 200
        },
        "id": "Dxdg8M8kiRnz",
        "outputId": "b41b56d7-73e3-4593-fd3d-6c723b60bed0"
      },
      "execution_count": null,
      "outputs": [
        {
          "output_type": "error",
          "ename": "NameError",
          "evalue": "name 'a' is not defined",
          "traceback": [
            "\u001b[0;31m---------------------------------------------------------------------------\u001b[0m",
            "\u001b[0;31mNameError\u001b[0m                                 Traceback (most recent call last)",
            "\u001b[0;32m<ipython-input-13-0966d2595bf8>\u001b[0m in \u001b[0;36m<cell line: 3>\u001b[0;34m()\u001b[0m\n\u001b[1;32m      1\u001b[0m \u001b[0;31m# del can also be used to delete entire variables:\u001b[0m\u001b[0;34m\u001b[0m\u001b[0;34m\u001b[0m\u001b[0m\n\u001b[1;32m      2\u001b[0m \u001b[0;34m\u001b[0m\u001b[0m\n\u001b[0;32m----> 3\u001b[0;31m \u001b[0;32mdel\u001b[0m \u001b[0ma\u001b[0m\u001b[0;34m\u001b[0m\u001b[0;34m\u001b[0m\u001b[0m\n\u001b[0m\u001b[1;32m      4\u001b[0m \u001b[0ma\u001b[0m\u001b[0;34m\u001b[0m\u001b[0;34m\u001b[0m\u001b[0m\n",
            "\u001b[0;31mNameError\u001b[0m: name 'a' is not defined"
          ]
        }
      ]
    },
    {
      "cell_type": "markdown",
      "source": [
        "\n",
        "\n",
        "```\n",
        "# vec = [-4, -2, 0, 2, 4]\n",
        "\n",
        "# create a new list with the values doubled\n",
        "[x*2 for x in vec]\n",
        "[-8, -4, 0, 4, 8]\n",
        "\n",
        "# filter the list to exclude negative numbers\n",
        "[x for x in vec if x >= 0]\n",
        "[0, 2, 4]\n",
        "\n",
        "# apply a function to all the elements\n",
        "[abs(x) for x in vec]\n",
        "[4, 2, 0, 2, 4]\n",
        "\n",
        "# call a method on each element\n",
        "freshfruit = ['  banana', '  loganberry ', 'passion fruit  ']\n",
        "\n",
        "[weapon.strip() for weapon in freshfruit]\n",
        "['banana', 'loganberry', 'passion fruit']\n",
        "\n",
        "# create a list of 2-tuples like (number, square)\n",
        "[(x, x**2) for x in range(6)]\n",
        "[(0, 0), (1, 1), (2, 4), (3, 9), (4, 16), (5, 25)]\n",
        "\n",
        "# the tuple must be parenthesized, otherwise an error is raised\n",
        "[x, x**2 for x in range(6)]\n",
        "\n",
        "File \"<stdin>\", line 1\n",
        "    [x, x**2 for x in range(6)]\n",
        "     ^^^^^^^\n",
        "SyntaxError: did you forget parentheses around the comprehension target?\n",
        "\n",
        "\n",
        "# flatten a list using a listcomp with two 'for'\n",
        "vec = [[1,2,3], [4,5,6], [7,8,9]]\n",
        "[num for elem in vec for num in elem]\n",
        "[1, 2, 3, 4, 5, 6, 7, 8, 9]\n",
        "\n",
        "\n",
        "# List comprehensions can contain complex expressions and nested functions:\n",
        "\n",
        ">>>\n",
        "from math import pi\n",
        "[str(round(pi, i)) for i in range(1, 6)]\n",
        "['3.1', '3.14', '3.142', '3.1416', '3.14159']\n",
        "\n",
        "\n",
        "```\n",
        "\n"
      ],
      "metadata": {
        "id": "rQeei9LDZ9ad"
      }
    },
    {
      "cell_type": "code",
      "source": [],
      "metadata": {
        "id": "DAWGbPYNfnri"
      },
      "execution_count": null,
      "outputs": []
    },
    {
      "cell_type": "markdown",
      "source": [
        "# LIST USED AS STACK -APPEND & POP (last in 1st out)\n",
        "\n",
        "* The list methods make it very easy to use a list as a stack, where the last element added is the first element retrieved (“last-in, first-out”). To add an item to the top of the stack, use append(). To retrieve an item from the top of the stack, use pop() without an explicit index. For example:"
      ],
      "metadata": {
        "id": "HRzsWtA3Sb9c"
      }
    },
    {
      "cell_type": "code",
      "source": [
        "stack = [3, 4, 5]\n",
        "stack.append(6)\n",
        "stack.append(7)\n",
        "stack\n",
        "[3, 4, 5, 6, 7]\n",
        "stack.pop()\n",
        "7\n",
        "stack\n",
        "[3, 4, 5, 6]\n",
        "stack.pop()\n",
        "6\n",
        "stack.pop()\n",
        "5\n",
        "stack"
      ],
      "metadata": {
        "colab": {
          "base_uri": "https://localhost:8080/"
        },
        "id": "LYKvRrv4Sk98",
        "outputId": "91c6fdcd-9dcd-4b0e-d186-188ae182c9ee"
      },
      "execution_count": null,
      "outputs": [
        {
          "output_type": "execute_result",
          "data": {
            "text/plain": [
              "[3, 4]"
            ]
          },
          "metadata": {},
          "execution_count": 6
        }
      ]
    },
    {
      "cell_type": "markdown",
      "source": [
        "# Lists Used as Queues (1st in 1st out)\n",
        "It is also possible to use a list as a queue, where the first element added is the first element retrieved (“first-in, first-out”); however, lists are not efficient for this purpose. While appends and pops from the end of list are fast, doing inserts or pops from the beginning of a list is slow (because all of the other elements have to be shifted by one).\n",
        "\n",
        "To implement a queue, use collections.deque which was designed to have fast appends and pops from both ends. For example:\n",
        "\n",
        ">>>\n",
        "from collections import deque"
      ],
      "metadata": {
        "id": "vxKus7SaTly6"
      }
    },
    {
      "cell_type": "code",
      "source": [
        "from collections import deque\n",
        "queue = deque([\"Eric\", \"John\", \"Michael\"])\n",
        "queue.append(\"Terry\")           # Terry arrives\n",
        "queue.append(\"Graham\")          # Graham arrives\n",
        "queue.popleft()                 # The first to arrive now leaves\n",
        "'Eric'\n",
        "queue.popleft()                 # The second to arrive now leaves\n",
        "'John'\n",
        "queue                           # Remaining queue in order of arrival\n",
        "# deque(['Michael', 'Terry', 'Graham'])"
      ],
      "metadata": {
        "colab": {
          "base_uri": "https://localhost:8080/"
        },
        "id": "EHIvht4uTkhC",
        "outputId": "c498a17e-600c-4b3a-c9d1-465561d16263"
      },
      "execution_count": null,
      "outputs": [
        {
          "output_type": "execute_result",
          "data": {
            "text/plain": [
              "deque(['Michael', 'Terry', 'Graham'])"
            ]
          },
          "metadata": {},
          "execution_count": 8
        }
      ]
    },
    {
      "cell_type": "markdown",
      "source": [
        "# List Comprehensions\n",
        "\n",
        "```\n",
        "\n",
        "List comprehensions provide a concise way to create lists. Common applications are to make new lists where each element is the result of some operations applied to each member of another sequence or iterable, or to create a subsequence of those elements that satisfy a certain condition.\n",
        "\n",
        "For example, assume we want to create a list of squares, like:\n",
        "\n",
        ">>>\n",
        "squares = []\n",
        "for x in range(10):\n",
        "    squares.append(x**2)\n",
        "\n",
        "squares\n",
        "[0, 1, 4, 9, 16, 25, 36, 49, 64, 81]\n",
        "Note that this creates (or overwrites) a variable named x that still exists after the loop completes. We can calculate the list of squares without any side effects using:\n",
        "\n",
        "squares = list(map(lambda x: x**2, range(10)))\n",
        "or, equivalently:\n",
        "\n",
        "squares = [x**2 for x in range(10)]\n",
        "which is more concise and readable.\n",
        "\n",
        "\n",
        "```"
      ],
      "metadata": {
        "id": "tsNrcZ1nVrP6"
      }
    },
    {
      "cell_type": "markdown",
      "source": [
        "# List Comprehension part 2\n",
        "\n",
        "```\n",
        "# A list comprehension consists of\n",
        "* brackets containing an expression\n",
        "* followed by a for clause,\n",
        "* then zero or more for or if clauses.\n",
        "\n",
        "* The result will be a new list resulting from\n",
        "* evaluating the expression in the context of the for and if clauses\n",
        "* which follow it. For example, this listcomp combines the elements\n",
        "* of two lists if they are not equal:\n",
        "\n",
        ">>>\n",
        "[(x, y) for x in [1,2,3] for y in [3,1,4] if x != y]\n",
        "[(1, 3), (1, 4), (2, 3), (2, 1), (2, 4), (3, 1), (3, 4)]\n",
        "and it’s equivalent to:\n",
        "\n",
        ">>>\n",
        "combs = []\n",
        "for x in [1,2,3]:\n",
        "    for y in [3,1,4]:\n",
        "        if x != y:\n",
        "            combs.append((x, y))\n",
        "\n",
        "combs\n",
        "[(1, 3), (1, 4), (2, 3), (2, 1), (2, 4), (3, 1), (3, 4)]\n",
        "\n",
        "\n",
        "\n",
        "\n",
        "Note -  \n",
        "\n",
        "how the order of the for and if statements is the same in both these snippets.\n",
        "\n",
        "If the expression is a tuple (e.g. the (x, y) in the previous example), it must be parenthesized.\n",
        "```\n",
        "\n"
      ],
      "metadata": {
        "id": "GJBPWGakW3ZY"
      }
    },
    {
      "cell_type": "code",
      "source": [
        "# '\\n' - gives empty line after output\n",
        "# list.insert(index, item) 👉: inserts an item at a specific index in the list\n",
        "# list.reverse() 🔄: reverses the order of the items in the list\n",
        "# list.copy() 📝: returns a copy of the list\n",
        "\n",
        "# create a list\n",
        "my_list = [4, 2, 8, 1, 6, 5]\n",
        "print(\"original list:\", my_list, '\\n')\n",
        "\n",
        "my_list.insert(2, 7) # Syntax - my_list.append(index, element)\n",
        "print(\"List after inserting item 7 at 2nd index:\", my_list)\n",
        "\n",
        "my_list.sort() # Syntax - my_list.append(index, element)\n",
        "print(\"List after sorting:\", my_list)\n",
        "\n",
        "my_list.reverse()\n",
        "print(\"Reversed list:\", my_list,'\\n')\n",
        "\n",
        "reversed(my_list) #this is better than reverse\n",
        "\n",
        "new_list = my_list.copy()\n",
        "print(\"New variable 'new_list' created from copied list:\", new_list)\n",
        "print(\"original list old variable 'my_list' has also changed:\", my_list, '\\n') #since mutable so old variable has also changed.\n",
        "\n"
      ],
      "metadata": {
        "colab": {
          "base_uri": "https://localhost:8080/"
        },
        "id": "HI4P8ERD2Mwl",
        "outputId": "0fd8f9e7-3d3b-444c-d84f-99a503a273b9"
      },
      "execution_count": null,
      "outputs": [
        {
          "output_type": "stream",
          "name": "stdout",
          "text": [
            "original list: [4, 2, 8, 1, 6, 5] \n",
            "\n",
            "List after inserting item 7 at 2nd index: [4, 2, 7, 8, 1, 6, 5]\n",
            "List after sorting: [1, 2, 4, 5, 6, 7, 8]\n",
            "Reversed list: [8, 7, 6, 5, 4, 2, 1] \n",
            "\n",
            "New variable 'new_list' created from copied list: [8, 7, 6, 5, 4, 2, 1]\n",
            "original list old variable 'my_list' has also changed: [8, 7, 6, 5, 4, 2, 1] \n",
            "\n"
          ]
        }
      ]
    },
    {
      "cell_type": "code",
      "source": [
        "my_list = [4, 2, 8, 1, 6, 5]\n",
        "\n",
        "my_list.reverse()\n",
        "print(\"Reversed list:\", my_list,'\\n')\n",
        "\n",
        "reversed_list=list(reversed(my_list))\n",
        "print(reversed_list) #reverse on reverse gives original list output again"
      ],
      "metadata": {
        "colab": {
          "base_uri": "https://localhost:8080/"
        },
        "id": "BwwF7S9pLPrI",
        "outputId": "5f6168fe-435c-4fd0-8c04-d00c536598ab"
      },
      "execution_count": null,
      "outputs": [
        {
          "output_type": "stream",
          "name": "stdout",
          "text": [
            "Reversed list: [5, 6, 1, 8, 2, 4] \n",
            "\n",
            "[4, 2, 8, 1, 6, 5]\n"
          ]
        }
      ]
    },
    {
      "cell_type": "code",
      "source": [
        "my_list = [4, 2, 8, 1, 6, 5]\n",
        "\n",
        "reversed_list=list(reversed(my_list))\n",
        "print(reversed_list) #this is better than reverse"
      ],
      "metadata": {
        "colab": {
          "base_uri": "https://localhost:8080/"
        },
        "id": "Tv6w9sqhMUND",
        "outputId": "197ae340-f43a-4210-b6e0-c8b9ada4b148"
      },
      "execution_count": null,
      "outputs": [
        {
          "output_type": "stream",
          "name": "stdout",
          "text": [
            "[5, 6, 1, 8, 2, 4]\n"
          ]
        }
      ]
    },
    {
      "cell_type": "code",
      "source": [
        "# Start with an empty list\n",
        "movie_collection = []\n",
        "\n",
        "\n",
        "# Add some movies to the collection using the append() method\n",
        "movie_collection.append(\"The Godfather\")\n",
        "movie_collection.append(\"The Shawshank Redemption\")\n",
        "movie_collection.append(\"The Dark Knight\")\n",
        "movie_collection.append(\"Pulp Fiction\")\n",
        "movie_collection.append(\"Goodfellas\")\n",
        "\n",
        "\n",
        "# Print the current collection of movies\n",
        "\n",
        "print(\"My Movie Collection:\", movie_collection)\n",
        "\n",
        "# Remove a movie from the collection using the pop() method\n",
        "\n",
        "movie_collection.pop(3)  # remove \"Pulp Fiction\" at 3 index position\n",
        "print(\"After removing Pulp Fiction:\", movie_collection)\n",
        "\n",
        "# Count how many movies are in the collection using the count() method\n",
        "\n",
        "num_movies = len(movie_collection)\n",
        "print(\"Number of The Godfather movies:\", num_movies)\n",
        "\n",
        "# Reverse the order of the list using the reverse() method\n",
        "\n",
        "movie_collection.reverse()\n",
        "print(\"Reversed movie collection:\", movie_collection)"
      ],
      "metadata": {
        "colab": {
          "base_uri": "https://localhost:8080/"
        },
        "id": "5DWNpQcX4nof",
        "outputId": "e82056b0-480d-48fa-b15d-f43178af1147"
      },
      "execution_count": null,
      "outputs": [
        {
          "output_type": "stream",
          "name": "stdout",
          "text": [
            "My Movie Collection: ['The Godfather', 'The Shawshank Redemption', 'The Dark Knight', 'Pulp Fiction', 'Goodfellas']\n",
            "After removing Pulp Fiction: ['The Godfather', 'The Shawshank Redemption', 'The Dark Knight', 'Goodfellas']\n",
            "Number of The Godfather movies: 4\n",
            "Reversed movie collection: ['Goodfellas', 'The Dark Knight', 'The Shawshank Redemption', 'The Godfather']\n"
          ]
        }
      ]
    },
    {
      "cell_type": "code",
      "source": [
        "colors = ['red', 'green', 'blue']\n",
        "colors.insert(1, 'yellow') #to add 'yellow' after 'red' in the list of colors.\n",
        "print(colors)"
      ],
      "metadata": {
        "colab": {
          "base_uri": "https://localhost:8080/"
        },
        "id": "cSMlvmxV5p-K",
        "outputId": "e012ca10-bfe7-43c8-c55d-706b358d23ff"
      },
      "execution_count": null,
      "outputs": [
        {
          "output_type": "stream",
          "name": "stdout",
          "text": [
            "['red', 'yellow', 'green', 'blue']\n"
          ]
        }
      ]
    },
    {
      "cell_type": "code",
      "source": [
        "help(list)"
      ],
      "metadata": {
        "colab": {
          "base_uri": "https://localhost:8080/"
        },
        "id": "q7rNiJvq2KQ1",
        "outputId": "3b977d4a-65c0-4d28-8e9c-7c6084801965"
      },
      "execution_count": null,
      "outputs": [
        {
          "output_type": "stream",
          "name": "stdout",
          "text": [
            "Help on class list in module builtins:\n",
            "\n",
            "class list(object)\n",
            " |  list(iterable=(), /)\n",
            " |  \n",
            " |  Built-in mutable sequence.\n",
            " |  \n",
            " |  If no argument is given, the constructor creates a new empty list.\n",
            " |  The argument must be an iterable if specified.\n",
            " |  \n",
            " |  Methods defined here:\n",
            " |  \n",
            " |  __add__(self, value, /)\n",
            " |      Return self+value.\n",
            " |  \n",
            " |  __contains__(self, key, /)\n",
            " |      Return key in self.\n",
            " |  \n",
            " |  __delitem__(self, key, /)\n",
            " |      Delete self[key].\n",
            " |  \n",
            " |  __eq__(self, value, /)\n",
            " |      Return self==value.\n",
            " |  \n",
            " |  __ge__(self, value, /)\n",
            " |      Return self>=value.\n",
            " |  \n",
            " |  __getattribute__(self, name, /)\n",
            " |      Return getattr(self, name).\n",
            " |  \n",
            " |  __getitem__(...)\n",
            " |      x.__getitem__(y) <==> x[y]\n",
            " |  \n",
            " |  __gt__(self, value, /)\n",
            " |      Return self>value.\n",
            " |  \n",
            " |  __iadd__(self, value, /)\n",
            " |      Implement self+=value.\n",
            " |  \n",
            " |  __imul__(self, value, /)\n",
            " |      Implement self*=value.\n",
            " |  \n",
            " |  __init__(self, /, *args, **kwargs)\n",
            " |      Initialize self.  See help(type(self)) for accurate signature.\n",
            " |  \n",
            " |  __iter__(self, /)\n",
            " |      Implement iter(self).\n",
            " |  \n",
            " |  __le__(self, value, /)\n",
            " |      Return self<=value.\n",
            " |  \n",
            " |  __len__(self, /)\n",
            " |      Return len(self).\n",
            " |  \n",
            " |  __lt__(self, value, /)\n",
            " |      Return self<value.\n",
            " |  \n",
            " |  __mul__(self, value, /)\n",
            " |      Return self*value.\n",
            " |  \n",
            " |  __ne__(self, value, /)\n",
            " |      Return self!=value.\n",
            " |  \n",
            " |  __repr__(self, /)\n",
            " |      Return repr(self).\n",
            " |  \n",
            " |  __reversed__(self, /)\n",
            " |      Return a reverse iterator over the list.\n",
            " |  \n",
            " |  __rmul__(self, value, /)\n",
            " |      Return value*self.\n",
            " |  \n",
            " |  __setitem__(self, key, value, /)\n",
            " |      Set self[key] to value.\n",
            " |  \n",
            " |  __sizeof__(self, /)\n",
            " |      Return the size of the list in memory, in bytes.\n",
            " |  \n",
            " |  append(self, object, /)\n",
            " |      Append object to the end of the list.\n",
            " |  \n",
            " |  clear(self, /)\n",
            " |      Remove all items from list.\n",
            " |  \n",
            " |  copy(self, /)\n",
            " |      Return a shallow copy of the list.\n",
            " |  \n",
            " |  count(self, value, /)\n",
            " |      Return number of occurrences of value.\n",
            " |  \n",
            " |  extend(self, iterable, /)\n",
            " |      Extend list by appending elements from the iterable.\n",
            " |  \n",
            " |  index(self, value, start=0, stop=9223372036854775807, /)\n",
            " |      Return first index of value.\n",
            " |      \n",
            " |      Raises ValueError if the value is not present.\n",
            " |  \n",
            " |  insert(self, index, object, /)\n",
            " |      Insert object before index.\n",
            " |  \n",
            " |  pop(self, index=-1, /)\n",
            " |      Remove and return item at index (default last).\n",
            " |      \n",
            " |      Raises IndexError if list is empty or index is out of range.\n",
            " |  \n",
            " |  remove(self, value, /)\n",
            " |      Remove first occurrence of value.\n",
            " |      \n",
            " |      Raises ValueError if the value is not present.\n",
            " |  \n",
            " |  reverse(self, /)\n",
            " |      Reverse *IN PLACE*.\n",
            " |  \n",
            " |  sort(self, /, *, key=None, reverse=False)\n",
            " |      Sort the list in ascending order and return None.\n",
            " |      \n",
            " |      The sort is in-place (i.e. the list itself is modified) and stable (i.e. the\n",
            " |      order of two equal elements is maintained).\n",
            " |      \n",
            " |      If a key function is given, apply it once to each list item and sort them,\n",
            " |      ascending or descending, according to their function values.\n",
            " |      \n",
            " |      The reverse flag can be set to sort in descending order.\n",
            " |  \n",
            " |  ----------------------------------------------------------------------\n",
            " |  Class methods defined here:\n",
            " |  \n",
            " |  __class_getitem__(...) from builtins.type\n",
            " |      See PEP 585\n",
            " |  \n",
            " |  ----------------------------------------------------------------------\n",
            " |  Static methods defined here:\n",
            " |  \n",
            " |  __new__(*args, **kwargs) from builtins.type\n",
            " |      Create and return a new object.  See help(type) for accurate signature.\n",
            " |  \n",
            " |  ----------------------------------------------------------------------\n",
            " |  Data and other attributes defined here:\n",
            " |  \n",
            " |  __hash__ = None\n",
            "\n"
          ]
        }
      ]
    },
    {
      "cell_type": "markdown",
      "source": [
        "### **Dictionary Methods**\n",
        "\n",
        "```\n",
        "keys()\n",
        "Returns a list containing the dictionary's keys\n",
        "dictionary\n",
        "ex = {’a’ :1 , ‘b’:2}\n",
        "ex.keys() —> dict_keys(['a', 'b'])\n",
        "\n",
        "values()\n",
        "Returns a list of all the values in the dictionary\n",
        "\n",
        "dictionary\n",
        "ex = {’a’ :1 , ‘b’:2}\n",
        "ex.values() —> dict_values([1, 2])\n",
        "\n",
        "items()\n",
        "Returns a list containing a tuple for each key-value pair\n",
        "dictionary\n",
        "ex = {’a’ :1 , ‘b’:2}\n",
        "ex.items() —> dict_items([('a', 1), ('b', 2)])\n",
        "\n",
        "setdefault()\n",
        "Returns the value of the specified key. If the key does not exist, insert the key with the specified value\n",
        "dictionary\n",
        "ex = {'a' :1 , 'b':2}\n",
        "ex.setdefault('a',\"None\") —> 1\n",
        "ex = {'a' :1 , 'b':2}\n",
        "ex.setdefault('c',\"None\") —> None (No Error)\n",
        "\n",
        "update()\n",
        "Updates the dictionary with the specified key-value pairs\n",
        "dictionary\n",
        "ex = {'a' :1 , 'b':2}\n",
        "ex.update({'c':2}) —> {'a': 1, 'b': 2, 'c': 2}\n",
        "\n",
        "pop()\n",
        "Removes the element with the specified key\n",
        "List, dictionary, set\n",
        "ex = {'a' :1 , 'b':2}\n",
        "ex.pop('b’) —> {'a': 1}\n",
        "\n",
        "clear()\n",
        "Removes all the elements from the dictionary\n",
        "List, Dictionary, Set\n",
        "ex = {'a' :1 , 'b':2}\n",
        "ex.clear()\n",
        "print(ex) —> {}\n",
        "\n",
        "copy()\n",
        "Returns a copy of the dictionary\n",
        " List, Dictionary, Set\n",
        "ex = {'a' :1 , 'b':2}\n",
        "ex2 = ex.copy()\n",
        "print(ex2) ——>  {'a': 1, 'b': 2}\n",
        "```\n"
      ],
      "metadata": {
        "id": "TS680kG8TBap"
      }
    },
    {
      "cell_type": "code",
      "source": [],
      "metadata": {
        "id": "rSyftPOISdwi"
      },
      "execution_count": null,
      "outputs": []
    },
    {
      "cell_type": "code",
      "source": [
        "dict1 = {'a':1, 'b':2, 'c':3, 'b':7, 'c':9}\n",
        "#define how each iteration stored in dict, 0 defines start value, '+1' defines value for each orrurance\n",
        "letter_count1 = dict1.get('b',0) # get = gets 'last' value of the 'key'\n",
        "letter_count2 = dict1.get('b',0)+5 # 0 is default empty value & +5 defines value to\n",
        "# latest occurance of character but if counted in loop 'each occurance' gets that '+5' value extra\n",
        "print(letter_count1)\n",
        "print(letter_count2)"
      ],
      "metadata": {
        "colab": {
          "base_uri": "https://localhost:8080/"
        },
        "id": "hdbmOqpVMyVJ",
        "outputId": "85254254-4a42-4905-b4ca-712a41c9a019"
      },
      "execution_count": null,
      "outputs": [
        {
          "output_type": "stream",
          "name": "stdout",
          "text": [
            "7\n",
            "12\n"
          ]
        }
      ]
    },
    {
      "cell_type": "code",
      "source": [
        "# Write a program which would\n",
        "# calculate the count of each\n",
        "# unique characters in a words and returns an appropriate\n",
        "# dictionary. Use a custom function to achieve this.\n",
        "def count_letters(word):\n",
        "\n",
        "    letter_count = {} #initialize empty dict\n",
        "    for letter in word:\n",
        "        if letter.isalpha():\n",
        "            letter = letter.lower()\n",
        "            letter_count[letter] = letter_count.get(letter, 0) +1\n",
        "            #define how each iteration stored in dict, 0 defines start value, '+1' defines value for each orrurance\n",
        "    return letter_count\n",
        "\n",
        "# Try out here\n",
        "word = \"Any Bny Cany\"\n",
        "result = count_letters(word)\n",
        "print(result)"
      ],
      "metadata": {
        "colab": {
          "base_uri": "https://localhost:8080/"
        },
        "id": "XjoRx9ENLNAs",
        "outputId": "f960a342-9274-49be-882a-ec2765612821"
      },
      "execution_count": null,
      "outputs": [
        {
          "output_type": "stream",
          "name": "stdout",
          "text": [
            "{'a': 2, 'n': 3, 'y': 3, 'b': 1, 'c': 1}\n"
          ]
        }
      ]
    },
    {
      "cell_type": "code",
      "source": [
        "help(dict)"
      ],
      "metadata": {
        "colab": {
          "base_uri": "https://localhost:8080/"
        },
        "id": "LQJJgQ0p2Q8g",
        "outputId": "d7a4c338-3ebe-4010-eb81-444c3c56cdb7"
      },
      "execution_count": null,
      "outputs": [
        {
          "output_type": "stream",
          "name": "stdout",
          "text": [
            "Help on class dict in module builtins:\n",
            "\n",
            "class dict(object)\n",
            " |  dict() -> new empty dictionary\n",
            " |  dict(mapping) -> new dictionary initialized from a mapping object's\n",
            " |      (key, value) pairs\n",
            " |  dict(iterable) -> new dictionary initialized as if via:\n",
            " |      d = {}\n",
            " |      for k, v in iterable:\n",
            " |          d[k] = v\n",
            " |  dict(**kwargs) -> new dictionary initialized with the name=value pairs\n",
            " |      in the keyword argument list.  For example:  dict(one=1, two=2)\n",
            " |  \n",
            " |  Built-in subclasses:\n",
            " |      StgDict\n",
            " |  \n",
            " |  Methods defined here:\n",
            " |  \n",
            " |  __contains__(self, key, /)\n",
            " |      True if the dictionary has the specified key, else False.\n",
            " |  \n",
            " |  __delitem__(self, key, /)\n",
            " |      Delete self[key].\n",
            " |  \n",
            " |  __eq__(self, value, /)\n",
            " |      Return self==value.\n",
            " |  \n",
            " |  __ge__(self, value, /)\n",
            " |      Return self>=value.\n",
            " |  \n",
            " |  __getattribute__(self, name, /)\n",
            " |      Return getattr(self, name).\n",
            " |  \n",
            " |  __getitem__(...)\n",
            " |      x.__getitem__(y) <==> x[y]\n",
            " |  \n",
            " |  __gt__(self, value, /)\n",
            " |      Return self>value.\n",
            " |  \n",
            " |  __init__(self, /, *args, **kwargs)\n",
            " |      Initialize self.  See help(type(self)) for accurate signature.\n",
            " |  \n",
            " |  __ior__(self, value, /)\n",
            " |      Return self|=value.\n",
            " |  \n",
            " |  __iter__(self, /)\n",
            " |      Implement iter(self).\n",
            " |  \n",
            " |  __le__(self, value, /)\n",
            " |      Return self<=value.\n",
            " |  \n",
            " |  __len__(self, /)\n",
            " |      Return len(self).\n",
            " |  \n",
            " |  __lt__(self, value, /)\n",
            " |      Return self<value.\n",
            " |  \n",
            " |  __ne__(self, value, /)\n",
            " |      Return self!=value.\n",
            " |  \n",
            " |  __or__(self, value, /)\n",
            " |      Return self|value.\n",
            " |  \n",
            " |  __repr__(self, /)\n",
            " |      Return repr(self).\n",
            " |  \n",
            " |  __reversed__(self, /)\n",
            " |      Return a reverse iterator over the dict keys.\n",
            " |  \n",
            " |  __ror__(self, value, /)\n",
            " |      Return value|self.\n",
            " |  \n",
            " |  __setitem__(self, key, value, /)\n",
            " |      Set self[key] to value.\n",
            " |  \n",
            " |  __sizeof__(...)\n",
            " |      D.__sizeof__() -> size of D in memory, in bytes\n",
            " |  \n",
            " |  clear(...)\n",
            " |      D.clear() -> None.  Remove all items from D.\n",
            " |  \n",
            " |  copy(...)\n",
            " |      D.copy() -> a shallow copy of D\n",
            " |  \n",
            " |  get(self, key, default=None, /)\n",
            " |      Return the value for key if key is in the dictionary, else default.\n",
            " |  \n",
            " |  items(...)\n",
            " |      D.items() -> a set-like object providing a view on D's items\n",
            " |  \n",
            " |  keys(...)\n",
            " |      D.keys() -> a set-like object providing a view on D's keys\n",
            " |  \n",
            " |  pop(...)\n",
            " |      D.pop(k[,d]) -> v, remove specified key and return the corresponding value.\n",
            " |      \n",
            " |      If the key is not found, return the default if given; otherwise,\n",
            " |      raise a KeyError.\n",
            " |  \n",
            " |  popitem(self, /)\n",
            " |      Remove and return a (key, value) pair as a 2-tuple.\n",
            " |      \n",
            " |      Pairs are returned in LIFO (last-in, first-out) order.\n",
            " |      Raises KeyError if the dict is empty.\n",
            " |  \n",
            " |  setdefault(self, key, default=None, /)\n",
            " |      Insert key with a value of default if key is not in the dictionary.\n",
            " |      \n",
            " |      Return the value for key if key is in the dictionary, else default.\n",
            " |  \n",
            " |  update(...)\n",
            " |      D.update([E, ]**F) -> None.  Update D from dict/iterable E and F.\n",
            " |      If E is present and has a .keys() method, then does:  for k in E: D[k] = E[k]\n",
            " |      If E is present and lacks a .keys() method, then does:  for k, v in E: D[k] = v\n",
            " |      In either case, this is followed by: for k in F:  D[k] = F[k]\n",
            " |  \n",
            " |  values(...)\n",
            " |      D.values() -> an object providing a view on D's values\n",
            " |  \n",
            " |  ----------------------------------------------------------------------\n",
            " |  Class methods defined here:\n",
            " |  \n",
            " |  __class_getitem__(...) from builtins.type\n",
            " |      See PEP 585\n",
            " |  \n",
            " |  fromkeys(iterable, value=None, /) from builtins.type\n",
            " |      Create a new dictionary with keys from iterable and values set to value.\n",
            " |  \n",
            " |  ----------------------------------------------------------------------\n",
            " |  Static methods defined here:\n",
            " |  \n",
            " |  __new__(*args, **kwargs) from builtins.type\n",
            " |      Create and return a new object.  See help(type) for accurate signature.\n",
            " |  \n",
            " |  ----------------------------------------------------------------------\n",
            " |  Data and other attributes defined here:\n",
            " |  \n",
            " |  __hash__ = None\n",
            "\n"
          ]
        }
      ]
    },
    {
      "cell_type": "code",
      "source": [
        "#Clearing a dictionary: Use the clear() method to remove all elements from the dictionary.\n",
        "\n",
        "my_dict = {\"apple\": 2, \"banana\": 3, \"cherry\": 4}\n",
        "my_dict.clear()\n",
        "print(my_dict) # Output: {}"
      ],
      "metadata": {
        "colab": {
          "base_uri": "https://localhost:8080/"
        },
        "id": "IsRFbuHn6kBy",
        "outputId": "5a697c57-9439-4550-b919-e841129a3313"
      },
      "execution_count": null,
      "outputs": [
        {
          "output_type": "stream",
          "name": "stdout",
          "text": [
            "{}\n"
          ]
        }
      ]
    },
    {
      "cell_type": "code",
      "source": [
        "# Removing elements: Use the del keyword with the key to remove an element from the dictionary.\n",
        "\n",
        "my_dict = {\"apple\": 2, \"banana\": 3, \"cherry\": 4}\n",
        "del my_dict[\"banana\"]\n",
        "print(my_dict) # Output: {\"apple\": 2, \"cherry\": 4}"
      ],
      "metadata": {
        "colab": {
          "base_uri": "https://localhost:8080/"
        },
        "id": "Jb8PgxR66cMQ",
        "outputId": "acffe9b7-79ac-4b58-b026-7980bfd4a195"
      },
      "execution_count": null,
      "outputs": [
        {
          "output_type": "stream",
          "name": "stdout",
          "text": [
            "{'apple': 2, 'cherry': 4}\n"
          ]
        }
      ]
    },
    {
      "cell_type": "code",
      "source": [
        "#Copying a dictionary: Use the copy() method to create a shallow copy of the dictionary.\n",
        "\n",
        "my_dict = {\"apple\": 2, \"banana\": 3, \"cherry\": 4}\n",
        "new_dict = my_dict.copy()\n",
        "print(new_dict) # Output: {\"apple\": 2, \"banana\": 3, \"cherry\": 4}"
      ],
      "metadata": {
        "colab": {
          "base_uri": "https://localhost:8080/"
        },
        "id": "qszXZB445WkR",
        "outputId": "9c8032b2-64fd-4290-8c96-fac158250479"
      },
      "execution_count": null,
      "outputs": [
        {
          "output_type": "stream",
          "name": "stdout",
          "text": [
            "{'apple': 2, 'banana': 3, 'cherry': 4}\n"
          ]
        }
      ]
    },
    {
      "cell_type": "markdown",
      "source": [
        "### **Set Methods**\n",
        "* A set is an unordered collection with no duplicate elements.\n",
        "* Basic uses include\n",
        "* 1. membership testing and\n",
        "* 2. eliminating duplicate entries.\n",
        "\n",
        "Set objects also support *mathematical operations* like\n",
        "* 1.union,\n",
        "* 2. intersection,\n",
        "* 3. difference, and\n",
        "* 4. symmetric difference.\n",
        "\n",
        "* Note: to create an empty set you have to use set(), not {}; the latter creates an empty dictionary,\n",
        "\n",
        "```\n",
        "add()\n",
        "Adds an element to the set\n",
        "use - set, dict.keys()\n",
        "ex = {'a','b'}\n",
        "ex.add('c') —> {'c', 'b', 'a'}\n",
        "\n",
        "update()\n",
        "Update the set with another set or any other iterable\n",
        "set, dict.keys()\n",
        "ex = {'a','b'}\n",
        "ex.update(['c','d']) —> {'c', 'b', 'a', 'd'}\n",
        "\n",
        "union()\n",
        "Return a set containing the union of sets\n",
        "set, dict.keys()\n",
        "ex1 = {'a','b','c'}\n",
        "ex2 = {'c','d','e'}\n",
        "ex1.union(ex2) —> {'a', 'b', 'c', 'd', 'e'}\n",
        "\n",
        "intersection()\n",
        "Returns a set that is the intersection of two or more sets\n",
        "set, dict.keys()\n",
        "ex1 = {'a','b','c'}\n",
        "ex2 = {'c','d','e'}\n",
        "ex1.intersection(ex2) —> {’c’}\n",
        "\n",
        "difference()\n",
        "Returns a set containing the difference between two or more sets\n",
        "set, dict.keys()\n",
        "ex1 = {'a','b','c'}\n",
        "ex2 = {'c','d','e'}\n",
        "ex1.difference(ex2) —> {’a’, ’b’}\n",
        "\n",
        "symmetric_difference()\n",
        "Returns a set with the symmetric differences of two sets\n",
        "set, dict.keys()\n",
        "ex1 = {'a','b','c'}\n",
        "ex2 = {'c','d','e'}\n",
        "ex1.symmetric_difference()(ex2) —> {’a’, ’b’, ’d’, ‘e’}\n",
        "\n",
        "remove()\n",
        "Removes the specified element\n",
        "List, set\n",
        "ex1 = {'a','b','c'}\n",
        "ex1.remove('a') —> {’b’, ‘c’}\n",
        "\n",
        "clear()\n",
        "Removes all the elements from the set\n",
        "List,Dictionary, Set\n",
        "ex1 = {'a','b','c'}\n",
        "ex1.clear() —> {}\n",
        "\n",
        "copy()\n",
        "Returns a copy of the set\n",
        " List, Dictionary, Set\n",
        "ex1 = {'a','b','c'}\n",
        "ex2 = ex1.copy()\n",
        "print(ex1 == ex2) —> True\n",
        "```\n"
      ],
      "metadata": {
        "id": "gDIYk_h4cMv-"
      }
    },
    {
      "cell_type": "code",
      "source": [
        "basket = {'apple', 'orange', 'apple', 'pear', 'orange', 'banana'}\n",
        "print(basket)\n",
        "# show that duplicates have been removed\n",
        "{'orange', 'banana', 'pear', 'apple'}\n",
        "\n",
        "# fast membership testing\n",
        "'orange' in basket\n",
        "True\n",
        "'crabgrass' in basket\n",
        "False\n",
        "\n",
        "# Demonstrate set operations on unique letters from two words\n",
        "\n",
        "a = set('abracadabra')\n",
        "b = set('alacazam')\n",
        "a                                  # unique letters in a\n",
        "{'a', 'r', 'b', 'c', 'd'}\n",
        "a - b                              # letters in a but not in b\n",
        "{'r', 'd', 'b'}\n",
        "a | b                              # letters in a or b or both\n",
        "{'a', 'c', 'r', 'd', 'b', 'm', 'z', 'l'}\n",
        "a & b                              # letters in both a and b\n",
        "{'a', 'c'}\n",
        "a ^ b   # letters in a or b but not both\n",
        "{'r', 'd', 'b', 'm', 'z', 'l'}"
      ],
      "metadata": {
        "id": "7SjKOdtJnBPr"
      },
      "execution_count": null,
      "outputs": []
    },
    {
      "cell_type": "code",
      "source": [
        "# Similarly to list comprehensions, set comprehensions are also supported:\n",
        "\n",
        "a = {x for x in 'abracadabra' if x not in 'abc'}\n",
        "a\n",
        "#{'r', 'd'}"
      ],
      "metadata": {
        "colab": {
          "base_uri": "https://localhost:8080/"
        },
        "id": "BzlxIMPunzAE",
        "outputId": "11044134-e018-4a8d-bec1-0bba5c40f6b2"
      },
      "execution_count": null,
      "outputs": [
        {
          "output_type": "execute_result",
          "data": {
            "text/plain": [
              "{'d', 'r'}"
            ]
          },
          "metadata": {},
          "execution_count": 22
        }
      ]
    },
    {
      "cell_type": "code",
      "source": [
        "# Define sets for fruits in each basket\n",
        "\n",
        "basket1 = {'apple', 'banana', 'grape', 'orange'}\n",
        "basket2 = {'banana', 'mango', 'pineapple', 'orange'}\n",
        "\n",
        "\n",
        "# Find the total number of fruits available\n",
        "\n",
        "total_fruits = len(basket1)+len(basket2)\n",
        "print(\"Total number of fruits available:\", total_fruits)\n",
        "\n",
        "\n",
        "# Find fruits available in both baskets\n",
        "\n",
        "both_baskets = basket1 | basket2\n",
        "print(\"All the available fruits:\", both_baskets)\n",
        "\n",
        "\n",
        "# Find only the common fruits in both baskets\n",
        "\n",
        "common_fruits = basket1 & basket2\n",
        "print(\"Common fruits in both baskets:\", common_fruits)\n",
        "\n",
        "# Find fruits unique to each basket\n",
        "\n",
        "unique_basket1 = basket1 - basket2\n",
        "unique_basket2 = basket2 - basket1\n",
        "print(\"Fruits unique to basket 1:\", unique_basket1)\n",
        "print(\"Fruits unique to basket 2:\", unique_basket2)"
      ],
      "metadata": {
        "colab": {
          "base_uri": "https://localhost:8080/"
        },
        "id": "OXqbC083679z",
        "outputId": "8a3e6650-3145-43b9-b136-62d4ab513d76"
      },
      "execution_count": null,
      "outputs": [
        {
          "output_type": "stream",
          "name": "stdout",
          "text": [
            "Total number of fruits available: 8\n",
            "All the available fruits: {'grape', 'mango', 'apple', 'pineapple', 'banana', 'orange'}\n",
            "Common fruits in both baskets: {'banana', 'orange'}\n",
            "Fruits unique to basket 1: {'apple', 'grape'}\n",
            "Fruits unique to basket 2: {'mango', 'pineapple'}\n"
          ]
        }
      ]
    },
    {
      "cell_type": "code",
      "source": [
        "set1 = {1, 2, 3}\n",
        "set2 = {3, 4, 5}\n",
        "set1.add(4)\n",
        "result2 = set1.add(7) #can't assign result to new veriable while\n",
        "# using .add like print (unlike 'return') .add doesn't 'hold value' 'just displays'\n",
        "print(set1)\n",
        "print(result2)"
      ],
      "metadata": {
        "colab": {
          "base_uri": "https://localhost:8080/"
        },
        "id": "H8nXmmwe8PcF",
        "outputId": "a6c7e12f-2900-4c87-a918-e1fdf9c84e29"
      },
      "execution_count": null,
      "outputs": [
        {
          "output_type": "stream",
          "name": "stdout",
          "text": [
            "{1, 2, 3, 4, 7}\n",
            "None\n"
          ]
        }
      ]
    },
    {
      "cell_type": "code",
      "source": [
        "help(add)"
      ],
      "metadata": {
        "colab": {
          "base_uri": "https://localhost:8080/",
          "height": 146
        },
        "id": "gVfhKbU98ko2",
        "outputId": "c7414a3a-9072-4961-f617-817a94a0f2c5"
      },
      "execution_count": null,
      "outputs": [
        {
          "output_type": "error",
          "ename": "NameError",
          "evalue": "name 'add' is not defined",
          "traceback": [
            "\u001b[0;31m---------------------------------------------------------------------------\u001b[0m",
            "\u001b[0;31mNameError\u001b[0m                                 Traceback (most recent call last)",
            "\u001b[0;32m<ipython-input-37-1daca25c58d4>\u001b[0m in \u001b[0;36m<cell line: 1>\u001b[0;34m()\u001b[0m\n\u001b[0;32m----> 1\u001b[0;31m \u001b[0mhelp\u001b[0m\u001b[0;34m(\u001b[0m\u001b[0madd\u001b[0m\u001b[0;34m)\u001b[0m\u001b[0;34m\u001b[0m\u001b[0;34m\u001b[0m\u001b[0m\n\u001b[0m",
            "\u001b[0;31mNameError\u001b[0m: name 'add' is not defined"
          ]
        }
      ]
    },
    {
      "cell_type": "code",
      "source": [
        "help(set)"
      ],
      "metadata": {
        "colab": {
          "base_uri": "https://localhost:8080/"
        },
        "id": "6PhsLj3l2U67",
        "outputId": "b1955940-ded4-446a-91e0-33633181099b"
      },
      "execution_count": null,
      "outputs": [
        {
          "output_type": "stream",
          "name": "stdout",
          "text": [
            "Help on class set in module builtins:\n",
            "\n",
            "class set(object)\n",
            " |  set() -> new empty set object\n",
            " |  set(iterable) -> new set object\n",
            " |  \n",
            " |  Build an unordered collection of unique elements.\n",
            " |  \n",
            " |  Methods defined here:\n",
            " |  \n",
            " |  __and__(self, value, /)\n",
            " |      Return self&value.\n",
            " |  \n",
            " |  __contains__(...)\n",
            " |      x.__contains__(y) <==> y in x.\n",
            " |  \n",
            " |  __eq__(self, value, /)\n",
            " |      Return self==value.\n",
            " |  \n",
            " |  __ge__(self, value, /)\n",
            " |      Return self>=value.\n",
            " |  \n",
            " |  __getattribute__(self, name, /)\n",
            " |      Return getattr(self, name).\n",
            " |  \n",
            " |  __gt__(self, value, /)\n",
            " |      Return self>value.\n",
            " |  \n",
            " |  __iand__(self, value, /)\n",
            " |      Return self&=value.\n",
            " |  \n",
            " |  __init__(self, /, *args, **kwargs)\n",
            " |      Initialize self.  See help(type(self)) for accurate signature.\n",
            " |  \n",
            " |  __ior__(self, value, /)\n",
            " |      Return self|=value.\n",
            " |  \n",
            " |  __isub__(self, value, /)\n",
            " |      Return self-=value.\n",
            " |  \n",
            " |  __iter__(self, /)\n",
            " |      Implement iter(self).\n",
            " |  \n",
            " |  __ixor__(self, value, /)\n",
            " |      Return self^=value.\n",
            " |  \n",
            " |  __le__(self, value, /)\n",
            " |      Return self<=value.\n",
            " |  \n",
            " |  __len__(self, /)\n",
            " |      Return len(self).\n",
            " |  \n",
            " |  __lt__(self, value, /)\n",
            " |      Return self<value.\n",
            " |  \n",
            " |  __ne__(self, value, /)\n",
            " |      Return self!=value.\n",
            " |  \n",
            " |  __or__(self, value, /)\n",
            " |      Return self|value.\n",
            " |  \n",
            " |  __rand__(self, value, /)\n",
            " |      Return value&self.\n",
            " |  \n",
            " |  __reduce__(...)\n",
            " |      Return state information for pickling.\n",
            " |  \n",
            " |  __repr__(self, /)\n",
            " |      Return repr(self).\n",
            " |  \n",
            " |  __ror__(self, value, /)\n",
            " |      Return value|self.\n",
            " |  \n",
            " |  __rsub__(self, value, /)\n",
            " |      Return value-self.\n",
            " |  \n",
            " |  __rxor__(self, value, /)\n",
            " |      Return value^self.\n",
            " |  \n",
            " |  __sizeof__(...)\n",
            " |      S.__sizeof__() -> size of S in memory, in bytes\n",
            " |  \n",
            " |  __sub__(self, value, /)\n",
            " |      Return self-value.\n",
            " |  \n",
            " |  __xor__(self, value, /)\n",
            " |      Return self^value.\n",
            " |  \n",
            " |  add(...)\n",
            " |      Add an element to a set.\n",
            " |      \n",
            " |      This has no effect if the element is already present.\n",
            " |  \n",
            " |  clear(...)\n",
            " |      Remove all elements from this set.\n",
            " |  \n",
            " |  copy(...)\n",
            " |      Return a shallow copy of a set.\n",
            " |  \n",
            " |  difference(...)\n",
            " |      Return the difference of two or more sets as a new set.\n",
            " |      \n",
            " |      (i.e. all elements that are in this set but not the others.)\n",
            " |  \n",
            " |  difference_update(...)\n",
            " |      Remove all elements of another set from this set.\n",
            " |  \n",
            " |  discard(...)\n",
            " |      Remove an element from a set if it is a member.\n",
            " |      \n",
            " |      If the element is not a member, do nothing.\n",
            " |  \n",
            " |  intersection(...)\n",
            " |      Return the intersection of two sets as a new set.\n",
            " |      \n",
            " |      (i.e. all elements that are in both sets.)\n",
            " |  \n",
            " |  intersection_update(...)\n",
            " |      Update a set with the intersection of itself and another.\n",
            " |  \n",
            " |  isdisjoint(...)\n",
            " |      Return True if two sets have a null intersection.\n",
            " |  \n",
            " |  issubset(...)\n",
            " |      Report whether another set contains this set.\n",
            " |  \n",
            " |  issuperset(...)\n",
            " |      Report whether this set contains another set.\n",
            " |  \n",
            " |  pop(...)\n",
            " |      Remove and return an arbitrary set element.\n",
            " |      Raises KeyError if the set is empty.\n",
            " |  \n",
            " |  remove(...)\n",
            " |      Remove an element from a set; it must be a member.\n",
            " |      \n",
            " |      If the element is not a member, raise a KeyError.\n",
            " |  \n",
            " |  symmetric_difference(...)\n",
            " |      Return the symmetric difference of two sets as a new set.\n",
            " |      \n",
            " |      (i.e. all elements that are in exactly one of the sets.)\n",
            " |  \n",
            " |  symmetric_difference_update(...)\n",
            " |      Update a set with the symmetric difference of itself and another.\n",
            " |  \n",
            " |  union(...)\n",
            " |      Return the union of sets as a new set.\n",
            " |      \n",
            " |      (i.e. all elements that are in either set.)\n",
            " |  \n",
            " |  update(...)\n",
            " |      Update a set with the union of itself and others.\n",
            " |  \n",
            " |  ----------------------------------------------------------------------\n",
            " |  Class methods defined here:\n",
            " |  \n",
            " |  __class_getitem__(...) from builtins.type\n",
            " |      See PEP 585\n",
            " |  \n",
            " |  ----------------------------------------------------------------------\n",
            " |  Static methods defined here:\n",
            " |  \n",
            " |  __new__(*args, **kwargs) from builtins.type\n",
            " |      Create and return a new object.  See help(type) for accurate signature.\n",
            " |  \n",
            " |  ----------------------------------------------------------------------\n",
            " |  Data and other attributes defined here:\n",
            " |  \n",
            " |  __hash__ = None\n",
            "\n"
          ]
        }
      ]
    },
    {
      "cell_type": "code",
      "source": [
        "#🔍 Sets in Python are unordered collection of unique elements.\n",
        "\n",
        "#Sets have their own set of methods and operators. The most common operators used with sets include:\n",
        "\n",
        "# Union operator (|), returns a new set with all the elements from both sets\n",
        "# Intersection operator (&), returns a new set with only the common elements between both sets\n",
        "# Difference operator (-), returns a new set with only the elements from the first set that are not in the second set"
      ],
      "metadata": {
        "id": "X8XVs6nH-wS3"
      },
      "execution_count": null,
      "outputs": []
    },
    {
      "cell_type": "code",
      "source": [
        "set_a = {1, 2, 3}\n",
        "set_b = {2, 3, 4}\n",
        "\n",
        "# # union operator\n",
        "print(set_a | set_b) # {1, 2, 3, 4}\n",
        "\n",
        "# # intersection operator\n",
        "print(set_a & set_b) # {2, 3}\n",
        "\n",
        "# # difference operator\n",
        "print(set_a - set_b) # {1}\n",
        "\n",
        "# # elements outside intersection\n",
        "print((set_a | set_b) - (set_a & set_b))"
      ],
      "metadata": {
        "colab": {
          "base_uri": "https://localhost:8080/"
        },
        "id": "S8i5Q3F0_fWU",
        "outputId": "def78999-67ac-4aea-fe53-7612f8fd1279"
      },
      "execution_count": null,
      "outputs": [
        {
          "output_type": "stream",
          "name": "stdout",
          "text": [
            "{1, 2, 3, 4}\n",
            "{2, 3}\n",
            "{1}\n",
            "{1, 4}\n"
          ]
        }
      ]
    },
    {
      "cell_type": "markdown",
      "source": [],
      "metadata": {
        "id": "LRtH2ItUgmSr"
      }
    },
    {
      "cell_type": "markdown",
      "source": [
        "# MATRIX DATA TYPE- Nested List Comprehensions\n",
        "\n",
        "```\n",
        "The initial expression in a list comprehension can be any arbitrary expression, including another list comprehension.\n",
        "\n",
        "Consider the following example of a 3x4 matrix implemented as a list of 3 lists of length 4:\n",
        "\n",
        ">>>\n",
        "matrix = [\n",
        "    [1, 2, 3, 4],\n",
        "    [5, 6, 7, 8],\n",
        "    [9, 10, 11, 12],\n",
        "]\n",
        "\n",
        "\n",
        "The following list comprehension will transpose rows and columns:\n",
        "\n",
        ">>>\n",
        "[[row[i] for row in matrix] for i in range(4)]\n",
        "\n",
        "# [[1, 5, 9], [2, 6, 10], [3, 7, 11], [4, 8, 12]]\n",
        "\n",
        "# As we saw in the previous section,\n",
        "# the inner list comprehension is evaluated in\n",
        "# the context of the for that follows it,\n",
        "so this example is equivalent to:\n",
        "\n",
        ">>>\n",
        "\n",
        "transposed = []\n",
        "for i in range(4):\n",
        "    transposed.append([row[i] for row in matrix])\n",
        "\n",
        "transposed\n",
        "# [[1, 5, 9], [2, 6, 10], [3, 7, 11], [4, 8, 12]]\n",
        "\n",
        "which, in turn, is the same as:\n",
        "\n",
        ">>>\n",
        "transposed = []\n",
        "for i in range(4):\n",
        "\n",
        "    # the following 3 lines implement the nested listcomp\n",
        "\n",
        "    transposed_row = []\n",
        "    for row in matrix:\n",
        "        transposed_row.append(row[i])\n",
        "    transposed.append(transposed_row)\n",
        "\n",
        "transposed\n",
        "\n",
        "# [[1, 5, 9], [2, 6, 10], [3, 7, 11], [4, 8, 12]]\n",
        "\n",
        "In the real world, you should prefer built-in functions to complex flow statements.\n",
        "The zip() function would do a great job for this use case:\n",
        "\n",
        ">>>\n",
        "list(zip(*matrix))\n",
        "[(1, 5, 9), (2, 6, 10), (3, 7, 11), (4, 8, 12)]\n",
        "\n",
        "See Unpacking Argument Lists for details on the asterisk in this line.\n",
        "\n",
        "\n",
        "```\n",
        "\n"
      ],
      "metadata": {
        "id": "Vt89_TDSfou9"
      }
    },
    {
      "cell_type": "code",
      "source": [],
      "metadata": {
        "id": "8j3e9L6_gl7q"
      },
      "execution_count": null,
      "outputs": []
    },
    {
      "cell_type": "markdown",
      "source": [
        "### **Commonly used Inbuilt Functions**\n",
        "\n",
        "```\n",
        "dir()\n",
        "Returns a list of the 1. variables that are defined in current sesstion and 2. specified object's properties and methods\n",
        "dir() —> Prints all the objects\n",
        "\n",
        "chr()\n",
        "Returns a character from the specified Unicode code.\n",
        "chr(49) —> ‘1’\n",
        "\n",
        "ord()\n",
        "Convert an integer representing the Unicode of the specified character\n",
        "ord('1') —> 49\n",
        "\n",
        "bin()\n",
        "Returns the binary version of a number\n",
        "bin(17) —> ‘0b10001’\n",
        "\n",
        "print()\n",
        "function prints the specified message to the screen or other standard output device.\n",
        "Compatible with all data types.\n",
        "print(”Hello World”) —> “Hello World”\n",
        "print([1,2,4,5]) —> [1,2,4,5]\n",
        "————————-\n",
        "To include variable in the print use f string\n",
        "x = ‘hello world’\n",
        "print(f”I want to print {x}”) —> I want to print hello world.\n",
        "\n",
        "\n",
        "input()\n",
        "function allows user input and stores value as a string. output is by default 'string data type'\n",
        "Accepts all types of input\n",
        "input(\"Enter your name:\") —> Asks user to input name.\n",
        "—————————-\n",
        "Input will stores values as string data type.\n",
        "Typecasting is needed\n",
        "x = int(input(’Enter your age’)) → Str to Int\n",
        "y = eval(input(’Enter list/tuple/set/dict’) —> To get input as list, tuple,set, dict\n",
        "\n",
        "\n",
        "help()\n",
        "Executes the built-in help system\n",
        "help() —> prompts for keywords for which help is needed\n",
        "\n",
        "\n",
        "int()\n",
        "Returns an integer number\n",
        "initialise the int format. when converting from float, decimal just deleted decimal not round off to higher number so 4.9 --> 4\n",
        "\n",
        "\n",
        "float()\n",
        "Returns a floating point number\n",
        "initialise the float format.\n",
        "\n",
        "\n",
        "bool()\n",
        "Returns the boolean value of the specified object\n",
        "initialise the boolean format.\n",
        "\n",
        "\n",
        "type()\n",
        "Returns the type of an object\n",
        "ex = [2,3,4]\n",
        "type(ex) —> list ; returns the type of object.\n",
        "\n",
        "\n",
        "round()\n",
        "Rounds a numbers\n",
        "round(1.45,1) —> 1.4 ; rounds the number after decimal >5 goes to next higher number\n",
        "————————-\n",
        "round(1.4567,2) —> 1.46\n",
        "round(1.4537,2) —→\n",
        "1.45\n",
        "round(1.4567)—> 1 : by default return the integer before decimal if no decimal given as an input.\n",
        "\n",
        "\n",
        "str()\n",
        "Returns a string object\n",
        "typecast or initialise\n",
        "\n",
        "\n",
        "list()\n",
        "Returns a list\n",
        "typecast or initialise\n",
        "\n",
        "\n",
        "tuple()\n",
        "Returns a tuple\n",
        "typecast or initialise\n",
        "\n",
        "\n",
        "dict()\n",
        "Returns a dictionary\n",
        "typecast or initialise\n",
        "\n",
        "\n",
        "set()\n",
        "Returns a new set object\n",
        "typecast or initialise\n",
        "\n",
        "\n",
        "len()\n",
        "Returns the length of an object\n",
        "string, list, tuple, set, dictionary\n",
        "ex = [3,4,5]\n",
        "len(ex) —> 3\n",
        "\n",
        "\n",
        "sum()\n",
        "Sums the items of an iterator\n",
        "Only takes numbers in input\n",
        "ex = [3,4,5]\n",
        "sum(ex) —> 12\n",
        "\n",
        "\n",
        "max()\n",
        "Returns the largest item in an iterable\n",
        "ex = [3,4,5]\n",
        "max(ex) —> 5\n",
        "————\n",
        "In case of all string in a list, it will output base on unicode of str.\n",
        "ex = [’A’,’B’, ‘c’,’d’]\n",
        "max(ex) —> d ;as unicode of d is max.\n",
        "\n",
        "\n",
        "min()\n",
        "Returns the smallest item in an iterable\n",
        "ex = [3,4,5]\n",
        "min(ex) —> 3\n",
        "——-\n",
        "In case of all string in a list, it will output base on unicode of str.\n",
        "ex = [’A’,’B’, ‘c’,’d’]\n",
        "min(ex) —> A ;as unicode of A is min.\n",
        "\n",
        "\n",
        "sorted() # better to use this than sort\n",
        "function returns a sorted list of the specified iterable object.\n",
        "String, List, Tuple, set, Dictionary\n",
        "ex = [3,6,4]\n",
        "sorted(ex) —> [3,4,6]\n",
        "sorted(ex, reverse = True) —> [6,4,3]\n",
        "————-\n",
        "In case of all string in a list, it will output base on unicode of str.\n",
        "If Reverse = True —> descending order ;\n",
        "If 'blank' or 'reverse = False' —> ascending order\n",
        "\n",
        "\n",
        "abs()\n",
        "Returns the absolute value of a number\n",
        "Accepts int and float as input\n",
        "abs(-1) —> 1\n",
        "abs(1.0) —> 1.0\n",
        "abs(’a’) —> error\n",
        "\n",
        "\n",
        "enumerate()\n",
        "Takes a collection (e.g. a tuple) and returns it as an enumerate object\n",
        "all data types\n",
        "ex = [3,7,5]\n",
        "list(enumerate(ex)) —> [(0, 3), (1, 7), (2, 5)]\n",
        "——-\n",
        "Breaks it down to tuple of index and value\n",
        "in case of dictionary:\n",
        "\n",
        "\n",
        "dict(enumerate(ex)) —> {0:3,1: 7,2:5} Converts to index as keys and elements as values.\n",
        "\n",
        "\n",
        "zip()\n",
        "Returns an iterator from two or more iterators\n",
        "list1 = [2,3,3,5]\n",
        "list2 = ['a', 'b', 'c', 'd']\n",
        "list(zip(list1, list2)) —> [(2, 'a'), (3, 'b'), (3, 'c'), (5, 'd')]\n",
        "dict(zip(list1, list2)) —> {2: 'a', 3: 'c', 5: 'd'}\n",
        "——-\n",
        "Zips it till the list with smallest number of elements.\n",
        "list1 = [2,5]\n",
        "list2 = ['a', 'b', 'c', 'd']\n",
        "list(zip(list1, list2)) —> [(2, 'a'), (5, 'd')]\n",
        "\n",
        "\n",
        "eval()\n",
        "Evaluates and executes an expression\n",
        "eval(’[2,3,4,6]’) —> [2,3,4,6]\n",
        "eval(\"print('hello')\") —>  hello\n",
        "\n",
        "\n",
        "range()\n",
        "Returns a sequence of numbers, starting from 0 and increments by 1 (by default)\n",
        "list(range(1,6,1)) —> [1,2,3,4,5]\n",
        "list(range(1,6,2)) —> [1,3,5]\n",
        "———\n",
        "list(range(2,8,3)) —>\n",
        "[2,5,8]\n",
        "list(range(10,0,-2) —>\n",
        "[10,8,6,4,2]\n",
        "Follows same concept of I,j,k in slicing\n",
        "\n",
        "\n",
        "del()\n",
        "Deletes the object\n",
        "ex = ‘hello’\n",
        "del ex —> deletes the variable.\n",
        "——-\n",
        "can be used to delete the key in dictionary\n",
        "ex = {1:’hello’,2:’world’}\n",
        "del ex[1] —> {2:’world’}\n",
        "\n",
        "```\n",
        "\n"
      ],
      "metadata": {
        "id": "gANmSNTSeN_d"
      }
    },
    {
      "cell_type": "markdown",
      "source": [
        "# DICTIONARY\n",
        "\n",
        "* other languages as “associative memories” or “associative arrays”.\n",
        "\n",
        "* Unlike sequences, which are indexed by a range of numbers, dictionaries are indexed by keys, which can be any immutable type;\n",
        "* 1. strings and\n",
        "* 2. numbers can always be keys.\n",
        "* 3. Tuples can be used as keys if they contain only strings, numbers, or tuples; if a tuple contains any mutable object either directly or indirectly, it cannot be used as a key.\n",
        "\n",
        "* You can’t use lists as keys, since lists can be modified in place using index assignments, slice assignments, or methods like append() and extend().\n",
        "\n",
        "* It is best to think of a dictionary as a set of key: value pairs, with the requirement that the keys are unique (within one dictionary).\n",
        "\n",
        "* The main operations on a dictionary are\n",
        "* 1. storing a value with some key and\n",
        "* 2. extracting the value given the key.\n",
        "* 3. It is also possible to delete a key:value pair with del.\n",
        "* 4. If you store using a key that is already in use, the old value associated with that key is forgotten.\n",
        "* 5. It is an error to extract a value using a non-existent key.\n",
        "* 6. list(d) on a dictionary returns a list of all the keys used in the dictionary, in insertion order\n",
        "* 7. if you want it sorted, just use sorted(d) instead.\n",
        "* 8. To check whether a single key is in the dictionary, use the in keyword."
      ],
      "metadata": {
        "id": "vByN0buNoghT"
      }
    },
    {
      "cell_type": "code",
      "source": [
        "dict1 = {'a':1, 'b':2, 'c':3, 'b':7, 'c':9}\n",
        "#define how each iteration stored in dict, 0 defines start value, '+1' defines value for each orrurance\n",
        "letter_count1 = dict1.get('b',0) # get = gets 'last' value of the 'key'\n",
        "letter_count2 = dict1.get('b',0)+5 # 0 is default empty value & +5 defines value to\n",
        "# latest occurance of character but if counted in loop 'each occurance' gets that '+5' value extra\n",
        "print(letter_count1)\n",
        "print(letter_count2)"
      ],
      "metadata": {
        "colab": {
          "base_uri": "https://localhost:8080/"
        },
        "outputId": "85254254-4a42-4905-b4ca-712a41c9a019",
        "id": "Issk9NsTSu__"
      },
      "execution_count": null,
      "outputs": [
        {
          "output_type": "stream",
          "name": "stdout",
          "text": [
            "7\n",
            "12\n"
          ]
        }
      ]
    },
    {
      "cell_type": "markdown",
      "source": [
        "# dictionary UNION"
      ],
      "metadata": {
        "id": "NrTNjnHUNhPn"
      }
    },
    {
      "cell_type": "code",
      "source": [
        "#Union of 2 dict take value from 2nd dictionary which have common key\n",
        "new_dict = {y: y*0 for y in range(5)} | {x: x**2 for x in range(7) if x >= 3}\n",
        "new_dict"
      ],
      "metadata": {
        "colab": {
          "base_uri": "https://localhost:8080/"
        },
        "id": "vAgzmkXzNklr",
        "outputId": "b55c3f32-f4d1-446c-dae4-b68dc51a7680"
      },
      "execution_count": 1,
      "outputs": [
        {
          "output_type": "execute_result",
          "data": {
            "text/plain": [
              "{0: 0, 1: 0, 2: 0, 3: 9, 4: 16, 5: 25, 6: 36}"
            ]
          },
          "metadata": {},
          "execution_count": 1
        }
      ]
    },
    {
      "cell_type": "code",
      "source": [
        "# Write a program which would\n",
        "# calculate the count of each\n",
        "# unique characters in a words and returns an appropriate\n",
        "# dictionary. Use a custom function to achieve this.\n",
        "def count_letters(word):\n",
        "\n",
        "    letter_count = {} #initialize empty dict\n",
        "    for letter in word:\n",
        "        if letter.isalpha():\n",
        "            letter = letter.lower()\n",
        "            letter_count[letter] = letter_count.get(letter, 0) +1\n",
        "            #define how each iteration stored in dict, 0 defines start value, '+1' defines value for each orrurance\n",
        "    return letter_count\n",
        "\n",
        "# Try out here\n",
        "word = \"Any Bny Cany\"\n",
        "result = count_letters(word)\n",
        "print(result)"
      ],
      "metadata": {
        "colab": {
          "base_uri": "https://localhost:8080/"
        },
        "outputId": "f960a342-9274-49be-882a-ec2765612821",
        "id": "Rwfgv8ciSvAB"
      },
      "execution_count": null,
      "outputs": [
        {
          "output_type": "stream",
          "name": "stdout",
          "text": [
            "{'a': 2, 'n': 3, 'y': 3, 'b': 1, 'c': 1}\n"
          ]
        }
      ]
    },
    {
      "cell_type": "markdown",
      "source": [
        "# Dictionary Indexing & Slicing\n",
        "\n",
        "\n",
        "*  Slicing a dictionary is not possible since dictionaries are unordered and do not support slicing.\n",
        "* However, you can get a **sub-set** of a dictionary by creating a **new dictionary** with only the **desired keys**.\n",
        "* You can use the\n",
        "  \n",
        "\n",
        "1.   ***dict()*** constructor and a\n",
        "2.   ***list typecast*** comprehension to achieve this.\n",
        "\n",
        "\n",
        "\n"
      ],
      "metadata": {
        "id": "uclSUlVzS3GD"
      }
    },
    {
      "cell_type": "code",
      "source": [
        "#The dict() constructor builds dictionaries directly from sequences of key-value pairs:\n",
        "\n",
        "di=dict([('sape', 4139), ('guido', 4127), ('jack', 4098)])\n",
        "di"
      ],
      "metadata": {
        "colab": {
          "base_uri": "https://localhost:8080/"
        },
        "id": "ctlFtQLhqeXk",
        "outputId": "91a6fd2f-01bb-428a-a8cf-9c1c3cf74e1a"
      },
      "execution_count": null,
      "outputs": [
        {
          "output_type": "execute_result",
          "data": {
            "text/plain": [
              "{'sape': 4139, 'guido': 4127, 'jack': 4098}"
            ]
          },
          "metadata": {},
          "execution_count": 23
        }
      ]
    },
    {
      "cell_type": "code",
      "source": [
        "#dict comprehensions can be used to create dictionaries from arbitrary key and value expressions:\n",
        "\n",
        "dic = {x: x**2 for x in (2, 4, 6)}\n",
        "dic"
      ],
      "metadata": {
        "colab": {
          "base_uri": "https://localhost:8080/"
        },
        "id": "0USa5mWUq0aS",
        "outputId": "2a0c17e3-3473-47d7-96ea-670dbada8542"
      },
      "execution_count": null,
      "outputs": [
        {
          "output_type": "execute_result",
          "data": {
            "text/plain": [
              "{2: 4, 4: 16, 6: 36}"
            ]
          },
          "metadata": {},
          "execution_count": 24
        }
      ]
    },
    {
      "cell_type": "code",
      "source": [
        "#When the keys are simple strings, it is sometimes easier to specify pairs using keyword arguments:\n",
        "\n",
        "dicti = dict(sape=4139, guido=4127, jack=4098)\n",
        "dicti"
      ],
      "metadata": {
        "colab": {
          "base_uri": "https://localhost:8080/"
        },
        "id": "EYLWeQl1rJzO",
        "outputId": "0b84f24b-5394-419a-bdd8-146c6566c6bb"
      },
      "execution_count": null,
      "outputs": [
        {
          "output_type": "execute_result",
          "data": {
            "text/plain": [
              "{'sape': 4139, 'guido': 4127, 'jack': 4098}"
            ]
          },
          "metadata": {},
          "execution_count": 25
        }
      ]
    },
    {
      "cell_type": "code",
      "source": [
        "my_dict = {'a': 1, 'b': 2, 'c': 3}\n",
        "subset_dict = dict((key, my_dict[key]) for key in ['a', 'c']) #This is an advanced technique which you'll explore later. Don't worry if you don't understand this yet.\n",
        "# returns {'a': 1, 'c': 3}\n",
        "subset_dict"
      ],
      "metadata": {
        "colab": {
          "base_uri": "https://localhost:8080/"
        },
        "id": "IIJIFNPm4hhS",
        "outputId": "f54e62cd-f9bc-463c-8dc8-fd6afe0fd588"
      },
      "execution_count": null,
      "outputs": [
        {
          "output_type": "execute_result",
          "data": {
            "text/plain": [
              "{'a': 1, 'c': 3}"
            ]
          },
          "metadata": {},
          "execution_count": 48
        }
      ]
    },
    {
      "cell_type": "code",
      "source": [
        "dir(dict)"
      ],
      "metadata": {
        "colab": {
          "base_uri": "https://localhost:8080/"
        },
        "id": "5_2R8UAksSgU",
        "outputId": "d0931faa-14e8-424b-8920-b279ff1738e9"
      },
      "execution_count": null,
      "outputs": [
        {
          "output_type": "execute_result",
          "data": {
            "text/plain": [
              "['__class__',\n",
              " '__class_getitem__',\n",
              " '__contains__',\n",
              " '__delattr__',\n",
              " '__delitem__',\n",
              " '__dir__',\n",
              " '__doc__',\n",
              " '__eq__',\n",
              " '__format__',\n",
              " '__ge__',\n",
              " '__getattribute__',\n",
              " '__getitem__',\n",
              " '__gt__',\n",
              " '__hash__',\n",
              " '__init__',\n",
              " '__init_subclass__',\n",
              " '__ior__',\n",
              " '__iter__',\n",
              " '__le__',\n",
              " '__len__',\n",
              " '__lt__',\n",
              " '__ne__',\n",
              " '__new__',\n",
              " '__or__',\n",
              " '__reduce__',\n",
              " '__reduce_ex__',\n",
              " '__repr__',\n",
              " '__reversed__',\n",
              " '__ror__',\n",
              " '__setattr__',\n",
              " '__setitem__',\n",
              " '__sizeof__',\n",
              " '__str__',\n",
              " '__subclasshook__',\n",
              " 'clear',\n",
              " 'copy',\n",
              " 'fromkeys',\n",
              " 'get',\n",
              " 'items',\n",
              " 'keys',\n",
              " 'pop',\n",
              " 'popitem',\n",
              " 'setdefault',\n",
              " 'update',\n",
              " 'values']"
            ]
          },
          "metadata": {},
          "execution_count": 43
        }
      ]
    },
    {
      "cell_type": "code",
      "source": [
        "my_dict = {\"name\": \"John\", \"age\": 30, \"city\": \"New York\"}\n",
        "\n",
        "# 0. print just key as string with \" \" write key\n",
        "print(\"name\")\n",
        "\n",
        "# 1. # WORKS FOR ONLY 1 VALUE EXTRACTION - using 1 'key string' as index\n",
        "\n",
        "print(my_dict[\"name\"])   # Output: \"John\"\n",
        "print(my_dict[\"city\"])   # Output: \"New York\"\n",
        "print(my_dict[\"name\",\"city\"])\n"
      ],
      "metadata": {
        "colab": {
          "base_uri": "https://localhost:8080/",
          "height": 237
        },
        "id": "hcwLh2vIS4xm",
        "outputId": "42277a0c-9108-49cf-d1cf-bb14c4e544fa"
      },
      "execution_count": null,
      "outputs": [
        {
          "output_type": "stream",
          "name": "stdout",
          "text": [
            "name\n",
            "John\n",
            "New York\n"
          ]
        },
        {
          "output_type": "error",
          "ename": "KeyError",
          "evalue": "('name', 'city')",
          "traceback": [
            "\u001b[0;31m---------------------------------------------------------------------------\u001b[0m",
            "\u001b[0;31mKeyError\u001b[0m                                  Traceback (most recent call last)",
            "\u001b[0;32m<ipython-input-36-a480cd137fba>\u001b[0m in \u001b[0;36m<cell line: 10>\u001b[0;34m()\u001b[0m\n\u001b[1;32m      8\u001b[0m \u001b[0mprint\u001b[0m\u001b[0;34m(\u001b[0m\u001b[0mmy_dict\u001b[0m\u001b[0;34m[\u001b[0m\u001b[0;34m\"name\"\u001b[0m\u001b[0;34m]\u001b[0m\u001b[0;34m)\u001b[0m   \u001b[0;31m# Output: \"John\"\u001b[0m\u001b[0;34m\u001b[0m\u001b[0;34m\u001b[0m\u001b[0m\n\u001b[1;32m      9\u001b[0m \u001b[0mprint\u001b[0m\u001b[0;34m(\u001b[0m\u001b[0mmy_dict\u001b[0m\u001b[0;34m[\u001b[0m\u001b[0;34m\"city\"\u001b[0m\u001b[0;34m]\u001b[0m\u001b[0;34m)\u001b[0m   \u001b[0;31m# Output: \"New York\"\u001b[0m\u001b[0;34m\u001b[0m\u001b[0;34m\u001b[0m\u001b[0m\n\u001b[0;32m---> 10\u001b[0;31m \u001b[0mprint\u001b[0m\u001b[0;34m(\u001b[0m\u001b[0mmy_dict\u001b[0m\u001b[0;34m[\u001b[0m\u001b[0;34m\"name\"\u001b[0m\u001b[0;34m,\u001b[0m\u001b[0;34m\"city\"\u001b[0m\u001b[0;34m]\u001b[0m\u001b[0;34m)\u001b[0m\u001b[0;34m\u001b[0m\u001b[0;34m\u001b[0m\u001b[0m\n\u001b[0m",
            "\u001b[0;31mKeyError\u001b[0m: ('name', 'city')"
          ]
        }
      ]
    },
    {
      "cell_type": "code",
      "source": [
        "my_dict = {'name': 'Alice', 'age': 30, 'city': 'New York'}\n",
        "# 2. # Extracting all keys with .keys - must be typecasted to list for extraction which is usable\n",
        "key_default_output = my_dict.keys()\n",
        "all_keys_must_be_extracted_as_list = list(my_dict.keys())\n",
        "print(key_default_output)\n",
        "print(all_keys_must_be_extracted_as_list)"
      ],
      "metadata": {
        "colab": {
          "base_uri": "https://localhost:8080/"
        },
        "id": "OAD0It7VWgEg",
        "outputId": "04b1017b-56e6-4be3-8a94-5779c876acd5"
      },
      "execution_count": null,
      "outputs": [
        {
          "output_type": "stream",
          "name": "stdout",
          "text": [
            "dict_keys(['name', 'age', 'city'])\n",
            "['name', 'age', 'city']\n"
          ]
        }
      ]
    },
    {
      "cell_type": "code",
      "source": [
        "# 3. # Extracting all values with .values - must be typecasted to list for extraction which is usable\n",
        "all_values_must_be_extracted_as_list = list(my_dict.values())\n",
        "print(my_dict.values())\n",
        "print(all_values_must_be_extracted_as_list)"
      ],
      "metadata": {
        "colab": {
          "base_uri": "https://localhost:8080/"
        },
        "id": "JReEzIPUX--b",
        "outputId": "294abbcf-3735-48cd-d83a-94b2663e87da"
      },
      "execution_count": null,
      "outputs": [
        {
          "output_type": "stream",
          "name": "stdout",
          "text": [
            "dict_values(['Alice', 30, 'New York'])\n",
            "['Alice', 30, 'New York']\n"
          ]
        }
      ]
    },
    {
      "cell_type": "code",
      "source": [
        "#4. # Extracting keys and values together with .items - can be extracted with typecasting only\n",
        "\n",
        "print(my_dict.items())\n",
        "\n",
        "all_pairs_extracted_as_string = str(my_dict.items())\n",
        "print(all_pairs_extracted_as_string)\n",
        "\n",
        "all_pairs_extracted_as_list = list(my_dict.items())\n",
        "print(all_pairs_extracted_as_list)\n",
        "\n",
        "all_pairs_extracted_as_tuple = tuple(my_dict.items())\n",
        "print(all_pairs_extracted_as_tuple)\n",
        "\n",
        "all_pairs_extracted_as_set = set(my_dict.items())\n",
        "print(all_pairs_extracted_as_set)"
      ],
      "metadata": {
        "colab": {
          "base_uri": "https://localhost:8080/"
        },
        "id": "mynR2TmubYXF",
        "outputId": "8988d8db-5499-4adc-8136-d1e974fd5c00"
      },
      "execution_count": null,
      "outputs": [
        {
          "output_type": "stream",
          "name": "stdout",
          "text": [
            "dict_items([('name', 'Alice'), ('age', 30), ('city', 'New York')])\n",
            "dict_items([('name', 'Alice'), ('age', 30), ('city', 'New York')])\n",
            "[('name', 'Alice'), ('age', 30), ('city', 'New York')]\n",
            "(('name', 'Alice'), ('age', 30), ('city', 'New York'))\n",
            "{('city', 'New York'), ('age', 30), ('name', 'Alice')}\n"
          ]
        }
      ]
    },
    {
      "cell_type": "code",
      "source": [
        "#5. # Accessing keys and values separately from inside items with loop on items as list\n",
        "items = list(my_dict.items())\n",
        "print(items)\n",
        "\n",
        "for key, value in items:\n",
        "  print(key)\n",
        "  print(value)\n",
        "  print(f\"Key: {key}, Value: {value}\")"
      ],
      "metadata": {
        "colab": {
          "base_uri": "https://localhost:8080/"
        },
        "id": "TfzpxAvaeQp-",
        "outputId": "27006534-0e8a-4aee-f5ca-5696acbef6a7"
      },
      "execution_count": null,
      "outputs": [
        {
          "output_type": "stream",
          "name": "stdout",
          "text": [
            "[('name', 'Alice'), ('age', 30), ('city', 'New York')]\n",
            "name\n",
            "Alice\n",
            "Key: name, Value: Alice\n",
            "age\n",
            "30\n",
            "Key: age, Value: 30\n",
            "city\n",
            "New York\n",
            "Key: city, Value: New York\n"
          ]
        }
      ]
    },
    {
      "cell_type": "code",
      "source": [
        "#6. # Slicing dictionary keys - by creating list for extraction\n",
        "\n",
        "all_keys = list(my_dict.keys())\n",
        "print(all_keys)\n",
        "print(all_keys[1:3])\n"
      ],
      "metadata": {
        "colab": {
          "base_uri": "https://localhost:8080/"
        },
        "id": "oiGffFpchr5k",
        "outputId": "e6da2bf3-d638-4d27-be79-24554534f05d"
      },
      "execution_count": null,
      "outputs": [
        {
          "output_type": "stream",
          "name": "stdout",
          "text": [
            "['name', 'age', 'city']\n",
            "['age', 'city']\n"
          ]
        }
      ]
    },
    {
      "cell_type": "code",
      "source": [
        "#7. # Slicing dictionary values\n",
        "values = list(my_dict.values())\n",
        "print(values[1:])\n"
      ],
      "metadata": {
        "colab": {
          "base_uri": "https://localhost:8080/"
        },
        "id": "TfknMmV4jUB7",
        "outputId": "99a63681-0704-4d6d-d0c3-362219894a50"
      },
      "execution_count": null,
      "outputs": [
        {
          "output_type": "stream",
          "name": "stdout",
          "text": [
            "[30, 'New York']\n"
          ]
        }
      ]
    },
    {
      "cell_type": "code",
      "source": [
        "# Removing elements: Use the del keyword with the key to remove an element from the dictionary.\n",
        "\n",
        "my_dict = {\"apple\": 2, \"banana\": 3, \"cherry\": 4}\n",
        "del my_dict[\"banana\"]\n",
        "print(my_dict) # Output: {\"apple\": 2, \"cherry\": 4}"
      ],
      "metadata": {
        "colab": {
          "base_uri": "https://localhost:8080/"
        },
        "id": "T1lYAeDS4GkB",
        "outputId": "5701bb9e-7c5a-42e7-9eb0-880e2892e256"
      },
      "execution_count": null,
      "outputs": [
        {
          "output_type": "stream",
          "name": "stdout",
          "text": [
            "{'apple': 2, 'cherry': 4}\n"
          ]
        }
      ]
    },
    {
      "cell_type": "code",
      "source": [
        "#List Indexing + slicing used together - Consider the following list of iconic marvel movie characters. Store the word 'Namor' in a variable and use reverse indexing to reverse it.\n",
        "marvel_words = ['Avengers', 'X-Men', 'Spider-Man', 'Iron Man', 'Hulk', 'Thor', 'Black Widow', 'Captain America', 'Wolverine', 'Doctor Strange', 'Namor']\n",
        "print(marvel_words[-1][::-1])"
      ],
      "metadata": {
        "colab": {
          "base_uri": "https://localhost:8080/"
        },
        "id": "HbwnRc2DlIaY",
        "outputId": "404860f1-cbb5-4b13-c4ca-06b4e67fc353"
      },
      "execution_count": null,
      "outputs": [
        {
          "output_type": "stream",
          "name": "stdout",
          "text": [
            "romaN\n"
          ]
        }
      ]
    },
    {
      "cell_type": "code",
      "source": [
        "#Negative Indexing: Unlocking the Secrets of Reversed Slicing\n",
        "fruits = [\"apple\", \"banana\", \"cherry\", \"date\", \"elderberry\"]\n",
        "\n",
        "# Reverse the list using negative stride\n",
        "reversed_fruits = fruits[::-1]\n",
        "print(reversed_fruits)  # Output: ['elderberry', 'date', 'cherry', 'banana', 'apple']"
      ],
      "metadata": {
        "colab": {
          "base_uri": "https://localhost:8080/"
        },
        "id": "hsqeNkuBlwjx",
        "outputId": "15a4349c-f7bb-41b9-833a-da11f23260b1"
      },
      "execution_count": null,
      "outputs": [
        {
          "output_type": "stream",
          "name": "stdout",
          "text": [
            "['elderberry', 'date', 'cherry', 'banana', 'apple']\n"
          ]
        }
      ]
    },
    {
      "cell_type": "code",
      "source": [
        " # Multi-dimensional Slicing:\n",
        " # A. slicing different 'rows' of 'Matrix'\n",
        " matrix = [\n",
        "    [1, 2, 3],\n",
        "    [4, 5, 6],\n",
        "    [7, 8, 9]\n",
        "]\n",
        "print(matrix[0])\n",
        "print(matrix[2])\n",
        "print(matrix[-1])"
      ],
      "metadata": {
        "colab": {
          "base_uri": "https://localhost:8080/"
        },
        "id": "wNBVQl8n8TG8",
        "outputId": "62e5ba97-b93a-4e5c-cad2-b04f1cbdbcdd"
      },
      "execution_count": null,
      "outputs": [
        {
          "output_type": "stream",
          "name": "stdout",
          "text": [
            "[1, 2, 3]\n",
            "[7, 8, 9]\n",
            "[7, 8, 9]\n"
          ]
        }
      ]
    },
    {
      "cell_type": "code",
      "source": [
        "# B.  Slicing/Extract 'column' of 'matrix' using loop on list's 'row' index number\n",
        "column_2 = [row[1] for row in matrix]\n",
        "print(column_2)\n",
        "#or\n",
        "print([row[0] for row in matrix])\n"
      ],
      "metadata": {
        "colab": {
          "base_uri": "https://localhost:8080/"
        },
        "id": "3D7-lr9N9e_X",
        "outputId": "e5af3aa0-6e8d-4df0-ceb0-5e8da12f45e4"
      },
      "execution_count": null,
      "outputs": [
        {
          "output_type": "stream",
          "name": "stdout",
          "text": [
            "[2, 5, 8]\n",
            "[1, 4, 7]\n"
          ]
        }
      ]
    },
    {
      "cell_type": "code",
      "source": [
        "# C. # Extract a 2x2 submatrix from the main matrix\n",
        "matrix = [\n",
        "    [1, 2, 3],\n",
        "    [4, 5, 6],\n",
        "    [7, 8, 9]\n",
        "]\n",
        "\n",
        "submatrix_1 = [row[1:3] for row in matrix[1:3]]\n",
        "submatrix_2 = [row[1:3] for row in matrix]\n",
        "print(submatrix_1)  # Output: [[5, 6], [8, 9]]\n",
        "print(submatrix_2)"
      ],
      "metadata": {
        "colab": {
          "base_uri": "https://localhost:8080/"
        },
        "id": "i53TbbPq-4ds",
        "outputId": "b33f7d21-910a-4cea-cf42-71c04e574e24"
      },
      "execution_count": null,
      "outputs": [
        {
          "output_type": "stream",
          "name": "stdout",
          "text": [
            "[[5, 6], [8, 9]]\n",
            "[[2, 3], [5, 6], [8, 9]]\n"
          ]
        }
      ]
    },
    {
      "cell_type": "code",
      "source": [
        "# Slice & Replace String OR Text String Data 🛠️ element with 1.List TYPECASTING & 2. \" \".JOIN  :\n",
        "#you can use slicing to POINT TO portions of your data in LIST & with = reaasign it another word.\n",
        "#Thus Replace specific elements in OLD string! 🔄🔠\n",
        "\n",
        "sentence = \"Hello, world!\"\n",
        "\n",
        "# Replace \"world\" with \"Pytho_nation\" using slice assignment\n",
        "sentence_chars = list(sentence)  # Convert the string to list OF CHARACTERS for slice assignment\n",
        "print(sentence_chars)\n",
        "print(sentence_chars.index('w'))\n",
        "sentence_chars[7:12] = \"Python_nation\" # replaced - sentence_chars[7:12]\n",
        "print(sentence_chars)\n",
        "new_sentence = \"\".join(sentence_chars) # \"\".JOIN --> To convert LIST back to STRING\n",
        "new_sentence_2 = \" \".join(sentence_chars)\n",
        "print(new_sentence)  # Output: \"Hello, Python_nation!\"\n",
        "print(new_sentence_2)"
      ],
      "metadata": {
        "colab": {
          "base_uri": "https://localhost:8080/"
        },
        "id": "QGrNSjCACOEQ",
        "outputId": "830114a2-48c8-4bfc-ea86-f719e26fa700"
      },
      "execution_count": null,
      "outputs": [
        {
          "output_type": "stream",
          "name": "stdout",
          "text": [
            "['H', 'e', 'l', 'l', 'o', ',', ' ', 'w', 'o', 'r', 'l', 'd', '!']\n",
            "7\n",
            "['H', 'e', 'l', 'l', 'o', ',', ' ', 'P', 'y', 't', 'h', 'o', 'n', '_', 'n', 'a', 't', 'i', 'o', 'n', '!']\n",
            "Hello, Python_nation!\n",
            "H e l l o ,   P y t h o n _ n a t i o n !\n"
          ]
        }
      ]
    },
    {
      "cell_type": "code",
      "source": [
        "# find multiple index position of 1 character in a sentence :\n",
        "sentence = \"Hello, world, how are you doing today!\"\n",
        "sentence_chars = list(sentence)\n",
        "for index, char in enumerate(sentence_chars):\n",
        "    if char == 'o':\n",
        "        print(f\"Index of 'o': {index}\")"
      ],
      "metadata": {
        "colab": {
          "base_uri": "https://localhost:8080/"
        },
        "id": "wRn2Jh1kHlve",
        "outputId": "6d817160-311f-4c98-ad54-318868698815"
      },
      "execution_count": null,
      "outputs": [
        {
          "output_type": "stream",
          "name": "stdout",
          "text": [
            "Index of 'o': 4\n",
            "Index of 'o': 8\n",
            "Index of 'o': 15\n",
            "Index of 'o': 23\n",
            "Index of 'o': 27\n",
            "Index of 'o': 33\n"
          ]
        }
      ]
    },
    {
      "cell_type": "markdown",
      "source": [
        "# DIFFERENT OPERATORS :\n",
        "#A. MEMBERSHIP OPERATORS"
      ],
      "metadata": {
        "id": "uR4x7DZqbjng"
      }
    },
    {
      "cell_type": "code",
      "source": [
        "# IN NON-SEQUENCE DATA like DICTIONARY\n",
        "\n",
        "my_dict = {'a': 1, 'b': 2, 'c': 3}\n",
        "\n",
        "# Checking if a 'key' is present in the dictionary\n",
        "print('a' in my_dict)  # WE CAN WRITE DIRECTLY without .key Method since key is the main element that dictionary looks at\n",
        "print('a' in my_dict.keys()) #can also write with .key method\n",
        "print('d' not in my_dict)  # Output: True\n",
        "\n",
        "# Checking if a 'value' is present in the dictionary\n",
        "print(1 in my_dict.values())  # Output: True\n",
        "print(4 not in my_dict.values())  # Output: True"
      ],
      "metadata": {
        "colab": {
          "base_uri": "https://localhost:8080/"
        },
        "id": "zIfRtU0dbipL",
        "outputId": "e502c419-7ecc-49ef-bbc5-b70d2e78bd9e"
      },
      "execution_count": null,
      "outputs": [
        {
          "output_type": "stream",
          "name": "stdout",
          "text": [
            "True\n",
            "True\n",
            "True\n",
            "True\n",
            "True\n"
          ]
        }
      ]
    },
    {
      "cell_type": "markdown",
      "source": [
        "# 🧮 ➕➖✖️➗ Arithmetical Operator"
      ],
      "metadata": {
        "id": "4sx2r7C1nYSu"
      }
    },
    {
      "cell_type": "code",
      "source": [
        "area_square=   5**2   #side^2\n",
        "vol_cube=    12**3   #side^3\n",
        "a=10\n",
        "b=4\n",
        "quotient=    a//b   #a//b\n",
        "remainder=   a%b   #a%b\n",
        "print(remainder,quotient,vol_cube,area_square)"
      ],
      "metadata": {
        "colab": {
          "base_uri": "https://localhost:8080/"
        },
        "id": "6IU1nRQdnXmB",
        "outputId": "99be0db5-6c8d-4e90-b5fe-dde55417d3db"
      },
      "execution_count": null,
      "outputs": [
        {
          "output_type": "stream",
          "name": "stdout",
          "text": [
            "2 2 1728 25\n"
          ]
        }
      ]
    },
    {
      "cell_type": "code",
      "source": [
        "x = 5\n",
        "x -= 3  # Equivalent to x = x - 3\n",
        "print(x)"
      ],
      "metadata": {
        "colab": {
          "base_uri": "https://localhost:8080/"
        },
        "id": "9Rinz68fcrDS",
        "outputId": "078255a7-10ee-43f5-8ba6-fb71ec7b6285"
      },
      "execution_count": null,
      "outputs": [
        {
          "output_type": "stream",
          "name": "stdout",
          "text": [
            "2\n"
          ]
        }
      ]
    },
    {
      "cell_type": "code",
      "source": [
        "# Floor Divisor\n",
        "print(\"The result of floor division is: \", 5//2.2)\n",
        "print(\"The result of floor division is: \", 5//3)\n",
        "print(\"The result of floor division is: \", .75//2.2)\n",
        "print(\"The result of floor division is: \", True//2.2)"
      ],
      "metadata": {
        "colab": {
          "base_uri": "https://localhost:8080/"
        },
        "id": "ZCWKXc56c5oi",
        "outputId": "14a500b0-fa2d-429f-e982-59e8a5b753fd"
      },
      "execution_count": null,
      "outputs": [
        {
          "output_type": "stream",
          "name": "stdout",
          "text": [
            "1\n",
            "The result of floor division is:  2.0\n",
            "The result of floor division is:  1\n",
            "The result of floor division is:  0.0\n",
            "The result of floor division is:  0.0\n"
          ]
        }
      ]
    },
    {
      "cell_type": "code",
      "source": [
        "x = 5\n",
        "x /= 3  # Equivalent to x = x / 3\n",
        "print(x)"
      ],
      "metadata": {
        "colab": {
          "base_uri": "https://localhost:8080/"
        },
        "id": "GGM9QWBwdVbW",
        "outputId": "7e685cb4-5681-4d1a-89f4-7fc21c814e06"
      },
      "execution_count": null,
      "outputs": [
        {
          "output_type": "stream",
          "name": "stdout",
          "text": [
            "1.6666666666666667\n"
          ]
        }
      ]
    },
    {
      "cell_type": "code",
      "source": [
        "x = 5\n",
        "x %= 3  # Equivalent to x = x % 3\n",
        "print(x)"
      ],
      "metadata": {
        "colab": {
          "base_uri": "https://localhost:8080/"
        },
        "id": "g_AlESA-c_Tq",
        "outputId": "6822ed70-6b9c-435b-fae6-3b579628d90e"
      },
      "execution_count": null,
      "outputs": [
        {
          "output_type": "stream",
          "name": "stdout",
          "text": [
            "2\n"
          ]
        }
      ]
    },
    {
      "cell_type": "code",
      "source": [
        "x = 5\n",
        "x **= 3  # Equivalent to x = x ** 3\n",
        "print(x)"
      ],
      "metadata": {
        "colab": {
          "base_uri": "https://localhost:8080/"
        },
        "id": "YAuEafYEdE2t",
        "outputId": "469e6101-af93-40fb-c8a1-056b389e2b54"
      },
      "execution_count": null,
      "outputs": [
        {
          "output_type": "stream",
          "name": "stdout",
          "text": [
            "125\n"
          ]
        }
      ]
    },
    {
      "cell_type": "code",
      "source": [
        "# Membership Operator\n",
        "# \"not in\" operator to check if a particular word is not present in the sentence.\n",
        "\n",
        "\n",
        "sentence = \"The quick brown fox jumps over the lazy dog\"\n",
        "print(\"cat\" not in sentence)   # True\n",
        "print(\"fox\" not in sentence)   # False"
      ],
      "metadata": {
        "colab": {
          "base_uri": "https://localhost:8080/"
        },
        "id": "gCtFxFnTroES",
        "outputId": "bf6ff373-2be9-42e8-db62-58a0d382d626"
      },
      "execution_count": null,
      "outputs": [
        {
          "output_type": "stream",
          "name": "stdout",
          "text": [
            "True\n",
            "False\n"
          ]
        }
      ]
    },
    {
      "cell_type": "code",
      "source": [
        "# Checking for key existence: Use the in keyword to check if a key exists in the dictionary.\n",
        "\n",
        "my_dict = {\"apple\": 2, \"banana\": 3, \"cherry\": 4}\n",
        "print(\"apple\" in my_dict) # Output: True\n",
        "print(\"orange\" in my_dict) # Output: False"
      ],
      "metadata": {
        "colab": {
          "base_uri": "https://localhost:8080/"
        },
        "id": "AdoWVoeA4WW-",
        "outputId": "6f764033-4d57-41ad-fb0e-2696c9d1351e"
      },
      "execution_count": null,
      "outputs": [
        {
          "output_type": "stream",
          "name": "stdout",
          "text": [
            "True\n",
            "False\n"
          ]
        }
      ]
    },
    {
      "cell_type": "code",
      "source": [
        "#in with loop\n",
        "\n",
        "books = [\n",
        "    \"Python for Data Science Handbook by Jake VanderPlas\",\n",
        "    \"The Pragmatic Programmer by Andrew Hunt and David Thomas\",\n",
        "    \"Python Machine Learning by Sebastian Raschka\",\n",
        "    \"The Alchemist by Paulo Coelho\",\n",
        "]\n",
        "\n",
        "count_books = 0\n",
        "\n",
        "for i in range(len(books)):\n",
        "  if \"python\" in str.lower(books[i]):\n",
        "    count_books = count_books + 1\n",
        "print(count_books)"
      ],
      "metadata": {
        "colab": {
          "base_uri": "https://localhost:8080/"
        },
        "id": "Pfn305WyskoR",
        "outputId": "f8ee1d33-8a4d-461b-9b96-693d1a6cbb80"
      },
      "execution_count": null,
      "outputs": [
        {
          "output_type": "stream",
          "name": "stdout",
          "text": [
            "2\n"
          ]
        }
      ]
    },
    {
      "cell_type": "code",
      "source": [
        "#Arithmetic operator special case:\n",
        "\n",
        "# + operator to concatenate two lists or tuple & string\n",
        "\n",
        "list1 = [1,2,3]\n",
        "list2 = [4,5,6]\n",
        "result = list1 + list2\n",
        "print(result)\n",
        "\n",
        "# concatenate two string\n",
        "string1 = \"Hello\"\n",
        "string2 = \"world\"\n",
        "result = string1 + \" \" + string2\n",
        "print(result)  # Output: \"Hello world\"\n",
        "\n",
        "#* operator to repeat a list or tuple & string\n",
        "list1 = [1, 2, 3]\n",
        "result = list1 * 3\n",
        "print(result)\n",
        "\n",
        "# repetition string\n",
        "string = \"spam\"\n",
        "result = (string + ' ') * 3\n",
        "print(result)  # Output: \"spamspamspam\""
      ],
      "metadata": {
        "colab": {
          "base_uri": "https://localhost:8080/"
        },
        "id": "9aGv4QXIvEz2",
        "outputId": "ffcd836a-1c74-4404-cf8a-06063223e37e"
      },
      "execution_count": null,
      "outputs": [
        {
          "output_type": "stream",
          "name": "stdout",
          "text": [
            "[1, 2, 3, 4, 5, 6]\n",
            "Hello world\n",
            "[1, 2, 3, 1, 2, 3, 1, 2, 3]\n",
            "spam spam spam \n"
          ]
        }
      ]
    },
    {
      "cell_type": "markdown",
      "source": [
        "# Identity operators:\n",
        "\n",
        "\n",
        "*   Identity operators in Python are used to compare the memory addresses of two objects to check if they refer to the same object. These operators evaluate to True or False based on whether the two objects are the same or not. 🔍\n",
        "* Identity operators in Python are used to compare the memory addresses of two objects to check if they refer to the same object. These operators evaluate to True or False based on whether the two objects are the same or not. 🔍\n",
        "\n",
        "There are two identity operators in Python:\n",
        "\n",
        "1.  is 👥: Returns True if the two objects are the same, i.e., they have the same memory address.\n",
        "\n",
        "2. is not 🚫: Returns True if the two objects are not the same, i.e., they have different memory addresses.\n",
        "\n",
        "Identity operators are often used in Python to compare objects for equality. Since Python objects are created dynamically and stored in memory, identity operators provide a way to compare objects based on their memory address rather than their value. This is particularly useful when working with mutable objects, such as lists and dictionaries, where two objects may have the same value but different memory addresses. 🧠"
      ],
      "metadata": {
        "id": "XWIX78FLAZUY"
      }
    },
    {
      "cell_type": "code",
      "source": [
        "\n",
        "A = [1, 2, 3]\n",
        "B = [1, 2, 3]\n",
        "\n",
        "print(A is B)   # False\n",
        "print(A == B)   # True since '==' compares value."
      ],
      "metadata": {
        "colab": {
          "base_uri": "https://localhost:8080/"
        },
        "id": "tzZxC9ImAY34",
        "outputId": "299385f5-347a-4979-bb14-e48476693669"
      },
      "execution_count": null,
      "outputs": [
        {
          "output_type": "stream",
          "name": "stdout",
          "text": [
            "False\n",
            "True\n"
          ]
        }
      ]
    },
    {
      "cell_type": "code",
      "source": [
        "a = {\"Alok\",\"Anand\"}\n",
        "b = {\"AlmaBetter\",\"Instructor\"}\n",
        "a = b\n",
        "print(a is b)\n",
        "print(a)\n",
        "print(b)\n",
        "\n",
        "b.add(\"Head Instructor\")\n",
        "print(a)\n",
        "print(b)\n"
      ],
      "metadata": {
        "colab": {
          "base_uri": "https://localhost:8080/"
        },
        "id": "y-hd-_HNBOCI",
        "outputId": "3c363ddc-8a1b-4d02-ae18-18ba5212c7c0"
      },
      "execution_count": null,
      "outputs": [
        {
          "output_type": "stream",
          "name": "stdout",
          "text": [
            "True\n",
            "{'Instructor', 'AlmaBetter'}\n",
            "{'Instructor', 'AlmaBetter'}\n",
            "{'Instructor', 'Head Instructor', 'AlmaBetter'}\n",
            "{'Instructor', 'Head Instructor', 'AlmaBetter'}\n"
          ]
        }
      ]
    },
    {
      "cell_type": "markdown",
      "source": [
        "# Comparison Operators"
      ],
      "metadata": {
        "id": "gCOkzqVsFf8i"
      }
    },
    {
      "cell_type": "code",
      "source": [
        "## Not equal: Generate true if the number are not equal to each other\n",
        "print(\"Not Equality test: \", 3!=4)\n",
        "print(\"Not Equality test: \", 3!=3.0)\n",
        "print(\"Not Equality test: \", \"3\"!=\"3\")\n",
        "print(\"Not Equality test: \", \"3\"!= 3)\n",
        "print(\"Not Equality test: \", True != 1)\n"
      ],
      "metadata": {
        "colab": {
          "base_uri": "https://localhost:8080/"
        },
        "id": "yCDHv_jFBjuw",
        "outputId": "635bd2e8-62ad-47c5-c003-09838cb3b8eb"
      },
      "execution_count": null,
      "outputs": [
        {
          "output_type": "stream",
          "name": "stdout",
          "text": [
            "Not Equality test:  True\n",
            "Not Equality test:  False\n",
            "Not Equality test:  False\n",
            "Not Equality test:  True\n",
            "Not Equality test:  False\n"
          ]
        }
      ]
    },
    {
      "cell_type": "code",
      "source": [
        "# x={2,4,{3,2}} #sets can't have set inside it\n",
        "y = {1,1.5,\"a\"} #sets can have different data types inside it\n",
        "#type(x)"
      ],
      "metadata": {
        "id": "nV5zHZfPgfvM"
      },
      "execution_count": null,
      "outputs": []
    },
    {
      "cell_type": "code",
      "source": [
        "# define a list of rolls for each player\n",
        "player_rolls = [\n",
        "    [4, 2, 6, 3, 1],  # player 1's rolls\n",
        "    [3, 5, 6, 4, 2],  # player 2's rolls\n",
        "    [1, 2, 2, 6, 4]   # player 3's rolls\n",
        "]\n",
        "\n",
        "# create an empty list to store each player's average roll\n",
        "average_rolls = []\n",
        "\n",
        "# loop through each player's rolls\n",
        "for i, rolls in enumerate(player_rolls, 2):\n",
        "    # calculate the average roll for the player using the sum() and len() functions\n",
        "    # hint: the formula for average is sum of rolls divided by number of rolls\n",
        "    avg_roll = sum(rolls) / len(rolls)\n",
        "\n",
        "    # add the player's average roll to the list of average rolls\n",
        "    average_rolls.append(avg_roll)\n",
        "\n",
        "print(average_rolls)\n",
        "\n",
        "# loop through each player's average roll and print it out with the player number\n",
        "for i, avg_roll in enumerate(average_rolls):\n",
        "    print(f\"Player {i+1}'s average roll: {avg_roll}\")"
      ],
      "metadata": {
        "colab": {
          "base_uri": "https://localhost:8080/"
        },
        "id": "Mpv71sRIQaq1",
        "outputId": "55151387-22c7-47de-9cd7-5a9950dd431e"
      },
      "execution_count": null,
      "outputs": [
        {
          "output_type": "stream",
          "name": "stdout",
          "text": [
            "[3.2, 4.0, 3.0]\n",
            "Player 1's average roll: 3.2\n",
            "Player 2's average roll: 4.0\n",
            "Player 3's average roll: 3.0\n"
          ]
        }
      ]
    }
  ]
}