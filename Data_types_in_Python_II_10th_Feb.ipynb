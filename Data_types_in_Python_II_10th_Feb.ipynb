{
  "nbformat": 4,
  "nbformat_minor": 0,
  "metadata": {
    "colab": {
      "provenance": [],
      "include_colab_link": true
    },
    "kernelspec": {
      "name": "python3",
      "display_name": "Python 3"
    },
    "language_info": {
      "name": "python"
    }
  },
  "cells": [
    {
      "cell_type": "markdown",
      "metadata": {
        "id": "view-in-github",
        "colab_type": "text"
      },
      "source": [
        "<a href=\"https://colab.research.google.com/github/LokeCoder11/KnowledgeReference/blob/main/Data_types_in_Python_II_10th_Feb.ipynb\" target=\"_parent\"><img src=\"https://colab.research.google.com/assets/colab-badge.svg\" alt=\"Open In Colab\"/></a>"
      ]
    },
    {
      "cell_type": "code",
      "execution_count": null,
      "metadata": {
        "colab": {
          "base_uri": "https://localhost:8080/",
          "height": 35
        },
        "id": "GO7-Hr0RPXcr",
        "outputId": "044ea4d7-2b2c-440c-b45b-bc84ee795d93"
      },
      "outputs": [
        {
          "output_type": "execute_result",
          "data": {
            "text/plain": [
              "'B'"
            ],
            "application/vnd.google.colaboratory.intrinsic+json": {
              "type": "string"
            }
          },
          "metadata": {},
          "execution_count": 1
        }
      ],
      "source": [
        "ex = 'AlmaBetter'\n",
        "ex[4] # Index as Address"
      ]
    },
    {
      "cell_type": "code",
      "source": [
        "ex = '1,2,3,4'\n",
        "len(ex)"
      ],
      "metadata": {
        "colab": {
          "base_uri": "https://localhost:8080/"
        },
        "id": "qsOM7fxbS3io",
        "outputId": "cbd2e036-a8a3-4edb-84b7-b62745610ee1"
      },
      "execution_count": null,
      "outputs": [
        {
          "output_type": "execute_result",
          "data": {
            "text/plain": [
              "7"
            ]
          },
          "metadata": {},
          "execution_count": 6
        }
      ]
    },
    {
      "cell_type": "code",
      "source": [
        "ex[1]"
      ],
      "metadata": {
        "colab": {
          "base_uri": "https://localhost:8080/",
          "height": 35
        },
        "id": "NTW77acjTDbV",
        "outputId": "082567a9-1e9c-447b-ec46-a00171f2c9fd"
      },
      "execution_count": null,
      "outputs": [
        {
          "output_type": "execute_result",
          "data": {
            "text/plain": [
              "','"
            ],
            "application/vnd.google.colaboratory.intrinsic+json": {
              "type": "string"
            }
          },
          "metadata": {},
          "execution_count": 3
        }
      ]
    },
    {
      "cell_type": "code",
      "source": [
        "type(ex[0])"
      ],
      "metadata": {
        "colab": {
          "base_uri": "https://localhost:8080/"
        },
        "id": "HumcahxNTkEp",
        "outputId": "1cff5bf4-f68c-44aa-dfee-2730a209bbb6"
      },
      "execution_count": null,
      "outputs": [
        {
          "output_type": "execute_result",
          "data": {
            "text/plain": [
              "str"
            ]
          },
          "metadata": {},
          "execution_count": 8
        }
      ]
    },
    {
      "cell_type": "code",
      "source": [
        "ex = [1 , 2 , 3 , 4] # List\n",
        "ex[1]"
      ],
      "metadata": {
        "colab": {
          "base_uri": "https://localhost:8080/"
        },
        "id": "NurPXRfITHdT",
        "outputId": "b087cfdc-2d40-4936-9bb4-aca6dc37ec9d"
      },
      "execution_count": null,
      "outputs": [
        {
          "output_type": "execute_result",
          "data": {
            "text/plain": [
              "2"
            ]
          },
          "metadata": {},
          "execution_count": 9
        }
      ]
    },
    {
      "cell_type": "code",
      "source": [
        "len(ex)"
      ],
      "metadata": {
        "colab": {
          "base_uri": "https://localhost:8080/"
        },
        "id": "ok5kOaWUTUxv",
        "outputId": "0c23d565-7f47-45c9-b4fc-073d837eaf06"
      },
      "execution_count": null,
      "outputs": [
        {
          "output_type": "execute_result",
          "data": {
            "text/plain": [
              "4"
            ]
          },
          "metadata": {},
          "execution_count": 10
        }
      ]
    },
    {
      "cell_type": "code",
      "source": [
        "type(ex[0])"
      ],
      "metadata": {
        "colab": {
          "base_uri": "https://localhost:8080/"
        },
        "id": "T21tClxGTvbN",
        "outputId": "ab63d6a8-f23f-449b-8e44-ce384f8db463"
      },
      "execution_count": null,
      "outputs": [
        {
          "output_type": "execute_result",
          "data": {
            "text/plain": [
              "int"
            ]
          },
          "metadata": {},
          "execution_count": 12
        }
      ]
    },
    {
      "cell_type": "code",
      "source": [
        "2 // 3"
      ],
      "metadata": {
        "colab": {
          "base_uri": "https://localhost:8080/"
        },
        "id": "jMGKp0vGUu20",
        "outputId": "ca9531f9-022d-4dae-e142-5525f0e7f361"
      },
      "execution_count": null,
      "outputs": [
        {
          "output_type": "execute_result",
          "data": {
            "text/plain": [
              "0"
            ]
          },
          "metadata": {},
          "execution_count": 13
        }
      ]
    },
    {
      "cell_type": "code",
      "source": [
        "2 % 3"
      ],
      "metadata": {
        "colab": {
          "base_uri": "https://localhost:8080/"
        },
        "id": "4UxawJZ2UwFu",
        "outputId": "800bcf11-76ae-421c-b50c-8c9cc43c6420"
      },
      "execution_count": null,
      "outputs": [
        {
          "output_type": "execute_result",
          "data": {
            "text/plain": [
              "2"
            ]
          },
          "metadata": {},
          "execution_count": 14
        }
      ]
    },
    {
      "cell_type": "code",
      "source": [
        " #String : ' ', \" \" ,''' '''\n",
        " ex = '''This is my instutute.\n",
        " I love learning Data Science.\n",
        " I aspire to become the best data scientist\n",
        " '''"
      ],
      "metadata": {
        "id": "ZnRAj4waU1lS"
      },
      "execution_count": null,
      "outputs": []
    },
    {
      "cell_type": "code",
      "source": [
        "print(ex)"
      ],
      "metadata": {
        "colab": {
          "base_uri": "https://localhost:8080/"
        },
        "id": "ez-MI1e9VIaf",
        "outputId": "b2e45f80-2a7d-4399-ae0d-7cd558c6ccec"
      },
      "execution_count": null,
      "outputs": [
        {
          "output_type": "stream",
          "name": "stdout",
          "text": [
            "This is my instutute.\n",
            "I love learning Data Science.\n",
            "I aspire to become the best data scientist\n",
            "\n"
          ]
        }
      ]
    },
    {
      "cell_type": "code",
      "source": [
        "ex = \"This is my instutute.\\nI love learning Data Science.\\nI aspire to become the best data scientist\""
      ],
      "metadata": {
        "id": "QB_e-YG7VNOS"
      },
      "execution_count": null,
      "outputs": []
    },
    {
      "cell_type": "code",
      "source": [
        "print(ex)"
      ],
      "metadata": {
        "colab": {
          "base_uri": "https://localhost:8080/"
        },
        "id": "R_iVRFHtVYyq",
        "outputId": "82385aa0-e878-4eb1-808a-1d9dd13ac000"
      },
      "execution_count": null,
      "outputs": [
        {
          "output_type": "stream",
          "name": "stdout",
          "text": [
            "This is my instutute.\n",
            "I love learning Data Science.\n",
            "I aspire to become the best data scientist\n"
          ]
        }
      ]
    },
    {
      "cell_type": "code",
      "source": [
        "# List : , is used to separate elements"
      ],
      "metadata": {
        "id": "XGwNUwHmTWUL"
      },
      "execution_count": null,
      "outputs": []
    },
    {
      "cell_type": "code",
      "source": [
        "# String - '', \"\", ''' '''\n",
        "# List - []"
      ],
      "metadata": {
        "id": "Wd5KxgwHVtKT"
      },
      "execution_count": null,
      "outputs": []
    },
    {
      "cell_type": "code",
      "source": [
        "ex = [1,2,3,5] # This Square bracket\n",
        "type(ex)"
      ],
      "metadata": {
        "colab": {
          "base_uri": "https://localhost:8080/"
        },
        "id": "1DB0dugeV__v",
        "outputId": "bdd6377a-df3d-4921-f2a9-fa8095ae5f58"
      },
      "execution_count": null,
      "outputs": [
        {
          "output_type": "execute_result",
          "data": {
            "text/plain": [
              "list"
            ]
          },
          "metadata": {},
          "execution_count": 24
        }
      ]
    },
    {
      "cell_type": "code",
      "source": [
        "# Tuple\n",
        "ex = (1,2,3,5) # Collection of data in small bracket :: Python will recognise it as tuple.\n",
        "type(ex) # Each element separated by ,"
      ],
      "metadata": {
        "colab": {
          "base_uri": "https://localhost:8080/"
        },
        "id": "MyTUMEIgVlad",
        "outputId": "c4b81a2e-7947-4e7f-97d4-bdd8eb8c1218"
      },
      "execution_count": null,
      "outputs": [
        {
          "output_type": "execute_result",
          "data": {
            "text/plain": [
              "tuple"
            ]
          },
          "metadata": {},
          "execution_count": 26
        }
      ]
    },
    {
      "cell_type": "code",
      "source": [
        "len(ex)"
      ],
      "metadata": {
        "colab": {
          "base_uri": "https://localhost:8080/"
        },
        "id": "RM6RYVerVlXm",
        "outputId": "2acb0905-793b-4d9e-8d93-49e4aff08933"
      },
      "execution_count": null,
      "outputs": [
        {
          "output_type": "execute_result",
          "data": {
            "text/plain": [
              "4"
            ]
          },
          "metadata": {},
          "execution_count": 27
        }
      ]
    },
    {
      "cell_type": "code",
      "source": [
        "# Set\n",
        "ex = {1,2,3,5} # Curly brackets\n",
        "type(ex) # only Values , comma separated"
      ],
      "metadata": {
        "colab": {
          "base_uri": "https://localhost:8080/"
        },
        "id": "WD3xRRHNVlT9",
        "outputId": "ed7d1a1a-7d24-4b88-c8aa-f03100250d08"
      },
      "execution_count": null,
      "outputs": [
        {
          "output_type": "execute_result",
          "data": {
            "text/plain": [
              "set"
            ]
          },
          "metadata": {},
          "execution_count": 28
        }
      ]
    },
    {
      "cell_type": "code",
      "source": [
        "# Dictionary\n",
        "ex = {'a': 1 , 'b': 2 } # Curly brackets, Key : value pair,\n",
        "type(ex)"
      ],
      "metadata": {
        "colab": {
          "base_uri": "https://localhost:8080/"
        },
        "id": "C0sEroIQWh4X",
        "outputId": "bc7747bc-850c-4425-8aa6-7c5a82cad273"
      },
      "execution_count": null,
      "outputs": [
        {
          "output_type": "execute_result",
          "data": {
            "text/plain": [
              "dict"
            ]
          },
          "metadata": {},
          "execution_count": 31
        }
      ]
    },
    {
      "cell_type": "code",
      "source": [
        "len(ex) # 2 key and value pair"
      ],
      "metadata": {
        "colab": {
          "base_uri": "https://localhost:8080/"
        },
        "id": "odEIvX0pXNLq",
        "outputId": "46cf83ee-4524-4bb5-bb18-a51c794a2c12"
      },
      "execution_count": null,
      "outputs": [
        {
          "output_type": "execute_result",
          "data": {
            "text/plain": [
              "2"
            ]
          },
          "metadata": {},
          "execution_count": 30
        }
      ]
    },
    {
      "cell_type": "code",
      "source": [
        "# Mutablity vs Immutability\n",
        "# list is mutable : Change individual data\n",
        "ex = [2,3,4,5,6]\n",
        "# change 3 to 9\n",
        "# Index of 3 is 1\n",
        "ex[1] = 9"
      ],
      "metadata": {
        "id": "AF5sFG_UXOVY"
      },
      "execution_count": null,
      "outputs": []
    },
    {
      "cell_type": "code",
      "source": [
        "print(ex)"
      ],
      "metadata": {
        "colab": {
          "base_uri": "https://localhost:8080/"
        },
        "id": "2MZTMtIxZ6Vw",
        "outputId": "64bc2fcd-b13a-4427-f24f-90a8e806c668"
      },
      "execution_count": null,
      "outputs": [
        {
          "output_type": "stream",
          "name": "stdout",
          "text": [
            "[2, 9, 4, 5, 6]\n"
          ]
        }
      ]
    },
    {
      "cell_type": "code",
      "source": [
        "# Add an element\n",
        "ex.append(100)\n",
        "print(ex)"
      ],
      "metadata": {
        "colab": {
          "base_uri": "https://localhost:8080/"
        },
        "id": "3egGUGUdZ9f7",
        "outputId": "4ea7093c-1b89-467e-d965-b1cd9f19d8fe"
      },
      "execution_count": null,
      "outputs": [
        {
          "output_type": "stream",
          "name": "stdout",
          "text": [
            "[2, 9, 4, 5, 6, 100]\n"
          ]
        }
      ]
    },
    {
      "cell_type": "code",
      "source": [
        "ex.insert(4,102)"
      ],
      "metadata": {
        "id": "bZUWbv1taKIa"
      },
      "execution_count": null,
      "outputs": []
    },
    {
      "cell_type": "code",
      "source": [
        "print(ex)"
      ],
      "metadata": {
        "colab": {
          "base_uri": "https://localhost:8080/"
        },
        "id": "du9uegZTadFE",
        "outputId": "326bf591-8cd9-4e43-d80c-8c76099b21bc"
      },
      "execution_count": null,
      "outputs": [
        {
          "output_type": "stream",
          "name": "stdout",
          "text": [
            "[2, 9, 4, 5, 102, 6, 100]\n"
          ]
        }
      ]
    },
    {
      "cell_type": "code",
      "source": [
        "# ex[0] == 3 # Is the value in ex[0] equal to 3 # False"
      ],
      "metadata": {
        "colab": {
          "base_uri": "https://localhost:8080/"
        },
        "id": "6bb9JWiZad3J",
        "outputId": "758b5c4f-e850-41b5-96cf-46e2677a3924"
      },
      "execution_count": null,
      "outputs": [
        {
          "output_type": "execute_result",
          "data": {
            "text/plain": [
              "False"
            ]
          },
          "metadata": {},
          "execution_count": 39
        }
      ]
    },
    {
      "cell_type": "code",
      "source": [
        "# String is immutable --> You cannot change individual data/ character\n",
        "ex = 'hello world'\n",
        "# 'h' to 'H'\n",
        "\n",
        "ex[0] = 'H'\n"
      ],
      "metadata": {
        "colab": {
          "base_uri": "https://localhost:8080/",
          "height": 210
        },
        "id": "X2_Xtq9zasUG",
        "outputId": "4f21fa68-2c97-474e-fcf2-c3fb0aace31d"
      },
      "execution_count": null,
      "outputs": [
        {
          "output_type": "error",
          "ename": "TypeError",
          "evalue": "'str' object does not support item assignment",
          "traceback": [
            "\u001b[0;31m---------------------------------------------------------------------------\u001b[0m",
            "\u001b[0;31mTypeError\u001b[0m                                 Traceback (most recent call last)",
            "\u001b[0;32m<ipython-input-41-7fae0dab7c8a>\u001b[0m in \u001b[0;36m<cell line: 5>\u001b[0;34m()\u001b[0m\n\u001b[1;32m      3\u001b[0m \u001b[0;31m# 'h' to 'H'\u001b[0m\u001b[0;34m\u001b[0m\u001b[0;34m\u001b[0m\u001b[0m\n\u001b[1;32m      4\u001b[0m \u001b[0;34m\u001b[0m\u001b[0m\n\u001b[0;32m----> 5\u001b[0;31m \u001b[0mex\u001b[0m\u001b[0;34m[\u001b[0m\u001b[0;36m0\u001b[0m\u001b[0;34m]\u001b[0m \u001b[0;34m=\u001b[0m \u001b[0;34m'H'\u001b[0m\u001b[0;34m\u001b[0m\u001b[0;34m\u001b[0m\u001b[0m\n\u001b[0m",
            "\u001b[0;31mTypeError\u001b[0m: 'str' object does not support item assignment"
          ]
        }
      ]
    },
    {
      "cell_type": "code",
      "source": [
        "# Replace everything / Overwrite it\n",
        "ex.replace('hello', 'The') # Just giving an output not changing the original variable/ Value"
      ],
      "metadata": {
        "colab": {
          "base_uri": "https://localhost:8080/",
          "height": 35
        },
        "id": "JN6mwuf9bC4K",
        "outputId": "8ed453ea-3d17-4b89-8b69-24b8723e9cd8"
      },
      "execution_count": null,
      "outputs": [
        {
          "output_type": "execute_result",
          "data": {
            "text/plain": [
              "'The world'"
            ],
            "application/vnd.google.colaboratory.intrinsic+json": {
              "type": "string"
            }
          },
          "metadata": {},
          "execution_count": 44
        }
      ]
    },
    {
      "cell_type": "code",
      "source": [
        "ex"
      ],
      "metadata": {
        "colab": {
          "base_uri": "https://localhost:8080/",
          "height": 35
        },
        "id": "YhVjQCWWbbV7",
        "outputId": "faa604a1-c9b8-42d9-dd76-e0d5c2331434"
      },
      "execution_count": null,
      "outputs": [
        {
          "output_type": "execute_result",
          "data": {
            "text/plain": [
              "'hello world'"
            ],
            "application/vnd.google.colaboratory.intrinsic+json": {
              "type": "string"
            }
          },
          "metadata": {},
          "execution_count": 43
        }
      ]
    },
    {
      "cell_type": "code",
      "source": [
        "# If we want to change the data or in ex , overwrite it\n",
        "ex = ex.replace('hello', 'Hello') # Overwriting it"
      ],
      "metadata": {
        "id": "8h5vH31Zbdav"
      },
      "execution_count": null,
      "outputs": []
    },
    {
      "cell_type": "code",
      "source": [
        "ex"
      ],
      "metadata": {
        "colab": {
          "base_uri": "https://localhost:8080/",
          "height": 35
        },
        "id": "_RUt-jqhcN6O",
        "outputId": "a85ce00e-3a1a-4294-bb77-67e0542a6c7d"
      },
      "execution_count": null,
      "outputs": [
        {
          "output_type": "execute_result",
          "data": {
            "text/plain": [
              "'Hello world'"
            ],
            "application/vnd.google.colaboratory.intrinsic+json": {
              "type": "string"
            }
          },
          "metadata": {},
          "execution_count": 46
        }
      ]
    },
    {
      "cell_type": "code",
      "source": [
        "ex = 'hello world'\n",
        "ex.replace('h','H')# Displaying the output, not changing the variable"
      ],
      "metadata": {
        "colab": {
          "base_uri": "https://localhost:8080/",
          "height": 35
        },
        "id": "ex34praPcxdU",
        "outputId": "79c8e503-b6d1-43e5-c864-198ba9ff73e2"
      },
      "execution_count": null,
      "outputs": [
        {
          "output_type": "execute_result",
          "data": {
            "text/plain": [
              "'Hello world'"
            ],
            "application/vnd.google.colaboratory.intrinsic+json": {
              "type": "string"
            }
          },
          "metadata": {},
          "execution_count": 47
        }
      ]
    },
    {
      "cell_type": "code",
      "source": [
        "ex"
      ],
      "metadata": {
        "colab": {
          "base_uri": "https://localhost:8080/",
          "height": 35
        },
        "id": "Zv2I_KPac7wa",
        "outputId": "389a9007-1804-4ac3-9038-6220d688eb12"
      },
      "execution_count": null,
      "outputs": [
        {
          "output_type": "execute_result",
          "data": {
            "text/plain": [
              "'hello world'"
            ],
            "application/vnd.google.colaboratory.intrinsic+json": {
              "type": "string"
            }
          },
          "metadata": {},
          "execution_count": 48
        }
      ]
    },
    {
      "cell_type": "code",
      "source": [
        "ex = ex.replace('h','H') # Overwrite it"
      ],
      "metadata": {
        "id": "z9ergTK-dPAA"
      },
      "execution_count": null,
      "outputs": []
    },
    {
      "cell_type": "code",
      "source": [
        "print(ex)"
      ],
      "metadata": {
        "colab": {
          "base_uri": "https://localhost:8080/"
        },
        "id": "WgRkMKyAdVdM",
        "outputId": "b3d35302-f418-4003-b16b-66c689394bd0"
      },
      "execution_count": null,
      "outputs": [
        {
          "output_type": "stream",
          "name": "stdout",
          "text": [
            "Hello world\n"
          ]
        }
      ]
    },
    {
      "cell_type": "code",
      "source": [
        "# Mutable --> List, Set, Dictionary\n",
        "# Immutable --> String , Tuple"
      ],
      "metadata": {
        "id": "_xKscet5cOkU"
      },
      "execution_count": null,
      "outputs": []
    },
    {
      "cell_type": "code",
      "source": [
        "ex = (2,3,4,5,'a','b')\n",
        "ex[0]"
      ],
      "metadata": {
        "colab": {
          "base_uri": "https://localhost:8080/"
        },
        "id": "JcRvNVumdqsU",
        "outputId": "b1904b81-666f-4475-cabb-14889ce5410d"
      },
      "execution_count": null,
      "outputs": [
        {
          "output_type": "execute_result",
          "data": {
            "text/plain": [
              "2"
            ]
          },
          "metadata": {},
          "execution_count": 53
        }
      ]
    },
    {
      "cell_type": "code",
      "source": [
        "# Change 2 to 100\n",
        "ex[0] = 100"
      ],
      "metadata": {
        "colab": {
          "base_uri": "https://localhost:8080/",
          "height": 193
        },
        "id": "MucR3xfTdtdy",
        "outputId": "a0c91560-8f05-4d92-a126-3199df888a65"
      },
      "execution_count": null,
      "outputs": [
        {
          "output_type": "error",
          "ename": "TypeError",
          "evalue": "'tuple' object does not support item assignment",
          "traceback": [
            "\u001b[0;31m---------------------------------------------------------------------------\u001b[0m",
            "\u001b[0;31mTypeError\u001b[0m                                 Traceback (most recent call last)",
            "\u001b[0;32m<ipython-input-54-37c0ab2614f9>\u001b[0m in \u001b[0;36m<cell line: 2>\u001b[0;34m()\u001b[0m\n\u001b[1;32m      1\u001b[0m \u001b[0;31m# Change 2 to 100\u001b[0m\u001b[0;34m\u001b[0m\u001b[0;34m\u001b[0m\u001b[0m\n\u001b[0;32m----> 2\u001b[0;31m \u001b[0mex\u001b[0m\u001b[0;34m[\u001b[0m\u001b[0;36m0\u001b[0m\u001b[0;34m]\u001b[0m \u001b[0;34m=\u001b[0m \u001b[0;36m100\u001b[0m\u001b[0;34m\u001b[0m\u001b[0;34m\u001b[0m\u001b[0m\n\u001b[0m",
            "\u001b[0;31mTypeError\u001b[0m: 'tuple' object does not support item assignment"
          ]
        }
      ]
    },
    {
      "cell_type": "code",
      "source": [
        "# Set --> Mutable\n",
        "ex = {2,3,4,5,6,7}\n",
        "ex.add(8) # 8 as an element\n",
        "print(ex)"
      ],
      "metadata": {
        "colab": {
          "base_uri": "https://localhost:8080/"
        },
        "id": "SKtrCDNxdxAY",
        "outputId": "95e7938e-492d-452b-b402-b3dcd621085d"
      },
      "execution_count": null,
      "outputs": [
        {
          "output_type": "stream",
          "name": "stdout",
          "text": [
            "{2, 3, 4, 5, 6, 7, 8}\n"
          ]
        }
      ]
    },
    {
      "cell_type": "code",
      "source": [
        "ex.remove(5) # Remove 5 # I don't have to overwrite here."
      ],
      "metadata": {
        "id": "x_t-jQhzeEZV"
      },
      "execution_count": null,
      "outputs": []
    },
    {
      "cell_type": "code",
      "source": [
        "print(ex)"
      ],
      "metadata": {
        "colab": {
          "base_uri": "https://localhost:8080/"
        },
        "id": "qQLrPXxZeHjf",
        "outputId": "884fda3b-6db5-4af5-8954-33bcc8cfdb8c"
      },
      "execution_count": null,
      "outputs": [
        {
          "output_type": "stream",
          "name": "stdout",
          "text": [
            "{2, 3, 4, 6, 7, 8}\n"
          ]
        }
      ]
    },
    {
      "cell_type": "code",
      "source": [
        "ex = [2,3,4,5]\n",
        "ex[1] # Output is 3"
      ],
      "metadata": {
        "colab": {
          "base_uri": "https://localhost:8080/"
        },
        "id": "w2gRZKKye0Va",
        "outputId": "1d5ca3fa-5a3e-46dc-d064-97784dddf431"
      },
      "execution_count": null,
      "outputs": [
        {
          "output_type": "execute_result",
          "data": {
            "text/plain": [
              "3"
            ]
          },
          "metadata": {},
          "execution_count": 58
        }
      ]
    },
    {
      "cell_type": "code",
      "source": [
        "# Dictionary --> Mutable\n",
        "ex = {'Alok': 80 , 'Vikas':90, 'Shivam' :85} # Key is analogy of index\n",
        "ex['Alok'] # Number scored by Alok"
      ],
      "metadata": {
        "colab": {
          "base_uri": "https://localhost:8080/"
        },
        "id": "4Q9LJ52ReIcx",
        "outputId": "be6ead58-b458-45a2-b232-883cf9737456"
      },
      "execution_count": null,
      "outputs": [
        {
          "output_type": "execute_result",
          "data": {
            "text/plain": [
              "80"
            ]
          },
          "metadata": {},
          "execution_count": 60
        }
      ]
    },
    {
      "cell_type": "code",
      "source": [
        "# # Add new key and value pair\n",
        "ex['Aquib'] = 90\n",
        "print(ex)"
      ],
      "metadata": {
        "colab": {
          "base_uri": "https://localhost:8080/"
        },
        "id": "kZIlHzp2fIJL",
        "outputId": "3af2f947-922c-4bf3-a96b-463c2448fa64"
      },
      "execution_count": null,
      "outputs": [
        {
          "output_type": "stream",
          "name": "stdout",
          "text": [
            "{'Alok': 80, 'Vikas': 90, 'Shivam': 85, 'Aquib': 90}\n"
          ]
        }
      ]
    },
    {
      "cell_type": "code",
      "source": [
        "ex.pop('Alok')"
      ],
      "metadata": {
        "colab": {
          "base_uri": "https://localhost:8080/"
        },
        "id": "mWkGKMnmfk58",
        "outputId": "b088c4ae-8006-4075-b28a-df4c5b740fc2"
      },
      "execution_count": null,
      "outputs": [
        {
          "output_type": "execute_result",
          "data": {
            "text/plain": [
              "80"
            ]
          },
          "metadata": {},
          "execution_count": 63
        }
      ]
    },
    {
      "cell_type": "code",
      "source": [
        "ex"
      ],
      "metadata": {
        "colab": {
          "base_uri": "https://localhost:8080/"
        },
        "id": "lPeiS8HDftOX",
        "outputId": "690fd914-1ffb-4b33-c3db-9b4c59056c8a"
      },
      "execution_count": null,
      "outputs": [
        {
          "output_type": "execute_result",
          "data": {
            "text/plain": [
              "{'Vikas': 90, 'Shivam': 85, 'Aquib': 90}"
            ]
          },
          "metadata": {},
          "execution_count": 64
        }
      ]
    },
    {
      "cell_type": "code",
      "source": [
        "ex"
      ],
      "metadata": {
        "colab": {
          "base_uri": "https://localhost:8080/"
        },
        "id": "M_OG3DV9f1Ue",
        "outputId": "7815c6c2-fe7c-455d-eeb2-980b651050d8"
      },
      "execution_count": null,
      "outputs": [
        {
          "output_type": "execute_result",
          "data": {
            "text/plain": [
              "{'Vikas': 90, 'Shivam': 85, 'Aquib': 90}"
            ]
          },
          "metadata": {},
          "execution_count": 65
        }
      ]
    },
    {
      "cell_type": "code",
      "source": [
        "# 'Pranjal' : 85\n",
        "ex['Pranjal'] = 85"
      ],
      "metadata": {
        "id": "HXfWwo9KgsSU"
      },
      "execution_count": null,
      "outputs": []
    },
    {
      "cell_type": "code",
      "source": [
        "ex"
      ],
      "metadata": {
        "colab": {
          "base_uri": "https://localhost:8080/"
        },
        "id": "y8kl5E22gz99",
        "outputId": "ef4193ea-6fc8-4212-9fdf-4dfa7b00e5ea"
      },
      "execution_count": null,
      "outputs": [
        {
          "output_type": "execute_result",
          "data": {
            "text/plain": [
              "{'Vikas': 90, 'Shivam': 85, 'Aquib': 90, 'Pranjal': 85}"
            ]
          },
          "metadata": {},
          "execution_count": 67
        }
      ]
    },
    {
      "cell_type": "code",
      "source": [
        " # .update for dictionary\n",
        "\n",
        "ex_list = [1,2,3,4]\n",
        "ex_string = '1,2,3,4'\n",
        "ex_tuple = (1,2,3,4)\n",
        "ex_set = {1,2,3,4}\n",
        "\n"
      ],
      "metadata": {
        "id": "OMM8e9S7g0hv"
      },
      "execution_count": null,
      "outputs": []
    },
    {
      "cell_type": "code",
      "source": [
        "import sys # Module to check the size of variable or memory consumed by variable\n",
        "print(sys.getsizeof(ex_list))\n",
        "print(sys.getsizeof(ex_string))\n",
        "print(sys.getsizeof(ex_tuple))\n",
        "print(sys.getsizeof(ex_set))"
      ],
      "metadata": {
        "colab": {
          "base_uri": "https://localhost:8080/"
        },
        "id": "ld5Ej5OZiXOS",
        "outputId": "82ad8512-7d5f-43f4-e319-ca55476ac903"
      },
      "execution_count": null,
      "outputs": [
        {
          "output_type": "stream",
          "name": "stdout",
          "text": [
            "88\n",
            "56\n",
            "72\n",
            "216\n"
          ]
        }
      ]
    },
    {
      "cell_type": "code",
      "source": [
        "#\n",
        "# ['Alok', 'Vikas', 'Shivam'] / ('Alok', 'Vikas', 'Shivam') # If I know data will not change in near future."
      ],
      "metadata": {
        "colab": {
          "base_uri": "https://localhost:8080/"
        },
        "id": "5XFH4iEyiasi",
        "outputId": "084acec9-35a6-46ed-d4a8-2e34c43cefc4"
      },
      "execution_count": null,
      "outputs": [
        {
          "output_type": "stream",
          "name": "stdout",
          "text": [
            "56\n"
          ]
        }
      ]
    },
    {
      "cell_type": "code",
      "source": [
        "# Ordered vs Unordered\n",
        "# List is ordered\n",
        "# Set is unordered\n"
      ],
      "metadata": {
        "id": "Oqw3ljMVieGI"
      },
      "execution_count": null,
      "outputs": []
    },
    {
      "cell_type": "code",
      "source": [
        "ex_list = [1,2,3,4]\n",
        "ex_set = {1,2,3,4}"
      ],
      "metadata": {
        "id": "w5kVVTq2kEFi"
      },
      "execution_count": null,
      "outputs": []
    },
    {
      "cell_type": "code",
      "source": [
        "ex_list[0]"
      ],
      "metadata": {
        "colab": {
          "base_uri": "https://localhost:8080/"
        },
        "id": "Ob6pKoNWkF2w",
        "outputId": "139b05cb-1419-44cc-eb0b-8d59be2e807e"
      },
      "execution_count": null,
      "outputs": [
        {
          "output_type": "execute_result",
          "data": {
            "text/plain": [
              "1"
            ]
          },
          "metadata": {},
          "execution_count": 77
        }
      ]
    },
    {
      "cell_type": "code",
      "source": [
        "ex_set[0] # No position is assigned here."
      ],
      "metadata": {
        "colab": {
          "base_uri": "https://localhost:8080/",
          "height": 176
        },
        "id": "fJUVnoSnl2kf",
        "outputId": "36d221e9-b783-43c1-ff95-8652db264e9b"
      },
      "execution_count": null,
      "outputs": [
        {
          "output_type": "error",
          "ename": "TypeError",
          "evalue": "'set' object is not subscriptable",
          "traceback": [
            "\u001b[0;31m---------------------------------------------------------------------------\u001b[0m",
            "\u001b[0;31mTypeError\u001b[0m                                 Traceback (most recent call last)",
            "\u001b[0;32m<ipython-input-79-dcc1005059eb>\u001b[0m in \u001b[0;36m<cell line: 1>\u001b[0;34m()\u001b[0m\n\u001b[0;32m----> 1\u001b[0;31m \u001b[0mex_set\u001b[0m\u001b[0;34m[\u001b[0m\u001b[0;36m0\u001b[0m\u001b[0;34m]\u001b[0m \u001b[0;31m# No position is assigned here.\u001b[0m\u001b[0;34m\u001b[0m\u001b[0;34m\u001b[0m\u001b[0m\n\u001b[0m",
            "\u001b[0;31mTypeError\u001b[0m: 'set' object is not subscriptable"
          ]
        }
      ]
    },
    {
      "cell_type": "code",
      "source": [
        "# Ordered\n",
        "[1,2,3,4] == [2,1,3,4]  # Sequence is different , because list is ordered, sequence also matters"
      ],
      "metadata": {
        "colab": {
          "base_uri": "https://localhost:8080/"
        },
        "id": "VQNEkOzdl4Hc",
        "outputId": "2f0211f4-0225-4152-beab-dfc1ea5f86fc"
      },
      "execution_count": null,
      "outputs": [
        {
          "output_type": "execute_result",
          "data": {
            "text/plain": [
              "False"
            ]
          },
          "metadata": {},
          "execution_count": 80
        }
      ]
    },
    {
      "cell_type": "code",
      "source": [
        "{1,2,3,4} == {2,1,3,4} # Set is unordered, doesn't what the sequence is,"
      ],
      "metadata": {
        "colab": {
          "base_uri": "https://localhost:8080/"
        },
        "id": "WJTL-VM-mGpN",
        "outputId": "2a72a8fa-0b1d-4472-d8e4-33d2f83159d9"
      },
      "execution_count": null,
      "outputs": [
        {
          "output_type": "execute_result",
          "data": {
            "text/plain": [
              "True"
            ]
          },
          "metadata": {},
          "execution_count": 81
        }
      ]
    },
    {
      "cell_type": "code",
      "source": [
        "# Ordered --> List, String, Tuple\n",
        "# Unordered --> Set, Dictionary\n",
        "{1:2, 3:4} == {3:4 , 1:2} # True"
      ],
      "metadata": {
        "colab": {
          "base_uri": "https://localhost:8080/"
        },
        "id": "m_8swsmqmUfv",
        "outputId": "13dda0d1-5767-40ce-ddc9-a5b58c9d7096"
      },
      "execution_count": null,
      "outputs": [
        {
          "output_type": "execute_result",
          "data": {
            "text/plain": [
              "True"
            ]
          },
          "metadata": {},
          "execution_count": 82
        }
      ]
    },
    {
      "cell_type": "code",
      "source": [
        "ex = [3,4,5,6]\n",
        "ex[0] # Indexing : Gettting the individual data using index as address"
      ],
      "metadata": {
        "colab": {
          "base_uri": "https://localhost:8080/"
        },
        "id": "DUk9DBBbnBl3",
        "outputId": "dae426fe-2df8-415c-d0c5-aa9cddcb8e1c"
      },
      "execution_count": null,
      "outputs": [
        {
          "output_type": "execute_result",
          "data": {
            "text/plain": [
              "3"
            ]
          },
          "metadata": {},
          "execution_count": 83
        }
      ]
    },
    {
      "cell_type": "code",
      "source": [
        "# Indexing and Slicing --> Ordered data :: Why?? Unordered dtypes don't store the address or index of values"
      ],
      "metadata": {
        "id": "YeLoZd3imthx"
      },
      "execution_count": null,
      "outputs": []
    },
    {
      "cell_type": "code",
      "source": [
        "# Restrictions in Data storage\n",
        "# String\n",
        "ex = \"dkemwfro3i4j3r190-23ei13[dpendc docpdewdenjen34324j2p423de]{{}}pe\"\n",
        "# No restriction :: Everything will become string"
      ],
      "metadata": {
        "id": "2bGR_PEinZVI"
      },
      "execution_count": null,
      "outputs": []
    },
    {
      "cell_type": "code",
      "source": [
        "# List\n",
        "ex = [ 1 , 2.3 , True, 'Alok' , [3 , 4 , 5] , (4,3), {3,2,4} , {1:2,4:3} ] # No restriction of data : Dump yard of data storage"
      ],
      "metadata": {
        "id": "qWmVVApPnymj"
      },
      "execution_count": null,
      "outputs": []
    },
    {
      "cell_type": "code",
      "source": [
        "# How many elements are there in ex?\n",
        "len(ex) # 8"
      ],
      "metadata": {
        "colab": {
          "base_uri": "https://localhost:8080/"
        },
        "id": "xNmZpNGony_b",
        "outputId": "90adb7ac-8a18-4b4a-ea40-0480dca198b0"
      },
      "execution_count": null,
      "outputs": [
        {
          "output_type": "execute_result",
          "data": {
            "text/plain": [
              "8"
            ]
          },
          "metadata": {},
          "execution_count": 87
        }
      ]
    },
    {
      "cell_type": "code",
      "source": [
        "# Tuple\n",
        "ex = ( 1 , 2.3 , True, 'Alok' , [3 , 4 , 5] , (4,3), {3,2,4} , {1:2,4:3} ) # No restriction of data"
      ],
      "metadata": {
        "id": "6-iI8ap1oYIZ"
      },
      "execution_count": null,
      "outputs": []
    },
    {
      "cell_type": "code",
      "source": [
        "len(ex) # 8 elements"
      ],
      "metadata": {
        "colab": {
          "base_uri": "https://localhost:8080/"
        },
        "id": "wE3XcoRHo3RA",
        "outputId": "e2f81e24-3530-450e-af92-ed941aed4576"
      },
      "execution_count": null,
      "outputs": [
        {
          "output_type": "execute_result",
          "data": {
            "text/plain": [
              "8"
            ]
          },
          "metadata": {},
          "execution_count": 89
        }
      ]
    },
    {
      "cell_type": "code",
      "source": [
        "# Set\n",
        "ex = {1 , 2.3 , True, 'Alok' , [3 , 4 , 5] , (4,3), {3,2,4} , {1:2,4:3} }\n",
        "# List, set & dictionary :: Can't be part of elements inside a set :: Mutable dtypes can't be stored in set"
      ],
      "metadata": {
        "colab": {
          "base_uri": "https://localhost:8080/",
          "height": 193
        },
        "id": "IhYM0nhDo-q4",
        "outputId": "15ecf0c0-78ff-4bca-96b5-4eae449bd372"
      },
      "execution_count": null,
      "outputs": [
        {
          "output_type": "error",
          "ename": "TypeError",
          "evalue": "unhashable type: 'list'",
          "traceback": [
            "\u001b[0;31m---------------------------------------------------------------------------\u001b[0m",
            "\u001b[0;31mTypeError\u001b[0m                                 Traceback (most recent call last)",
            "\u001b[0;32m<ipython-input-90-dbf10e41e60d>\u001b[0m in \u001b[0;36m<cell line: 2>\u001b[0;34m()\u001b[0m\n\u001b[1;32m      1\u001b[0m \u001b[0;31m# Set\u001b[0m\u001b[0;34m\u001b[0m\u001b[0;34m\u001b[0m\u001b[0m\n\u001b[0;32m----> 2\u001b[0;31m \u001b[0mex\u001b[0m \u001b[0;34m=\u001b[0m \u001b[0;34m{\u001b[0m\u001b[0;36m1\u001b[0m \u001b[0;34m,\u001b[0m \u001b[0;36m2.3\u001b[0m \u001b[0;34m,\u001b[0m \u001b[0;32mTrue\u001b[0m\u001b[0;34m,\u001b[0m \u001b[0;34m'Alok'\u001b[0m \u001b[0;34m,\u001b[0m \u001b[0;34m[\u001b[0m\u001b[0;36m3\u001b[0m \u001b[0;34m,\u001b[0m \u001b[0;36m4\u001b[0m \u001b[0;34m,\u001b[0m \u001b[0;36m5\u001b[0m\u001b[0;34m]\u001b[0m \u001b[0;34m,\u001b[0m \u001b[0;34m(\u001b[0m\u001b[0;36m4\u001b[0m\u001b[0;34m,\u001b[0m\u001b[0;36m3\u001b[0m\u001b[0;34m)\u001b[0m\u001b[0;34m,\u001b[0m \u001b[0;34m{\u001b[0m\u001b[0;36m3\u001b[0m\u001b[0;34m,\u001b[0m\u001b[0;36m2\u001b[0m\u001b[0;34m,\u001b[0m\u001b[0;36m4\u001b[0m\u001b[0;34m}\u001b[0m \u001b[0;34m,\u001b[0m \u001b[0;34m{\u001b[0m\u001b[0;36m1\u001b[0m\u001b[0;34m:\u001b[0m\u001b[0;36m2\u001b[0m\u001b[0;34m,\u001b[0m\u001b[0;36m4\u001b[0m\u001b[0;34m:\u001b[0m\u001b[0;36m3\u001b[0m\u001b[0;34m}\u001b[0m \u001b[0;34m}\u001b[0m\u001b[0;34m\u001b[0m\u001b[0;34m\u001b[0m\u001b[0m\n\u001b[0m",
            "\u001b[0;31mTypeError\u001b[0m: unhashable type: 'list'"
          ]
        }
      ]
    },
    {
      "cell_type": "code",
      "source": [
        "ex = {1, 2.3 , 'Alok',True, (8,7)} #   List, set, dictionary :: Can't be stored in set :: Mutable data"
      ],
      "metadata": {
        "id": "7uDNY3tbsqNs"
      },
      "execution_count": null,
      "outputs": []
    },
    {
      "cell_type": "code",
      "source": [
        "ex = {1 , 2.3 , True, 'Alok'  , (4,3)  } # All are accepted"
      ],
      "metadata": {
        "id": "bcernaVEpSln"
      },
      "execution_count": null,
      "outputs": []
    },
    {
      "cell_type": "code",
      "source": [
        "ex"
      ],
      "metadata": {
        "colab": {
          "base_uri": "https://localhost:8080/"
        },
        "id": "hkcTicyVpsK0",
        "outputId": "b4c69224-0bf9-4d6a-95d5-4fcdb6e125d6"
      },
      "execution_count": null,
      "outputs": [
        {
          "output_type": "execute_result",
          "data": {
            "text/plain": [
              "{(4, 3), 1, 2.3, 'Alok'}"
            ]
          },
          "metadata": {},
          "execution_count": 92
        }
      ]
    },
    {
      "cell_type": "code",
      "source": [
        "# Dictionary\n",
        "ex = {2:'a', 3:'b'}\n",
        "# keys will behave like set, values will behave like list\n",
        "# keys will accept immutable data types :: (List, set & Dictionary can't be part of keys)\n",
        "# values will accept everything"
      ],
      "metadata": {
        "id": "SIIEh3vwps-a"
      },
      "execution_count": null,
      "outputs": []
    },
    {
      "cell_type": "code",
      "source": [
        "ex = { 1:[4,5] , 3.4 : (5,6) , 'A' : {2:3,4:5} ,  (3,4):(9,8)  }"
      ],
      "metadata": {
        "id": "8rkGOb1MqUlZ"
      },
      "execution_count": null,
      "outputs": []
    },
    {
      "cell_type": "code",
      "source": [
        "ex[(3,4)]"
      ],
      "metadata": {
        "colab": {
          "base_uri": "https://localhost:8080/"
        },
        "id": "hkzbXKxbqlaY",
        "outputId": "5fc9929d-20b5-4d66-8be5-ab2d2529ad88"
      },
      "execution_count": null,
      "outputs": [
        {
          "output_type": "execute_result",
          "data": {
            "text/plain": [
              "(9, 8)"
            ]
          },
          "metadata": {},
          "execution_count": 96
        }
      ]
    },
    {
      "cell_type": "code",
      "source": [
        "ex[3.4]"
      ],
      "metadata": {
        "colab": {
          "base_uri": "https://localhost:8080/"
        },
        "id": "MHLwbeMrqxiW",
        "outputId": "4870a14d-a367-4fbf-9e4b-d01f1ba29c10"
      },
      "execution_count": null,
      "outputs": [
        {
          "output_type": "execute_result",
          "data": {
            "text/plain": [
              "(5, 6)"
            ]
          },
          "metadata": {},
          "execution_count": 97
        }
      ]
    },
    {
      "cell_type": "code",
      "source": [
        "# Dictionary is combination of key and value\n",
        "alok = {'name':'Alok' , 'age':30, 'Skill' : 'DS'} # {Key:Value}"
      ],
      "metadata": {
        "id": "7xIMfealq0Kl"
      },
      "execution_count": null,
      "outputs": []
    },
    {
      "cell_type": "code",
      "source": [
        "alok['age']"
      ],
      "metadata": {
        "colab": {
          "base_uri": "https://localhost:8080/"
        },
        "id": "CkIp4BvIr2dL",
        "outputId": "3e56f846-9ec5-4913-e34b-e7c1f0df46c0"
      },
      "execution_count": null,
      "outputs": [
        {
          "output_type": "execute_result",
          "data": {
            "text/plain": [
              "30"
            ]
          },
          "metadata": {},
          "execution_count": 99
        }
      ]
    },
    {
      "cell_type": "code",
      "source": [
        "alok['Skill']"
      ],
      "metadata": {
        "colab": {
          "base_uri": "https://localhost:8080/",
          "height": 35
        },
        "id": "92rXDXPkr4hp",
        "outputId": "7152bc0b-1873-4ce6-a4f6-9c728f5ef26c"
      },
      "execution_count": null,
      "outputs": [
        {
          "output_type": "execute_result",
          "data": {
            "text/plain": [
              "'DS'"
            ],
            "application/vnd.google.colaboratory.intrinsic+json": {
              "type": "string"
            }
          },
          "metadata": {},
          "execution_count": 101
        }
      ]
    },
    {
      "cell_type": "code",
      "source": [
        "# Restriction of data :: Keys, Values\n",
        "# Keys : only immutable dtypes are accepted :: Same rules as set\n",
        "# Values : All dtypes are accepted :: Same rules as list\n"
      ],
      "metadata": {
        "id": "kSkeVqJfr6X6"
      },
      "execution_count": null,
      "outputs": []
    },
    {
      "cell_type": "code",
      "source": [
        "# Duplicate members\n",
        "# String, List & Tuple can have duplicate values\n",
        "ex = 'hello world' # Duplicate is allowed"
      ],
      "metadata": {
        "id": "463d-GfTtCYT"
      },
      "execution_count": null,
      "outputs": []
    },
    {
      "cell_type": "code",
      "source": [
        "ex = [1,2,2,2,2,1,3,3,4,5] # Duplicate is allowed"
      ],
      "metadata": {
        "id": "6ImTMQxrtCOs"
      },
      "execution_count": null,
      "outputs": []
    },
    {
      "cell_type": "code",
      "source": [
        "ex = (1,2,2,2,2,1,3,3,4,5) # Duplicate is allowed"
      ],
      "metadata": {
        "id": "8lBQeqKVtCLk"
      },
      "execution_count": null,
      "outputs": []
    },
    {
      "cell_type": "code",
      "source": [
        "print(ex)"
      ],
      "metadata": {
        "colab": {
          "base_uri": "https://localhost:8080/"
        },
        "id": "Q6B-KCKJtV1m",
        "outputId": "ed9a8896-cae7-40f0-d82c-465c069b3c23"
      },
      "execution_count": null,
      "outputs": [
        {
          "output_type": "stream",
          "name": "stdout",
          "text": [
            "(1, 2, 2, 2, 2, 1, 3, 3, 4, 5)\n"
          ]
        }
      ]
    },
    {
      "cell_type": "code",
      "source": [
        "# Set\n",
        "ex_set = {1,2,2,2,2,1,3,3,4,5}\n",
        "print(ex_set) # Duplicates are removed , Only unique values are stored."
      ],
      "metadata": {
        "colab": {
          "base_uri": "https://localhost:8080/"
        },
        "id": "nshSJDdbtW63",
        "outputId": "a3eba78b-3c29-4051-c98b-dcc00c6105ee"
      },
      "execution_count": null,
      "outputs": [
        {
          "output_type": "stream",
          "name": "stdout",
          "text": [
            "{1, 2, 3, 4, 5}\n"
          ]
        }
      ]
    },
    {
      "cell_type": "code",
      "source": [
        "{1, 2, '1', 2} # Output :: Unique data will be stored"
      ],
      "metadata": {
        "colab": {
          "base_uri": "https://localhost:8080/"
        },
        "id": "x4ySBVqctbRJ",
        "outputId": "c0a39067-7bd3-4742-ff88-cb69c4b3a2b3"
      },
      "execution_count": null,
      "outputs": [
        {
          "output_type": "execute_result",
          "data": {
            "text/plain": [
              "{1, '1', 2}"
            ]
          },
          "metadata": {},
          "execution_count": 109
        }
      ]
    },
    {
      "cell_type": "code",
      "source": [
        "{1, 2, '1', 2, True} # Output: Exception : True is considered as int 1 by set."
      ],
      "metadata": {
        "colab": {
          "base_uri": "https://localhost:8080/"
        },
        "id": "ZaGzT6H8tp6X",
        "outputId": "0cf3a6d4-381a-4597-95c2-836682dd0dad"
      },
      "execution_count": null,
      "outputs": [
        {
          "output_type": "execute_result",
          "data": {
            "text/plain": [
              "{1, '1', 2}"
            ]
          },
          "metadata": {},
          "execution_count": 110
        }
      ]
    },
    {
      "cell_type": "code",
      "source": [
        "{1, 2, '1', 2, 0, False}  # Exception : False is considered as int 0 by set."
      ],
      "metadata": {
        "colab": {
          "base_uri": "https://localhost:8080/"
        },
        "id": "yJLvg5eut5jz",
        "outputId": "67c4ea41-8e15-4d62-f7a4-34cd752f31c3"
      },
      "execution_count": null,
      "outputs": [
        {
          "output_type": "execute_result",
          "data": {
            "text/plain": [
              "{0, 1, '1', 2}"
            ]
          },
          "metadata": {},
          "execution_count": 111
        }
      ]
    },
    {
      "cell_type": "code",
      "source": [
        "# Dictionary\n",
        "# Key doesn't allow duplicated values , Value allows duplicates\n",
        "\n",
        "\n",
        "ex_dict = { 1: 2, 3 : 4, 3: 6, 6 : 4}\n",
        "print(ex_dict) # {1: 2, 3: 6} --- {1: 2, 3 : 4}"
      ],
      "metadata": {
        "colab": {
          "base_uri": "https://localhost:8080/"
        },
        "id": "SU6kLCXEuDkk",
        "outputId": "e59c2655-1832-4504-b91d-81da8c616f96"
      },
      "execution_count": null,
      "outputs": [
        {
          "output_type": "stream",
          "name": "stdout",
          "text": [
            "{1: 2, 3: 6, 6: 4}\n"
          ]
        }
      ]
    },
    {
      "cell_type": "code",
      "source": [
        "# Data with zero elements --> Initialisation\n",
        "ex = '' # \"\", ''''''\n",
        "print(type(ex))\n",
        "print(len(ex))"
      ],
      "metadata": {
        "colab": {
          "base_uri": "https://localhost:8080/"
        },
        "id": "MEMjsCMQubl7",
        "outputId": "9b7e0c50-d0ce-454f-8cd7-463c48623961"
      },
      "execution_count": null,
      "outputs": [
        {
          "output_type": "stream",
          "name": "stdout",
          "text": [
            "<class 'str'>\n",
            "0\n"
          ]
        }
      ]
    },
    {
      "cell_type": "code",
      "source": [
        "ex = []\n",
        "print(type(ex))\n",
        "print(len(ex))"
      ],
      "metadata": {
        "colab": {
          "base_uri": "https://localhost:8080/"
        },
        "id": "N5-NRxJvve2v",
        "outputId": "3e0d0c91-c981-499a-a6e1-b8c0de08cc36"
      },
      "execution_count": null,
      "outputs": [
        {
          "output_type": "stream",
          "name": "stdout",
          "text": [
            "<class 'list'>\n",
            "0\n"
          ]
        }
      ]
    },
    {
      "cell_type": "code",
      "source": [
        "ex = ()\n",
        "print(type(ex))\n",
        "print(len(ex))"
      ],
      "metadata": {
        "colab": {
          "base_uri": "https://localhost:8080/"
        },
        "id": "MWCUzWmMvy6L",
        "outputId": "790ae75f-7cec-43e4-a7c5-55428fd5f4eb"
      },
      "execution_count": null,
      "outputs": [
        {
          "output_type": "stream",
          "name": "stdout",
          "text": [
            "<class 'tuple'>\n",
            "0\n"
          ]
        }
      ]
    },
    {
      "cell_type": "code",
      "source": [
        "ex = {}\n",
        "print(type(ex)) # Dictionary\n",
        "print(len(ex))"
      ],
      "metadata": {
        "colab": {
          "base_uri": "https://localhost:8080/"
        },
        "id": "Wd0kiX3tv1g_",
        "outputId": "b279c396-4cf6-41fe-f2ce-65e1d937dc18"
      },
      "execution_count": null,
      "outputs": [
        {
          "output_type": "stream",
          "name": "stdout",
          "text": [
            "<class 'dict'>\n",
            "0\n"
          ]
        }
      ]
    },
    {
      "cell_type": "code",
      "source": [
        "ex = set() # An exception, keep it in mind.\n",
        "print(type(ex)) # set\n",
        "print(len(ex))"
      ],
      "metadata": {
        "colab": {
          "base_uri": "https://localhost:8080/"
        },
        "id": "k59MKvy5v98H",
        "outputId": "d600cb06-dfb8-4b24-feb1-c4186ee810c3"
      },
      "execution_count": null,
      "outputs": [
        {
          "output_type": "stream",
          "name": "stdout",
          "text": [
            "<class 'set'>\n",
            "0\n"
          ]
        }
      ]
    },
    {
      "cell_type": "code",
      "source": [
        "# Single element data\n",
        "ex = 'H' # Single element String\n",
        "len(ex)"
      ],
      "metadata": {
        "colab": {
          "base_uri": "https://localhost:8080/"
        },
        "id": "wAAT9JFEwLGG",
        "outputId": "2ba16892-a5a7-4c0d-f33b-be6325bb4bf8"
      },
      "execution_count": null,
      "outputs": [
        {
          "output_type": "execute_result",
          "data": {
            "text/plain": [
              "1"
            ]
          },
          "metadata": {},
          "execution_count": 121
        }
      ]
    },
    {
      "cell_type": "code",
      "source": [
        "ex = [1] # Single element list\n",
        "len(ex)"
      ],
      "metadata": {
        "colab": {
          "base_uri": "https://localhost:8080/"
        },
        "id": "IwVVPj2JwgYM",
        "outputId": "f99ac05b-9155-4e87-e4db-5f175ce69175"
      },
      "execution_count": null,
      "outputs": [
        {
          "output_type": "execute_result",
          "data": {
            "text/plain": [
              "1"
            ]
          },
          "metadata": {},
          "execution_count": 122
        }
      ]
    },
    {
      "cell_type": "code",
      "source": [
        "ex = {1} # Single element set\n",
        "len(ex)"
      ],
      "metadata": {
        "colab": {
          "base_uri": "https://localhost:8080/"
        },
        "id": "_xmLS9qCwk6m",
        "outputId": "4837591c-5555-47a3-da6a-927939ff96d7"
      },
      "execution_count": null,
      "outputs": [
        {
          "output_type": "execute_result",
          "data": {
            "text/plain": [
              "1"
            ]
          },
          "metadata": {},
          "execution_count": 123
        }
      ]
    },
    {
      "cell_type": "code",
      "source": [
        "ex = {1:2} # Single element dictionary\n",
        "len(ex)"
      ],
      "metadata": {
        "colab": {
          "base_uri": "https://localhost:8080/"
        },
        "id": "B_eWSQzFwpGT",
        "outputId": "4873400e-7671-4ed4-87f5-3664a49b4b16"
      },
      "execution_count": null,
      "outputs": [
        {
          "output_type": "execute_result",
          "data": {
            "text/plain": [
              "1"
            ]
          },
          "metadata": {},
          "execution_count": 124
        }
      ]
    },
    {
      "cell_type": "code",
      "source": [
        "# here is the exception for tuple\n",
        "ex = (1,) # Single element tuple, put comma at the end\n",
        "type(ex) # Data type"
      ],
      "metadata": {
        "colab": {
          "base_uri": "https://localhost:8080/"
        },
        "id": "Pi6aMAg-wsTi",
        "outputId": "702ed1c7-4db7-4889-e32f-33e17bb5744a"
      },
      "execution_count": null,
      "outputs": [
        {
          "output_type": "execute_result",
          "data": {
            "text/plain": [
              "tuple"
            ]
          },
          "metadata": {},
          "execution_count": 126
        }
      ]
    },
    {
      "cell_type": "code",
      "source": [
        "{2 , 3 , 2 , (3) , (4,5)} # Output"
      ],
      "metadata": {
        "colab": {
          "base_uri": "https://localhost:8080/"
        },
        "id": "Yuj8SyiQw3pg",
        "outputId": "aefde02f-0b52-4950-b610-51464c7d9e98"
      },
      "execution_count": null,
      "outputs": [
        {
          "output_type": "execute_result",
          "data": {
            "text/plain": [
              "{(4, 5), 2, 3}"
            ]
          },
          "metadata": {},
          "execution_count": 127
        }
      ]
    },
    {
      "cell_type": "code",
      "source": [
        "{2 , 3 , 2 , (3) , (4,5), (3,)} # Output"
      ],
      "metadata": {
        "colab": {
          "base_uri": "https://localhost:8080/"
        },
        "id": "HGFIH6mgxMDM",
        "outputId": "79010156-8a5a-4a5c-e806-d23bbe454c78"
      },
      "execution_count": null,
      "outputs": [
        {
          "output_type": "execute_result",
          "data": {
            "text/plain": [
              "{(3,), (4, 5), 2, 3}"
            ]
          },
          "metadata": {},
          "execution_count": 128
        }
      ]
    },
    {
      "cell_type": "code",
      "source": [],
      "metadata": {
        "id": "fp-ZhxmlxTfx"
      },
      "execution_count": null,
      "outputs": []
    }
  ]
}