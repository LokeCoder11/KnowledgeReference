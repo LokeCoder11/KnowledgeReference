{
  "nbformat": 4,
  "nbformat_minor": 0,
  "metadata": {
    "colab": {
      "provenance": [],
      "include_colab_link": true
    },
    "kernelspec": {
      "name": "python3",
      "display_name": "Python 3"
    },
    "language_info": {
      "name": "python"
    }
  },
  "cells": [
    {
      "cell_type": "markdown",
      "metadata": {
        "id": "view-in-github",
        "colab_type": "text"
      },
      "source": [
        "<a href=\"https://colab.research.google.com/github/LokeCoder11/KnowledgeReference/blob/main/Operators_in_Data_types.ipynb\" target=\"_parent\"><img src=\"https://colab.research.google.com/assets/colab-badge.svg\" alt=\"Open In Colab\"/></a>"
      ]
    },
    {
      "cell_type": "code",
      "execution_count": null,
      "metadata": {
        "colab": {
          "base_uri": "https://localhost:8080/",
          "height": 35
        },
        "id": "wviPhy7hApSg",
        "outputId": "545057b8-df43-4cb5-eaca-b3cd3ac120f2"
      },
      "outputs": [
        {
          "output_type": "execute_result",
          "data": {
            "text/plain": [
              "'Alma'"
            ],
            "application/vnd.google.colaboratory.intrinsic+json": {
              "type": "string"
            }
          },
          "metadata": {},
          "execution_count": 1
        }
      ],
      "source": [
        "# Indexing and Slicing Revision\n",
        "ex = 'AlmaBetter'\n",
        "# output as 'Alma'\n",
        "ex[ 0 : 4 : 1 ] # +ve index i = 0 or blank , j = position of 'a' in OD = 3 + 1 = 4 , k = 1"
      ]
    },
    {
      "cell_type": "code",
      "source": [
        "ex[ : 4 : ]"
      ],
      "metadata": {
        "colab": {
          "base_uri": "https://localhost:8080/",
          "height": 35
        },
        "id": "IdKQyd2nD6qN",
        "outputId": "7c08aeed-7f92-4480-933e-aea6171610bf"
      },
      "execution_count": null,
      "outputs": [
        {
          "output_type": "execute_result",
          "data": {
            "text/plain": [
              "'Alma'"
            ],
            "application/vnd.google.colaboratory.intrinsic+json": {
              "type": "string"
            }
          },
          "metadata": {},
          "execution_count": 2
        }
      ]
    },
    {
      "cell_type": "code",
      "source": [
        "# Output : 'AmBte'\n",
        "ex [ 0 : 9 : 2 ] # i = 0 or blank , j = position of 'e' in OD =8 + 1, k = 2"
      ],
      "metadata": {
        "colab": {
          "base_uri": "https://localhost:8080/",
          "height": 35
        },
        "id": "wHAg37pTD8cS",
        "outputId": "3b8a71a6-a945-458a-927f-f2cdbd6fddde"
      },
      "execution_count": null,
      "outputs": [
        {
          "output_type": "execute_result",
          "data": {
            "text/plain": [
              "'AmBte'"
            ],
            "application/vnd.google.colaboratory.intrinsic+json": {
              "type": "string"
            }
          },
          "metadata": {},
          "execution_count": 3
        }
      ]
    },
    {
      "cell_type": "code",
      "source": [
        "ex [ 0 : -1 : 2 ]"
      ],
      "metadata": {
        "colab": {
          "base_uri": "https://localhost:8080/",
          "height": 35
        },
        "id": "ScH_q8mfEgkb",
        "outputId": "4b8f7c38-cd9f-4d60-e722-2051141c4c5e"
      },
      "execution_count": null,
      "outputs": [
        {
          "output_type": "execute_result",
          "data": {
            "text/plain": [
              "'AmBte'"
            ],
            "application/vnd.google.colaboratory.intrinsic+json": {
              "type": "string"
            }
          },
          "metadata": {},
          "execution_count": 4
        }
      ]
    },
    {
      "cell_type": "code",
      "source": [
        "ex [ :  : 2 ]"
      ],
      "metadata": {
        "colab": {
          "base_uri": "https://localhost:8080/",
          "height": 35
        },
        "id": "7LnkRW6uEiya",
        "outputId": "7a1b436e-56a4-41af-c289-a8eadc91fb91"
      },
      "execution_count": null,
      "outputs": [
        {
          "output_type": "execute_result",
          "data": {
            "text/plain": [
              "'AmBte'"
            ],
            "application/vnd.google.colaboratory.intrinsic+json": {
              "type": "string"
            }
          },
          "metadata": {},
          "execution_count": 6
        }
      ]
    },
    {
      "cell_type": "code",
      "source": [
        "# Reverse\n",
        "ex = 'AlmaBetter'\n",
        "#amlA : Slice\n",
        "ex[ 3 : -11 : -1] # i = 3 , j= blank, position of A in OD : -10 -1 = -11  , k = -1"
      ],
      "metadata": {
        "colab": {
          "base_uri": "https://localhost:8080/",
          "height": 35
        },
        "id": "53oIYLmsEnlS",
        "outputId": "07d8b360-9ba0-440f-8af6-a557cb1b4386"
      },
      "execution_count": null,
      "outputs": [
        {
          "output_type": "execute_result",
          "data": {
            "text/plain": [
              "'amlA'"
            ],
            "application/vnd.google.colaboratory.intrinsic+json": {
              "type": "string"
            }
          },
          "metadata": {},
          "execution_count": 7
        }
      ]
    },
    {
      "cell_type": "code",
      "source": [
        "ex[3: : -1]"
      ],
      "metadata": {
        "colab": {
          "base_uri": "https://localhost:8080/",
          "height": 35
        },
        "id": "eVQIJD9TFyEa",
        "outputId": "5948a315-be18-4bf3-c14b-4809ecd96138"
      },
      "execution_count": null,
      "outputs": [
        {
          "output_type": "execute_result",
          "data": {
            "text/plain": [
              "'amlA'"
            ],
            "application/vnd.google.colaboratory.intrinsic+json": {
              "type": "string"
            }
          },
          "metadata": {},
          "execution_count": 8
        }
      ]
    },
    {
      "cell_type": "code",
      "source": [],
      "metadata": {
        "id": "K1t1i06qF7Bv"
      },
      "execution_count": null,
      "outputs": []
    },
    {
      "cell_type": "code",
      "source": [
        "ex = 'AlmaBetter'\n",
        "# 'etBmA'\n",
        "ex[ 8 : : -2] # i= 8 or -2 , j = blank, -10 -1 = -11 , k= -2\n"
      ],
      "metadata": {
        "colab": {
          "base_uri": "https://localhost:8080/",
          "height": 35
        },
        "id": "44iTxxsJF0pR",
        "outputId": "17fd1c9f-09f7-4983-a117-bca88e6049ce"
      },
      "execution_count": null,
      "outputs": [
        {
          "output_type": "execute_result",
          "data": {
            "text/plain": [
              "'etBmA'"
            ],
            "application/vnd.google.colaboratory.intrinsic+json": {
              "type": "string"
            }
          },
          "metadata": {},
          "execution_count": 10
        }
      ]
    },
    {
      "cell_type": "code",
      "source": [
        "ex[ -2 : -11 : -2]"
      ],
      "metadata": {
        "colab": {
          "base_uri": "https://localhost:8080/",
          "height": 35
        },
        "id": "DERSja8ZHedU",
        "outputId": "12e72e66-8b94-478e-fb56-109c0cfbf874"
      },
      "execution_count": null,
      "outputs": [
        {
          "output_type": "execute_result",
          "data": {
            "text/plain": [
              "'etBmA'"
            ],
            "application/vnd.google.colaboratory.intrinsic+json": {
              "type": "string"
            }
          },
          "metadata": {},
          "execution_count": 11
        }
      ]
    },
    {
      "cell_type": "code",
      "source": [
        "# input() --> Function\n"
      ],
      "metadata": {
        "id": "Et4-nvXtICsC"
      },
      "execution_count": null,
      "outputs": []
    },
    {
      "cell_type": "code",
      "source": [
        "# Change the data --> List\n",
        "# get the data --> String , list, tuple, dict (using keys) # Indexing and Slicing\n",
        "ex = [20,30,60,70,90] # [30,60,70] --> ['a', 'b', 'c']\n",
        "ex[ 1 : 4 : 1]  = ['a', 'b', 'c'] # List is mutable"
      ],
      "metadata": {
        "id": "S_cCkPeoIHFS"
      },
      "execution_count": null,
      "outputs": []
    },
    {
      "cell_type": "code",
      "source": [
        "print(ex)"
      ],
      "metadata": {
        "colab": {
          "base_uri": "https://localhost:8080/"
        },
        "id": "VCUsKdmSIoRw",
        "outputId": "e8212a8b-72a8-41c5-e5b9-81a97cdda6ed"
      },
      "execution_count": null,
      "outputs": [
        {
          "output_type": "stream",
          "name": "stdout",
          "text": [
            "[20, 'a', 'b', 'c', 90]\n"
          ]
        }
      ]
    },
    {
      "cell_type": "code",
      "source": [
        "ex = (20,30,60,70,90)\n",
        "ex[ 1 : 4 : 1]  # getting is possible : Indexing and slicing"
      ],
      "metadata": {
        "colab": {
          "base_uri": "https://localhost:8080/"
        },
        "id": "qYXcLoIzIqw3",
        "outputId": "2f63f247-e6e5-4788-c731-c5efd5c641a0"
      },
      "execution_count": null,
      "outputs": [
        {
          "output_type": "execute_result",
          "data": {
            "text/plain": [
              "(30, 60, 70)"
            ]
          },
          "metadata": {},
          "execution_count": 19
        }
      ]
    },
    {
      "cell_type": "code",
      "source": [
        "ex[ 1 : 4 : 1]  = ['a','b','c'] # tuple"
      ],
      "metadata": {
        "colab": {
          "base_uri": "https://localhost:8080/",
          "height": 141
        },
        "id": "CuWxu9n3I-Wh",
        "outputId": "a94c5ca4-c948-4a26-8fc4-ee5292096b06"
      },
      "execution_count": null,
      "outputs": [
        {
          "output_type": "error",
          "ename": "TypeError",
          "evalue": "'tuple' object does not support item assignment",
          "traceback": [
            "\u001b[0;31m---------------------------------------------------------------------------\u001b[0m",
            "\u001b[0;31mTypeError\u001b[0m                                 Traceback (most recent call last)",
            "\u001b[0;32m<ipython-input-20-df57e53aa473>\u001b[0m in \u001b[0;36m<cell line: 1>\u001b[0;34m()\u001b[0m\n\u001b[0;32m----> 1\u001b[0;31m \u001b[0mex\u001b[0m\u001b[0;34m[\u001b[0m \u001b[0;36m1\u001b[0m \u001b[0;34m:\u001b[0m \u001b[0;36m4\u001b[0m \u001b[0;34m:\u001b[0m \u001b[0;36m1\u001b[0m\u001b[0;34m]\u001b[0m  \u001b[0;34m=\u001b[0m \u001b[0;34m[\u001b[0m\u001b[0;34m'a'\u001b[0m\u001b[0;34m,\u001b[0m\u001b[0;34m'b'\u001b[0m\u001b[0;34m,\u001b[0m\u001b[0;34m'c'\u001b[0m\u001b[0;34m]\u001b[0m\u001b[0;34m\u001b[0m\u001b[0;34m\u001b[0m\u001b[0m\n\u001b[0m",
            "\u001b[0;31mTypeError\u001b[0m: 'tuple' object does not support item assignment"
          ]
        }
      ]
    },
    {
      "cell_type": "code",
      "source": [
        "# Operators in Data types\n",
        "# Arithmetic Operators : +, -, * , /, % , //, **\n",
        "x = 10\n",
        "y = 3\n",
        "print( x ** 2 ) # Output : 100 # Exponential Operator x to the power 2.\n",
        "print(x / y) # Output : 3.333 # Divison\n",
        "print(x // y) # Output : 3 # Integer divison / Floor division --> Quotient of division\n",
        "print(x % y) # Output : 1 # Remainder\n",
        "print(x * y) # output : 30 # Multiplication\n",
        "print(x + y) # Output : 13 # Addition\n",
        "print(x - y) # Output : 7 # Subs\n",
        "# Integer, Float & Boolean # Boolean"
      ],
      "metadata": {
        "colab": {
          "base_uri": "https://localhost:8080/"
        },
        "id": "3wJHFOFLHhDA",
        "outputId": "14330ead-1282-46db-d2b6-bf4be2e0557e"
      },
      "execution_count": null,
      "outputs": [
        {
          "output_type": "stream",
          "name": "stdout",
          "text": [
            "100\n",
            "3.3333333333333335\n",
            "3\n",
            "1\n",
            "30\n",
            "13\n",
            "7\n"
          ]
        }
      ]
    },
    {
      "cell_type": "code",
      "source": [
        "10 * False # False: 0"
      ],
      "metadata": {
        "colab": {
          "base_uri": "https://localhost:8080/"
        },
        "id": "p6bcu4ioK1uU",
        "outputId": "52023ce9-516e-487c-a9f3-9c00b6c2720e"
      },
      "execution_count": null,
      "outputs": [
        {
          "output_type": "execute_result",
          "data": {
            "text/plain": [
              "0"
            ]
          },
          "metadata": {},
          "execution_count": 29
        }
      ]
    },
    {
      "cell_type": "code",
      "source": [
        "10 / True # True : 1"
      ],
      "metadata": {
        "colab": {
          "base_uri": "https://localhost:8080/"
        },
        "id": "UPE7lVngLnaF",
        "outputId": "4ad1907b-fa79-4aca-955e-9d62ceb33638"
      },
      "execution_count": null,
      "outputs": [
        {
          "output_type": "execute_result",
          "data": {
            "text/plain": [
              "10.0"
            ]
          },
          "metadata": {},
          "execution_count": 30
        }
      ]
    },
    {
      "cell_type": "code",
      "source": [
        "# String, List, Tuple, Set & Dictionaries\n",
        "\n",
        "# '+' --> Addition Operator\n",
        "# String\n",
        "ex = 'hello'\n",
        "ex2 = 'world'\n",
        "\n",
        "print(ex + ex2) # Concatenate"
      ],
      "metadata": {
        "colab": {
          "base_uri": "https://localhost:8080/"
        },
        "id": "3SqrPx1kLpVi",
        "outputId": "e73719e0-abdd-40d1-8352-4d5d83977e98"
      },
      "execution_count": null,
      "outputs": [
        {
          "output_type": "stream",
          "name": "stdout",
          "text": [
            "helloworld\n"
          ]
        }
      ]
    },
    {
      "cell_type": "code",
      "source": [
        "ex = 'My '\n",
        "ex2 = 'name '\n",
        "ex3 = 'is '\n",
        "ex4 = 'Alok'\n",
        "print(ex + ' ' + ex2 +'x' +ex3 + 'y'+ ex4) # Concatenated : Clubbed together"
      ],
      "metadata": {
        "colab": {
          "base_uri": "https://localhost:8080/"
        },
        "id": "qv0ry3_3MCBl",
        "outputId": "1db55b2f-7f9b-46b0-eff2-cf8f5de63db2"
      },
      "execution_count": null,
      "outputs": [
        {
          "output_type": "stream",
          "name": "stdout",
          "text": [
            "My  name xis yAlok\n"
          ]
        }
      ]
    },
    {
      "cell_type": "code",
      "source": [
        "# List\n",
        "ex = [1,2,3,4]\n",
        "ex2 = [6,7,8,9]\n",
        "ex + ex2 # Club all elements, concatenate"
      ],
      "metadata": {
        "colab": {
          "base_uri": "https://localhost:8080/"
        },
        "id": "3hHzo4_xMLxf",
        "outputId": "4a8c8823-e156-4b78-adc0-d7840ff7da77"
      },
      "execution_count": null,
      "outputs": [
        {
          "output_type": "execute_result",
          "data": {
            "text/plain": [
              "[1, 2, 3, 4, 6, 7, 8, 9]"
            ]
          },
          "metadata": {},
          "execution_count": 36
        }
      ]
    },
    {
      "cell_type": "code",
      "source": [
        "# tuple\n",
        "ex = (1,2,3,4)\n",
        "ex2 = (9,8,7)\n",
        "ex + ex2 # Clubbed"
      ],
      "metadata": {
        "colab": {
          "base_uri": "https://localhost:8080/"
        },
        "id": "lJLNCzB_MU1o",
        "outputId": "ac8eb1a0-aacd-41ba-e59d-cd4fbc27d99b"
      },
      "execution_count": null,
      "outputs": [
        {
          "output_type": "execute_result",
          "data": {
            "text/plain": [
              "(1, 2, 3, 4, 9, 8, 7)"
            ]
          },
          "metadata": {},
          "execution_count": 37
        }
      ]
    },
    {
      "cell_type": "code",
      "source": [
        "# Set\n",
        "ex = {2,3,4}\n",
        "ex2 = {5,6,7}\n",
        "ex + ex2  # Can't apply + on Sets"
      ],
      "metadata": {
        "colab": {
          "base_uri": "https://localhost:8080/",
          "height": 176
        },
        "id": "0rf00vbhMyVj",
        "outputId": "b02942b9-ace1-4ea0-9b54-9cf461fdaea6"
      },
      "execution_count": null,
      "outputs": [
        {
          "output_type": "error",
          "ename": "TypeError",
          "evalue": "unsupported operand type(s) for +: 'set' and 'set'",
          "traceback": [
            "\u001b[0;31m---------------------------------------------------------------------------\u001b[0m",
            "\u001b[0;31mTypeError\u001b[0m                                 Traceback (most recent call last)",
            "\u001b[0;32m<ipython-input-39-e686542c8e27>\u001b[0m in \u001b[0;36m<cell line: 4>\u001b[0;34m()\u001b[0m\n\u001b[1;32m      2\u001b[0m \u001b[0mex\u001b[0m \u001b[0;34m=\u001b[0m \u001b[0;34m{\u001b[0m\u001b[0;36m2\u001b[0m\u001b[0;34m,\u001b[0m\u001b[0;36m3\u001b[0m\u001b[0;34m,\u001b[0m\u001b[0;36m4\u001b[0m\u001b[0;34m}\u001b[0m\u001b[0;34m\u001b[0m\u001b[0;34m\u001b[0m\u001b[0m\n\u001b[1;32m      3\u001b[0m \u001b[0mex2\u001b[0m \u001b[0;34m=\u001b[0m \u001b[0;34m{\u001b[0m\u001b[0;36m5\u001b[0m\u001b[0;34m,\u001b[0m\u001b[0;36m6\u001b[0m\u001b[0;34m,\u001b[0m\u001b[0;36m7\u001b[0m\u001b[0;34m}\u001b[0m\u001b[0;34m\u001b[0m\u001b[0;34m\u001b[0m\u001b[0m\n\u001b[0;32m----> 4\u001b[0;31m \u001b[0mex\u001b[0m \u001b[0;34m+\u001b[0m \u001b[0mex2\u001b[0m\u001b[0;34m\u001b[0m\u001b[0;34m\u001b[0m\u001b[0m\n\u001b[0m",
            "\u001b[0;31mTypeError\u001b[0m: unsupported operand type(s) for +: 'set' and 'set'"
          ]
        }
      ]
    },
    {
      "cell_type": "code",
      "source": [
        "# Dictionary\n",
        "ex = {2:3, 4:5}\n",
        "ex2 = {6:7, 8:9}\n",
        "ex + ex2 # use + with dict"
      ],
      "metadata": {
        "colab": {
          "base_uri": "https://localhost:8080/",
          "height": 176
        },
        "id": "FKLJrRmPM1cI",
        "outputId": "06b60ced-01c4-4c65-aff2-a4105b421858"
      },
      "execution_count": null,
      "outputs": [
        {
          "output_type": "error",
          "ename": "TypeError",
          "evalue": "unsupported operand type(s) for +: 'dict' and 'dict'",
          "traceback": [
            "\u001b[0;31m---------------------------------------------------------------------------\u001b[0m",
            "\u001b[0;31mTypeError\u001b[0m                                 Traceback (most recent call last)",
            "\u001b[0;32m<ipython-input-40-fe2f5f727fc5>\u001b[0m in \u001b[0;36m<cell line: 4>\u001b[0;34m()\u001b[0m\n\u001b[1;32m      2\u001b[0m \u001b[0mex\u001b[0m \u001b[0;34m=\u001b[0m \u001b[0;34m{\u001b[0m\u001b[0;36m2\u001b[0m\u001b[0;34m:\u001b[0m\u001b[0;36m3\u001b[0m\u001b[0;34m,\u001b[0m \u001b[0;36m4\u001b[0m\u001b[0;34m:\u001b[0m\u001b[0;36m5\u001b[0m\u001b[0;34m}\u001b[0m\u001b[0;34m\u001b[0m\u001b[0;34m\u001b[0m\u001b[0m\n\u001b[1;32m      3\u001b[0m \u001b[0mex2\u001b[0m \u001b[0;34m=\u001b[0m \u001b[0;34m{\u001b[0m\u001b[0;36m6\u001b[0m\u001b[0;34m:\u001b[0m\u001b[0;36m7\u001b[0m\u001b[0;34m,\u001b[0m \u001b[0;36m8\u001b[0m\u001b[0;34m:\u001b[0m\u001b[0;36m9\u001b[0m\u001b[0;34m}\u001b[0m\u001b[0;34m\u001b[0m\u001b[0;34m\u001b[0m\u001b[0m\n\u001b[0;32m----> 4\u001b[0;31m \u001b[0mex\u001b[0m \u001b[0;34m+\u001b[0m \u001b[0mex2\u001b[0m\u001b[0;34m\u001b[0m\u001b[0;34m\u001b[0m\u001b[0m\n\u001b[0m",
            "\u001b[0;31mTypeError\u001b[0m: unsupported operand type(s) for +: 'dict' and 'dict'"
          ]
        }
      ]
    },
    {
      "cell_type": "code",
      "source": [
        "# + is applicable to ordered data types :String, list, tuple : Concatenation"
      ],
      "metadata": {
        "id": "-w-B5CIdNSn0"
      },
      "execution_count": null,
      "outputs": []
    },
    {
      "cell_type": "code",
      "source": [
        "# * --> Multiplication\n",
        "# String, list, tuple, set & Dictionaries\n",
        "ex = 'hello'\n",
        "ex * 2 # Repeatation of string : Multiply with int to repeat that many times"
      ],
      "metadata": {
        "colab": {
          "base_uri": "https://localhost:8080/",
          "height": 35
        },
        "id": "NzVArrceNX13",
        "outputId": "8af438fe-0757-4207-9097-7d1409cdcb94"
      },
      "execution_count": null,
      "outputs": [
        {
          "output_type": "execute_result",
          "data": {
            "text/plain": [
              "'hellohello'"
            ],
            "application/vnd.google.colaboratory.intrinsic+json": {
              "type": "string"
            }
          },
          "metadata": {},
          "execution_count": 41
        }
      ]
    },
    {
      "cell_type": "code",
      "source": [
        "ex= 'Data\\n'\n",
        "print(ex * 3) # repeat 3 times"
      ],
      "metadata": {
        "colab": {
          "base_uri": "https://localhost:8080/"
        },
        "id": "m6pW_TDQNngJ",
        "outputId": "a77b84bf-ae9e-460a-915e-e0545900da71"
      },
      "execution_count": null,
      "outputs": [
        {
          "output_type": "stream",
          "name": "stdout",
          "text": [
            "Data\n",
            "Data\n",
            "Data\n",
            "\n"
          ]
        }
      ]
    },
    {
      "cell_type": "code",
      "source": [
        "# list\n",
        "ex = [1 , 2 , 3 ]\n",
        "ex * 3 # Output"
      ],
      "metadata": {
        "colab": {
          "base_uri": "https://localhost:8080/"
        },
        "id": "ecn3bUT9N06b",
        "outputId": "fee72533-e5eb-43b8-e796-a45d2e50d2f4"
      },
      "execution_count": null,
      "outputs": [
        {
          "output_type": "execute_result",
          "data": {
            "text/plain": [
              "[1, 2, 3, 1, 2, 3, 1, 2, 3]"
            ]
          },
          "metadata": {},
          "execution_count": 46
        }
      ]
    },
    {
      "cell_type": "code",
      "source": [
        "# tuple\n",
        "ex = (1,2,3)\n",
        "ex * 4 # Repeated 4 times"
      ],
      "metadata": {
        "colab": {
          "base_uri": "https://localhost:8080/"
        },
        "id": "aRigysrGOHat",
        "outputId": "d96b84cd-ee94-4c19-ce54-86e1d6e9e9e1"
      },
      "execution_count": null,
      "outputs": [
        {
          "output_type": "execute_result",
          "data": {
            "text/plain": [
              "(1, 2, 3, 1, 2, 3, 1, 2, 3, 1, 2, 3)"
            ]
          },
          "metadata": {},
          "execution_count": 49
        }
      ]
    },
    {
      "cell_type": "code",
      "source": [
        "ex = [ [1 , 2 , 3 ] ] # How many elements are present? - 1\n",
        "ex * 3 # Output"
      ],
      "metadata": {
        "colab": {
          "base_uri": "https://localhost:8080/"
        },
        "id": "1xpfn9isO66R",
        "outputId": "82c6e654-47d9-4eed-af67-182690cfd044"
      },
      "execution_count": null,
      "outputs": [
        {
          "output_type": "execute_result",
          "data": {
            "text/plain": [
              "[[1, 2, 3], [1, 2, 3], [1, 2, 3]]"
            ]
          },
          "metadata": {},
          "execution_count": 57
        }
      ]
    },
    {
      "cell_type": "code",
      "source": [
        "# Set\n",
        "ex = {1,2,3,4}\n",
        "ex * 2 # * doesn't work with set # Set : Repeatation is not allowed, duplicates."
      ],
      "metadata": {
        "colab": {
          "base_uri": "https://localhost:8080/",
          "height": 176
        },
        "id": "NU6vpsj3POk-",
        "outputId": "f211e4c5-a3e5-4d9d-a336-17ac7ae79afd"
      },
      "execution_count": null,
      "outputs": [
        {
          "output_type": "error",
          "ename": "TypeError",
          "evalue": "unsupported operand type(s) for *: 'set' and 'int'",
          "traceback": [
            "\u001b[0;31m---------------------------------------------------------------------------\u001b[0m",
            "\u001b[0;31mTypeError\u001b[0m                                 Traceback (most recent call last)",
            "\u001b[0;32m<ipython-input-55-c157aa19b8e7>\u001b[0m in \u001b[0;36m<cell line: 3>\u001b[0;34m()\u001b[0m\n\u001b[1;32m      1\u001b[0m \u001b[0;31m# Set\u001b[0m\u001b[0;34m\u001b[0m\u001b[0;34m\u001b[0m\u001b[0m\n\u001b[1;32m      2\u001b[0m \u001b[0mex\u001b[0m \u001b[0;34m=\u001b[0m \u001b[0;34m{\u001b[0m\u001b[0;36m1\u001b[0m\u001b[0;34m,\u001b[0m\u001b[0;36m2\u001b[0m\u001b[0;34m,\u001b[0m\u001b[0;36m3\u001b[0m\u001b[0;34m,\u001b[0m\u001b[0;36m4\u001b[0m\u001b[0;34m}\u001b[0m\u001b[0;34m\u001b[0m\u001b[0;34m\u001b[0m\u001b[0m\n\u001b[0;32m----> 3\u001b[0;31m \u001b[0mex\u001b[0m \u001b[0;34m*\u001b[0m \u001b[0;36m2\u001b[0m\u001b[0;34m\u001b[0m\u001b[0;34m\u001b[0m\u001b[0m\n\u001b[0m",
            "\u001b[0;31mTypeError\u001b[0m: unsupported operand type(s) for *: 'set' and 'int'"
          ]
        }
      ]
    },
    {
      "cell_type": "code",
      "source": [
        "# Dictionary\n",
        "ex  = {1:2, 3:4 }\n",
        "ex * 2 # doesn;t work, # Dictionary can't have duplicated keys"
      ],
      "metadata": {
        "colab": {
          "base_uri": "https://localhost:8080/",
          "height": 176
        },
        "id": "ODOFXvEUPZ17",
        "outputId": "b65ed803-aba5-4a34-c988-39d2ad3d785c"
      },
      "execution_count": null,
      "outputs": [
        {
          "output_type": "error",
          "ename": "TypeError",
          "evalue": "unsupported operand type(s) for *: 'dict' and 'int'",
          "traceback": [
            "\u001b[0;31m---------------------------------------------------------------------------\u001b[0m",
            "\u001b[0;31mTypeError\u001b[0m                                 Traceback (most recent call last)",
            "\u001b[0;32m<ipython-input-56-a8eecd74dc24>\u001b[0m in \u001b[0;36m<cell line: 3>\u001b[0;34m()\u001b[0m\n\u001b[1;32m      1\u001b[0m \u001b[0;31m# Dictionary\u001b[0m\u001b[0;34m\u001b[0m\u001b[0;34m\u001b[0m\u001b[0m\n\u001b[1;32m      2\u001b[0m \u001b[0mex\u001b[0m  \u001b[0;34m=\u001b[0m \u001b[0;34m{\u001b[0m\u001b[0;36m1\u001b[0m\u001b[0;34m:\u001b[0m\u001b[0;36m2\u001b[0m\u001b[0;34m,\u001b[0m \u001b[0;36m3\u001b[0m\u001b[0;34m:\u001b[0m\u001b[0;36m4\u001b[0m \u001b[0;34m}\u001b[0m\u001b[0;34m\u001b[0m\u001b[0;34m\u001b[0m\u001b[0m\n\u001b[0;32m----> 3\u001b[0;31m \u001b[0mex\u001b[0m \u001b[0;34m*\u001b[0m \u001b[0;36m2\u001b[0m \u001b[0;31m#\u001b[0m\u001b[0;34m\u001b[0m\u001b[0;34m\u001b[0m\u001b[0m\n\u001b[0m",
            "\u001b[0;31mTypeError\u001b[0m: unsupported operand type(s) for *: 'dict' and 'int'"
          ]
        }
      ]
    },
    {
      "cell_type": "code",
      "source": [
        "# {1:2, 3:4, 1:2, 3:4 } : It's not accepted"
      ],
      "metadata": {
        "id": "jj1QJNqoQHlk"
      },
      "execution_count": null,
      "outputs": []
    },
    {
      "cell_type": "code",
      "source": [
        "# * is applicable to ordered data types :String, list, tuple : Repeatation :: multiply with + ve int"
      ],
      "metadata": {
        "id": "hnGPFgeYPj6l"
      },
      "execution_count": null,
      "outputs": []
    },
    {
      "cell_type": "code",
      "source": [
        "# Apart from + and * , nothing can be applied on string, list, tuple, set, dict:  /, **, //, %"
      ],
      "metadata": {
        "id": "HMHn3k6PQBMt"
      },
      "execution_count": null,
      "outputs": []
    },
    {
      "cell_type": "code",
      "source": [
        "# - : Considered as difference operator for set :: can't be applied to string, list, tuple or dictionary"
      ],
      "metadata": {
        "id": "DYXRGuC_Qbk_"
      },
      "execution_count": null,
      "outputs": []
    },
    {
      "cell_type": "code",
      "source": [
        "# Comparison Operator\n",
        "# == , !=, > , < , >=, <=\n",
        "# We compare two different entities\n",
        "\n",
        "x = 10\n",
        "y = 34\n",
        "print( x > y ) # False  : Output in boolean\n",
        "print( x < y )  # True\n",
        "print( x >= y ) # False\n",
        "print( x <= y ) # True\n",
        "print( x == y) # False\n",
        "print(x != y) # True"
      ],
      "metadata": {
        "colab": {
          "base_uri": "https://localhost:8080/"
        },
        "id": "-11-R6moQurI",
        "outputId": "c14daf26-7258-4891-f398-bc8d8825f995"
      },
      "execution_count": null,
      "outputs": [
        {
          "output_type": "stream",
          "name": "stdout",
          "text": [
            "False\n",
            "True\n",
            "False\n",
            "True\n",
            "False\n",
            "True\n"
          ]
        }
      ]
    },
    {
      "cell_type": "code",
      "source": [
        "x = 8\n",
        "y = 8\n",
        "print(x >= y) # True\n",
        "print(x <= y) # True"
      ],
      "metadata": {
        "colab": {
          "base_uri": "https://localhost:8080/"
        },
        "id": "Ek4MeSUMRTM1",
        "outputId": "06ce4b76-c45e-4e27-885d-d511c4c5a484"
      },
      "execution_count": null,
      "outputs": [
        {
          "output_type": "stream",
          "name": "stdout",
          "text": [
            "True\n",
            "True\n"
          ]
        }
      ]
    },
    {
      "cell_type": "code",
      "source": [
        "# Data types -->\n",
        "# == , != is used for other data types\n",
        "# Rest comparison operators are not applicable to other data types\n",
        "# it will not give error but output you can't interpret.\n"
      ],
      "metadata": {
        "id": "qMfOqy4YRwSO"
      },
      "execution_count": null,
      "outputs": []
    },
    {
      "cell_type": "code",
      "source": [
        "ex = 'hello'\n",
        "ex2 = 'world'\n",
        "print(ex == ex2) # False\n",
        "print(ex != ex2) # True\n",
        "print(ex >= ex2) # There is no interpretation for the output: you are not going to use it.\n",
        "print(ex <= ex2)"
      ],
      "metadata": {
        "colab": {
          "base_uri": "https://localhost:8080/"
        },
        "id": "nFs1ZrhuSMPV",
        "outputId": "02f0909c-fdae-4d54-dc07-d8d51b3803e7"
      },
      "execution_count": null,
      "outputs": [
        {
          "output_type": "stream",
          "name": "stdout",
          "text": [
            "False\n",
            "True\n",
            "False\n",
            "True\n"
          ]
        }
      ]
    },
    {
      "cell_type": "code",
      "source": [
        "ex = [1,2,3,5,4,3]\n",
        "ex2 = [4,5,6,7]\n",
        "print(ex == ex2) # False\n",
        "print(ex != ex2) # True\n",
        "# print(ex <= ex2)"
      ],
      "metadata": {
        "colab": {
          "base_uri": "https://localhost:8080/"
        },
        "id": "8mTTufhjSSZt",
        "outputId": "c0d94584-a655-4f85-831d-0bec59fe0af5"
      },
      "execution_count": null,
      "outputs": [
        {
          "output_type": "stream",
          "name": "stdout",
          "text": [
            "False\n",
            "True\n"
          ]
        }
      ]
    },
    {
      "cell_type": "code",
      "source": [
        "# 18 <= 22 # Output: no error but of no use."
      ],
      "metadata": {
        "colab": {
          "base_uri": "https://localhost:8080/"
        },
        "id": "NBt7-UqhSwoS",
        "outputId": "f0d1361b-3dea-4762-e731-f66017a8935e"
      },
      "execution_count": null,
      "outputs": [
        {
          "output_type": "execute_result",
          "data": {
            "text/plain": [
              "True"
            ]
          },
          "metadata": {},
          "execution_count": 78
        }
      ]
    },
    {
      "cell_type": "code",
      "source": [
        "# tuple\n",
        "ex = (1,2,3)\n",
        "ex2 = (1,2,3)\n",
        "print(ex == ex2) # True\n",
        "print(ex != ex2) # False"
      ],
      "metadata": {
        "colab": {
          "base_uri": "https://localhost:8080/"
        },
        "id": "pErb1dxTTMVn",
        "outputId": "f51d88c9-51df-4af5-fa7d-fa7c2a1ecf54"
      },
      "execution_count": null,
      "outputs": [
        {
          "output_type": "stream",
          "name": "stdout",
          "text": [
            "True\n",
            "False\n"
          ]
        }
      ]
    },
    {
      "cell_type": "code",
      "source": [
        "ex = (1,2,3)\n",
        "ex2 = (2,1,3)\n",
        "print(ex == ex2) # output : False\n",
        "print(ex != ex2) # Output :  True"
      ],
      "metadata": {
        "colab": {
          "base_uri": "https://localhost:8080/"
        },
        "id": "9yl_pV2qT80K",
        "outputId": "aa26712f-a7ad-4fef-cdf1-0340c11d304b"
      },
      "execution_count": null,
      "outputs": [
        {
          "output_type": "stream",
          "name": "stdout",
          "text": [
            "False\n",
            "True\n"
          ]
        }
      ]
    },
    {
      "cell_type": "code",
      "source": [
        "# set\n",
        "ex = {1,2,3}\n",
        "ex2 = {2,1,3}\n",
        "print(ex == ex2) # True\n",
        "print(ex != ex2) # False"
      ],
      "metadata": {
        "colab": {
          "base_uri": "https://localhost:8080/"
        },
        "id": "0ktbBkOCTrwv",
        "outputId": "5fdd9127-e3e6-4df8-fa1a-74debf42958f"
      },
      "execution_count": null,
      "outputs": [
        {
          "output_type": "stream",
          "name": "stdout",
          "text": [
            "True\n",
            "False\n"
          ]
        }
      ]
    },
    {
      "cell_type": "code",
      "source": [
        "# Data types: Ordered vs Unordered (Tuple vs set)"
      ],
      "metadata": {
        "id": "MvaNlaEYT458"
      },
      "execution_count": null,
      "outputs": []
    },
    {
      "cell_type": "code",
      "source": [
        "# dictionary : Unordered\n",
        "ex = {1:2 , 3:4}\n",
        "ex2 = {3:4 , 1:2}\n",
        "print(ex == ex2) # True\n",
        "print(ex != ex2) # False\n",
        "# Same logic of set is applied to dictionary"
      ],
      "metadata": {
        "colab": {
          "base_uri": "https://localhost:8080/"
        },
        "id": "eRmP_qTFUY8P",
        "outputId": "0cc4ffec-cee2-4067-d455-1c01ce0c07f0"
      },
      "execution_count": null,
      "outputs": [
        {
          "output_type": "stream",
          "name": "stdout",
          "text": [
            "True\n",
            "False\n"
          ]
        }
      ]
    },
    {
      "cell_type": "code",
      "source": [
        "# Logical operators --> and , or , not"
      ],
      "metadata": {
        "id": "V7-6OSWPU_bU"
      },
      "execution_count": null,
      "outputs": []
    },
    {
      "cell_type": "code",
      "source": [
        "# and\n",
        "x = 10\n",
        "y = 30\n",
        "\n",
        "( x < y ) and  (x != y) # Both has to come out to be True to get the output as True"
      ],
      "metadata": {
        "colab": {
          "base_uri": "https://localhost:8080/"
        },
        "id": "ubl3rZIjWImL",
        "outputId": "609eba16-c308-425c-d0b0-2a6d024aa798"
      },
      "execution_count": null,
      "outputs": [
        {
          "output_type": "execute_result",
          "data": {
            "text/plain": [
              "True"
            ]
          },
          "metadata": {},
          "execution_count": 86
        }
      ]
    },
    {
      "cell_type": "code",
      "source": [
        "# I will Play cricket\n",
        "# Conditions are\n",
        "# weather is sunny and pitch is dry\n",
        "weather  = input('Enter the current weather: ') # rainy\n",
        "pitch = input('Enter the pitch report: ') # dry"
      ],
      "metadata": {
        "colab": {
          "base_uri": "https://localhost:8080/"
        },
        "id": "lxs5JYNBW_qf",
        "outputId": "6a9c592e-51aa-4744-ed01-c5ee1debe38d"
      },
      "execution_count": null,
      "outputs": [
        {
          "name": "stdout",
          "output_type": "stream",
          "text": [
            "Enter the current weather: spring\n",
            "Enter the pitch report: dry\n"
          ]
        }
      ]
    },
    {
      "cell_type": "code",
      "source": [
        "if weather == 'sunny' and pitch == 'dry':\n",
        "  print('I will play cricket')\n",
        " # True : Then only I will play cricket"
      ],
      "metadata": {
        "colab": {
          "base_uri": "https://localhost:8080/"
        },
        "id": "4aNI_jfYXWgt",
        "outputId": "2b401cdf-2363-4c7f-c8cc-d163f5691e30"
      },
      "execution_count": null,
      "outputs": [
        {
          "output_type": "stream",
          "name": "stdout",
          "text": [
            "I will play cricket\n"
          ]
        }
      ]
    },
    {
      "cell_type": "code",
      "source": [
        "# I want to eat chinese\n",
        "# Only if food = noodle and sauce = mayo\n",
        "food = input('Enter the food: ')\n",
        "sauce = input('Enter the sauce: ')\n"
      ],
      "metadata": {
        "colab": {
          "base_uri": "https://localhost:8080/"
        },
        "id": "zxHGy4DNX1I1",
        "outputId": "5c5d995c-cd07-48a8-ea2f-bc827f74a7af"
      },
      "execution_count": null,
      "outputs": [
        {
          "name": "stdout",
          "output_type": "stream",
          "text": [
            "Enter the food: momo\n",
            "Enter the sauce: mayo\n"
          ]
        }
      ]
    },
    {
      "cell_type": "code",
      "source": [
        "if food == 'noodle' and sauce == 'mayo': # --> Eat the food # Both the conditions must be true\n",
        "  print('I will eat food')"
      ],
      "metadata": {
        "id": "Q4sFWNyjYUkS"
      },
      "execution_count": null,
      "outputs": []
    },
    {
      "cell_type": "code",
      "source": [
        "# I want to eat chinese\n",
        "# Only if food = noodle or sauce = mayo\n",
        "food = input('Enter the food: ')\n",
        "sauce = input('Enter the sauce: ')"
      ],
      "metadata": {
        "colab": {
          "base_uri": "https://localhost:8080/"
        },
        "id": "RXVEns9JYfzK",
        "outputId": "b1482dfb-f952-4216-f3bf-c18524fd0f50"
      },
      "execution_count": null,
      "outputs": [
        {
          "name": "stdout",
          "output_type": "stream",
          "text": [
            "Enter the food: momo\n",
            "Enter the sauce: tomato\n"
          ]
        }
      ]
    },
    {
      "cell_type": "code",
      "source": [
        "if food == 'noodle' or sauce == 'mayo' : # --> Eat the food # Either of the condition is True : True\n",
        "  print('I will eat food')\n",
        "else:\n",
        "  print('I will not eat')\n",
        "# Forget about if - else - elif : Statements, indentation & Conditionals class"
      ],
      "metadata": {
        "colab": {
          "base_uri": "https://localhost:8080/"
        },
        "id": "xgVav4-uYy_N",
        "outputId": "a2a9968e-37af-4987-f964-b76041e3bb9c"
      },
      "execution_count": null,
      "outputs": [
        {
          "output_type": "stream",
          "name": "stdout",
          "text": [
            "I will not eat\n"
          ]
        }
      ]
    },
    {
      "cell_type": "code",
      "source": [
        "# and -- > All conditions must be True to get output as True\n",
        "# or --> atleast One of the condition should be True to get output as True\n",
        "\n",
        "# True and True --> True\n",
        "# True and False --> False\n",
        "# False and True --> False\n",
        "# False and False --> False\n",
        "\n",
        "# True or True --> True\n",
        "# True or False --> True\n",
        "# False or True --> True\n",
        "# False or False --> False"
      ],
      "metadata": {
        "id": "kdbuFbDGZE1K"
      },
      "execution_count": null,
      "outputs": []
    },
    {
      "cell_type": "code",
      "source": [
        "x = 45\n",
        "y = 67\n",
        "\n",
        "print((x != y) and (x > y)) # Output : False\n",
        "print((x != y) or (x > y)) # Output : True"
      ],
      "metadata": {
        "colab": {
          "base_uri": "https://localhost:8080/"
        },
        "id": "fTotYj98aHm0",
        "outputId": "16d34db7-aab1-4f0b-9809-4c1d2d18f3c5"
      },
      "execution_count": null,
      "outputs": [
        {
          "output_type": "stream",
          "name": "stdout",
          "text": [
            "False\n",
            "True\n"
          ]
        }
      ]
    },
    {
      "cell_type": "code",
      "source": [
        "# not\n",
        "# output the opposite of comparision\n",
        "x = 23\n",
        "y = 14\n",
        "\n",
        "print(x > y) # True\n",
        "print(not ( x > y )) # False || != : Compare two entities/ Variables ,\n",
        "# not will just make the output opposite"
      ],
      "metadata": {
        "colab": {
          "base_uri": "https://localhost:8080/"
        },
        "id": "8V85AtujaaPE",
        "outputId": "a884cafc-3023-4eaa-ec53-86a411ad8896"
      },
      "execution_count": null,
      "outputs": [
        {
          "output_type": "stream",
          "name": "stdout",
          "text": [
            "True\n",
            "False\n"
          ]
        }
      ]
    },
    {
      "cell_type": "code",
      "source": [
        "# and , or ,not if you have three together , sequence\n",
        "x = 5\n",
        "y = 9\n",
        "z = 8\n",
        "\n",
        "print((x < y) or (x != y) and not( x < z)) # True\n",
        "# Sequence of execution : not, and , or\n",
        "print( (x > y) or (x != y) and not( x < z) ) # False"
      ],
      "metadata": {
        "colab": {
          "base_uri": "https://localhost:8080/"
        },
        "id": "S7XylNTea9R2",
        "outputId": "315864eb-4ee0-49e4-a3b0-18aeeb979e6d"
      },
      "execution_count": null,
      "outputs": [
        {
          "output_type": "stream",
          "name": "stdout",
          "text": [
            "True\n",
            "False\n"
          ]
        }
      ]
    },
    {
      "cell_type": "code",
      "source": [
        "# 2 + 3 - 4 #"
      ],
      "metadata": {
        "id": "Z3TYUqY5ff3A"
      },
      "execution_count": null,
      "outputs": []
    },
    {
      "cell_type": "code",
      "source": [
        "# Membership Operator :: Boolean\n",
        "# in and not in\n",
        "# Only applicable to string, list, tuple, set and dictionaries\n",
        "\n",
        "ex = 'hello world'\n",
        "# if something is present in string\n",
        "print('h' in ex) # Checking an element in the collection of elements"
      ],
      "metadata": {
        "colab": {
          "base_uri": "https://localhost:8080/"
        },
        "id": "ikH0RfcUbj0L",
        "outputId": "c952ff16-7592-4d53-bf60-9a3fce9b87c4"
      },
      "execution_count": null,
      "outputs": [
        {
          "output_type": "stream",
          "name": "stdout",
          "text": [
            "True\n"
          ]
        }
      ]
    },
    {
      "cell_type": "code",
      "source": [
        "print('wo' in ex) # True"
      ],
      "metadata": {
        "colab": {
          "base_uri": "https://localhost:8080/"
        },
        "id": "2scuRqOUgjFB",
        "outputId": "5f6b1362-64c1-419f-a721-bd21f6df7607"
      },
      "execution_count": null,
      "outputs": [
        {
          "output_type": "stream",
          "name": "stdout",
          "text": [
            "True\n"
          ]
        }
      ]
    },
    {
      "cell_type": "code",
      "source": [
        "ex = [3,4,5,6]\n",
        "print( 6 in ex ) # True 6 is present in the list"
      ],
      "metadata": {
        "colab": {
          "base_uri": "https://localhost:8080/"
        },
        "id": "ufaZck6kgxvr",
        "outputId": "c968bcce-66de-4837-dbda-3acd50b7aa9d"
      },
      "execution_count": null,
      "outputs": [
        {
          "output_type": "stream",
          "name": "stdout",
          "text": [
            "True\n"
          ]
        }
      ]
    },
    {
      "cell_type": "code",
      "source": [
        "ex = [ [1,2], [3,4], 6, 7]\n",
        "print(1 in ex) # False [1,2] is the element in the list"
      ],
      "metadata": {
        "colab": {
          "base_uri": "https://localhost:8080/"
        },
        "id": "Ayq9MaKuhRoK",
        "outputId": "579f6786-2a66-44aa-872b-750691e63060"
      },
      "execution_count": null,
      "outputs": [
        {
          "output_type": "stream",
          "name": "stdout",
          "text": [
            "False\n"
          ]
        }
      ]
    },
    {
      "cell_type": "code",
      "source": [
        "print([1,2] in ex) # True [1,2] is the element in the list"
      ],
      "metadata": {
        "colab": {
          "base_uri": "https://localhost:8080/"
        },
        "id": "kmKYlkEEhg0M",
        "outputId": "b4f50b74-f67d-4401-e115-617546b346eb"
      },
      "execution_count": null,
      "outputs": [
        {
          "output_type": "stream",
          "name": "stdout",
          "text": [
            "True\n"
          ]
        }
      ]
    },
    {
      "cell_type": "code",
      "source": [
        "ex[0]"
      ],
      "metadata": {
        "colab": {
          "base_uri": "https://localhost:8080/"
        },
        "id": "ElipVlTCht4K",
        "outputId": "775ca6e6-4f8e-4175-eac6-8ce82797fe65"
      },
      "execution_count": null,
      "outputs": [
        {
          "output_type": "execute_result",
          "data": {
            "text/plain": [
              "[1, 2]"
            ]
          },
          "metadata": {},
          "execution_count": 118
        }
      ]
    },
    {
      "cell_type": "code",
      "source": [
        "ex = [ [1,2] , [3,4] , 6, 7]\n",
        "print( 1 in ex[0] ) # True\n",
        "print( 6 in ex[0]) # False\n",
        "print( 6 in ex) # True"
      ],
      "metadata": {
        "colab": {
          "base_uri": "https://localhost:8080/"
        },
        "id": "uWIgIiyKhlfK",
        "outputId": "4f7fa8e6-edb6-479b-8c6f-5a9e20d16446"
      },
      "execution_count": null,
      "outputs": [
        {
          "output_type": "stream",
          "name": "stdout",
          "text": [
            "True\n",
            "False\n",
            "True\n"
          ]
        }
      ]
    },
    {
      "cell_type": "code",
      "source": [
        "print( 3 in ex[1] ) # True"
      ],
      "metadata": {
        "colab": {
          "base_uri": "https://localhost:8080/"
        },
        "id": "dfGzUDFah38j",
        "outputId": "890bc330-ca05-429e-ad58-f2c07a306bf2"
      },
      "execution_count": null,
      "outputs": [
        {
          "output_type": "stream",
          "name": "stdout",
          "text": [
            "True\n"
          ]
        }
      ]
    },
    {
      "cell_type": "code",
      "source": [
        "# Opposite of in is not in\n",
        "ex = [3,4,5,6]\n",
        "print(6 not in ex) # Asking python : if 6 is not present in ex :: False\n"
      ],
      "metadata": {
        "colab": {
          "base_uri": "https://localhost:8080/"
        },
        "id": "bLBOsGJEiW91",
        "outputId": "9284ade2-b9cd-4cf3-8cd9-580dba839f77"
      },
      "execution_count": null,
      "outputs": [
        {
          "output_type": "stream",
          "name": "stdout",
          "text": [
            "False\n"
          ]
        }
      ]
    },
    {
      "cell_type": "code",
      "source": [
        "# tuple\n",
        "ex = (3,4,5,6)\n",
        "6 in ex # True :: Same logic is applied"
      ],
      "metadata": {
        "colab": {
          "base_uri": "https://localhost:8080/"
        },
        "id": "sr9UX0VGio4D",
        "outputId": "ad4f89ab-3f13-4724-9ad9-c129b907fc1f"
      },
      "execution_count": null,
      "outputs": [
        {
          "output_type": "execute_result",
          "data": {
            "text/plain": [
              "True"
            ]
          },
          "metadata": {},
          "execution_count": 124
        }
      ]
    },
    {
      "cell_type": "code",
      "source": [
        "8 not in ex # True"
      ],
      "metadata": {
        "colab": {
          "base_uri": "https://localhost:8080/"
        },
        "id": "PgYcPw8di2l0",
        "outputId": "761ed225-f254-4284-ae88-b1c620e68ab2"
      },
      "execution_count": null,
      "outputs": [
        {
          "output_type": "execute_result",
          "data": {
            "text/plain": [
              "True"
            ]
          },
          "metadata": {},
          "execution_count": 125
        }
      ]
    },
    {
      "cell_type": "code",
      "source": [
        "# Set\n",
        "ex = {2,3,4,5}\n",
        "print(4 in ex)"
      ],
      "metadata": {
        "colab": {
          "base_uri": "https://localhost:8080/"
        },
        "id": "c0kYrvFAizAK",
        "outputId": "909536f9-725a-4b9a-b71f-e559507def63"
      },
      "execution_count": null,
      "outputs": [
        {
          "output_type": "stream",
          "name": "stdout",
          "text": [
            "True\n"
          ]
        }
      ]
    },
    {
      "cell_type": "code",
      "source": [
        "# Dictionary\n",
        "\n",
        "ex = { 3:4 , 5:6 , 7:8 }\n",
        "\n",
        "print(4 in ex) # False # By default in keys it was checked.\n",
        "print(5 in ex) # True\n",
        "# What's happening here?\n",
        "# if you check in dictionary and not mention keys or values then by default keys are checked.\n",
        "print(4 in ex.values()) # True # .values() & .keys() are your methods\n",
        "print(7 in ex.keys()) # True\n"
      ],
      "metadata": {
        "colab": {
          "base_uri": "https://localhost:8080/"
        },
        "id": "6fq9QU8ejBrM",
        "outputId": "9cbd5d56-045e-47c9-ffdf-bf868a49d7d6"
      },
      "execution_count": null,
      "outputs": [
        {
          "output_type": "stream",
          "name": "stdout",
          "text": [
            "False\n",
            "True\n",
            "True\n",
            "True\n"
          ]
        }
      ]
    },
    {
      "cell_type": "code",
      "source": [
        "# Dictionary : Indexing by number : no || by keys you can index.\n",
        "# ex[5]"
      ],
      "metadata": {
        "colab": {
          "base_uri": "https://localhost:8080/"
        },
        "id": "igdA7RDkjXeW",
        "outputId": "56477a5f-c254-4317-d852-c006560f3f6f"
      },
      "execution_count": null,
      "outputs": [
        {
          "output_type": "execute_result",
          "data": {
            "text/plain": [
              "6"
            ]
          },
          "metadata": {},
          "execution_count": 132
        }
      ]
    },
    {
      "cell_type": "code",
      "source": [
        "# Assignment operators\n",
        "#  = it will assign value to a variable\n",
        "\n",
        "x = 5 # assign 5 to x\n",
        "#"
      ],
      "metadata": {
        "id": "pWC4lWA0kiAS"
      },
      "execution_count": null,
      "outputs": []
    },
    {
      "cell_type": "code",
      "source": [
        "x += 7 # x = x + 7 # += : Assignment operator\n",
        "print(x)"
      ],
      "metadata": {
        "colab": {
          "base_uri": "https://localhost:8080/"
        },
        "id": "v_1_wknvlZ6r",
        "outputId": "18e29200-ce5e-4495-da21-327eaeabdb4a"
      },
      "execution_count": null,
      "outputs": [
        {
          "output_type": "stream",
          "name": "stdout",
          "text": [
            "12\n"
          ]
        }
      ]
    },
    {
      "cell_type": "code",
      "source": [
        "x += 8 # x = x + 8\n",
        "print(x)"
      ],
      "metadata": {
        "colab": {
          "base_uri": "https://localhost:8080/"
        },
        "id": "m0rw5amQlrxk",
        "outputId": "88c6617c-c68f-48f4-d100-c70837097d77"
      },
      "execution_count": null,
      "outputs": [
        {
          "output_type": "stream",
          "name": "stdout",
          "text": [
            "20\n"
          ]
        }
      ]
    },
    {
      "cell_type": "code",
      "source": [
        "x -= 4 # x = x -4 # -= : Assignment operator"
      ],
      "metadata": {
        "id": "K2GSqtZ5l4ON"
      },
      "execution_count": null,
      "outputs": []
    },
    {
      "cell_type": "code",
      "source": [
        "print(x)"
      ],
      "metadata": {
        "colab": {
          "base_uri": "https://localhost:8080/"
        },
        "id": "6Wvv-QjumBkv",
        "outputId": "64bc65d6-008f-430f-baf5-04b7bcaa4c62"
      },
      "execution_count": null,
      "outputs": [
        {
          "output_type": "stream",
          "name": "stdout",
          "text": [
            "16\n"
          ]
        }
      ]
    },
    {
      "cell_type": "code",
      "source": [
        "x *= 2 # x = x * 2 # *= : Assignment operator\n",
        "print(x)"
      ],
      "metadata": {
        "colab": {
          "base_uri": "https://localhost:8080/"
        },
        "id": "vsUL__PJmCtF",
        "outputId": "e7888f0a-f973-4017-b5e6-465e7784c180"
      },
      "execution_count": null,
      "outputs": [
        {
          "output_type": "stream",
          "name": "stdout",
          "text": [
            "32\n"
          ]
        }
      ]
    },
    {
      "cell_type": "code",
      "source": [
        "x /= 3 # x = x/3 # /= : Assignment Operator\n",
        "print(x)"
      ],
      "metadata": {
        "colab": {
          "base_uri": "https://localhost:8080/"
        },
        "id": "gOuFIZ2DmaKj",
        "outputId": "7da791f3-3e17-41b5-d896-57edcdb88af0"
      },
      "execution_count": null,
      "outputs": [
        {
          "output_type": "stream",
          "name": "stdout",
          "text": [
            "10.666666666666666\n"
          ]
        }
      ]
    },
    {
      "cell_type": "code",
      "source": [
        "x //= 3 # x = x // 3 #\n",
        "print(x)"
      ],
      "metadata": {
        "colab": {
          "base_uri": "https://localhost:8080/"
        },
        "id": "X2y52wMomfj4",
        "outputId": "ede94432-4472-48b0-de24-154323d274ed"
      },
      "execution_count": null,
      "outputs": [
        {
          "output_type": "stream",
          "name": "stdout",
          "text": [
            "3.0\n"
          ]
        }
      ]
    },
    {
      "cell_type": "code",
      "source": [
        "x %= 2 # x = x % 3 #\n",
        "print(x)"
      ],
      "metadata": {
        "colab": {
          "base_uri": "https://localhost:8080/"
        },
        "id": "0Yu_ohPUmmaX",
        "outputId": "43c7d236-c903-4de3-fecf-bfc80d3c1367"
      },
      "execution_count": null,
      "outputs": [
        {
          "output_type": "stream",
          "name": "stdout",
          "text": [
            "1.0\n"
          ]
        }
      ]
    },
    {
      "cell_type": "code",
      "source": [
        "x **= 0.5 # x = x ** (0.5)\n",
        "print(x)"
      ],
      "metadata": {
        "colab": {
          "base_uri": "https://localhost:8080/"
        },
        "id": "8r7ngEu5msz9",
        "outputId": "ea2858d4-cb7e-4b12-fb47-7a9cc5d4f7b6"
      },
      "execution_count": null,
      "outputs": [
        {
          "output_type": "stream",
          "name": "stdout",
          "text": [
            "1.0\n"
          ]
        }
      ]
    },
    {
      "cell_type": "code",
      "source": [
        "x = 64\n",
        "print(x ** (1/2))"
      ],
      "metadata": {
        "colab": {
          "base_uri": "https://localhost:8080/"
        },
        "id": "xuajQ3iOmyz9",
        "outputId": "70fc480e-bd0d-4728-f5b9-f15cb05bc984"
      },
      "execution_count": null,
      "outputs": [
        {
          "output_type": "stream",
          "name": "stdout",
          "text": [
            "8.0\n"
          ]
        }
      ]
    },
    {
      "cell_type": "code",
      "source": [
        "# Combine arithmetic operation and = : New assignment operator\n"
      ],
      "metadata": {
        "id": "zu-f_h9DnAhb"
      },
      "execution_count": null,
      "outputs": []
    },
    {
      "cell_type": "code",
      "source": [
        "# Set Operator\n",
        "# | : union\n",
        "# & : Intersection\n",
        "# - : Difference Operator\n",
        "# Exploration Homework : Dashboard"
      ],
      "metadata": {
        "id": "NmXLFn3_nXIK"
      },
      "execution_count": null,
      "outputs": []
    }
  ]
}