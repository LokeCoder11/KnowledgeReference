{
  "nbformat": 4,
  "nbformat_minor": 0,
  "metadata": {
    "colab": {
      "provenance": [],
      "include_colab_link": true
    },
    "kernelspec": {
      "name": "python3",
      "display_name": "Python 3"
    },
    "language_info": {
      "name": "python"
    }
  },
  "cells": [
    {
      "cell_type": "markdown",
      "metadata": {
        "id": "view-in-github",
        "colab_type": "text"
      },
      "source": [
        "<a href=\"https://colab.research.google.com/github/LokeCoder11/KnowledgeReference/blob/main/Copy_of_OOPS_concept_practice_question.ipynb\" target=\"_parent\"><img src=\"https://colab.research.google.com/assets/colab-badge.svg\" alt=\"Open In Colab\"/></a>"
      ]
    },
    {
      "cell_type": "code",
      "execution_count": null,
      "metadata": {
        "id": "2zZVU48c-0z3"
      },
      "outputs": [],
      "source": [
        "# Question:\n",
        "\n",
        "# You are tasked with creating a simple program to manage inventory in a manufacturing plant.\n",
        "# Define a class called Product that represents a product in the inventory.\n",
        "# Each product should have attributes such as name, quantity, and price. # Instance variable\n",
        "\n",
        "# Write methods within the class to:\n",
        "\n",
        "# Method1 : Initialize the product with a name, initial quantity, and price. (Note : price should be encaptulated variable)\n",
        "# Method2 : Add a specified quantity to the product's current quantity.\n",
        "# Method3 : Subtract a specified quantity from the product's current quantity.\n",
        "# Method4 : Calculate the total value of the product (quantity * price).\n",
        "# Method5 : getter method for price\n",
        "# Method6 : Setter method for price\n",
        "# Object: create an instance of the Product class for a product named \"lamp\" with an initial quantity of 100 and a price of $10.\n",
        "\n",
        "# Perform the following operations on the lamp:\n",
        "\n",
        "# Add 50 more lamp to the inventory.\n",
        "# Subtract 30 lamp from the inventory.\n",
        "# Print the total value of the remaining lamp.\n",
        "# Change the price to $12 and again print the total value of the remaining lamp\n",
        "\n"
      ]
    },
    {
      "cell_type": "code",
      "source": [
        "# time limit 8:15 PM.\n",
        "class product:\n",
        "  def __init__(self,name, quantity, price):\n",
        "    self.name = name\n",
        "    self.quantity = quantity\n",
        "    self.__price = price # Encaptulated the price : __ (I restrict the access of this variable)\n",
        "\n",
        "  def add_quantity(self,new_quantity):\n",
        "    self.quantity += new_quantity\n",
        "    return self.quantity\n",
        "\n",
        "  def sub_quantity(self,out_quantity):\n",
        "    if self.quantity >= out_quantity:\n",
        "      self.quantity -= out_quantity # self.quantity = self.quantity  - out_quantity\n",
        "      return self.quantity\n",
        "    else:\n",
        "      print('Insufficient quantity present')\n",
        "\n",
        "  def product_total_value(self):\n",
        "    return self.quantity * self.__price\n",
        "\n",
        "\n",
        "  def display_price(self): # getter method\n",
        "    return self.__price\n",
        "\n",
        "\n",
        "  def update_price(self,new_price): # setter method\n",
        "    self.__price = new_price\n",
        "    return self.__price\n",
        "\n",
        "\n",
        "\n",
        "\n",
        "\n",
        "# Inventory : List the product , add the quantity, sub the quantity\n"
      ],
      "metadata": {
        "id": "k3Tq2senSNwu"
      },
      "execution_count": null,
      "outputs": []
    },
    {
      "cell_type": "code",
      "source": [
        "# Object: create an instance of the Product class for a product named \"lamp\" with an initial quantity of 100 and a price of $10.\n",
        "\n",
        "# Perform the following operations on the lamp:\n",
        "\n",
        "# Add 50 more lamp to the inventory.\n",
        "# Subtract 30 lamp from the inventory.\n",
        "# Print the total value of the remaining lamp.\n",
        "# Change the price to $12 and again print the total value of the remaining lamp"
      ],
      "metadata": {
        "id": "RssarN6UYALi"
      },
      "execution_count": null,
      "outputs": []
    },
    {
      "cell_type": "code",
      "source": [
        "p1 = product(name = 'lamp',quantity=100, price = 10) # p1 is the object"
      ],
      "metadata": {
        "id": "CyHJaYpLYILk"
      },
      "execution_count": null,
      "outputs": []
    },
    {
      "cell_type": "code",
      "source": [
        "p1.add_quantity(new_quantity = 50)"
      ],
      "metadata": {
        "colab": {
          "base_uri": "https://localhost:8080/"
        },
        "id": "gkMa-UkxYOm-",
        "outputId": "e99e4006-bf0d-48b9-cb56-bf97e8a5d86b"
      },
      "execution_count": null,
      "outputs": [
        {
          "output_type": "execute_result",
          "data": {
            "text/plain": [
              "150"
            ]
          },
          "metadata": {},
          "execution_count": 3
        }
      ]
    },
    {
      "cell_type": "code",
      "source": [
        "p1.sub_quantity(out_quantity = 30)"
      ],
      "metadata": {
        "colab": {
          "base_uri": "https://localhost:8080/"
        },
        "id": "PtJiF-BiYchA",
        "outputId": "1ea9856a-de30-4221-ea85-ddf7ff7aa773"
      },
      "execution_count": null,
      "outputs": [
        {
          "output_type": "execute_result",
          "data": {
            "text/plain": [
              "70"
            ]
          },
          "metadata": {},
          "execution_count": 13
        }
      ]
    },
    {
      "cell_type": "code",
      "source": [
        "p1.product_total_value() # 120 * 10 = 1200"
      ],
      "metadata": {
        "colab": {
          "base_uri": "https://localhost:8080/"
        },
        "id": "Yw1pPIqdYinh",
        "outputId": "91a6ddfd-73a5-442e-d7d9-ae354444c566"
      },
      "execution_count": null,
      "outputs": [
        {
          "output_type": "execute_result",
          "data": {
            "text/plain": [
              "1200"
            ]
          },
          "metadata": {},
          "execution_count": 5
        }
      ]
    },
    {
      "cell_type": "code",
      "source": [
        "p1.display_price()"
      ],
      "metadata": {
        "colab": {
          "base_uri": "https://localhost:8080/"
        },
        "id": "yis62Rd-YrCu",
        "outputId": "5972902a-8601-4b84-972c-87f9ef24da2d"
      },
      "execution_count": null,
      "outputs": [
        {
          "output_type": "execute_result",
          "data": {
            "text/plain": [
              "10"
            ]
          },
          "metadata": {},
          "execution_count": 6
        }
      ]
    },
    {
      "cell_type": "code",
      "source": [
        "p1.update_price(new_price = 12)"
      ],
      "metadata": {
        "colab": {
          "base_uri": "https://localhost:8080/"
        },
        "id": "YnnwAqehY4Rk",
        "outputId": "3c563666-3699-459b-ede0-6a182aa9edc7"
      },
      "execution_count": null,
      "outputs": [
        {
          "output_type": "execute_result",
          "data": {
            "text/plain": [
              "12"
            ]
          },
          "metadata": {},
          "execution_count": 8
        }
      ]
    },
    {
      "cell_type": "code",
      "source": [
        "p1.product_total_value() # 120 * 12 = 1440"
      ],
      "metadata": {
        "colab": {
          "base_uri": "https://localhost:8080/"
        },
        "id": "kdrTUozIY8G1",
        "outputId": "180d9325-952e-4429-a7c7-b907e8a8cc08"
      },
      "execution_count": null,
      "outputs": [
        {
          "output_type": "execute_result",
          "data": {
            "text/plain": [
              "1440"
            ]
          },
          "metadata": {},
          "execution_count": 9
        }
      ]
    },
    {
      "cell_type": "code",
      "source": [
        "# Encryption : Applied on Databases or tables, data sorted\n",
        "\n",
        "# Encaptulation : in a class which is running right now, you won;t be able to access the variable.\n"
      ],
      "metadata": {
        "id": "Qu8E5cetZEKO"
      },
      "execution_count": null,
      "outputs": []
    },
    {
      "cell_type": "code",
      "source": [
        "# facebook : Data Company : Which feeds on your behaviour\n",
        "# Digital Marketing : Target Audience -> Behaviour or characteristics of users --> Interaction with platform, post, follow, comment, message, recent location :\n",
        "# Revenue model based on the ad --> Pay per click\n",
        "\n",
        "# Malicious files : Image download: meme,  keylogger\n",
        "\n",
        "\n"
      ],
      "metadata": {
        "id": "3MHaOgWfbfiV"
      },
      "execution_count": null,
      "outputs": []
    }
  ]
}